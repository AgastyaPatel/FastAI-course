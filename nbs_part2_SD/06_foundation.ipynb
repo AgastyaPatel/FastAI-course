{
 "cells": [
  {
   "cell_type": "code",
   "execution_count": 1,
   "id": "fcda4c48-7a77-4ada-b0cc-e5355b20644b",
   "metadata": {},
   "outputs": [],
   "source": [
    "import torch\n",
    "import matplotlib.pyplot as plt\n",
    "import random"
   ]
  },
  {
   "cell_type": "markdown",
   "id": "651bd1f4-204f-44b7-9191-8a3c14405561",
   "metadata": {},
   "source": [
    "## Callbacks\n",
    "### Callbacks as GUI events"
   ]
  },
  {
   "cell_type": "code",
   "execution_count": 2,
   "id": "acc50e65-59ab-471b-bc5a-38744d6fbe95",
   "metadata": {},
   "outputs": [],
   "source": [
    "import ipywidgets as widgets"
   ]
  },
  {
   "cell_type": "code",
   "execution_count": 11,
   "id": "10885e65-c32d-487f-a8e7-199c9eb11d1c",
   "metadata": {},
   "outputs": [],
   "source": [
    "w = widgets.Button(description='click me')\n",
    "output = widgets.Output()"
   ]
  },
  {
   "cell_type": "code",
   "execution_count": 15,
   "id": "71750848-dc96-482d-8a79-dd091756ee88",
   "metadata": {},
   "outputs": [],
   "source": [
    "def f(o): \n",
    "    with output:\n",
    "        print('Hi')"
   ]
  },
  {
   "cell_type": "code",
   "execution_count": 16,
   "id": "faccc3e0-1502-4559-a2e9-1fa14e46fc89",
   "metadata": {},
   "outputs": [],
   "source": [
    "w.on_click(f)"
   ]
  },
  {
   "cell_type": "code",
   "execution_count": 17,
   "id": "c66104fc-d375-4506-abc1-70a576bde74d",
   "metadata": {},
   "outputs": [
    {
     "data": {
      "application/vnd.jupyter.widget-view+json": {
       "model_id": "da264814d888458386c60e038844d504",
       "version_major": 2,
       "version_minor": 0
      },
      "text/plain": [
       "Button(description='click me', style=ButtonStyle())"
      ]
     },
     "metadata": {},
     "output_type": "display_data"
    },
    {
     "data": {
      "application/vnd.jupyter.widget-view+json": {
       "model_id": "7d214b6cbab34cb282176f5ea9f7fd01",
       "version_major": 2,
       "version_minor": 0
      },
      "text/plain": [
       "Output(outputs=({'name': 'stdout', 'text': 'Hi\\n', 'output_type': 'stream'},))"
      ]
     },
     "metadata": {},
     "output_type": "display_data"
    }
   ],
   "source": [
    "display(w, output)"
   ]
  },
  {
   "cell_type": "markdown",
   "id": "2e198a2e-bf7f-41a8-ac6e-bb9d0f616c6e",
   "metadata": {},
   "source": [
    "### Creating your own callback"
   ]
  },
  {
   "cell_type": "code",
   "execution_count": 18,
   "id": "314e2b7c-e5e3-45d2-ac13-33193cae159a",
   "metadata": {},
   "outputs": [],
   "source": [
    "from time import sleep"
   ]
  },
  {
   "cell_type": "code",
   "execution_count": 21,
   "id": "6e24fe0d-c77d-4b7e-bbdf-c9b410a6ec81",
   "metadata": {},
   "outputs": [],
   "source": [
    "def slow_calculation():\n",
    "    res = 0\n",
    "    for i in range(5):\n",
    "        res += i*i\n",
    "        sleep(1)\n",
    "    return res"
   ]
  },
  {
   "cell_type": "code",
   "execution_count": 23,
   "id": "bd798d46-e572-4a46-ac6c-04433fb29a48",
   "metadata": {},
   "outputs": [
    {
     "data": {
      "text/plain": [
       "30"
      ]
     },
     "execution_count": 23,
     "metadata": {},
     "output_type": "execute_result"
    }
   ],
   "source": [
    "slow_calculation()"
   ]
  },
  {
   "cell_type": "code",
   "execution_count": 25,
   "id": "c6bf7ee0-416a-49c1-bb07-50ecf7d49824",
   "metadata": {},
   "outputs": [],
   "source": [
    "def slow_calculation(cb=None):\n",
    "    res = 0\n",
    "    for i in range(5):\n",
    "        res += i*i\n",
    "        sleep(i)\n",
    "        if cb: cb(i)\n",
    "    return res"
   ]
  },
  {
   "cell_type": "code",
   "execution_count": 28,
   "id": "6dfbaba4-a2da-4b58-b133-200295dab584",
   "metadata": {},
   "outputs": [],
   "source": [
    "def show_progress(epoch): print(f\"Awesome! We've finished epoch {epoch}\")"
   ]
  },
  {
   "cell_type": "code",
   "execution_count": 29,
   "id": "020b2910-6ca6-4ffc-a87f-3cefd5fa1878",
   "metadata": {},
   "outputs": [
    {
     "name": "stdout",
     "output_type": "stream",
     "text": [
      "Awesome! We've finished epoch 0\n",
      "Awesome! We've finished epoch 1\n",
      "Awesome! We've finished epoch 2\n",
      "Awesome! We've finished epoch 3\n",
      "Awesome! We've finished epoch 4\n"
     ]
    },
    {
     "data": {
      "text/plain": [
       "30"
      ]
     },
     "execution_count": 29,
     "metadata": {},
     "output_type": "execute_result"
    }
   ],
   "source": [
    "slow_calculation(cb=show_progress)"
   ]
  },
  {
   "cell_type": "markdown",
   "id": "2edce0d1-016a-4c35-bfc9-0132602422d5",
   "metadata": {},
   "source": [
    "### Lambdas and partials\n"
   ]
  },
  {
   "cell_type": "code",
   "execution_count": 32,
   "id": "18eef89a-5832-4485-9aab-8364e115e079",
   "metadata": {},
   "outputs": [
    {
     "name": "stdout",
     "output_type": "stream",
     "text": [
      "Awesome! We've finished epoch 0\n",
      "Awesome! We've finished epoch 1\n",
      "Awesome! We've finished epoch 2\n",
      "Awesome! We've finished epoch 3\n",
      "Awesome! We've finished epoch 4\n"
     ]
    },
    {
     "data": {
      "text/plain": [
       "30"
      ]
     },
     "execution_count": 32,
     "metadata": {},
     "output_type": "execute_result"
    }
   ],
   "source": [
    "slow_calculation(lambda o: print(f\"Awesome! We've finished epoch {o}\"))"
   ]
  },
  {
   "cell_type": "code",
   "execution_count": 34,
   "id": "a8729d7a-26bd-46e5-abda-8b845977f61f",
   "metadata": {},
   "outputs": [],
   "source": [
    "def show_progress(exclamation, epoch): print(f\"{exclamation}! We've finished epoch {epoch}\")"
   ]
  },
  {
   "cell_type": "code",
   "execution_count": 35,
   "id": "b69bb4e2-e56f-4c37-8713-18d0959bfdd5",
   "metadata": {},
   "outputs": [
    {
     "name": "stdout",
     "output_type": "stream",
     "text": [
      "Ok I guess! We've finished epoch 0\n",
      "Ok I guess! We've finished epoch 1\n",
      "Ok I guess! We've finished epoch 2\n",
      "Ok I guess! We've finished epoch 3\n",
      "Ok I guess! We've finished epoch 4\n"
     ]
    },
    {
     "data": {
      "text/plain": [
       "30"
      ]
     },
     "execution_count": 35,
     "metadata": {},
     "output_type": "execute_result"
    }
   ],
   "source": [
    "slow_calculation(lambda o: show_progress(\"Ok I guess\", o))"
   ]
  },
  {
   "cell_type": "code",
   "execution_count": 36,
   "id": "8e98875b-4ddf-4597-b100-ff355b5be7c7",
   "metadata": {},
   "outputs": [],
   "source": [
    "def make_show_progress(exclamation):\n",
    "    def _inner(epoch): print(f\"{exclamation}! We've finished epoch {epoch}!\")\n",
    "    return _inner"
   ]
  },
  {
   "cell_type": "code",
   "execution_count": 37,
   "id": "c364ec84-05c7-4e27-bd23-26e4159acb93",
   "metadata": {},
   "outputs": [
    {
     "name": "stdout",
     "output_type": "stream",
     "text": [
      "Nice!! We've finished epoch 0!\n",
      "Nice!! We've finished epoch 1!\n",
      "Nice!! We've finished epoch 2!\n",
      "Nice!! We've finished epoch 3!\n",
      "Nice!! We've finished epoch 4!\n"
     ]
    },
    {
     "data": {
      "text/plain": [
       "30"
      ]
     },
     "execution_count": 37,
     "metadata": {},
     "output_type": "execute_result"
    }
   ],
   "source": [
    "slow_calculation(make_show_progress('Nice!'))"
   ]
  },
  {
   "cell_type": "code",
   "execution_count": 38,
   "id": "e09a4869-9509-48e9-ac83-7bcbe6b90fca",
   "metadata": {},
   "outputs": [],
   "source": [
    "from functools import partial"
   ]
  },
  {
   "cell_type": "code",
   "execution_count": 43,
   "id": "f14c078c-b51e-4ef8-845d-147613153126",
   "metadata": {},
   "outputs": [
    {
     "name": "stdout",
     "output_type": "stream",
     "text": [
      "0! We've finished epoch OK I guess\n",
      "1! We've finished epoch OK I guess\n",
      "2! We've finished epoch OK I guess\n",
      "3! We've finished epoch OK I guess\n",
      "4! We've finished epoch OK I guess\n"
     ]
    },
    {
     "data": {
      "text/plain": [
       "30"
      ]
     },
     "execution_count": 43,
     "metadata": {},
     "output_type": "execute_result"
    }
   ],
   "source": [
    "slow_calculation(partial(show_progress, epoch=\"OK I guess\"))"
   ]
  },
  {
   "cell_type": "code",
   "execution_count": 44,
   "id": "b910186b-26f4-443c-a914-05e657bdf620",
   "metadata": {},
   "outputs": [],
   "source": [
    "f2 = partial(show_progress, \"OK I guess\")"
   ]
  },
  {
   "cell_type": "code",
   "execution_count": 45,
   "id": "e9716204-ea82-4e89-8b13-fa74a8c9e11b",
   "metadata": {},
   "outputs": [
    {
     "name": "stdout",
     "output_type": "stream",
     "text": [
      "OK I guess! We've finished epoch 1\n"
     ]
    }
   ],
   "source": [
    "f2(1)"
   ]
  },
  {
   "cell_type": "markdown",
   "id": "413411a0-6205-4080-a497-6f0cc7041af0",
   "metadata": {},
   "source": [
    "### Callbacks as callable classes"
   ]
  },
  {
   "cell_type": "code",
   "execution_count": 49,
   "id": "1e141efb-95cd-4ca7-8abd-44177352d689",
   "metadata": {},
   "outputs": [],
   "source": [
    "class ProgressShowingCallback():\n",
    "    def __init__(self, exclamation=\"Awesome\"): self.exclamation = exclamation\n",
    "    def __call__(self, epoch): print(f\"{self.exclamation}! We've finished epoch {epoch}\")"
   ]
  },
  {
   "cell_type": "code",
   "execution_count": 50,
   "id": "818a8221-d868-434d-ac6d-e3360a507758",
   "metadata": {},
   "outputs": [],
   "source": [
    "cb = ProgressShowingCallback(\"Just Super\")"
   ]
  },
  {
   "cell_type": "code",
   "execution_count": 51,
   "id": "b080cc57-4e70-4588-9c84-e93e7ea084b6",
   "metadata": {},
   "outputs": [
    {
     "name": "stdout",
     "output_type": "stream",
     "text": [
      "Just Super! We've finished epoch 0\n",
      "Just Super! We've finished epoch 1\n",
      "Just Super! We've finished epoch 2\n",
      "Just Super! We've finished epoch 3\n",
      "Just Super! We've finished epoch 4\n"
     ]
    },
    {
     "data": {
      "text/plain": [
       "30"
      ]
     },
     "execution_count": 51,
     "metadata": {},
     "output_type": "execute_result"
    }
   ],
   "source": [
    "slow_calculation(cb)"
   ]
  },
  {
   "cell_type": "markdown",
   "id": "10a2d033-b5c6-4a34-92bc-0ee2f3f924a7",
   "metadata": {},
   "source": [
    "### Multiple callback funcs: `*args` `**kwargs`"
   ]
  },
  {
   "cell_type": "code",
   "execution_count": 52,
   "id": "cab8e171-6e88-4d43-854e-878478cc79ca",
   "metadata": {},
   "outputs": [],
   "source": [
    "def f(*a, **b): print(f\"args: {a}, kwargs: {b}\")"
   ]
  },
  {
   "cell_type": "code",
   "execution_count": 53,
   "id": "f1eda83d-4ccc-4be3-b2aa-d31cd00e55eb",
   "metadata": {},
   "outputs": [
    {
     "name": "stdout",
     "output_type": "stream",
     "text": [
      "args: (1, 2, 3), kwargs: {'a': 'a', 'b': 'b'}\n"
     ]
    }
   ],
   "source": [
    "f(1,2,3, a=\"a\", b=\"b\")"
   ]
  },
  {
   "cell_type": "code",
   "execution_count": 54,
   "id": "073d5ea9-e455-4f57-97b9-6b1c486464a6",
   "metadata": {},
   "outputs": [],
   "source": [
    "def g(a,b,c=0): print(a,b,c)"
   ]
  },
  {
   "cell_type": "code",
   "execution_count": 55,
   "id": "d88af099-38bf-42d1-86f1-d19da5ef3232",
   "metadata": {},
   "outputs": [
    {
     "name": "stdout",
     "output_type": "stream",
     "text": [
      "1 2 3\n"
     ]
    }
   ],
   "source": [
    "args = [1,2]\n",
    "kwargs = {'c': 3}\n",
    "g(*args, **kwargs)"
   ]
  },
  {
   "cell_type": "code",
   "execution_count": 57,
   "id": "163480eb-230f-4ce7-84cc-cbb75a1ededf",
   "metadata": {},
   "outputs": [],
   "source": [
    "def slow_calculation(cb=None):\n",
    "    res=0\n",
    "    for i in range(5):\n",
    "        if cb: cb.before_calc(i)\n",
    "        res += i*i\n",
    "        if cb: cb.after_calc(i, val=res)\n",
    "    return res"
   ]
  },
  {
   "cell_type": "code",
   "execution_count": 58,
   "id": "797aca90-1946-4e90-8822-68291a803972",
   "metadata": {},
   "outputs": [],
   "source": [
    "class PrintStepCallback():\n",
    "    def before_calc(self, *args, **kwargs): print(f\"About to start\")\n",
    "    def after_calc(self, *args, **kwargs): print(f\"Done Step\")"
   ]
  },
  {
   "cell_type": "code",
   "execution_count": 59,
   "id": "0cc78f44-6c7f-4d45-8160-8dc7d241abdc",
   "metadata": {},
   "outputs": [
    {
     "name": "stdout",
     "output_type": "stream",
     "text": [
      "About to start\n",
      "Done Step\n",
      "About to start\n",
      "Done Step\n",
      "About to start\n",
      "Done Step\n",
      "About to start\n",
      "Done Step\n",
      "About to start\n",
      "Done Step\n"
     ]
    },
    {
     "data": {
      "text/plain": [
       "30"
      ]
     },
     "execution_count": 59,
     "metadata": {},
     "output_type": "execute_result"
    }
   ],
   "source": [
    "slow_calculation(PrintStepCallback())"
   ]
  },
  {
   "cell_type": "code",
   "execution_count": 61,
   "id": "3ad39349-6936-46d7-887c-0fe6a55fad14",
   "metadata": {},
   "outputs": [],
   "source": [
    "class PrintStatusCallback():\n",
    "    def __init__(self): pass\n",
    "    def before_calc(self, epoch, **kwargs): print(f\"About to start: {epoch}\")\n",
    "    def after_calc(self, epoch, val, **kwargs): print(f\"After {epoch}: {val}\")"
   ]
  },
  {
   "cell_type": "code",
   "execution_count": 62,
   "id": "0bf730b5-fd6a-489c-bfb8-5b21024fc01b",
   "metadata": {},
   "outputs": [
    {
     "name": "stdout",
     "output_type": "stream",
     "text": [
      "About to start: 0\n",
      "After 0: 0\n",
      "About to start: 1\n",
      "After 1: 1\n",
      "About to start: 2\n",
      "After 2: 5\n",
      "About to start: 3\n",
      "After 3: 14\n",
      "About to start: 4\n",
      "After 4: 30\n"
     ]
    },
    {
     "data": {
      "text/plain": [
       "30"
      ]
     },
     "execution_count": 62,
     "metadata": {},
     "output_type": "execute_result"
    }
   ],
   "source": [
    "slow_calculation(PrintStatusCallback())"
   ]
  },
  {
   "cell_type": "markdown",
   "id": "a2f42514-cf1c-4744-b4ed-232dea6d7089",
   "metadata": {},
   "source": [
    "### Modifying behaviour\n"
   ]
  },
  {
   "cell_type": "code",
   "execution_count": 65,
   "id": "4df37419-b751-41ca-a879-2c7594b6537e",
   "metadata": {},
   "outputs": [],
   "source": [
    "def slow_calculation(cb=None):\n",
    "    res=0\n",
    "    for i in range(5):\n",
    "        if cb and hasattr(cb, \"before_calc\"): cb.before_calc(i)\n",
    "        res += i*i\n",
    "        sleep(1)\n",
    "        if cb and hasattr(cb, \"after_calc\"): \n",
    "            if cb.after_calc(i, res):\n",
    "                print('Stopping Early')\n",
    "                break\n",
    "    return res"
   ]
  },
  {
   "cell_type": "code",
   "execution_count": 66,
   "id": "aec19343-3f6f-4a59-98b9-a7aee063af90",
   "metadata": {},
   "outputs": [],
   "source": [
    "class PrintAfterCallback():\n",
    "    def after_calc (self, epoch, val):\n",
    "        print(f\"After {epoch}: {val}\")\n",
    "        if val>10: return True"
   ]
  },
  {
   "cell_type": "code",
   "execution_count": 67,
   "id": "795ea152-2d34-4473-9ac2-1e9bc5ff41ce",
   "metadata": {},
   "outputs": [
    {
     "name": "stdout",
     "output_type": "stream",
     "text": [
      "After 0: 0\n",
      "After 1: 1\n",
      "After 2: 5\n",
      "After 3: 14\n",
      "Stopping Early\n"
     ]
    },
    {
     "data": {
      "text/plain": [
       "14"
      ]
     },
     "execution_count": 67,
     "metadata": {},
     "output_type": "execute_result"
    }
   ],
   "source": [
    "slow_calculation(PrintAfterCallback())"
   ]
  },
  {
   "cell_type": "code",
   "execution_count": 70,
   "id": "4847a1a4-7183-4c61-9328-6fc5d40185d3",
   "metadata": {},
   "outputs": [],
   "source": [
    "class SlowCalculator():\n",
    "    def __init__(self, cb=None): self.cb, self.res = cb, 0\n",
    "    def callback(self, cb_name, *args):\n",
    "        if not self.cb: return\n",
    "        cb = getattr(self.cb, cb_name, None)\n",
    "        if cb: return cb(self, *args)\n",
    "    def calc(self):\n",
    "        for i in range(5):\n",
    "            self.callback('before_calc', i)\n",
    "            self.res += i*i\n",
    "            sleep(1)\n",
    "            if self.callback('after_calc', i):\n",
    "                print(\"stopping early\")\n",
    "                break"
   ]
  },
  {
   "cell_type": "code",
   "execution_count": 71,
   "id": "f53b4f83-dab3-4448-bc3d-2342e4f6e1b6",
   "metadata": {},
   "outputs": [],
   "source": [
    "class ModifyingCallback():\n",
    "    def after_calc(self, calc, epoch):\n",
    "        print(f\"After {epoch}: {calc.res}\")\n",
    "        if calc.res>10: return True\n",
    "        if calc.res<3: calc.res = calc.res*2"
   ]
  },
  {
   "cell_type": "code",
   "execution_count": 72,
   "id": "10b3578a-cca4-418f-994d-58105bc82122",
   "metadata": {},
   "outputs": [],
   "source": [
    "calculator = SlowCalculator(ModifyingCallback())"
   ]
  },
  {
   "cell_type": "code",
   "execution_count": 73,
   "id": "f91c0246-6dc8-48a0-82d9-6136a60aab8e",
   "metadata": {},
   "outputs": [
    {
     "name": "stdout",
     "output_type": "stream",
     "text": [
      "After 0: 0\n",
      "After 1: 1\n",
      "After 2: 6\n",
      "After 3: 15\n",
      "stopping early\n"
     ]
    }
   ],
   "source": [
    "calculator.calc()"
   ]
  },
  {
   "cell_type": "code",
   "execution_count": 74,
   "id": "aa86c71b-cb7a-4a57-ba93-1cb1781b82db",
   "metadata": {},
   "outputs": [
    {
     "data": {
      "text/plain": [
       "15"
      ]
     },
     "execution_count": 74,
     "metadata": {},
     "output_type": "execute_result"
    }
   ],
   "source": [
    "calculator.res"
   ]
  },
  {
   "cell_type": "markdown",
   "id": "e86e8b06-bb54-4620-bc5b-bb7adc5e5864",
   "metadata": {},
   "source": [
    "## __dunder__ thingies\n",
    "Anything that looks like __this__ is, in some way, special. Python, or some library, can define some functions that they will call at certain documented times. For instance, when your class is setting up a new object, python will call __init__. These are defined as part of the python data model.\n",
    "\n",
    "For instance, if python sees +, then it will call the special method __add__. If you try to display an object in Jupyter (or lots of other places in Python) it will call __repr__."
   ]
  },
  {
   "cell_type": "code",
   "execution_count": 77,
   "id": "58b6abad-10b3-4320-b348-72ab1f12c1b3",
   "metadata": {},
   "outputs": [],
   "source": [
    "class SloppyAdder():\n",
    "    def __init__(self,o): self.o=o\n",
    "    def __add__(self,b): return SloppyAdder(self.o + b.o + 0.01)\n",
    "    def __repr__(self): return str(self.o)"
   ]
  },
  {
   "cell_type": "code",
   "execution_count": 78,
   "id": "0b1ddaa4-e557-4d44-a330-700359c0b47a",
   "metadata": {},
   "outputs": [
    {
     "data": {
      "text/plain": [
       "3.01"
      ]
     },
     "execution_count": 78,
     "metadata": {},
     "output_type": "execute_result"
    }
   ],
   "source": [
    "a = SloppyAdder(1)\n",
    "b = SloppyAdder(2)\n",
    "a+b"
   ]
  },
  {
   "cell_type": "markdown",
   "id": "2609423a-4a06-4993-b232-1530b0f6c2bc",
   "metadata": {},
   "source": [
    "Special methods you should probably know about (see data model link above) are:\n",
    "\n",
    "- __getitem__\n",
    "- __getattr__\n",
    "- __setattr__\n",
    "- __del__\n",
    "- __init__\n",
    "- __new__\n",
    "- __enter__\n",
    "- __exit__\n",
    "- __len__\n",
    "- __repr__\n",
    "- __str__\n",
    "\n",
    "## `__getattr__` and getattr"
   ]
  },
  {
   "cell_type": "code",
   "execution_count": 79,
   "id": "be747f4c-6a5b-4d46-a65b-8ee44caf4f69",
   "metadata": {},
   "outputs": [],
   "source": [
    "class A: a,b=1,2"
   ]
  },
  {
   "cell_type": "code",
   "execution_count": 80,
   "id": "6401b4a5-cbc0-41cf-8bbb-96ad6227d264",
   "metadata": {},
   "outputs": [
    {
     "data": {
      "text/plain": [
       "2"
      ]
     },
     "execution_count": 80,
     "metadata": {},
     "output_type": "execute_result"
    }
   ],
   "source": [
    "a = A()\n",
    "a.b"
   ]
  },
  {
   "cell_type": "code",
   "execution_count": 81,
   "id": "7d5d1cea-fd27-4f42-8170-0b0f81fd6063",
   "metadata": {},
   "outputs": [
    {
     "data": {
      "text/plain": [
       "2"
      ]
     },
     "execution_count": 81,
     "metadata": {},
     "output_type": "execute_result"
    }
   ],
   "source": [
    "getattr(a, 'b')"
   ]
  },
  {
   "cell_type": "code",
   "execution_count": 89,
   "id": "e9c020f0-4212-4490-98cd-f5d822643f56",
   "metadata": {},
   "outputs": [
    {
     "data": {
      "text/plain": [
       "1"
      ]
     },
     "execution_count": 89,
     "metadata": {},
     "output_type": "execute_result"
    }
   ],
   "source": [
    "getattr(a, 'b' if random.random()>0.5 else 'a')"
   ]
  },
  {
   "cell_type": "code",
   "execution_count": 91,
   "id": "46ea56df-68be-493c-83a9-7edf9132f917",
   "metadata": {},
   "outputs": [],
   "source": [
    "class B:\n",
    "    a, b = 1, 2\n",
    "    def __getattr__(self, k):\n",
    "        if k[0]=='_': raise AttributeError(k)\n",
    "        return f'Hello from {k}'"
   ]
  },
  {
   "cell_type": "code",
   "execution_count": 92,
   "id": "2713d0e7-dfa0-4634-ad70-38c3d217023b",
   "metadata": {},
   "outputs": [
    {
     "data": {
      "text/plain": [
       "1"
      ]
     },
     "execution_count": 92,
     "metadata": {},
     "output_type": "execute_result"
    }
   ],
   "source": [
    "b = B()\n",
    "b.a"
   ]
  },
  {
   "cell_type": "code",
   "execution_count": 93,
   "id": "98e92484-b8ab-4beb-a39f-01a6f8ac493a",
   "metadata": {},
   "outputs": [
    {
     "data": {
      "text/plain": [
       "'Hello from foo'"
      ]
     },
     "execution_count": 93,
     "metadata": {},
     "output_type": "execute_result"
    }
   ],
   "source": [
    "b.foo"
   ]
  },
  {
   "cell_type": "code",
   "execution_count": 94,
   "id": "91881250-e45b-4c06-9bcf-45f49331e272",
   "metadata": {},
   "outputs": [
    {
     "ename": "AttributeError",
     "evalue": "_fo",
     "output_type": "error",
     "traceback": [
      "\u001b[0;31m---------------------------------------------------------------------------\u001b[0m",
      "\u001b[0;31mAttributeError\u001b[0m                            Traceback (most recent call last)",
      "Cell \u001b[0;32mIn[94], line 1\u001b[0m\n\u001b[0;32m----> 1\u001b[0m \u001b[43mb\u001b[49m\u001b[38;5;241;43m.\u001b[39;49m\u001b[43m_fo\u001b[49m\n",
      "Cell \u001b[0;32mIn[91], line 4\u001b[0m, in \u001b[0;36mB.__getattr__\u001b[0;34m(self, k)\u001b[0m\n\u001b[1;32m      3\u001b[0m \u001b[38;5;28;01mdef\u001b[39;00m \u001b[38;5;21m__getattr__\u001b[39m(\u001b[38;5;28mself\u001b[39m, k):\n\u001b[0;32m----> 4\u001b[0m     \u001b[38;5;28;01mif\u001b[39;00m k[\u001b[38;5;241m0\u001b[39m]\u001b[38;5;241m==\u001b[39m\u001b[38;5;124m'\u001b[39m\u001b[38;5;124m_\u001b[39m\u001b[38;5;124m'\u001b[39m: \u001b[38;5;28;01mraise\u001b[39;00m \u001b[38;5;167;01mAttributeError\u001b[39;00m(k)\n\u001b[1;32m      5\u001b[0m     \u001b[38;5;28;01mreturn\u001b[39;00m \u001b[38;5;124mf\u001b[39m\u001b[38;5;124m'\u001b[39m\u001b[38;5;124mHello from \u001b[39m\u001b[38;5;132;01m{\u001b[39;00mk\u001b[38;5;132;01m}\u001b[39;00m\u001b[38;5;124m'\u001b[39m\n",
      "\u001b[0;31mAttributeError\u001b[0m: _fo"
     ]
    }
   ],
   "source": [
    "b._fo"
   ]
  },
  {
   "cell_type": "code",
   "execution_count": null,
   "id": "24a3c66c-f890-4ad3-bdca-5cc2abaf491e",
   "metadata": {},
   "outputs": [],
   "source": []
  }
 ],
 "metadata": {
  "kernelspec": {
   "display_name": "Python 3 (ipykernel)",
   "language": "python",
   "name": "python3"
  },
  "language_info": {
   "codemirror_mode": {
    "name": "ipython",
    "version": 3
   },
   "file_extension": ".py",
   "mimetype": "text/x-python",
   "name": "python",
   "nbconvert_exporter": "python",
   "pygments_lexer": "ipython3",
   "version": "3.10.14"
  }
 },
 "nbformat": 4,
 "nbformat_minor": 5
}
