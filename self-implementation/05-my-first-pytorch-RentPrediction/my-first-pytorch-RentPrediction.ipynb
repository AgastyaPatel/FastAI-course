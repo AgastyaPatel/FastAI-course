{
 "cells": [
  {
   "cell_type": "markdown",
   "id": "6ec0c4c2-7040-492a-acc8-27d285875e82",
   "metadata": {},
   "source": [
    "# My First PyTorch Training"
   ]
  },
  {
   "cell_type": "markdown",
   "id": "367ce5ab",
   "metadata": {},
   "source": [
    "### Import Libraries\n",
    "\n",
    "Import PyTorch, pandas, NumPy, and scikit-learn. (Or feel free to import them as needed in the cells below.)"
   ]
  },
  {
   "cell_type": "code",
   "execution_count": 1,
   "id": "d8c95d6c",
   "metadata": {},
   "outputs": [],
   "source": [
    "import torch\n",
    "import torch.nn as nn\n",
    "import torch.optim as optim\n",
    "import pandas as pd\n",
    "import numpy as np\n",
    "import sklearn\n",
    "from pathlib import Path"
   ]
  },
  {
   "cell_type": "markdown",
   "id": "71be6bba",
   "metadata": {},
   "source": [
    "### Import Data\n",
    "\n",
    "Import the `streeteasy.csv` dataset and preview the first few rows."
   ]
  },
  {
   "cell_type": "code",
   "execution_count": 2,
   "id": "30a3c751-f24e-49bf-9668-653b96496be5",
   "metadata": {},
   "outputs": [],
   "source": [
    "if 'kaggle' in str(Path().cwd()):\n",
    "    path = Path('/kaggle/input')\n",
    "else:\n",
    "    path = Path().cwd()"
   ]
  },
  {
   "cell_type": "code",
   "execution_count": 3,
   "id": "ccccea34",
   "metadata": {},
   "outputs": [
    {
     "data": {
      "text/html": [
       "<div>\n",
       "<style scoped>\n",
       "    .dataframe tbody tr th:only-of-type {\n",
       "        vertical-align: middle;\n",
       "    }\n",
       "\n",
       "    .dataframe tbody tr th {\n",
       "        vertical-align: top;\n",
       "    }\n",
       "\n",
       "    .dataframe thead th {\n",
       "        text-align: right;\n",
       "    }\n",
       "</style>\n",
       "<table border=\"1\" class=\"dataframe\">\n",
       "  <thead>\n",
       "    <tr style=\"text-align: right;\">\n",
       "      <th></th>\n",
       "      <th>rental_id</th>\n",
       "      <th>rent</th>\n",
       "      <th>bedrooms</th>\n",
       "      <th>bathrooms</th>\n",
       "      <th>size_sqft</th>\n",
       "      <th>min_to_subway</th>\n",
       "      <th>floor</th>\n",
       "      <th>building_age_yrs</th>\n",
       "      <th>no_fee</th>\n",
       "      <th>has_roofdeck</th>\n",
       "      <th>has_washer_dryer</th>\n",
       "      <th>has_doorman</th>\n",
       "      <th>has_elevator</th>\n",
       "      <th>has_dishwasher</th>\n",
       "      <th>has_patio</th>\n",
       "      <th>has_gym</th>\n",
       "      <th>neighborhood</th>\n",
       "      <th>borough</th>\n",
       "    </tr>\n",
       "  </thead>\n",
       "  <tbody>\n",
       "    <tr>\n",
       "      <th>0</th>\n",
       "      <td>1545</td>\n",
       "      <td>2550</td>\n",
       "      <td>0.0</td>\n",
       "      <td>1</td>\n",
       "      <td>480</td>\n",
       "      <td>9</td>\n",
       "      <td>2.0</td>\n",
       "      <td>17</td>\n",
       "      <td>1</td>\n",
       "      <td>1</td>\n",
       "      <td>0</td>\n",
       "      <td>0</td>\n",
       "      <td>1</td>\n",
       "      <td>1</td>\n",
       "      <td>0</td>\n",
       "      <td>1</td>\n",
       "      <td>Upper East Side</td>\n",
       "      <td>Manhattan</td>\n",
       "    </tr>\n",
       "    <tr>\n",
       "      <th>1</th>\n",
       "      <td>2472</td>\n",
       "      <td>11500</td>\n",
       "      <td>2.0</td>\n",
       "      <td>2</td>\n",
       "      <td>2000</td>\n",
       "      <td>4</td>\n",
       "      <td>1.0</td>\n",
       "      <td>96</td>\n",
       "      <td>0</td>\n",
       "      <td>0</td>\n",
       "      <td>0</td>\n",
       "      <td>0</td>\n",
       "      <td>0</td>\n",
       "      <td>0</td>\n",
       "      <td>0</td>\n",
       "      <td>0</td>\n",
       "      <td>Greenwich Village</td>\n",
       "      <td>Manhattan</td>\n",
       "    </tr>\n",
       "    <tr>\n",
       "      <th>2</th>\n",
       "      <td>2919</td>\n",
       "      <td>4500</td>\n",
       "      <td>1.0</td>\n",
       "      <td>1</td>\n",
       "      <td>916</td>\n",
       "      <td>2</td>\n",
       "      <td>51.0</td>\n",
       "      <td>29</td>\n",
       "      <td>0</td>\n",
       "      <td>1</td>\n",
       "      <td>0</td>\n",
       "      <td>1</td>\n",
       "      <td>1</td>\n",
       "      <td>1</td>\n",
       "      <td>0</td>\n",
       "      <td>0</td>\n",
       "      <td>Midtown</td>\n",
       "      <td>Manhattan</td>\n",
       "    </tr>\n",
       "    <tr>\n",
       "      <th>3</th>\n",
       "      <td>2790</td>\n",
       "      <td>4795</td>\n",
       "      <td>1.0</td>\n",
       "      <td>1</td>\n",
       "      <td>975</td>\n",
       "      <td>3</td>\n",
       "      <td>8.0</td>\n",
       "      <td>31</td>\n",
       "      <td>0</td>\n",
       "      <td>0</td>\n",
       "      <td>0</td>\n",
       "      <td>1</td>\n",
       "      <td>1</td>\n",
       "      <td>1</td>\n",
       "      <td>0</td>\n",
       "      <td>1</td>\n",
       "      <td>Greenwich Village</td>\n",
       "      <td>Manhattan</td>\n",
       "    </tr>\n",
       "    <tr>\n",
       "      <th>4</th>\n",
       "      <td>3946</td>\n",
       "      <td>17500</td>\n",
       "      <td>2.0</td>\n",
       "      <td>2</td>\n",
       "      <td>4800</td>\n",
       "      <td>3</td>\n",
       "      <td>4.0</td>\n",
       "      <td>136</td>\n",
       "      <td>0</td>\n",
       "      <td>0</td>\n",
       "      <td>0</td>\n",
       "      <td>1</td>\n",
       "      <td>1</td>\n",
       "      <td>1</td>\n",
       "      <td>0</td>\n",
       "      <td>1</td>\n",
       "      <td>Soho</td>\n",
       "      <td>Manhattan</td>\n",
       "    </tr>\n",
       "    <tr>\n",
       "      <th>...</th>\n",
       "      <td>...</td>\n",
       "      <td>...</td>\n",
       "      <td>...</td>\n",
       "      <td>...</td>\n",
       "      <td>...</td>\n",
       "      <td>...</td>\n",
       "      <td>...</td>\n",
       "      <td>...</td>\n",
       "      <td>...</td>\n",
       "      <td>...</td>\n",
       "      <td>...</td>\n",
       "      <td>...</td>\n",
       "      <td>...</td>\n",
       "      <td>...</td>\n",
       "      <td>...</td>\n",
       "      <td>...</td>\n",
       "      <td>...</td>\n",
       "      <td>...</td>\n",
       "    </tr>\n",
       "    <tr>\n",
       "      <th>3534</th>\n",
       "      <td>7582</td>\n",
       "      <td>4210</td>\n",
       "      <td>1.0</td>\n",
       "      <td>1</td>\n",
       "      <td>532</td>\n",
       "      <td>3</td>\n",
       "      <td>8.0</td>\n",
       "      <td>16</td>\n",
       "      <td>1</td>\n",
       "      <td>1</td>\n",
       "      <td>1</td>\n",
       "      <td>1</td>\n",
       "      <td>1</td>\n",
       "      <td>1</td>\n",
       "      <td>0</td>\n",
       "      <td>1</td>\n",
       "      <td>Chelsea</td>\n",
       "      <td>Manhattan</td>\n",
       "    </tr>\n",
       "    <tr>\n",
       "      <th>3535</th>\n",
       "      <td>5686</td>\n",
       "      <td>6675</td>\n",
       "      <td>2.0</td>\n",
       "      <td>2</td>\n",
       "      <td>988</td>\n",
       "      <td>5</td>\n",
       "      <td>10.0</td>\n",
       "      <td>9</td>\n",
       "      <td>1</td>\n",
       "      <td>1</td>\n",
       "      <td>1</td>\n",
       "      <td>1</td>\n",
       "      <td>1</td>\n",
       "      <td>1</td>\n",
       "      <td>0</td>\n",
       "      <td>1</td>\n",
       "      <td>Tribeca</td>\n",
       "      <td>Manhattan</td>\n",
       "    </tr>\n",
       "    <tr>\n",
       "      <th>3536</th>\n",
       "      <td>9679</td>\n",
       "      <td>1699</td>\n",
       "      <td>0.0</td>\n",
       "      <td>1</td>\n",
       "      <td>250</td>\n",
       "      <td>2</td>\n",
       "      <td>5.0</td>\n",
       "      <td>96</td>\n",
       "      <td>0</td>\n",
       "      <td>0</td>\n",
       "      <td>0</td>\n",
       "      <td>0</td>\n",
       "      <td>0</td>\n",
       "      <td>0</td>\n",
       "      <td>0</td>\n",
       "      <td>0</td>\n",
       "      <td>Little Italy</td>\n",
       "      <td>Manhattan</td>\n",
       "    </tr>\n",
       "    <tr>\n",
       "      <th>3537</th>\n",
       "      <td>5188</td>\n",
       "      <td>3475</td>\n",
       "      <td>1.0</td>\n",
       "      <td>1</td>\n",
       "      <td>651</td>\n",
       "      <td>6</td>\n",
       "      <td>5.0</td>\n",
       "      <td>14</td>\n",
       "      <td>1</td>\n",
       "      <td>0</td>\n",
       "      <td>1</td>\n",
       "      <td>1</td>\n",
       "      <td>1</td>\n",
       "      <td>1</td>\n",
       "      <td>0</td>\n",
       "      <td>1</td>\n",
       "      <td>Midtown West</td>\n",
       "      <td>Manhattan</td>\n",
       "    </tr>\n",
       "    <tr>\n",
       "      <th>3538</th>\n",
       "      <td>4718</td>\n",
       "      <td>4500</td>\n",
       "      <td>1.0</td>\n",
       "      <td>1</td>\n",
       "      <td>816</td>\n",
       "      <td>4</td>\n",
       "      <td>11.0</td>\n",
       "      <td>9</td>\n",
       "      <td>0</td>\n",
       "      <td>1</td>\n",
       "      <td>1</td>\n",
       "      <td>1</td>\n",
       "      <td>1</td>\n",
       "      <td>0</td>\n",
       "      <td>1</td>\n",
       "      <td>1</td>\n",
       "      <td>Tribeca</td>\n",
       "      <td>Manhattan</td>\n",
       "    </tr>\n",
       "  </tbody>\n",
       "</table>\n",
       "<p>3539 rows × 18 columns</p>\n",
       "</div>"
      ],
      "text/plain": [
       "      rental_id   rent  bedrooms  bathrooms  size_sqft  min_to_subway  floor  \\\n",
       "0          1545   2550       0.0          1        480              9    2.0   \n",
       "1          2472  11500       2.0          2       2000              4    1.0   \n",
       "2          2919   4500       1.0          1        916              2   51.0   \n",
       "3          2790   4795       1.0          1        975              3    8.0   \n",
       "4          3946  17500       2.0          2       4800              3    4.0   \n",
       "...         ...    ...       ...        ...        ...            ...    ...   \n",
       "3534       7582   4210       1.0          1        532              3    8.0   \n",
       "3535       5686   6675       2.0          2        988              5   10.0   \n",
       "3536       9679   1699       0.0          1        250              2    5.0   \n",
       "3537       5188   3475       1.0          1        651              6    5.0   \n",
       "3538       4718   4500       1.0          1        816              4   11.0   \n",
       "\n",
       "      building_age_yrs  no_fee  has_roofdeck  has_washer_dryer  has_doorman  \\\n",
       "0                   17       1             1                 0            0   \n",
       "1                   96       0             0                 0            0   \n",
       "2                   29       0             1                 0            1   \n",
       "3                   31       0             0                 0            1   \n",
       "4                  136       0             0                 0            1   \n",
       "...                ...     ...           ...               ...          ...   \n",
       "3534                16       1             1                 1            1   \n",
       "3535                 9       1             1                 1            1   \n",
       "3536                96       0             0                 0            0   \n",
       "3537                14       1             0                 1            1   \n",
       "3538                 9       0             1                 1            1   \n",
       "\n",
       "      has_elevator  has_dishwasher  has_patio  has_gym       neighborhood  \\\n",
       "0                1               1          0        1    Upper East Side   \n",
       "1                0               0          0        0  Greenwich Village   \n",
       "2                1               1          0        0            Midtown   \n",
       "3                1               1          0        1  Greenwich Village   \n",
       "4                1               1          0        1               Soho   \n",
       "...            ...             ...        ...      ...                ...   \n",
       "3534             1               1          0        1            Chelsea   \n",
       "3535             1               1          0        1            Tribeca   \n",
       "3536             0               0          0        0       Little Italy   \n",
       "3537             1               1          0        1       Midtown West   \n",
       "3538             1               0          1        1            Tribeca   \n",
       "\n",
       "        borough  \n",
       "0     Manhattan  \n",
       "1     Manhattan  \n",
       "2     Manhattan  \n",
       "3     Manhattan  \n",
       "4     Manhattan  \n",
       "...         ...  \n",
       "3534  Manhattan  \n",
       "3535  Manhattan  \n",
       "3536  Manhattan  \n",
       "3537  Manhattan  \n",
       "3538  Manhattan  \n",
       "\n",
       "[3539 rows x 18 columns]"
      ]
     },
     "execution_count": 3,
     "metadata": {},
     "output_type": "execute_result"
    }
   ],
   "source": [
    "data = pd.read_csv(path/'streeteasy-dataset/manhattan.csv')\n",
    "data"
   ]
  },
  {
   "cell_type": "markdown",
   "id": "382897af",
   "metadata": {},
   "source": [
    "### Select Target\n",
    "\n",
    "Select the numeric column that the neural network will be trying to predict. Feel free to use rent again, or try to predict another column!\n",
    "\n",
    "Convert this column to a PyTorch tensor.\n",
    "\n",
    "We are removing few columns which do not effect our predictions."
   ]
  },
  {
   "cell_type": "code",
   "execution_count": 4,
   "id": "2b7c847a",
   "metadata": {},
   "outputs": [
    {
     "data": {
      "text/plain": [
       "array([[ 2550],\n",
       "       [11500],\n",
       "       [ 4500],\n",
       "       ...,\n",
       "       [ 1699],\n",
       "       [ 3475],\n",
       "       [ 4500]])"
      ]
     },
     "execution_count": 4,
     "metadata": {},
     "output_type": "execute_result"
    }
   ],
   "source": [
    "targetColumns = ['rent']\n",
    "data[targetColumns].values"
   ]
  },
  {
   "cell_type": "code",
   "execution_count": 5,
   "id": "9abf7418",
   "metadata": {},
   "outputs": [
    {
     "data": {
      "text/plain": [
       "torch.Size([3539, 1])"
      ]
     },
     "execution_count": 5,
     "metadata": {},
     "output_type": "execute_result"
    }
   ],
   "source": [
    "targetTensor = torch.tensor(data[targetColumns].values, dtype = torch.float)\n",
    "targetTensor.shape"
   ]
  },
  {
   "cell_type": "markdown",
   "id": "427b8afb",
   "metadata": {},
   "source": [
    "### Select Features\n",
    "\n",
    "Select the numeric columns that the neural network will use as input features to predict the target."
   ]
  },
  {
   "cell_type": "code",
   "execution_count": 6,
   "id": "a8543760",
   "metadata": {},
   "outputs": [
    {
     "data": {
      "text/plain": [
       "array([[0.00e+00, 1.00e+00, 4.80e+02, 9.00e+00, 2.00e+00, 1.70e+01],\n",
       "       [2.00e+00, 2.00e+00, 2.00e+03, 4.00e+00, 1.00e+00, 9.60e+01],\n",
       "       [1.00e+00, 1.00e+00, 9.16e+02, 2.00e+00, 5.10e+01, 2.90e+01],\n",
       "       ...,\n",
       "       [0.00e+00, 1.00e+00, 2.50e+02, 2.00e+00, 5.00e+00, 9.60e+01],\n",
       "       [1.00e+00, 1.00e+00, 6.51e+02, 6.00e+00, 5.00e+00, 1.40e+01],\n",
       "       [1.00e+00, 1.00e+00, 8.16e+02, 4.00e+00, 1.10e+01, 9.00e+00]])"
      ]
     },
     "execution_count": 6,
     "metadata": {},
     "output_type": "execute_result"
    }
   ],
   "source": [
    "inputColumns = ['bedrooms', 'bathrooms', 'size_sqft', 'min_to_subway', 'floor', 'building_age_yrs']\n",
    "data[inputColumns].values"
   ]
  },
  {
   "cell_type": "code",
   "execution_count": 7,
   "id": "1168fb31",
   "metadata": {},
   "outputs": [
    {
     "data": {
      "text/plain": [
       "torch.Size([3539, 6])"
      ]
     },
     "execution_count": 7,
     "metadata": {},
     "output_type": "execute_result"
    }
   ],
   "source": [
    "inputTensor = torch.tensor(data[inputColumns].values, dtype = torch.float)\n",
    "inputTensor.shape"
   ]
  },
  {
   "cell_type": "markdown",
   "id": "d573b58a",
   "metadata": {},
   "source": [
    "### Train-Test-Split\n",
    "\n",
    "Split the features and target into training and testing datasets. A good initial proportion is 80/20."
   ]
  },
  {
   "cell_type": "code",
   "execution_count": 8,
   "id": "a242b87c",
   "metadata": {},
   "outputs": [],
   "source": [
    "from sklearn.model_selection import train_test_split\n",
    "X_train, X_test, y_train, y_test = train_test_split(inputTensor, targetTensor, test_size = 0.2, random_state = 2) "
   ]
  },
  {
   "cell_type": "markdown",
   "id": "6823d7ee",
   "metadata": {},
   "source": [
    "## Using SGD as optimizer\n",
    "### Create a Neural Network\n",
    "\n",
    "Create a neural network using either `Sequential` or OOP. Remember, the first `nn.Linear()` needs to match the number of input features, and the final output needs to have one node for regression."
   ]
  },
  {
   "cell_type": "code",
   "execution_count": 9,
   "id": "36ad986e",
   "metadata": {},
   "outputs": [],
   "source": [
    "torch.manual_seed(42)\n",
    "model = nn.Sequential(nn.Linear(6, 10),\n",
    "                     nn.ReLU(),\n",
    "                     nn.Linear(10,10),\n",
    "                     nn.ReLU(),\n",
    "                     nn.Linear(10,1))"
   ]
  },
  {
   "cell_type": "markdown",
   "id": "b602ed3e",
   "metadata": {},
   "source": [
    "### Select a Loss Function\n",
    "\n",
    "Select a loss function. Feel free to use MSE again, or check out PyTorch's other [loss functions](https://pytorch.org/docs/stable/nn.html#loss-functions). A good alternate to MSE is `nn.L1Loss()`, which is the Mean Absolute Error."
   ]
  },
  {
   "cell_type": "code",
   "execution_count": 10,
   "id": "2b089e2c",
   "metadata": {},
   "outputs": [],
   "source": [
    "loss = nn.MSELoss()"
   ]
  },
  {
   "cell_type": "markdown",
   "id": "1c8cc7a8",
   "metadata": {},
   "source": [
    "### Select an Optimizer\n",
    "\n",
    "Select an optimizer. Feel free to use Adam again, or check out PyTorch's other [optimizers](https://pytorch.org/docs/stable/optim.html#algorithms). A good alternate to Adam is `nn.SGD`, another gradient descent algorithm (stochastic gradient descent)."
   ]
  },
  {
   "cell_type": "code",
   "execution_count": 11,
   "id": "be2fe226",
   "metadata": {},
   "outputs": [],
   "source": [
    "optimizer = optim.SGD(model.parameters(), lr=0.01)"
   ]
  },
  {
   "cell_type": "markdown",
   "id": "364578af",
   "metadata": {},
   "source": [
    "### Training Loop\n",
    "\n",
    "Use your selected loss and optimizer functions to train the neural network."
   ]
  },
  {
   "cell_type": "code",
   "execution_count": 12,
   "id": "6ee7bd19",
   "metadata": {},
   "outputs": [],
   "source": [
    "def train_loop(num_of_epoch, print_interval):\n",
    "    for epoch in range(num_of_epoch):\n",
    "        MSE = loss(model(X_train), y_train)\n",
    "        MSE.backward()\n",
    "        optimizer.step()\n",
    "        optimizer.zero_grad()\n",
    "        if (epoch+1) % print_interval == 0:\n",
    "            print(f'Epoch {epoch+1}: loss {MSE}')"
   ]
  },
  {
   "cell_type": "code",
   "execution_count": 13,
   "id": "73c7d80f",
   "metadata": {},
   "outputs": [
    {
     "name": "stdout",
     "output_type": "stream",
     "text": [
      "Epoch 100: loss 3.0130668274581013e+34\n",
      "Epoch 200: loss 5.299367143616397e+32\n",
      "Epoch 300: loss 9.320490450331675e+30\n",
      "Epoch 400: loss 1.6392824440902532e+29\n",
      "Epoch 500: loss 2.8831629370690945e+27\n",
      "Epoch 600: loss 5.070892347869286e+25\n",
      "Epoch 700: loss 8.918655603763127e+23\n",
      "Epoch 800: loss 1.5686108433825569e+22\n",
      "Epoch 900: loss 2.7588630864025197e+20\n",
      "Epoch 1000: loss 4.852270707456868e+18\n",
      "Epoch 1100: loss 8.53414382581842e+16\n",
      "Epoch 1200: loss 1500981011415040.0\n",
      "Epoch 1300: loss 26399184257024.0\n",
      "Epoch 1400: loss 464317677568.0\n",
      "Epoch 1500: loss 8176339968.0\n",
      "Epoch 1600: loss 153750192.0\n",
      "Epoch 1700: loss 12649329.0\n",
      "Epoch 1800: loss 10167656.0\n",
      "Epoch 1900: loss 10124008.0\n",
      "Epoch 2000: loss 10123241.0\n",
      "Epoch 2100: loss 10123228.0\n",
      "Epoch 2200: loss 10123226.0\n",
      "Epoch 2300: loss 10123226.0\n",
      "Epoch 2400: loss 10123226.0\n",
      "Epoch 2500: loss 10123226.0\n",
      "Epoch 2600: loss 10123226.0\n",
      "Epoch 2700: loss 10123226.0\n",
      "Epoch 2800: loss 10123226.0\n",
      "Epoch 2900: loss 10123226.0\n",
      "Epoch 3000: loss 10123226.0\n"
     ]
    }
   ],
   "source": [
    "train_loop(3000, 100)"
   ]
  },
  {
   "cell_type": "markdown",
   "id": "3d17af29",
   "metadata": {},
   "source": [
    "# Experiment\n",
    "\n",
    "Go back and experiment with changing the setup of your neural network. Can you improve its performance using different activation functions or network architecture? What about adjusting the learning rate or switching out loss functions and optimizers?"
   ]
  },
  {
   "cell_type": "code",
   "execution_count": 14,
   "id": "e57660aa",
   "metadata": {},
   "outputs": [
    {
     "name": "stdout",
     "output_type": "stream",
     "text": [
      "Epoch 300: loss 980.1895141601562\n",
      "Epoch 600: loss 975.0104370117188\n",
      "Epoch 900: loss 972.1895751953125\n",
      "Epoch 1200: loss 969.2837524414062\n",
      "Epoch 1500: loss 965.3992309570312\n",
      "Epoch 1800: loss 925.289306640625\n",
      "Epoch 2100: loss 910.4659423828125\n",
      "Epoch 2400: loss 904.2485961914062\n",
      "Epoch 2700: loss 891.4398803710938\n",
      "Epoch 3000: loss 889.7023315429688\n",
      "Epoch 3300: loss 889.09326171875\n",
      "Epoch 3600: loss 888.8668212890625\n",
      "Epoch 3900: loss 888.9916381835938\n",
      "Epoch 4200: loss 888.4956665039062\n",
      "Epoch 4500: loss 888.4185180664062\n",
      "Epoch 4800: loss 888.48681640625\n",
      "Epoch 5100: loss 888.2393188476562\n",
      "Epoch 5400: loss 888.15478515625\n",
      "Epoch 5700: loss 888.294921875\n",
      "Epoch 6000: loss 888.065185546875\n"
     ]
    }
   ],
   "source": [
    "model = nn.Sequential(nn.Linear(6, 10),\n",
    "                     nn.ReLU(),\n",
    "                     nn.Linear(10,10),\n",
    "                     nn.ReLU(),\n",
    "                     nn.Linear(10,1))\n",
    "\n",
    "loss = nn.L1Loss()\n",
    "\n",
    "## Using Adam as optimizer\n",
    "optimizer = optim.Adam(model.parameters(), lr=0.01)\n",
    "\n",
    "def train_loop(num_of_epoch, print_interval):\n",
    "    for epoch in range(num_of_epoch):\n",
    "        MSE = loss(model(X_train), y_train)\n",
    "        MSE.backward()\n",
    "        optimizer.step()\n",
    "        optimizer.zero_grad()\n",
    "        if (epoch+1) % print_interval == 0:\n",
    "            print(f'Epoch {epoch+1}: loss {MSE}')\n",
    "train_loop(6000, 300)"
   ]
  },
  {
   "cell_type": "markdown",
   "id": "fb554b4f",
   "metadata": {},
   "source": [
    "### Evaluate\n",
    "\n",
    "As you experiment, evaluate each version of your model on the testing dataset, to validate its performance on unseen data."
   ]
  },
  {
   "cell_type": "code",
   "execution_count": 15,
   "id": "0777278b",
   "metadata": {},
   "outputs": [
    {
     "data": {
      "text/plain": [
       "tensor(884.1624)"
      ]
     },
     "execution_count": 15,
     "metadata": {},
     "output_type": "execute_result"
    }
   ],
   "source": [
    "model.eval()\n",
    "with torch.no_grad():\n",
    "    predictions = model(X_test)\n",
    "    test_MSE = loss(predictions, y_test)\n",
    "test_MSE"
   ]
  },
  {
   "cell_type": "markdown",
   "id": "70450869",
   "metadata": {},
   "source": [
    "### Save the Final Network\n",
    "\n",
    "Save your final network for later use."
   ]
  },
  {
   "cell_type": "code",
   "execution_count": 16,
   "id": "1e49471a",
   "metadata": {},
   "outputs": [],
   "source": [
    "torch.save(model, 'model.pth')"
   ]
  },
  {
   "cell_type": "code",
   "execution_count": 17,
   "id": "3264f2bb-9745-4d8e-9a02-f91656274198",
   "metadata": {},
   "outputs": [
    {
     "data": {
      "image/png": "[encoded data removed]",
      "text/plain": [
       "<Figure size 800x600 with 1 Axes>"
      ]
     },
     "metadata": {},
     "output_type": "display_data"
    }
   ],
   "source": [
    "import matplotlib.pyplot as plt\n",
    "\n",
    "plt.figure(figsize = (8,6))\n",
    "plt.title('Performance Chart')\n",
    "plt.xlabel('Actual observation')\n",
    "plt.ylabel('prediction')\n",
    "\n",
    "plt.scatter(y_test, predictions, label='Predictions', alpha=0.5, color='blue')\n",
    "\n",
    "plt.plot([min(y_test), max(y_test)], [min(y_test), max(y_test)], linestyle='--', color='gray', linewidth=2, label=\"Actual Rent\",markersize=12)\n",
    "plt.legend()\n",
    "plt.show()"
   ]
  },
  {
   "cell_type": "code",
   "execution_count": 19,
   "id": "46bc6991-cf5a-4cbe-aabb-f224194bd701",
   "metadata": {},
   "outputs": [
    {
     "name": "stdout",
     "output_type": "stream",
     "text": [
      "R-squared: 0.7901763442136409\n"
     ]
    }
   ],
   "source": [
    "from sklearn.metrics import r2_score\n",
    "r2 = r2_score(y_test, predictions)\n",
    "\n",
    "print(\"R-squared:\", r2)"
   ]
  }
 ],
 "metadata": {
  "kernelspec": {
   "display_name": "Python 3 (ipykernel)",
   "language": "python",
   "name": "python3"
  },
  "language_info": {
   "codemirror_mode": {
    "name": "ipython",
    "version": 3
   },
   "file_extension": ".py",
   "mimetype": "text/x-python",
   "name": "python",
   "nbconvert_exporter": "python",
   "pygments_lexer": "ipython3",
   "version": "3.10.12"
  }
 },
 "nbformat": 4,
 "nbformat_minor": 5
}
