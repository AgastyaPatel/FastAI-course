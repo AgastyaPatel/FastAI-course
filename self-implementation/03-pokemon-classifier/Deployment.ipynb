{
 "cells": [
  {
   "cell_type": "code",
   "execution_count": 61,
   "id": "f639173b-54aa-41c5-a357-ea80bc173d63",
   "metadata": {},
   "outputs": [],
   "source": [
    "%%capture\n",
    "!pip install gradio nbdev"
   ]
  },
  {
   "cell_type": "code",
   "execution_count": 62,
   "id": "42d162df-a864-4028-9829-c30a5c702221",
   "metadata": {},
   "outputs": [],
   "source": [
    "#|default_exp app"
   ]
  },
  {
   "cell_type": "code",
   "execution_count": 63,
   "id": "739cadc7-7549-4bde-b512-ac788b50cec0",
   "metadata": {},
   "outputs": [],
   "source": [
    "#|export\n",
    "#importing dependencies\n",
    "from fastai.vision.all import *\n",
    "import gradio as gr"
   ]
  },
  {
   "cell_type": "code",
   "execution_count": 64,
   "id": "bd07c94c-f928-4fcd-bc15-ba6aec86aa4c",
   "metadata": {},
   "outputs": [],
   "source": [
    "#|export\n",
    "#creating inference \n",
    "learn = load_learner('models/resnet34_glr_pokemon.pkl')"
   ]
  },
  {
   "cell_type": "code",
   "execution_count": 65,
   "id": "5009eeca-c628-4496-8f02-fddf2ceb29c3",
   "metadata": {},
   "outputs": [
    {
     "data": {
      "text/plain": [
       "['Abra', 'Aerodactyl', 'Alakazam', 'Alolan Sandslash', 'Arbok', 'Arcanine', 'Articuno', 'Beedrill', 'Bellsprout', 'Blastoise', 'Bulbasaur', 'Butterfree', 'Caterpie', 'Chansey', 'Charizard', 'Charmander', 'Charmeleon', 'Clefable', 'Clefairy', 'Cloyster', 'Cubone', 'Dewgong', 'Diglett', 'Ditto', 'Dodrio', 'Doduo', 'Dragonair', 'Dragonite', 'Dratini', 'Drowzee', 'Dugtrio', 'Eevee', 'Ekans', 'Electabuzz', 'Electrode', 'Exeggcute', 'Exeggutor', 'Farfetchd', 'Fearow', 'Flareon', 'Gastly', 'Gengar', 'Geodude', 'Gloom', 'Golbat', 'Goldeen', 'Golduck', 'Golem', 'Graveler', 'Grimer', 'Growlithe', 'Gyarados', 'Haunter', 'Hitmonchan', 'Hitmonlee', 'Horsea', 'Hypno', 'Ivysaur', 'Jigglypuff', 'Jolteon', 'Jynx', 'Kabuto', 'Kabutops', 'Kadabra', 'Kakuna', 'Kangaskhan', 'Kingler', 'Koffing', 'Krabby', 'Lapras', 'Lickitung', 'Machamp', 'Machoke', 'Machop', 'Magikarp', 'Magmar', 'Magnemite', 'Magneton', 'Mankey', 'Marowak', 'Meowth', 'Metapod', 'Mew', 'Mewtwo', 'Moltres', 'MrMime', 'Muk', 'Nidoking', 'Nidoqueen', 'Nidorina', 'Nidorino', 'Ninetales', 'Oddish', 'Omanyte', 'Omastar', 'Onix', 'Paras', 'Parasect', 'Persian', 'Pidgeot', 'Pidgeotto', 'Pidgey', 'Pikachu', 'Pinsir', 'Poliwag', 'Poliwhirl', 'Poliwrath', 'Ponyta', 'Porygon', 'Primeape', 'Psyduck', 'Raichu', 'Rapidash', 'Raticate', 'Rattata', 'Rhydon', 'Rhyhorn', 'Sandshrew', 'Sandslash', 'Scyther', 'Seadra', 'Seaking', 'Seel', 'Shellder', 'Slowbro', 'Slowpoke', 'Snorlax', 'Spearow', 'Squirtle', 'Starmie', 'Staryu', 'Tangela', 'Tauros', 'Tentacool', 'Tentacruel', 'Vaporeon', 'Venomoth', 'Venonat', 'Venusaur', 'Victreebel', 'Vileplume', 'Voltorb', 'Vulpix', 'Wartortle', 'Weedle', 'Weepinbell', 'Weezing', 'Wigglytuff', 'Zapdos', 'Zubat']"
      ]
     },
     "execution_count": 65,
     "metadata": {},
     "output_type": "execute_result"
    }
   ],
   "source": [
    "#|export\n",
    "categories = learn.dls.vocab\n",
    "def classify_image(image):\n",
    "    pred, idx, probs = learn.predict(image)\n",
    "    return dict(zip(categories, map(float, probs)))\n",
    "\n",
    "categories"
   ]
  },
  {
   "cell_type": "code",
   "execution_count": 66,
   "id": "12d931c1-7b2d-4e1e-9241-3c450dd8e0dd",
   "metadata": {},
   "outputs": [
    {
     "name": "stdout",
     "output_type": "stream",
     "text": [
      "Running on local URL:  http://127.0.0.1:7865\n",
      "\n",
      "To create a public link, set `share=True` in `launch()`.\n"
     ]
    },
    {
     "data": {
      "text/html": [
       "<div><iframe src=\"http://127.0.0.1:7865/\" width=\"100%\" height=\"500\" allow=\"autoplay; camera; microphone; clipboard-read; clipboard-write;\" frameborder=\"0\" allowfullscreen></iframe></div>"
      ],
      "text/plain": [
       "<IPython.core.display.HTML object>"
      ]
     },
     "metadata": {},
     "output_type": "display_data"
    }
   ],
   "source": [
    "#|export\n",
    "#gradio interface\n",
    "image = gr.Image()\n",
    "label = gr.Label()\n",
    "\n",
    "examples = ['TestInputs/01.jpg', 'TestInputs/02.jpg', 'TestInputs/03.png', 'TestInputs/04.png']\n",
    "inf = gr.Interface(fn = classify_image, inputs = image, outputs = label, examples = examples).launch()"
   ]
  },
  {
   "cell_type": "code",
   "execution_count": 67,
   "id": "4102a239-08cc-4c9d-ad11-fe65ef40f929",
   "metadata": {},
   "outputs": [
    {
     "name": "stdout",
     "output_type": "stream",
     "text": [
      "/home/agastya/notebooks/FastAI-course/self-implementation/03-pokemon-classifier\n",
      "default_exp ['app'] <bound method ExportModuleProc._default_exp_ of <nbdev.export.ExportModuleProc object at 0x7f3798370f40>>\n",
      "export [] <bound method ExportModuleProc._export_ of <nbdev.export.ExportModuleProc object at 0x7f3798370f40>>\n",
      "export [] <bound method ExportModuleProc._export_ of <nbdev.export.ExportModuleProc object at 0x7f3798370f40>>\n",
      "export [] <bound method ExportModuleProc._export_ of <nbdev.export.ExportModuleProc object at 0x7f3798370f40>>\n",
      "export [] <bound method ExportModuleProc._export_ of <nbdev.export.ExportModuleProc object at 0x7f3798370f40>>\n"
     ]
    }
   ],
   "source": [
    "import nbdev\n",
    "# doc(nbdev.export.nb_export)\n",
    "nb = Path('.').cwd()/'Deployment.ipynb'\n",
    "app = Path('.').cwd()\n",
    "print(app)\n",
    "res = nbdev.export.nb_export(nb, app, debug=True)"
   ]
  }
 ],
 "metadata": {
  "kernelspec": {
   "display_name": "Python 3 (ipykernel)",
   "language": "python",
   "name": "python3"
  },
  "language_info": {
   "codemirror_mode": {
    "name": "ipython",
    "version": 3
   },
   "file_extension": ".py",
   "mimetype": "text/x-python",
   "name": "python",
   "nbconvert_exporter": "python",
   "pygments_lexer": "ipython3",
   "version": "3.10.12"
  }
 },
 "nbformat": 4,
 "nbformat_minor": 5
}
