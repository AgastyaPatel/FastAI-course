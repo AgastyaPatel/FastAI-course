{
 "cells": [
  {
   "cell_type": "code",
   "execution_count": 1,
   "id": "55213a3f-5336-430b-bc23-88a2500e34f3",
   "metadata": {},
   "outputs": [],
   "source": [
    "from fastai.vision.all import *\n",
    "from fastbook import *"
   ]
  },
  {
   "cell_type": "code",
   "execution_count": 2,
   "id": "b930464e-4874-4ea1-a90f-6c546b757d87",
   "metadata": {},
   "outputs": [],
   "source": [
    "matplotlib.rc('image', cmap='Greys')"
   ]
  },
  {
   "cell_type": "markdown",
   "id": "09f11db2-9eb3-44dc-9727-be49b2a3ce16",
   "metadata": {},
   "source": [
    "# Mathematical classifier"
   ]
  },
  {
   "cell_type": "code",
   "execution_count": 3,
   "id": "82260ae0-52b1-4578-951a-8174a6d225a5",
   "metadata": {},
   "outputs": [],
   "source": [
    "path = untar_data(URLs.MNIST)"
   ]
  },
  {
   "cell_type": "code",
   "execution_count": 4,
   "id": "c18ff8aa-9e66-4341-85f5-02fd61dbc95c",
   "metadata": {},
   "outputs": [
    {
     "data": {
      "text/plain": [
       "Path('/home/agastya/.fastai/data/mnist_png')"
      ]
     },
     "execution_count": 4,
     "metadata": {},
     "output_type": "execute_result"
    }
   ],
   "source": [
    "path"
   ]
  },
  {
   "cell_type": "code",
   "execution_count": 5,
   "id": "3842edee-3f54-49ca-8325-4bd20d9f67e8",
   "metadata": {},
   "outputs": [
    {
     "data": {
      "text/plain": [
       "(#2) [Path('/home/agastya/.fastai/data/mnist_png/testing'),Path('/home/agastya/.fastai/data/mnist_png/training')]"
      ]
     },
     "execution_count": 5,
     "metadata": {},
     "output_type": "execute_result"
    }
   ],
   "source": [
    "path.ls()"
   ]
  },
  {
   "cell_type": "code",
   "execution_count": 6,
   "id": "ee83d924-4a0d-4ecd-8d0e-96b3be780bd2",
   "metadata": {},
   "outputs": [
    {
     "data": {
      "text/plain": [
       "(#10) [Path('/home/agastya/.fastai/data/mnist_png/training/7'),Path('/home/agastya/.fastai/data/mnist_png/training/3'),Path('/home/agastya/.fastai/data/mnist_png/training/1'),Path('/home/agastya/.fastai/data/mnist_png/training/2'),Path('/home/agastya/.fastai/data/mnist_png/training/6'),Path('/home/agastya/.fastai/data/mnist_png/training/8'),Path('/home/agastya/.fastai/data/mnist_png/training/4'),Path('/home/agastya/.fastai/data/mnist_png/training/0'),Path('/home/agastya/.fastai/data/mnist_png/training/9'),Path('/home/agastya/.fastai/data/mnist_png/training/5')]"
      ]
     },
     "execution_count": 6,
     "metadata": {},
     "output_type": "execute_result"
    }
   ],
   "source": [
    "train = path/'training'\n",
    "valid = path/'testing'\n",
    "train.ls()"
   ]
  },
  {
   "cell_type": "code",
   "execution_count": 7,
   "id": "252e50b4-11aa-46be-8510-d3b40b6259e4",
   "metadata": {},
   "outputs": [],
   "source": [
    "train_digits = { \n",
    "'zeros' : train/'0',\n",
    "'ones' : train/'1',\n",
    "'twos' : train/'2',\n",
    "'threes' : train/'3',\n",
    "'fours' : train/'4',\n",
    "'fives' : train/'5',\n",
    "'sixes' : train/'6',\n",
    "'sevens' : train/'7',\n",
    "'eights' : train/'8',\n",
    "'nines' : train/'9',\n",
    "}"
   ]
  },
  {
   "cell_type": "code",
   "execution_count": 8,
   "id": "99be9fbc-37ba-4d3a-99bf-9c972c2d3b10",
   "metadata": {},
   "outputs": [],
   "source": [
    "train_digits_tensor = {}\n",
    "for digit, path in train_digits.items():\n",
    "    train_digits_tensor[digit + '_tensor'] = [tensor(Image.open(o)) for o in path.ls().sorted()]"
   ]
  },
  {
   "cell_type": "code",
   "execution_count": 9,
   "id": "091270c9-d396-4e68-b17f-aacd20026df5",
   "metadata": {},
   "outputs": [
    {
     "name": "stdout",
     "output_type": "stream",
     "text": [
      "zeros_tensor 5923\n",
      "ones_tensor 6742\n",
      "twos_tensor 5958\n",
      "threes_tensor 6131\n",
      "fours_tensor 5842\n",
      "fives_tensor 5421\n",
      "sixes_tensor 5918\n",
      "sevens_tensor 6265\n",
      "eights_tensor 5851\n",
      "nines_tensor 5949\n"
     ]
    }
   ],
   "source": [
    "# Contains list images \n",
    "for key, item in train_digits_tensor.items():\n",
    "    print(key, len(item))"
   ]
  },
  {
   "cell_type": "markdown",
   "id": "2d39fd99-07a7-4216-91ff-4b4d2a86c016",
   "metadata": {},
   "source": [
    "`train_digit_tensor` contains list of images as tensor\n",
    "We are now converting the list into tensor ie stacking"
   ]
  },
  {
   "cell_type": "code",
   "execution_count": 10,
   "id": "6a03048e-8d4c-4567-ab4c-3a5267ac9695",
   "metadata": {},
   "outputs": [
    {
     "name": "stdout",
     "output_type": "stream",
     "text": [
      "zeros_tensor_stacked torch.Size([5923, 28, 28])\n",
      "ones_tensor_stacked torch.Size([6742, 28, 28])\n",
      "twos_tensor_stacked torch.Size([5958, 28, 28])\n",
      "threes_tensor_stacked torch.Size([6131, 28, 28])\n",
      "fours_tensor_stacked torch.Size([5842, 28, 28])\n",
      "fives_tensor_stacked torch.Size([5421, 28, 28])\n",
      "sixes_tensor_stacked torch.Size([5918, 28, 28])\n",
      "sevens_tensor_stacked torch.Size([6265, 28, 28])\n",
      "eights_tensor_stacked torch.Size([5851, 28, 28])\n",
      "nines_tensor_stacked torch.Size([5949, 28, 28])\n"
     ]
    }
   ],
   "source": [
    "train_digits_stacked = {}\n",
    "for digit, digitTensorList in train_digits_tensor.items():\n",
    "    stacked_tensor = torch.stack(digitTensorList).float()/255\n",
    "    train_digits_stacked[digit + '_stacked'] = stacked_tensor\n",
    "    print(digit + '_stacked', stacked_tensor.shape) "
   ]
  },
  {
   "cell_type": "code",
   "execution_count": 11,
   "id": "75640b80-3af8-47e5-8ce7-de6c2b8235f7",
   "metadata": {},
   "outputs": [
    {
     "name": "stdout",
     "output_type": "stream",
     "text": [
      "dict_keys(['zeros_mean', 'ones_mean', 'twos_mean', 'threes_mean', 'fours_mean', 'fives_mean', 'sixes_mean', 'sevens_mean', 'eights_mean', 'nines_mean'])\n"
     ]
    },
    {
     "data": {
      "image/png": "[encoded data removed]",
      "text/plain": [
       "<Figure size 100x100 with 1 Axes>"
      ]
     },
     "metadata": {},
     "output_type": "display_data"
    },
    {
     "data": {
      "image/png": "[encoded data removed]",
      "text/plain": [
       "<Figure size 100x100 with 1 Axes>"
      ]
     },
     "metadata": {},
     "output_type": "display_data"
    },
    {
     "data": {
      "image/png": "[encoded data removed]",
      "text/plain": [
       "<Figure size 100x100 with 1 Axes>"
      ]
     },
     "metadata": {},
     "output_type": "display_data"
    },
    {
     "data": {
      "image/png": "[encoded data removed]",
      "text/plain": [
       "<Figure size 100x100 with 1 Axes>"
      ]
     },
     "metadata": {},
     "output_type": "display_data"
    },
    {
     "data": {
      "image/png": "[encoded data removed]",
      "text/plain": [
       "<Figure size 100x100 with 1 Axes>"
      ]
     },
     "metadata": {},
     "output_type": "display_data"
    },
    {
     "data": {
      "image/png": "[encoded data removed]",
      "text/plain": [
       "<Figure size 100x100 with 1 Axes>"
      ]
     },
     "metadata": {},
     "output_type": "display_data"
    },
    {
     "data": {
      "image/png": "[encoded data removed]",
      "text/plain": [
       "<Figure size 100x100 with 1 Axes>"
      ]
     },
     "metadata": {},
     "output_type": "display_data"
    },
    {
     "data": {
      "image/png": "[encoded data removed]",
      "text/plain": [
       "<Figure size 100x100 with 1 Axes>"
      ]
     },
     "metadata": {},
     "output_type": "display_data"
    },
    {
     "data": {
      "image/png": "[encoded data removed]",
      "text/plain": [
       "<Figure size 100x100 with 1 Axes>"
      ]
     },
     "metadata": {},
     "output_type": "display_data"
    },
    {
     "data": {
      "image/png": "[encoded data removed]",
      "text/plain": [
       "<Figure size 100x100 with 1 Axes>"
      ]
     },
     "metadata": {},
     "output_type": "display_data"
    }
   ],
   "source": [
    "mean_digits = {}\n",
    "for digit, stackedTensor in train_digits_stacked.items():\n",
    "    digit = digit.removesuffix('_tensor_stacked') + '_mean'\n",
    "    meanTensor = stackedTensor.mean(0)\n",
    "    show_image(meanTensor)\n",
    "    mean_digits[digit] = meanTensor\n",
    "print(mean_digits.keys())"
   ]
  },
  {
   "cell_type": "markdown",
   "id": "3d955beb-6a8f-45b7-bb66-a15287196aff",
   "metadata": {},
   "source": [
    "## Calculating loss"
   ]
  },
  {
   "cell_type": "code",
   "execution_count": 12,
   "id": "487e249f-7055-47a6-a0f1-ce8e3eb2dca4",
   "metadata": {},
   "outputs": [
    {
     "data": {
      "text/plain": [
       "<Axes: >"
      ]
     },
     "execution_count": 12,
     "metadata": {},
     "output_type": "execute_result"
    },
    {
     "data": {
      "image/png": "[encoded data removed]",
      "text/plain": [
       "<Figure size 100x100 with 1 Axes>"
      ]
     },
     "metadata": {},
     "output_type": "display_data"
    }
   ],
   "source": [
    "a_0 = train_digits_tensor['zeros_tensor'][0]\n",
    "show_image(a_0)"
   ]
  },
  {
   "cell_type": "code",
   "execution_count": 13,
   "id": "b133a53f-f437-4ea8-bc6d-d8e08e73e2d6",
   "metadata": {
    "scrolled": true
   },
   "outputs": [
    {
     "name": "stdout",
     "output_type": "stream",
     "text": [
      "loss compared to zeros_mean tensor(39.5873)\n",
      "loss compared to ones_mean tensor(39.6624)\n",
      "loss compared to twos_mean tensor(39.6678)\n",
      "loss compared to threes_mean tensor(39.6530)\n",
      "loss compared to fours_mean tensor(39.6684)\n",
      "loss compared to fives_mean tensor(39.6382)\n",
      "loss compared to sixes_mean tensor(39.6522)\n",
      "loss compared to sevens_mean tensor(39.6595)\n",
      "loss compared to eights_mean tensor(39.6572)\n",
      "loss compared to nines_mean tensor(39.6610)\n"
     ]
    }
   ],
   "source": [
    "for digit in mean_digits.keys():\n",
    "    print(f'loss compared to {digit}', F.l1_loss(a_0, mean_digits[digit]))"
   ]
  },
  {
   "cell_type": "code",
   "execution_count": 14,
   "id": "70fc53d1-ec47-4a4b-aaff-ef6652168956",
   "metadata": {},
   "outputs": [
    {
     "name": "stdout",
     "output_type": "stream",
     "text": [
      "tensor(15.4093)\n",
      "tensor(15.2817)\n",
      "tensor(15.3713)\n",
      "tensor(15.3606)\n",
      "tensor(15.3748)\n",
      "tensor(15.3600)\n",
      "tensor(15.3597)\n",
      "tensor(15.3581)\n",
      "tensor(15.3549)\n",
      "tensor(15.3598)\n"
     ]
    },
    {
     "data": {
      "image/png": "[encoded data removed]",
      "text/plain": [
       "<Figure size 100x100 with 1 Axes>"
      ]
     },
     "metadata": {},
     "output_type": "display_data"
    }
   ],
   "source": [
    "a_1 = train_digits_tensor['ones_tensor'][0]\n",
    "show_image(a_1)\n",
    "for digit in mean_digits.keys():\n",
    "    print(F.l1_loss(a_1, mean_digits[digit]))"
   ]
  },
  {
   "cell_type": "code",
   "execution_count": 15,
   "id": "fed66164-4631-4d14-b707-ca03e2177c1a",
   "metadata": {},
   "outputs": [
    {
     "name": "stdout",
     "output_type": "stream",
     "text": [
      "tensor(36.4215)\n",
      "tensor(36.3746)\n",
      "tensor(36.3967)\n",
      "tensor(36.3602)\n",
      "tensor(36.4164)\n",
      "tensor(36.3876)\n",
      "tensor(36.4057)\n",
      "tensor(36.3991)\n",
      "tensor(36.3828)\n",
      "tensor(36.3946)\n"
     ]
    },
    {
     "data": {
      "image/png": "[encoded data removed]",
      "text/plain": [
       "<Figure size 100x100 with 1 Axes>"
      ]
     },
     "metadata": {},
     "output_type": "display_data"
    }
   ],
   "source": [
    "a_3 = train_digits_tensor['threes_tensor'][0]\n",
    "show_image(a_3)\n",
    "for digit in mean_digits.keys():\n",
    "    print(F.l1_loss(a_3, mean_digits[digit]))"
   ]
  },
  {
   "cell_type": "code",
   "execution_count": 16,
   "id": "808e526f-4de1-49e1-b976-2e4de80ca596",
   "metadata": {},
   "outputs": [
    {
     "data": {
      "text/plain": [
       "tensor([])"
      ]
     },
     "execution_count": 16,
     "metadata": {},
     "output_type": "execute_result"
    }
   ],
   "source": [
    "torch.tensor([])"
   ]
  },
  {
   "cell_type": "code",
   "execution_count": 17,
   "id": "cd73182b-b272-443e-9ec8-3ee0b74a1310",
   "metadata": {},
   "outputs": [
    {
     "data": {
      "text/plain": [
       "(15.281706809997559, 1)"
      ]
     },
     "execution_count": 17,
     "metadata": {},
     "output_type": "execute_result"
    }
   ],
   "source": [
    "def predict(input):\n",
    "    predictions = []\n",
    "    for digit in mean_digits.keys():\n",
    "        predictions.append(F.l1_loss(input, mean_digits[digit]))\n",
    "    predictions = torch.stack(predictions)\n",
    "    return torch.min(predictions).item(), torch.argmin(predictions).item()\n",
    "predict(a_1)"
   ]
  },
  {
   "cell_type": "code",
   "execution_count": 18,
   "id": "5b88b2bf-a67a-4bb7-9400-a724f4e4c2f5",
   "metadata": {},
   "outputs": [],
   "source": [
    "valid_digits = { \n",
    "'zeros' : valid/'0',\n",
    "'ones' : valid/'1',\n",
    "'twos' : valid/'2',\n",
    "'threes' : valid/'3',\n",
    "'fours' : valid/'4',\n",
    "'fives' : valid/'5',\n",
    "'sixes' : valid/'6',\n",
    "'sevens' : valid/'7',\n",
    "'eights' : valid/'8',\n",
    "'nines' : valid/'9',\n",
    "}"
   ]
  },
  {
   "cell_type": "code",
   "execution_count": 19,
   "id": "72a53091-8290-4bec-90f9-4543510ce8c2",
   "metadata": {},
   "outputs": [],
   "source": [
    "valid_digits_tensor = {}\n",
    "for digit, path in valid_digits.items():\n",
    "    valid_digits_tensor[digit+'_tensor'] = [tensor(Image.open(o)) for o in path.ls().sorted()]"
   ]
  },
  {
   "cell_type": "code",
   "execution_count": 20,
   "id": "86d715c6-bab8-4984-91dc-70b344634fa8",
   "metadata": {},
   "outputs": [
    {
     "name": "stdout",
     "output_type": "stream",
     "text": [
      "zeros_tensor_stacked torch.Size([980, 28, 28])\n",
      "ones_tensor_stacked torch.Size([1135, 28, 28])\n",
      "twos_tensor_stacked torch.Size([1032, 28, 28])\n",
      "threes_tensor_stacked torch.Size([1010, 28, 28])\n",
      "fours_tensor_stacked torch.Size([982, 28, 28])\n",
      "fives_tensor_stacked torch.Size([892, 28, 28])\n",
      "sixes_tensor_stacked torch.Size([958, 28, 28])\n",
      "sevens_tensor_stacked torch.Size([1028, 28, 28])\n",
      "eights_tensor_stacked torch.Size([974, 28, 28])\n",
      "nines_tensor_stacked torch.Size([1009, 28, 28])\n"
     ]
    }
   ],
   "source": [
    "valid_digits_stacked = {}\n",
    "for digit, digitTensorList in valid_digits_tensor.items():\n",
    "    stacked_tensor = torch.stack(digitTensorList).float()/255\n",
    "    valid_digits_stacked[digit + '_stacked'] = stacked_tensor\n",
    "    print(digit + '_stacked', stacked_tensor.shape) "
   ]
  },
  {
   "cell_type": "code",
   "execution_count": 25,
   "id": "277d2c1f-7b78-49be-be1f-5c7de22a6f7a",
   "metadata": {},
   "outputs": [
    {
     "name": "stdout",
     "output_type": "stream",
     "text": [
      "0 zeros_tensor_stacked torch.Size([980, 28, 28])\n",
      "1 ones_tensor_stacked torch.Size([1135, 28, 28])\n",
      "2 twos_tensor_stacked torch.Size([1032, 28, 28])\n",
      "3 threes_tensor_stacked torch.Size([1010, 28, 28])\n",
      "4 fours_tensor_stacked torch.Size([982, 28, 28])\n",
      "5 fives_tensor_stacked torch.Size([892, 28, 28])\n",
      "6 sixes_tensor_stacked torch.Size([958, 28, 28])\n",
      "7 sevens_tensor_stacked torch.Size([1028, 28, 28])\n",
      "8 eights_tensor_stacked torch.Size([974, 28, 28])\n",
      "9 nines_tensor_stacked torch.Size([1009, 28, 28])\n"
     ]
    },
    {
     "name": "stderr",
     "output_type": "stream",
     "text": [
      "/tmp/ipykernel_23280/2243090946.py:4: UserWarning: Using a target size (torch.Size([28, 28])) that is different to the input size (torch.Size([980, 28, 28])). This will likely lead to incorrect results due to broadcasting. Please ensure they have the same size.\n",
      "  predictions.append(F.l1_loss(input, mean_digits[digit]))\n",
      "/tmp/ipykernel_23280/2243090946.py:4: UserWarning: Using a target size (torch.Size([28, 28])) that is different to the input size (torch.Size([1135, 28, 28])). This will likely lead to incorrect results due to broadcasting. Please ensure they have the same size.\n",
      "  predictions.append(F.l1_loss(input, mean_digits[digit]))\n",
      "/tmp/ipykernel_23280/2243090946.py:4: UserWarning: Using a target size (torch.Size([28, 28])) that is different to the input size (torch.Size([1032, 28, 28])). This will likely lead to incorrect results due to broadcasting. Please ensure they have the same size.\n",
      "  predictions.append(F.l1_loss(input, mean_digits[digit]))\n",
      "/tmp/ipykernel_23280/2243090946.py:4: UserWarning: Using a target size (torch.Size([28, 28])) that is different to the input size (torch.Size([1010, 28, 28])). This will likely lead to incorrect results due to broadcasting. Please ensure they have the same size.\n",
      "  predictions.append(F.l1_loss(input, mean_digits[digit]))\n",
      "/tmp/ipykernel_23280/2243090946.py:4: UserWarning: Using a target size (torch.Size([28, 28])) that is different to the input size (torch.Size([982, 28, 28])). This will likely lead to incorrect results due to broadcasting. Please ensure they have the same size.\n",
      "  predictions.append(F.l1_loss(input, mean_digits[digit]))\n",
      "/tmp/ipykernel_23280/2243090946.py:4: UserWarning: Using a target size (torch.Size([28, 28])) that is different to the input size (torch.Size([892, 28, 28])). This will likely lead to incorrect results due to broadcasting. Please ensure they have the same size.\n",
      "  predictions.append(F.l1_loss(input, mean_digits[digit]))\n",
      "/tmp/ipykernel_23280/2243090946.py:4: UserWarning: Using a target size (torch.Size([28, 28])) that is different to the input size (torch.Size([958, 28, 28])). This will likely lead to incorrect results due to broadcasting. Please ensure they have the same size.\n",
      "  predictions.append(F.l1_loss(input, mean_digits[digit]))\n",
      "/tmp/ipykernel_23280/2243090946.py:4: UserWarning: Using a target size (torch.Size([28, 28])) that is different to the input size (torch.Size([1028, 28, 28])). This will likely lead to incorrect results due to broadcasting. Please ensure they have the same size.\n",
      "  predictions.append(F.l1_loss(input, mean_digits[digit]))\n",
      "/tmp/ipykernel_23280/2243090946.py:4: UserWarning: Using a target size (torch.Size([28, 28])) that is different to the input size (torch.Size([974, 28, 28])). This will likely lead to incorrect results due to broadcasting. Please ensure they have the same size.\n",
      "  predictions.append(F.l1_loss(input, mean_digits[digit]))\n",
      "/tmp/ipykernel_23280/2243090946.py:4: UserWarning: Using a target size (torch.Size([28, 28])) that is different to the input size (torch.Size([1009, 28, 28])). This will likely lead to incorrect results due to broadcasting. Please ensure they have the same size.\n",
      "  predictions.append(F.l1_loss(input, mean_digits[digit]))\n"
     ]
    },
    {
     "data": {
      "text/plain": [
       "0"
      ]
     },
     "execution_count": 25,
     "metadata": {},
     "output_type": "execute_result"
    }
   ],
   "source": [
    "counter = 0\n",
    "for i, digit in enumerate(valid_digits_stacked.items()):\n",
    "    if i == predict(digit[1]):\n",
    "        counter += 1\n",
    "    print(i, digit[0], digit[1].shape)\n",
    "counter"
   ]
  },
  {
   "cell_type": "code",
   "execution_count": null,
   "id": "22bab0b0-0ee8-46df-912d-67320ff75fc6",
   "metadata": {},
   "outputs": [],
   "source": []
  }
 ],
 "metadata": {
  "kernelspec": {
   "display_name": "Python 3 (ipykernel)",
   "language": "python",
   "name": "python3"
  },
  "language_info": {
   "codemirror_mode": {
    "name": "ipython",
    "version": 3
   },
   "file_extension": ".py",
   "mimetype": "text/x-python",
   "name": "python",
   "nbconvert_exporter": "python",
   "pygments_lexer": "ipython3",
   "version": "3.10.14"
  }
 },
 "nbformat": 4,
 "nbformat_minor": 5
}
