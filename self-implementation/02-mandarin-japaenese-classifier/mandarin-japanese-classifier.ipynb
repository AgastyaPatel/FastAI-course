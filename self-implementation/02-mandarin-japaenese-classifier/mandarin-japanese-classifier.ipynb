{
 "cells": [
  {
   "cell_type": "code",
   "execution_count": 2,
   "id": "32ae0fdf-47da-4f71-9c01-b1010bf39d95",
   "metadata": {},
   "outputs": [
    {
     "name": "stderr",
     "output_type": "stream",
     "text": [
      "/home/agastya/miniforge3/lib/python3.10/site-packages/fastbook/__init__.py:13: UserWarning: Missing `sentencepiece` - please run `pip install 'sentencepiece<0.1.90'`\n",
      "  except ModuleNotFoundError: warn(\"Missing `sentencepiece` - please run `pip install 'sentencepiece<0.1.90'`\")\n"
     ]
    }
   ],
   "source": [
    "! [ -e /content ] && pip install -Uqq fastbook\n",
    "import fastbook\n",
    "fastbook.setup_book()"
   ]
  },
  {
   "cell_type": "code",
   "execution_count": 3,
   "id": "e7abafe4-9917-4a2a-bc13-fe34cbaba1f0",
   "metadata": {},
   "outputs": [],
   "source": [
    "from fastai.vision.all import *"
   ]
  },
  {
   "cell_type": "code",
   "execution_count": 4,
   "id": "26f1c305-1140-47f5-a3c7-a01c8945845c",
   "metadata": {
    "editable": true,
    "slideshow": {
     "slide_type": ""
    },
    "tags": []
   },
   "outputs": [],
   "source": [
    "%%capture\n",
    "!pip install duckduckgo-search nbdev"
   ]
  },
  {
   "cell_type": "code",
   "execution_count": 69,
   "id": "a6405084-de64-41b2-a0c8-e6ac2caa2048",
   "metadata": {},
   "outputs": [],
   "source": [
    "# Creating search function\n",
    "from duckduckgo_search import ddg_images\n",
    "\n",
    "def search_images(term, max_items = 30):\n",
    "    print(f'{term} images')\n",
    "    return L(ddg_images(term, max_results = max_items, color = 'Monochrome'))\n",
    "                        # , size = 'large', type_image='photo'))"
   ]
  },
  {
   "cell_type": "code",
   "execution_count": 27,
   "id": "52c2be56-56c3-40ed-9600-4c57d2f242ce",
   "metadata": {},
   "outputs": [
    {
     "data": {
      "text/plain": [
       "Path('/home/agastya/notebooks/FastAI-course/self-implementation/02-mandarin-japaenese-classifier/dataset')"
      ]
     },
     "execution_count": 27,
     "metadata": {},
     "output_type": "execute_result"
    }
   ],
   "source": [
    "# Setting Current Notebook Directory as Path\n",
    "path = Path('.').cwd()/'dataset'\n",
    "path"
   ]
  },
  {
   "cell_type": "code",
   "execution_count": 59,
   "id": "9dd2b0a0-ef01-44f8-aded-54d9c679eedb",
   "metadata": {},
   "outputs": [
    {
     "name": "stdout",
     "output_type": "stream",
     "text": [
      "mandarin text images\n",
      "https://utalk.com/news/wp-content/uploads/2020/06/GettyImages-997790960.jpg\n"
     ]
    },
    {
     "data": {
      "text/html": [
       "\n",
       "<style>\n",
       "    /* Turns off some styling */\n",
       "    progress {\n",
       "        /* gets rid of default border in Firefox and Opera. */\n",
       "        border: none;\n",
       "        /* Needs to be in here for Safari polyfill so background images work as expected. */\n",
       "        background-size: auto;\n",
       "    }\n",
       "    progress:not([value]), progress:not([value])::-webkit-progress-bar {\n",
       "        background: repeating-linear-gradient(45deg, #7e7e7e, #7e7e7e 10px, #5c5c5c 10px, #5c5c5c 20px);\n",
       "    }\n",
       "    .progress-bar-interrupted, .progress-bar-interrupted::-webkit-progress-bar {\n",
       "        background: #F44336;\n",
       "    }\n",
       "</style>\n"
      ],
      "text/plain": [
       "<IPython.core.display.HTML object>"
      ]
     },
     "metadata": {},
     "output_type": "display_data"
    },
    {
     "data": {
      "text/html": [
       "\n",
       "    <div>\n",
       "      <progress value='131072' class='' max='123660' style='width:300px; height:20px; vertical-align: middle;'></progress>\n",
       "      105.99% [131072/123660 00:00&lt;00:00]\n",
       "    </div>\n",
       "    "
      ],
      "text/plain": [
       "<IPython.core.display.HTML object>"
      ]
     },
     "metadata": {},
     "output_type": "display_data"
    },
    {
     "data": {
      "text/plain": [
       "Path('/home/agastya/notebooks/FastAI-course/self-implementation/02-mandarin-japaenese-classifier/dataset/mandarin/test.png')"
      ]
     },
     "execution_count": 59,
     "metadata": {},
     "output_type": "execute_result"
    }
   ],
   "source": [
    "# Testing single image\n",
    "from fastbook import *\n",
    "test_mandarin = search_images('mandarin text', 1).itemgot('image')[0]\n",
    "print(test_mandarin)\n",
    "download_url(test_mandarin, path/'mandarin/test.png')"
   ]
  },
  {
   "cell_type": "code",
   "execution_count": 30,
   "id": "96c0b79e-76f0-489b-8c04-c0db3016609f",
   "metadata": {},
   "outputs": [
    {
     "data": {
      "image/jpeg": "[encoded data removed]",
      "image/png": "[encoded data removed]",
      "text/plain": [
       "<PIL.Image.Image image mode=RGB size=120x89>"
      ]
     },
     "execution_count": 30,
     "metadata": {},
     "output_type": "execute_result"
    }
   ],
   "source": [
    "im = Image.open(path/'mandarin/test.png')\n",
    "im.to_thumb(120)"
   ]
  },
  {
   "cell_type": "code",
   "execution_count": 70,
   "id": "688bf91b-3de4-414a-a1cd-5b69d9befaf7",
   "metadata": {},
   "outputs": [
    {
     "name": "stdout",
     "output_type": "stream",
     "text": [
      "mandarin texts images\n",
      "japanese texts images\n"
     ]
    },
    {
     "data": {
      "text/plain": [
       "(#30) ['https://1.bp.blogspot.com/-GMeObo1DqfI/Uyb8Gmf2OnI/AAAAAAAAAUY/c-OtRySzb5g/s1600/mandarin-chinese-text.jpg','https://shwestrick.github.io/assets/mandarin/pages/mandarin - page 2.png','https://shwestrick.github.io/assets/mandarin/pages/mandarin - page 24.png','https://static.turbosquid.com/Preview/2017/10/22__16_57_41/Mandarin1set.jpg7585E747-A8CB-42C6-949E-5B74506EE1BCLarge.jpg','https://www.omniglot.com/images/langsamples/udhr_chinese_zhuyin.gif','https://i.pinimg.com/originals/83/46/32/834632fba80ab27041f3dbaf8b187bce.png','https://media.fontsgeek.com/generated/m/a/mandarin-regular-charmap.png','https://shwestrick.github.io/assets/mandarin/summary/mandarin summary - page 1.png','https://oppidanlibrary.com/wp-content/uploads/2017/04/Mandarin-Letters-Pattern.gif','https://shwestrick.github.io/assets/mandarin/pages/mandarin - page 6.png'...]"
      ]
     },
     "execution_count": 70,
     "metadata": {},
     "output_type": "execute_result"
    }
   ],
   "source": [
    "# Search Images\n",
    "mandarin_images = search_images('mandarin texts', 30).itemgot('image')\n",
    "japanese_images = search_images('japanese texts', 30).itemgot('image')\n",
    "mandarin_images"
   ]
  },
  {
   "cell_type": "code",
   "execution_count": 88,
   "id": "b5da71bf-3d8f-462f-821c-8915a95ea23a",
   "metadata": {},
   "outputs": [],
   "source": [
    "# Download and refresh images\n",
    "import shutil\n",
    "if path.exists():\n",
    "    shutil.rmtree(path)\n",
    "\n",
    "path.mkdir()\n",
    "download_images(path/'mandarin', urls = mandarin_images)\n",
    "download_images(path/'japanese', urls = japanese_images)"
   ]
  },
  {
   "cell_type": "code",
   "execution_count": 89,
   "id": "27d476e8-d270-4207-bb8f-7e101cc1caa5",
   "metadata": {},
   "outputs": [],
   "source": [
    "# Clean up any other file type which were downloaded\n",
    "def delete_otherImage_formats(folder_name:str):\n",
    "    files = [f for f in os.listdir(path/folder_name)]\n",
    "    for f in files:\n",
    "        if f.endswith(('jpg', 'png', 'jpeg')):\n",
    "            pass\n",
    "        else:\n",
    "            os.remove(path/folder_name/f)\n",
    "\n",
    "delete_otherImage_formats('mandarin')"
   ]
  },
  {
   "cell_type": "code",
   "execution_count": 90,
   "id": "472c0566-8280-4d32-a65b-d099404f32b9",
   "metadata": {},
   "outputs": [
    {
     "name": "stdout",
     "output_type": "stream",
     "text": [
      "Mandarin Images\n",
      "['37a92e54-a2ea-46aa-9b4c-18cde961c3ce.jpg', 'fb1e4972-9cd8-462d-a228-997128301be2.jpg', '72864df4-b3d0-49e9-a46e-087a8276ba40.png', 'd7cd2e82-b464-4752-80de-bc6ef3ffc619.png', '4ac7a575-cb9b-4984-9534-e9fb317d0150.png', 'cdbcbf7a-65e4-4bc3-bf56-07fe088f8525.jpg', '3220af18-f5a0-49d4-9d58-8b36ffc7c2e2.png', '51b80735-004b-4545-92f1-b6151dd6b037.jpg', 'db1abbee-dff6-4d81-86e5-c080f381e907.jpg', 'd6e60f1a-f7aa-42d8-8742-c773572aad8e.png', '66b7465c-685d-43d2-b5e5-6eadc9474362.jpg', 'c2f8bf7e-d6cd-469a-8422-0d642cf49663.jpg', 'eb562522-8c34-4602-8432-e9314aa6339a.png', 'cedd560b-b41f-4bdb-bce2-027ec600cbed.png', '499da566-2372-4c09-96c6-dd57aac30bc1.png', '9ee252e6-420b-4c3f-a573-c62cc6066c7a.png', '9f587e10-ebc1-4e0f-a9d2-4b20fdd305e6.jpg', 'cda80aa8-4b07-4966-a56d-3353cfad411d.jpg', 'dae94c42-6dab-4ff3-a412-ee6a892f904a.png', 'cd99d503-600c-4468-aa1d-472aeac22692.png', '51881294-aa0f-4aa6-a12d-1579f102c45e.jpg', '69f6fd41-9c06-48b1-bccb-82cf8d763d35.png', '4fbdeafe-f3eb-4492-97f1-58d82e75b53f.png']\n"
     ]
    }
   ],
   "source": [
    "print('Mandarin Images')\n",
    "mandarin_files = [f for f in os.listdir(path/'mandarin')]\n",
    "print(mandarin_files)"
   ]
  },
  {
   "cell_type": "code",
   "execution_count": 83,
   "id": "4d27b66c-bba0-40f0-bdfe-d496d4f5894d",
   "metadata": {},
   "outputs": [
    {
     "data": {
      "application/vnd.jupyter.widget-view+json": {
       "model_id": "46c21d9bda01401f9852ffff38bc323a",
       "version_major": 2,
       "version_minor": 0
      },
      "text/plain": [
       "interactive(children=(IntSlider(value=0, description='x', max=29), Output()), _dom_classes=('widget-interact',…"
      ]
     },
     "metadata": {},
     "output_type": "display_data"
    }
   ],
   "source": [
    "@widgets.interact(x = (0,29))\n",
    "def f(x=0):\n",
    "    im = Image.open(path/'mandarin'/mandarin_files[x])\n",
    "    im.to_thumb(200)"
   ]
  },
  {
   "cell_type": "code",
   "execution_count": null,
   "id": "f59e5fc3-5f29-43d6-bed7-51c6e314d933",
   "metadata": {},
   "outputs": [],
   "source": [
    "print(path/'mandarin', type(path/'mandarin'))"
   ]
  }
 ],
 "metadata": {
  "kernelspec": {
   "display_name": "Python 3 (ipykernel)",
   "language": "python",
   "name": "python3"
  },
  "language_info": {
   "codemirror_mode": {
    "name": "ipython",
    "version": 3
   },
   "file_extension": ".py",
   "mimetype": "text/x-python",
   "name": "python",
   "nbconvert_exporter": "python",
   "pygments_lexer": "ipython3",
   "version": "3.10.12"
  }
 },
 "nbformat": 4,
 "nbformat_minor": 5
}
