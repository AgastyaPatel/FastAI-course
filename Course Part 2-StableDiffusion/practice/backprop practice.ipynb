{
 "cells": [
  {
   "cell_type": "code",
   "execution_count": 1,
   "id": "97d92703-4090-4069-a1ea-9e65823443c4",
   "metadata": {},
   "outputs": [],
   "source": [
    "from torch import tensor"
   ]
  },
  {
   "cell_type": "code",
   "execution_count": 2,
   "id": "efc6ee97-ddd2-46e3-afa5-23e0b6f2b514",
   "metadata": {},
   "outputs": [
    {
     "data": {
      "text/plain": [
       "(torch.Size([3, 1]), torch.Size([3]))"
      ]
     },
     "execution_count": 2,
     "metadata": {},
     "output_type": "execute_result"
    }
   ],
   "source": [
    "t1 = tensor([[1], [2], [3]])\n",
    "t2 = tensor([1,2,3])\n",
    "t1.shape, t2.shape"
   ]
  },
  {
   "cell_type": "code",
   "execution_count": 3,
   "id": "0b863dbd-cfc1-497d-81f1-bb3e334b0b26",
   "metadata": {},
   "outputs": [
    {
     "data": {
      "text/plain": [
       "tensor([1, 2, 3])"
      ]
     },
     "execution_count": 3,
     "metadata": {},
     "output_type": "execute_result"
    }
   ],
   "source": [
    "t1[:, 0]"
   ]
  },
  {
   "cell_type": "code",
   "execution_count": 4,
   "id": "bc8eb3a1-0942-4772-a186-7758031cd015",
   "metadata": {},
   "outputs": [],
   "source": [
    "# The forward and backward pass\n",
    "def relu(x): return x.clamp_min(0.)"
   ]
  },
  {
   "cell_type": "code",
   "execution_count": 5,
   "id": "0c32783b-8357-4a1b-806a-d18435b01ff1",
   "metadata": {},
   "outputs": [],
   "source": [
    "def lin(x, w, b): return x@w + b"
   ]
  },
  {
   "cell_type": "code",
   "execution_count": 6,
   "id": "b0a0ad33-4a21-42bc-8bfd-a42ef659c9d8",
   "metadata": {},
   "outputs": [],
   "source": [
    "import pickle, gzip, math, os, time, shutil, torch, matplotlib as mpl, numpy as np, matplotlib.pyplot as plt\n",
    "from pathlib import Path\n",
    "from torch import tensor, nn\n",
    "import torch.nn.functional as F"
   ]
  },
  {
   "cell_type": "code",
   "execution_count": 7,
   "id": "8288f9b5-eca6-463a-973e-a21937187265",
   "metadata": {},
   "outputs": [],
   "source": [
    "from fastcore.test import test_close\n",
    "\n",
    "torch.set_printoptions(precision=2, linewidth=2, sci_mode=False)\n",
    "torch.manual_seed(1)\n",
    "mpl.rcParams['image.cmap'] = 'gray'\n",
    "\n",
    "path_data = Path('data')\n",
    "path_gz = path_data/'mnist.pkl.gz'\n",
    "with gzip.open(path_gz, 'rb') as f:\n",
    "    ((x_train, y_train), (x_valid, y_valid), _) = pickle.load(f, encoding = 'latin-1')\n",
    "    x_train, y_train, x_valid, y_valid = map(tensor, [x_train, y_train, x_valid, y_valid])"
   ]
  },
  {
   "cell_type": "code",
   "execution_count": 8,
   "id": "1d935ba8-7417-4288-b163-64104357b0c7",
   "metadata": {},
   "outputs": [
    {
     "data": {
      "text/plain": [
       "(torch.Size([50000, 784]),\n",
       " torch.Size([50000]),\n",
       " torch.Size([10000, 784]),\n",
       " torch.Size([10000]))"
      ]
     },
     "execution_count": 8,
     "metadata": {},
     "output_type": "execute_result"
    }
   ],
   "source": [
    "x_train.shape, y_train.shape, x_valid.shape, y_valid.shape"
   ]
  },
  {
   "cell_type": "code",
   "execution_count": 9,
   "id": "7c8ee875-0c57-4741-80f7-17a53f4d4721",
   "metadata": {},
   "outputs": [
    {
     "data": {
      "text/plain": [
       "(50000, 784, tensor(10))"
      ]
     },
     "execution_count": 9,
     "metadata": {},
     "output_type": "execute_result"
    }
   ],
   "source": [
    "n, m = x_train.shape\n",
    "c = y_train.max() + 1\n",
    "n, m, c"
   ]
  },
  {
   "cell_type": "code",
   "execution_count": 10,
   "id": "a90cc15d-7b11-47a3-b952-c02647219933",
   "metadata": {},
   "outputs": [],
   "source": [
    "nh = 50\n",
    "w1 = torch.randn(m, nh)\n",
    "b1 = torch.randn(nh)\n",
    "w2 = torch.randn(nh, 1)\n",
    "b2 = torch.randn(1)"
   ]
  },
  {
   "cell_type": "code",
   "execution_count": 11,
   "id": "bff86503-6aa0-4ade-ad1c-a951906c2065",
   "metadata": {},
   "outputs": [
    {
     "data": {
      "text/plain": [
       "torch.Size([10000, 50])"
      ]
     },
     "execution_count": 11,
     "metadata": {},
     "output_type": "execute_result"
    }
   ],
   "source": [
    "t = lin(x_valid, w1, b1)\n",
    "t.shape"
   ]
  },
  {
   "cell_type": "code",
   "execution_count": 12,
   "id": "3973b994-74ad-438a-9ef9-1c0396b4b387",
   "metadata": {},
   "outputs": [],
   "source": [
    "t = relu(t)"
   ]
  },
  {
   "cell_type": "code",
   "execution_count": 13,
   "id": "a5f526eb-ca55-4b7f-93d6-d67a2a81a96e",
   "metadata": {},
   "outputs": [],
   "source": [
    "def model(xb):\n",
    "    l1 = lin(xb, w1, b1)\n",
    "    l2 = relu(l1)\n",
    "    return lin(l2, w2, b2)"
   ]
  },
  {
   "cell_type": "code",
   "execution_count": 14,
   "id": "8ff19322-8910-4056-8c12-d8ce3a611b3a",
   "metadata": {},
   "outputs": [
    {
     "data": {
      "text/plain": [
       "torch.Size([10000, 1])"
      ]
     },
     "execution_count": 14,
     "metadata": {},
     "output_type": "execute_result"
    }
   ],
   "source": [
    "res = model(x_valid)\n",
    "res.shape"
   ]
  },
  {
   "cell_type": "markdown",
   "id": "c31435d4-3962-4c9f-aad4-9e3cf4762bde",
   "metadata": {},
   "source": [
    "#### Loss Function\n",
    "ofcourse, `mse` is not suitable for multiclass classifier"
   ]
  },
  {
   "cell_type": "code",
   "execution_count": 15,
   "id": "d96cb55d-153a-40dc-a94d-4cff984a19aa",
   "metadata": {},
   "outputs": [
    {
     "data": {
      "text/plain": [
       "(torch.Size([10000, 1]), torch.Size([10000]))"
      ]
     },
     "execution_count": 15,
     "metadata": {},
     "output_type": "execute_result"
    }
   ],
   "source": [
    "res.shape, y_valid.shape"
   ]
  },
  {
   "cell_type": "code",
   "execution_count": 16,
   "id": "7140a4c2-593d-4425-8b4c-79356b8fad21",
   "metadata": {},
   "outputs": [
    {
     "data": {
      "text/plain": [
       "torch.Size([10000])"
      ]
     },
     "execution_count": 16,
     "metadata": {},
     "output_type": "execute_result"
    }
   ],
   "source": [
    "(res.squeeze() - y_valid).shape"
   ]
  },
  {
   "cell_type": "code",
   "execution_count": 17,
   "id": "126923e7-6950-4cea-96dd-6f6e74c52aed",
   "metadata": {},
   "outputs": [],
   "source": [
    "y_train, y_valid = y_train.float(), y_valid.float()"
   ]
  },
  {
   "cell_type": "code",
   "execution_count": 18,
   "id": "ee262c38-beda-451f-9e63-40764138a8ca",
   "metadata": {},
   "outputs": [
    {
     "data": {
      "text/plain": [
       "torch.Size([50000, 1])"
      ]
     },
     "execution_count": 18,
     "metadata": {},
     "output_type": "execute_result"
    }
   ],
   "source": [
    "preds = model(x_train)\n",
    "preds.shape"
   ]
  },
  {
   "cell_type": "code",
   "execution_count": 19,
   "id": "461ef101-5c8d-4cd8-8bae-9b2f9a4080ac",
   "metadata": {},
   "outputs": [],
   "source": [
    "def mse(output, target):\n",
    "    return (output[:, 0]-target).pow(2).mean()"
   ]
  },
  {
   "cell_type": "code",
   "execution_count": 20,
   "id": "698e3c9c-d3f7-4f79-adb6-378a8571c5dc",
   "metadata": {},
   "outputs": [
    {
     "data": {
      "text/plain": [
       "tensor(1099.57)"
      ]
     },
     "execution_count": 20,
     "metadata": {},
     "output_type": "execute_result"
    }
   ],
   "source": [
    "mse(preds, y_train)"
   ]
  },
  {
   "cell_type": "markdown",
   "id": "80571339-6383-4f23-8b2a-6d2ef0cf69d8",
   "metadata": {},
   "source": [
    "#### Gradient and backward pass"
   ]
  },
  {
   "cell_type": "code",
   "execution_count": 21,
   "id": "6151ce64-ea9d-454c-9c8a-3eb5ad0ac59c",
   "metadata": {},
   "outputs": [
    {
     "data": {
      "text/latex": [
       "$\\displaystyle 2 x$"
      ],
      "text/plain": [
       "2*x"
      ]
     },
     "execution_count": 21,
     "metadata": {},
     "output_type": "execute_result"
    }
   ],
   "source": [
    "from sympy import symbols, diff\n",
    "x, y = symbols('x y')\n",
    "diff(x**2, x)"
   ]
  },
  {
   "cell_type": "code",
   "execution_count": 22,
   "id": "5051e874-7284-4fb8-bec8-ac65aa695f2b",
   "metadata": {},
   "outputs": [
    {
     "data": {
      "text/latex": [
       "$\\displaystyle 6 x$"
      ],
      "text/plain": [
       "6*x"
      ]
     },
     "execution_count": 22,
     "metadata": {},
     "output_type": "execute_result"
    }
   ],
   "source": [
    "diff(3*x**2+9, x)"
   ]
  },
  {
   "cell_type": "code",
   "execution_count": 23,
   "id": "d960d7c0-7fa2-4029-95f0-68170b6720e4",
   "metadata": {},
   "outputs": [],
   "source": [
    "def lin_grad(inp, out, w, b):\n",
    "    inp.g = out.g @ w.t()\n",
    "    # import pdb; pdb.set_trace()\n",
    "    w.g = (inp.unsqueeze(-1) * out.g.unsqueeze(1)).sum(0)\n",
    "    b.g = out.g.sum(0)"
   ]
  },
  {
   "cell_type": "code",
   "execution_count": 24,
   "id": "a100aff1-b034-491d-982e-87ddf17cc2ce",
   "metadata": {},
   "outputs": [],
   "source": [
    "def forward_and_backward(inp, target):\n",
    "    l1 = lin(inp, w1, b1)\n",
    "    l2 = relu(l1)\n",
    "    out = lin(l2, w2, b2)\n",
    "    diff = out[:, 0] - target\n",
    "    loss = diff.pow(2).mean()\n",
    "    \n",
    "    # backward pass\n",
    "    out.g = 2*diff[:, None] / inp.shape[0]\n",
    "    lin_grad(l2, out, w2, b2)\n",
    "    l1.g = (l1>0).float() * l2.g\n",
    "    lin_grad(inp, l1, w1, b1)"
   ]
  },
  {
   "cell_type": "code",
   "execution_count": 25,
   "id": "848bcea6-26fa-4abe-bdb9-d256c8985ec3",
   "metadata": {
    "scrolled": true
   },
   "outputs": [],
   "source": [
    "forward_and_backward(x_train, y_train)"
   ]
  },
  {
   "cell_type": "code",
   "execution_count": 26,
   "id": "62fd5c64-e536-4e8d-81cc-200532679f50",
   "metadata": {},
   "outputs": [
    {
     "data": {
      "text/plain": [
       "torch.Size([50000, 784])"
      ]
     },
     "execution_count": 26,
     "metadata": {},
     "output_type": "execute_result"
    }
   ],
   "source": [
    "x_train.g.shape # This is input gradients :)"
   ]
  },
  {
   "cell_type": "code",
   "execution_count": 27,
   "id": "497bcb7e-24ae-478f-8089-f3c76154642a",
   "metadata": {},
   "outputs": [],
   "source": [
    "def get_grad(x): return x.g.clone()\n",
    "chks = w1, w2, b1, b2, x_train\n",
    "grads = w1g, w2g, b1g, b2g, ig = tuple(map(get_grad, chks))"
   ]
  },
  {
   "cell_type": "code",
   "execution_count": 28,
   "id": "d7527621-3eb0-4ee1-b516-206e877ffe4c",
   "metadata": {},
   "outputs": [],
   "source": [
    "# Using pytorch's auto grad \n",
    "def mkgrad(x):\n",
    "    return x.clone().requires_grad_()\n",
    "ptgrads = w12, w22, b12, b22, xt2 = tuple(map(mkgrad, chks))"
   ]
  },
  {
   "cell_type": "code",
   "execution_count": 29,
   "id": "19db0cca-9253-4334-9195-d79ee63d3357",
   "metadata": {},
   "outputs": [],
   "source": [
    "def forward(inp, targ):\n",
    "    l1 = lin(inp, w12, b12)\n",
    "    l2 = relu(l1)\n",
    "    out = lin(l2, w22, b22)\n",
    "    return mse(out, targ)"
   ]
  },
  {
   "cell_type": "code",
   "execution_count": 30,
   "id": "f8ec38e0-3935-4f54-adc8-a8e27460e864",
   "metadata": {},
   "outputs": [],
   "source": [
    "loss = forward(xt2, y_train)\n",
    "loss.backward()"
   ]
  },
  {
   "cell_type": "code",
   "execution_count": 31,
   "id": "99a27309-8a25-48c2-b41e-80d33c8fe265",
   "metadata": {},
   "outputs": [
    {
     "data": {
      "text/plain": [
       "torch.Size([50000, 784])"
      ]
     },
     "execution_count": 31,
     "metadata": {},
     "output_type": "execute_result"
    }
   ],
   "source": [
    "xt2.grad.shape"
   ]
  },
  {
   "cell_type": "code",
   "execution_count": 32,
   "id": "4df07651-a8f2-4359-bb8e-351d73c5d4aa",
   "metadata": {},
   "outputs": [],
   "source": [
    "for a,b in zip(grads, ptgrads): test_close(a, b.grad, eps=0.01)"
   ]
  },
  {
   "cell_type": "markdown",
   "id": "10e7b0e8-d8ee-4fca-b943-ac07014d6900",
   "metadata": {},
   "source": [
    "### Refactor Model\n",
    "#### Layer as classes\n"
   ]
  },
  {
   "cell_type": "code",
   "execution_count": 33,
   "id": "56dfee27-65ab-4308-8bb5-6793884348b0",
   "metadata": {},
   "outputs": [],
   "source": [
    "class ReLU():\n",
    "    def __call__(self, inp):\n",
    "        self.inp = inp\n",
    "        self.out = inp.clamp_min(0.)\n",
    "        return self.out\n",
    "    def backward(self): self.inp.g = (self.inp>0).float() * self.out.g"
   ]
  },
  {
   "cell_type": "code",
   "execution_count": 34,
   "id": "09c6482d-0c2f-4870-8baf-ed3c701441cd",
   "metadata": {},
   "outputs": [],
   "source": [
    "class Lin():\n",
    "    def __init__(self, w, b): self.w, self.b = w, b\n",
    "    def __call__(self, inp):\n",
    "        self.inp = inp\n",
    "        self.out = lin(self.inp, self.w, self.b)\n",
    "        return self.out\n",
    "    def backward(self):\n",
    "        self.inp.g = self.out.g @ self.w.t()\n",
    "        self.w.g = self.inp.t() @ self.out.g\n",
    "        self.b.g = self.out.g.sum()"
   ]
  },
  {
   "cell_type": "code",
   "execution_count": 40,
   "id": "9a5021d4-4a1f-4f49-b6ab-38b77134e657",
   "metadata": {},
   "outputs": [],
   "source": [
    "class MSE():\n",
    "    def __call__(self, inp, target):\n",
    "        self.inp, self.target = inp, target\n",
    "        self.out = mse(inp, target)\n",
    "        return self.out\n",
    "    def backward(self):\n",
    "        self.inp.g = 2*(self.inp.squeeze() - self.target).unsqueeze(-1) / self.target.shape[0]"
   ]
  },
  {
   "cell_type": "code",
   "execution_count": 41,
   "id": "6fcb89e4-cdfa-4357-840c-65ec2389c91b",
   "metadata": {},
   "outputs": [],
   "source": [
    "class Model():\n",
    "    def __init__(self, w1, b1, w2, b2):\n",
    "        self.layers = [Lin(w1, b1), ReLU(), Lin(w2, b2)]\n",
    "        self.loss = MSE()\n",
    "    def __call__(self, x, target):\n",
    "        for l in self.layers: x = l(x)\n",
    "        return self.loss(x, target)\n",
    "    def backward(self):\n",
    "        self.loss.backward()\n",
    "        for l in reversed(self.layers): l.backward()"
   ]
  },
  {
   "cell_type": "code",
   "execution_count": 42,
   "id": "74b42eec-f7cb-4660-9649-4ee8538a02a1",
   "metadata": {},
   "outputs": [],
   "source": [
    "model = Model(w1, b1, w2, b2)"
   ]
  },
  {
   "cell_type": "code",
   "execution_count": 43,
   "id": "a50acbda-662e-45dc-befc-0d3c55b6b9b8",
   "metadata": {},
   "outputs": [],
   "source": [
    "\n",
    "loss = model(x_train, y_train)"
   ]
  },
  {
   "cell_type": "code",
   "execution_count": 44,
   "id": "da4b05e6-3dc0-44e2-b75f-6fff696ebad4",
   "metadata": {},
   "outputs": [],
   "source": [
    "model.backward()"
   ]
  },
  {
   "cell_type": "code",
   "execution_count": 45,
   "id": "7d8ef394-4c6c-4eb3-a4a9-ed11f28038f6",
   "metadata": {},
   "outputs": [
    {
     "data": {
      "text/plain": [
       "tensor(1099.57)"
      ]
     },
     "execution_count": 45,
     "metadata": {},
     "output_type": "execute_result"
    }
   ],
   "source": [
    "loss"
   ]
  },
  {
   "cell_type": "code",
   "execution_count": 46,
   "id": "785e057e-f9cf-42b8-a4b4-7d39e1afa42e",
   "metadata": {},
   "outputs": [
    {
     "ename": "AssertionError",
     "evalue": "close:\ntensor([    -2.26,\n             4.60,\n            -1.04,\n            15.45,\n             1.46,\n             1.06,\n             0.30,\n            -2.27,\n            -4.57,\n            27.46,\n             1.50,\n            -0.18,\n             4.44,\n            -1.66,\n            -0.62,\n             1.90,\n            -0.35,\n             3.02,\n           -10.52,\n            -1.99,\n            -4.79,\n            -0.25,\n             1.53,\n             5.97,\n            -2.83,\n             3.00,\n             5.72,\n             0.25,\n            13.75,\n             2.26,\n            -2.78,\n            11.07,\n             1.06,\n             8.98,\n             0.35,\n             2.28,\n            -0.05,\n             2.79,\n            -1.92,\n             5.67,\n            -2.24,\n            -0.02,\n             0.78,\n            -3.99,\n             0.33,\n             5.27,\n             7.08,\n             9.02,\n            -8.80,\n             5.53])\n100.7018814086914",
     "output_type": "error",
     "traceback": [
      "\u001b[0;31m---------------------------------------------------------------------------\u001b[0m",
      "\u001b[0;31mAssertionError\u001b[0m                            Traceback (most recent call last)",
      "Cell \u001b[0;32mIn[46], line 4\u001b[0m\n\u001b[1;32m      2\u001b[0m test_close(b2g, b2\u001b[38;5;241m.\u001b[39mg, eps\u001b[38;5;241m=\u001b[39m\u001b[38;5;241m0.01\u001b[39m)\n\u001b[1;32m      3\u001b[0m test_close(w1g, w1\u001b[38;5;241m.\u001b[39mg, eps\u001b[38;5;241m=\u001b[39m\u001b[38;5;241m0.01\u001b[39m)\n\u001b[0;32m----> 4\u001b[0m \u001b[43mtest_close\u001b[49m\u001b[43m(\u001b[49m\u001b[43mb1g\u001b[49m\u001b[43m,\u001b[49m\u001b[43m \u001b[49m\u001b[43mb1\u001b[49m\u001b[38;5;241;43m.\u001b[39;49m\u001b[43mg\u001b[49m\u001b[43m,\u001b[49m\u001b[43m \u001b[49m\u001b[43meps\u001b[49m\u001b[38;5;241;43m=\u001b[39;49m\u001b[38;5;241;43m0.01\u001b[39;49m\u001b[43m)\u001b[49m\n\u001b[1;32m      5\u001b[0m test_close(ig, x_train\u001b[38;5;241m.\u001b[39mg, eps\u001b[38;5;241m=\u001b[39m\u001b[38;5;241m0.01\u001b[39m)\n",
      "File \u001b[0;32m~/mambaforge/lib/python3.10/site-packages/fastcore/test.py:63\u001b[0m, in \u001b[0;36mtest_close\u001b[0;34m(a, b, eps)\u001b[0m\n\u001b[1;32m     61\u001b[0m \u001b[38;5;28;01mdef\u001b[39;00m \u001b[38;5;21mtest_close\u001b[39m(a,b,eps\u001b[38;5;241m=\u001b[39m\u001b[38;5;241m1e-5\u001b[39m):\n\u001b[1;32m     62\u001b[0m     \u001b[38;5;124m\"\u001b[39m\u001b[38;5;124m`test` that `a` is within `eps` of `b`\u001b[39m\u001b[38;5;124m\"\u001b[39m\n\u001b[0;32m---> 63\u001b[0m     \u001b[43mtest\u001b[49m\u001b[43m(\u001b[49m\u001b[43ma\u001b[49m\u001b[43m,\u001b[49m\u001b[43mb\u001b[49m\u001b[43m,\u001b[49m\u001b[43mpartial\u001b[49m\u001b[43m(\u001b[49m\u001b[43mis_close\u001b[49m\u001b[43m,\u001b[49m\u001b[43meps\u001b[49m\u001b[38;5;241;43m=\u001b[39;49m\u001b[43meps\u001b[49m\u001b[43m)\u001b[49m\u001b[43m,\u001b[49m\u001b[38;5;124;43m'\u001b[39;49m\u001b[38;5;124;43mclose\u001b[39;49m\u001b[38;5;124;43m'\u001b[39;49m\u001b[43m)\u001b[49m\n",
      "File \u001b[0;32m~/mambaforge/lib/python3.10/site-packages/fastcore/test.py:27\u001b[0m, in \u001b[0;36mtest\u001b[0;34m(a, b, cmp, cname)\u001b[0m\n\u001b[1;32m     25\u001b[0m \u001b[38;5;124m\"\u001b[39m\u001b[38;5;124m`assert` that `cmp(a,b)`; display inputs and `cname or cmp.__name__` if it fails\u001b[39m\u001b[38;5;124m\"\u001b[39m\n\u001b[1;32m     26\u001b[0m \u001b[38;5;28;01mif\u001b[39;00m cname \u001b[38;5;129;01mis\u001b[39;00m \u001b[38;5;28;01mNone\u001b[39;00m: cname\u001b[38;5;241m=\u001b[39mcmp\u001b[38;5;241m.\u001b[39m\u001b[38;5;18m__name__\u001b[39m\n\u001b[0;32m---> 27\u001b[0m \u001b[38;5;28;01massert\u001b[39;00m cmp(a,b),\u001b[38;5;124mf\u001b[39m\u001b[38;5;124m\"\u001b[39m\u001b[38;5;132;01m{\u001b[39;00mcname\u001b[38;5;132;01m}\u001b[39;00m\u001b[38;5;124m:\u001b[39m\u001b[38;5;130;01m\\n\u001b[39;00m\u001b[38;5;132;01m{\u001b[39;00ma\u001b[38;5;132;01m}\u001b[39;00m\u001b[38;5;130;01m\\n\u001b[39;00m\u001b[38;5;132;01m{\u001b[39;00mb\u001b[38;5;132;01m}\u001b[39;00m\u001b[38;5;124m\"\u001b[39m\n",
      "\u001b[0;31mAssertionError\u001b[0m: close:\ntensor([    -2.26,\n             4.60,\n            -1.04,\n            15.45,\n             1.46,\n             1.06,\n             0.30,\n            -2.27,\n            -4.57,\n            27.46,\n             1.50,\n            -0.18,\n             4.44,\n            -1.66,\n            -0.62,\n             1.90,\n            -0.35,\n             3.02,\n           -10.52,\n            -1.99,\n            -4.79,\n            -0.25,\n             1.53,\n             5.97,\n            -2.83,\n             3.00,\n             5.72,\n             0.25,\n            13.75,\n             2.26,\n            -2.78,\n            11.07,\n             1.06,\n             8.98,\n             0.35,\n             2.28,\n            -0.05,\n             2.79,\n            -1.92,\n             5.67,\n            -2.24,\n            -0.02,\n             0.78,\n            -3.99,\n             0.33,\n             5.27,\n             7.08,\n             9.02,\n            -8.80,\n             5.53])\n100.7018814086914"
     ]
    }
   ],
   "source": [
    "test_close(w2g, w2.g, eps=0.01)\n",
    "test_close(b2g, b2.g, eps=0.01)\n",
    "test_close(w1g, w1.g, eps=0.01)\n",
    "test_close(b1g, b1.g, eps=0.01)\n",
    "test_close(ig, x_train.g, eps=0.01)"
   ]
  },
  {
   "cell_type": "markdown",
   "id": "8a1a2fbc-62a1-4339-8d13-15f9b88b7642",
   "metadata": {},
   "source": [
    "## Module.forward()\n",
    "Module is a parent/core class which would be inherited and modified by child classes\n"
   ]
  },
  {
   "cell_type": "code",
   "execution_count": 48,
   "id": "8300996d-70ba-4a23-833b-b3af87061eae",
   "metadata": {},
   "outputs": [],
   "source": [
    "class Module():\n",
    "    def __call__(self, *args):\n",
    "        self.args = args\n",
    "        self.out = self.forward(*args)\n",
    "        return self.out\n",
    "    def forward(self): raise Exception('not implemented')\n",
    "    def backward(self): self.bwd(self.out, *self.args)\n",
    "    def bwd(self): raise Exception('not implemented')"
   ]
  },
  {
   "cell_type": "code",
   "execution_count": 54,
   "id": "f7bfb330-6c66-47ab-bde0-3a6404f7fdee",
   "metadata": {},
   "outputs": [],
   "source": [
    "class ReLU(Module):\n",
    "    def forward(self, inp): return inp.clamp_min(0.)\n",
    "    def bwd(self, out, inp): inp.g = (inp>0).float() * out.g"
   ]
  },
  {
   "cell_type": "code",
   "execution_count": 50,
   "id": "6c70b96b-b659-4c20-a7a1-5a6ec3f31990",
   "metadata": {},
   "outputs": [],
   "source": [
    "class Lin(Module):\n",
    "    def __init__(self, w, b): self.w, self.b = w, b\n",
    "    def forward(self, inp): return inp@self.w + self.b\n",
    "    def bwd(self, out, inp):\n",
    "        inp.g = self.out.g @ self.w.t()\n",
    "        self.w.g = inp.t() @ self.out.g\n",
    "        self.b.g = self.out.g.sum(0)"
   ]
  },
  {
   "cell_type": "code",
   "execution_count": 51,
   "id": "cae8a686-7c8e-4998-b250-920540e56d1f",
   "metadata": {},
   "outputs": [],
   "source": [
    "class MSE(Module):\n",
    "    def forward(self, inp, targ): return (inp.squeeze()-targ).pow(2).mean()\n",
    "    def bwd(self, out, inp, targ): inp.g = 2* (inp.squeeze()-targ).unsqueeze(-1) / targ.shape[0]"
   ]
  },
  {
   "cell_type": "code",
   "execution_count": 55,
   "id": "0b1466f3-6c9b-409b-b893-519552609a16",
   "metadata": {},
   "outputs": [],
   "source": [
    "model = Model(w1, b1, w2, b2)"
   ]
  },
  {
   "cell_type": "code",
   "execution_count": 56,
   "id": "f739cc8c-24ea-4617-8295-e3736f31ca86",
   "metadata": {},
   "outputs": [],
   "source": [
    "loss = model(x_train, y_train)"
   ]
  },
  {
   "cell_type": "code",
   "execution_count": 57,
   "id": "418ce556-c356-4c52-9e87-d46f6547b742",
   "metadata": {},
   "outputs": [],
   "source": [
    "model.backward()"
   ]
  },
  {
   "cell_type": "code",
   "execution_count": 58,
   "id": "658fa980-7459-4bb9-9696-a078c84688e9",
   "metadata": {},
   "outputs": [],
   "source": [
    "test_close(w2g, w2.g, eps=0.01)\n",
    "test_close(b2g, b2.g, eps=0.01)\n",
    "test_close(w1g, w1.g, eps=0.01)\n",
    "test_close(b1g, b1.g, eps=0.01)\n",
    "test_close(ig, x_train.g, eps=0.01)"
   ]
  },
  {
   "cell_type": "markdown",
   "id": "ea94058c-c755-440a-993b-e412c008ded2",
   "metadata": {},
   "source": [
    "## Autograd"
   ]
  },
  {
   "cell_type": "code",
   "execution_count": 59,
   "id": "e6f0e49b-22b5-4331-80d1-be93579f6694",
   "metadata": {},
   "outputs": [],
   "source": [
    "from torch import nn\n",
    "import torch.nn.functional as F"
   ]
  },
  {
   "cell_type": "code",
   "execution_count": 66,
   "id": "e02c9b96-32e6-462e-b51b-2350057cfe02",
   "metadata": {},
   "outputs": [],
   "source": [
    "class Linear(nn.Module):\n",
    "    def __init__(self, n_in, n_out):\n",
    "        super().__init__()\n",
    "        self.w = torch.randn(n_in, n_out).requires_grad_()\n",
    "        self.b = torch.randn(n_out).requires_grad_()\n",
    "    def forward(self, inp): return inp@self.w + self.b"
   ]
  },
  {
   "cell_type": "code",
   "execution_count": 67,
   "id": "a8ab4055-edaa-49fd-92d4-13ff3cee01a0",
   "metadata": {},
   "outputs": [],
   "source": [
    "class Model(nn.Module):\n",
    "    def __init__(self, n_in, nh, n_out):\n",
    "        super().__init__()\n",
    "        self.layers = [Linear(n_in, nh), nn.ReLU(), Linear(nh, n_out)]\n",
    "    def __call__(self, x, targ):\n",
    "        for l in self.layers: x = l(x)\n",
    "        return F.mse_loss(x, targ[:, None])\n",
    "    "
   ]
  },
  {
   "cell_type": "code",
   "execution_count": 68,
   "id": "a7b3d519-7078-411c-9496-3cb57cd38015",
   "metadata": {},
   "outputs": [],
   "source": [
    "model = Model(m, nh, 1)\n",
    "loss = model(x_train, y_train)\n",
    "loss.backward()\n"
   ]
  },
  {
   "cell_type": "code",
   "execution_count": 70,
   "id": "c8df353e-0da1-42c6-b200-be3a19ec750c",
   "metadata": {},
   "outputs": [
    {
     "data": {
      "text/plain": [
       "torch.Size([50])"
      ]
     },
     "execution_count": 70,
     "metadata": {},
     "output_type": "execute_result"
    }
   ],
   "source": [
    "l0 = model.layers[0]\n",
    "l0.b.grad.shape"
   ]
  },
  {
   "cell_type": "code",
   "execution_count": null,
   "id": "d5f68492-b30d-4f2f-a2ec-98772f9e653a",
   "metadata": {},
   "outputs": [],
   "source": []
  }
 ],
 "metadata": {
  "kernelspec": {
   "display_name": "Python 3 (ipykernel)",
   "language": "python",
   "name": "python3"
  },
  "language_info": {
   "codemirror_mode": {
    "name": "ipython",
    "version": 3
   },
   "file_extension": ".py",
   "mimetype": "text/x-python",
   "name": "python",
   "nbconvert_exporter": "python",
   "pygments_lexer": "ipython3",
   "version": "3.10.14"
  }
 },
 "nbformat": 4,
 "nbformat_minor": 5
}
