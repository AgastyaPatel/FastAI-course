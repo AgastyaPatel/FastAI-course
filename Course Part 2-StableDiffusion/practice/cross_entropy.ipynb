{
 "cells": [
  {
   "cell_type": "code",
   "execution_count": 2,
   "id": "42ff3133-bcef-4473-8057-0845087198af",
   "metadata": {},
   "outputs": [],
   "source": [
    "import pickle, gzip, math, os, time, shutil, torch, matplotlib as mpl, numpy as np, matplotlib as plt\n",
    "from pathlib import Path\n",
    "from torch import tensor, nn\n",
    "import torch.nn.functional as F"
   ]
  },
  {
   "cell_type": "code",
   "execution_count": 3,
   "id": "c8027925-faf7-4f0c-8d35-b302e233726f",
   "metadata": {},
   "outputs": [],
   "source": [
    "from fastcore.test import test_close"
   ]
  },
  {
   "cell_type": "code",
   "execution_count": 4,
   "id": "181b4a3f-db65-46e1-8186-98e0396bb46f",
   "metadata": {},
   "outputs": [],
   "source": [
    "torch.set_printoptions(precision=2, linewidth=140, sci_mode=False)\n",
    "torch.manual_seed(1)\n",
    "mpl.rcParams['image.cmap'] = 'gray'"
   ]
  },
  {
   "cell_type": "code",
   "execution_count": 5,
   "id": "5e93206d-8909-4132-a049-599f1c045e3e",
   "metadata": {},
   "outputs": [],
   "source": [
    "path_data = Path('../data')\n",
    "path_gz = path_data/'mnist.pkl.gz'\n",
    "with gzip.open(path_gz, 'rb') as f: ((x_train, y_train), (x_valid, y_valid), _) = pickle.load(f, encoding='latin-1')\n",
    "x_train, y_train, x_valid, y_valid = map(tensor, [x_train, y_train, x_valid, y_valid])"
   ]
  },
  {
   "cell_type": "markdown",
   "id": "256bb2f4-b163-485d-868c-3f88a360c8a3",
   "metadata": {},
   "source": [
    "# Initial Setup\n",
    "Data"
   ]
  },
  {
   "cell_type": "code",
   "execution_count": 6,
   "id": "9eb38c67-3142-4806-83cc-ae22a856264e",
   "metadata": {},
   "outputs": [
    {
     "data": {
      "text/plain": [
       "(50000, 784, tensor(10), 50)"
      ]
     },
     "execution_count": 6,
     "metadata": {},
     "output_type": "execute_result"
    }
   ],
   "source": [
    "n, m = x_train.shape\n",
    "c = y_train.max() + 1\n",
    "nh = 50\n",
    "n, m, c, nh"
   ]
  },
  {
   "cell_type": "code",
   "execution_count": 7,
   "id": "9f2d61d8-b045-429c-9984-7b12f610dcc3",
   "metadata": {},
   "outputs": [],
   "source": [
    "class Model(nn.Module):\n",
    "    def __init__(self, n_in, nh, n_out):\n",
    "        super().__init__()\n",
    "        self.layers = [nn.Linear(n_in, nh), nn.ReLU(), nn.Linear(nh, n_out)]\n",
    "    def __call__(self, x):\n",
    "        for l in self.layers: x = l(x)\n",
    "        return x"
   ]
  },
  {
   "cell_type": "code",
   "execution_count": 8,
   "id": "5adc44b9-2f93-4fe3-8345-8eb0b809a62c",
   "metadata": {},
   "outputs": [
    {
     "data": {
      "text/plain": [
       "(tensor([[-0.09, -0.21, -0.08,  ..., -0.03,  0.01,  0.06],\n",
       "         [-0.07, -0.14, -0.14,  ...,  0.03,  0.04,  0.14],\n",
       "         [-0.19, -0.04,  0.02,  ..., -0.01, -0.00,  0.02],\n",
       "         ...,\n",
       "         [-0.03, -0.22, -0.04,  ..., -0.01,  0.09,  0.14],\n",
       "         [-0.10, -0.09, -0.05,  ..., -0.01,  0.02,  0.11],\n",
       "         [-0.03, -0.25, -0.06,  ...,  0.00,  0.03,  0.14]], grad_fn=<AddmmBackward0>),\n",
       " torch.Size([50000, 10]))"
      ]
     },
     "execution_count": 8,
     "metadata": {},
     "output_type": "execute_result"
    }
   ],
   "source": [
    "model = Model(m, nh, 10)\n",
    "pred = model(x_train)\n",
    "pred, pred.shape"
   ]
  },
  {
   "cell_type": "markdown",
   "id": "b95fc750-8cf9-4c50-8d95-fa701af5bde6",
   "metadata": {},
   "source": [
    "## Cross Entropy Loss\n",
    "First we will compute the softmax of the activation, ie, softmax for output."
   ]
  },
  {
   "cell_type": "code",
   "execution_count": 15,
   "id": "d3efad20-1460-426c-9fdc-cf56984e444a",
   "metadata": {},
   "outputs": [],
   "source": [
    "def log_softmax(x): return (x.exp()/(x.exp().sum(-1, keepdim=True))).log()\n",
    "# torch.exp() => e^x"
   ]
  },
  {
   "cell_type": "code",
   "execution_count": 16,
   "id": "29ec7d75-6388-4189-a29c-8b320eb412da",
   "metadata": {},
   "outputs": [],
   "source": [
    "# def log_softmax(x): return x.exp().log() - x.exp().sum(-1, keepdim=True).log()\n",
    "def log_softmax(x): return x - (x.exp().sum(-1, keepdim=True)).log()"
   ]
  },
  {
   "cell_type": "code",
   "execution_count": 23,
   "id": "3f5d730a-d85f-45e0-a561-108536251958",
   "metadata": {},
   "outputs": [],
   "source": [
    "def logsumexp(x):\n",
    "    m = x.max(-1)[0]\n",
    "    return m + (x-m[:, None]).exp().sum(-1).log()"
   ]
  },
  {
   "cell_type": "code",
   "execution_count": 28,
   "id": "80052111-c3b1-4f56-b833-d6dad7aba6e6",
   "metadata": {},
   "outputs": [],
   "source": [
    "def log_softmax(x): return x - x.logsumexp(-1,keepdim=True)"
   ]
  },
  {
   "cell_type": "code",
   "execution_count": 32,
   "id": "880f284d-e6ca-4f61-8b53-f2f66bdaa254",
   "metadata": {},
   "outputs": [
    {
     "data": {
      "text/plain": [
       "tensor([5, 0, 4])"
      ]
     },
     "execution_count": 32,
     "metadata": {},
     "output_type": "execute_result"
    }
   ],
   "source": [
    "y_train[:3]  # Actual Values"
   ]
  },
  {
   "cell_type": "code",
   "execution_count": 30,
   "id": "a9355d1d-98dc-4997-9edf-eecee434a8bd",
   "metadata": {},
   "outputs": [
    {
     "data": {
      "text/plain": [
       "(tensor([[-2.37, -2.49, -2.36,  ..., -2.31, -2.28, -2.22],\n",
       "         [-2.37, -2.44, -2.44,  ..., -2.27, -2.26, -2.16],\n",
       "         [-2.48, -2.33, -2.28,  ..., -2.30, -2.30, -2.27],\n",
       "         ...,\n",
       "         [-2.33, -2.52, -2.34,  ..., -2.31, -2.21, -2.16],\n",
       "         [-2.38, -2.38, -2.33,  ..., -2.29, -2.26, -2.17],\n",
       "         [-2.33, -2.55, -2.36,  ..., -2.29, -2.27, -2.16]], grad_fn=<SubBackward0>),\n",
       " torch.Size([50000, 10]))"
      ]
     },
     "execution_count": 30,
     "metadata": {},
     "output_type": "execute_result"
    }
   ],
   "source": [
    "sm_pred = log_softmax(pred)\n",
    "sm_pred, sm_pred.shape"
   ]
  },
  {
   "cell_type": "code",
   "execution_count": 31,
   "id": "158860ab-5d60-470d-8cd4-c4d4f9a7adf5",
   "metadata": {},
   "outputs": [
    {
     "data": {
      "text/plain": [
       "(tensor(-2.20, grad_fn=<SelectBackward0>),\n",
       " tensor(-2.37, grad_fn=<SelectBackward0>),\n",
       " tensor(-2.36, grad_fn=<SelectBackward0>))"
      ]
     },
     "execution_count": 31,
     "metadata": {},
     "output_type": "execute_result"
    }
   ],
   "source": [
    "# Getting the prediction index\n",
    "sm_pred[0, 5], sm_pred[1, 0], sm_pred[2, 4]"
   ]
  },
  {
   "cell_type": "code",
   "execution_count": 36,
   "id": "cceb374f-7278-4c6a-93cf-b6e842d8487f",
   "metadata": {},
   "outputs": [
    {
     "data": {
      "text/plain": [
       "tensor([-2.20, -2.37, -2.36], grad_fn=<IndexBackward0>)"
      ]
     },
     "execution_count": 36,
     "metadata": {},
     "output_type": "execute_result"
    }
   ],
   "source": [
    "# better indexing\n",
    "sm_pred[[0,1,2], y_train[:3]]"
   ]
  },
  {
   "cell_type": "markdown",
   "id": "00609adc-d3ba-43fb-b17b-bb15e3004bda",
   "metadata": {},
   "source": [
    "#### Negative likelyhood loss\n",
    "log_softmax for hot encoded activations = $-\\log(p_{i})$ "
   ]
  },
  {
   "cell_type": "code",
   "execution_count": 37,
   "id": "ca37170a-516c-4239-9b52-4866fe359a0c",
   "metadata": {},
   "outputs": [],
   "source": [
    "def nll(inp, target): return -inp[range(target.shape[0]), target].mean()"
   ]
  },
  {
   "cell_type": "code",
   "execution_count": 38,
   "id": "15813089-6a4e-4260-9c61-7b256c7e9e69",
   "metadata": {},
   "outputs": [
    {
     "data": {
      "text/plain": [
       "tensor(2.30, grad_fn=<NegBackward0>)"
      ]
     },
     "execution_count": 38,
     "metadata": {},
     "output_type": "execute_result"
    }
   ],
   "source": [
    "loss = nll(sm_pred, y_train)\n",
    "loss"
   ]
  },
  {
   "cell_type": "code",
   "execution_count": 39,
   "id": "c294ce9d-937d-49d2-80a7-67a7783a839d",
   "metadata": {},
   "outputs": [],
   "source": [
    "test_close(F.nll_loss(F.log_softmax(pred, -1), y_train), loss, 1e-3)"
   ]
  },
  {
   "cell_type": "code",
   "execution_count": 40,
   "id": "f405868b-722e-418a-9541-21632babadfb",
   "metadata": {},
   "outputs": [],
   "source": [
    "test_close(F.cross_entropy(pred, y_train), loss, 1e-3)"
   ]
  },
  {
   "cell_type": "code",
   "execution_count": null,
   "id": "119b0a76-d17a-4a30-9941-15ff330f41da",
   "metadata": {},
   "outputs": [],
   "source": []
  }
 ],
 "metadata": {
  "kernelspec": {
   "display_name": "Python 3 (ipykernel)",
   "language": "python",
   "name": "python3"
  },
  "language_info": {
   "codemirror_mode": {
    "name": "ipython",
    "version": 3
   },
   "file_extension": ".py",
   "mimetype": "text/x-python",
   "name": "python",
   "nbconvert_exporter": "python",
   "pygments_lexer": "ipython3",
   "version": "3.10.14"
  }
 },
 "nbformat": 4,
 "nbformat_minor": 5
}
