{
 "cells": [
  {
   "cell_type": "code",
   "execution_count": 1,
   "id": "63591a63-dd98-4a77-b62a-96dc547b1a02",
   "metadata": {},
   "outputs": [],
   "source": [
    "from torch import tensor"
   ]
  },
  {
   "cell_type": "code",
   "execution_count": 2,
   "id": "cc5f99d9-b05e-4888-bd33-d3117a0c0774",
   "metadata": {},
   "outputs": [
    {
     "data": {
      "text/plain": [
       "(tensor([[1],\n",
       "         [2],\n",
       "         [3]]),\n",
       " torch.Size([3, 1]))"
      ]
     },
     "execution_count": 2,
     "metadata": {},
     "output_type": "execute_result"
    }
   ],
   "source": [
    "t1 = tensor([[1], [2], [3]])\n",
    "t1, t1.shape"
   ]
  },
  {
   "cell_type": "code",
   "execution_count": 3,
   "id": "b79ac61a-c1b9-4583-a7b0-b4fde8b3e92f",
   "metadata": {},
   "outputs": [
    {
     "data": {
      "text/plain": [
       "(tensor([1, 2, 3]), torch.Size([3]))"
      ]
     },
     "execution_count": 3,
     "metadata": {},
     "output_type": "execute_result"
    }
   ],
   "source": [
    "t2 = tensor([1,2,3])\n",
    "t2, t2.shape"
   ]
  },
  {
   "cell_type": "code",
   "execution_count": 4,
   "id": "d974fb4c-8a43-4dce-87a9-35e55a87969e",
   "metadata": {},
   "outputs": [
    {
     "data": {
      "text/plain": [
       "tensor([[ 0, -1, -2],\n",
       "        [ 1,  0, -1],\n",
       "        [ 2,  1,  0]])"
      ]
     },
     "execution_count": 4,
     "metadata": {},
     "output_type": "execute_result"
    }
   ],
   "source": [
    "t1-t2"
   ]
  },
  {
   "cell_type": "markdown",
   "id": "4a52ae82-2f93-446c-a791-782acd09159e",
   "metadata": {},
   "source": [
    "what actually is happening is t1 and t2 both are getting broadcasted as the axis matching happens from right to left"
   ]
  },
  {
   "cell_type": "markdown",
   "id": "f30f5508-601d-4f7c-8c71-16bac5ad020a",
   "metadata": {},
   "source": [
    "We either have to select all the elements in the coloumn or have to `unsqueeze` the tensor"
   ]
  },
  {
   "cell_type": "code",
   "execution_count": 5,
   "id": "62fc4f93-e57d-448d-bd7a-b8c6d45d2b09",
   "metadata": {},
   "outputs": [
    {
     "data": {
      "text/plain": [
       "(torch.Size([3]), tensor([1, 2, 3]))"
      ]
     },
     "execution_count": 5,
     "metadata": {},
     "output_type": "execute_result"
    }
   ],
   "source": [
    "t1[:, 0].shape, t1[:, 0]"
   ]
  },
  {
   "cell_type": "code",
   "execution_count": 6,
   "id": "9cc57cf5-6d6b-407e-87f1-aa8ff5c60f67",
   "metadata": {},
   "outputs": [
    {
     "data": {
      "text/plain": [
       "tensor([1, 2, 3])"
      ]
     },
     "execution_count": 6,
     "metadata": {},
     "output_type": "execute_result"
    }
   ],
   "source": [
    "t1.squeeze()"
   ]
  },
  {
   "cell_type": "markdown",
   "id": "44c7d0b9-7763-405d-b35e-4c87cb6f031e",
   "metadata": {},
   "source": [
    "`.squeeze` method removes unit dimmensions."
   ]
  },
  {
   "cell_type": "code",
   "execution_count": 7,
   "id": "1b9b9a68-b436-4153-ac02-c69263e6a742",
   "metadata": {},
   "outputs": [
    {
     "data": {
      "text/plain": [
       "(torch.Size([1, 3, 1, 1]), torch.Size([3]))"
      ]
     },
     "execution_count": 7,
     "metadata": {},
     "output_type": "execute_result"
    }
   ],
   "source": [
    "t1[None,:, None].shape, t1[None,:, None].squeeze().shape"
   ]
  },
  {
   "cell_type": "markdown",
   "id": "515af456-9498-4998-8c08-f5d9ac307a8d",
   "metadata": {},
   "source": [
    "Understanding unsqueeze"
   ]
  },
  {
   "cell_type": "code",
   "execution_count": 8,
   "id": "0362a37b-5398-46a3-953d-ebaa062900d4",
   "metadata": {},
   "outputs": [],
   "source": [
    "x = tensor([1, 2, 3, 4])"
   ]
  },
  {
   "cell_type": "code",
   "execution_count": 9,
   "id": "2d0d987c-0e25-4810-966f-2ba6a272233e",
   "metadata": {},
   "outputs": [
    {
     "data": {
      "text/plain": [
       "tensor([[1],\n",
       "        [2],\n",
       "        [3],\n",
       "        [4]])"
      ]
     },
     "execution_count": 9,
     "metadata": {},
     "output_type": "execute_result"
    }
   ],
   "source": [
    "x.unsqueeze(1)"
   ]
  },
  {
   "cell_type": "markdown",
   "id": "ab171186-305b-4682-81ac-e3affad94617",
   "metadata": {},
   "source": [
    "here `.unsqueeze` method can take dimm -2, -1, 0, 1 which is current dimm_size + 1"
   ]
  },
  {
   "cell_type": "markdown",
   "id": "1bdc5fe3-977a-4dcf-97fc-30893cbd8810",
   "metadata": {},
   "source": [
    "# The forward and backward pass"
   ]
  },
  {
   "cell_type": "code",
   "execution_count": 10,
   "id": "5bec7fe6-fca9-4f9a-aeae-ae93285e071e",
   "metadata": {},
   "outputs": [],
   "source": [
    "def relu(x): return x.clamp_min(0.)"
   ]
  },
  {
   "cell_type": "code",
   "execution_count": 11,
   "id": "a0aa12e1-26b2-4cc3-9cad-3567fd55d454",
   "metadata": {},
   "outputs": [],
   "source": [
    "# Linear unit\n",
    "def lin(x, w, b): return x@w + b"
   ]
  },
  {
   "cell_type": "markdown",
   "id": "8df9fe09-36c1-40f9-bf36-4e7772ada025",
   "metadata": {},
   "source": [
    "Gradient for linear output wrt to W: $$\\frac{\\partial\\text{y}} {\\partial\\text{weight}} = \\text{input}^T$$\n",
    "Gradient for linear output wrt to B: $$\\frac{\\partial\\text{y}} {\\partial\\text{bias}} = \\text{1}$$"
   ]
  },
  {
   "cell_type": "code",
   "execution_count": 12,
   "id": "81f61380-27a1-498c-acd6-2bc6a3b9bf8c",
   "metadata": {},
   "outputs": [],
   "source": [
    "def lin_grad(inp, out, w, b):\n",
    "    # grad of matmul with respect to input\n",
    "    inp.g = out.g @ w.t()\n",
    "    w.g = (inp.unsqueeze(-1) * out.g.unsqueeze(1)).sum(0)\n",
    "    b.g = out.g.sum(0)"
   ]
  },
  {
   "cell_type": "markdown",
   "id": "61909a19-0bf1-44fc-ab65-efd7388cd514",
   "metadata": {},
   "source": [
    "- inp.g -> how does loss is affected with change in input\n",
    "$$ \\frac{\\partial\\text{loss}}{\\partial\\text{input}} = \\frac{\\partial\\text{loss}} {\\partial\\text{output}} * \\frac{\\partial\\text{output}}{\\partial\\text{input}}$$\n",
    "we know that $$\\frac{\\partial\\text{output}}{\\partial\\text{input}} = \\text{weight}^T$$\n",
    "so, $$ \\frac{\\partial\\text{loss}}{\\partial\\text{input}} = \\frac{\\partial\\text{loss}} {\\partial\\text{output}} * \\text{weight}^T$$\n",
    "- w.g -> how does loss is affected with change in weight\n",
    "$$ \\frac{\\partial\\text{loss}}{\\partial\\text{weight}} = \\frac{\\partial\\text{loss}} {\\partial\\text{output}} * \\frac{\\partial\\text{output}}{\\partial\\text{weight}}$$\n",
    "we know that $$\\frac{\\partial\\text{output}}{\\partial\\text{weight}} = \\text{input}^T$$\n",
    "so, $$ \\frac{\\partial\\text{loss}}{\\partial\\text{input}} = \\frac{\\partial\\text{loss}} {\\partial\\text{output}} * \\text{input}^T$$\n",
    "- b.g -> how does loss is affected with change in bias\n",
    "$$ \\frac{\\partial\\text{loss}}{\\partial\\text{bias}} = \\frac{\\partial\\text{loss}} {\\partial\\text{output}} * \\frac{\\partial\\text{output}}{\\partial\\text{bias}}$$\n",
    "we know that $$\\frac{\\partial\\text{output}}{\\partial\\text{bias}} = 1$$\n",
    "so, $$ \\frac{\\partial\\text{loss}}{\\partial\\text{bias}} = \\sum\\frac{\\partial\\text{loss}} {\\partial\\text{output}}$$"
   ]
  },
  {
   "cell_type": "code",
   "execution_count": 13,
   "id": "9ff9a81d-80fc-42c4-9710-8f71c15167bc",
   "metadata": {},
   "outputs": [],
   "source": [
    "def forward_and_backward(inp, targ):\n",
    "    # forward pass:\n",
    "    l1 = lin(inp, w1, b1)\n",
    "    l2 = relu(l1)\n",
    "    out = lin(l2, w2, b2)\n",
    "    diff = out[:,0]-targ    #Difference between the prediction and label|| Diff=output-target\n",
    "    loss = diff.pow(2).mean()   #MSE = diff^2/N\n",
    "    \n",
    "    # backward pass:\n",
    "    out.g = 2.*diff[:,None] / inp.shape[0]   #out.g = 2Diff/N\n",
    "    lin_grad(l2, out, w2, b2)\n",
    "    l1.g = (l1>0).float() * l2.g\n",
    "    lin_grad(inp, l1, w1, b1)"
   ]
  },
  {
   "cell_type": "markdown",
   "id": "e0db005f-621f-4e3e-8c83-71beba6058c6",
   "metadata": {},
   "source": [
    "| Forward Pass | |\n",
    "|---|---|\n",
    "| Layer 1: $$\\text{l1}={input}⋅{w1}+{b1}$$  | w1 and b1 contains gradients |\n",
    "| ReLU: $$ReLU(l1)=max(0,l1)$$ | l1 contains grads because |\n",
    "| Layer 2: $$\\text{out}={l2}⋅{w2}+{b2}$$  |\n",
    "| MSE: $$\\text{loss}=\\frac{1}{N}\\sum_{i=1}^{N}(\\text{out}_i-\\text{targ}_i)^2$$ |\n",
    "\n",
    "| Backward Pass |\n",
    "|---|\n",
    "| Gradient of the Loss with respect to the Output: $$\\frac{\\partial_{\\text{loss}}} {\\partial_{\\text{out}}} = \\frac{2}{N} (\\text{out} - \\text{targ})$$ |\n",
    "| Gradient of the Second Linear Layer: Weights$$\\frac{\\partial_{\\text{loss}}} {\\partial_{\\text{w2}}} = \\text{l2}^\\text{T}$$ Bias $$\\frac{\\partial_{\\text{loss}}} {\\partial_{\\text{b2}}} = \\sum\\frac{\\partial_{\\text{loss}}} {\\partial_{\\text{out}}}$$|\n",
    "| Gradient Through ReLU Activation: $$\\frac{\\partial_{\\text{loss}}} {\\partial_{\\text{l1}}} = \\frac{\\partial_{\\text{loss}}} {\\partial_{\\text{l1}}} $$|\n",
    "| Gradient of First Linear Layer: $$\\frac{\\partial_{\\text{loss}}} {\\partial_{\\text{w1}}} = \\text{inp}^T \\frac{\\partial_{\\text{loss}}} {\\partial_{\\text{l1}}}$$ $$\\frac{\\partial_{\\text{loss}}} {\\partial_{\\text{b1}}} = \\sum\\frac{\\partial_{\\text{loss}}} {\\partial_{\\text{l1}}}$$|"
   ]
  },
  {
   "cell_type": "code",
   "execution_count": null,
   "id": "42a5c902-ce88-42f6-860e-1bbddd295649",
   "metadata": {},
   "outputs": [],
   "source": []
  },
  {
   "cell_type": "code",
   "execution_count": 14,
   "id": "ae9c2315-cf3b-4306-929d-e5749330a1b3",
   "metadata": {},
   "outputs": [],
   "source": [
    "import pickle,gzip,math,os,time,shutil,torch,matplotlib as mpl,numpy as np,matplotlib.pyplot as plt\n",
    "from pathlib import Path\n",
    "from torch import tensor,nn\n",
    "import torch.nn.functional as F"
   ]
  },
  {
   "cell_type": "code",
   "execution_count": 15,
   "id": "051f370d-868c-49a9-a285-e449f451d0c3",
   "metadata": {},
   "outputs": [],
   "source": [
    "from fastcore.test import test_close\n",
    "\n",
    "torch.set_printoptions(precision=2, linewidth=140, sci_mode=False)\n",
    "torch.manual_seed(1)\n",
    "mpl.rcParams['image.cmap'] = 'gray'\n",
    "\n",
    "path_data = Path('data')\n",
    "path_gz = path_data/'mnist.pkl.gz'\n",
    "with gzip.open(path_gz, 'rb') as f:\n",
    "    ((x_train, y_train), (x_valid, y_valid), _) = pickle.load(f, encoding = 'latin-1')\n",
    "    x_train, y_train, x_valid, y_valid = map(tensor,[x_train, y_train, x_valid, y_valid])"
   ]
  },
  {
   "cell_type": "code",
   "execution_count": 16,
   "id": "8120acf9-2b55-4f66-9e11-c0999d02d0f9",
   "metadata": {},
   "outputs": [
    {
     "data": {
      "text/plain": [
       "(torch.Size([50000, 784]), torch.Size([50000]))"
      ]
     },
     "execution_count": 16,
     "metadata": {},
     "output_type": "execute_result"
    }
   ],
   "source": [
    "x_train.shape, y_train.shape"
   ]
  },
  {
   "cell_type": "code",
   "execution_count": 17,
   "id": "79129c7e-1bb1-483f-b51a-343b92bf0129",
   "metadata": {},
   "outputs": [
    {
     "data": {
      "text/plain": [
       "(torch.Size([10000, 784]), torch.Size([10000]))"
      ]
     },
     "execution_count": 17,
     "metadata": {},
     "output_type": "execute_result"
    }
   ],
   "source": [
    "x_valid.shape, y_valid.shape"
   ]
  },
  {
   "cell_type": "code",
   "execution_count": 18,
   "id": "98f7c99a-bc82-424d-869c-dbb58922d764",
   "metadata": {},
   "outputs": [
    {
     "data": {
      "text/plain": [
       "(50000, 784, tensor(10))"
      ]
     },
     "execution_count": 18,
     "metadata": {},
     "output_type": "execute_result"
    }
   ],
   "source": [
    "n, m = x_train.shape\n",
    "c = y_train.max() + 1\n",
    "n, m, c"
   ]
  },
  {
   "cell_type": "code",
   "execution_count": 19,
   "id": "5e8ad24e-69d9-42d0-a12e-f447b39968a1",
   "metadata": {},
   "outputs": [],
   "source": [
    "# number of hidden activations\n",
    "nh = 50"
   ]
  },
  {
   "cell_type": "code",
   "execution_count": 20,
   "id": "8cf0a4a4-3804-4e92-8e5b-d62e7fe15b37",
   "metadata": {},
   "outputs": [],
   "source": [
    "w1 = torch.randn(m, nh)\n",
    "b1 = torch.randn(nh)\n",
    "w2 = torch.randn(50, 1)\n",
    "b2 = torch.randn(1)"
   ]
  },
  {
   "cell_type": "markdown",
   "id": "aaad56a9-c783-4f8a-96ee-237349e63535",
   "metadata": {},
   "source": [
    "#### Passing Validation set through model"
   ]
  },
  {
   "cell_type": "code",
   "execution_count": 21,
   "id": "391e8058-10b5-404e-a4e7-abc115513bbd",
   "metadata": {},
   "outputs": [
    {
     "data": {
      "text/plain": [
       "torch.Size([10000, 50])"
      ]
     },
     "execution_count": 21,
     "metadata": {},
     "output_type": "execute_result"
    }
   ],
   "source": [
    "# Passing validation set through layer1\n",
    "t = lin(x_valid, w1, b1)\n",
    "t.shape"
   ]
  },
  {
   "cell_type": "code",
   "execution_count": 22,
   "id": "94ea10fd-9b3b-4627-b446-49206daf6720",
   "metadata": {},
   "outputs": [
    {
     "data": {
      "text/plain": [
       "tensor([[11.71,  3.73,  0.00,  ...,  0.00,  0.00,  0.23],\n",
       "        [ 7.35, 12.49,  1.27,  ...,  3.99,  0.00,  0.00],\n",
       "        [ 9.48,  1.74,  0.00,  ...,  0.00,  0.38,  5.12],\n",
       "        ...,\n",
       "        [10.52, 10.22,  0.00,  ...,  0.00,  0.00,  0.42],\n",
       "        [ 9.36,  0.61,  0.00,  ...,  0.00,  0.00,  0.00],\n",
       "        [10.39, 14.15,  0.00,  ...,  0.00,  0.00,  0.00]])"
      ]
     },
     "execution_count": 22,
     "metadata": {},
     "output_type": "execute_result"
    }
   ],
   "source": [
    "t = relu(t)\n",
    "t"
   ]
  },
  {
   "cell_type": "code",
   "execution_count": 23,
   "id": "738a9c9f-cac2-4462-b179-cf4db185d7d0",
   "metadata": {},
   "outputs": [],
   "source": [
    "def model(xb):\n",
    "    l1 = lin(xb, w1, b1)\n",
    "    l2 = relu(l1)\n",
    "    return lin(l2, w2, b2)"
   ]
  },
  {
   "cell_type": "code",
   "execution_count": 24,
   "id": "861d7a42-7065-4c02-844b-b50e11b165ec",
   "metadata": {},
   "outputs": [
    {
     "data": {
      "text/plain": [
       "torch.Size([10000, 1])"
      ]
     },
     "execution_count": 24,
     "metadata": {},
     "output_type": "execute_result"
    }
   ],
   "source": [
    "res = model(x_valid)\n",
    "res.shape"
   ]
  },
  {
   "cell_type": "markdown",
   "id": "1a7456bc-3757-450a-8ec8-85830f2b83e7",
   "metadata": {},
   "source": [
    "## Loss Function: MSE\n",
    "of course, `mse` is not suitable for multi-class classification; we'll use a better loss function soon.\n",
    "we'll use mse for now to keep things simple"
   ]
  },
  {
   "cell_type": "code",
   "execution_count": 25,
   "id": "62633b67-74e5-429b-8c38-b7243cecace2",
   "metadata": {},
   "outputs": [
    {
     "data": {
      "text/plain": [
       "(torch.Size([10000, 1]), torch.Size([10000]))"
      ]
     },
     "execution_count": 25,
     "metadata": {},
     "output_type": "execute_result"
    }
   ],
   "source": [
    "res.shape, y_valid.shape"
   ]
  },
  {
   "cell_type": "code",
   "execution_count": 26,
   "id": "83bb1f71-9f28-4e39-b906-baeada36e1a1",
   "metadata": {},
   "outputs": [
    {
     "data": {
      "text/plain": [
       "torch.Size([10000])"
      ]
     },
     "execution_count": 26,
     "metadata": {},
     "output_type": "execute_result"
    }
   ],
   "source": [
    "# getting rid of the unit axis\n",
    "(res.squeeze() - y_valid).shape"
   ]
  },
  {
   "cell_type": "code",
   "execution_count": 27,
   "id": "c4c0299d-8541-4088-94ae-4baac9df4c23",
   "metadata": {},
   "outputs": [],
   "source": [
    "y_train, y_valid = y_train.float(), y_valid.float()"
   ]
  },
  {
   "cell_type": "code",
   "execution_count": 28,
   "id": "b9beeddc-e745-49c6-9ee6-cd595d345cd4",
   "metadata": {},
   "outputs": [
    {
     "data": {
      "text/plain": [
       "torch.Size([50000])"
      ]
     },
     "execution_count": 28,
     "metadata": {},
     "output_type": "execute_result"
    }
   ],
   "source": [
    "y_train.shape"
   ]
  },
  {
   "cell_type": "code",
   "execution_count": 29,
   "id": "17738c2c-5905-4a63-8b3a-5eacfce856b9",
   "metadata": {},
   "outputs": [
    {
     "data": {
      "text/plain": [
       "torch.Size([50000, 1])"
      ]
     },
     "execution_count": 29,
     "metadata": {},
     "output_type": "execute_result"
    }
   ],
   "source": [
    "preds = model(x_train)\n",
    "preds.shape"
   ]
  },
  {
   "cell_type": "code",
   "execution_count": 30,
   "id": "9ed17496-8e3b-4be2-a304-600a6193895f",
   "metadata": {},
   "outputs": [],
   "source": [
    "def mse(output, target): return (output[:, 0]-target).pow(2).mean()"
   ]
  },
  {
   "cell_type": "code",
   "execution_count": 31,
   "id": "144b95e8-51c5-4d27-8307-4137855de9a8",
   "metadata": {},
   "outputs": [
    {
     "data": {
      "text/plain": [
       "tensor(1099.57)"
      ]
     },
     "execution_count": 31,
     "metadata": {},
     "output_type": "execute_result"
    }
   ],
   "source": [
    "mse(preds, y_train)"
   ]
  },
  {
   "cell_type": "markdown",
   "id": "1dc1c10a-df03-4183-b13d-4cc7952d570c",
   "metadata": {},
   "source": [
    "### Gradient & Backward Pass"
   ]
  },
  {
   "cell_type": "code",
   "execution_count": 32,
   "id": "8b7a529f-e37c-4841-b1e6-b7f895c2a70d",
   "metadata": {},
   "outputs": [
    {
     "data": {
      "text/latex": [
       "$\\displaystyle 2 x$"
      ],
      "text/plain": [
       "2*x"
      ]
     },
     "execution_count": 32,
     "metadata": {},
     "output_type": "execute_result"
    }
   ],
   "source": [
    "from sympy import symbols, diff\n",
    "x, y = symbols('x y')\n",
    "diff(x**2, x)"
   ]
  },
  {
   "cell_type": "code",
   "execution_count": 33,
   "id": "c6f8b802-a00a-49cc-b721-bdbab6f8db88",
   "metadata": {},
   "outputs": [
    {
     "data": {
      "text/latex": [
       "$\\displaystyle 6 x$"
      ],
      "text/plain": [
       "6*x"
      ]
     },
     "execution_count": 33,
     "metadata": {},
     "output_type": "execute_result"
    }
   ],
   "source": [
    "diff(3*x**2 + 9, x)"
   ]
  },
  {
   "cell_type": "code",
   "execution_count": 34,
   "id": "c68abf20-910a-40c4-9389-03dbe0edd783",
   "metadata": {},
   "outputs": [],
   "source": [
    "def lin_grad(inp, out, w, b):\n",
    "    # grad of matmul with respect to input\n",
    "    inp.g = out.g @ w.t()\n",
    "    w.g = (inp.unsqueeze(-1) * out.g.unsqueeze(1)).sum(0)\n",
    "    b.g = out.g.sum(0)"
   ]
  },
  {
   "cell_type": "code",
   "execution_count": 35,
   "id": "869830e9-9a20-40ca-abe8-8959b8219b60",
   "metadata": {},
   "outputs": [],
   "source": [
    "def forward_and_backward(inp, target):\n",
    "    # forward pass\n",
    "    l1 = lin(inp, w1, b1)     # l1.shape (input.row, 50)\n",
    "    l2 = relu(l1)             \n",
    "    out = lin(l2, w2, b2)      # l2.shape (input.row, 1)\n",
    "    diff = out[:, 0] - target\n",
    "    loss = diff.pow(2).mean()  # MSE\n",
    "\n",
    "    # backward pass\n",
    "    out.g = 2. * diff[:, None] / inp.shape[0]\n",
    "    lin_grad(l2, out, w2, b2)\n",
    "    l1.g = (l1>0).float() * l2.g\n",
    "    lin_grad(inp, l1, w1, b1)"
   ]
  },
  {
   "cell_type": "code",
   "execution_count": 36,
   "id": "fd0ccc03-58a8-478f-b4a4-c22002d9041c",
   "metadata": {},
   "outputs": [],
   "source": [
    "forward_and_backward(x_train, y_train)"
   ]
  },
  {
   "cell_type": "code",
   "execution_count": 37,
   "id": "40aad403-85e4-4d3e-ad2d-72c955aeba63",
   "metadata": {},
   "outputs": [
    {
     "data": {
      "text/plain": [
       "torch.Size([50000, 784])"
      ]
     },
     "execution_count": 37,
     "metadata": {},
     "output_type": "execute_result"
    }
   ],
   "source": [
    "x_train.g.shape"
   ]
  },
  {
   "cell_type": "code",
   "execution_count": 38,
   "id": "1e0342e3-a632-4621-9bfb-07774161fd06",
   "metadata": {},
   "outputs": [],
   "source": [
    "# Save for testing later\n",
    "def get_grad(x): return x.g.clone()\n",
    "chks = w1, w2, b1, b2, x_train\n",
    "grads = w1g, w2g, b1g, b2g, ig = tuple(map(get_grad, chks))"
   ]
  },
  {
   "cell_type": "markdown",
   "id": "bfb3662c-1b24-479c-aaa4-ab4366293a9e",
   "metadata": {},
   "source": [
    "We cheat a little bit and use PyTorch autograd to check our results."
   ]
  },
  {
   "cell_type": "code",
   "execution_count": 39,
   "id": "8798c9bd-7be7-4162-85df-86d38c53e28c",
   "metadata": {},
   "outputs": [],
   "source": [
    "def mkgrad(x):\n",
    "    return x.clone().requires_grad_()\n",
    "ptgrads = w12,w22,b12,b22,xt2 = tuple(map(mkgrad, chks))"
   ]
  },
  {
   "cell_type": "code",
   "execution_count": 40,
   "id": "82a00260-82e6-47a9-8ac4-ca175a1ec9bd",
   "metadata": {},
   "outputs": [],
   "source": [
    "def forward(inp, targ):\n",
    "    l1 = lin(inp, w1, b1)\n",
    "    l2 = relu(l1)\n",
    "    out = lin(l2, w2, b2)\n",
    "    return mse(out, targ)"
   ]
  },
  {
   "cell_type": "code",
   "execution_count": 41,
   "id": "25337117-9f4f-428e-a48d-e0b44615e199",
   "metadata": {},
   "outputs": [],
   "source": [
    "loss = forward(xt2, y_train)\n",
    "loss.backward()"
   ]
  },
  {
   "cell_type": "code",
   "execution_count": 42,
   "id": "b0ee5754-8e90-441a-a249-4e9d2c876883",
   "metadata": {},
   "outputs": [
    {
     "data": {
      "text/plain": [
       "torch.Size([50000, 784])"
      ]
     },
     "execution_count": 42,
     "metadata": {},
     "output_type": "execute_result"
    }
   ],
   "source": [
    "xt2.grad.shape"
   ]
  },
  {
   "cell_type": "markdown",
   "id": "7809afca-9437-48ee-a300-f9fe85236cd5",
   "metadata": {},
   "source": [
    "What is the use of the input gradients? \n",
    "- It doesn't take part in the model training process."
   ]
  },
  {
   "cell_type": "code",
   "execution_count": 43,
   "id": "4d9ac348-ecc5-44c0-a378-6533ae2c565c",
   "metadata": {},
   "outputs": [
    {
     "ename": "TypeError",
     "evalue": "unsupported operand type(s) for -: 'Tensor' and 'NoneType'",
     "output_type": "error",
     "traceback": [
      "\u001b[0;31m---------------------------------------------------------------------------\u001b[0m",
      "\u001b[0;31mTypeError\u001b[0m                                 Traceback (most recent call last)",
      "Cell \u001b[0;32mIn[43], line 1\u001b[0m\n\u001b[0;32m----> 1\u001b[0m \u001b[38;5;28;01mfor\u001b[39;00m a,b \u001b[38;5;129;01min\u001b[39;00m \u001b[38;5;28mzip\u001b[39m(grads, ptgrads): test_close(a, b\u001b[38;5;241m.\u001b[39mgrad, eps\u001b[38;5;241m=\u001b[39m\u001b[38;5;241m0.01\u001b[39m)\n",
      "File \u001b[0;32m~/mambaforge/lib/python3.10/site-packages/fastcore/test.py:63\u001b[0m, in \u001b[0;36mtest_close\u001b[0;34m(a, b, eps)\u001b[0m\n\u001b[1;32m     61\u001b[0m \u001b[38;5;28;01mdef\u001b[39;00m \u001b[38;5;21mtest_close\u001b[39m(a,b,eps\u001b[38;5;241m=\u001b[39m\u001b[38;5;241m1e-5\u001b[39m):\n\u001b[1;32m     62\u001b[0m     \u001b[38;5;124m\"\u001b[39m\u001b[38;5;124m`test` that `a` is within `eps` of `b`\u001b[39m\u001b[38;5;124m\"\u001b[39m\n\u001b[0;32m---> 63\u001b[0m     \u001b[43mtest\u001b[49m\u001b[43m(\u001b[49m\u001b[43ma\u001b[49m\u001b[43m,\u001b[49m\u001b[43mb\u001b[49m\u001b[43m,\u001b[49m\u001b[43mpartial\u001b[49m\u001b[43m(\u001b[49m\u001b[43mis_close\u001b[49m\u001b[43m,\u001b[49m\u001b[43meps\u001b[49m\u001b[38;5;241;43m=\u001b[39;49m\u001b[43meps\u001b[49m\u001b[43m)\u001b[49m\u001b[43m,\u001b[49m\u001b[38;5;124;43m'\u001b[39;49m\u001b[38;5;124;43mclose\u001b[39;49m\u001b[38;5;124;43m'\u001b[39;49m\u001b[43m)\u001b[49m\n",
      "File \u001b[0;32m~/mambaforge/lib/python3.10/site-packages/fastcore/test.py:27\u001b[0m, in \u001b[0;36mtest\u001b[0;34m(a, b, cmp, cname)\u001b[0m\n\u001b[1;32m     25\u001b[0m \u001b[38;5;124m\"\u001b[39m\u001b[38;5;124m`assert` that `cmp(a,b)`; display inputs and `cname or cmp.__name__` if it fails\u001b[39m\u001b[38;5;124m\"\u001b[39m\n\u001b[1;32m     26\u001b[0m \u001b[38;5;28;01mif\u001b[39;00m cname \u001b[38;5;129;01mis\u001b[39;00m \u001b[38;5;28;01mNone\u001b[39;00m: cname\u001b[38;5;241m=\u001b[39mcmp\u001b[38;5;241m.\u001b[39m\u001b[38;5;18m__name__\u001b[39m\n\u001b[0;32m---> 27\u001b[0m \u001b[38;5;28;01massert\u001b[39;00m \u001b[43mcmp\u001b[49m\u001b[43m(\u001b[49m\u001b[43ma\u001b[49m\u001b[43m,\u001b[49m\u001b[43mb\u001b[49m\u001b[43m)\u001b[49m,\u001b[38;5;124mf\u001b[39m\u001b[38;5;124m\"\u001b[39m\u001b[38;5;132;01m{\u001b[39;00mcname\u001b[38;5;132;01m}\u001b[39;00m\u001b[38;5;124m:\u001b[39m\u001b[38;5;130;01m\\n\u001b[39;00m\u001b[38;5;132;01m{\u001b[39;00ma\u001b[38;5;132;01m}\u001b[39;00m\u001b[38;5;130;01m\\n\u001b[39;00m\u001b[38;5;132;01m{\u001b[39;00mb\u001b[38;5;132;01m}\u001b[39;00m\u001b[38;5;124m\"\u001b[39m\n",
      "File \u001b[0;32m~/mambaforge/lib/python3.10/site-packages/fastcore/test.py:55\u001b[0m, in \u001b[0;36mis_close\u001b[0;34m(a, b, eps)\u001b[0m\n\u001b[1;32m     53\u001b[0m \u001b[38;5;124m\"\u001b[39m\u001b[38;5;124mIs `a` within `eps` of `b`\u001b[39m\u001b[38;5;124m\"\u001b[39m\n\u001b[1;32m     54\u001b[0m \u001b[38;5;28;01mif\u001b[39;00m \u001b[38;5;28mhasattr\u001b[39m(a, \u001b[38;5;124m'\u001b[39m\u001b[38;5;124m__array__\u001b[39m\u001b[38;5;124m'\u001b[39m) \u001b[38;5;129;01mor\u001b[39;00m \u001b[38;5;28mhasattr\u001b[39m(b,\u001b[38;5;124m'\u001b[39m\u001b[38;5;124m__array__\u001b[39m\u001b[38;5;124m'\u001b[39m):\n\u001b[0;32m---> 55\u001b[0m     \u001b[38;5;28;01mreturn\u001b[39;00m (\u001b[38;5;28mabs\u001b[39m(\u001b[43ma\u001b[49m\u001b[38;5;241;43m-\u001b[39;49m\u001b[43mb\u001b[49m)\u001b[38;5;241m<\u001b[39meps)\u001b[38;5;241m.\u001b[39mall()\n\u001b[1;32m     56\u001b[0m \u001b[38;5;28;01mif\u001b[39;00m \u001b[38;5;28misinstance\u001b[39m(a, (Iterable,Generator)) \u001b[38;5;129;01mor\u001b[39;00m \u001b[38;5;28misinstance\u001b[39m(b, (Iterable,Generator)):\n\u001b[1;32m     57\u001b[0m     \u001b[38;5;28;01mreturn\u001b[39;00m \u001b[38;5;28mall\u001b[39m(\u001b[38;5;28mabs\u001b[39m(a_\u001b[38;5;241m-\u001b[39mb_)\u001b[38;5;241m<\u001b[39meps \u001b[38;5;28;01mfor\u001b[39;00m a_,b_ \u001b[38;5;129;01min\u001b[39;00m \u001b[38;5;28mzip\u001b[39m(a,b))\n",
      "\u001b[0;31mTypeError\u001b[0m: unsupported operand type(s) for -: 'Tensor' and 'NoneType'"
     ]
    }
   ],
   "source": [
    "for a,b in zip(grads, ptgrads): test_close(a, b.grad, eps=0.01)"
   ]
  },
  {
   "cell_type": "markdown",
   "id": "17a23cc9-e1f6-4494-a1a5-75b9b9b5c120",
   "metadata": {},
   "source": [
    "## Refactor Model"
   ]
  },
  {
   "cell_type": "markdown",
   "id": "e2dc73b0-c201-41ab-aa2d-cf50bd95ca2b",
   "metadata": {},
   "source": [
    "### Layer as classes"
   ]
  },
  {
   "cell_type": "code",
   "execution_count": 44,
   "id": "4c49faa2-2244-468b-b4f0-05d79348815e",
   "metadata": {},
   "outputs": [],
   "source": [
    "class Relu():\n",
    "    def __call__(self, inp):\n",
    "        self.inp = inp\n",
    "        self.out = inp.clamp_min(0.)\n",
    "        return self.out\n",
    "    def backward(self): self.inp.g = (self.inp>0).float() * self.out.g"
   ]
  },
  {
   "cell_type": "code",
   "execution_count": 45,
   "id": "e981e703-5c72-46d4-b763-501f86b41896",
   "metadata": {},
   "outputs": [],
   "source": [
    "class Lin():\n",
    "    def __init__(self, w, b): self.w, self.b = w, b\n",
    "\n",
    "    def __call__(self, inp):\n",
    "        self.inp = inp\n",
    "        self.out = lin(self.inp, self.w, self.b)\n",
    "        return self.out\n",
    "\n",
    "    def backward(self):\n",
    "        self.inp.g = self.out.g @ self.w.t()\n",
    "        self.w.g = self.inp.t() @ self.out.g\n",
    "        self.b.g = self.out.g.sum(0)"
   ]
  },
  {
   "cell_type": "code",
   "execution_count": 46,
   "id": "6b4c462d-cd73-4cfb-8681-666b1e1218c9",
   "metadata": {},
   "outputs": [],
   "source": [
    "class MSE():\n",
    "    def __call__(self, inp, target):\n",
    "        self.inp, self.target = inp, target\n",
    "        self.out = mse(inp, target)\n",
    "        return self.out\n",
    "\n",
    "    def backward(self):\n",
    "        self.inp.g = 2* (self.inp.squeeze() -self.target).unsqueeze(-1) / self.target.shape[0]"
   ]
  },
  {
   "cell_type": "code",
   "execution_count": 47,
   "id": "d6ba217a-2103-4e63-a909-463e3aef0a4a",
   "metadata": {},
   "outputs": [],
   "source": [
    "class Model():\n",
    "    def __init__(self, w1, b1, w2, b2):\n",
    "        self.layers = [Lin(w1, b1), Relu(), Lin(w2, b2)]\n",
    "        self.loss = MSE()\n",
    "\n",
    "    def __call__(self, x, targ):\n",
    "        for l in self.layers: x = l(x)\n",
    "        return self.loss(x, targ)\n",
    "\n",
    "    def backward(self):\n",
    "        self.loss.backward()\n",
    "        for l in reversed(self.layers): l.backward()"
   ]
  },
  {
   "cell_type": "code",
   "execution_count": 48,
   "id": "e6190d98-fb4a-43b2-bc9d-a9a8632295b0",
   "metadata": {},
   "outputs": [],
   "source": [
    "model = Model(w1, b1, w2, b2)"
   ]
  },
  {
   "cell_type": "code",
   "execution_count": 49,
   "id": "168283f6-7898-4977-9447-2ce6ce893d82",
   "metadata": {},
   "outputs": [],
   "source": [
    "loss = model(x_train, y_train)"
   ]
  },
  {
   "cell_type": "code",
   "execution_count": 50,
   "id": "ef3c2201-befe-418e-9e2a-0e9237100427",
   "metadata": {},
   "outputs": [],
   "source": [
    "model.backward()"
   ]
  },
  {
   "cell_type": "code",
   "execution_count": 51,
   "id": "7df3555b-cdb0-4a20-a7e3-75e95de97064",
   "metadata": {},
   "outputs": [
    {
     "data": {
      "text/plain": [
       "tensor(1099.57)"
      ]
     },
     "execution_count": 51,
     "metadata": {},
     "output_type": "execute_result"
    }
   ],
   "source": [
    "loss"
   ]
  },
  {
   "cell_type": "code",
   "execution_count": 52,
   "id": "50bd44f0-1375-4fb4-8777-8142dbf53ae3",
   "metadata": {},
   "outputs": [],
   "source": [
    "test_close(w2g, w2.g, eps=0.01)\n",
    "test_close(b2g, b2.g, eps=0.01)\n",
    "test_close(w1g, w1.g, eps=0.01)\n",
    "test_close(b1g, b1.g, eps=0.01)\n",
    "test_close(ig, x_train.g, eps=0.01)"
   ]
  },
  {
   "cell_type": "markdown",
   "id": "58f92222-8b61-49fe-ba01-0e878c9e4bb6",
   "metadata": {},
   "source": [
    "## Module.forward()\n",
    "Module is a parent/core class which would be inherited and modified by child classes"
   ]
  },
  {
   "cell_type": "code",
   "execution_count": 53,
   "id": "22642a9c-26c5-4e45-94d3-f3a2d261b427",
   "metadata": {},
   "outputs": [],
   "source": [
    "class Module():\n",
    "    def __call__(self, *args):\n",
    "        self.args = args\n",
    "        self.out = self.forward(*args)\n",
    "        return self.out\n",
    "\n",
    "    def forward(self): raise Exception('not implemented')\n",
    "    def backward(self): self.bwd(self.out, *self.args)\n",
    "    def bwd(self): raise Exception('not implemented')"
   ]
  },
  {
   "cell_type": "code",
   "execution_count": 54,
   "id": "c9598743-1014-42c1-b3c4-32ebaf103cfe",
   "metadata": {},
   "outputs": [],
   "source": [
    "class Relu(Module):\n",
    "    def forward(self, inp): return inp.clamp_min(0.)\n",
    "    def bwd(self, out, inp): inp.g = (inp>0).float() * out.g"
   ]
  },
  {
   "cell_type": "code",
   "execution_count": 55,
   "id": "92fc4480-ff0a-4bd9-ba2f-411d932d658a",
   "metadata": {},
   "outputs": [],
   "source": [
    "class Lin(Module):\n",
    "    def __init__(self, w, b): self.w,self.b = w,b\n",
    "    def forward(self, inp): return inp@self.w + self.b\n",
    "    def bwd(self, out, inp):\n",
    "        inp.g = self.out.g @ self.w.t()\n",
    "        self.w.g = inp.t() @ self.out.g\n",
    "        self.b.g = self.out.g.sum(0)"
   ]
  },
  {
   "cell_type": "code",
   "execution_count": 56,
   "id": "5672b7d8-4c85-477d-baa9-29719698ef4f",
   "metadata": {},
   "outputs": [],
   "source": [
    "class Mse(Module):\n",
    "    def forward (self, inp, targ): return (inp.squeeze() - targ).pow(2).mean()\n",
    "    def bwd(self, out, inp, targ): inp.g = 2*(inp.squeeze()-targ).unsqueeze(-1) / targ.shape[0]"
   ]
  },
  {
   "cell_type": "code",
   "execution_count": 57,
   "id": "e7e09038-5fd5-4a63-92c5-893c6b22b1f5",
   "metadata": {},
   "outputs": [],
   "source": [
    "model = Model(w1, b1, w2, b2)"
   ]
  },
  {
   "cell_type": "code",
   "execution_count": 58,
   "id": "e3e92052-95b9-43ab-a11b-6ababda91b33",
   "metadata": {},
   "outputs": [],
   "source": [
    "loss = model(x_train, y_train)"
   ]
  },
  {
   "cell_type": "code",
   "execution_count": 59,
   "id": "bd989686-f461-42ec-813b-7e1e6728208f",
   "metadata": {},
   "outputs": [],
   "source": [
    "model.backward()"
   ]
  },
  {
   "cell_type": "code",
   "execution_count": 60,
   "id": "b579b3ab-25cb-4345-9e6d-b595df04c36f",
   "metadata": {},
   "outputs": [],
   "source": [
    "test_close(w2g, w2.g, eps=0.01)\n",
    "test_close(b2g, b2.g, eps=0.01)\n",
    "test_close(w1g, w1.g, eps=0.01)\n",
    "test_close(b1g, b1.g, eps=0.01)\n",
    "test_close(ig, x_train.g, eps=0.01)"
   ]
  },
  {
   "cell_type": "markdown",
   "id": "30b1254c-3e4d-430d-8d40-58a6cf330412",
   "metadata": {},
   "source": [
    "## Autograd"
   ]
  },
  {
   "cell_type": "code",
   "execution_count": 61,
   "id": "376f7f14-60e8-4ac2-8a26-b5d904461501",
   "metadata": {},
   "outputs": [],
   "source": [
    "from torch import nn\n",
    "import torch.nn.functional as F"
   ]
  },
  {
   "cell_type": "code",
   "execution_count": 62,
   "id": "5323fe30-1520-40ab-9a98-92fb86c155a1",
   "metadata": {},
   "outputs": [],
   "source": [
    "class Linear(nn.Module):\n",
    "    def __init__(self, n_in, n_out):\n",
    "        super().__init__()\n",
    "        self.w = torch.randn(n_in, n_out).requires_grad_()\n",
    "        self.b = torch.zeros(n_out).requires_grad_()\n",
    "    def forward(self, inp):  return inp@self.w + self.b"
   ]
  },
  {
   "cell_type": "code",
   "execution_count": 63,
   "id": "875b6130-da50-43d3-9cb3-15f47e3330a2",
   "metadata": {},
   "outputs": [],
   "source": [
    "class Model(nn.Module):\n",
    "    def __init__(self, n_in, nh, n_out):\n",
    "        super().__init__()\n",
    "        self.layers = [Linear(n_in, nh), nn.ReLU(), Linear(nh, n_out)]\n",
    "\n",
    "    def __call__(self, x, targ):\n",
    "        for l in self.layers: x=l(x)\n",
    "        return F.mse_loss(x, targ[:, None])"
   ]
  },
  {
   "cell_type": "code",
   "execution_count": 64,
   "id": "cad05681-ac6b-42a8-8b8c-ec983d648396",
   "metadata": {},
   "outputs": [],
   "source": [
    "model = Model(m, nh, 1)\n",
    "loss = model(x_train, y_train)\n",
    "loss.backward()\n",
    "    "
   ]
  },
  {
   "cell_type": "code",
   "execution_count": 65,
   "id": "17b8a969-ae27-4377-829b-2ec89c13d858",
   "metadata": {},
   "outputs": [
    {
     "data": {
      "text/plain": [
       "tensor([-0.05,  4.98, -3.67,  1.19,  3.03, -0.28,  0.27, 13.75,  3.20,  8.55,  1.98,  0.80,  0.65,  0.25, -4.20, -1.09, -3.15,  0.18, -1.19,\n",
       "        -5.05, -0.81, -2.78,  7.54, -0.73,  3.71,  0.25,  0.70, -7.06,  3.32, -1.14, -3.12,  1.51,  5.81,  1.22, 15.94,  0.14,  1.82, 14.89,\n",
       "         3.91, -0.21,  1.98,  2.24,  0.63, 16.29, -0.50,  0.53, 21.31, -9.06, -2.52,  0.05])"
      ]
     },
     "execution_count": 65,
     "metadata": {},
     "output_type": "execute_result"
    }
   ],
   "source": [
    "l0 = model.layers[0]\n",
    "l0.b.grad"
   ]
  },
  {
   "cell_type": "code",
   "execution_count": null,
   "id": "8f7683b3-fe0a-46db-8902-5b4da116462f",
   "metadata": {},
   "outputs": [],
   "source": []
  },
  {
   "cell_type": "code",
   "execution_count": null,
   "id": "d6afd185-495e-414e-a894-8aa161476255",
   "metadata": {},
   "outputs": [],
   "source": []
  }
 ],
 "metadata": {
  "kernelspec": {
   "display_name": "Python 3 (ipykernel)",
   "language": "python",
   "name": "python3"
  },
  "language_info": {
   "codemirror_mode": {
    "name": "ipython",
    "version": 3
   },
   "file_extension": ".py",
   "mimetype": "text/x-python",
   "name": "python",
   "nbconvert_exporter": "python",
   "pygments_lexer": "ipython3",
   "version": "3.10.14"
  }
 },
 "nbformat": 4,
 "nbformat_minor": 5
}
