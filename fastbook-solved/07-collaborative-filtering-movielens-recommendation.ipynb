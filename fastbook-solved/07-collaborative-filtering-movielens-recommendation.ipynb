{
 "cells": [
  {
   "cell_type": "code",
   "execution_count": 1,
   "id": "96c6eaa7",
   "metadata": {
    "_cell_guid": "b1076dfc-b9ad-4769-8c92-a6c4dae69d19",
    "_uuid": "8f2839f25d086af736a60e9eeb907d3b93b6e0e5",
    "execution": {
     "iopub.execute_input": "2024-04-02T17:49:23.719336Z",
     "iopub.status.busy": "2024-04-02T17:49:23.717803Z",
     "iopub.status.idle": "2024-04-02T17:49:24.688381Z",
     "shell.execute_reply": "2024-04-02T17:49:24.687074Z"
    },
    "papermill": {
     "duration": 0.986867,
     "end_time": "2024-04-02T17:49:24.691343",
     "exception": false,
     "start_time": "2024-04-02T17:49:23.704476",
     "status": "completed"
    },
    "tags": []
   },
   "outputs": [],
   "source": [
    "# This Python 3 environment comes with many helpful analytics libraries installed\n",
    "# It is defined by the kaggle/python Docker image: https://github.com/kaggle/docker-python\n",
    "# For example, here's several helpful packages to load\n",
    "\n",
    "import numpy as np # linear algebra\n",
    "import pandas as pd # data processing, CSV file I/O (e.g. pd.read_csv)\n",
    "\n",
    "# Input data files are available in the read-only \"../input/\" directory\n",
    "# For example, running this (by clicking run or pressing Shift+Enter) will list all files under the input directory\n",
    "\n",
    "import os\n",
    "for dirname, _, filenames in os.walk('/kaggle/input'):\n",
    "    for filename in filenames:\n",
    "        print(os.path.join(dirname, filename))\n",
    "\n",
    "# You can write up to 20GB to the current directory (/kaggle/working/) that gets preserved as output when you create a version using \"Save & Run All\" \n",
    "# You can also write temporary files to /kaggle/temp/, but they won't be saved outside of the current session"
   ]
  },
  {
   "cell_type": "markdown",
   "id": "374675fc",
   "metadata": {
    "papermill": {
     "duration": 0.010254,
     "end_time": "2024-04-02T17:49:24.711711",
     "exception": false,
     "start_time": "2024-04-02T17:49:24.701457",
     "status": "completed"
    },
    "tags": []
   },
   "source": [
    "# Colaborative Filtering"
   ]
  },
  {
   "cell_type": "markdown",
   "id": "117998f4",
   "metadata": {
    "execution": {
     "iopub.execute_input": "2024-04-02T16:25:03.673862Z",
     "iopub.status.busy": "2024-04-02T16:25:03.673126Z",
     "iopub.status.idle": "2024-04-02T16:25:03.680910Z",
     "shell.execute_reply": "2024-04-02T16:25:03.679469Z",
     "shell.execute_reply.started": "2024-04-02T16:25:03.673804Z"
    },
    "papermill": {
     "duration": 0.009631,
     "end_time": "2024-04-02T17:49:24.732050",
     "exception": false,
     "start_time": "2024-04-02T17:49:24.722419",
     "status": "completed"
    },
    "tags": []
   },
   "source": [
    "### Creating Dataloaders"
   ]
  },
  {
   "cell_type": "code",
   "execution_count": 2,
   "id": "a8d5706a",
   "metadata": {
    "execution": {
     "iopub.execute_input": "2024-04-02T17:49:24.753333Z",
     "iopub.status.busy": "2024-04-02T17:49:24.752810Z",
     "iopub.status.idle": "2024-04-02T17:49:32.351435Z",
     "shell.execute_reply": "2024-04-02T17:49:32.350349Z"
    },
    "papermill": {
     "duration": 7.612804,
     "end_time": "2024-04-02T17:49:32.354500",
     "exception": false,
     "start_time": "2024-04-02T17:49:24.741696",
     "status": "completed"
    },
    "tags": []
   },
   "outputs": [
    {
     "data": {
      "text/html": [
       "\n",
       "<style>\n",
       "    /* Turns off some styling */\n",
       "    progress {\n",
       "        /* gets rid of default border in Firefox and Opera. */\n",
       "        border: none;\n",
       "        /* Needs to be in here for Safari polyfill so background images work as expected. */\n",
       "        background-size: auto;\n",
       "    }\n",
       "    progress:not([value]), progress:not([value])::-webkit-progress-bar {\n",
       "        background: repeating-linear-gradient(45deg, #7e7e7e, #7e7e7e 10px, #5c5c5c 10px, #5c5c5c 20px);\n",
       "    }\n",
       "    .progress-bar-interrupted, .progress-bar-interrupted::-webkit-progress-bar {\n",
       "        background: #F44336;\n",
       "    }\n",
       "</style>\n"
      ],
      "text/plain": [
       "<IPython.core.display.HTML object>"
      ]
     },
     "metadata": {},
     "output_type": "display_data"
    },
    {
     "data": {
      "text/html": [
       "\n",
       "    <div>\n",
       "      <progress value='4931584' class='' max='4924029' style='width:300px; height:20px; vertical-align: middle;'></progress>\n",
       "      100.15% [4931584/4924029 00:00&lt;00:00]\n",
       "    </div>\n",
       "    "
      ],
      "text/plain": [
       "<IPython.core.display.HTML object>"
      ]
     },
     "metadata": {},
     "output_type": "display_data"
    }
   ],
   "source": [
    "from fastai.collab import *\n",
    "from fastai.tabular.all import *\n",
    "path = untar_data(URLs.ML_100k)"
   ]
  },
  {
   "cell_type": "code",
   "execution_count": 3,
   "id": "19134992",
   "metadata": {
    "execution": {
     "iopub.execute_input": "2024-04-02T17:49:32.377363Z",
     "iopub.status.busy": "2024-04-02T17:49:32.376749Z",
     "iopub.status.idle": "2024-04-02T17:49:32.452735Z",
     "shell.execute_reply": "2024-04-02T17:49:32.451661Z"
    },
    "papermill": {
     "duration": 0.090531,
     "end_time": "2024-04-02T17:49:32.455405",
     "exception": false,
     "start_time": "2024-04-02T17:49:32.364874",
     "status": "completed"
    },
    "tags": []
   },
   "outputs": [
    {
     "data": {
      "text/html": [
       "<div>\n",
       "<style scoped>\n",
       "    .dataframe tbody tr th:only-of-type {\n",
       "        vertical-align: middle;\n",
       "    }\n",
       "\n",
       "    .dataframe tbody tr th {\n",
       "        vertical-align: top;\n",
       "    }\n",
       "\n",
       "    .dataframe thead th {\n",
       "        text-align: right;\n",
       "    }\n",
       "</style>\n",
       "<table border=\"1\" class=\"dataframe\">\n",
       "  <thead>\n",
       "    <tr style=\"text-align: right;\">\n",
       "      <th></th>\n",
       "      <th>user</th>\n",
       "      <th>movie</th>\n",
       "      <th>rating</th>\n",
       "      <th>timestamp</th>\n",
       "    </tr>\n",
       "  </thead>\n",
       "  <tbody>\n",
       "    <tr>\n",
       "      <th>0</th>\n",
       "      <td>196</td>\n",
       "      <td>242</td>\n",
       "      <td>3</td>\n",
       "      <td>881250949</td>\n",
       "    </tr>\n",
       "    <tr>\n",
       "      <th>1</th>\n",
       "      <td>186</td>\n",
       "      <td>302</td>\n",
       "      <td>3</td>\n",
       "      <td>891717742</td>\n",
       "    </tr>\n",
       "    <tr>\n",
       "      <th>2</th>\n",
       "      <td>22</td>\n",
       "      <td>377</td>\n",
       "      <td>1</td>\n",
       "      <td>878887116</td>\n",
       "    </tr>\n",
       "    <tr>\n",
       "      <th>3</th>\n",
       "      <td>244</td>\n",
       "      <td>51</td>\n",
       "      <td>2</td>\n",
       "      <td>880606923</td>\n",
       "    </tr>\n",
       "    <tr>\n",
       "      <th>4</th>\n",
       "      <td>166</td>\n",
       "      <td>346</td>\n",
       "      <td>1</td>\n",
       "      <td>886397596</td>\n",
       "    </tr>\n",
       "  </tbody>\n",
       "</table>\n",
       "</div>"
      ],
      "text/plain": [
       "   user  movie  rating  timestamp\n",
       "0   196    242       3  881250949\n",
       "1   186    302       3  891717742\n",
       "2    22    377       1  878887116\n",
       "3   244     51       2  880606923\n",
       "4   166    346       1  886397596"
      ]
     },
     "execution_count": 3,
     "metadata": {},
     "output_type": "execute_result"
    }
   ],
   "source": [
    "ratings = pd.read_csv(path/'u.data', delimiter='\\t', header=None,\n",
    "                      names=['user', 'movie', 'rating', 'timestamp'])\n",
    "ratings.head()"
   ]
  },
  {
   "cell_type": "code",
   "execution_count": 4,
   "id": "c4e60f78",
   "metadata": {
    "execution": {
     "iopub.execute_input": "2024-04-02T17:49:32.478265Z",
     "iopub.status.busy": "2024-04-02T17:49:32.477842Z",
     "iopub.status.idle": "2024-04-02T17:49:32.498402Z",
     "shell.execute_reply": "2024-04-02T17:49:32.497215Z"
    },
    "papermill": {
     "duration": 0.035045,
     "end_time": "2024-04-02T17:49:32.500867",
     "exception": false,
     "start_time": "2024-04-02T17:49:32.465822",
     "status": "completed"
    },
    "tags": []
   },
   "outputs": [
    {
     "data": {
      "text/html": [
       "<div>\n",
       "<style scoped>\n",
       "    .dataframe tbody tr th:only-of-type {\n",
       "        vertical-align: middle;\n",
       "    }\n",
       "\n",
       "    .dataframe tbody tr th {\n",
       "        vertical-align: top;\n",
       "    }\n",
       "\n",
       "    .dataframe thead th {\n",
       "        text-align: right;\n",
       "    }\n",
       "</style>\n",
       "<table border=\"1\" class=\"dataframe\">\n",
       "  <thead>\n",
       "    <tr style=\"text-align: right;\">\n",
       "      <th></th>\n",
       "      <th>movie</th>\n",
       "      <th>title</th>\n",
       "    </tr>\n",
       "  </thead>\n",
       "  <tbody>\n",
       "    <tr>\n",
       "      <th>0</th>\n",
       "      <td>1</td>\n",
       "      <td>Toy Story (1995)</td>\n",
       "    </tr>\n",
       "    <tr>\n",
       "      <th>1</th>\n",
       "      <td>2</td>\n",
       "      <td>GoldenEye (1995)</td>\n",
       "    </tr>\n",
       "    <tr>\n",
       "      <th>2</th>\n",
       "      <td>3</td>\n",
       "      <td>Four Rooms (1995)</td>\n",
       "    </tr>\n",
       "    <tr>\n",
       "      <th>3</th>\n",
       "      <td>4</td>\n",
       "      <td>Get Shorty (1995)</td>\n",
       "    </tr>\n",
       "    <tr>\n",
       "      <th>4</th>\n",
       "      <td>5</td>\n",
       "      <td>Copycat (1995)</td>\n",
       "    </tr>\n",
       "  </tbody>\n",
       "</table>\n",
       "</div>"
      ],
      "text/plain": [
       "   movie              title\n",
       "0      1   Toy Story (1995)\n",
       "1      2   GoldenEye (1995)\n",
       "2      3  Four Rooms (1995)\n",
       "3      4  Get Shorty (1995)\n",
       "4      5     Copycat (1995)"
      ]
     },
     "execution_count": 4,
     "metadata": {},
     "output_type": "execute_result"
    }
   ],
   "source": [
    "movies = pd.read_csv(path/'u.item', delimiter='|', encoding='latin-1',\n",
    "                     usecols=(0,1), names=('movie', 'title'), header=None)\n",
    "movies.head()"
   ]
  },
  {
   "cell_type": "code",
   "execution_count": 5,
   "id": "fdc1a2d4",
   "metadata": {
    "execution": {
     "iopub.execute_input": "2024-04-02T17:49:32.524239Z",
     "iopub.status.busy": "2024-04-02T17:49:32.523820Z",
     "iopub.status.idle": "2024-04-02T17:49:32.564782Z",
     "shell.execute_reply": "2024-04-02T17:49:32.563536Z"
    },
    "papermill": {
     "duration": 0.055788,
     "end_time": "2024-04-02T17:49:32.567296",
     "exception": false,
     "start_time": "2024-04-02T17:49:32.511508",
     "status": "completed"
    },
    "tags": []
   },
   "outputs": [
    {
     "data": {
      "text/html": [
       "<div>\n",
       "<style scoped>\n",
       "    .dataframe tbody tr th:only-of-type {\n",
       "        vertical-align: middle;\n",
       "    }\n",
       "\n",
       "    .dataframe tbody tr th {\n",
       "        vertical-align: top;\n",
       "    }\n",
       "\n",
       "    .dataframe thead th {\n",
       "        text-align: right;\n",
       "    }\n",
       "</style>\n",
       "<table border=\"1\" class=\"dataframe\">\n",
       "  <thead>\n",
       "    <tr style=\"text-align: right;\">\n",
       "      <th></th>\n",
       "      <th>user</th>\n",
       "      <th>movie</th>\n",
       "      <th>rating</th>\n",
       "      <th>timestamp</th>\n",
       "      <th>title</th>\n",
       "    </tr>\n",
       "  </thead>\n",
       "  <tbody>\n",
       "    <tr>\n",
       "      <th>0</th>\n",
       "      <td>196</td>\n",
       "      <td>242</td>\n",
       "      <td>3</td>\n",
       "      <td>881250949</td>\n",
       "      <td>Kolya (1996)</td>\n",
       "    </tr>\n",
       "    <tr>\n",
       "      <th>1</th>\n",
       "      <td>186</td>\n",
       "      <td>302</td>\n",
       "      <td>3</td>\n",
       "      <td>891717742</td>\n",
       "      <td>L.A. Confidential (1997)</td>\n",
       "    </tr>\n",
       "    <tr>\n",
       "      <th>2</th>\n",
       "      <td>22</td>\n",
       "      <td>377</td>\n",
       "      <td>1</td>\n",
       "      <td>878887116</td>\n",
       "      <td>Heavyweights (1994)</td>\n",
       "    </tr>\n",
       "    <tr>\n",
       "      <th>3</th>\n",
       "      <td>244</td>\n",
       "      <td>51</td>\n",
       "      <td>2</td>\n",
       "      <td>880606923</td>\n",
       "      <td>Legends of the Fall (1994)</td>\n",
       "    </tr>\n",
       "    <tr>\n",
       "      <th>4</th>\n",
       "      <td>166</td>\n",
       "      <td>346</td>\n",
       "      <td>1</td>\n",
       "      <td>886397596</td>\n",
       "      <td>Jackie Brown (1997)</td>\n",
       "    </tr>\n",
       "  </tbody>\n",
       "</table>\n",
       "</div>"
      ],
      "text/plain": [
       "   user  movie  rating  timestamp                       title\n",
       "0   196    242       3  881250949                Kolya (1996)\n",
       "1   186    302       3  891717742    L.A. Confidential (1997)\n",
       "2    22    377       1  878887116         Heavyweights (1994)\n",
       "3   244     51       2  880606923  Legends of the Fall (1994)\n",
       "4   166    346       1  886397596         Jackie Brown (1997)"
      ]
     },
     "execution_count": 5,
     "metadata": {},
     "output_type": "execute_result"
    }
   ],
   "source": [
    "ratings = ratings.merge(movies)\n",
    "ratings.head()"
   ]
  },
  {
   "cell_type": "code",
   "execution_count": 6,
   "id": "76ebe5bb",
   "metadata": {
    "execution": {
     "iopub.execute_input": "2024-04-02T17:49:32.591800Z",
     "iopub.status.busy": "2024-04-02T17:49:32.591393Z",
     "iopub.status.idle": "2024-04-02T17:49:32.865732Z",
     "shell.execute_reply": "2024-04-02T17:49:32.864893Z"
    },
    "papermill": {
     "duration": 0.289507,
     "end_time": "2024-04-02T17:49:32.867857",
     "exception": false,
     "start_time": "2024-04-02T17:49:32.578350",
     "status": "completed"
    },
    "tags": []
   },
   "outputs": [
    {
     "data": {
      "text/html": [
       "<table border=\"1\" class=\"dataframe\">\n",
       "  <thead>\n",
       "    <tr style=\"text-align: right;\">\n",
       "      <th></th>\n",
       "      <th>user</th>\n",
       "      <th>title</th>\n",
       "      <th>rating</th>\n",
       "    </tr>\n",
       "  </thead>\n",
       "  <tbody>\n",
       "    <tr>\n",
       "      <th>0</th>\n",
       "      <td>468</td>\n",
       "      <td>Contact (1997)</td>\n",
       "      <td>4</td>\n",
       "    </tr>\n",
       "    <tr>\n",
       "      <th>1</th>\n",
       "      <td>899</td>\n",
       "      <td>Henry V (1989)</td>\n",
       "      <td>4</td>\n",
       "    </tr>\n",
       "    <tr>\n",
       "      <th>2</th>\n",
       "      <td>618</td>\n",
       "      <td>Speed (1994)</td>\n",
       "      <td>4</td>\n",
       "    </tr>\n",
       "    <tr>\n",
       "      <th>3</th>\n",
       "      <td>753</td>\n",
       "      <td>Shawshank Redemption, The (1994)</td>\n",
       "      <td>4</td>\n",
       "    </tr>\n",
       "    <tr>\n",
       "      <th>4</th>\n",
       "      <td>118</td>\n",
       "      <td>Copycat (1995)</td>\n",
       "      <td>2</td>\n",
       "    </tr>\n",
       "    <tr>\n",
       "      <th>5</th>\n",
       "      <td>494</td>\n",
       "      <td>What's Eating Gilbert Grape (1993)</td>\n",
       "      <td>5</td>\n",
       "    </tr>\n",
       "    <tr>\n",
       "      <th>6</th>\n",
       "      <td>452</td>\n",
       "      <td>Pinocchio (1940)</td>\n",
       "      <td>4</td>\n",
       "    </tr>\n",
       "    <tr>\n",
       "      <th>7</th>\n",
       "      <td>417</td>\n",
       "      <td>Star Trek: First Contact (1996)</td>\n",
       "      <td>3</td>\n",
       "    </tr>\n",
       "    <tr>\n",
       "      <th>8</th>\n",
       "      <td>145</td>\n",
       "      <td>Boxing Helena (1993)</td>\n",
       "      <td>2</td>\n",
       "    </tr>\n",
       "    <tr>\n",
       "      <th>9</th>\n",
       "      <td>286</td>\n",
       "      <td>Year of the Horse (1997)</td>\n",
       "      <td>5</td>\n",
       "    </tr>\n",
       "  </tbody>\n",
       "</table>"
      ],
      "text/plain": [
       "<IPython.core.display.HTML object>"
      ]
     },
     "metadata": {},
     "output_type": "display_data"
    }
   ],
   "source": [
    "dls = CollabDataLoaders.from_df(ratings, item_name='title', bs = 64)\n",
    "# user column is already specified in the df; will be autodetected\n",
    "dls.show_batch()"
   ]
  },
  {
   "cell_type": "code",
   "execution_count": 7,
   "id": "3bf3e216",
   "metadata": {
    "execution": {
     "iopub.execute_input": "2024-04-02T17:49:32.892507Z",
     "iopub.status.busy": "2024-04-02T17:49:32.891548Z",
     "iopub.status.idle": "2024-04-02T17:49:32.901184Z",
     "shell.execute_reply": "2024-04-02T17:49:32.900183Z"
    },
    "papermill": {
     "duration": 0.024707,
     "end_time": "2024-04-02T17:49:32.903625",
     "exception": false,
     "start_time": "2024-04-02T17:49:32.878918",
     "status": "completed"
    },
    "tags": []
   },
   "outputs": [],
   "source": [
    "n_users= len(dls.classes['user'])\n",
    "n_movies= len(dls.classes['title'])\n",
    "n_factors= 5\n",
    "\n",
    "user_factors = torch.randn(n_users, n_factors)\n",
    "movie_factors = torch.randn(n_movies, n_factors)"
   ]
  },
  {
   "cell_type": "code",
   "execution_count": 8,
   "id": "b29c9f77",
   "metadata": {
    "execution": {
     "iopub.execute_input": "2024-04-02T17:49:32.928663Z",
     "iopub.status.busy": "2024-04-02T17:49:32.928188Z",
     "iopub.status.idle": "2024-04-02T17:49:32.934845Z",
     "shell.execute_reply": "2024-04-02T17:49:32.933784Z"
    },
    "papermill": {
     "duration": 0.022273,
     "end_time": "2024-04-02T17:49:32.937296",
     "exception": false,
     "start_time": "2024-04-02T17:49:32.915023",
     "status": "completed"
    },
    "tags": []
   },
   "outputs": [
    {
     "data": {
      "text/plain": [
       "(torch.Size([944, 5]), torch.Size([1665, 5]))"
      ]
     },
     "execution_count": 8,
     "metadata": {},
     "output_type": "execute_result"
    }
   ],
   "source": [
    "user_factors.shape, movie_factors.shape"
   ]
  },
  {
   "cell_type": "code",
   "execution_count": 9,
   "id": "a080933f",
   "metadata": {
    "execution": {
     "iopub.execute_input": "2024-04-02T17:49:32.962318Z",
     "iopub.status.busy": "2024-04-02T17:49:32.961790Z",
     "iopub.status.idle": "2024-04-02T17:49:33.031713Z",
     "shell.execute_reply": "2024-04-02T17:49:33.030628Z"
    },
    "papermill": {
     "duration": 0.085615,
     "end_time": "2024-04-02T17:49:33.034310",
     "exception": false,
     "start_time": "2024-04-02T17:49:32.948695",
     "status": "completed"
    },
    "tags": []
   },
   "outputs": [
    {
     "name": "stdout",
     "output_type": "stream",
     "text": [
      "torch.Size([944])\n"
     ]
    },
    {
     "data": {
      "text/plain": [
       "tensor([-0.7807, -0.5311,  0.3496, -0.4182, -0.4670])"
      ]
     },
     "execution_count": 9,
     "metadata": {},
     "output_type": "execute_result"
    }
   ],
   "source": [
    "# To calc the result of particular movie and user combination\n",
    "# we have to to look up the index of the movie in our movie latent factor matrix\n",
    "# similarly, we have to do it for user\n",
    "# Getting user 3 latent factors\n",
    "one_hot_3 = one_hot(3, n_users).float() # Creating one hot encoding vector\n",
    "print(one_hot_3.shape)\n",
    "user_factors.T @ one_hot_3"
   ]
  },
  {
   "cell_type": "code",
   "execution_count": 10,
   "id": "5dd11092",
   "metadata": {
    "execution": {
     "iopub.execute_input": "2024-04-02T17:49:33.061124Z",
     "iopub.status.busy": "2024-04-02T17:49:33.060717Z",
     "iopub.status.idle": "2024-04-02T17:49:33.068209Z",
     "shell.execute_reply": "2024-04-02T17:49:33.067407Z"
    },
    "papermill": {
     "duration": 0.024502,
     "end_time": "2024-04-02T17:49:33.070379",
     "exception": false,
     "start_time": "2024-04-02T17:49:33.045877",
     "status": "completed"
    },
    "tags": []
   },
   "outputs": [
    {
     "data": {
      "text/plain": [
       "tensor([-0.7807, -0.5311,  0.3496, -0.4182, -0.4670])"
      ]
     },
     "execution_count": 10,
     "metadata": {},
     "output_type": "execute_result"
    }
   ],
   "source": [
    "user_factors[3] # It gives us the same vector as the one at index3 in the matrix"
   ]
  },
  {
   "cell_type": "code",
   "execution_count": 11,
   "id": "98dc18ce",
   "metadata": {
    "execution": {
     "iopub.execute_input": "2024-04-02T17:49:33.095821Z",
     "iopub.status.busy": "2024-04-02T17:49:33.095113Z",
     "iopub.status.idle": "2024-04-02T17:49:33.111069Z",
     "shell.execute_reply": "2024-04-02T17:49:33.110010Z"
    },
    "papermill": {
     "duration": 0.031576,
     "end_time": "2024-04-02T17:49:33.113701",
     "exception": false,
     "start_time": "2024-04-02T17:49:33.082125",
     "status": "completed"
    },
    "tags": []
   },
   "outputs": [
    {
     "data": {
      "text/plain": [
       "(tensor([[1., 0., 0.,  ..., 0., 0., 0.],\n",
       "         [0., 1., 0.,  ..., 0., 0., 0.],\n",
       "         [0., 0., 1.,  ..., 0., 0., 0.]]),\n",
       " torch.Size([3, 944]))"
      ]
     },
     "execution_count": 11,
     "metadata": {},
     "output_type": "execute_result"
    }
   ],
   "source": [
    "# Trying with multiple users\n",
    "one_hot_0= one_hot(0, n_users).float()\n",
    "one_hot_1= one_hot(1, n_users).float()\n",
    "one_hot_2= one_hot(2, n_users).float()\n",
    "index_012 = torch.stack((one_hot_0, one_hot_1, one_hot_2))\n",
    "index_012, index_012.shape"
   ]
  },
  {
   "cell_type": "code",
   "execution_count": 12,
   "id": "41121ff6",
   "metadata": {
    "execution": {
     "iopub.execute_input": "2024-04-02T17:49:33.139888Z",
     "iopub.status.busy": "2024-04-02T17:49:33.139233Z",
     "iopub.status.idle": "2024-04-02T17:49:33.153543Z",
     "shell.execute_reply": "2024-04-02T17:49:33.152721Z"
    },
    "papermill": {
     "duration": 0.029921,
     "end_time": "2024-04-02T17:49:33.155724",
     "exception": false,
     "start_time": "2024-04-02T17:49:33.125803",
     "status": "completed"
    },
    "tags": []
   },
   "outputs": [
    {
     "data": {
      "text/plain": [
       "tensor([[-0.1703,  0.1062,  0.3494,  1.9831, -1.1991],\n",
       "        [ 0.0548, -0.2849, -0.2806,  0.8618,  0.9572],\n",
       "        [-2.0020, -0.3290,  0.6626,  0.0169,  0.8489]])"
      ]
     },
     "execution_count": 12,
     "metadata": {},
     "output_type": "execute_result"
    }
   ],
   "source": [
    "index_012 @ user_factors"
   ]
  },
  {
   "cell_type": "markdown",
   "id": "c17a7c34",
   "metadata": {
    "papermill": {
     "duration": 0.011658,
     "end_time": "2024-04-02T17:49:33.179731",
     "exception": false,
     "start_time": "2024-04-02T17:49:33.168073",
     "status": "completed"
    },
    "tags": []
   },
   "source": [
    "- This would be a perfectly acceptable way to build models using this kind of architecture, except that it would use a lot more memory and time than necessary.\n",
    "- we know that there is no real underlying reason to store the one-hot-encoded vector, or to search through it to find the occurrence of the number one—we should just be able to index into an array directly with an integer. \n",
    ">  Therefore, most deep learning libraries, including PyTorch, include a special layer that does just this; it indexes into a vector using an integer, but has its derivative calculated in such a way that it is identical to what it would have been if it had done a matrix multiplication with a one-hot-encoded vector. This is called an embedding."
   ]
  },
  {
   "cell_type": "code",
   "execution_count": 13,
   "id": "62cf5e19",
   "metadata": {
    "execution": {
     "iopub.execute_input": "2024-04-02T17:49:33.206026Z",
     "iopub.status.busy": "2024-04-02T17:49:33.205332Z",
     "iopub.status.idle": "2024-04-02T17:49:33.211646Z",
     "shell.execute_reply": "2024-04-02T17:49:33.210858Z"
    },
    "papermill": {
     "duration": 0.022131,
     "end_time": "2024-04-02T17:49:33.213990",
     "exception": false,
     "start_time": "2024-04-02T17:49:33.191859",
     "status": "completed"
    },
    "tags": []
   },
   "outputs": [],
   "source": [
    "class DotProduct(Module):\n",
    "    def __init__(self, n_users, n_movies, n_factors):\n",
    "        self.user_factors = Embedding(n_users, n_factors)\n",
    "        self.movie_factors = Embedding(n_movies, n_factors)\n",
    "    \n",
    "    def forward(self, x):\n",
    "        users = self.user_factors(x[:,0])\n",
    "        movies = self.movie_factors(x[:,1])\n",
    "        return (users*movies).sum(dim=1)"
   ]
  },
  {
   "cell_type": "code",
   "execution_count": 14,
   "id": "f1114d5d",
   "metadata": {
    "execution": {
     "iopub.execute_input": "2024-04-02T17:49:33.241152Z",
     "iopub.status.busy": "2024-04-02T17:49:33.240460Z",
     "iopub.status.idle": "2024-04-02T17:49:33.357125Z",
     "shell.execute_reply": "2024-04-02T17:49:33.355973Z"
    },
    "papermill": {
     "duration": 0.13339,
     "end_time": "2024-04-02T17:49:33.359853",
     "exception": false,
     "start_time": "2024-04-02T17:49:33.226463",
     "status": "completed"
    },
    "scrolled": true,
    "tags": []
   },
   "outputs": [
    {
     "data": {
      "text/plain": [
       "(torch.Size([64, 2]),\n",
       " tensor([[ 210, 1457],\n",
       "         [  10,  937],\n",
       "         [ 655,  689],\n",
       "         [ 210, 1182],\n",
       "         [ 151, 1534],\n",
       "         [  97,  619],\n",
       "         [ 234, 1205],\n",
       "         [ 629,  201],\n",
       "         [ 515, 1275],\n",
       "         [ 578,  294],\n",
       "         [ 782,   73],\n",
       "         [ 458, 1075],\n",
       "         [ 286,  464],\n",
       "         [ 737, 1302],\n",
       "         [ 456,  499],\n",
       "         [ 270, 1404],\n",
       "         [ 881,   51],\n",
       "         [ 189,  881],\n",
       "         [ 103,  552],\n",
       "         [ 495,  144],\n",
       "         [ 313,  775],\n",
       "         [ 389,  760],\n",
       "         [ 453, 1645],\n",
       "         [ 881,  988],\n",
       "         [  87,  892],\n",
       "         [ 888,  529],\n",
       "         [ 246, 1375],\n",
       "         [ 711,  132],\n",
       "         [ 405, 1179],\n",
       "         [ 545,  548],\n",
       "         [ 367, 1612],\n",
       "         [ 537, 1475],\n",
       "         [ 665,  471],\n",
       "         [ 334,  573],\n",
       "         [ 293, 1210],\n",
       "         [ 634,  210],\n",
       "         [  94,  927],\n",
       "         [ 130,  525],\n",
       "         [ 497,  617],\n",
       "         [ 109,  289],\n",
       "         [ 819,   33],\n",
       "         [ 521,  965],\n",
       "         [ 214, 1376],\n",
       "         [ 491, 1296],\n",
       "         [ 141,   97],\n",
       "         [ 749,  683],\n",
       "         [ 354, 1209],\n",
       "         [  79,  208],\n",
       "         [ 432, 1235],\n",
       "         [ 883, 1634],\n",
       "         [ 527,  890],\n",
       "         [ 527, 1480],\n",
       "         [ 504, 1124],\n",
       "         [ 327,  812],\n",
       "         [ 862, 1402],\n",
       "         [ 263,  412],\n",
       "         [ 621,  436],\n",
       "         [ 409,  340],\n",
       "         [ 756,  765],\n",
       "         [ 373,   95],\n",
       "         [ 425, 1482],\n",
       "         [ 423,  593],\n",
       "         [ 200, 1288],\n",
       "         [  60, 1218]]),\n",
       " tensor([[5],\n",
       "         [4],\n",
       "         [4],\n",
       "         [4],\n",
       "         [3],\n",
       "         [1],\n",
       "         [3],\n",
       "         [3],\n",
       "         [2],\n",
       "         [2],\n",
       "         [2],\n",
       "         [5],\n",
       "         [3],\n",
       "         [3],\n",
       "         [3],\n",
       "         [5],\n",
       "         [5],\n",
       "         [1],\n",
       "         [3],\n",
       "         [4],\n",
       "         [3],\n",
       "         [4],\n",
       "         [3],\n",
       "         [4],\n",
       "         [3],\n",
       "         [4],\n",
       "         [1],\n",
       "         [2],\n",
       "         [5],\n",
       "         [3],\n",
       "         [4],\n",
       "         [5],\n",
       "         [4],\n",
       "         [3],\n",
       "         [5],\n",
       "         [4],\n",
       "         [5],\n",
       "         [5],\n",
       "         [1],\n",
       "         [3],\n",
       "         [5],\n",
       "         [3],\n",
       "         [4],\n",
       "         [5],\n",
       "         [4],\n",
       "         [5],\n",
       "         [4],\n",
       "         [4],\n",
       "         [5],\n",
       "         [5],\n",
       "         [3],\n",
       "         [4],\n",
       "         [3],\n",
       "         [3],\n",
       "         [5],\n",
       "         [4],\n",
       "         [3],\n",
       "         [2],\n",
       "         [2],\n",
       "         [4],\n",
       "         [2],\n",
       "         [4],\n",
       "         [4],\n",
       "         [5]], dtype=torch.int8))"
      ]
     },
     "execution_count": 14,
     "metadata": {},
     "output_type": "execute_result"
    }
   ],
   "source": [
    "x, y = dls.one_batch()\n",
    "x.shape, x, y"
   ]
  },
  {
   "cell_type": "code",
   "execution_count": 15,
   "id": "4e9d3cb1",
   "metadata": {
    "execution": {
     "iopub.execute_input": "2024-04-02T17:49:33.386167Z",
     "iopub.status.busy": "2024-04-02T17:49:33.385715Z",
     "iopub.status.idle": "2024-04-02T17:49:33.405909Z",
     "shell.execute_reply": "2024-04-02T17:49:33.404724Z"
    },
    "papermill": {
     "duration": 0.036644,
     "end_time": "2024-04-02T17:49:33.408766",
     "exception": false,
     "start_time": "2024-04-02T17:49:33.372122",
     "status": "completed"
    },
    "tags": []
   },
   "outputs": [],
   "source": [
    "model = DotProduct(n_users, n_movies, 50)\n",
    "learn = Learner(dls, model, loss_func=MSELossFlat())"
   ]
  },
  {
   "cell_type": "code",
   "execution_count": 16,
   "id": "55320379",
   "metadata": {
    "execution": {
     "iopub.execute_input": "2024-04-02T17:49:33.435987Z",
     "iopub.status.busy": "2024-04-02T17:49:33.435594Z",
     "iopub.status.idle": "2024-04-02T17:49:33.443088Z",
     "shell.execute_reply": "2024-04-02T17:49:33.441922Z"
    },
    "papermill": {
     "duration": 0.02402,
     "end_time": "2024-04-02T17:49:33.445467",
     "exception": false,
     "start_time": "2024-04-02T17:49:33.421447",
     "status": "completed"
    },
    "tags": []
   },
   "outputs": [
    {
     "data": {
      "text/plain": [
       "(Embedding(944, 50), Embedding(944, 50))"
      ]
     },
     "execution_count": 16,
     "metadata": {},
     "output_type": "execute_result"
    }
   ],
   "source": [
    "model.user_factors, model.user_factors"
   ]
  },
  {
   "cell_type": "code",
   "execution_count": 17,
   "id": "2c252769",
   "metadata": {
    "execution": {
     "iopub.execute_input": "2024-04-02T17:49:33.472291Z",
     "iopub.status.busy": "2024-04-02T17:49:33.471874Z",
     "iopub.status.idle": "2024-04-02T17:50:22.507744Z",
     "shell.execute_reply": "2024-04-02T17:50:22.506518Z"
    },
    "papermill": {
     "duration": 49.052301,
     "end_time": "2024-04-02T17:50:22.510255",
     "exception": false,
     "start_time": "2024-04-02T17:49:33.457954",
     "status": "completed"
    },
    "tags": []
   },
   "outputs": [
    {
     "data": {
      "text/html": [
       "\n",
       "<style>\n",
       "    /* Turns off some styling */\n",
       "    progress {\n",
       "        /* gets rid of default border in Firefox and Opera. */\n",
       "        border: none;\n",
       "        /* Needs to be in here for Safari polyfill so background images work as expected. */\n",
       "        background-size: auto;\n",
       "    }\n",
       "    progress:not([value]), progress:not([value])::-webkit-progress-bar {\n",
       "        background: repeating-linear-gradient(45deg, #7e7e7e, #7e7e7e 10px, #5c5c5c 10px, #5c5c5c 20px);\n",
       "    }\n",
       "    .progress-bar-interrupted, .progress-bar-interrupted::-webkit-progress-bar {\n",
       "        background: #F44336;\n",
       "    }\n",
       "</style>\n"
      ],
      "text/plain": [
       "<IPython.core.display.HTML object>"
      ]
     },
     "metadata": {},
     "output_type": "display_data"
    },
    {
     "data": {
      "text/html": [
       "<table border=\"1\" class=\"dataframe\">\n",
       "  <thead>\n",
       "    <tr style=\"text-align: left;\">\n",
       "      <th>epoch</th>\n",
       "      <th>train_loss</th>\n",
       "      <th>valid_loss</th>\n",
       "      <th>time</th>\n",
       "    </tr>\n",
       "  </thead>\n",
       "  <tbody>\n",
       "    <tr>\n",
       "      <td>0</td>\n",
       "      <td>1.316934</td>\n",
       "      <td>1.298450</td>\n",
       "      <td>00:10</td>\n",
       "    </tr>\n",
       "    <tr>\n",
       "      <td>1</td>\n",
       "      <td>1.082428</td>\n",
       "      <td>1.100338</td>\n",
       "      <td>00:09</td>\n",
       "    </tr>\n",
       "    <tr>\n",
       "      <td>2</td>\n",
       "      <td>0.953002</td>\n",
       "      <td>0.968825</td>\n",
       "      <td>00:09</td>\n",
       "    </tr>\n",
       "    <tr>\n",
       "      <td>3</td>\n",
       "      <td>0.859348</td>\n",
       "      <td>0.884143</td>\n",
       "      <td>00:09</td>\n",
       "    </tr>\n",
       "    <tr>\n",
       "      <td>4</td>\n",
       "      <td>0.796893</td>\n",
       "      <td>0.865430</td>\n",
       "      <td>00:09</td>\n",
       "    </tr>\n",
       "  </tbody>\n",
       "</table>"
      ],
      "text/plain": [
       "<IPython.core.display.HTML object>"
      ]
     },
     "metadata": {},
     "output_type": "display_data"
    }
   ],
   "source": [
    "learn.fit_one_cycle(5, 5e-3)"
   ]
  },
  {
   "cell_type": "markdown",
   "id": "31958c9d",
   "metadata": {
    "papermill": {
     "duration": 0.012628,
     "end_time": "2024-04-02T17:50:22.535653",
     "exception": false,
     "start_time": "2024-04-02T17:50:22.523025",
     "status": "completed"
    },
    "tags": []
   },
   "source": [
    "### Adding Non Linearity\n",
    "Adding prediction range limiter"
   ]
  },
  {
   "cell_type": "code",
   "execution_count": 18,
   "id": "adab8056",
   "metadata": {
    "execution": {
     "iopub.execute_input": "2024-04-02T17:50:22.562899Z",
     "iopub.status.busy": "2024-04-02T17:50:22.562514Z",
     "iopub.status.idle": "2024-04-02T17:50:22.570218Z",
     "shell.execute_reply": "2024-04-02T17:50:22.569139Z"
    },
    "papermill": {
     "duration": 0.024979,
     "end_time": "2024-04-02T17:50:22.573325",
     "exception": false,
     "start_time": "2024-04-02T17:50:22.548346",
     "status": "completed"
    },
    "tags": []
   },
   "outputs": [],
   "source": [
    "# Improving model by adding non linearity \n",
    "# so that the prediction range is in the desired range\n",
    "class DotProduct(Module):\n",
    "    def __init__(self, n_users, n_movies, n_factors, y_range=(0, 5.5)):\n",
    "        self.user_factors = Embedding(n_users, n_factors)\n",
    "        self.movie_factors = Embedding(n_movies, n_factors)\n",
    "        self.y_range = y_range\n",
    "    def forward(self, x):\n",
    "        users = self.user_factors(x[:, 0])\n",
    "        movies = self.movie_factors(x[:, 1])\n",
    "        return sigmoid_range((users*movies).sum(dim=1), *self.y_range)"
   ]
  },
  {
   "cell_type": "code",
   "execution_count": 19,
   "id": "6404f7a7",
   "metadata": {
    "execution": {
     "iopub.execute_input": "2024-04-02T17:50:22.600714Z",
     "iopub.status.busy": "2024-04-02T17:50:22.600324Z",
     "iopub.status.idle": "2024-04-02T17:51:12.421760Z",
     "shell.execute_reply": "2024-04-02T17:51:12.420635Z"
    },
    "papermill": {
     "duration": 49.838385,
     "end_time": "2024-04-02T17:51:12.424455",
     "exception": false,
     "start_time": "2024-04-02T17:50:22.586070",
     "status": "completed"
    },
    "tags": []
   },
   "outputs": [
    {
     "data": {
      "text/html": [
       "\n",
       "<style>\n",
       "    /* Turns off some styling */\n",
       "    progress {\n",
       "        /* gets rid of default border in Firefox and Opera. */\n",
       "        border: none;\n",
       "        /* Needs to be in here for Safari polyfill so background images work as expected. */\n",
       "        background-size: auto;\n",
       "    }\n",
       "    progress:not([value]), progress:not([value])::-webkit-progress-bar {\n",
       "        background: repeating-linear-gradient(45deg, #7e7e7e, #7e7e7e 10px, #5c5c5c 10px, #5c5c5c 20px);\n",
       "    }\n",
       "    .progress-bar-interrupted, .progress-bar-interrupted::-webkit-progress-bar {\n",
       "        background: #F44336;\n",
       "    }\n",
       "</style>\n"
      ],
      "text/plain": [
       "<IPython.core.display.HTML object>"
      ]
     },
     "metadata": {},
     "output_type": "display_data"
    },
    {
     "data": {
      "text/html": [
       "<table border=\"1\" class=\"dataframe\">\n",
       "  <thead>\n",
       "    <tr style=\"text-align: left;\">\n",
       "      <th>epoch</th>\n",
       "      <th>train_loss</th>\n",
       "      <th>valid_loss</th>\n",
       "      <th>time</th>\n",
       "    </tr>\n",
       "  </thead>\n",
       "  <tbody>\n",
       "    <tr>\n",
       "      <td>0</td>\n",
       "      <td>0.992412</td>\n",
       "      <td>1.001378</td>\n",
       "      <td>00:09</td>\n",
       "    </tr>\n",
       "    <tr>\n",
       "      <td>1</td>\n",
       "      <td>0.878010</td>\n",
       "      <td>0.891201</td>\n",
       "      <td>00:09</td>\n",
       "    </tr>\n",
       "    <tr>\n",
       "      <td>2</td>\n",
       "      <td>0.648862</td>\n",
       "      <td>0.863972</td>\n",
       "      <td>00:10</td>\n",
       "    </tr>\n",
       "    <tr>\n",
       "      <td>3</td>\n",
       "      <td>0.466892</td>\n",
       "      <td>0.873099</td>\n",
       "      <td>00:09</td>\n",
       "    </tr>\n",
       "    <tr>\n",
       "      <td>4</td>\n",
       "      <td>0.363910</td>\n",
       "      <td>0.877090</td>\n",
       "      <td>00:09</td>\n",
       "    </tr>\n",
       "  </tbody>\n",
       "</table>"
      ],
      "text/plain": [
       "<IPython.core.display.HTML object>"
      ]
     },
     "metadata": {},
     "output_type": "display_data"
    }
   ],
   "source": [
    "model = DotProduct(n_users, n_movies, 50)\n",
    "learn = Learner(dls, model, loss_func = MSELossFlat())\n",
    "learn.fit_one_cycle(5, 5e-3)"
   ]
  },
  {
   "cell_type": "markdown",
   "id": "62d2967a",
   "metadata": {
    "papermill": {
     "duration": 0.013156,
     "end_time": "2024-04-02T17:51:12.451475",
     "exception": false,
     "start_time": "2024-04-02T17:51:12.438319",
     "status": "completed"
    },
    "tags": []
   },
   "source": [
    "### Adding Bias Factor\n",
    "- Adding Bias so that we can adjust the missing piece which is that some users are just more positive or negative in their recommendations than others, and some movies are just plain better or worse than others\n",
    "- We don't have any way of representing it in the dot product table.\n",
    "> We can represent that how much the action it contains, is it sci-fi, is it old... but there's no way to represent that movie is generally percieved ie, liked/disliked by everyone\n",
    "Similarly, whether user prefers watching movies and liking them or not."
   ]
  },
  {
   "cell_type": "code",
   "execution_count": 20,
   "id": "fdfebbfe",
   "metadata": {
    "execution": {
     "iopub.execute_input": "2024-04-02T17:51:12.480189Z",
     "iopub.status.busy": "2024-04-02T17:51:12.479779Z",
     "iopub.status.idle": "2024-04-02T17:51:12.488498Z",
     "shell.execute_reply": "2024-04-02T17:51:12.487384Z"
    },
    "papermill": {
     "duration": 0.026005,
     "end_time": "2024-04-02T17:51:12.490827",
     "exception": false,
     "start_time": "2024-04-02T17:51:12.464822",
     "status": "completed"
    },
    "tags": []
   },
   "outputs": [],
   "source": [
    "class DotProductBias(Module):\n",
    "    def __init__(self, n_users, n_movies, n_factors, y_range=(0, 55)):\n",
    "        self.user_factors = Embedding(n_users, n_factors)\n",
    "        self.movie_factors = Embedding(n_movies, n_factors)\n",
    "        self.user_bias = Embedding(n_users, 1)\n",
    "        self.movie_bias = Embedding(n_movies, 1)\n",
    "        self.y_range = y_range\n",
    "    def forward(self, x):\n",
    "        users = self.user_factors(x[:, 0])\n",
    "        movies = self.movie_factors(x[:, 1])\n",
    "        res = (users*movies).sum(dim=1, keepdim=True)\n",
    "        res += self.user_bias(x[:,0]) + self.movie_bias(x[:,1])\n",
    "        return sigmoid_range(res, *self.y_range)"
   ]
  },
  {
   "cell_type": "code",
   "execution_count": 21,
   "id": "922514cc",
   "metadata": {
    "execution": {
     "iopub.execute_input": "2024-04-02T17:51:12.519630Z",
     "iopub.status.busy": "2024-04-02T17:51:12.519239Z",
     "iopub.status.idle": "2024-04-02T17:52:06.007044Z",
     "shell.execute_reply": "2024-04-02T17:52:06.005741Z"
    },
    "papermill": {
     "duration": 53.505792,
     "end_time": "2024-04-02T17:52:06.010014",
     "exception": false,
     "start_time": "2024-04-02T17:51:12.504222",
     "status": "completed"
    },
    "tags": []
   },
   "outputs": [
    {
     "data": {
      "text/html": [
       "\n",
       "<style>\n",
       "    /* Turns off some styling */\n",
       "    progress {\n",
       "        /* gets rid of default border in Firefox and Opera. */\n",
       "        border: none;\n",
       "        /* Needs to be in here for Safari polyfill so background images work as expected. */\n",
       "        background-size: auto;\n",
       "    }\n",
       "    progress:not([value]), progress:not([value])::-webkit-progress-bar {\n",
       "        background: repeating-linear-gradient(45deg, #7e7e7e, #7e7e7e 10px, #5c5c5c 10px, #5c5c5c 20px);\n",
       "    }\n",
       "    .progress-bar-interrupted, .progress-bar-interrupted::-webkit-progress-bar {\n",
       "        background: #F44336;\n",
       "    }\n",
       "</style>\n"
      ],
      "text/plain": [
       "<IPython.core.display.HTML object>"
      ]
     },
     "metadata": {},
     "output_type": "display_data"
    },
    {
     "data": {
      "text/html": [
       "<table border=\"1\" class=\"dataframe\">\n",
       "  <thead>\n",
       "    <tr style=\"text-align: left;\">\n",
       "      <th>epoch</th>\n",
       "      <th>train_loss</th>\n",
       "      <th>valid_loss</th>\n",
       "      <th>time</th>\n",
       "    </tr>\n",
       "  </thead>\n",
       "  <tbody>\n",
       "    <tr>\n",
       "      <td>0</td>\n",
       "      <td>7.578275</td>\n",
       "      <td>5.533803</td>\n",
       "      <td>00:10</td>\n",
       "    </tr>\n",
       "    <tr>\n",
       "      <td>1</td>\n",
       "      <td>2.224777</td>\n",
       "      <td>2.116163</td>\n",
       "      <td>00:10</td>\n",
       "    </tr>\n",
       "    <tr>\n",
       "      <td>2</td>\n",
       "      <td>1.394541</td>\n",
       "      <td>1.585827</td>\n",
       "      <td>00:10</td>\n",
       "    </tr>\n",
       "    <tr>\n",
       "      <td>3</td>\n",
       "      <td>0.961300</td>\n",
       "      <td>1.280849</td>\n",
       "      <td>00:10</td>\n",
       "    </tr>\n",
       "    <tr>\n",
       "      <td>4</td>\n",
       "      <td>0.775323</td>\n",
       "      <td>1.209450</td>\n",
       "      <td>00:10</td>\n",
       "    </tr>\n",
       "  </tbody>\n",
       "</table>"
      ],
      "text/plain": [
       "<IPython.core.display.HTML object>"
      ]
     },
     "metadata": {},
     "output_type": "display_data"
    }
   ],
   "source": [
    "model = DotProductBias(n_users, n_movies, 50)\n",
    "learn = Learner(dls, model, loss_func=MSELossFlat())\n",
    "learn.fit_one_cycle(5, 5e-3)"
   ]
  },
  {
   "cell_type": "markdown",
   "id": "26aa4787",
   "metadata": {
    "papermill": {
     "duration": 0.013242,
     "end_time": "2024-04-02T17:52:06.036949",
     "exception": false,
     "start_time": "2024-04-02T17:52:06.023707",
     "status": "completed"
    },
    "tags": []
   },
   "source": [
    "## Preventing Overfitting\n",
    "### Weight Decay or L2 Regularisation\n",
    "- Adding sum of the square of the weight to the loss function\n",
    "- To penalize the model for carrying larger weights\n",
    "- Resulting in less sparse network and pushes the prediction towards the underfitting"
   ]
  },
  {
   "cell_type": "code",
   "execution_count": 22,
   "id": "325a7454",
   "metadata": {
    "execution": {
     "iopub.execute_input": "2024-04-02T17:52:06.066767Z",
     "iopub.status.busy": "2024-04-02T17:52:06.066049Z",
     "iopub.status.idle": "2024-04-02T17:52:06.485261Z",
     "shell.execute_reply": "2024-04-02T17:52:06.484345Z"
    },
    "papermill": {
     "duration": 0.437059,
     "end_time": "2024-04-02T17:52:06.487731",
     "exception": false,
     "start_time": "2024-04-02T17:52:06.050672",
     "status": "completed"
    },
    "tags": []
   },
   "outputs": [
    {
     "data": {
      "image/png": "[encoded data removed]",
      "text/plain": [
       "<Figure size 800x600 with 1 Axes>"
      ]
     },
     "metadata": {},
     "output_type": "display_data"
    }
   ],
   "source": [
    "x = np.linspace(-2,2,100)\n",
    "a_s = [1,2,5,10,50] \n",
    "ys = [a * x**2 for a in a_s]\n",
    "_,ax = plt.subplots(figsize=(8,6))\n",
    "for a,y in zip(a_s,ys): ax.plot(x,y, label=f'a={a}')\n",
    "ax.set_ylim([0,5])\n",
    "ax.legend();\n",
    "# This shows that having higher weights gives the model better flexibility\n",
    "# and allows it to overfit "
   ]
  },
  {
   "cell_type": "markdown",
   "id": "ea99568e",
   "metadata": {
    "papermill": {
     "duration": 0.014449,
     "end_time": "2024-04-02T17:52:06.517233",
     "exception": false,
     "start_time": "2024-04-02T17:52:06.502784",
     "status": "completed"
    },
    "tags": []
   },
   "source": [
    "- letting our model learn high parameters might cause it to fit all the data points in the training set with an overcomplex function that has very sharp changes, which will lead to overfitting.\n",
    "- Limiting our weights from growing too much is going to hinder the training of the model, but it will yield a state where it generalizes better.\n",
    "- weight decay (or just wd) is a parameter that controls that sum of squares we add to our loss (assuming parameters is a tensor of all parameters)\n",
    "\n",
    "> loss_with_wd = loss + wd * (parameters**2).sum()\n",
    "\n",
    "or we can directly modify the parameters grad with the derivative of the L2 regularization calculation\n",
    "\n",
    "> parameters.grad += wd * 2 * x"
   ]
  },
  {
   "cell_type": "code",
   "execution_count": 23,
   "id": "09646a59",
   "metadata": {
    "execution": {
     "iopub.execute_input": "2024-04-02T17:52:06.549288Z",
     "iopub.status.busy": "2024-04-02T17:52:06.548562Z",
     "iopub.status.idle": "2024-04-02T17:53:00.318399Z",
     "shell.execute_reply": "2024-04-02T17:53:00.317364Z"
    },
    "papermill": {
     "duration": 53.788827,
     "end_time": "2024-04-02T17:53:00.321037",
     "exception": false,
     "start_time": "2024-04-02T17:52:06.532210",
     "status": "completed"
    },
    "tags": []
   },
   "outputs": [
    {
     "data": {
      "text/html": [
       "\n",
       "<style>\n",
       "    /* Turns off some styling */\n",
       "    progress {\n",
       "        /* gets rid of default border in Firefox and Opera. */\n",
       "        border: none;\n",
       "        /* Needs to be in here for Safari polyfill so background images work as expected. */\n",
       "        background-size: auto;\n",
       "    }\n",
       "    progress:not([value]), progress:not([value])::-webkit-progress-bar {\n",
       "        background: repeating-linear-gradient(45deg, #7e7e7e, #7e7e7e 10px, #5c5c5c 10px, #5c5c5c 20px);\n",
       "    }\n",
       "    .progress-bar-interrupted, .progress-bar-interrupted::-webkit-progress-bar {\n",
       "        background: #F44336;\n",
       "    }\n",
       "</style>\n"
      ],
      "text/plain": [
       "<IPython.core.display.HTML object>"
      ]
     },
     "metadata": {},
     "output_type": "display_data"
    },
    {
     "data": {
      "text/html": [
       "<table border=\"1\" class=\"dataframe\">\n",
       "  <thead>\n",
       "    <tr style=\"text-align: left;\">\n",
       "      <th>epoch</th>\n",
       "      <th>train_loss</th>\n",
       "      <th>valid_loss</th>\n",
       "      <th>time</th>\n",
       "    </tr>\n",
       "  </thead>\n",
       "  <tbody>\n",
       "    <tr>\n",
       "      <td>0</td>\n",
       "      <td>7.619683</td>\n",
       "      <td>6.039255</td>\n",
       "      <td>00:10</td>\n",
       "    </tr>\n",
       "    <tr>\n",
       "      <td>1</td>\n",
       "      <td>2.460578</td>\n",
       "      <td>2.237838</td>\n",
       "      <td>00:10</td>\n",
       "    </tr>\n",
       "    <tr>\n",
       "      <td>2</td>\n",
       "      <td>1.550322</td>\n",
       "      <td>1.790362</td>\n",
       "      <td>00:10</td>\n",
       "    </tr>\n",
       "    <tr>\n",
       "      <td>3</td>\n",
       "      <td>1.057854</td>\n",
       "      <td>1.436298</td>\n",
       "      <td>00:10</td>\n",
       "    </tr>\n",
       "    <tr>\n",
       "      <td>4</td>\n",
       "      <td>0.931362</td>\n",
       "      <td>1.356359</td>\n",
       "      <td>00:10</td>\n",
       "    </tr>\n",
       "  </tbody>\n",
       "</table>"
      ],
      "text/plain": [
       "<IPython.core.display.HTML object>"
      ]
     },
     "metadata": {},
     "output_type": "display_data"
    }
   ],
   "source": [
    "model = DotProductBias(n_users, n_movies, 50)\n",
    "learn = Learner(dls, model, loss_func=MSELossFlat())\n",
    "learn.fit_one_cycle(5, 5e-3, wd=0.05)"
   ]
  },
  {
   "cell_type": "code",
   "execution_count": null,
   "id": "067e12c0",
   "metadata": {
    "papermill": {
     "duration": 0.015399,
     "end_time": "2024-04-02T17:53:00.352121",
     "exception": false,
     "start_time": "2024-04-02T17:53:00.336722",
     "status": "completed"
    },
    "tags": []
   },
   "outputs": [],
   "source": []
  }
 ],
 "metadata": {
  "kaggle": {
   "accelerator": "none",
   "dataSources": [],
   "dockerImageVersionId": 30673,
   "isGpuEnabled": false,
   "isInternetEnabled": true,
   "language": "python",
   "sourceType": "notebook"
  },
  "kernelspec": {
   "display_name": "Python 3",
   "language": "python",
   "name": "python3"
  },
  "language_info": {
   "codemirror_mode": {
    "name": "ipython",
    "version": 3
   },
   "file_extension": ".py",
   "mimetype": "text/x-python",
   "name": "python",
   "nbconvert_exporter": "python",
   "pygments_lexer": "ipython3",
   "version": "3.10.13"
  },
  "papermill": {
   "default_parameters": {},
   "duration": 221.220882,
   "end_time": "2024-04-02T17:53:01.794188",
   "environment_variables": {},
   "exception": null,
   "input_path": "__notebook__.ipynb",
   "output_path": "__notebook__.ipynb",
   "parameters": {},
   "start_time": "2024-04-02T17:49:20.573306",
   "version": "2.5.0"
  }
 },
 "nbformat": 4,
 "nbformat_minor": 5
}
