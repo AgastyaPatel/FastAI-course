{
 "cells": [
  {
   "cell_type": "code",
   "execution_count": 1,
   "id": "fccb7dc0",
   "metadata": {
    "_cell_guid": "b1076dfc-b9ad-4769-8c92-a6c4dae69d19",
    "_uuid": "8f2839f25d086af736a60e9eeb907d3b93b6e0e5",
    "execution": {
     "iopub.execute_input": "2024-03-21T11:39:41.252412Z",
     "iopub.status.busy": "2024-03-21T11:39:41.251899Z",
     "iopub.status.idle": "2024-03-21T11:39:42.378392Z",
     "shell.execute_reply": "2024-03-21T11:39:42.376495Z"
    },
    "papermill": {
     "duration": 1.159782,
     "end_time": "2024-03-21T11:39:42.381495",
     "exception": false,
     "start_time": "2024-03-21T11:39:41.221713",
     "status": "completed"
    },
    "tags": []
   },
   "outputs": [
    {
     "name": "stdout",
     "output_type": "stream",
     "text": [
      "/kaggle/input/titanic/train.csv\n",
      "/kaggle/input/titanic/test.csv\n",
      "/kaggle/input/titanic/gender_submission.csv\n"
     ]
    }
   ],
   "source": [
    "# This Python 3 environment comes with many helpful analytics libraries installed\n",
    "# It is defined by the kaggle/python Docker image: https://github.com/kaggle/docker-python\n",
    "# For example, here's several helpful packages to load\n",
    "\n",
    "import numpy as np # linear algebra\n",
    "import pandas as pd # data processing, CSV file I/O (e.g. pd.read_csv)\n",
    "\n",
    "# Input data files are available in the read-only \"../input/\" directory\n",
    "# For example, running this (by clicking run or pressing Shift+Enter) will list all files under the input directory\n",
    "\n",
    "import os\n",
    "for dirname, _, filenames in os.walk('/kaggle/input'):\n",
    "    for filename in filenames:\n",
    "        print(os.path.join(dirname, filename))\n",
    "\n",
    "# You can write up to 20GB to the current directory (/kaggle/working/) that gets preserved as output when you create a version using \"Save & Run All\" \n",
    "# You can also write temporary files to /kaggle/temp/, but they won't be saved outside of the current session"
   ]
  },
  {
   "cell_type": "markdown",
   "id": "5569514a",
   "metadata": {
    "papermill": {
     "duration": 0.027452,
     "end_time": "2024-03-21T11:39:42.438549",
     "exception": false,
     "start_time": "2024-03-21T11:39:42.411097",
     "status": "completed"
    },
    "tags": []
   },
   "source": [
    "# Working with Tables\n",
    "We are predicting the survival of the passengers in this notebook by building NN from scratch."
   ]
  },
  {
   "cell_type": "code",
   "execution_count": 2,
   "id": "de4e9c04",
   "metadata": {
    "execution": {
     "iopub.execute_input": "2024-03-21T11:39:42.498243Z",
     "iopub.status.busy": "2024-03-21T11:39:42.497488Z",
     "iopub.status.idle": "2024-03-21T11:39:42.505150Z",
     "shell.execute_reply": "2024-03-21T11:39:42.503921Z"
    },
    "papermill": {
     "duration": 0.041581,
     "end_time": "2024-03-21T11:39:42.507795",
     "exception": false,
     "start_time": "2024-03-21T11:39:42.466214",
     "status": "completed"
    },
    "tags": []
   },
   "outputs": [],
   "source": [
    "import os\n",
    "from pathlib import Path\n",
    "\n",
    "isKaggle = os.environ.get('KAGGLE_KERNEL_RUN_TYPE', '') \n",
    "if isKaggle: path = Path('/kaggle/input/titanic')\n",
    "else:\n",
    "    path = Path.cwd()/'titanic'\n",
    "    if not path.exists():\n",
    "        import zipfile, kaggle\n",
    "        kaggle.api.competition_download_cli(str(path))\n",
    "        zipfile.ZipFile(f'{path}.zip').extractall(path)"
   ]
  },
  {
   "cell_type": "code",
   "execution_count": 3,
   "id": "c8c2379c",
   "metadata": {
    "execution": {
     "iopub.execute_input": "2024-03-21T11:39:42.566572Z",
     "iopub.status.busy": "2024-03-21T11:39:42.565775Z",
     "iopub.status.idle": "2024-03-21T11:39:46.921714Z",
     "shell.execute_reply": "2024-03-21T11:39:46.920368Z"
    },
    "papermill": {
     "duration": 4.388688,
     "end_time": "2024-03-21T11:39:46.924543",
     "exception": false,
     "start_time": "2024-03-21T11:39:42.535855",
     "status": "completed"
    },
    "tags": []
   },
   "outputs": [],
   "source": [
    "import numpy as np, pandas as pd, torch\n",
    "np.set_printoptions(linewidth=140)\n",
    "torch.set_printoptions(linewidth=140, sci_mode = False, edgeitems=7)\n",
    "pd.set_option('display.width', 140)"
   ]
  },
  {
   "cell_type": "markdown",
   "id": "d3a2d748",
   "metadata": {
    "papermill": {
     "duration": 0.027336,
     "end_time": "2024-03-21T11:39:46.979875",
     "exception": false,
     "start_time": "2024-03-21T11:39:46.952539",
     "status": "completed"
    },
    "tags": []
   },
   "source": [
    "# Cleaning the data"
   ]
  },
  {
   "cell_type": "code",
   "execution_count": 4,
   "id": "acefafd7",
   "metadata": {
    "execution": {
     "iopub.execute_input": "2024-03-21T11:39:47.038390Z",
     "iopub.status.busy": "2024-03-21T11:39:47.037657Z",
     "iopub.status.idle": "2024-03-21T11:39:47.094572Z",
     "shell.execute_reply": "2024-03-21T11:39:47.093569Z"
    },
    "papermill": {
     "duration": 0.089793,
     "end_time": "2024-03-21T11:39:47.097052",
     "exception": false,
     "start_time": "2024-03-21T11:39:47.007259",
     "status": "completed"
    },
    "tags": []
   },
   "outputs": [
    {
     "data": {
      "text/html": [
       "<div>\n",
       "<style scoped>\n",
       "    .dataframe tbody tr th:only-of-type {\n",
       "        vertical-align: middle;\n",
       "    }\n",
       "\n",
       "    .dataframe tbody tr th {\n",
       "        vertical-align: top;\n",
       "    }\n",
       "\n",
       "    .dataframe thead th {\n",
       "        text-align: right;\n",
       "    }\n",
       "</style>\n",
       "<table border=\"1\" class=\"dataframe\">\n",
       "  <thead>\n",
       "    <tr style=\"text-align: right;\">\n",
       "      <th></th>\n",
       "      <th>PassengerId</th>\n",
       "      <th>Survived</th>\n",
       "      <th>Pclass</th>\n",
       "      <th>Name</th>\n",
       "      <th>Sex</th>\n",
       "      <th>Age</th>\n",
       "      <th>SibSp</th>\n",
       "      <th>Parch</th>\n",
       "      <th>Ticket</th>\n",
       "      <th>Fare</th>\n",
       "      <th>Cabin</th>\n",
       "      <th>Embarked</th>\n",
       "    </tr>\n",
       "  </thead>\n",
       "  <tbody>\n",
       "    <tr>\n",
       "      <th>0</th>\n",
       "      <td>1</td>\n",
       "      <td>0</td>\n",
       "      <td>3</td>\n",
       "      <td>Braund, Mr. Owen Harris</td>\n",
       "      <td>male</td>\n",
       "      <td>22.0</td>\n",
       "      <td>1</td>\n",
       "      <td>0</td>\n",
       "      <td>A/5 21171</td>\n",
       "      <td>7.2500</td>\n",
       "      <td>NaN</td>\n",
       "      <td>S</td>\n",
       "    </tr>\n",
       "    <tr>\n",
       "      <th>1</th>\n",
       "      <td>2</td>\n",
       "      <td>1</td>\n",
       "      <td>1</td>\n",
       "      <td>Cumings, Mrs. John Bradley (Florence Briggs Th...</td>\n",
       "      <td>female</td>\n",
       "      <td>38.0</td>\n",
       "      <td>1</td>\n",
       "      <td>0</td>\n",
       "      <td>PC 17599</td>\n",
       "      <td>71.2833</td>\n",
       "      <td>C85</td>\n",
       "      <td>C</td>\n",
       "    </tr>\n",
       "    <tr>\n",
       "      <th>2</th>\n",
       "      <td>3</td>\n",
       "      <td>1</td>\n",
       "      <td>3</td>\n",
       "      <td>Heikkinen, Miss. Laina</td>\n",
       "      <td>female</td>\n",
       "      <td>26.0</td>\n",
       "      <td>0</td>\n",
       "      <td>0</td>\n",
       "      <td>STON/O2. 3101282</td>\n",
       "      <td>7.9250</td>\n",
       "      <td>NaN</td>\n",
       "      <td>S</td>\n",
       "    </tr>\n",
       "    <tr>\n",
       "      <th>3</th>\n",
       "      <td>4</td>\n",
       "      <td>1</td>\n",
       "      <td>1</td>\n",
       "      <td>Futrelle, Mrs. Jacques Heath (Lily May Peel)</td>\n",
       "      <td>female</td>\n",
       "      <td>35.0</td>\n",
       "      <td>1</td>\n",
       "      <td>0</td>\n",
       "      <td>113803</td>\n",
       "      <td>53.1000</td>\n",
       "      <td>C123</td>\n",
       "      <td>S</td>\n",
       "    </tr>\n",
       "    <tr>\n",
       "      <th>4</th>\n",
       "      <td>5</td>\n",
       "      <td>0</td>\n",
       "      <td>3</td>\n",
       "      <td>Allen, Mr. William Henry</td>\n",
       "      <td>male</td>\n",
       "      <td>35.0</td>\n",
       "      <td>0</td>\n",
       "      <td>0</td>\n",
       "      <td>373450</td>\n",
       "      <td>8.0500</td>\n",
       "      <td>NaN</td>\n",
       "      <td>S</td>\n",
       "    </tr>\n",
       "    <tr>\n",
       "      <th>...</th>\n",
       "      <td>...</td>\n",
       "      <td>...</td>\n",
       "      <td>...</td>\n",
       "      <td>...</td>\n",
       "      <td>...</td>\n",
       "      <td>...</td>\n",
       "      <td>...</td>\n",
       "      <td>...</td>\n",
       "      <td>...</td>\n",
       "      <td>...</td>\n",
       "      <td>...</td>\n",
       "      <td>...</td>\n",
       "    </tr>\n",
       "    <tr>\n",
       "      <th>886</th>\n",
       "      <td>887</td>\n",
       "      <td>0</td>\n",
       "      <td>2</td>\n",
       "      <td>Montvila, Rev. Juozas</td>\n",
       "      <td>male</td>\n",
       "      <td>27.0</td>\n",
       "      <td>0</td>\n",
       "      <td>0</td>\n",
       "      <td>211536</td>\n",
       "      <td>13.0000</td>\n",
       "      <td>NaN</td>\n",
       "      <td>S</td>\n",
       "    </tr>\n",
       "    <tr>\n",
       "      <th>887</th>\n",
       "      <td>888</td>\n",
       "      <td>1</td>\n",
       "      <td>1</td>\n",
       "      <td>Graham, Miss. Margaret Edith</td>\n",
       "      <td>female</td>\n",
       "      <td>19.0</td>\n",
       "      <td>0</td>\n",
       "      <td>0</td>\n",
       "      <td>112053</td>\n",
       "      <td>30.0000</td>\n",
       "      <td>B42</td>\n",
       "      <td>S</td>\n",
       "    </tr>\n",
       "    <tr>\n",
       "      <th>888</th>\n",
       "      <td>889</td>\n",
       "      <td>0</td>\n",
       "      <td>3</td>\n",
       "      <td>Johnston, Miss. Catherine Helen \"Carrie\"</td>\n",
       "      <td>female</td>\n",
       "      <td>NaN</td>\n",
       "      <td>1</td>\n",
       "      <td>2</td>\n",
       "      <td>W./C. 6607</td>\n",
       "      <td>23.4500</td>\n",
       "      <td>NaN</td>\n",
       "      <td>S</td>\n",
       "    </tr>\n",
       "    <tr>\n",
       "      <th>889</th>\n",
       "      <td>890</td>\n",
       "      <td>1</td>\n",
       "      <td>1</td>\n",
       "      <td>Behr, Mr. Karl Howell</td>\n",
       "      <td>male</td>\n",
       "      <td>26.0</td>\n",
       "      <td>0</td>\n",
       "      <td>0</td>\n",
       "      <td>111369</td>\n",
       "      <td>30.0000</td>\n",
       "      <td>C148</td>\n",
       "      <td>C</td>\n",
       "    </tr>\n",
       "    <tr>\n",
       "      <th>890</th>\n",
       "      <td>891</td>\n",
       "      <td>0</td>\n",
       "      <td>3</td>\n",
       "      <td>Dooley, Mr. Patrick</td>\n",
       "      <td>male</td>\n",
       "      <td>32.0</td>\n",
       "      <td>0</td>\n",
       "      <td>0</td>\n",
       "      <td>370376</td>\n",
       "      <td>7.7500</td>\n",
       "      <td>NaN</td>\n",
       "      <td>Q</td>\n",
       "    </tr>\n",
       "  </tbody>\n",
       "</table>\n",
       "<p>891 rows × 12 columns</p>\n",
       "</div>"
      ],
      "text/plain": [
       "     PassengerId  Survived  Pclass                                               Name     Sex   Age  SibSp  Parch            Ticket  \\\n",
       "0              1         0       3                            Braund, Mr. Owen Harris    male  22.0      1      0         A/5 21171   \n",
       "1              2         1       1  Cumings, Mrs. John Bradley (Florence Briggs Th...  female  38.0      1      0          PC 17599   \n",
       "2              3         1       3                             Heikkinen, Miss. Laina  female  26.0      0      0  STON/O2. 3101282   \n",
       "3              4         1       1       Futrelle, Mrs. Jacques Heath (Lily May Peel)  female  35.0      1      0            113803   \n",
       "4              5         0       3                           Allen, Mr. William Henry    male  35.0      0      0            373450   \n",
       "..           ...       ...     ...                                                ...     ...   ...    ...    ...               ...   \n",
       "886          887         0       2                              Montvila, Rev. Juozas    male  27.0      0      0            211536   \n",
       "887          888         1       1                       Graham, Miss. Margaret Edith  female  19.0      0      0            112053   \n",
       "888          889         0       3           Johnston, Miss. Catherine Helen \"Carrie\"  female   NaN      1      2        W./C. 6607   \n",
       "889          890         1       1                              Behr, Mr. Karl Howell    male  26.0      0      0            111369   \n",
       "890          891         0       3                                Dooley, Mr. Patrick    male  32.0      0      0            370376   \n",
       "\n",
       "        Fare Cabin Embarked  \n",
       "0     7.2500   NaN        S  \n",
       "1    71.2833   C85        C  \n",
       "2     7.9250   NaN        S  \n",
       "3    53.1000  C123        S  \n",
       "4     8.0500   NaN        S  \n",
       "..       ...   ...      ...  \n",
       "886  13.0000   NaN        S  \n",
       "887  30.0000   B42        S  \n",
       "888  23.4500   NaN        S  \n",
       "889  30.0000  C148        C  \n",
       "890   7.7500   NaN        Q  \n",
       "\n",
       "[891 rows x 12 columns]"
      ]
     },
     "execution_count": 4,
     "metadata": {},
     "output_type": "execute_result"
    }
   ],
   "source": [
    "df = pd.read_csv(path/'train.csv')\n",
    "df"
   ]
  },
  {
   "cell_type": "code",
   "execution_count": 5,
   "id": "fa349ace",
   "metadata": {
    "execution": {
     "iopub.execute_input": "2024-03-21T11:39:47.156468Z",
     "iopub.status.busy": "2024-03-21T11:39:47.155619Z",
     "iopub.status.idle": "2024-03-21T11:39:47.169043Z",
     "shell.execute_reply": "2024-03-21T11:39:47.167790Z"
    },
    "papermill": {
     "duration": 0.04646,
     "end_time": "2024-03-21T11:39:47.171977",
     "exception": false,
     "start_time": "2024-03-21T11:39:47.125517",
     "status": "completed"
    },
    "tags": []
   },
   "outputs": [
    {
     "data": {
      "text/plain": [
       "PassengerId      0\n",
       "Survived         0\n",
       "Pclass           0\n",
       "Name             0\n",
       "Sex              0\n",
       "Age            177\n",
       "SibSp            0\n",
       "Parch            0\n",
       "Ticket           0\n",
       "Fare             0\n",
       "Cabin          687\n",
       "Embarked         2\n",
       "dtype: int64"
      ]
     },
     "execution_count": 5,
     "metadata": {},
     "output_type": "execute_result"
    }
   ],
   "source": [
    "df.isna().sum()"
   ]
  },
  {
   "cell_type": "code",
   "execution_count": 6,
   "id": "c468de97",
   "metadata": {
    "execution": {
     "iopub.execute_input": "2024-03-21T11:39:47.231651Z",
     "iopub.status.busy": "2024-03-21T11:39:47.230612Z",
     "iopub.status.idle": "2024-03-21T11:39:47.258301Z",
     "shell.execute_reply": "2024-03-21T11:39:47.256979Z"
    },
    "papermill": {
     "duration": 0.06035,
     "end_time": "2024-03-21T11:39:47.260920",
     "exception": false,
     "start_time": "2024-03-21T11:39:47.200570",
     "status": "completed"
    },
    "tags": []
   },
   "outputs": [
    {
     "data": {
      "text/plain": [
       "PassengerId                      1\n",
       "Survived                       0.0\n",
       "Pclass                         3.0\n",
       "Name           Abbing, Mr. Anthony\n",
       "Sex                           male\n",
       "Age                           24.0\n",
       "SibSp                          0.0\n",
       "Parch                          0.0\n",
       "Ticket                        1601\n",
       "Fare                          8.05\n",
       "Cabin                      B96 B98\n",
       "Embarked                         S\n",
       "Name: 0, dtype: object"
      ]
     },
     "execution_count": 6,
     "metadata": {},
     "output_type": "execute_result"
    }
   ],
   "source": [
    "modes = df.mode().iloc[0]\n",
    "modes"
   ]
  },
  {
   "cell_type": "code",
   "execution_count": 7,
   "id": "73b8d3f4",
   "metadata": {
    "execution": {
     "iopub.execute_input": "2024-03-21T11:39:47.319960Z",
     "iopub.status.busy": "2024-03-21T11:39:47.319432Z",
     "iopub.status.idle": "2024-03-21T11:39:47.351442Z",
     "shell.execute_reply": "2024-03-21T11:39:47.349774Z"
    },
    "papermill": {
     "duration": 0.065008,
     "end_time": "2024-03-21T11:39:47.354367",
     "exception": false,
     "start_time": "2024-03-21T11:39:47.289359",
     "status": "completed"
    },
    "tags": []
   },
   "outputs": [
    {
     "data": {
      "text/html": [
       "<div>\n",
       "<style scoped>\n",
       "    .dataframe tbody tr th:only-of-type {\n",
       "        vertical-align: middle;\n",
       "    }\n",
       "\n",
       "    .dataframe tbody tr th {\n",
       "        vertical-align: top;\n",
       "    }\n",
       "\n",
       "    .dataframe thead th {\n",
       "        text-align: right;\n",
       "    }\n",
       "</style>\n",
       "<table border=\"1\" class=\"dataframe\">\n",
       "  <thead>\n",
       "    <tr style=\"text-align: right;\">\n",
       "      <th></th>\n",
       "      <th>PassengerId</th>\n",
       "      <th>Survived</th>\n",
       "      <th>Pclass</th>\n",
       "      <th>Name</th>\n",
       "      <th>Sex</th>\n",
       "      <th>Age</th>\n",
       "      <th>SibSp</th>\n",
       "      <th>Parch</th>\n",
       "      <th>Ticket</th>\n",
       "      <th>Fare</th>\n",
       "      <th>Cabin</th>\n",
       "      <th>Embarked</th>\n",
       "    </tr>\n",
       "  </thead>\n",
       "  <tbody>\n",
       "    <tr>\n",
       "      <th>0</th>\n",
       "      <td>1</td>\n",
       "      <td>0</td>\n",
       "      <td>3</td>\n",
       "      <td>Braund, Mr. Owen Harris</td>\n",
       "      <td>male</td>\n",
       "      <td>22.0</td>\n",
       "      <td>1</td>\n",
       "      <td>0</td>\n",
       "      <td>A/5 21171</td>\n",
       "      <td>7.2500</td>\n",
       "      <td>B96 B98</td>\n",
       "      <td>S</td>\n",
       "    </tr>\n",
       "    <tr>\n",
       "      <th>1</th>\n",
       "      <td>2</td>\n",
       "      <td>1</td>\n",
       "      <td>1</td>\n",
       "      <td>Cumings, Mrs. John Bradley (Florence Briggs Th...</td>\n",
       "      <td>female</td>\n",
       "      <td>38.0</td>\n",
       "      <td>1</td>\n",
       "      <td>0</td>\n",
       "      <td>PC 17599</td>\n",
       "      <td>71.2833</td>\n",
       "      <td>C85</td>\n",
       "      <td>C</td>\n",
       "    </tr>\n",
       "    <tr>\n",
       "      <th>2</th>\n",
       "      <td>3</td>\n",
       "      <td>1</td>\n",
       "      <td>3</td>\n",
       "      <td>Heikkinen, Miss. Laina</td>\n",
       "      <td>female</td>\n",
       "      <td>26.0</td>\n",
       "      <td>0</td>\n",
       "      <td>0</td>\n",
       "      <td>STON/O2. 3101282</td>\n",
       "      <td>7.9250</td>\n",
       "      <td>B96 B98</td>\n",
       "      <td>S</td>\n",
       "    </tr>\n",
       "    <tr>\n",
       "      <th>3</th>\n",
       "      <td>4</td>\n",
       "      <td>1</td>\n",
       "      <td>1</td>\n",
       "      <td>Futrelle, Mrs. Jacques Heath (Lily May Peel)</td>\n",
       "      <td>female</td>\n",
       "      <td>35.0</td>\n",
       "      <td>1</td>\n",
       "      <td>0</td>\n",
       "      <td>113803</td>\n",
       "      <td>53.1000</td>\n",
       "      <td>C123</td>\n",
       "      <td>S</td>\n",
       "    </tr>\n",
       "    <tr>\n",
       "      <th>4</th>\n",
       "      <td>5</td>\n",
       "      <td>0</td>\n",
       "      <td>3</td>\n",
       "      <td>Allen, Mr. William Henry</td>\n",
       "      <td>male</td>\n",
       "      <td>35.0</td>\n",
       "      <td>0</td>\n",
       "      <td>0</td>\n",
       "      <td>373450</td>\n",
       "      <td>8.0500</td>\n",
       "      <td>B96 B98</td>\n",
       "      <td>S</td>\n",
       "    </tr>\n",
       "    <tr>\n",
       "      <th>...</th>\n",
       "      <td>...</td>\n",
       "      <td>...</td>\n",
       "      <td>...</td>\n",
       "      <td>...</td>\n",
       "      <td>...</td>\n",
       "      <td>...</td>\n",
       "      <td>...</td>\n",
       "      <td>...</td>\n",
       "      <td>...</td>\n",
       "      <td>...</td>\n",
       "      <td>...</td>\n",
       "      <td>...</td>\n",
       "    </tr>\n",
       "    <tr>\n",
       "      <th>886</th>\n",
       "      <td>887</td>\n",
       "      <td>0</td>\n",
       "      <td>2</td>\n",
       "      <td>Montvila, Rev. Juozas</td>\n",
       "      <td>male</td>\n",
       "      <td>27.0</td>\n",
       "      <td>0</td>\n",
       "      <td>0</td>\n",
       "      <td>211536</td>\n",
       "      <td>13.0000</td>\n",
       "      <td>B96 B98</td>\n",
       "      <td>S</td>\n",
       "    </tr>\n",
       "    <tr>\n",
       "      <th>887</th>\n",
       "      <td>888</td>\n",
       "      <td>1</td>\n",
       "      <td>1</td>\n",
       "      <td>Graham, Miss. Margaret Edith</td>\n",
       "      <td>female</td>\n",
       "      <td>19.0</td>\n",
       "      <td>0</td>\n",
       "      <td>0</td>\n",
       "      <td>112053</td>\n",
       "      <td>30.0000</td>\n",
       "      <td>B42</td>\n",
       "      <td>S</td>\n",
       "    </tr>\n",
       "    <tr>\n",
       "      <th>888</th>\n",
       "      <td>889</td>\n",
       "      <td>0</td>\n",
       "      <td>3</td>\n",
       "      <td>Johnston, Miss. Catherine Helen \"Carrie\"</td>\n",
       "      <td>female</td>\n",
       "      <td>24.0</td>\n",
       "      <td>1</td>\n",
       "      <td>2</td>\n",
       "      <td>W./C. 6607</td>\n",
       "      <td>23.4500</td>\n",
       "      <td>B96 B98</td>\n",
       "      <td>S</td>\n",
       "    </tr>\n",
       "    <tr>\n",
       "      <th>889</th>\n",
       "      <td>890</td>\n",
       "      <td>1</td>\n",
       "      <td>1</td>\n",
       "      <td>Behr, Mr. Karl Howell</td>\n",
       "      <td>male</td>\n",
       "      <td>26.0</td>\n",
       "      <td>0</td>\n",
       "      <td>0</td>\n",
       "      <td>111369</td>\n",
       "      <td>30.0000</td>\n",
       "      <td>C148</td>\n",
       "      <td>C</td>\n",
       "    </tr>\n",
       "    <tr>\n",
       "      <th>890</th>\n",
       "      <td>891</td>\n",
       "      <td>0</td>\n",
       "      <td>3</td>\n",
       "      <td>Dooley, Mr. Patrick</td>\n",
       "      <td>male</td>\n",
       "      <td>32.0</td>\n",
       "      <td>0</td>\n",
       "      <td>0</td>\n",
       "      <td>370376</td>\n",
       "      <td>7.7500</td>\n",
       "      <td>B96 B98</td>\n",
       "      <td>Q</td>\n",
       "    </tr>\n",
       "  </tbody>\n",
       "</table>\n",
       "<p>891 rows × 12 columns</p>\n",
       "</div>"
      ],
      "text/plain": [
       "     PassengerId  Survived  Pclass                                               Name     Sex   Age  SibSp  Parch            Ticket  \\\n",
       "0              1         0       3                            Braund, Mr. Owen Harris    male  22.0      1      0         A/5 21171   \n",
       "1              2         1       1  Cumings, Mrs. John Bradley (Florence Briggs Th...  female  38.0      1      0          PC 17599   \n",
       "2              3         1       3                             Heikkinen, Miss. Laina  female  26.0      0      0  STON/O2. 3101282   \n",
       "3              4         1       1       Futrelle, Mrs. Jacques Heath (Lily May Peel)  female  35.0      1      0            113803   \n",
       "4              5         0       3                           Allen, Mr. William Henry    male  35.0      0      0            373450   \n",
       "..           ...       ...     ...                                                ...     ...   ...    ...    ...               ...   \n",
       "886          887         0       2                              Montvila, Rev. Juozas    male  27.0      0      0            211536   \n",
       "887          888         1       1                       Graham, Miss. Margaret Edith  female  19.0      0      0            112053   \n",
       "888          889         0       3           Johnston, Miss. Catherine Helen \"Carrie\"  female  24.0      1      2        W./C. 6607   \n",
       "889          890         1       1                              Behr, Mr. Karl Howell    male  26.0      0      0            111369   \n",
       "890          891         0       3                                Dooley, Mr. Patrick    male  32.0      0      0            370376   \n",
       "\n",
       "        Fare    Cabin Embarked  \n",
       "0     7.2500  B96 B98        S  \n",
       "1    71.2833      C85        C  \n",
       "2     7.9250  B96 B98        S  \n",
       "3    53.1000     C123        S  \n",
       "4     8.0500  B96 B98        S  \n",
       "..       ...      ...      ...  \n",
       "886  13.0000  B96 B98        S  \n",
       "887  30.0000      B42        S  \n",
       "888  23.4500  B96 B98        S  \n",
       "889  30.0000     C148        C  \n",
       "890   7.7500  B96 B98        Q  \n",
       "\n",
       "[891 rows x 12 columns]"
      ]
     },
     "execution_count": 7,
     "metadata": {},
     "output_type": "execute_result"
    }
   ],
   "source": [
    "df.fillna(modes, inplace = True)\n",
    "df"
   ]
  },
  {
   "cell_type": "code",
   "execution_count": 8,
   "id": "37c22d0e",
   "metadata": {
    "execution": {
     "iopub.execute_input": "2024-03-21T11:39:47.414847Z",
     "iopub.status.busy": "2024-03-21T11:39:47.414400Z",
     "iopub.status.idle": "2024-03-21T11:39:47.425510Z",
     "shell.execute_reply": "2024-03-21T11:39:47.424268Z"
    },
    "papermill": {
     "duration": 0.044593,
     "end_time": "2024-03-21T11:39:47.427928",
     "exception": false,
     "start_time": "2024-03-21T11:39:47.383335",
     "status": "completed"
    },
    "tags": []
   },
   "outputs": [
    {
     "data": {
      "text/plain": [
       "PassengerId    0\n",
       "Survived       0\n",
       "Pclass         0\n",
       "Name           0\n",
       "Sex            0\n",
       "Age            0\n",
       "SibSp          0\n",
       "Parch          0\n",
       "Ticket         0\n",
       "Fare           0\n",
       "Cabin          0\n",
       "Embarked       0\n",
       "dtype: int64"
      ]
     },
     "execution_count": 8,
     "metadata": {},
     "output_type": "execute_result"
    }
   ],
   "source": [
    "df.isna().sum()"
   ]
  },
  {
   "cell_type": "code",
   "execution_count": 9,
   "id": "e68a5cbd",
   "metadata": {
    "execution": {
     "iopub.execute_input": "2024-03-21T11:39:47.560240Z",
     "iopub.status.busy": "2024-03-21T11:39:47.559745Z",
     "iopub.status.idle": "2024-03-21T11:39:47.596905Z",
     "shell.execute_reply": "2024-03-21T11:39:47.595402Z"
    },
    "papermill": {
     "duration": 0.142523,
     "end_time": "2024-03-21T11:39:47.599648",
     "exception": false,
     "start_time": "2024-03-21T11:39:47.457125",
     "status": "completed"
    },
    "tags": []
   },
   "outputs": [
    {
     "data": {
      "text/html": [
       "<div>\n",
       "<style scoped>\n",
       "    .dataframe tbody tr th:only-of-type {\n",
       "        vertical-align: middle;\n",
       "    }\n",
       "\n",
       "    .dataframe tbody tr th {\n",
       "        vertical-align: top;\n",
       "    }\n",
       "\n",
       "    .dataframe thead th {\n",
       "        text-align: right;\n",
       "    }\n",
       "</style>\n",
       "<table border=\"1\" class=\"dataframe\">\n",
       "  <thead>\n",
       "    <tr style=\"text-align: right;\">\n",
       "      <th></th>\n",
       "      <th>PassengerId</th>\n",
       "      <th>Survived</th>\n",
       "      <th>Pclass</th>\n",
       "      <th>Age</th>\n",
       "      <th>SibSp</th>\n",
       "      <th>Parch</th>\n",
       "      <th>Fare</th>\n",
       "    </tr>\n",
       "  </thead>\n",
       "  <tbody>\n",
       "    <tr>\n",
       "      <th>count</th>\n",
       "      <td>891.000000</td>\n",
       "      <td>891.000000</td>\n",
       "      <td>891.000000</td>\n",
       "      <td>891.000000</td>\n",
       "      <td>891.000000</td>\n",
       "      <td>891.000000</td>\n",
       "      <td>891.000000</td>\n",
       "    </tr>\n",
       "    <tr>\n",
       "      <th>mean</th>\n",
       "      <td>446.000000</td>\n",
       "      <td>0.383838</td>\n",
       "      <td>2.308642</td>\n",
       "      <td>28.566970</td>\n",
       "      <td>0.523008</td>\n",
       "      <td>0.381594</td>\n",
       "      <td>32.204208</td>\n",
       "    </tr>\n",
       "    <tr>\n",
       "      <th>std</th>\n",
       "      <td>257.353842</td>\n",
       "      <td>0.486592</td>\n",
       "      <td>0.836071</td>\n",
       "      <td>13.199572</td>\n",
       "      <td>1.102743</td>\n",
       "      <td>0.806057</td>\n",
       "      <td>49.693429</td>\n",
       "    </tr>\n",
       "    <tr>\n",
       "      <th>min</th>\n",
       "      <td>1.000000</td>\n",
       "      <td>0.000000</td>\n",
       "      <td>1.000000</td>\n",
       "      <td>0.420000</td>\n",
       "      <td>0.000000</td>\n",
       "      <td>0.000000</td>\n",
       "      <td>0.000000</td>\n",
       "    </tr>\n",
       "    <tr>\n",
       "      <th>25%</th>\n",
       "      <td>223.500000</td>\n",
       "      <td>0.000000</td>\n",
       "      <td>2.000000</td>\n",
       "      <td>22.000000</td>\n",
       "      <td>0.000000</td>\n",
       "      <td>0.000000</td>\n",
       "      <td>7.910400</td>\n",
       "    </tr>\n",
       "    <tr>\n",
       "      <th>50%</th>\n",
       "      <td>446.000000</td>\n",
       "      <td>0.000000</td>\n",
       "      <td>3.000000</td>\n",
       "      <td>24.000000</td>\n",
       "      <td>0.000000</td>\n",
       "      <td>0.000000</td>\n",
       "      <td>14.454200</td>\n",
       "    </tr>\n",
       "    <tr>\n",
       "      <th>75%</th>\n",
       "      <td>668.500000</td>\n",
       "      <td>1.000000</td>\n",
       "      <td>3.000000</td>\n",
       "      <td>35.000000</td>\n",
       "      <td>1.000000</td>\n",
       "      <td>0.000000</td>\n",
       "      <td>31.000000</td>\n",
       "    </tr>\n",
       "    <tr>\n",
       "      <th>max</th>\n",
       "      <td>891.000000</td>\n",
       "      <td>1.000000</td>\n",
       "      <td>3.000000</td>\n",
       "      <td>80.000000</td>\n",
       "      <td>8.000000</td>\n",
       "      <td>6.000000</td>\n",
       "      <td>512.329200</td>\n",
       "    </tr>\n",
       "  </tbody>\n",
       "</table>\n",
       "</div>"
      ],
      "text/plain": [
       "       PassengerId    Survived      Pclass         Age       SibSp       Parch        Fare\n",
       "count   891.000000  891.000000  891.000000  891.000000  891.000000  891.000000  891.000000\n",
       "mean    446.000000    0.383838    2.308642   28.566970    0.523008    0.381594   32.204208\n",
       "std     257.353842    0.486592    0.836071   13.199572    1.102743    0.806057   49.693429\n",
       "min       1.000000    0.000000    1.000000    0.420000    0.000000    0.000000    0.000000\n",
       "25%     223.500000    0.000000    2.000000   22.000000    0.000000    0.000000    7.910400\n",
       "50%     446.000000    0.000000    3.000000   24.000000    0.000000    0.000000   14.454200\n",
       "75%     668.500000    1.000000    3.000000   35.000000    1.000000    0.000000   31.000000\n",
       "max     891.000000    1.000000    3.000000   80.000000    8.000000    6.000000  512.329200"
      ]
     },
     "execution_count": 9,
     "metadata": {},
     "output_type": "execute_result"
    }
   ],
   "source": [
    "df.describe(include = np.number)"
   ]
  },
  {
   "cell_type": "markdown",
   "id": "7068ae7e",
   "metadata": {
    "papermill": {
     "duration": 0.029433,
     "end_time": "2024-03-21T11:39:47.659312",
     "exception": false,
     "start_time": "2024-03-21T11:39:47.629879",
     "status": "completed"
    },
    "tags": []
   },
   "source": [
    "Handling uneven Fare distribution"
   ]
  },
  {
   "cell_type": "code",
   "execution_count": 10,
   "id": "9b04717e",
   "metadata": {
    "execution": {
     "iopub.execute_input": "2024-03-21T11:39:47.721387Z",
     "iopub.status.busy": "2024-03-21T11:39:47.720928Z",
     "iopub.status.idle": "2024-03-21T11:39:48.094936Z",
     "shell.execute_reply": "2024-03-21T11:39:48.093266Z"
    },
    "papermill": {
     "duration": 0.40839,
     "end_time": "2024-03-21T11:39:48.097569",
     "exception": false,
     "start_time": "2024-03-21T11:39:47.689179",
     "status": "completed"
    },
    "tags": []
   },
   "outputs": [
    {
     "data": {
      "text/plain": [
       "<Axes: >"
      ]
     },
     "execution_count": 10,
     "metadata": {},
     "output_type": "execute_result"
    },
    {
     "data": {
      "image/png": "[encoded data removed]",
      "text/plain": [
       "<Figure size 640x480 with 1 Axes>"
      ]
     },
     "metadata": {},
     "output_type": "display_data"
    }
   ],
   "source": [
    "df.Fare.hist()"
   ]
  },
  {
   "cell_type": "code",
   "execution_count": 11,
   "id": "bf4f85e4",
   "metadata": {
    "execution": {
     "iopub.execute_input": "2024-03-21T11:39:48.160898Z",
     "iopub.status.busy": "2024-03-21T11:39:48.160420Z",
     "iopub.status.idle": "2024-03-21T11:39:48.476219Z",
     "shell.execute_reply": "2024-03-21T11:39:48.474683Z"
    },
    "papermill": {
     "duration": 0.350867,
     "end_time": "2024-03-21T11:39:48.478921",
     "exception": false,
     "start_time": "2024-03-21T11:39:48.128054",
     "status": "completed"
    },
    "tags": []
   },
   "outputs": [
    {
     "data": {
      "text/plain": [
       "<Axes: >"
      ]
     },
     "execution_count": 11,
     "metadata": {},
     "output_type": "execute_result"
    },
    {
     "data": {
      "image/png": "[encoded data removed]",
      "text/plain": [
       "<Figure size 640x480 with 1 Axes>"
      ]
     },
     "metadata": {},
     "output_type": "display_data"
    }
   ],
   "source": [
    "df['LogFare'] = np.log(df['Fare']+1)\n",
    "df['LogFare'].hist()"
   ]
  },
  {
   "cell_type": "code",
   "execution_count": 12,
   "id": "197ce8c6",
   "metadata": {
    "execution": {
     "iopub.execute_input": "2024-03-21T11:39:48.542238Z",
     "iopub.status.busy": "2024-03-21T11:39:48.541819Z",
     "iopub.status.idle": "2024-03-21T11:39:48.552478Z",
     "shell.execute_reply": "2024-03-21T11:39:48.551138Z"
    },
    "papermill": {
     "duration": 0.045053,
     "end_time": "2024-03-21T11:39:48.554847",
     "exception": false,
     "start_time": "2024-03-21T11:39:48.509794",
     "status": "completed"
    },
    "tags": []
   },
   "outputs": [
    {
     "data": {
      "text/plain": [
       "[1, 2, 3]"
      ]
     },
     "execution_count": 12,
     "metadata": {},
     "output_type": "execute_result"
    }
   ],
   "source": [
    "pclasses = sorted(df.Pclass.unique())\n",
    "pclasses"
   ]
  },
  {
   "cell_type": "code",
   "execution_count": 13,
   "id": "a76dc070",
   "metadata": {
    "execution": {
     "iopub.execute_input": "2024-03-21T11:39:48.619002Z",
     "iopub.status.busy": "2024-03-21T11:39:48.618110Z",
     "iopub.status.idle": "2024-03-21T11:39:48.645382Z",
     "shell.execute_reply": "2024-03-21T11:39:48.644132Z"
    },
    "papermill": {
     "duration": 0.062253,
     "end_time": "2024-03-21T11:39:48.648121",
     "exception": false,
     "start_time": "2024-03-21T11:39:48.585868",
     "status": "completed"
    },
    "tags": []
   },
   "outputs": [
    {
     "data": {
      "text/html": [
       "<div>\n",
       "<style scoped>\n",
       "    .dataframe tbody tr th:only-of-type {\n",
       "        vertical-align: middle;\n",
       "    }\n",
       "\n",
       "    .dataframe tbody tr th {\n",
       "        vertical-align: top;\n",
       "    }\n",
       "\n",
       "    .dataframe thead th {\n",
       "        text-align: right;\n",
       "    }\n",
       "</style>\n",
       "<table border=\"1\" class=\"dataframe\">\n",
       "  <thead>\n",
       "    <tr style=\"text-align: right;\">\n",
       "      <th></th>\n",
       "      <th>Name</th>\n",
       "      <th>Sex</th>\n",
       "      <th>Ticket</th>\n",
       "      <th>Cabin</th>\n",
       "      <th>Embarked</th>\n",
       "    </tr>\n",
       "  </thead>\n",
       "  <tbody>\n",
       "    <tr>\n",
       "      <th>count</th>\n",
       "      <td>891</td>\n",
       "      <td>891</td>\n",
       "      <td>891</td>\n",
       "      <td>891</td>\n",
       "      <td>891</td>\n",
       "    </tr>\n",
       "    <tr>\n",
       "      <th>unique</th>\n",
       "      <td>891</td>\n",
       "      <td>2</td>\n",
       "      <td>681</td>\n",
       "      <td>147</td>\n",
       "      <td>3</td>\n",
       "    </tr>\n",
       "    <tr>\n",
       "      <th>top</th>\n",
       "      <td>Braund, Mr. Owen Harris</td>\n",
       "      <td>male</td>\n",
       "      <td>347082</td>\n",
       "      <td>B96 B98</td>\n",
       "      <td>S</td>\n",
       "    </tr>\n",
       "    <tr>\n",
       "      <th>freq</th>\n",
       "      <td>1</td>\n",
       "      <td>577</td>\n",
       "      <td>7</td>\n",
       "      <td>691</td>\n",
       "      <td>646</td>\n",
       "    </tr>\n",
       "  </tbody>\n",
       "</table>\n",
       "</div>"
      ],
      "text/plain": [
       "                           Name   Sex  Ticket    Cabin Embarked\n",
       "count                       891   891     891      891      891\n",
       "unique                      891     2     681      147        3\n",
       "top     Braund, Mr. Owen Harris  male  347082  B96 B98        S\n",
       "freq                          1   577       7      691      646"
      ]
     },
     "execution_count": 13,
     "metadata": {},
     "output_type": "execute_result"
    }
   ],
   "source": [
    "df.describe(include=[object])"
   ]
  },
  {
   "cell_type": "markdown",
   "id": "dd075782",
   "metadata": {
    "papermill": {
     "duration": 0.031287,
     "end_time": "2024-03-21T11:39:48.710888",
     "exception": false,
     "start_time": "2024-03-21T11:39:48.679601",
     "status": "completed"
    },
    "tags": []
   },
   "source": [
    "Handling the category column data and converting it to dummy ariables"
   ]
  },
  {
   "cell_type": "code",
   "execution_count": 14,
   "id": "54f5908f",
   "metadata": {
    "execution": {
     "iopub.execute_input": "2024-03-21T11:39:48.777991Z",
     "iopub.status.busy": "2024-03-21T11:39:48.777479Z",
     "iopub.status.idle": "2024-03-21T11:39:48.795676Z",
     "shell.execute_reply": "2024-03-21T11:39:48.794076Z"
    },
    "papermill": {
     "duration": 0.05495,
     "end_time": "2024-03-21T11:39:48.798957",
     "exception": false,
     "start_time": "2024-03-21T11:39:48.744007",
     "status": "completed"
    },
    "tags": []
   },
   "outputs": [],
   "source": [
    "df = pd.get_dummies(df, columns=['Sex', 'Pclass', 'Embarked'], dtype =float)"
   ]
  },
  {
   "cell_type": "code",
   "execution_count": 15,
   "id": "ac74be15",
   "metadata": {
    "execution": {
     "iopub.execute_input": "2024-03-21T11:39:48.865002Z",
     "iopub.status.busy": "2024-03-21T11:39:48.864529Z",
     "iopub.status.idle": "2024-03-21T11:39:48.872322Z",
     "shell.execute_reply": "2024-03-21T11:39:48.871142Z"
    },
    "papermill": {
     "duration": 0.044666,
     "end_time": "2024-03-21T11:39:48.875126",
     "exception": false,
     "start_time": "2024-03-21T11:39:48.830460",
     "status": "completed"
    },
    "tags": []
   },
   "outputs": [
    {
     "data": {
      "text/plain": [
       "Index(['PassengerId', 'Survived', 'Name', 'Age', 'SibSp', 'Parch', 'Ticket', 'Fare', 'Cabin', 'LogFare', 'Sex_female', 'Sex_male',\n",
       "       'Pclass_1', 'Pclass_2', 'Pclass_3', 'Embarked_C', 'Embarked_Q', 'Embarked_S'],\n",
       "      dtype='object')"
      ]
     },
     "execution_count": 15,
     "metadata": {},
     "output_type": "execute_result"
    }
   ],
   "source": [
    "df.columns"
   ]
  },
  {
   "cell_type": "code",
   "execution_count": 16,
   "id": "3683196d",
   "metadata": {
    "execution": {
     "iopub.execute_input": "2024-03-21T11:39:48.941823Z",
     "iopub.status.busy": "2024-03-21T11:39:48.940876Z",
     "iopub.status.idle": "2024-03-21T11:39:48.962650Z",
     "shell.execute_reply": "2024-03-21T11:39:48.961709Z"
    },
    "papermill": {
     "duration": 0.057782,
     "end_time": "2024-03-21T11:39:48.964947",
     "exception": false,
     "start_time": "2024-03-21T11:39:48.907165",
     "status": "completed"
    },
    "tags": []
   },
   "outputs": [
    {
     "data": {
      "text/html": [
       "<div>\n",
       "<style scoped>\n",
       "    .dataframe tbody tr th:only-of-type {\n",
       "        vertical-align: middle;\n",
       "    }\n",
       "\n",
       "    .dataframe tbody tr th {\n",
       "        vertical-align: top;\n",
       "    }\n",
       "\n",
       "    .dataframe thead th {\n",
       "        text-align: right;\n",
       "    }\n",
       "</style>\n",
       "<table border=\"1\" class=\"dataframe\">\n",
       "  <thead>\n",
       "    <tr style=\"text-align: right;\">\n",
       "      <th></th>\n",
       "      <th>Sex_male</th>\n",
       "      <th>Sex_female</th>\n",
       "      <th>Pclass_1</th>\n",
       "      <th>Pclass_2</th>\n",
       "      <th>Pclass_3</th>\n",
       "      <th>Embarked_C</th>\n",
       "      <th>Embarked_Q</th>\n",
       "      <th>Embarked_S</th>\n",
       "    </tr>\n",
       "  </thead>\n",
       "  <tbody>\n",
       "    <tr>\n",
       "      <th>0</th>\n",
       "      <td>1.0</td>\n",
       "      <td>0.0</td>\n",
       "      <td>0.0</td>\n",
       "      <td>0.0</td>\n",
       "      <td>1.0</td>\n",
       "      <td>0.0</td>\n",
       "      <td>0.0</td>\n",
       "      <td>1.0</td>\n",
       "    </tr>\n",
       "    <tr>\n",
       "      <th>1</th>\n",
       "      <td>0.0</td>\n",
       "      <td>1.0</td>\n",
       "      <td>1.0</td>\n",
       "      <td>0.0</td>\n",
       "      <td>0.0</td>\n",
       "      <td>1.0</td>\n",
       "      <td>0.0</td>\n",
       "      <td>0.0</td>\n",
       "    </tr>\n",
       "    <tr>\n",
       "      <th>2</th>\n",
       "      <td>0.0</td>\n",
       "      <td>1.0</td>\n",
       "      <td>0.0</td>\n",
       "      <td>0.0</td>\n",
       "      <td>1.0</td>\n",
       "      <td>0.0</td>\n",
       "      <td>0.0</td>\n",
       "      <td>1.0</td>\n",
       "    </tr>\n",
       "    <tr>\n",
       "      <th>3</th>\n",
       "      <td>0.0</td>\n",
       "      <td>1.0</td>\n",
       "      <td>1.0</td>\n",
       "      <td>0.0</td>\n",
       "      <td>0.0</td>\n",
       "      <td>0.0</td>\n",
       "      <td>0.0</td>\n",
       "      <td>1.0</td>\n",
       "    </tr>\n",
       "    <tr>\n",
       "      <th>4</th>\n",
       "      <td>1.0</td>\n",
       "      <td>0.0</td>\n",
       "      <td>0.0</td>\n",
       "      <td>0.0</td>\n",
       "      <td>1.0</td>\n",
       "      <td>0.0</td>\n",
       "      <td>0.0</td>\n",
       "      <td>1.0</td>\n",
       "    </tr>\n",
       "  </tbody>\n",
       "</table>\n",
       "</div>"
      ],
      "text/plain": [
       "   Sex_male  Sex_female  Pclass_1  Pclass_2  Pclass_3  Embarked_C  Embarked_Q  Embarked_S\n",
       "0       1.0         0.0       0.0       0.0       1.0         0.0         0.0         1.0\n",
       "1       0.0         1.0       1.0       0.0       0.0         1.0         0.0         0.0\n",
       "2       0.0         1.0       0.0       0.0       1.0         0.0         0.0         1.0\n",
       "3       0.0         1.0       1.0       0.0       0.0         0.0         0.0         1.0\n",
       "4       1.0         0.0       0.0       0.0       1.0         0.0         0.0         1.0"
      ]
     },
     "execution_count": 16,
     "metadata": {},
     "output_type": "execute_result"
    }
   ],
   "source": [
    "added_cols = ['Sex_male', 'Sex_female', 'Pclass_1', 'Pclass_2', 'Pclass_3', 'Embarked_C', 'Embarked_Q', 'Embarked_S']\n",
    "df[added_cols].head()"
   ]
  },
  {
   "cell_type": "code",
   "execution_count": 17,
   "id": "d03cae97",
   "metadata": {
    "execution": {
     "iopub.execute_input": "2024-03-21T11:39:49.030946Z",
     "iopub.status.busy": "2024-03-21T11:39:49.030465Z",
     "iopub.status.idle": "2024-03-21T11:39:49.098454Z",
     "shell.execute_reply": "2024-03-21T11:39:49.097606Z"
    },
    "papermill": {
     "duration": 0.103985,
     "end_time": "2024-03-21T11:39:49.100820",
     "exception": false,
     "start_time": "2024-03-21T11:39:48.996835",
     "status": "completed"
    },
    "tags": []
   },
   "outputs": [
    {
     "data": {
      "text/plain": [
       "tensor([0, 1, 1, 1, 0, 0, 0, 0, 1, 1])"
      ]
     },
     "execution_count": 17,
     "metadata": {},
     "output_type": "execute_result"
    }
   ],
   "source": [
    "# Getting labels\n",
    "from torch import tensor\n",
    "t_dep = tensor(df.Survived)\n",
    "t_dep[:10]"
   ]
  },
  {
   "cell_type": "code",
   "execution_count": 18,
   "id": "6b5db30b",
   "metadata": {
    "execution": {
     "iopub.execute_input": "2024-03-21T11:39:49.169477Z",
     "iopub.status.busy": "2024-03-21T11:39:49.168508Z",
     "iopub.status.idle": "2024-03-21T11:39:49.245673Z",
     "shell.execute_reply": "2024-03-21T11:39:49.244449Z"
    },
    "papermill": {
     "duration": 0.115427,
     "end_time": "2024-03-21T11:39:49.248416",
     "exception": false,
     "start_time": "2024-03-21T11:39:49.132989",
     "status": "completed"
    },
    "tags": []
   },
   "outputs": [
    {
     "data": {
      "text/plain": [
       "tensor([[22.0000,  1.0000,  0.0000,  2.1102,  1.0000,  0.0000,  0.0000,  0.0000,  1.0000,  0.0000,  0.0000,  1.0000],\n",
       "        [38.0000,  1.0000,  0.0000,  4.2806,  0.0000,  1.0000,  1.0000,  0.0000,  0.0000,  1.0000,  0.0000,  0.0000],\n",
       "        [26.0000,  0.0000,  0.0000,  2.1889,  0.0000,  1.0000,  0.0000,  0.0000,  1.0000,  0.0000,  0.0000,  1.0000],\n",
       "        [35.0000,  1.0000,  0.0000,  3.9908,  0.0000,  1.0000,  1.0000,  0.0000,  0.0000,  0.0000,  0.0000,  1.0000],\n",
       "        [35.0000,  0.0000,  0.0000,  2.2028,  1.0000,  0.0000,  0.0000,  0.0000,  1.0000,  0.0000,  0.0000,  1.0000],\n",
       "        [24.0000,  0.0000,  0.0000,  2.2469,  1.0000,  0.0000,  0.0000,  0.0000,  1.0000,  0.0000,  1.0000,  0.0000],\n",
       "        [54.0000,  0.0000,  0.0000,  3.9677,  1.0000,  0.0000,  1.0000,  0.0000,  0.0000,  0.0000,  0.0000,  1.0000],\n",
       "        ...,\n",
       "        [25.0000,  0.0000,  0.0000,  2.0857,  1.0000,  0.0000,  0.0000,  0.0000,  1.0000,  0.0000,  0.0000,  1.0000],\n",
       "        [39.0000,  0.0000,  5.0000,  3.4054,  0.0000,  1.0000,  0.0000,  0.0000,  1.0000,  0.0000,  1.0000,  0.0000],\n",
       "        [27.0000,  0.0000,  0.0000,  2.6391,  1.0000,  0.0000,  0.0000,  1.0000,  0.0000,  0.0000,  0.0000,  1.0000],\n",
       "        [19.0000,  0.0000,  0.0000,  3.4340,  0.0000,  1.0000,  1.0000,  0.0000,  0.0000,  0.0000,  0.0000,  1.0000],\n",
       "        [24.0000,  1.0000,  2.0000,  3.1966,  0.0000,  1.0000,  0.0000,  0.0000,  1.0000,  0.0000,  0.0000,  1.0000],\n",
       "        [26.0000,  0.0000,  0.0000,  3.4340,  1.0000,  0.0000,  1.0000,  0.0000,  0.0000,  1.0000,  0.0000,  0.0000],\n",
       "        [32.0000,  0.0000,  0.0000,  2.1691,  1.0000,  0.0000,  0.0000,  0.0000,  1.0000,  0.0000,  1.0000,  0.0000]])"
      ]
     },
     "execution_count": 18,
     "metadata": {},
     "output_type": "execute_result"
    }
   ],
   "source": [
    "# Getting Independent Variables\n",
    "indep_cols = ['Age', 'SibSp', 'Parch', 'LogFare'] + added_cols\n",
    "\n",
    "t_indep = tensor(df[indep_cols].values, dtype = torch.float)\n",
    "t_indep"
   ]
  },
  {
   "cell_type": "code",
   "execution_count": 19,
   "id": "40ce7865",
   "metadata": {
    "execution": {
     "iopub.execute_input": "2024-03-21T11:39:49.316046Z",
     "iopub.status.busy": "2024-03-21T11:39:49.315230Z",
     "iopub.status.idle": "2024-03-21T11:39:49.323032Z",
     "shell.execute_reply": "2024-03-21T11:39:49.321818Z"
    },
    "papermill": {
     "duration": 0.044835,
     "end_time": "2024-03-21T11:39:49.325388",
     "exception": false,
     "start_time": "2024-03-21T11:39:49.280553",
     "status": "completed"
    },
    "tags": []
   },
   "outputs": [
    {
     "data": {
      "text/plain": [
       "(torch.Size([891, 12]), 2)"
      ]
     },
     "execution_count": 19,
     "metadata": {},
     "output_type": "execute_result"
    }
   ],
   "source": [
    "t_indep.shape, len(t_indep.shape)"
   ]
  },
  {
   "cell_type": "markdown",
   "id": "c61826c0",
   "metadata": {
    "papermill": {
     "duration": 0.032659,
     "end_time": "2024-03-21T11:39:49.390631",
     "exception": false,
     "start_time": "2024-03-21T11:39:49.357972",
     "status": "completed"
    },
    "tags": []
   },
   "source": [
    "# Setting up a linear Model\n"
   ]
  },
  {
   "cell_type": "code",
   "execution_count": 20,
   "id": "008e753e",
   "metadata": {
    "execution": {
     "iopub.execute_input": "2024-03-21T11:39:49.459564Z",
     "iopub.status.busy": "2024-03-21T11:39:49.458792Z",
     "iopub.status.idle": "2024-03-21T11:39:49.478314Z",
     "shell.execute_reply": "2024-03-21T11:39:49.477085Z"
    },
    "papermill": {
     "duration": 0.056988,
     "end_time": "2024-03-21T11:39:49.480842",
     "exception": false,
     "start_time": "2024-03-21T11:39:49.423854",
     "status": "completed"
    },
    "tags": []
   },
   "outputs": [
    {
     "data": {
      "text/plain": [
       "tensor([ 0.3823,  0.4150, -0.1171,  0.4593, -0.1096,  0.1009, -0.2434,  0.2936,  0.4408, -0.3668,  0.4346,  0.0936])"
      ]
     },
     "execution_count": 20,
     "metadata": {},
     "output_type": "execute_result"
    }
   ],
   "source": [
    "torch.manual_seed(42)\n",
    "# Creating random parameter (coefficient) for each of the columns ie, 12\n",
    "\n",
    "n_coeff = t_indep.shape[1]\n",
    "coeffs = torch.rand(n_coeff) -  0.5\n",
    "coeffs"
   ]
  },
  {
   "cell_type": "code",
   "execution_count": 21,
   "id": "468a7425",
   "metadata": {
    "execution": {
     "iopub.execute_input": "2024-03-21T11:39:49.549954Z",
     "iopub.status.busy": "2024-03-21T11:39:49.549174Z",
     "iopub.status.idle": "2024-03-21T11:39:49.558965Z",
     "shell.execute_reply": "2024-03-21T11:39:49.557815Z"
    },
    "papermill": {
     "duration": 0.04694,
     "end_time": "2024-03-21T11:39:49.561292",
     "exception": false,
     "start_time": "2024-03-21T11:39:49.514352",
     "status": "completed"
    },
    "tags": []
   },
   "outputs": [
    {
     "data": {
      "text/plain": [
       "tensor([[ 8.4099,  0.4150, -0.0000,  0.9692, -0.1096,  0.0000, -0.0000,  0.0000,  0.4408, -0.0000,  0.0000,  0.0936],\n",
       "        [14.5262,  0.4150, -0.0000,  1.9661, -0.0000,  0.1009, -0.2434,  0.0000,  0.0000, -0.3668,  0.0000,  0.0000],\n",
       "        [ 9.9390,  0.0000, -0.0000,  1.0054, -0.0000,  0.1009, -0.0000,  0.0000,  0.4408, -0.0000,  0.0000,  0.0936],\n",
       "        [13.3794,  0.4150, -0.0000,  1.8330, -0.0000,  0.1009, -0.2434,  0.0000,  0.0000, -0.0000,  0.0000,  0.0936],\n",
       "        [13.3794,  0.0000, -0.0000,  1.0117, -0.1096,  0.0000, -0.0000,  0.0000,  0.4408, -0.0000,  0.0000,  0.0936],\n",
       "        [ 9.1745,  0.0000, -0.0000,  1.0320, -0.1096,  0.0000, -0.0000,  0.0000,  0.4408, -0.0000,  0.4346,  0.0000],\n",
       "        [20.6425,  0.0000, -0.0000,  1.8224, -0.1096,  0.0000, -0.2434,  0.0000,  0.0000, -0.0000,  0.0000,  0.0936],\n",
       "        ...,\n",
       "        [ 9.5567,  0.0000, -0.0000,  0.9580, -0.1096,  0.0000, -0.0000,  0.0000,  0.4408, -0.0000,  0.0000,  0.0936],\n",
       "        [14.9085,  0.0000, -0.5857,  1.5641, -0.0000,  0.1009, -0.0000,  0.0000,  0.4408, -0.0000,  0.4346,  0.0000],\n",
       "        [10.3213,  0.0000, -0.0000,  1.2121, -0.1096,  0.0000, -0.0000,  0.2936,  0.0000, -0.0000,  0.0000,  0.0936],\n",
       "        [ 7.2631,  0.0000, -0.0000,  1.5772, -0.0000,  0.1009, -0.2434,  0.0000,  0.0000, -0.0000,  0.0000,  0.0936],\n",
       "        [ 9.1745,  0.4150, -0.2343,  1.4682, -0.0000,  0.1009, -0.0000,  0.0000,  0.4408, -0.0000,  0.0000,  0.0936],\n",
       "        [ 9.9390,  0.0000, -0.0000,  1.5772, -0.1096,  0.0000, -0.2434,  0.0000,  0.0000, -0.3668,  0.0000,  0.0000],\n",
       "        [12.2326,  0.0000, -0.0000,  0.9963, -0.1096,  0.0000, -0.0000,  0.0000,  0.4408, -0.0000,  0.4346,  0.0000]])"
      ]
     },
     "execution_count": 21,
     "metadata": {},
     "output_type": "execute_result"
    }
   ],
   "source": [
    "# Matrix multiplied with a vector\n",
    "# Element wise multiplication\n",
    "t_indep * coeffs"
   ]
  },
  {
   "cell_type": "code",
   "execution_count": 22,
   "id": "ecf6db29",
   "metadata": {
    "execution": {
     "iopub.execute_input": "2024-03-21T11:39:49.630151Z",
     "iopub.status.busy": "2024-03-21T11:39:49.629360Z",
     "iopub.status.idle": "2024-03-21T11:39:49.644559Z",
     "shell.execute_reply": "2024-03-21T11:39:49.643366Z"
    },
    "papermill": {
     "duration": 0.05223,
     "end_time": "2024-03-21T11:39:49.647185",
     "exception": false,
     "start_time": "2024-03-21T11:39:49.594955",
     "status": "completed"
    },
    "tags": []
   },
   "outputs": [
    {
     "data": {
      "text/plain": [
       "(tensor([80.0000,  8.0000,  6.0000,  6.2409,  1.0000,  1.0000,  1.0000,  1.0000,  1.0000,  1.0000,  1.0000,  1.0000]),\n",
       " tensor([630, 159, 678, 258,   0,   1,   1,   9,   0,   1,   5,   0]))"
      ]
     },
     "execution_count": 22,
     "metadata": {},
     "output_type": "execute_result"
    }
   ],
   "source": [
    "# Getting the maximum values in each columns\n",
    "vals, indices = t_indep.max(dim=0)\n",
    "vals, indices"
   ]
  },
  {
   "cell_type": "code",
   "execution_count": 23,
   "id": "bbdd02cc",
   "metadata": {
    "execution": {
     "iopub.execute_input": "2024-03-21T11:39:49.715827Z",
     "iopub.status.busy": "2024-03-21T11:39:49.714924Z",
     "iopub.status.idle": "2024-03-21T11:39:49.724917Z",
     "shell.execute_reply": "2024-03-21T11:39:49.723667Z"
    },
    "papermill": {
     "duration": 0.047419,
     "end_time": "2024-03-21T11:39:49.727583",
     "exception": false,
     "start_time": "2024-03-21T11:39:49.680164",
     "status": "completed"
    },
    "tags": []
   },
   "outputs": [
    {
     "data": {
      "text/plain": [
       "tensor([[0.2750, 0.1250, 0.0000, 0.3381, 1.0000, 0.0000, 0.0000, 0.0000, 1.0000, 0.0000, 0.0000, 1.0000],\n",
       "        [0.4750, 0.1250, 0.0000, 0.6859, 0.0000, 1.0000, 1.0000, 0.0000, 0.0000, 1.0000, 0.0000, 0.0000],\n",
       "        [0.3250, 0.0000, 0.0000, 0.3507, 0.0000, 1.0000, 0.0000, 0.0000, 1.0000, 0.0000, 0.0000, 1.0000],\n",
       "        [0.4375, 0.1250, 0.0000, 0.6395, 0.0000, 1.0000, 1.0000, 0.0000, 0.0000, 0.0000, 0.0000, 1.0000],\n",
       "        [0.4375, 0.0000, 0.0000, 0.3530, 1.0000, 0.0000, 0.0000, 0.0000, 1.0000, 0.0000, 0.0000, 1.0000],\n",
       "        [0.3000, 0.0000, 0.0000, 0.3600, 1.0000, 0.0000, 0.0000, 0.0000, 1.0000, 0.0000, 1.0000, 0.0000],\n",
       "        [0.6750, 0.0000, 0.0000, 0.6358, 1.0000, 0.0000, 1.0000, 0.0000, 0.0000, 0.0000, 0.0000, 1.0000],\n",
       "        ...,\n",
       "        [0.3125, 0.0000, 0.0000, 0.3342, 1.0000, 0.0000, 0.0000, 0.0000, 1.0000, 0.0000, 0.0000, 1.0000],\n",
       "        [0.4875, 0.0000, 0.8333, 0.5456, 0.0000, 1.0000, 0.0000, 0.0000, 1.0000, 0.0000, 1.0000, 0.0000],\n",
       "        [0.3375, 0.0000, 0.0000, 0.4229, 1.0000, 0.0000, 0.0000, 1.0000, 0.0000, 0.0000, 0.0000, 1.0000],\n",
       "        [0.2375, 0.0000, 0.0000, 0.5502, 0.0000, 1.0000, 1.0000, 0.0000, 0.0000, 0.0000, 0.0000, 1.0000],\n",
       "        [0.3000, 0.1250, 0.3333, 0.5122, 0.0000, 1.0000, 0.0000, 0.0000, 1.0000, 0.0000, 0.0000, 1.0000],\n",
       "        [0.3250, 0.0000, 0.0000, 0.5502, 1.0000, 0.0000, 1.0000, 0.0000, 0.0000, 1.0000, 0.0000, 0.0000],\n",
       "        [0.4000, 0.0000, 0.0000, 0.3476, 1.0000, 0.0000, 0.0000, 0.0000, 1.0000, 0.0000, 1.0000, 0.0000]])"
      ]
     },
     "execution_count": 23,
     "metadata": {},
     "output_type": "execute_result"
    }
   ],
   "source": [
    "# All number are in range (0-1)\n",
    "t_indep = t_indep/vals\n",
    "t_indep"
   ]
  },
  {
   "cell_type": "code",
   "execution_count": 24,
   "id": "5aeda8e2",
   "metadata": {
    "execution": {
     "iopub.execute_input": "2024-03-21T11:39:49.799587Z",
     "iopub.status.busy": "2024-03-21T11:39:49.799097Z",
     "iopub.status.idle": "2024-03-21T11:39:49.805467Z",
     "shell.execute_reply": "2024-03-21T11:39:49.803943Z"
    },
    "papermill": {
     "duration": 0.044093,
     "end_time": "2024-03-21T11:39:49.808152",
     "exception": false,
     "start_time": "2024-03-21T11:39:49.764059",
     "status": "completed"
    },
    "tags": []
   },
   "outputs": [],
   "source": [
    "preds = (t_indep * coeffs).sum(axis=1)"
   ]
  },
  {
   "cell_type": "code",
   "execution_count": 25,
   "id": "fe48cd3e",
   "metadata": {
    "execution": {
     "iopub.execute_input": "2024-03-21T11:39:49.877914Z",
     "iopub.status.busy": "2024-03-21T11:39:49.877413Z",
     "iopub.status.idle": "2024-03-21T11:39:49.886588Z",
     "shell.execute_reply": "2024-03-21T11:39:49.885385Z"
    },
    "papermill": {
     "duration": 0.046884,
     "end_time": "2024-03-21T11:39:49.888866",
     "exception": false,
     "start_time": "2024-03-21T11:39:49.841982",
     "status": "completed"
    },
    "tags": []
   },
   "outputs": [
    {
     "data": {
      "text/plain": [
       "tensor([0.7371, 0.0391, 0.9206, 0.4639, 0.7542, 1.0459, 0.2906, 0.7982, 0.9089, 0.3994])"
      ]
     },
     "execution_count": 25,
     "metadata": {},
     "output_type": "execute_result"
    }
   ],
   "source": [
    "preds[:10]"
   ]
  },
  {
   "cell_type": "markdown",
   "id": "6cf4e7af",
   "metadata": {
    "papermill": {
     "duration": 0.033346,
     "end_time": "2024-03-21T11:39:49.955397",
     "exception": false,
     "start_time": "2024-03-21T11:39:49.922051",
     "status": "completed"
    },
    "tags": []
   },
   "source": [
    "Calculating Loss"
   ]
  },
  {
   "cell_type": "code",
   "execution_count": 26,
   "id": "1364fa0f",
   "metadata": {
    "execution": {
     "iopub.execute_input": "2024-03-21T11:39:50.025563Z",
     "iopub.status.busy": "2024-03-21T11:39:50.024642Z",
     "iopub.status.idle": "2024-03-21T11:39:50.039337Z",
     "shell.execute_reply": "2024-03-21T11:39:50.038087Z"
    },
    "papermill": {
     "duration": 0.052912,
     "end_time": "2024-03-21T11:39:50.042237",
     "exception": false,
     "start_time": "2024-03-21T11:39:49.989325",
     "status": "completed"
    },
    "tags": []
   },
   "outputs": [
    {
     "data": {
      "text/plain": [
       "tensor(0.6056)"
      ]
     },
     "execution_count": 26,
     "metadata": {},
     "output_type": "execute_result"
    }
   ],
   "source": [
    "loss = torch.abs(preds - t_dep).mean()\n",
    "loss"
   ]
  },
  {
   "cell_type": "code",
   "execution_count": 27,
   "id": "9fb3922f",
   "metadata": {
    "execution": {
     "iopub.execute_input": "2024-03-21T11:39:50.113277Z",
     "iopub.status.busy": "2024-03-21T11:39:50.112801Z",
     "iopub.status.idle": "2024-03-21T11:39:50.119371Z",
     "shell.execute_reply": "2024-03-21T11:39:50.118068Z"
    },
    "papermill": {
     "duration": 0.045549,
     "end_time": "2024-03-21T11:39:50.122073",
     "exception": false,
     "start_time": "2024-03-21T11:39:50.076524",
     "status": "completed"
    },
    "tags": []
   },
   "outputs": [],
   "source": [
    "def calc_preds(coeffs, indeps): return (indeps * coeffs).sum(axis=1)\n",
    "def calc_loss(coeffs, indeps, deps): return torch.abs(calc_preds(coeffs, indeps)-deps).mean()"
   ]
  },
  {
   "cell_type": "markdown",
   "id": "0d8ad01d",
   "metadata": {
    "papermill": {
     "duration": 0.032944,
     "end_time": "2024-03-21T11:39:50.188818",
     "exception": false,
     "start_time": "2024-03-21T11:39:50.155874",
     "status": "completed"
    },
    "tags": []
   },
   "source": [
    "## Doing a gradient descent step"
   ]
  },
  {
   "cell_type": "code",
   "execution_count": 28,
   "id": "12914194",
   "metadata": {
    "execution": {
     "iopub.execute_input": "2024-03-21T11:39:50.258673Z",
     "iopub.status.busy": "2024-03-21T11:39:50.258210Z",
     "iopub.status.idle": "2024-03-21T11:39:50.266640Z",
     "shell.execute_reply": "2024-03-21T11:39:50.265703Z"
    },
    "papermill": {
     "duration": 0.04661,
     "end_time": "2024-03-21T11:39:50.268787",
     "exception": false,
     "start_time": "2024-03-21T11:39:50.222177",
     "status": "completed"
    },
    "tags": []
   },
   "outputs": [
    {
     "data": {
      "text/plain": [
       "tensor([ 0.3823,  0.4150, -0.1171,  0.4593, -0.1096,  0.1009, -0.2434,  0.2936,  0.4408, -0.3668,  0.4346,  0.0936], requires_grad=True)"
      ]
     },
     "execution_count": 28,
     "metadata": {},
     "output_type": "execute_result"
    }
   ],
   "source": [
    "coeffs.requires_grad_()"
   ]
  },
  {
   "cell_type": "code",
   "execution_count": 29,
   "id": "36264131",
   "metadata": {
    "execution": {
     "iopub.execute_input": "2024-03-21T11:39:50.337974Z",
     "iopub.status.busy": "2024-03-21T11:39:50.337515Z",
     "iopub.status.idle": "2024-03-21T11:39:50.349122Z",
     "shell.execute_reply": "2024-03-21T11:39:50.347565Z"
    },
    "papermill": {
     "duration": 0.049674,
     "end_time": "2024-03-21T11:39:50.352102",
     "exception": false,
     "start_time": "2024-03-21T11:39:50.302428",
     "status": "completed"
    },
    "tags": []
   },
   "outputs": [
    {
     "data": {
      "text/plain": [
       "tensor(0.6056, grad_fn=<MeanBackward0>)"
      ]
     },
     "execution_count": 29,
     "metadata": {},
     "output_type": "execute_result"
    }
   ],
   "source": [
    "loss = calc_loss(coeffs, t_indep, t_dep)\n",
    "loss"
   ]
  },
  {
   "cell_type": "code",
   "execution_count": 30,
   "id": "4376189c",
   "metadata": {
    "execution": {
     "iopub.execute_input": "2024-03-21T11:39:50.424257Z",
     "iopub.status.busy": "2024-03-21T11:39:50.422271Z",
     "iopub.status.idle": "2024-03-21T11:39:50.440942Z",
     "shell.execute_reply": "2024-03-21T11:39:50.439577Z"
    },
    "papermill": {
     "duration": 0.05739,
     "end_time": "2024-03-21T11:39:50.444137",
     "exception": false,
     "start_time": "2024-03-21T11:39:50.386747",
     "status": "completed"
    },
    "tags": []
   },
   "outputs": [],
   "source": [
    "loss.backward()"
   ]
  },
  {
   "cell_type": "code",
   "execution_count": 31,
   "id": "8e05ab9a",
   "metadata": {
    "execution": {
     "iopub.execute_input": "2024-03-21T11:39:50.515788Z",
     "iopub.status.busy": "2024-03-21T11:39:50.515320Z",
     "iopub.status.idle": "2024-03-21T11:39:50.523274Z",
     "shell.execute_reply": "2024-03-21T11:39:50.522288Z"
    },
    "papermill": {
     "duration": 0.047337,
     "end_time": "2024-03-21T11:39:50.525775",
     "exception": false,
     "start_time": "2024-03-21T11:39:50.478438",
     "status": "completed"
    },
    "tags": []
   },
   "outputs": [
    {
     "data": {
      "text/plain": [
       "tensor([ 0.0883,  0.0272,  0.0056,  0.0608,  0.3423, -0.0853, -0.1324,  0.0202,  0.3692, -0.0786,  0.0842,  0.2514])"
      ]
     },
     "execution_count": 31,
     "metadata": {},
     "output_type": "execute_result"
    }
   ],
   "source": [
    "coeffs.grad"
   ]
  },
  {
   "cell_type": "markdown",
   "id": "99760b7e",
   "metadata": {
    "papermill": {
     "duration": 0.033785,
     "end_time": "2024-03-21T11:39:50.593874",
     "exception": false,
     "start_time": "2024-03-21T11:39:50.560089",
     "status": "completed"
    },
    "tags": []
   },
   "source": [
    "Moving towards lower loss by moving opposite of the gradients"
   ]
  },
  {
   "cell_type": "code",
   "execution_count": 32,
   "id": "c83ac45f",
   "metadata": {
    "execution": {
     "iopub.execute_input": "2024-03-21T11:39:50.664034Z",
     "iopub.status.busy": "2024-03-21T11:39:50.663637Z",
     "iopub.status.idle": "2024-03-21T11:39:50.671964Z",
     "shell.execute_reply": "2024-03-21T11:39:50.671019Z"
    },
    "papermill": {
     "duration": 0.046458,
     "end_time": "2024-03-21T11:39:50.674391",
     "exception": false,
     "start_time": "2024-03-21T11:39:50.627933",
     "status": "completed"
    },
    "tags": []
   },
   "outputs": [
    {
     "name": "stdout",
     "output_type": "stream",
     "text": [
      "tensor(0.5696)\n"
     ]
    }
   ],
   "source": [
    "with torch.no_grad():\n",
    "    coeffs.sub_(coeffs.grad * 0.1)\n",
    "    print(calc_loss(coeffs, t_indep, t_dep))"
   ]
  },
  {
   "cell_type": "markdown",
   "id": "a2a95606",
   "metadata": {
    "papermill": {
     "duration": 0.035742,
     "end_time": "2024-03-21T11:39:50.744136",
     "exception": false,
     "start_time": "2024-03-21T11:39:50.708394",
     "status": "completed"
    },
    "tags": []
   },
   "source": [
    "# Training the linear model"
   ]
  },
  {
   "cell_type": "code",
   "execution_count": 33,
   "id": "e9d9ab86",
   "metadata": {
    "execution": {
     "iopub.execute_input": "2024-03-21T11:39:50.815509Z",
     "iopub.status.busy": "2024-03-21T11:39:50.815089Z",
     "iopub.status.idle": "2024-03-21T11:39:54.401782Z",
     "shell.execute_reply": "2024-03-21T11:39:54.400419Z"
    },
    "papermill": {
     "duration": 3.626285,
     "end_time": "2024-03-21T11:39:54.404952",
     "exception": false,
     "start_time": "2024-03-21T11:39:50.778667",
     "status": "completed"
    },
    "tags": []
   },
   "outputs": [],
   "source": [
    "from fastai.data.transforms import RandomSplitter\n",
    "trn_split, val_split = RandomSplitter(seed=42)(df)"
   ]
  },
  {
   "cell_type": "code",
   "execution_count": 34,
   "id": "71dc48ba",
   "metadata": {
    "execution": {
     "iopub.execute_input": "2024-03-21T11:39:54.476175Z",
     "iopub.status.busy": "2024-03-21T11:39:54.475424Z",
     "iopub.status.idle": "2024-03-21T11:39:54.485068Z",
     "shell.execute_reply": "2024-03-21T11:39:54.483754Z"
    },
    "papermill": {
     "duration": 0.048216,
     "end_time": "2024-03-21T11:39:54.487699",
     "exception": false,
     "start_time": "2024-03-21T11:39:54.439483",
     "status": "completed"
    },
    "tags": []
   },
   "outputs": [
    {
     "data": {
      "text/plain": [
       "((#713) [788,525,821,253,374,98,215,313,281,305...],\n",
       " (#178) [303,778,531,385,134,476,691,443,386,128...])"
      ]
     },
     "execution_count": 34,
     "metadata": {},
     "output_type": "execute_result"
    }
   ],
   "source": [
    "trn_split, val_split"
   ]
  },
  {
   "cell_type": "code",
   "execution_count": 35,
   "id": "3b82f7d2",
   "metadata": {
    "execution": {
     "iopub.execute_input": "2024-03-21T11:39:54.561148Z",
     "iopub.status.busy": "2024-03-21T11:39:54.560643Z",
     "iopub.status.idle": "2024-03-21T11:39:54.573221Z",
     "shell.execute_reply": "2024-03-21T11:39:54.571950Z"
    },
    "papermill": {
     "duration": 0.052163,
     "end_time": "2024-03-21T11:39:54.576140",
     "exception": false,
     "start_time": "2024-03-21T11:39:54.523977",
     "status": "completed"
    },
    "tags": []
   },
   "outputs": [],
   "source": [
    "trn_indep, val_indep = t_indep[trn_split],t_indep[val_split]\n",
    "trn_dep, val_dep = t_dep[trn_split], t_dep[val_split]"
   ]
  },
  {
   "cell_type": "code",
   "execution_count": 36,
   "id": "7d4a8523",
   "metadata": {
    "execution": {
     "iopub.execute_input": "2024-03-21T11:39:54.650552Z",
     "iopub.status.busy": "2024-03-21T11:39:54.650070Z",
     "iopub.status.idle": "2024-03-21T11:39:54.659384Z",
     "shell.execute_reply": "2024-03-21T11:39:54.657697Z"
    },
    "papermill": {
     "duration": 0.051447,
     "end_time": "2024-03-21T11:39:54.662401",
     "exception": false,
     "start_time": "2024-03-21T11:39:54.610954",
     "status": "completed"
    },
    "tags": []
   },
   "outputs": [
    {
     "data": {
      "text/plain": [
       "(torch.Size([713, 12]), torch.Size([713]))"
      ]
     },
     "execution_count": 36,
     "metadata": {},
     "output_type": "execute_result"
    }
   ],
   "source": [
    "trn_indep.shape, trn_dep.shape"
   ]
  },
  {
   "cell_type": "code",
   "execution_count": 37,
   "id": "862fb4b9",
   "metadata": {
    "execution": {
     "iopub.execute_input": "2024-03-21T11:39:54.736123Z",
     "iopub.status.busy": "2024-03-21T11:39:54.735584Z",
     "iopub.status.idle": "2024-03-21T11:39:54.743554Z",
     "shell.execute_reply": "2024-03-21T11:39:54.742266Z"
    },
    "papermill": {
     "duration": 0.046209,
     "end_time": "2024-03-21T11:39:54.746106",
     "exception": false,
     "start_time": "2024-03-21T11:39:54.699897",
     "status": "completed"
    },
    "tags": []
   },
   "outputs": [
    {
     "data": {
      "text/plain": [
       "(torch.Size([178, 12]), torch.Size([178]))"
      ]
     },
     "execution_count": 37,
     "metadata": {},
     "output_type": "execute_result"
    }
   ],
   "source": [
    "val_indep.shape, val_dep.shape"
   ]
  },
  {
   "cell_type": "code",
   "execution_count": 38,
   "id": "e9eb4ef5",
   "metadata": {
    "execution": {
     "iopub.execute_input": "2024-03-21T11:39:54.819164Z",
     "iopub.status.busy": "2024-03-21T11:39:54.818627Z",
     "iopub.status.idle": "2024-03-21T11:39:54.825139Z",
     "shell.execute_reply": "2024-03-21T11:39:54.823809Z"
    },
    "papermill": {
     "duration": 0.044863,
     "end_time": "2024-03-21T11:39:54.827775",
     "exception": false,
     "start_time": "2024-03-21T11:39:54.782912",
     "status": "completed"
    },
    "tags": []
   },
   "outputs": [],
   "source": [
    "def update_coeffs(coeffs, lr): coeffs.sub_(coeffs.grad * lr)"
   ]
  },
  {
   "cell_type": "code",
   "execution_count": 39,
   "id": "4594296c",
   "metadata": {
    "execution": {
     "iopub.execute_input": "2024-03-21T11:39:54.907675Z",
     "iopub.status.busy": "2024-03-21T11:39:54.906662Z",
     "iopub.status.idle": "2024-03-21T11:39:54.915269Z",
     "shell.execute_reply": "2024-03-21T11:39:54.913575Z"
    },
    "papermill": {
     "duration": 0.056131,
     "end_time": "2024-03-21T11:39:54.918272",
     "exception": false,
     "start_time": "2024-03-21T11:39:54.862141",
     "status": "completed"
    },
    "tags": []
   },
   "outputs": [],
   "source": [
    "def one_epoch(coeffs, lr):\n",
    "    loss = calc_loss(coeffs, trn_indep, trn_dep)\n",
    "    loss.backward()\n",
    "    with torch.no_grad(): update_coeffs(coeffs, lr)\n",
    "    print(f'Epoch Loss: {loss:.3f}', end = ';\\n')"
   ]
  },
  {
   "cell_type": "code",
   "execution_count": 40,
   "id": "6e8f688b",
   "metadata": {
    "execution": {
     "iopub.execute_input": "2024-03-21T11:39:55.001181Z",
     "iopub.status.busy": "2024-03-21T11:39:55.000744Z",
     "iopub.status.idle": "2024-03-21T11:39:55.006985Z",
     "shell.execute_reply": "2024-03-21T11:39:55.005334Z"
    },
    "papermill": {
     "duration": 0.045537,
     "end_time": "2024-03-21T11:39:55.009587",
     "exception": false,
     "start_time": "2024-03-21T11:39:54.964050",
     "status": "completed"
    },
    "tags": []
   },
   "outputs": [],
   "source": [
    "def init_coeffs(): return (torch.rand(n_coeff)-0.5).requires_grad_()"
   ]
  },
  {
   "cell_type": "code",
   "execution_count": 41,
   "id": "a7013ea1",
   "metadata": {
    "execution": {
     "iopub.execute_input": "2024-03-21T11:39:55.082900Z",
     "iopub.status.busy": "2024-03-21T11:39:55.081867Z",
     "iopub.status.idle": "2024-03-21T11:39:55.088990Z",
     "shell.execute_reply": "2024-03-21T11:39:55.087647Z"
    },
    "papermill": {
     "duration": 0.045962,
     "end_time": "2024-03-21T11:39:55.091509",
     "exception": false,
     "start_time": "2024-03-21T11:39:55.045547",
     "status": "completed"
    },
    "tags": []
   },
   "outputs": [],
   "source": [
    "# Training a model for few epochs\n",
    "def train_model(epochs=30, lr=0.1 ):\n",
    "    torch.manual_seed(442)\n",
    "    coeffs = init_coeffs()\n",
    "    for i in range(epochs): one_epoch(coeffs, lr)\n",
    "    return coeffs"
   ]
  },
  {
   "cell_type": "code",
   "execution_count": 42,
   "id": "96fb7003",
   "metadata": {
    "execution": {
     "iopub.execute_input": "2024-03-21T11:39:55.160869Z",
     "iopub.status.busy": "2024-03-21T11:39:55.160443Z",
     "iopub.status.idle": "2024-03-21T11:39:55.175680Z",
     "shell.execute_reply": "2024-03-21T11:39:55.174328Z"
    },
    "papermill": {
     "duration": 0.053346,
     "end_time": "2024-03-21T11:39:55.178597",
     "exception": false,
     "start_time": "2024-03-21T11:39:55.125251",
     "status": "completed"
    },
    "tags": []
   },
   "outputs": [
    {
     "name": "stdout",
     "output_type": "stream",
     "text": [
      "Epoch Loss: 0.536;\n",
      "Epoch Loss: 0.532;\n",
      "Epoch Loss: 0.525;\n",
      "Epoch Loss: 0.515;\n",
      "Epoch Loss: 0.503;\n",
      "Epoch Loss: 0.489;\n",
      "Epoch Loss: 0.477;\n",
      "Epoch Loss: 0.466;\n",
      "Epoch Loss: 0.449;\n",
      "Epoch Loss: 0.424;\n",
      "Epoch Loss: 0.396;\n",
      "Epoch Loss: 0.373;\n",
      "Epoch Loss: 0.354;\n",
      "Epoch Loss: 0.338;\n",
      "Epoch Loss: 0.321;\n",
      "Epoch Loss: 0.306;\n",
      "Epoch Loss: 0.297;\n",
      "Epoch Loss: 0.295;\n"
     ]
    }
   ],
   "source": [
    "coeffs = train_model(18, lr=0.02)"
   ]
  },
  {
   "cell_type": "code",
   "execution_count": 43,
   "id": "d3e3165f",
   "metadata": {
    "execution": {
     "iopub.execute_input": "2024-03-21T11:39:55.250143Z",
     "iopub.status.busy": "2024-03-21T11:39:55.249430Z",
     "iopub.status.idle": "2024-03-21T11:39:55.263061Z",
     "shell.execute_reply": "2024-03-21T11:39:55.261736Z"
    },
    "papermill": {
     "duration": 0.052176,
     "end_time": "2024-03-21T11:39:55.265648",
     "exception": false,
     "start_time": "2024-03-21T11:39:55.213472",
     "status": "completed"
    },
    "tags": []
   },
   "outputs": [
    {
     "data": {
      "text/plain": [
       "{'Age': tensor(-0.2335),\n",
       " 'SibSp': tensor(0.1025),\n",
       " 'Parch': tensor(0.2530),\n",
       " 'LogFare': tensor(0.1073),\n",
       " 'Sex_male': tensor(-0.4166),\n",
       " 'Sex_female': tensor(0.3314),\n",
       " 'Pclass_1': tensor(0.8639),\n",
       " 'Pclass_2': tensor(0.4225),\n",
       " 'Pclass_3': tensor(0.2875),\n",
       " 'Embarked_C': tensor(0.1840),\n",
       " 'Embarked_Q': tensor(0.3267),\n",
       " 'Embarked_S': tensor(0.1158)}"
      ]
     },
     "execution_count": 43,
     "metadata": {},
     "output_type": "execute_result"
    }
   ],
   "source": [
    "def show_coeffs(): return dict(zip(indep_cols, coeffs.requires_grad_(False)))\n",
    "show_coeffs()"
   ]
  },
  {
   "cell_type": "markdown",
   "id": "372539b3",
   "metadata": {
    "papermill": {
     "duration": 0.034569,
     "end_time": "2024-03-21T11:39:55.335620",
     "exception": false,
     "start_time": "2024-03-21T11:39:55.301051",
     "status": "completed"
    },
    "tags": []
   },
   "source": [
    "## Measuring Accuracy"
   ]
  },
  {
   "cell_type": "code",
   "execution_count": 44,
   "id": "a039e1b5",
   "metadata": {
    "execution": {
     "iopub.execute_input": "2024-03-21T11:39:55.408965Z",
     "iopub.status.busy": "2024-03-21T11:39:55.407779Z",
     "iopub.status.idle": "2024-03-21T11:39:55.413300Z",
     "shell.execute_reply": "2024-03-21T11:39:55.412453Z"
    },
    "papermill": {
     "duration": 0.044928,
     "end_time": "2024-03-21T11:39:55.415557",
     "exception": false,
     "start_time": "2024-03-21T11:39:55.370629",
     "status": "completed"
    },
    "tags": []
   },
   "outputs": [],
   "source": [
    "preds = calc_preds(coeffs, val_indep)"
   ]
  },
  {
   "cell_type": "code",
   "execution_count": 45,
   "id": "0048c7d2",
   "metadata": {
    "execution": {
     "iopub.execute_input": "2024-03-21T11:39:55.489231Z",
     "iopub.status.busy": "2024-03-21T11:39:55.488763Z",
     "iopub.status.idle": "2024-03-21T11:39:55.498960Z",
     "shell.execute_reply": "2024-03-21T11:39:55.497574Z"
    },
    "papermill": {
     "duration": 0.050183,
     "end_time": "2024-03-21T11:39:55.501768",
     "exception": false,
     "start_time": "2024-03-21T11:39:55.451585",
     "status": "completed"
    },
    "tags": []
   },
   "outputs": [
    {
     "data": {
      "text/plain": [
       "tensor([True, True, True, True, True, True, True, True, True, True])"
      ]
     },
     "execution_count": 45,
     "metadata": {},
     "output_type": "execute_result"
    }
   ],
   "source": [
    "results = val_dep.bool() == (preds>0.5)\n",
    "results[:10]"
   ]
  },
  {
   "cell_type": "code",
   "execution_count": 46,
   "id": "c5ab71e1",
   "metadata": {
    "execution": {
     "iopub.execute_input": "2024-03-21T11:39:55.572588Z",
     "iopub.status.busy": "2024-03-21T11:39:55.572189Z",
     "iopub.status.idle": "2024-03-21T11:39:55.581183Z",
     "shell.execute_reply": "2024-03-21T11:39:55.579810Z"
    },
    "papermill": {
     "duration": 0.04708,
     "end_time": "2024-03-21T11:39:55.583421",
     "exception": false,
     "start_time": "2024-03-21T11:39:55.536341",
     "status": "completed"
    },
    "tags": []
   },
   "outputs": [
    {
     "data": {
      "text/plain": [
       "tensor(0.7921)"
      ]
     },
     "execution_count": 46,
     "metadata": {},
     "output_type": "execute_result"
    }
   ],
   "source": [
    "results.float().mean()"
   ]
  },
  {
   "cell_type": "code",
   "execution_count": 47,
   "id": "91b08115",
   "metadata": {
    "execution": {
     "iopub.execute_input": "2024-03-21T11:39:55.655163Z",
     "iopub.status.busy": "2024-03-21T11:39:55.654679Z",
     "iopub.status.idle": "2024-03-21T11:39:55.664259Z",
     "shell.execute_reply": "2024-03-21T11:39:55.663275Z"
    },
    "papermill": {
     "duration": 0.048335,
     "end_time": "2024-03-21T11:39:55.666549",
     "exception": false,
     "start_time": "2024-03-21T11:39:55.618214",
     "status": "completed"
    },
    "tags": []
   },
   "outputs": [
    {
     "data": {
      "text/plain": [
       "tensor(0.7921)"
      ]
     },
     "execution_count": 47,
     "metadata": {},
     "output_type": "execute_result"
    }
   ],
   "source": [
    "def acc(coeffs): return (val_dep.bool() == (calc_preds(coeffs, val_indep)>0.5)).float().mean()\n",
    "acc(coeffs)"
   ]
  },
  {
   "cell_type": "markdown",
   "id": "fb5e11ff",
   "metadata": {
    "papermill": {
     "duration": 0.034184,
     "end_time": "2024-03-21T11:39:55.735339",
     "exception": false,
     "start_time": "2024-03-21T11:39:55.701155",
     "status": "completed"
    },
    "tags": []
   },
   "source": [
    "# Using Sigmoid"
   ]
  },
  {
   "cell_type": "code",
   "execution_count": 48,
   "id": "c7226585",
   "metadata": {
    "execution": {
     "iopub.execute_input": "2024-03-21T11:39:55.808114Z",
     "iopub.status.busy": "2024-03-21T11:39:55.807233Z",
     "iopub.status.idle": "2024-03-21T11:39:55.815948Z",
     "shell.execute_reply": "2024-03-21T11:39:55.814595Z"
    },
    "papermill": {
     "duration": 0.047639,
     "end_time": "2024-03-21T11:39:55.818486",
     "exception": false,
     "start_time": "2024-03-21T11:39:55.770847",
     "status": "completed"
    },
    "tags": []
   },
   "outputs": [
    {
     "data": {
      "text/plain": [
       "tensor([ 1.0550,  0.1648,  0.0210,  0.1432,  0.0940,  0.0883,  0.8792,  0.8332,  0.1986,  0.8419, -0.0691,  0.0877,  0.0729,  0.9130,\n",
       "        -0.0780,  0.4887,  0.4303,  0.8954,  0.0644,  0.6831])"
      ]
     },
     "execution_count": 48,
     "metadata": {},
     "output_type": "execute_result"
    }
   ],
   "source": [
    "preds[:20]"
   ]
  },
  {
   "cell_type": "markdown",
   "id": "1c898c95",
   "metadata": {
    "papermill": {
     "duration": 0.034323,
     "end_time": "2024-03-21T11:39:55.887624",
     "exception": false,
     "start_time": "2024-03-21T11:39:55.853301",
     "status": "completed"
    },
    "tags": []
   },
   "source": [
    "squishing prediction in the range of 0 to 1"
   ]
  },
  {
   "cell_type": "code",
   "execution_count": 49,
   "id": "c82ca860",
   "metadata": {
    "execution": {
     "iopub.execute_input": "2024-03-21T11:39:55.960514Z",
     "iopub.status.busy": "2024-03-21T11:39:55.960022Z",
     "iopub.status.idle": "2024-03-21T11:39:56.562109Z",
     "shell.execute_reply": "2024-03-21T11:39:56.560673Z"
    },
    "papermill": {
     "duration": 0.642035,
     "end_time": "2024-03-21T11:39:56.564869",
     "exception": false,
     "start_time": "2024-03-21T11:39:55.922834",
     "status": "completed"
    },
    "tags": []
   },
   "outputs": [
    {
     "data": {
      "image/png": "[encoded data removed]",
      "text/plain": [
       "<Figure size 640x480 with 1 Axes>"
      ]
     },
     "metadata": {},
     "output_type": "display_data"
    }
   ],
   "source": [
    "import sympy\n",
    "sympy.plot(\"1/(1+exp(-x))\", xlim=(-5,5));"
   ]
  },
  {
   "cell_type": "code",
   "execution_count": 50,
   "id": "ed7b086e",
   "metadata": {
    "execution": {
     "iopub.execute_input": "2024-03-21T11:39:56.638408Z",
     "iopub.status.busy": "2024-03-21T11:39:56.637858Z",
     "iopub.status.idle": "2024-03-21T11:39:56.644246Z",
     "shell.execute_reply": "2024-03-21T11:39:56.642985Z"
    },
    "papermill": {
     "duration": 0.046471,
     "end_time": "2024-03-21T11:39:56.646743",
     "exception": false,
     "start_time": "2024-03-21T11:39:56.600272",
     "status": "completed"
    },
    "tags": []
   },
   "outputs": [],
   "source": [
    "def calc_preds(coeffs, indeps): return torch.sigmoid((indeps * coeffs).sum(axis=1))"
   ]
  },
  {
   "cell_type": "code",
   "execution_count": 51,
   "id": "1fa4d845",
   "metadata": {
    "execution": {
     "iopub.execute_input": "2024-03-21T11:39:56.720572Z",
     "iopub.status.busy": "2024-03-21T11:39:56.720084Z",
     "iopub.status.idle": "2024-03-21T11:39:56.741800Z",
     "shell.execute_reply": "2024-03-21T11:39:56.740348Z"
    },
    "papermill": {
     "duration": 0.062306,
     "end_time": "2024-03-21T11:39:56.744651",
     "exception": false,
     "start_time": "2024-03-21T11:39:56.682345",
     "status": "completed"
    },
    "tags": []
   },
   "outputs": [
    {
     "name": "stdout",
     "output_type": "stream",
     "text": [
      "Epoch Loss: 0.510;\n",
      "Epoch Loss: 0.468;\n",
      "Epoch Loss: 0.397;\n",
      "Epoch Loss: 0.340;\n",
      "Epoch Loss: 0.309;\n",
      "Epoch Loss: 0.289;\n",
      "Epoch Loss: 0.268;\n",
      "Epoch Loss: 0.247;\n",
      "Epoch Loss: 0.230;\n",
      "Epoch Loss: 0.218;\n",
      "Epoch Loss: 0.210;\n",
      "Epoch Loss: 0.207;\n",
      "Epoch Loss: 0.205;\n",
      "Epoch Loss: 0.204;\n",
      "Epoch Loss: 0.204;\n",
      "Epoch Loss: 0.204;\n",
      "Epoch Loss: 0.204;\n",
      "Epoch Loss: 0.205;\n",
      "Epoch Loss: 0.205;\n",
      "Epoch Loss: 0.205;\n",
      "Epoch Loss: 0.205;\n",
      "Epoch Loss: 0.205;\n",
      "Epoch Loss: 0.205;\n",
      "Epoch Loss: 0.204;\n",
      "Epoch Loss: 0.203;\n",
      "Epoch Loss: 0.202;\n",
      "Epoch Loss: 0.201;\n",
      "Epoch Loss: 0.200;\n",
      "Epoch Loss: 0.198;\n",
      "Epoch Loss: 0.197;\n"
     ]
    }
   ],
   "source": [
    "coeffs = train_model(lr = 2)"
   ]
  },
  {
   "cell_type": "code",
   "execution_count": 52,
   "id": "f4636081",
   "metadata": {
    "execution": {
     "iopub.execute_input": "2024-03-21T11:39:56.818892Z",
     "iopub.status.busy": "2024-03-21T11:39:56.818446Z",
     "iopub.status.idle": "2024-03-21T11:39:56.827916Z",
     "shell.execute_reply": "2024-03-21T11:39:56.826576Z"
    },
    "papermill": {
     "duration": 0.049188,
     "end_time": "2024-03-21T11:39:56.830433",
     "exception": false,
     "start_time": "2024-03-21T11:39:56.781245",
     "status": "completed"
    },
    "tags": []
   },
   "outputs": [
    {
     "data": {
      "text/plain": [
       "tensor([ -1.6562,  -1.1978,  -0.0264,   2.0475, -18.9596,  16.6258,   7.8170,   4.0900, -12.5817,   3.1918,   1.0449,  -5.8589],\n",
       "       requires_grad=True)"
      ]
     },
     "execution_count": 52,
     "metadata": {},
     "output_type": "execute_result"
    }
   ],
   "source": [
    "coeffs"
   ]
  },
  {
   "cell_type": "markdown",
   "id": "35efeb83",
   "metadata": {
    "papermill": {
     "duration": 0.035248,
     "end_time": "2024-03-21T11:39:56.901005",
     "exception": false,
     "start_time": "2024-03-21T11:39:56.865757",
     "status": "completed"
    },
    "tags": []
   },
   "source": [
    "Notice the coefficient's shape. It's a vector."
   ]
  },
  {
   "cell_type": "code",
   "execution_count": 53,
   "id": "8676ed09",
   "metadata": {
    "execution": {
     "iopub.execute_input": "2024-03-21T11:39:56.973678Z",
     "iopub.status.busy": "2024-03-21T11:39:56.973261Z",
     "iopub.status.idle": "2024-03-21T11:39:56.982359Z",
     "shell.execute_reply": "2024-03-21T11:39:56.981157Z"
    },
    "papermill": {
     "duration": 0.048194,
     "end_time": "2024-03-21T11:39:56.984621",
     "exception": false,
     "start_time": "2024-03-21T11:39:56.936427",
     "status": "completed"
    },
    "tags": []
   },
   "outputs": [
    {
     "data": {
      "text/plain": [
       "tensor(0.8258)"
      ]
     },
     "execution_count": 53,
     "metadata": {},
     "output_type": "execute_result"
    }
   ],
   "source": [
    "acc(coeffs)"
   ]
  },
  {
   "cell_type": "code",
   "execution_count": 54,
   "id": "e4b54a14",
   "metadata": {
    "execution": {
     "iopub.execute_input": "2024-03-21T11:39:57.061252Z",
     "iopub.status.busy": "2024-03-21T11:39:57.060782Z",
     "iopub.status.idle": "2024-03-21T11:39:57.074035Z",
     "shell.execute_reply": "2024-03-21T11:39:57.072773Z"
    },
    "papermill": {
     "duration": 0.055459,
     "end_time": "2024-03-21T11:39:57.076490",
     "exception": false,
     "start_time": "2024-03-21T11:39:57.021031",
     "status": "completed"
    },
    "tags": []
   },
   "outputs": [
    {
     "data": {
      "text/plain": [
       "{'Age': tensor(-1.6562),\n",
       " 'SibSp': tensor(-1.1978),\n",
       " 'Parch': tensor(-0.0264),\n",
       " 'LogFare': tensor(2.0475),\n",
       " 'Sex_male': tensor(-18.9596),\n",
       " 'Sex_female': tensor(16.6258),\n",
       " 'Pclass_1': tensor(7.8170),\n",
       " 'Pclass_2': tensor(4.0900),\n",
       " 'Pclass_3': tensor(-12.5817),\n",
       " 'Embarked_C': tensor(3.1918),\n",
       " 'Embarked_Q': tensor(1.0449),\n",
       " 'Embarked_S': tensor(-5.8589)}"
      ]
     },
     "execution_count": 54,
     "metadata": {},
     "output_type": "execute_result"
    }
   ],
   "source": [
    "show_coeffs()"
   ]
  },
  {
   "cell_type": "markdown",
   "id": "d3580629",
   "metadata": {
    "papermill": {
     "duration": 0.035857,
     "end_time": "2024-03-21T11:39:57.148558",
     "exception": false,
     "start_time": "2024-03-21T11:39:57.112701",
     "status": "completed"
    },
    "tags": []
   },
   "source": [
    "## Submitting to Kaggle"
   ]
  },
  {
   "cell_type": "code",
   "execution_count": 55,
   "id": "f5bb1e2f",
   "metadata": {
    "execution": {
     "iopub.execute_input": "2024-03-21T11:39:57.222530Z",
     "iopub.status.busy": "2024-03-21T11:39:57.222130Z",
     "iopub.status.idle": "2024-03-21T11:39:57.243789Z",
     "shell.execute_reply": "2024-03-21T11:39:57.242231Z"
    },
    "papermill": {
     "duration": 0.062356,
     "end_time": "2024-03-21T11:39:57.246831",
     "exception": false,
     "start_time": "2024-03-21T11:39:57.184475",
     "status": "completed"
    },
    "tags": []
   },
   "outputs": [],
   "source": [
    "test_df = pd.read_csv(path/'test.csv')"
   ]
  },
  {
   "cell_type": "code",
   "execution_count": 56,
   "id": "8b612a94",
   "metadata": {
    "execution": {
     "iopub.execute_input": "2024-03-21T11:39:57.324024Z",
     "iopub.status.busy": "2024-03-21T11:39:57.323507Z",
     "iopub.status.idle": "2024-03-21T11:39:57.330020Z",
     "shell.execute_reply": "2024-03-21T11:39:57.329100Z"
    },
    "papermill": {
     "duration": 0.047688,
     "end_time": "2024-03-21T11:39:57.332186",
     "exception": false,
     "start_time": "2024-03-21T11:39:57.284498",
     "status": "completed"
    },
    "tags": []
   },
   "outputs": [],
   "source": [
    "test_df['Fare'] = test_df.Fare.fillna(0)"
   ]
  },
  {
   "cell_type": "code",
   "execution_count": 57,
   "id": "a52ed1f9",
   "metadata": {
    "execution": {
     "iopub.execute_input": "2024-03-21T11:39:57.407199Z",
     "iopub.status.busy": "2024-03-21T11:39:57.405777Z",
     "iopub.status.idle": "2024-03-21T11:39:57.429585Z",
     "shell.execute_reply": "2024-03-21T11:39:57.428685Z"
    },
    "papermill": {
     "duration": 0.063975,
     "end_time": "2024-03-21T11:39:57.432031",
     "exception": false,
     "start_time": "2024-03-21T11:39:57.368056",
     "status": "completed"
    },
    "tags": []
   },
   "outputs": [
    {
     "data": {
      "text/plain": [
       "tensor([[0.4313, 0.0000, 0.0000, 0.3490, 1.0000, 0.0000, 0.0000, 0.0000, 1.0000, 0.0000, 1.0000, 0.0000],\n",
       "        [0.5875, 0.1250, 0.0000, 0.3332, 0.0000, 1.0000, 0.0000, 0.0000, 1.0000, 0.0000, 0.0000, 1.0000],\n",
       "        [0.7750, 0.0000, 0.0000, 0.3796, 1.0000, 0.0000, 0.0000, 1.0000, 0.0000, 0.0000, 1.0000, 0.0000],\n",
       "        [0.3375, 0.0000, 0.0000, 0.3634, 1.0000, 0.0000, 0.0000, 0.0000, 1.0000, 0.0000, 0.0000, 1.0000],\n",
       "        [0.2750, 0.1250, 0.1667, 0.4145, 0.0000, 1.0000, 0.0000, 0.0000, 1.0000, 0.0000, 0.0000, 1.0000],\n",
       "        [0.1750, 0.0000, 0.0000, 0.3725, 1.0000, 0.0000, 0.0000, 0.0000, 1.0000, 0.0000, 0.0000, 1.0000],\n",
       "        [0.3750, 0.0000, 0.0000, 0.3453, 0.0000, 1.0000, 0.0000, 0.0000, 1.0000, 0.0000, 1.0000, 0.0000],\n",
       "        ...,\n",
       "        [0.4625, 0.1250, 0.0000, 0.7228, 0.0000, 1.0000, 1.0000, 0.0000, 0.0000, 0.0000, 1.0000, 0.0000],\n",
       "        [0.3500, 0.0000, 0.0000, 0.3480, 0.0000, 1.0000, 0.0000, 0.0000, 1.0000, 0.0000, 0.0000, 1.0000],\n",
       "        [0.3000, 0.0000, 0.0000, 0.3530, 1.0000, 0.0000, 0.0000, 0.0000, 1.0000, 0.0000, 0.0000, 1.0000],\n",
       "        [0.4875, 0.0000, 0.0000, 0.7530, 0.0000, 1.0000, 1.0000, 0.0000, 0.0000, 1.0000, 0.0000, 0.0000],\n",
       "        [0.4812, 0.0000, 0.0000, 0.3381, 1.0000, 0.0000, 0.0000, 0.0000, 1.0000, 0.0000, 0.0000, 1.0000],\n",
       "        [0.3000, 0.0000, 0.0000, 0.3530, 1.0000, 0.0000, 0.0000, 0.0000, 1.0000, 0.0000, 0.0000, 1.0000],\n",
       "        [0.3000, 0.1250, 0.1667, 0.5049, 1.0000, 0.0000, 0.0000, 0.0000, 1.0000, 1.0000, 0.0000, 0.0000]])"
      ]
     },
     "execution_count": 57,
     "metadata": {},
     "output_type": "execute_result"
    }
   ],
   "source": [
    "test_df.fillna(modes, inplace = True)\n",
    "test_df['LogFare'] = np.log(test_df['Fare'] + 1)\n",
    "test_df = pd.get_dummies(test_df, columns=['Sex', 'Pclass', 'Embarked'], dtype = float)\n",
    "\n",
    "test_indep = tensor(test_df[indep_cols].values, dtype=torch.float)\n",
    "test_indep = test_indep/vals\n",
    "test_indep"
   ]
  },
  {
   "cell_type": "code",
   "execution_count": 58,
   "id": "15d2a09c",
   "metadata": {
    "execution": {
     "iopub.execute_input": "2024-03-21T11:39:57.507603Z",
     "iopub.status.busy": "2024-03-21T11:39:57.506774Z",
     "iopub.status.idle": "2024-03-21T11:39:57.513223Z",
     "shell.execute_reply": "2024-03-21T11:39:57.512039Z"
    },
    "papermill": {
     "duration": 0.047261,
     "end_time": "2024-03-21T11:39:57.515617",
     "exception": false,
     "start_time": "2024-03-21T11:39:57.468356",
     "status": "completed"
    },
    "tags": []
   },
   "outputs": [],
   "source": [
    "test_df['Survived'] = (calc_preds(test_indep, coeffs)>0.5).int()"
   ]
  },
  {
   "cell_type": "code",
   "execution_count": 59,
   "id": "ed52bc6a",
   "metadata": {
    "execution": {
     "iopub.execute_input": "2024-03-21T11:39:57.591803Z",
     "iopub.status.busy": "2024-03-21T11:39:57.591001Z",
     "iopub.status.idle": "2024-03-21T11:39:57.602123Z",
     "shell.execute_reply": "2024-03-21T11:39:57.600618Z"
    },
    "papermill": {
     "duration": 0.052654,
     "end_time": "2024-03-21T11:39:57.605006",
     "exception": false,
     "start_time": "2024-03-21T11:39:57.552352",
     "status": "completed"
    },
    "tags": []
   },
   "outputs": [],
   "source": [
    "sub_df = test_df[['PassengerId', 'Survived']]\n",
    "sub_df.to_csv('sub.csv', index = False)"
   ]
  },
  {
   "cell_type": "code",
   "execution_count": 60,
   "id": "e558abc4",
   "metadata": {
    "execution": {
     "iopub.execute_input": "2024-03-21T11:39:57.679910Z",
     "iopub.status.busy": "2024-03-21T11:39:57.678619Z",
     "iopub.status.idle": "2024-03-21T11:39:58.790265Z",
     "shell.execute_reply": "2024-03-21T11:39:58.788616Z"
    },
    "papermill": {
     "duration": 1.152723,
     "end_time": "2024-03-21T11:39:58.793833",
     "exception": false,
     "start_time": "2024-03-21T11:39:57.641110",
     "status": "completed"
    },
    "tags": []
   },
   "outputs": [
    {
     "name": "stdout",
     "output_type": "stream",
     "text": [
      "PassengerId,Survived\r\n",
      "892,0\r\n",
      "893,0\r\n",
      "894,0\r\n",
      "895,0\r\n",
      "896,0\r\n",
      "897,0\r\n",
      "898,1\r\n",
      "899,0\r\n",
      "900,1\r\n"
     ]
    }
   ],
   "source": [
    "!head sub.csv"
   ]
  },
  {
   "cell_type": "markdown",
   "id": "12d90556",
   "metadata": {
    "papermill": {
     "duration": 0.037648,
     "end_time": "2024-03-21T11:39:58.869741",
     "exception": false,
     "start_time": "2024-03-21T11:39:58.832093",
     "status": "completed"
    },
    "tags": []
   },
   "source": [
    "# Using matrix multiplication\n",
    "Why matrix multiplication? We can use multiple sets of parameters and ability to perform the operation on GPU"
   ]
  },
  {
   "cell_type": "code",
   "execution_count": 61,
   "id": "97e0984c",
   "metadata": {
    "execution": {
     "iopub.execute_input": "2024-03-21T11:39:58.949169Z",
     "iopub.status.busy": "2024-03-21T11:39:58.948033Z",
     "iopub.status.idle": "2024-03-21T11:39:58.961101Z",
     "shell.execute_reply": "2024-03-21T11:39:58.960102Z"
    },
    "papermill": {
     "duration": 0.055755,
     "end_time": "2024-03-21T11:39:58.963389",
     "exception": false,
     "start_time": "2024-03-21T11:39:58.907634",
     "status": "completed"
    },
    "tags": []
   },
   "outputs": [
    {
     "data": {
      "text/plain": [
       "tensor([ 22.1141, -30.2821, -28.1549, -19.6869, -20.3803, -20.5681,   8.0241,  15.1430, -36.9090,   7.6186, -37.3447, -28.0859, -36.8184,\n",
       "          5.3086, -37.4433, -16.8453, -17.2593,  15.4162, -20.4547,  -1.7118, -37.1801, -17.0730,  28.2207,  15.0791, -37.1301, -30.0850,\n",
       "         -1.1708, -17.1972, -37.0081,   5.3037,  15.3412,  -1.6341, -37.0766, -37.3090,  21.9898,  -1.3241, -16.8080,  28.5329, -37.1745,\n",
       "         -1.7640, -20.3206, -37.1745, -20.4117,  28.3984, -37.0917,  -1.4698, -36.6093, -37.0650, -30.3131,  -1.5780,  -9.8281, -37.0747,\n",
       "        -37.0533, -37.2336, -20.4656, -20.5898, -30.2817, -37.3746, -37.1124, -37.0589,  -7.4700, -37.2175, -17.5311, -37.1169,  14.8775,\n",
       "        -16.0102, -20.3596, -37.1497, -30.5589,  14.8026, -37.2215,   7.6448, -20.5691, -37.1257, -16.4180, -37.0190, -37.1745, -16.4581,\n",
       "        -20.2561, -20.7920, -19.8429,  28.7201, -37.1594, -37.2048,  14.6230, -11.1232,  -6.9314,  19.7089,  24.2342, -20.3389, -37.3289,\n",
       "        -37.1745,  28.5478, -28.2792,   7.9035, -11.5603, -20.5996,   5.3387,   5.3452, -30.2180, -37.2116,   5.3037, -37.3457, -37.3043,\n",
       "        -16.4609, -20.7323, -37.2499,  15.0849,  -7.1344, -37.4663,  15.2462,  -1.6404, -16.3718,  26.1347, -37.1745,  27.6646,  -1.8016,\n",
       "        -30.2817, -37.5619,  28.4046, -37.1190,  -7.9087, -30.2817,  -1.3851, -28.1551, -16.4753,  -1.6199,  -1.6376, -36.9601, -20.7079,\n",
       "         19.7197, -37.1154,  15.0431,  15.0498,  28.6264, -37.0710, -21.0727, -37.2298, -11.3730,  15.1464, -20.4838,  27.8429, -37.6507,\n",
       "        -30.4473,  -1.6905,  18.5632, -37.4428,   7.7639,  19.4617,   7.1981,  -1.5210,   5.2949,  15.2234, -30.1481, -30.2467, -37.7073,\n",
       "        -37.1745,  -1.5972, -20.5666, -36.9979,  28.4244, -11.3264, -37.0486, -16.3320,  28.1025,  19.4471,  15.3118,  14.8532, -16.6645,\n",
       "        -17.0083,  -1.2106, -36.8944,  19.3611, -37.1257, -37.5931,  19.2328, -16.3666, -36.8132])"
      ]
     },
     "execution_count": 61,
     "metadata": {},
     "output_type": "execute_result"
    }
   ],
   "source": [
    "(val_indep * coeffs).sum(axis=1)"
   ]
  },
  {
   "cell_type": "code",
   "execution_count": 62,
   "id": "069bfef4",
   "metadata": {
    "execution": {
     "iopub.execute_input": "2024-03-21T11:39:59.041083Z",
     "iopub.status.busy": "2024-03-21T11:39:59.040059Z",
     "iopub.status.idle": "2024-03-21T11:39:59.057815Z",
     "shell.execute_reply": "2024-03-21T11:39:59.056126Z"
    },
    "papermill": {
     "duration": 0.060803,
     "end_time": "2024-03-21T11:39:59.061109",
     "exception": false,
     "start_time": "2024-03-21T11:39:59.000306",
     "status": "completed"
    },
    "tags": []
   },
   "outputs": [
    {
     "data": {
      "text/plain": [
       "tensor([ 22.1141, -30.2821, -28.1549, -19.6869, -20.3803, -20.5681,   8.0241,  15.1430, -36.9090,   7.6186, -37.3447, -28.0859, -36.8184,\n",
       "          5.3086, -37.4433, -16.8453, -17.2593,  15.4162, -20.4547,  -1.7118, -37.1801, -17.0730,  28.2207,  15.0791, -37.1301, -30.0850,\n",
       "         -1.1708, -17.1972, -37.0081,   5.3037,  15.3412,  -1.6341, -37.0766, -37.3090,  21.9898,  -1.3241, -16.8080,  28.5329, -37.1745,\n",
       "         -1.7640, -20.3206, -37.1745, -20.4117,  28.3984, -37.0917,  -1.4698, -36.6093, -37.0650, -30.3131,  -1.5780,  -9.8282, -37.0747,\n",
       "        -37.0533, -37.2336, -20.4656, -20.5898, -30.2817, -37.3746, -37.1124, -37.0589,  -7.4700, -37.2175, -17.5311, -37.1169,  14.8775,\n",
       "        -16.0102, -20.3596, -37.1497, -30.5589,  14.8026, -37.2215,   7.6448, -20.5691, -37.1257, -16.4180, -37.0190, -37.1745, -16.4581,\n",
       "        -20.2561, -20.7920, -19.8429,  28.7201, -37.1594, -37.2048,  14.6230, -11.1232,  -6.9314,  19.7089,  24.2342, -20.3389, -37.3289,\n",
       "        -37.1745,  28.5478, -28.2792,   7.9035, -11.5603, -20.5996,   5.3387,   5.3452, -30.2180, -37.2116,   5.3037, -37.3457, -37.3043,\n",
       "        -16.4609, -20.7323, -37.2499,  15.0849,  -7.1344, -37.4663,  15.2462,  -1.6404, -16.3718,  26.1347, -37.1745,  27.6646,  -1.8016,\n",
       "        -30.2817, -37.5619,  28.4046, -37.1190,  -7.9087, -30.2817,  -1.3851, -28.1551, -16.4753,  -1.6199,  -1.6376, -36.9601, -20.7079,\n",
       "         19.7197, -37.1154,  15.0431,  15.0498,  28.6264, -37.0710, -21.0727, -37.2298, -11.3730,  15.1464, -20.4838,  27.8429, -37.6507,\n",
       "        -30.4473,  -1.6905,  18.5632, -37.4428,   7.7639,  19.4617,   7.1981,  -1.5210,   5.2949,  15.2234, -30.1481, -30.2467, -37.7073,\n",
       "        -37.1745,  -1.5972, -20.5666, -36.9979,  28.4244, -11.3264, -37.0486, -16.3320,  28.1025,  19.4471,  15.3118,  14.8532, -16.6645,\n",
       "        -17.0083,  -1.2106, -36.8944,  19.3611, -37.1257, -37.5931,  19.2328, -16.3666, -36.8132])"
      ]
     },
     "execution_count": 62,
     "metadata": {},
     "output_type": "execute_result"
    }
   ],
   "source": [
    "val_indep @ coeffs"
   ]
  },
  {
   "cell_type": "code",
   "execution_count": 63,
   "id": "9f1997b0",
   "metadata": {
    "execution": {
     "iopub.execute_input": "2024-03-21T11:39:59.141614Z",
     "iopub.status.busy": "2024-03-21T11:39:59.140900Z",
     "iopub.status.idle": "2024-03-21T11:39:59.146579Z",
     "shell.execute_reply": "2024-03-21T11:39:59.145268Z"
    },
    "papermill": {
     "duration": 0.049374,
     "end_time": "2024-03-21T11:39:59.149813",
     "exception": false,
     "start_time": "2024-03-21T11:39:59.100439",
     "status": "completed"
    },
    "tags": []
   },
   "outputs": [],
   "source": [
    "def calc_preds(coeffs, indeps): return torch.sigmoid(indeps@coeffs)"
   ]
  },
  {
   "cell_type": "code",
   "execution_count": 64,
   "id": "02d21d40",
   "metadata": {
    "execution": {
     "iopub.execute_input": "2024-03-21T11:39:59.229094Z",
     "iopub.status.busy": "2024-03-21T11:39:59.228626Z",
     "iopub.status.idle": "2024-03-21T11:39:59.234472Z",
     "shell.execute_reply": "2024-03-21T11:39:59.233081Z"
    },
    "papermill": {
     "duration": 0.048255,
     "end_time": "2024-03-21T11:39:59.237138",
     "exception": false,
     "start_time": "2024-03-21T11:39:59.188883",
     "status": "completed"
    },
    "tags": []
   },
   "outputs": [],
   "source": [
    "def init_coeffs(): return (torch.rand(n_coeff, 1) * 0.1).requires_grad_()"
   ]
  },
  {
   "cell_type": "code",
   "execution_count": 65,
   "id": "fe2bc293",
   "metadata": {
    "execution": {
     "iopub.execute_input": "2024-03-21T11:39:59.314034Z",
     "iopub.status.busy": "2024-03-21T11:39:59.312659Z",
     "iopub.status.idle": "2024-03-21T11:39:59.318558Z",
     "shell.execute_reply": "2024-03-21T11:39:59.317619Z"
    },
    "papermill": {
     "duration": 0.046801,
     "end_time": "2024-03-21T11:39:59.321220",
     "exception": false,
     "start_time": "2024-03-21T11:39:59.274419",
     "status": "completed"
    },
    "tags": []
   },
   "outputs": [],
   "source": [
    "# Converting it into Matrix as the prediction would be creating matrix of size [n_Datapoints, 1]\n",
    "# converts the vector into matrix with single column \n",
    "trn_dep = trn_dep[:, None]\n",
    "val_dep = val_dep[:, None]"
   ]
  },
  {
   "cell_type": "code",
   "execution_count": 66,
   "id": "ef0ffe88",
   "metadata": {
    "execution": {
     "iopub.execute_input": "2024-03-21T11:39:59.397369Z",
     "iopub.status.busy": "2024-03-21T11:39:59.396907Z",
     "iopub.status.idle": "2024-03-21T11:39:59.419229Z",
     "shell.execute_reply": "2024-03-21T11:39:59.417697Z"
    },
    "papermill": {
     "duration": 0.065064,
     "end_time": "2024-03-21T11:39:59.423169",
     "exception": false,
     "start_time": "2024-03-21T11:39:59.358105",
     "status": "completed"
    },
    "tags": []
   },
   "outputs": [
    {
     "name": "stdout",
     "output_type": "stream",
     "text": [
      "Epoch Loss: 0.512;\n",
      "Epoch Loss: 0.470;\n",
      "Epoch Loss: 0.394;\n",
      "Epoch Loss: 0.331;\n",
      "Epoch Loss: 0.299;\n",
      "Epoch Loss: 0.280;\n",
      "Epoch Loss: 0.263;\n",
      "Epoch Loss: 0.245;\n",
      "Epoch Loss: 0.229;\n",
      "Epoch Loss: 0.217;\n",
      "Epoch Loss: 0.210;\n",
      "Epoch Loss: 0.206;\n",
      "Epoch Loss: 0.204;\n",
      "Epoch Loss: 0.203;\n",
      "Epoch Loss: 0.203;\n",
      "Epoch Loss: 0.203;\n",
      "Epoch Loss: 0.203;\n",
      "Epoch Loss: 0.203;\n",
      "Epoch Loss: 0.203;\n",
      "Epoch Loss: 0.204;\n",
      "Epoch Loss: 0.203;\n",
      "Epoch Loss: 0.203;\n",
      "Epoch Loss: 0.203;\n",
      "Epoch Loss: 0.202;\n",
      "Epoch Loss: 0.201;\n",
      "Epoch Loss: 0.200;\n",
      "Epoch Loss: 0.199;\n",
      "Epoch Loss: 0.198;\n",
      "Epoch Loss: 0.197;\n",
      "Epoch Loss: 0.196;\n"
     ]
    }
   ],
   "source": [
    "coeffs = train_model(lr=2)"
   ]
  },
  {
   "cell_type": "code",
   "execution_count": 67,
   "id": "22a1fc0c",
   "metadata": {
    "execution": {
     "iopub.execute_input": "2024-03-21T11:39:59.508784Z",
     "iopub.status.busy": "2024-03-21T11:39:59.507696Z",
     "iopub.status.idle": "2024-03-21T11:39:59.516510Z",
     "shell.execute_reply": "2024-03-21T11:39:59.515569Z"
    },
    "papermill": {
     "duration": 0.05556,
     "end_time": "2024-03-21T11:39:59.518699",
     "exception": false,
     "start_time": "2024-03-21T11:39:59.463139",
     "status": "completed"
    },
    "tags": []
   },
   "outputs": [
    {
     "data": {
      "text/plain": [
       "tensor([[ -1.6104],\n",
       "        [ -1.2271],\n",
       "        [ -0.1716],\n",
       "        [  1.8728],\n",
       "        [-19.4328],\n",
       "        [ 16.9538],\n",
       "        [  6.9896],\n",
       "        [  3.7476],\n",
       "        [-13.0004],\n",
       "        [  2.6455],\n",
       "        [  0.9067],\n",
       "        [ -5.9101]], requires_grad=True)"
      ]
     },
     "execution_count": 67,
     "metadata": {},
     "output_type": "execute_result"
    }
   ],
   "source": [
    "coeffs"
   ]
  },
  {
   "cell_type": "markdown",
   "id": "35dab2f2",
   "metadata": {
    "papermill": {
     "duration": 0.037151,
     "end_time": "2024-03-21T11:39:59.594432",
     "exception": false,
     "start_time": "2024-03-21T11:39:59.557281",
     "status": "completed"
    },
    "tags": []
   },
   "source": [
    "Notice the coefficient's shape. It's a Column matrix."
   ]
  },
  {
   "cell_type": "code",
   "execution_count": 68,
   "id": "17559c68",
   "metadata": {
    "execution": {
     "iopub.execute_input": "2024-03-21T11:39:59.672072Z",
     "iopub.status.busy": "2024-03-21T11:39:59.671593Z",
     "iopub.status.idle": "2024-03-21T11:39:59.680606Z",
     "shell.execute_reply": "2024-03-21T11:39:59.679293Z"
    },
    "papermill": {
     "duration": 0.051145,
     "end_time": "2024-03-21T11:39:59.683292",
     "exception": false,
     "start_time": "2024-03-21T11:39:59.632147",
     "status": "completed"
    },
    "tags": []
   },
   "outputs": [
    {
     "data": {
      "text/plain": [
       "tensor(0.8258)"
      ]
     },
     "execution_count": 68,
     "metadata": {},
     "output_type": "execute_result"
    }
   ],
   "source": [
    "acc(coeffs)"
   ]
  },
  {
   "cell_type": "markdown",
   "id": "499a2068",
   "metadata": {
    "papermill": {
     "duration": 0.038011,
     "end_time": "2024-03-21T11:39:59.759780",
     "exception": false,
     "start_time": "2024-03-21T11:39:59.721769",
     "status": "completed"
    },
    "tags": []
   },
   "source": [
    "# A Neural Network"
   ]
  },
  {
   "cell_type": "code",
   "execution_count": 69,
   "id": "b597cda0",
   "metadata": {
    "execution": {
     "iopub.execute_input": "2024-03-21T11:39:59.841133Z",
     "iopub.status.busy": "2024-03-21T11:39:59.839478Z",
     "iopub.status.idle": "2024-03-21T11:39:59.847749Z",
     "shell.execute_reply": "2024-03-21T11:39:59.846397Z"
    },
    "papermill": {
     "duration": 0.05081,
     "end_time": "2024-03-21T11:39:59.850746",
     "exception": false,
     "start_time": "2024-03-21T11:39:59.799936",
     "status": "completed"
    },
    "tags": []
   },
   "outputs": [],
   "source": [
    "# Neural Network with single layer of multiple cells\n",
    "def init_coeffs(n_hidden = 20):\n",
    "    layer1 = (torch.rand(n_coeff, n_hidden)-0.5)/n_hidden\n",
    "    layer2 = torch.rand(n_hidden, 1)-0.3    # Look for better value to center the parameters\n",
    "    const = torch.rand(1)[0]\n",
    "    return layer1.requires_grad_(), layer2.requires_grad_(), const.requires_grad_()"
   ]
  },
  {
   "cell_type": "code",
   "execution_count": 70,
   "id": "a06328ff",
   "metadata": {
    "execution": {
     "iopub.execute_input": "2024-03-21T11:39:59.930561Z",
     "iopub.status.busy": "2024-03-21T11:39:59.930105Z",
     "iopub.status.idle": "2024-03-21T11:39:59.936309Z",
     "shell.execute_reply": "2024-03-21T11:39:59.935142Z"
    },
    "papermill": {
     "duration": 0.049625,
     "end_time": "2024-03-21T11:39:59.938800",
     "exception": false,
     "start_time": "2024-03-21T11:39:59.889175",
     "status": "completed"
    },
    "tags": []
   },
   "outputs": [],
   "source": [
    "import torch.nn.functional as F\n",
    "\n",
    "def calc_preds(coeffs, indeps):\n",
    "    l1, l2, const = coeffs\n",
    "    res = F.relu(indeps @ l1)\n",
    "    res = res@l2 + const\n",
    "    return torch.sigmoid(res)"
   ]
  },
  {
   "cell_type": "code",
   "execution_count": 71,
   "id": "6ff639e7",
   "metadata": {
    "execution": {
     "iopub.execute_input": "2024-03-21T11:40:00.017161Z",
     "iopub.status.busy": "2024-03-21T11:40:00.016514Z",
     "iopub.status.idle": "2024-03-21T11:40:00.021942Z",
     "shell.execute_reply": "2024-03-21T11:40:00.020903Z"
    },
    "papermill": {
     "duration": 0.047624,
     "end_time": "2024-03-21T11:40:00.024474",
     "exception": false,
     "start_time": "2024-03-21T11:39:59.976850",
     "status": "completed"
    },
    "tags": []
   },
   "outputs": [],
   "source": [
    "def update_coeffs(coeffs, lr):\n",
    "    for layer in coeffs: layer.sub_(layer.grad * lr)"
   ]
  },
  {
   "cell_type": "code",
   "execution_count": 72,
   "id": "91574c49",
   "metadata": {
    "execution": {
     "iopub.execute_input": "2024-03-21T11:40:00.103588Z",
     "iopub.status.busy": "2024-03-21T11:40:00.102712Z",
     "iopub.status.idle": "2024-03-21T11:40:00.147248Z",
     "shell.execute_reply": "2024-03-21T11:40:00.145017Z"
    },
    "papermill": {
     "duration": 0.086866,
     "end_time": "2024-03-21T11:40:00.150053",
     "exception": false,
     "start_time": "2024-03-21T11:40:00.063187",
     "status": "completed"
    },
    "tags": []
   },
   "outputs": [
    {
     "name": "stdout",
     "output_type": "stream",
     "text": [
      "Epoch Loss: 0.543;\n",
      "Epoch Loss: 0.532;\n",
      "Epoch Loss: 0.509;\n",
      "Epoch Loss: 0.467;\n",
      "Epoch Loss: 0.396;\n",
      "Epoch Loss: 0.315;\n",
      "Epoch Loss: 0.271;\n",
      "Epoch Loss: 0.239;\n",
      "Epoch Loss: 0.213;\n",
      "Epoch Loss: 0.206;\n",
      "Epoch Loss: 0.208;\n",
      "Epoch Loss: 0.210;\n",
      "Epoch Loss: 0.211;\n",
      "Epoch Loss: 0.209;\n",
      "Epoch Loss: 0.203;\n",
      "Epoch Loss: 0.193;\n",
      "Epoch Loss: 0.192;\n",
      "Epoch Loss: 0.192;\n",
      "Epoch Loss: 0.192;\n",
      "Epoch Loss: 0.192;\n",
      "Epoch Loss: 0.192;\n",
      "Epoch Loss: 0.193;\n",
      "Epoch Loss: 0.194;\n",
      "Epoch Loss: 0.193;\n",
      "Epoch Loss: 0.191;\n",
      "Epoch Loss: 0.191;\n",
      "Epoch Loss: 0.192;\n",
      "Epoch Loss: 0.192;\n",
      "Epoch Loss: 0.192;\n",
      "Epoch Loss: 0.192;\n"
     ]
    }
   ],
   "source": [
    "coeffs = train_model(lr=1.4)"
   ]
  },
  {
   "cell_type": "code",
   "execution_count": 73,
   "id": "49eaa87a",
   "metadata": {
    "execution": {
     "iopub.execute_input": "2024-03-21T11:40:00.228222Z",
     "iopub.status.busy": "2024-03-21T11:40:00.227824Z",
     "iopub.status.idle": "2024-03-21T11:40:00.240694Z",
     "shell.execute_reply": "2024-03-21T11:40:00.239765Z"
    },
    "papermill": {
     "duration": 0.05438,
     "end_time": "2024-03-21T11:40:00.243036",
     "exception": false,
     "start_time": "2024-03-21T11:40:00.188656",
     "status": "completed"
    },
    "tags": []
   },
   "outputs": [
    {
     "data": {
      "text/plain": [
       "(tensor([[     0.8321,     -0.3235,      0.0120,      0.4898,      1.4098,     -0.0942,     -0.3229,      0.4372,     -0.1487,      0.3155,\n",
       "              -0.1961,      0.8454,      0.0215,      0.6140,     -0.0286,      0.3898,      0.9494,     -0.3621,     -0.2740,      1.5423],\n",
       "         [    -0.3615,     -0.0524,     -0.0074,      0.3000,      0.9263,     -0.0182,     -0.0430,     -0.1135,     -0.0013,     -0.2416,\n",
       "              -0.0334,      0.5437,      0.0218,     -0.3337,     -0.0008,      0.2823,     -0.5665,     -0.0160,     -0.0209,      0.9719],\n",
       "         [    -0.1717,     -0.0470,     -0.0065,      0.2022,      0.5837,      0.0059,     -0.0506,     -0.0262,     -0.0188,     -0.0885,\n",
       "              -0.0123,      0.3403,     -0.0077,     -0.1501,      0.0126,      0.1712,     -0.2428,      0.0148,      0.0543,      0.5446],\n",
       "         [     2.0161,     -0.3220,     -0.0234,      0.3654,      1.0250,     -0.0767,     -0.3775,      0.7814,     -0.1559,      0.9301,\n",
       "              -0.2122,      0.6103,      0.0061,      1.5256,     -0.0313,      0.2845,      2.3166,     -0.3336,      0.0203,      1.0740],\n",
       "         [    -2.0906,     -0.9818,     -0.0215,      2.1932,      6.1478,     -0.2072,     -0.9513,     -0.6597,     -0.4323,     -1.1720,\n",
       "              -0.5256,      3.5608,      0.0477,     -1.7842,      0.0151,      1.8248,     -2.6507,     -1.0706,     -1.5653,      6.7041],\n",
       "         [     5.2500,      0.1275,     -0.0163,     -1.0101,     -2.7794,     -0.0242,     -0.0330,      1.7144,      0.0651,      2.6161,\n",
       "              -0.0128,     -1.6461,     -0.0210,      4.1768,     -0.0698,     -0.9142,      6.3059,      0.1085,      0.9781,     -3.1564],\n",
       "         [     2.4371,     -0.0830,     -0.0183,     -0.4608,     -1.0690,     -0.0164,     -0.0394,      1.0641,     -0.0371,      1.0958,\n",
       "              -0.0437,     -0.5652,     -0.0175,      1.8040,     -0.0529,     -0.3238,      2.7921,     -0.0181,      0.4834,     -1.1091],\n",
       "         [     1.5290,     -0.0369,     -0.0095,     -0.2061,     -0.6936,     -0.0365,     -0.0070,      0.7931,     -0.0391,      0.9118,\n",
       "              -0.0842,     -0.4183,      0.0117,      1.2781,     -0.0222,     -0.2336,      1.8922,     -0.0169,     -0.0249,     -0.7789],\n",
       "         [    -0.8224,     -0.6863,     -0.0165,      1.8615,      5.1687,     -0.1940,     -0.8963,     -0.7417,     -0.3112,     -0.5535,\n",
       "              -0.4115,      2.9262,     -0.0232,     -0.7103,     -0.0185,      1.4766,     -1.0190,     -0.9379,     -1.0830,      5.3608],\n",
       "         [     1.3148,     -0.0452,      0.0135,     -0.1405,      0.0790,     -0.0265,     -0.1159,      0.4061,     -0.3053,      0.7960,\n",
       "              -0.0393,      0.0053,      0.0080,      1.1171,     -0.0567,     -0.0072,      1.9731,     -0.1313,      0.4456,      0.0698],\n",
       "         [     1.0139,     -0.0503,     -0.0240,     -0.1366,     -0.4375,     -0.0374,     -0.1123,      0.1662,     -0.0347,      0.2656,\n",
       "              -0.0280,     -0.2574,     -0.0051,      0.7023,     -0.0149,     -0.1438,      1.0639,     -0.0247,     -0.0243,     -0.5218],\n",
       "         [     0.8174,     -0.7481,     -0.0215,      1.4909,      3.7354,     -0.1775,     -0.7542,      0.5135,     -0.0519,      0.3561,\n",
       "              -0.4373,      2.2123,     -0.0195,      0.5535,     -0.0376,      1.0652,      0.6466,     -0.8693,     -0.9835,      3.9715]],\n",
       "        requires_grad=True),\n",
       " tensor([[ 3.1412],\n",
       "         [ 0.2006],\n",
       "         [ 0.0943],\n",
       "         [-2.4763],\n",
       "         [-6.9412],\n",
       "         [ 0.0236],\n",
       "         [ 0.3154],\n",
       "         [ 0.8530],\n",
       "         [ 0.5719],\n",
       "         [ 1.9109],\n",
       "         [-0.0129],\n",
       "         [-4.1344],\n",
       "         [-0.0762],\n",
       "         [ 3.0643],\n",
       "         [-0.1436],\n",
       "         [-2.2884],\n",
       "         [ 4.4082],\n",
       "         [ 0.6166],\n",
       "         [ 0.5378],\n",
       "         [-7.6217]], requires_grad=True),\n",
       " tensor(-9.1683, requires_grad=True))"
      ]
     },
     "execution_count": 73,
     "metadata": {},
     "output_type": "execute_result"
    }
   ],
   "source": [
    "coeffs"
   ]
  },
  {
   "cell_type": "markdown",
   "id": "0ada5f56",
   "metadata": {
    "papermill": {
     "duration": 0.037244,
     "end_time": "2024-03-21T11:40:00.317842",
     "exception": false,
     "start_time": "2024-03-21T11:40:00.280598",
     "status": "completed"
    },
    "tags": []
   },
   "source": [
    "Notice the sets of coefficients. \\\n",
    "In Set 1: We have created 20 coefficient for each of the column parameter and the coefficient have been arranged in the shape of **[12, 20]** \\\n",
    "In Set 2: We have created 1 coefficient for each of the previous 20 cells and the coefficient have been arranged in the shape of **[20, 1]** \\\n",
    "When we multiply the sets of coefficient through matrix multiplication we get our predictions.\\\n",
    "**Input: 12 Output: 1**"
   ]
  },
  {
   "cell_type": "code",
   "execution_count": 74,
   "id": "0407a16b",
   "metadata": {
    "execution": {
     "iopub.execute_input": "2024-03-21T11:40:00.395794Z",
     "iopub.status.busy": "2024-03-21T11:40:00.394935Z",
     "iopub.status.idle": "2024-03-21T11:40:00.402790Z",
     "shell.execute_reply": "2024-03-21T11:40:00.401903Z"
    },
    "papermill": {
     "duration": 0.049699,
     "end_time": "2024-03-21T11:40:00.405066",
     "exception": false,
     "start_time": "2024-03-21T11:40:00.355367",
     "status": "completed"
    },
    "tags": []
   },
   "outputs": [
    {
     "data": {
      "text/plain": [
       "tensor(0.8258)"
      ]
     },
     "execution_count": 74,
     "metadata": {},
     "output_type": "execute_result"
    }
   ],
   "source": [
    "acc(coeffs)"
   ]
  },
  {
   "cell_type": "markdown",
   "id": "54ff57da",
   "metadata": {
    "papermill": {
     "duration": 0.037741,
     "end_time": "2024-03-21T11:40:00.480374",
     "exception": false,
     "start_time": "2024-03-21T11:40:00.442633",
     "status": "completed"
    },
    "tags": []
   },
   "source": [
    "# DeepLearning\n",
    "Working with multiple hidden layers of neural cells"
   ]
  },
  {
   "cell_type": "markdown",
   "id": "e439d6ab",
   "metadata": {
    "papermill": {
     "duration": 0.037164,
     "end_time": "2024-03-21T11:40:00.556684",
     "exception": false,
     "start_time": "2024-03-21T11:40:00.519520",
     "status": "completed"
    },
    "tags": []
   },
   "source": [
    "> Visualizing the coefficient according to the layers"
   ]
  },
  {
   "cell_type": "code",
   "execution_count": 75,
   "id": "c50fe97b",
   "metadata": {
    "execution": {
     "iopub.execute_input": "2024-03-21T11:40:00.634200Z",
     "iopub.status.busy": "2024-03-21T11:40:00.633681Z",
     "iopub.status.idle": "2024-03-21T11:40:00.651097Z",
     "shell.execute_reply": "2024-03-21T11:40:00.649821Z"
    },
    "papermill": {
     "duration": 0.059624,
     "end_time": "2024-03-21T11:40:00.653677",
     "exception": false,
     "start_time": "2024-03-21T11:40:00.594053",
     "status": "completed"
    },
    "tags": []
   },
   "outputs": [
    {
     "data": {
      "text/plain": [
       "([tensor([[-0.0685,  0.2426, -0.1043,  0.0533,  0.1500,  0.1536,  0.1492,  0.1182, -0.1168,  0.0637],\n",
       "          [-0.0255,  0.2642,  0.2118,  0.1957,  0.2773, -0.0710,  0.2311,  0.0271,  0.0988,  0.1142],\n",
       "          [ 0.1665, -0.0186, -0.1042,  0.2017,  0.2416,  0.0691, -0.1193,  0.0703,  0.2274,  0.0700],\n",
       "          [ 0.2566, -0.0206,  0.2244, -0.0731, -0.0640, -0.0964, -0.0475,  0.1735,  0.2540,  0.0470],\n",
       "          [-0.0217,  0.2591,  0.1502,  0.0102,  0.0380,  0.0990, -0.0107, -0.0782,  0.0202,  0.2351],\n",
       "          [-0.1076,  0.1800,  0.0171, -0.0406,  0.0467,  0.1412,  0.0260, -0.0600,  0.1383,  0.1068],\n",
       "          [-0.0934, -0.0971,  0.1067,  0.0533, -0.0486, -0.0513,  0.2125,  0.2588, -0.0882, -0.0181],\n",
       "          [ 0.0284,  0.1302,  0.2407,  0.2606, -0.0419,  0.1625, -0.0413, -0.0247,  0.2374, -0.0759],\n",
       "          [ 0.0263,  0.0653,  0.2536,  0.1766,  0.1567,  0.0611,  0.0334,  0.0085,  0.1101, -0.1192],\n",
       "          [ 0.1532,  0.1689,  0.2031, -0.0874,  0.0709,  0.1456,  0.1401, -0.0423,  0.2354, -0.1014],\n",
       "          [-0.0752,  0.0432, -0.0347,  0.1793, -0.0290,  0.0208,  0.0413,  0.2698,  0.2292, -0.0234],\n",
       "          [-0.0093,  0.1191,  0.2133,  0.1856,  0.2746,  0.0255,  0.0857, -0.0859,  0.0500,  0.2271]], requires_grad=True),\n",
       "  tensor([[ 0.0232, -0.1075,  0.0576,  0.0401, -0.0939,  0.1562,  0.0592,  0.2483,  0.1155, -0.0463],\n",
       "          [-0.0900,  0.0395,  0.0418,  0.0289,  0.2037,  0.2774,  0.0944,  0.1583,  0.1908, -0.0693],\n",
       "          [ 0.0337,  0.0683,  0.2637,  0.2399, -0.0141,  0.0956, -0.0936,  0.1392,  0.1497,  0.0898],\n",
       "          [ 0.1492,  0.1418,  0.1292,  0.2385, -0.0960, -0.0384,  0.1298,  0.1436,  0.2281,  0.1121],\n",
       "          [ 0.1570, -0.0284, -0.0957,  0.1100, -0.1042, -0.0060,  0.0691,  0.2315, -0.0167,  0.1021],\n",
       "          [ 0.1036,  0.0025,  0.2529, -0.0354, -0.1044,  0.1983,  0.0834, -0.0129,  0.2354,  0.2569],\n",
       "          [ 0.2130,  0.1720, -0.1102,  0.1067,  0.2405, -0.0767,  0.2610,  0.0551, -0.1040, -0.0780],\n",
       "          [ 0.1218,  0.0284,  0.0763,  0.0375,  0.0098,  0.0357,  0.1140,  0.0510,  0.0131, -0.0233],\n",
       "          [ 0.0393, -0.0067,  0.1221, -0.0907,  0.1259,  0.0450, -0.0425,  0.2720,  0.2376,  0.1827],\n",
       "          [ 0.0611,  0.0939,  0.0559,  0.1149,  0.1303,  0.1157,  0.1294, -0.1004, -0.0150,  0.2628]], requires_grad=True),\n",
       "  tensor([[ 0.9301],\n",
       "          [-0.1915],\n",
       "          [ 1.6787],\n",
       "          [ 0.6758],\n",
       "          [ 1.0036],\n",
       "          [-0.2635],\n",
       "          [ 0.0263],\n",
       "          [ 1.1262],\n",
       "          [ 0.4875],\n",
       "          [ 1.4524]], requires_grad=True)],\n",
       " [tensor(0.0204, requires_grad=True),\n",
       "  tensor(0.0491, requires_grad=True),\n",
       "  tensor(0.0097, requires_grad=True)])"
      ]
     },
     "execution_count": 75,
     "metadata": {},
     "output_type": "execute_result"
    }
   ],
   "source": [
    "def init_coeffs():\n",
    "    hiddens = [10, 10]  #Size and structure of the the Neural Network\n",
    "    sizes = [n_coeff] + hiddens + [1]  #Addition of elements in the LIST\n",
    "    n = len(sizes)\n",
    "    layers = [(torch.rand(sizes[i], sizes[i+1])-0.3)/sizes[i+1]*4 for i in range(n-1)]\n",
    "    consts = [(torch.rand(1)[0] - 0.5) * 0.1 for i in range(n-1)]\n",
    "    for l in layers+consts: l.requires_grad_()\n",
    "    return layers, consts\n",
    "init_coeffs()"
   ]
  },
  {
   "cell_type": "code",
   "execution_count": 76,
   "id": "2c567a08",
   "metadata": {
    "execution": {
     "iopub.execute_input": "2024-03-21T11:40:00.732330Z",
     "iopub.status.busy": "2024-03-21T11:40:00.731822Z",
     "iopub.status.idle": "2024-03-21T11:40:00.739824Z",
     "shell.execute_reply": "2024-03-21T11:40:00.738459Z"
    },
    "papermill": {
     "duration": 0.050741,
     "end_time": "2024-03-21T11:40:00.742369",
     "exception": false,
     "start_time": "2024-03-21T11:40:00.691628",
     "status": "completed"
    },
    "tags": []
   },
   "outputs": [],
   "source": [
    "import torch.nn.functional as F\n",
    "\n",
    "def calc_preds(coeffs, indeps):\n",
    "    layers, const = coeffs\n",
    "    n = len(layers)\n",
    "    res = indeps\n",
    "    \n",
    "    # Forward propogation\n",
    "    for i, l in enumerate(layers):\n",
    "        res = res@l + const[i]\n",
    "        if i!=n-1: res = F.relu(res) # Setting non linearity (Relu) for the last layer\n",
    "    return torch.sigmoid(res)   # Setting non linearity (Sigmoid) for the last layer "
   ]
  },
  {
   "cell_type": "code",
   "execution_count": 77,
   "id": "5d4891f7",
   "metadata": {
    "execution": {
     "iopub.execute_input": "2024-03-21T11:40:00.823361Z",
     "iopub.status.busy": "2024-03-21T11:40:00.822854Z",
     "iopub.status.idle": "2024-03-21T11:40:00.829260Z",
     "shell.execute_reply": "2024-03-21T11:40:00.827953Z"
    },
    "papermill": {
     "duration": 0.051881,
     "end_time": "2024-03-21T11:40:00.831917",
     "exception": false,
     "start_time": "2024-03-21T11:40:00.780036",
     "status": "completed"
    },
    "tags": []
   },
   "outputs": [],
   "source": [
    "def update_coeffs(coeffs, lr):\n",
    "    layers, consts = coeffs\n",
    "    for layer in layers+consts: layer.sub_(layer.grad * lr)"
   ]
  },
  {
   "cell_type": "code",
   "execution_count": 78,
   "id": "6332cb67",
   "metadata": {
    "execution": {
     "iopub.execute_input": "2024-03-21T11:40:00.911334Z",
     "iopub.status.busy": "2024-03-21T11:40:00.910819Z",
     "iopub.status.idle": "2024-03-21T11:40:00.947237Z",
     "shell.execute_reply": "2024-03-21T11:40:00.945181Z"
    },
    "papermill": {
     "duration": 0.079375,
     "end_time": "2024-03-21T11:40:00.949944",
     "exception": false,
     "start_time": "2024-03-21T11:40:00.870569",
     "status": "completed"
    },
    "tags": []
   },
   "outputs": [
    {
     "name": "stdout",
     "output_type": "stream",
     "text": [
      "Epoch Loss: 0.521;\n",
      "Epoch Loss: 0.462;\n",
      "Epoch Loss: 0.377;\n",
      "Epoch Loss: 0.370;\n",
      "Epoch Loss: 0.371;\n",
      "Epoch Loss: 0.350;\n",
      "Epoch Loss: 0.290;\n",
      "Epoch Loss: 0.196;\n",
      "Epoch Loss: 0.220;\n",
      "Epoch Loss: 0.223;\n",
      "Epoch Loss: 0.221;\n",
      "Epoch Loss: 0.218;\n",
      "Epoch Loss: 0.219;\n",
      "Epoch Loss: 0.218;\n",
      "Epoch Loss: 0.215;\n",
      "Epoch Loss: 0.214;\n",
      "Epoch Loss: 0.211;\n",
      "Epoch Loss: 0.201;\n",
      "Epoch Loss: 0.197;\n",
      "Epoch Loss: 0.199;\n",
      "Epoch Loss: 0.197;\n",
      "Epoch Loss: 0.194;\n",
      "Epoch Loss: 0.192;\n",
      "Epoch Loss: 0.192;\n",
      "Epoch Loss: 0.191;\n",
      "Epoch Loss: 0.191;\n",
      "Epoch Loss: 0.191;\n",
      "Epoch Loss: 0.190;\n",
      "Epoch Loss: 0.191;\n",
      "Epoch Loss: 0.192;\n"
     ]
    }
   ],
   "source": [
    "coeffs = train_model(lr = 1.4)"
   ]
  },
  {
   "cell_type": "code",
   "execution_count": 79,
   "id": "89f19c4b",
   "metadata": {
    "execution": {
     "iopub.execute_input": "2024-03-21T11:40:01.032209Z",
     "iopub.status.busy": "2024-03-21T11:40:01.030915Z",
     "iopub.status.idle": "2024-03-21T11:40:01.039988Z",
     "shell.execute_reply": "2024-03-21T11:40:01.038704Z"
    },
    "papermill": {
     "duration": 0.0527,
     "end_time": "2024-03-21T11:40:01.042604",
     "exception": false,
     "start_time": "2024-03-21T11:40:00.989904",
     "status": "completed"
    },
    "tags": []
   },
   "outputs": [
    {
     "data": {
      "text/plain": [
       "tensor(0.8258)"
      ]
     },
     "execution_count": 79,
     "metadata": {},
     "output_type": "execute_result"
    }
   ],
   "source": [
    "acc(coeffs)"
   ]
  },
  {
   "cell_type": "code",
   "execution_count": null,
   "id": "f0a1e295",
   "metadata": {
    "papermill": {
     "duration": 0.038619,
     "end_time": "2024-03-21T11:40:01.121980",
     "exception": false,
     "start_time": "2024-03-21T11:40:01.083361",
     "status": "completed"
    },
    "tags": []
   },
   "outputs": [],
   "source": []
  }
 ],
 "metadata": {
  "kaggle": {
   "accelerator": "none",
   "dataSources": [
    {
     "databundleVersionId": 26502,
     "sourceId": 3136,
     "sourceType": "competition"
    }
   ],
   "dockerImageVersionId": 30664,
   "isGpuEnabled": false,
   "isInternetEnabled": true,
   "language": "python",
   "sourceType": "notebook"
  },
  "kernelspec": {
   "display_name": "Python 3",
   "language": "python",
   "name": "python3"
  },
  "language_info": {
   "codemirror_mode": {
    "name": "ipython",
    "version": 3
   },
   "file_extension": ".py",
   "mimetype": "text/x-python",
   "name": "python",
   "nbconvert_exporter": "python",
   "pygments_lexer": "ipython3",
   "version": "3.10.13"
  },
  "papermill": {
   "default_parameters": {},
   "duration": 24.925215,
   "end_time": "2024-03-21T11:40:02.586920",
   "environment_variables": {},
   "exception": null,
   "input_path": "__notebook__.ipynb",
   "output_path": "__notebook__.ipynb",
   "parameters": {},
   "start_time": "2024-03-21T11:39:37.661705",
   "version": "2.5.0"
  }
 },
 "nbformat": 4,
 "nbformat_minor": 5
}
