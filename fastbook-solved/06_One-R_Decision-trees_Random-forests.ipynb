{
 "cells": [
  {
   "cell_type": "code",
   "execution_count": 1,
   "id": "45ac6d48",
   "metadata": {
    "_cell_guid": "b1076dfc-b9ad-4769-8c92-a6c4dae69d19",
    "_uuid": "8f2839f25d086af736a60e9eeb907d3b93b6e0e5",
    "execution": {
     "iopub.execute_input": "2024-03-27T18:38:03.009370Z",
     "iopub.status.busy": "2024-03-27T18:38:03.008608Z",
     "iopub.status.idle": "2024-03-27T18:38:03.961379Z",
     "shell.execute_reply": "2024-03-27T18:38:03.959927Z"
    },
    "papermill": {
     "duration": 0.981398,
     "end_time": "2024-03-27T18:38:03.965727",
     "exception": false,
     "start_time": "2024-03-27T18:38:02.984329",
     "status": "completed"
    },
    "tags": []
   },
   "outputs": [
    {
     "name": "stdout",
     "output_type": "stream",
     "text": [
      "/kaggle/input/titanic/train.csv\n",
      "/kaggle/input/titanic/test.csv\n",
      "/kaggle/input/titanic/gender_submission.csv\n"
     ]
    }
   ],
   "source": [
    "# This Python 3 environment comes with many helpful analytics libraries installed\n",
    "# It is defined by the kaggle/python Docker image: https://github.com/kaggle/docker-python\n",
    "# For example, here's several helpful packages to load\n",
    "\n",
    "import numpy as np # linear algebra\n",
    "import pandas as pd # data processing, CSV file I/O (e.g. pd.read_csv)\n",
    "\n",
    "# Input data files are available in the read-only \"../input/\" directory\n",
    "# For example, running this (by clicking run or pressing Shift+Enter) will list all files under the input directory\n",
    "\n",
    "import os\n",
    "for dirname, _, filenames in os.walk('/kaggle/input'):\n",
    "    for filename in filenames:\n",
    "        print(os.path.join(dirname, filename))\n",
    "\n",
    "# You can write up to 20GB to the current directory (/kaggle/working/) that gets preserved as output when you create a version using \"Save & Run All\" \n",
    "# You can also write temporary files to /kaggle/temp/, but they won't be saved outside of the current session"
   ]
  },
  {
   "cell_type": "markdown",
   "id": "8d71b7e9",
   "metadata": {
    "papermill": {
     "duration": 0.021682,
     "end_time": "2024-03-27T18:38:04.012833",
     "exception": false,
     "start_time": "2024-03-27T18:38:03.991151",
     "status": "completed"
    },
    "tags": []
   },
   "source": [
    "Notebook Inspired by Jeremy Howard's 'How random forests really work?'"
   ]
  },
  {
   "cell_type": "markdown",
   "id": "9061f4ed",
   "metadata": {
    "papermill": {
     "duration": 0.02123,
     "end_time": "2024-03-27T18:38:04.058052",
     "exception": false,
     "start_time": "2024-03-27T18:38:04.036822",
     "status": "completed"
    },
    "tags": []
   },
   "source": [
    "# Introduction\n",
    "Tabular Data Problem statements observe good results by using ensemble of Decision Trees, Such as Random forests and Gradient Boosting Machines."
   ]
  },
  {
   "cell_type": "code",
   "execution_count": 2,
   "id": "b7ee8a34",
   "metadata": {
    "execution": {
     "iopub.execute_input": "2024-03-27T18:38:04.103612Z",
     "iopub.status.busy": "2024-03-27T18:38:04.103028Z",
     "iopub.status.idle": "2024-03-27T18:38:04.613490Z",
     "shell.execute_reply": "2024-03-27T18:38:04.612351Z"
    },
    "papermill": {
     "duration": 0.537351,
     "end_time": "2024-03-27T18:38:04.616791",
     "exception": false,
     "start_time": "2024-03-27T18:38:04.079440",
     "status": "completed"
    },
    "tags": []
   },
   "outputs": [],
   "source": [
    "# Importing basic set of libraries\n",
    "from fastai.imports import *\n",
    "np.set_printoptions(linewidth=130)"
   ]
  },
  {
   "cell_type": "markdown",
   "id": "49d31e99",
   "metadata": {
    "papermill": {
     "duration": 0.022088,
     "end_time": "2024-03-27T18:38:04.660366",
     "exception": false,
     "start_time": "2024-03-27T18:38:04.638278",
     "status": "completed"
    },
    "tags": []
   },
   "source": [
    "## Data Preprocessing"
   ]
  },
  {
   "cell_type": "code",
   "execution_count": 3,
   "id": "98b4918c",
   "metadata": {
    "execution": {
     "iopub.execute_input": "2024-03-27T18:38:04.706031Z",
     "iopub.status.busy": "2024-03-27T18:38:04.704857Z",
     "iopub.status.idle": "2024-03-27T18:38:04.755969Z",
     "shell.execute_reply": "2024-03-27T18:38:04.754737Z"
    },
    "papermill": {
     "duration": 0.077108,
     "end_time": "2024-03-27T18:38:04.758848",
     "exception": false,
     "start_time": "2024-03-27T18:38:04.681740",
     "status": "completed"
    },
    "tags": []
   },
   "outputs": [],
   "source": [
    "import os\n",
    "isKaggle= os.environ.get('KAGGLE_KERNEL_RUN_TYPE')\n",
    "\n",
    "if isKaggle: path = Path('../input/titanic')\n",
    "else:\n",
    "    import zipfile, kaggle\n",
    "    path = Path('titanic')\n",
    "    kaggle.api.competition_download_cli(str(path))\n",
    "    zipfile.ZipFile(f'{path}.zip').extractall(path)\n",
    "    \n",
    "df = pd.read_csv(path/'train.csv')\n",
    "test_df = pd.read_csv(path/'test.csv')\n",
    "modes = df.mode().iloc[0]"
   ]
  },
  {
   "cell_type": "code",
   "execution_count": 4,
   "id": "6b4ed94d",
   "metadata": {
    "execution": {
     "iopub.execute_input": "2024-03-27T18:38:04.804208Z",
     "iopub.status.busy": "2024-03-27T18:38:04.803739Z",
     "iopub.status.idle": "2024-03-27T18:38:04.813795Z",
     "shell.execute_reply": "2024-03-27T18:38:04.812613Z"
    },
    "papermill": {
     "duration": 0.03595,
     "end_time": "2024-03-27T18:38:04.816437",
     "exception": false,
     "start_time": "2024-03-27T18:38:04.780487",
     "status": "completed"
    },
    "tags": []
   },
   "outputs": [
    {
     "data": {
      "text/plain": [
       "PassengerId                      1\n",
       "Survived                       0.0\n",
       "Pclass                         3.0\n",
       "Name           Abbing, Mr. Anthony\n",
       "Sex                           male\n",
       "Age                           24.0\n",
       "SibSp                          0.0\n",
       "Parch                          0.0\n",
       "Ticket                        1601\n",
       "Fare                          8.05\n",
       "Cabin                      B96 B98\n",
       "Embarked                         S\n",
       "Name: 0, dtype: object"
      ]
     },
     "execution_count": 4,
     "metadata": {},
     "output_type": "execute_result"
    }
   ],
   "source": [
    "modes"
   ]
  },
  {
   "cell_type": "code",
   "execution_count": 5,
   "id": "b7ada4a5",
   "metadata": {
    "execution": {
     "iopub.execute_input": "2024-03-27T18:38:04.862708Z",
     "iopub.status.busy": "2024-03-27T18:38:04.861988Z",
     "iopub.status.idle": "2024-03-27T18:38:04.869132Z",
     "shell.execute_reply": "2024-03-27T18:38:04.867918Z"
    },
    "papermill": {
     "duration": 0.033281,
     "end_time": "2024-03-27T18:38:04.871591",
     "exception": false,
     "start_time": "2024-03-27T18:38:04.838310",
     "status": "completed"
    },
    "tags": []
   },
   "outputs": [
    {
     "data": {
      "text/plain": [
       "RangeIndex(start=0, stop=891, step=1)"
      ]
     },
     "execution_count": 5,
     "metadata": {},
     "output_type": "execute_result"
    }
   ],
   "source": [
    "df.index"
   ]
  },
  {
   "cell_type": "markdown",
   "id": "93b5379d",
   "metadata": {
    "papermill": {
     "duration": 0.020968,
     "end_time": "2024-03-27T18:38:04.915234",
     "exception": false,
     "start_time": "2024-03-27T18:38:04.894266",
     "status": "completed"
    },
    "tags": []
   },
   "source": [
    "In Random Forests, we don't generally require to create dummy variables like we did for non-numeric columns(Categorical) in the linear models and neural network.\n",
    "\n",
    "We can convert those fields to Pandas Categorical variables, which internally in Pandas makes a list of all unique values in the column and replaces each value with a number. The number is just an index for looking up the value in the list of all unique values\n"
   ]
  },
  {
   "cell_type": "code",
   "execution_count": 6,
   "id": "5f20e854",
   "metadata": {
    "execution": {
     "iopub.execute_input": "2024-03-27T18:38:04.960768Z",
     "iopub.status.busy": "2024-03-27T18:38:04.960336Z",
     "iopub.status.idle": "2024-03-27T18:38:04.987193Z",
     "shell.execute_reply": "2024-03-27T18:38:04.986204Z"
    },
    "papermill": {
     "duration": 0.052972,
     "end_time": "2024-03-27T18:38:04.989863",
     "exception": false,
     "start_time": "2024-03-27T18:38:04.936891",
     "status": "completed"
    },
    "tags": []
   },
   "outputs": [],
   "source": [
    "def proc_data(df):\n",
    "    df['Fare'] = df.Fare.fillna(0)\n",
    "    df.fillna(modes, inplace=True)\n",
    "    df['LogFare'] = np.log1p(df.Fare)\n",
    "    df['Embarked'] = pd.Categorical(df.Embarked)\n",
    "    df['Sex'] = pd.Categorical(df.Sex)\n",
    "    \n",
    "proc_data(df)\n",
    "proc_data(test_df)"
   ]
  },
  {
   "cell_type": "code",
   "execution_count": 7,
   "id": "bffdc78a",
   "metadata": {
    "execution": {
     "iopub.execute_input": "2024-03-27T18:38:05.036151Z",
     "iopub.status.busy": "2024-03-27T18:38:05.035741Z",
     "iopub.status.idle": "2024-03-27T18:38:05.058944Z",
     "shell.execute_reply": "2024-03-27T18:38:05.057811Z"
    },
    "papermill": {
     "duration": 0.049962,
     "end_time": "2024-03-27T18:38:05.061393",
     "exception": false,
     "start_time": "2024-03-27T18:38:05.011431",
     "status": "completed"
    },
    "tags": []
   },
   "outputs": [
    {
     "data": {
      "text/html": [
       "<div>\n",
       "<style scoped>\n",
       "    .dataframe tbody tr th:only-of-type {\n",
       "        vertical-align: middle;\n",
       "    }\n",
       "\n",
       "    .dataframe tbody tr th {\n",
       "        vertical-align: top;\n",
       "    }\n",
       "\n",
       "    .dataframe thead th {\n",
       "        text-align: right;\n",
       "    }\n",
       "</style>\n",
       "<table border=\"1\" class=\"dataframe\">\n",
       "  <thead>\n",
       "    <tr style=\"text-align: right;\">\n",
       "      <th></th>\n",
       "      <th>PassengerId</th>\n",
       "      <th>Pclass</th>\n",
       "      <th>Name</th>\n",
       "      <th>Sex</th>\n",
       "      <th>Age</th>\n",
       "      <th>SibSp</th>\n",
       "      <th>Parch</th>\n",
       "      <th>Ticket</th>\n",
       "      <th>Fare</th>\n",
       "      <th>Cabin</th>\n",
       "      <th>Embarked</th>\n",
       "      <th>LogFare</th>\n",
       "    </tr>\n",
       "  </thead>\n",
       "  <tbody>\n",
       "    <tr>\n",
       "      <th>0</th>\n",
       "      <td>892</td>\n",
       "      <td>3</td>\n",
       "      <td>Kelly, Mr. James</td>\n",
       "      <td>male</td>\n",
       "      <td>34.5</td>\n",
       "      <td>0</td>\n",
       "      <td>0</td>\n",
       "      <td>330911</td>\n",
       "      <td>7.8292</td>\n",
       "      <td>B96 B98</td>\n",
       "      <td>Q</td>\n",
       "      <td>2.178064</td>\n",
       "    </tr>\n",
       "    <tr>\n",
       "      <th>1</th>\n",
       "      <td>893</td>\n",
       "      <td>3</td>\n",
       "      <td>Wilkes, Mrs. James (Ellen Needs)</td>\n",
       "      <td>female</td>\n",
       "      <td>47.0</td>\n",
       "      <td>1</td>\n",
       "      <td>0</td>\n",
       "      <td>363272</td>\n",
       "      <td>7.0000</td>\n",
       "      <td>B96 B98</td>\n",
       "      <td>S</td>\n",
       "      <td>2.079442</td>\n",
       "    </tr>\n",
       "    <tr>\n",
       "      <th>2</th>\n",
       "      <td>894</td>\n",
       "      <td>2</td>\n",
       "      <td>Myles, Mr. Thomas Francis</td>\n",
       "      <td>male</td>\n",
       "      <td>62.0</td>\n",
       "      <td>0</td>\n",
       "      <td>0</td>\n",
       "      <td>240276</td>\n",
       "      <td>9.6875</td>\n",
       "      <td>B96 B98</td>\n",
       "      <td>Q</td>\n",
       "      <td>2.369075</td>\n",
       "    </tr>\n",
       "    <tr>\n",
       "      <th>3</th>\n",
       "      <td>895</td>\n",
       "      <td>3</td>\n",
       "      <td>Wirz, Mr. Albert</td>\n",
       "      <td>male</td>\n",
       "      <td>27.0</td>\n",
       "      <td>0</td>\n",
       "      <td>0</td>\n",
       "      <td>315154</td>\n",
       "      <td>8.6625</td>\n",
       "      <td>B96 B98</td>\n",
       "      <td>S</td>\n",
       "      <td>2.268252</td>\n",
       "    </tr>\n",
       "    <tr>\n",
       "      <th>4</th>\n",
       "      <td>896</td>\n",
       "      <td>3</td>\n",
       "      <td>Hirvonen, Mrs. Alexander (Helga E Lindqvist)</td>\n",
       "      <td>female</td>\n",
       "      <td>22.0</td>\n",
       "      <td>1</td>\n",
       "      <td>1</td>\n",
       "      <td>3101298</td>\n",
       "      <td>12.2875</td>\n",
       "      <td>B96 B98</td>\n",
       "      <td>S</td>\n",
       "      <td>2.586824</td>\n",
       "    </tr>\n",
       "  </tbody>\n",
       "</table>\n",
       "</div>"
      ],
      "text/plain": [
       "   PassengerId  Pclass                                          Name     Sex  \\\n",
       "0          892       3                              Kelly, Mr. James    male   \n",
       "1          893       3              Wilkes, Mrs. James (Ellen Needs)  female   \n",
       "2          894       2                     Myles, Mr. Thomas Francis    male   \n",
       "3          895       3                              Wirz, Mr. Albert    male   \n",
       "4          896       3  Hirvonen, Mrs. Alexander (Helga E Lindqvist)  female   \n",
       "\n",
       "    Age  SibSp  Parch   Ticket     Fare    Cabin Embarked   LogFare  \n",
       "0  34.5      0      0   330911   7.8292  B96 B98        Q  2.178064  \n",
       "1  47.0      1      0   363272   7.0000  B96 B98        S  2.079442  \n",
       "2  62.0      0      0   240276   9.6875  B96 B98        Q  2.369075  \n",
       "3  27.0      0      0   315154   8.6625  B96 B98        S  2.268252  \n",
       "4  22.0      1      1  3101298  12.2875  B96 B98        S  2.586824  "
      ]
     },
     "execution_count": 7,
     "metadata": {},
     "output_type": "execute_result"
    }
   ],
   "source": [
    "test_df.head()"
   ]
  },
  {
   "cell_type": "code",
   "execution_count": 8,
   "id": "d0269ab4",
   "metadata": {
    "execution": {
     "iopub.execute_input": "2024-03-27T18:38:05.108070Z",
     "iopub.status.busy": "2024-03-27T18:38:05.107659Z",
     "iopub.status.idle": "2024-03-27T18:38:05.128133Z",
     "shell.execute_reply": "2024-03-27T18:38:05.126984Z"
    },
    "papermill": {
     "duration": 0.047055,
     "end_time": "2024-03-27T18:38:05.130605",
     "exception": false,
     "start_time": "2024-03-27T18:38:05.083550",
     "status": "completed"
    },
    "tags": []
   },
   "outputs": [
    {
     "data": {
      "text/html": [
       "<div>\n",
       "<style scoped>\n",
       "    .dataframe tbody tr th:only-of-type {\n",
       "        vertical-align: middle;\n",
       "    }\n",
       "\n",
       "    .dataframe tbody tr th {\n",
       "        vertical-align: top;\n",
       "    }\n",
       "\n",
       "    .dataframe thead th {\n",
       "        text-align: right;\n",
       "    }\n",
       "</style>\n",
       "<table border=\"1\" class=\"dataframe\">\n",
       "  <thead>\n",
       "    <tr style=\"text-align: right;\">\n",
       "      <th></th>\n",
       "      <th>PassengerId</th>\n",
       "      <th>Survived</th>\n",
       "      <th>Pclass</th>\n",
       "      <th>Name</th>\n",
       "      <th>Sex</th>\n",
       "      <th>Age</th>\n",
       "      <th>SibSp</th>\n",
       "      <th>Parch</th>\n",
       "      <th>Ticket</th>\n",
       "      <th>Fare</th>\n",
       "      <th>Cabin</th>\n",
       "      <th>Embarked</th>\n",
       "      <th>LogFare</th>\n",
       "    </tr>\n",
       "  </thead>\n",
       "  <tbody>\n",
       "    <tr>\n",
       "      <th>0</th>\n",
       "      <td>1</td>\n",
       "      <td>0</td>\n",
       "      <td>3</td>\n",
       "      <td>Braund, Mr. Owen Harris</td>\n",
       "      <td>male</td>\n",
       "      <td>22.0</td>\n",
       "      <td>1</td>\n",
       "      <td>0</td>\n",
       "      <td>A/5 21171</td>\n",
       "      <td>7.2500</td>\n",
       "      <td>B96 B98</td>\n",
       "      <td>S</td>\n",
       "      <td>2.110213</td>\n",
       "    </tr>\n",
       "    <tr>\n",
       "      <th>1</th>\n",
       "      <td>2</td>\n",
       "      <td>1</td>\n",
       "      <td>1</td>\n",
       "      <td>Cumings, Mrs. John Bradley (Florence Briggs Thayer)</td>\n",
       "      <td>female</td>\n",
       "      <td>38.0</td>\n",
       "      <td>1</td>\n",
       "      <td>0</td>\n",
       "      <td>PC 17599</td>\n",
       "      <td>71.2833</td>\n",
       "      <td>C85</td>\n",
       "      <td>C</td>\n",
       "      <td>4.280593</td>\n",
       "    </tr>\n",
       "    <tr>\n",
       "      <th>2</th>\n",
       "      <td>3</td>\n",
       "      <td>1</td>\n",
       "      <td>3</td>\n",
       "      <td>Heikkinen, Miss. Laina</td>\n",
       "      <td>female</td>\n",
       "      <td>26.0</td>\n",
       "      <td>0</td>\n",
       "      <td>0</td>\n",
       "      <td>STON/O2. 3101282</td>\n",
       "      <td>7.9250</td>\n",
       "      <td>B96 B98</td>\n",
       "      <td>S</td>\n",
       "      <td>2.188856</td>\n",
       "    </tr>\n",
       "    <tr>\n",
       "      <th>3</th>\n",
       "      <td>4</td>\n",
       "      <td>1</td>\n",
       "      <td>1</td>\n",
       "      <td>Futrelle, Mrs. Jacques Heath (Lily May Peel)</td>\n",
       "      <td>female</td>\n",
       "      <td>35.0</td>\n",
       "      <td>1</td>\n",
       "      <td>0</td>\n",
       "      <td>113803</td>\n",
       "      <td>53.1000</td>\n",
       "      <td>C123</td>\n",
       "      <td>S</td>\n",
       "      <td>3.990834</td>\n",
       "    </tr>\n",
       "    <tr>\n",
       "      <th>4</th>\n",
       "      <td>5</td>\n",
       "      <td>0</td>\n",
       "      <td>3</td>\n",
       "      <td>Allen, Mr. William Henry</td>\n",
       "      <td>male</td>\n",
       "      <td>35.0</td>\n",
       "      <td>0</td>\n",
       "      <td>0</td>\n",
       "      <td>373450</td>\n",
       "      <td>8.0500</td>\n",
       "      <td>B96 B98</td>\n",
       "      <td>S</td>\n",
       "      <td>2.202765</td>\n",
       "    </tr>\n",
       "  </tbody>\n",
       "</table>\n",
       "</div>"
      ],
      "text/plain": [
       "   PassengerId  Survived  Pclass  \\\n",
       "0            1         0       3   \n",
       "1            2         1       1   \n",
       "2            3         1       3   \n",
       "3            4         1       1   \n",
       "4            5         0       3   \n",
       "\n",
       "                                                  Name     Sex   Age  SibSp  \\\n",
       "0                              Braund, Mr. Owen Harris    male  22.0      1   \n",
       "1  Cumings, Mrs. John Bradley (Florence Briggs Thayer)  female  38.0      1   \n",
       "2                               Heikkinen, Miss. Laina  female  26.0      0   \n",
       "3         Futrelle, Mrs. Jacques Heath (Lily May Peel)  female  35.0      1   \n",
       "4                             Allen, Mr. William Henry    male  35.0      0   \n",
       "\n",
       "   Parch            Ticket     Fare    Cabin Embarked   LogFare  \n",
       "0      0         A/5 21171   7.2500  B96 B98        S  2.110213  \n",
       "1      0          PC 17599  71.2833      C85        C  4.280593  \n",
       "2      0  STON/O2. 3101282   7.9250  B96 B98        S  2.188856  \n",
       "3      0            113803  53.1000     C123        S  3.990834  \n",
       "4      0            373450   8.0500  B96 B98        S  2.202765  "
      ]
     },
     "execution_count": 8,
     "metadata": {},
     "output_type": "execute_result"
    }
   ],
   "source": [
    "df.head()"
   ]
  },
  {
   "cell_type": "markdown",
   "id": "21dd1bca",
   "metadata": {
    "papermill": {
     "duration": 0.021952,
     "end_time": "2024-03-27T18:38:05.175122",
     "exception": false,
     "start_time": "2024-03-27T18:38:05.153170",
     "status": "completed"
    },
    "tags": []
   },
   "source": [
    "We'll make a list of the continous, categorical and dependent variables. \n",
    "- we don't consider Pclass a categorical variable. That's because it's ordered(1,2 and 3)\n",
    "- And decision trees only care about ordered values not the absolute values"
   ]
  },
  {
   "cell_type": "code",
   "execution_count": 9,
   "id": "86b7c955",
   "metadata": {
    "execution": {
     "iopub.execute_input": "2024-03-27T18:38:05.222704Z",
     "iopub.status.busy": "2024-03-27T18:38:05.222039Z",
     "iopub.status.idle": "2024-03-27T18:38:05.226622Z",
     "shell.execute_reply": "2024-03-27T18:38:05.225754Z"
    },
    "papermill": {
     "duration": 0.031273,
     "end_time": "2024-03-27T18:38:05.228821",
     "exception": false,
     "start_time": "2024-03-27T18:38:05.197548",
     "status": "completed"
    },
    "tags": []
   },
   "outputs": [],
   "source": [
    "cats = [\"Sex\", \"Embarked\"]\n",
    "conts = [\"Age\", \"SibSp\", \"Parch\", \"LogFare\", \"Pclass\"]\n",
    "dep = \"Survived\""
   ]
  },
  {
   "cell_type": "code",
   "execution_count": 10,
   "id": "c0196b1d",
   "metadata": {
    "execution": {
     "iopub.execute_input": "2024-03-27T18:38:05.276629Z",
     "iopub.status.busy": "2024-03-27T18:38:05.275976Z",
     "iopub.status.idle": "2024-03-27T18:38:05.283856Z",
     "shell.execute_reply": "2024-03-27T18:38:05.282744Z"
    },
    "papermill": {
     "duration": 0.034135,
     "end_time": "2024-03-27T18:38:05.285993",
     "exception": false,
     "start_time": "2024-03-27T18:38:05.251858",
     "status": "completed"
    },
    "tags": []
   },
   "outputs": [
    {
     "data": {
      "text/plain": [
       "0      male\n",
       "1    female\n",
       "2    female\n",
       "3    female\n",
       "4      male\n",
       "Name: Sex, dtype: category\n",
       "Categories (2, object): ['female', 'male']"
      ]
     },
     "execution_count": 10,
     "metadata": {},
     "output_type": "execute_result"
    }
   ],
   "source": [
    "df.Sex.head()"
   ]
  },
  {
   "cell_type": "code",
   "execution_count": 11,
   "id": "f0a9eefc",
   "metadata": {
    "execution": {
     "iopub.execute_input": "2024-03-27T18:38:05.334145Z",
     "iopub.status.busy": "2024-03-27T18:38:05.333483Z",
     "iopub.status.idle": "2024-03-27T18:38:05.340775Z",
     "shell.execute_reply": "2024-03-27T18:38:05.339960Z"
    },
    "papermill": {
     "duration": 0.034221,
     "end_time": "2024-03-27T18:38:05.342938",
     "exception": false,
     "start_time": "2024-03-27T18:38:05.308717",
     "status": "completed"
    },
    "tags": []
   },
   "outputs": [
    {
     "data": {
      "text/plain": [
       "0    1\n",
       "1    0\n",
       "2    0\n",
       "3    0\n",
       "4    1\n",
       "dtype: int8"
      ]
     },
     "execution_count": 11,
     "metadata": {},
     "output_type": "execute_result"
    }
   ],
   "source": [
    "df.Sex.cat.codes.head()"
   ]
  },
  {
   "cell_type": "markdown",
   "id": "a4959f99",
   "metadata": {
    "papermill": {
     "duration": 0.022603,
     "end_time": "2024-03-27T18:38:05.388356",
     "exception": false,
     "start_time": "2024-03-27T18:38:05.365753",
     "status": "completed"
    },
    "tags": []
   },
   "source": [
    "- \"Sex\" column is still shown as categorical column in padas.\n",
    "- However, bts they're now stored as integers, with indices that are looked up in the categories code list shown above(df.Sex.cat.codes)  "
   ]
  },
  {
   "cell_type": "markdown",
   "id": "85bfe827",
   "metadata": {
    "execution": {
     "iopub.execute_input": "2024-03-26T16:56:39.480409Z",
     "iopub.status.busy": "2024-03-26T16:56:39.479964Z",
     "iopub.status.idle": "2024-03-26T16:56:39.485596Z",
     "shell.execute_reply": "2024-03-26T16:56:39.484371Z",
     "shell.execute_reply.started": "2024-03-26T16:56:39.480375Z"
    },
    "papermill": {
     "duration": 0.02229,
     "end_time": "2024-03-27T18:38:05.433413",
     "exception": false,
     "start_time": "2024-03-27T18:38:05.411123",
     "status": "completed"
    },
    "tags": []
   },
   "source": [
    "# Binary Split/One R\n",
    "- Fragmented unit of Decision tree later Random Forest or Gradient Boosting Machine\n",
    "\n",
    "Blueprint\n",
    "- All rows are split into one of two groups\n",
    "- based on whether they are above/below some threshold of some column\n",
    "- Eg: Splitting rows of dataset based on the column 'Sex' by using threshold 0.5\n",
    "\n",
    "Visualizing using Seaborn library"
   ]
  },
  {
   "cell_type": "code",
   "execution_count": 12,
   "id": "5b90c819",
   "metadata": {
    "execution": {
     "iopub.execute_input": "2024-03-27T18:38:05.481089Z",
     "iopub.status.busy": "2024-03-27T18:38:05.480649Z",
     "iopub.status.idle": "2024-03-27T18:38:07.198847Z",
     "shell.execute_reply": "2024-03-27T18:38:07.197684Z"
    },
    "papermill": {
     "duration": 1.745433,
     "end_time": "2024-03-27T18:38:07.201846",
     "exception": false,
     "start_time": "2024-03-27T18:38:05.456413",
     "status": "completed"
    },
    "tags": []
   },
   "outputs": [
    {
     "name": "stderr",
     "output_type": "stream",
     "text": [
      "/opt/conda/lib/python3.10/site-packages/seaborn/categorical.py:641: FutureWarning: The default of observed=False is deprecated and will be changed to True in a future version of pandas. Pass observed=False to retain current behavior or observed=True to adopt the future default and silence this warning.\n",
      "  grouped_vals = vals.groupby(grouper)\n"
     ]
    },
    {
     "data": {
      "image/png": "[encoded data removed]",
      "text/plain": [
       "<Figure size 1100x500 with 2 Axes>"
      ]
     },
     "metadata": {},
     "output_type": "display_data"
    }
   ],
   "source": [
    "import seaborn as sns\n",
    "\n",
    "fig, axs = plt.subplots(1,2, figsize=(11, 5))\n",
    "sns.barplot(data=df, y=dep, x='Sex', ax=axs[0]).set(title=\"Survival Rate\")\n",
    "sns.countplot(data=df, x=\"Sex\", ax=axs[1]).set(title=\"Histogram\");"
   ]
  },
  {
   "cell_type": "markdown",
   "id": "f88465d9",
   "metadata": {
    "papermill": {
     "duration": 0.023193,
     "end_time": "2024-03-27T18:38:07.248587",
     "exception": false,
     "start_time": "2024-03-27T18:38:07.225394",
     "status": "completed"
    },
    "tags": []
   },
   "source": [
    "- Splitting data by Gender is giving quite a good ratios in terms of the survival rate and the number of female/male in the group\n",
    "\n",
    "- We could create a model which simply says that all female survive and no males do."
   ]
  },
  {
   "cell_type": "code",
   "execution_count": 13,
   "id": "b1e0167e",
   "metadata": {
    "execution": {
     "iopub.execute_input": "2024-03-27T18:38:07.376327Z",
     "iopub.status.busy": "2024-03-27T18:38:07.375576Z",
     "iopub.status.idle": "2024-03-27T18:38:07.661564Z",
     "shell.execute_reply": "2024-03-27T18:38:07.660357Z"
    },
    "papermill": {
     "duration": 0.393268,
     "end_time": "2024-03-27T18:38:07.665324",
     "exception": false,
     "start_time": "2024-03-27T18:38:07.272056",
     "status": "completed"
    },
    "tags": []
   },
   "outputs": [],
   "source": [
    "from numpy import random\n",
    "from sklearn.model_selection import train_test_split\n",
    "\n",
    "random.seed(42)\n",
    "trn_df,val_df = train_test_split(df, test_size=0.25)\n",
    "# Replacing the categorical values with the codes\n",
    "trn_df[cats] = trn_df[cats].apply(lambda x: x.cat.codes)\n",
    "val_df[cats] = val_df[cats].apply(lambda x: x.cat.codes)"
   ]
  },
  {
   "cell_type": "code",
   "execution_count": 14,
   "id": "e7a75139",
   "metadata": {
    "execution": {
     "iopub.execute_input": "2024-03-27T18:38:07.718222Z",
     "iopub.status.busy": "2024-03-27T18:38:07.717373Z",
     "iopub.status.idle": "2024-03-27T18:38:07.736359Z",
     "shell.execute_reply": "2024-03-27T18:38:07.735564Z"
    },
    "papermill": {
     "duration": 0.047126,
     "end_time": "2024-03-27T18:38:07.738539",
     "exception": false,
     "start_time": "2024-03-27T18:38:07.691413",
     "status": "completed"
    },
    "tags": []
   },
   "outputs": [
    {
     "data": {
      "text/html": [
       "<div>\n",
       "<style scoped>\n",
       "    .dataframe tbody tr th:only-of-type {\n",
       "        vertical-align: middle;\n",
       "    }\n",
       "\n",
       "    .dataframe tbody tr th {\n",
       "        vertical-align: top;\n",
       "    }\n",
       "\n",
       "    .dataframe thead th {\n",
       "        text-align: right;\n",
       "    }\n",
       "</style>\n",
       "<table border=\"1\" class=\"dataframe\">\n",
       "  <thead>\n",
       "    <tr style=\"text-align: right;\">\n",
       "      <th></th>\n",
       "      <th>PassengerId</th>\n",
       "      <th>Survived</th>\n",
       "      <th>Pclass</th>\n",
       "      <th>Name</th>\n",
       "      <th>Sex</th>\n",
       "      <th>Age</th>\n",
       "      <th>SibSp</th>\n",
       "      <th>Parch</th>\n",
       "      <th>Ticket</th>\n",
       "      <th>Fare</th>\n",
       "      <th>Cabin</th>\n",
       "      <th>Embarked</th>\n",
       "      <th>LogFare</th>\n",
       "    </tr>\n",
       "  </thead>\n",
       "  <tbody>\n",
       "    <tr>\n",
       "      <th>298</th>\n",
       "      <td>299</td>\n",
       "      <td>1</td>\n",
       "      <td>1</td>\n",
       "      <td>Saalfeld, Mr. Adolphe</td>\n",
       "      <td>1</td>\n",
       "      <td>24.00</td>\n",
       "      <td>0</td>\n",
       "      <td>0</td>\n",
       "      <td>19988</td>\n",
       "      <td>30.5000</td>\n",
       "      <td>C106</td>\n",
       "      <td>2</td>\n",
       "      <td>3.449988</td>\n",
       "    </tr>\n",
       "    <tr>\n",
       "      <th>884</th>\n",
       "      <td>885</td>\n",
       "      <td>0</td>\n",
       "      <td>3</td>\n",
       "      <td>Sutehall, Mr. Henry Jr</td>\n",
       "      <td>1</td>\n",
       "      <td>25.00</td>\n",
       "      <td>0</td>\n",
       "      <td>0</td>\n",
       "      <td>SOTON/OQ 392076</td>\n",
       "      <td>7.0500</td>\n",
       "      <td>B96 B98</td>\n",
       "      <td>2</td>\n",
       "      <td>2.085672</td>\n",
       "    </tr>\n",
       "    <tr>\n",
       "      <th>247</th>\n",
       "      <td>248</td>\n",
       "      <td>1</td>\n",
       "      <td>2</td>\n",
       "      <td>Hamalainen, Mrs. William (Anna)</td>\n",
       "      <td>0</td>\n",
       "      <td>24.00</td>\n",
       "      <td>0</td>\n",
       "      <td>2</td>\n",
       "      <td>250649</td>\n",
       "      <td>14.5000</td>\n",
       "      <td>B96 B98</td>\n",
       "      <td>2</td>\n",
       "      <td>2.740840</td>\n",
       "    </tr>\n",
       "    <tr>\n",
       "      <th>478</th>\n",
       "      <td>479</td>\n",
       "      <td>0</td>\n",
       "      <td>3</td>\n",
       "      <td>Karlsson, Mr. Nils August</td>\n",
       "      <td>1</td>\n",
       "      <td>22.00</td>\n",
       "      <td>0</td>\n",
       "      <td>0</td>\n",
       "      <td>350060</td>\n",
       "      <td>7.5208</td>\n",
       "      <td>B96 B98</td>\n",
       "      <td>2</td>\n",
       "      <td>2.142510</td>\n",
       "    </tr>\n",
       "    <tr>\n",
       "      <th>305</th>\n",
       "      <td>306</td>\n",
       "      <td>1</td>\n",
       "      <td>1</td>\n",
       "      <td>Allison, Master. Hudson Trevor</td>\n",
       "      <td>1</td>\n",
       "      <td>0.92</td>\n",
       "      <td>1</td>\n",
       "      <td>2</td>\n",
       "      <td>113781</td>\n",
       "      <td>151.5500</td>\n",
       "      <td>C22 C26</td>\n",
       "      <td>2</td>\n",
       "      <td>5.027492</td>\n",
       "    </tr>\n",
       "  </tbody>\n",
       "</table>\n",
       "</div>"
      ],
      "text/plain": [
       "     PassengerId  Survived  Pclass                             Name  Sex  \\\n",
       "298          299         1       1            Saalfeld, Mr. Adolphe    1   \n",
       "884          885         0       3           Sutehall, Mr. Henry Jr    1   \n",
       "247          248         1       2  Hamalainen, Mrs. William (Anna)    0   \n",
       "478          479         0       3        Karlsson, Mr. Nils August    1   \n",
       "305          306         1       1   Allison, Master. Hudson Trevor    1   \n",
       "\n",
       "       Age  SibSp  Parch           Ticket      Fare    Cabin  Embarked  \\\n",
       "298  24.00      0      0            19988   30.5000     C106         2   \n",
       "884  25.00      0      0  SOTON/OQ 392076    7.0500  B96 B98         2   \n",
       "247  24.00      0      2           250649   14.5000  B96 B98         2   \n",
       "478  22.00      0      0           350060    7.5208  B96 B98         2   \n",
       "305   0.92      1      2           113781  151.5500  C22 C26         2   \n",
       "\n",
       "      LogFare  \n",
       "298  3.449988  \n",
       "884  2.085672  \n",
       "247  2.740840  \n",
       "478  2.142510  \n",
       "305  5.027492  "
      ]
     },
     "execution_count": 14,
     "metadata": {},
     "output_type": "execute_result"
    }
   ],
   "source": [
    "trn_df.head()"
   ]
  },
  {
   "cell_type": "code",
   "execution_count": 15,
   "id": "f059c622",
   "metadata": {
    "execution": {
     "iopub.execute_input": "2024-03-27T18:38:07.797250Z",
     "iopub.status.busy": "2024-03-27T18:38:07.796135Z",
     "iopub.status.idle": "2024-03-27T18:38:07.809616Z",
     "shell.execute_reply": "2024-03-27T18:38:07.808723Z"
    },
    "papermill": {
     "duration": 0.045946,
     "end_time": "2024-03-27T18:38:07.812783",
     "exception": false,
     "start_time": "2024-03-27T18:38:07.766837",
     "status": "completed"
    },
    "tags": []
   },
   "outputs": [],
   "source": [
    "# Creating independent variable 'x' and dependent variable 'y'\n",
    "def xs_y(df):\n",
    "    xs = df[cats + conts].copy()\n",
    "    return xs, df[dep] if dep in df else None\n",
    "\n",
    "trn_xs, trn_y = xs_y(trn_df)\n",
    "val_xs, val_y = xs_y(val_df)"
   ]
  },
  {
   "cell_type": "markdown",
   "id": "969ec330",
   "metadata": {
    "papermill": {
     "duration": 0.023426,
     "end_time": "2024-03-27T18:38:07.866595",
     "exception": false,
     "start_time": "2024-03-27T18:38:07.843169",
     "status": "completed"
    },
    "tags": []
   },
   "source": [
    "### Making prediction"
   ]
  },
  {
   "cell_type": "code",
   "execution_count": 16,
   "id": "2dbe1203",
   "metadata": {
    "execution": {
     "iopub.execute_input": "2024-03-27T18:38:07.917468Z",
     "iopub.status.busy": "2024-03-27T18:38:07.916696Z",
     "iopub.status.idle": "2024-03-27T18:38:07.922250Z",
     "shell.execute_reply": "2024-03-27T18:38:07.921434Z"
    },
    "papermill": {
     "duration": 0.033942,
     "end_time": "2024-03-27T18:38:07.924434",
     "exception": false,
     "start_time": "2024-03-27T18:38:07.890492",
     "status": "completed"
    },
    "tags": []
   },
   "outputs": [],
   "source": [
    "preds = val_xs.Sex == 0"
   ]
  },
  {
   "cell_type": "code",
   "execution_count": 17,
   "id": "80e6255e",
   "metadata": {
    "execution": {
     "iopub.execute_input": "2024-03-27T18:38:07.974483Z",
     "iopub.status.busy": "2024-03-27T18:38:07.973774Z",
     "iopub.status.idle": "2024-03-27T18:38:07.980916Z",
     "shell.execute_reply": "2024-03-27T18:38:07.979999Z"
    },
    "papermill": {
     "duration": 0.034784,
     "end_time": "2024-03-27T18:38:07.982978",
     "exception": false,
     "start_time": "2024-03-27T18:38:07.948194",
     "status": "completed"
    },
    "tags": []
   },
   "outputs": [
    {
     "data": {
      "text/plain": [
       "0.21524663677130046"
      ]
     },
     "execution_count": 17,
     "metadata": {},
     "output_type": "execute_result"
    }
   ],
   "source": [
    "# Measuring Accuracy with mean absolute error\n",
    "from sklearn.metrics import mean_absolute_error\n",
    "mean_absolute_error(val_y, preds)"
   ]
  },
  {
   "cell_type": "markdown",
   "id": "2dfeda8a",
   "metadata": {
    "papermill": {
     "duration": 0.024341,
     "end_time": "2024-03-27T18:38:08.031192",
     "exception": false,
     "start_time": "2024-03-27T18:38:08.006851",
     "status": "completed"
    },
    "tags": []
   },
   "source": [
    "### Alternative (LogFare Based Split)\n",
    "- We can try splitting continous column like LogFare"
   ]
  },
  {
   "cell_type": "code",
   "execution_count": 18,
   "id": "f1181517",
   "metadata": {
    "execution": {
     "iopub.execute_input": "2024-03-27T18:38:08.085383Z",
     "iopub.status.busy": "2024-03-27T18:38:08.083997Z",
     "iopub.status.idle": "2024-03-27T18:38:08.094274Z",
     "shell.execute_reply": "2024-03-27T18:38:08.092544Z"
    },
    "papermill": {
     "duration": 0.040675,
     "end_time": "2024-03-27T18:38:08.096759",
     "exception": false,
     "start_time": "2024-03-27T18:38:08.056084",
     "status": "completed"
    },
    "tags": []
   },
   "outputs": [
    {
     "data": {
      "text/plain": [
       "655"
      ]
     },
     "execution_count": 18,
     "metadata": {},
     "output_type": "execute_result"
    }
   ],
   "source": [
    "df_fare = trn_df[trn_df.LogFare>0]\n",
    "len(df_fare.index)"
   ]
  },
  {
   "cell_type": "code",
   "execution_count": 19,
   "id": "aad3d2d5",
   "metadata": {
    "execution": {
     "iopub.execute_input": "2024-03-27T18:38:08.149682Z",
     "iopub.status.busy": "2024-03-27T18:38:08.148595Z",
     "iopub.status.idle": "2024-03-27T18:38:08.677429Z",
     "shell.execute_reply": "2024-03-27T18:38:08.676227Z"
    },
    "papermill": {
     "duration": 0.557856,
     "end_time": "2024-03-27T18:38:08.680299",
     "exception": false,
     "start_time": "2024-03-27T18:38:08.122443",
     "status": "completed"
    },
    "tags": []
   },
   "outputs": [
    {
     "name": "stderr",
     "output_type": "stream",
     "text": [
      "/opt/conda/lib/python3.10/site-packages/seaborn/categorical.py:1794: FutureWarning: use_inf_as_na option is deprecated and will be removed in a future version. Convert inf values to NaN before operating instead.\n",
      "  with pd.option_context('mode.use_inf_as_na', True):\n",
      "/opt/conda/lib/python3.10/site-packages/seaborn/categorical.py:1794: FutureWarning: use_inf_as_na option is deprecated and will be removed in a future version. Convert inf values to NaN before operating instead.\n",
      "  with pd.option_context('mode.use_inf_as_na', True):\n",
      "/opt/conda/lib/python3.10/site-packages/seaborn/_oldcore.py:1119: FutureWarning: use_inf_as_na option is deprecated and will be removed in a future version. Convert inf values to NaN before operating instead.\n",
      "  with pd.option_context('mode.use_inf_as_na', True):\n"
     ]
    },
    {
     "data": {
      "text/plain": [
       "<Axes: xlabel='LogFare', ylabel='Density'>"
      ]
     },
     "execution_count": 19,
     "metadata": {},
     "output_type": "execute_result"
    },
    {
     "data": {
      "image/png": "[encoded data removed]",
      "text/plain": [
       "<Figure size 1100x500 with 2 Axes>"
      ]
     },
     "metadata": {},
     "output_type": "display_data"
    }
   ],
   "source": [
    "fig, axs = plt.subplots(1,2, figsize=(11,5))\n",
    "sns.boxenplot(data=df_fare, x=dep, y='LogFare', ax=axs[0])\n",
    "sns.kdeplot(data=df_fare, x='LogFare', ax=axs[1])"
   ]
  },
  {
   "cell_type": "markdown",
   "id": "73ae1bcc",
   "metadata": {
    "papermill": {
     "duration": 0.024563,
     "end_time": "2024-03-27T18:38:08.729816",
     "exception": false,
     "start_time": "2024-03-27T18:38:08.705253",
     "status": "completed"
    },
    "tags": []
   },
   "source": [
    "The boxenplot above shows quantiles of LogFare for each group of Survived==0 and Survived==1. It shows that the average LogFare for passengers that didn't survive is around 2.5, and for those that did it's around 3.2. So it seems that people that paid more for their tickets were more likely to get put on a lifeboat."
   ]
  },
  {
   "cell_type": "code",
   "execution_count": 20,
   "id": "e141b0e3",
   "metadata": {
    "execution": {
     "iopub.execute_input": "2024-03-27T18:38:08.783067Z",
     "iopub.status.busy": "2024-03-27T18:38:08.781849Z",
     "iopub.status.idle": "2024-03-27T18:38:08.788132Z",
     "shell.execute_reply": "2024-03-27T18:38:08.787260Z"
    },
    "papermill": {
     "duration": 0.03586,
     "end_time": "2024-03-27T18:38:08.790822",
     "exception": false,
     "start_time": "2024-03-27T18:38:08.754962",
     "status": "completed"
    },
    "tags": []
   },
   "outputs": [],
   "source": [
    "preds= val_xs.LogFare>2.7"
   ]
  },
  {
   "cell_type": "code",
   "execution_count": 21,
   "id": "473ec748",
   "metadata": {
    "execution": {
     "iopub.execute_input": "2024-03-27T18:38:08.843186Z",
     "iopub.status.busy": "2024-03-27T18:38:08.842464Z",
     "iopub.status.idle": "2024-03-27T18:38:08.849308Z",
     "shell.execute_reply": "2024-03-27T18:38:08.848379Z"
    },
    "papermill": {
     "duration": 0.035559,
     "end_time": "2024-03-27T18:38:08.851363",
     "exception": false,
     "start_time": "2024-03-27T18:38:08.815804",
     "status": "completed"
    },
    "tags": []
   },
   "outputs": [
    {
     "data": {
      "text/plain": [
       "0.336322869955157"
      ]
     },
     "execution_count": 21,
     "metadata": {},
     "output_type": "execute_result"
    }
   ],
   "source": [
    "mean_absolute_error(val_y, preds)"
   ]
  },
  {
   "cell_type": "markdown",
   "id": "62ef8ae5",
   "metadata": {
    "papermill": {
     "duration": 0.024631,
     "end_time": "2024-03-27T18:38:08.901324",
     "exception": false,
     "start_time": "2024-03-27T18:38:08.876693",
     "status": "completed"
    },
    "tags": []
   },
   "source": [
    "- Less accurate then 'Sex' based split prediction\n",
    "\n",
    "- We'd like someway to try more columns and breakpoints more easily. \n",
    "- We could create a function that returns how good our model is, so we can try more splits.\n",
    "\n",
    "- `Score` function wouold be used to do this, Instead of MAE we'll calculate measure of Impurity\n",
    "\n",
    "**Measure of Impurity:** How much the binary split creates two groups where the rows in a group are each similar to each other, or dissimilar.\n",
    "\n",
    "> We can measure the similarity of rows inside the group by taking the Standard Deviation of the Dependent Variable\\\n",
    "If Higher than rows are diversed and vice versa\n",
    "We'll then multiply this by the number of rows, since a bigger group as more impact than a smaller group:"
   ]
  },
  {
   "cell_type": "code",
   "execution_count": 22,
   "id": "4047f0c2",
   "metadata": {
    "execution": {
     "iopub.execute_input": "2024-03-27T18:38:08.953580Z",
     "iopub.status.busy": "2024-03-27T18:38:08.952569Z",
     "iopub.status.idle": "2024-03-27T18:38:08.957849Z",
     "shell.execute_reply": "2024-03-27T18:38:08.957010Z"
    },
    "papermill": {
     "duration": 0.034219,
     "end_time": "2024-03-27T18:38:08.960119",
     "exception": false,
     "start_time": "2024-03-27T18:38:08.925900",
     "status": "completed"
    },
    "tags": []
   },
   "outputs": [],
   "source": [
    "def _side_score(side, y):\n",
    "    tot = side.sum()\n",
    "    if tot<=1: return 0\n",
    "    return y[side].std()*tot"
   ]
  },
  {
   "cell_type": "markdown",
   "id": "c227655a",
   "metadata": {
    "papermill": {
     "duration": 0.026711,
     "end_time": "2024-03-27T18:38:09.012388",
     "exception": false,
     "start_time": "2024-03-27T18:38:08.985677",
     "status": "completed"
    },
    "tags": []
   },
   "source": [
    "Now we can calculate the score for a split by adding up the scores for the LHS and RHS"
   ]
  },
  {
   "cell_type": "code",
   "execution_count": 23,
   "id": "92781d98",
   "metadata": {
    "execution": {
     "iopub.execute_input": "2024-03-27T18:38:09.066387Z",
     "iopub.status.busy": "2024-03-27T18:38:09.065748Z",
     "iopub.status.idle": "2024-03-27T18:38:09.070533Z",
     "shell.execute_reply": "2024-03-27T18:38:09.069708Z"
    },
    "papermill": {
     "duration": 0.034431,
     "end_time": "2024-03-27T18:38:09.072790",
     "exception": false,
     "start_time": "2024-03-27T18:38:09.038359",
     "status": "completed"
    },
    "tags": []
   },
   "outputs": [],
   "source": [
    "def score(col, y, split):\n",
    "    lhs = col<=split\n",
    "    return (_side_score(lhs, y) + _side_score(~lhs,y))/len(y)"
   ]
  },
  {
   "cell_type": "code",
   "execution_count": 24,
   "id": "22d725ea",
   "metadata": {
    "execution": {
     "iopub.execute_input": "2024-03-27T18:38:09.127665Z",
     "iopub.status.busy": "2024-03-27T18:38:09.127005Z",
     "iopub.status.idle": "2024-03-27T18:38:09.134223Z",
     "shell.execute_reply": "2024-03-27T18:38:09.133454Z"
    },
    "papermill": {
     "duration": 0.03727,
     "end_time": "2024-03-27T18:38:09.136323",
     "exception": false,
     "start_time": "2024-03-27T18:38:09.099053",
     "status": "completed"
    },
    "tags": []
   },
   "outputs": [
    {
     "data": {
      "text/plain": [
       "0.40787530982063946"
      ]
     },
     "execution_count": 24,
     "metadata": {},
     "output_type": "execute_result"
    }
   ],
   "source": [
    "# For eg. Score of the impurity\n",
    "score(trn_xs['Sex'], trn_y, 0.5)"
   ]
  },
  {
   "cell_type": "code",
   "execution_count": 25,
   "id": "fcadbf29",
   "metadata": {
    "execution": {
     "iopub.execute_input": "2024-03-27T18:38:09.188925Z",
     "iopub.status.busy": "2024-03-27T18:38:09.188295Z",
     "iopub.status.idle": "2024-03-27T18:38:09.196563Z",
     "shell.execute_reply": "2024-03-27T18:38:09.195509Z"
    },
    "papermill": {
     "duration": 0.037381,
     "end_time": "2024-03-27T18:38:09.198711",
     "exception": false,
     "start_time": "2024-03-27T18:38:09.161330",
     "status": "completed"
    },
    "tags": []
   },
   "outputs": [
    {
     "data": {
      "text/plain": [
       "0.47180873952099694"
      ]
     },
     "execution_count": 25,
     "metadata": {},
     "output_type": "execute_result"
    }
   ],
   "source": [
    "# Impurity score for LogFare split at 2.7\n",
    "score(trn_xs[\"LogFare\"], trn_y, 2.7)"
   ]
  },
  {
   "cell_type": "markdown",
   "id": "458b9c2e",
   "metadata": {
    "papermill": {
     "duration": 0.025199,
     "end_time": "2024-03-27T18:38:09.249771",
     "exception": false,
     "start_time": "2024-03-27T18:38:09.224572",
     "status": "completed"
    },
    "tags": []
   },
   "source": [
    "Trying multiple split with interactive tool"
   ]
  },
  {
   "cell_type": "code",
   "execution_count": 26,
   "id": "ab9ace61",
   "metadata": {
    "execution": {
     "iopub.execute_input": "2024-03-27T18:38:09.303282Z",
     "iopub.status.busy": "2024-03-27T18:38:09.302517Z",
     "iopub.status.idle": "2024-03-27T18:38:09.336105Z",
     "shell.execute_reply": "2024-03-27T18:38:09.335267Z"
    },
    "papermill": {
     "duration": 0.063706,
     "end_time": "2024-03-27T18:38:09.338877",
     "exception": false,
     "start_time": "2024-03-27T18:38:09.275171",
     "status": "completed"
    },
    "tags": []
   },
   "outputs": [
    {
     "data": {
      "application/vnd.jupyter.widget-view+json": {
       "model_id": "105349d9b73d4caf93b35a744ceb7bff",
       "version_major": 2,
       "version_minor": 0
      },
      "text/plain": [
       "interactive(children=(Dropdown(description='nm', options=('Age', 'SibSp', 'Parch', 'LogFare', 'Pclass'), value…"
      ]
     },
     "metadata": {},
     "output_type": "display_data"
    }
   ],
   "source": [
    "def iscore(nm, split):\n",
    "    col = trn_xs[nm]\n",
    "    return score(col, trn_y, split)\n",
    "\n",
    "from ipywidgets import interact\n",
    "interact(nm=conts, split=15.5)(iscore);"
   ]
  },
  {
   "cell_type": "code",
   "execution_count": 27,
   "id": "d55d3d07",
   "metadata": {
    "execution": {
     "iopub.execute_input": "2024-03-27T18:38:09.394478Z",
     "iopub.status.busy": "2024-03-27T18:38:09.394072Z",
     "iopub.status.idle": "2024-03-27T18:38:09.418711Z",
     "shell.execute_reply": "2024-03-27T18:38:09.417805Z"
    },
    "papermill": {
     "duration": 0.057391,
     "end_time": "2024-03-27T18:38:09.423994",
     "exception": false,
     "start_time": "2024-03-27T18:38:09.366603",
     "status": "completed"
    },
    "tags": []
   },
   "outputs": [
    {
     "data": {
      "application/vnd.jupyter.widget-view+json": {
       "model_id": "e04dc02cb51d47269bf305e2bb9e1ddb",
       "version_major": 2,
       "version_minor": 0
      },
      "text/plain": [
       "interactive(children=(Dropdown(description='nm', options=('Sex', 'Embarked'), value='Sex'), FloatSlider(value=…"
      ]
     },
     "metadata": {},
     "output_type": "display_data"
    }
   ],
   "source": [
    "# Doing same for Categorical Columns\n",
    "interact(nm=cats, split=15.5)(iscore);"
   ]
  },
  {
   "cell_type": "markdown",
   "id": "36b91dfb",
   "metadata": {
    "papermill": {
     "duration": 0.02567,
     "end_time": "2024-03-27T18:38:09.476111",
     "exception": false,
     "start_time": "2024-03-27T18:38:09.450441",
     "status": "completed"
    },
    "tags": []
   },
   "source": [
    "### Finding split with automatization"
   ]
  },
  {
   "cell_type": "code",
   "execution_count": 28,
   "id": "df3ec035",
   "metadata": {
    "execution": {
     "iopub.execute_input": "2024-03-27T18:38:09.530774Z",
     "iopub.status.busy": "2024-03-27T18:38:09.530298Z",
     "iopub.status.idle": "2024-03-27T18:38:09.539131Z",
     "shell.execute_reply": "2024-03-27T18:38:09.538247Z"
    },
    "papermill": {
     "duration": 0.038928,
     "end_time": "2024-03-27T18:38:09.541295",
     "exception": false,
     "start_time": "2024-03-27T18:38:09.502367",
     "status": "completed"
    },
    "tags": []
   },
   "outputs": [
    {
     "data": {
      "text/plain": [
       "array([ 0.42,  0.67,  0.75,  0.83,  0.92,  1.  ,  2.  ,  3.  ,  4.  ,  5.  ,  6.  ,  7.  ,  8.  ,  9.  , 10.  , 11.  , 12.  ,\n",
       "       13.  , 14.  , 14.5 , 15.  , 16.  , 17.  , 18.  , 19.  , 20.  , 21.  , 22.  , 23.  , 24.  , 24.5 , 25.  , 26.  , 27.  ,\n",
       "       28.  , 28.5 , 29.  , 30.  , 31.  , 32.  , 32.5 , 33.  , 34.  , 34.5 , 35.  , 36.  , 36.5 , 37.  , 38.  , 39.  , 40.  ,\n",
       "       40.5 , 41.  , 42.  , 43.  , 44.  , 45.  , 45.5 , 46.  , 47.  , 48.  , 49.  , 50.  , 51.  , 52.  , 53.  , 54.  , 55.  ,\n",
       "       55.5 , 56.  , 57.  , 58.  , 59.  , 60.  , 61.  , 62.  , 64.  , 65.  , 70.  , 70.5 , 74.  , 80.  ])"
      ]
     },
     "execution_count": 28,
     "metadata": {},
     "output_type": "execute_result"
    }
   ],
   "source": [
    "nm = 'Age'\n",
    "col = trn_xs['Age']\n",
    "unq = col.unique()\n",
    "unq.sort()\n",
    "unq"
   ]
  },
  {
   "cell_type": "code",
   "execution_count": 29,
   "id": "c51bbfd3",
   "metadata": {
    "execution": {
     "iopub.execute_input": "2024-03-27T18:38:09.596582Z",
     "iopub.status.busy": "2024-03-27T18:38:09.595786Z",
     "iopub.status.idle": "2024-03-27T18:38:09.659117Z",
     "shell.execute_reply": "2024-03-27T18:38:09.657421Z"
    },
    "papermill": {
     "duration": 0.094939,
     "end_time": "2024-03-27T18:38:09.662676",
     "exception": false,
     "start_time": "2024-03-27T18:38:09.567737",
     "status": "completed"
    },
    "tags": []
   },
   "outputs": [
    {
     "data": {
      "text/plain": [
       "6.0"
      ]
     },
     "execution_count": 29,
     "metadata": {},
     "output_type": "execute_result"
    }
   ],
   "source": [
    "# Finding the lowest Impurity measure for all the above split\n",
    "scores = np.array([score(col, trn_y, o) for o in unq if not np.isnan(o)])\n",
    "unq[scores.argmin()]"
   ]
  },
  {
   "cell_type": "markdown",
   "id": "f8925be9",
   "metadata": {
    "papermill": {
     "duration": 0.026671,
     "end_time": "2024-03-27T18:38:09.716621",
     "exception": false,
     "start_time": "2024-03-27T18:38:09.689950",
     "status": "completed"
    },
    "tags": []
   },
   "source": [
    "Based on this, it looks like, for instance, that for the Age column, 6 is the optimal cutoff according to our training set."
   ]
  },
  {
   "cell_type": "markdown",
   "id": "c9e72963",
   "metadata": {
    "papermill": {
     "duration": 0.025952,
     "end_time": "2024-03-27T18:38:09.769235",
     "exception": false,
     "start_time": "2024-03-27T18:38:09.743283",
     "status": "completed"
    },
    "tags": []
   },
   "source": [
    "### Implementing automatic split finder for all columns\n"
   ]
  },
  {
   "cell_type": "code",
   "execution_count": 30,
   "id": "99539d6e",
   "metadata": {
    "execution": {
     "iopub.execute_input": "2024-03-27T18:38:09.823875Z",
     "iopub.status.busy": "2024-03-27T18:38:09.823459Z",
     "iopub.status.idle": "2024-03-27T18:38:09.886944Z",
     "shell.execute_reply": "2024-03-27T18:38:09.885915Z"
    },
    "papermill": {
     "duration": 0.093741,
     "end_time": "2024-03-27T18:38:09.889383",
     "exception": false,
     "start_time": "2024-03-27T18:38:09.795642",
     "status": "completed"
    },
    "tags": []
   },
   "outputs": [
    {
     "data": {
      "text/plain": [
       "(6.0, 0.478316717508991)"
      ]
     },
     "execution_count": 30,
     "metadata": {},
     "output_type": "execute_result"
    }
   ],
   "source": [
    "def min_col(df, nm):\n",
    "    col, y = df[nm], df[dep]\n",
    "    unq = col.dropna().unique()\n",
    "    scores = np.array([score(col, y, o) for o in unq if not np.isnan(o)])\n",
    "    idx = scores.argmin()\n",
    "    return unq[idx], scores[idx]\n",
    "\n",
    "min_col(trn_df, 'Age')"
   ]
  },
  {
   "cell_type": "code",
   "execution_count": 31,
   "id": "61b14578",
   "metadata": {
    "execution": {
     "iopub.execute_input": "2024-03-27T18:38:09.944896Z",
     "iopub.status.busy": "2024-03-27T18:38:09.944431Z",
     "iopub.status.idle": "2024-03-27T18:38:10.168991Z",
     "shell.execute_reply": "2024-03-27T18:38:10.168189Z"
    },
    "papermill": {
     "duration": 0.254996,
     "end_time": "2024-03-27T18:38:10.171150",
     "exception": false,
     "start_time": "2024-03-27T18:38:09.916154",
     "status": "completed"
    },
    "tags": []
   },
   "outputs": [
    {
     "data": {
      "text/plain": [
       "{'Sex': (0, 0.40787530982063946),\n",
       " 'Embarked': (0, 0.47883342573147836),\n",
       " 'Age': (6.0, 0.478316717508991),\n",
       " 'SibSp': (4, 0.4783740258817434),\n",
       " 'Parch': (0, 0.4805296527841601),\n",
       " 'LogFare': (2.4390808375825834, 0.4620823937736597),\n",
       " 'Pclass': (2, 0.46048261885806596)}"
      ]
     },
     "execution_count": 31,
     "metadata": {},
     "output_type": "execute_result"
    }
   ],
   "source": [
    "# Trying for all columns\n",
    "cols = cats+conts\n",
    "{o:min_col(trn_df, o) for o in cols}"
   ]
  },
  {
   "cell_type": "markdown",
   "id": "6c14b15a",
   "metadata": {
    "papermill": {
     "duration": 0.026379,
     "end_time": "2024-03-27T18:38:10.224442",
     "exception": false,
     "start_time": "2024-03-27T18:38:10.198063",
     "status": "completed"
    },
    "tags": []
   },
   "source": [
    "ccording to this, Sex<=0 is the best split we can use.\n",
    "\n",
    "We've just re-invented the OneR classifier (or at least, a minor variant of it), which was found to be one of the most effective classifiers in real-world datasets, compared to the algorithms in use in 1993.\n",
    "\n",
    "- We found earlier that out OneR rule had an error of around 0.215, so we'll keep that in mind as we try out more sophisticated approaches."
   ]
  },
  {
   "cell_type": "markdown",
   "id": "eabc7427",
   "metadata": {
    "papermill": {
     "duration": 0.027671,
     "end_time": "2024-03-27T18:38:10.278543",
     "exception": false,
     "start_time": "2024-03-27T18:38:10.250872",
     "status": "completed"
    },
    "tags": []
   },
   "source": [
    "# Decision Trees\n",
    "- We can improve the Impurity measure of the group by spliting the Sex Split further; and find the best split for female and male. \n",
    "- To do this we have to repeat previous process twice for female and male group\n",
    "- We'll remove the 'Sex' from the list of possible split (Since we've already used it, and there's only one possible split for that binary column."
   ]
  },
  {
   "cell_type": "code",
   "execution_count": 32,
   "id": "26cc5b55",
   "metadata": {
    "execution": {
     "iopub.execute_input": "2024-03-27T18:38:10.341218Z",
     "iopub.status.busy": "2024-03-27T18:38:10.340398Z",
     "iopub.status.idle": "2024-03-27T18:38:10.348693Z",
     "shell.execute_reply": "2024-03-27T18:38:10.347551Z"
    },
    "papermill": {
     "duration": 0.045775,
     "end_time": "2024-03-27T18:38:10.350944",
     "exception": false,
     "start_time": "2024-03-27T18:38:10.305169",
     "status": "completed"
    },
    "tags": []
   },
   "outputs": [],
   "source": [
    "cols.remove(\"Sex\")\n",
    "ismale = trn_df.Sex==1\n",
    "males,females = trn_df[ismale],trn_df[~ismale]"
   ]
  },
  {
   "cell_type": "code",
   "execution_count": 33,
   "id": "74619372",
   "metadata": {
    "execution": {
     "iopub.execute_input": "2024-03-27T18:38:10.407079Z",
     "iopub.status.busy": "2024-03-27T18:38:10.405921Z",
     "iopub.status.idle": "2024-03-27T18:38:10.592361Z",
     "shell.execute_reply": "2024-03-27T18:38:10.591288Z"
    },
    "papermill": {
     "duration": 0.21696,
     "end_time": "2024-03-27T18:38:10.594761",
     "exception": false,
     "start_time": "2024-03-27T18:38:10.377801",
     "status": "completed"
    },
    "tags": []
   },
   "outputs": [
    {
     "data": {
      "text/plain": [
       "{'Embarked': (0, 0.3875581870410906),\n",
       " 'Age': (6.0, 0.3739828371010595),\n",
       " 'SibSp': (4, 0.3875864227586273),\n",
       " 'Parch': (0, 0.3874704821461959),\n",
       " 'LogFare': (2.803360380906535, 0.3804856231758151),\n",
       " 'Pclass': (1, 0.38155442004360934)}"
      ]
     },
     "execution_count": 33,
     "metadata": {},
     "output_type": "execute_result"
    }
   ],
   "source": [
    "# Finding single best split for male\n",
    "{o:min_col(males, o) for o in cols}"
   ]
  },
  {
   "cell_type": "code",
   "execution_count": 34,
   "id": "7c230d0e",
   "metadata": {
    "execution": {
     "iopub.execute_input": "2024-03-27T18:38:10.650214Z",
     "iopub.status.busy": "2024-03-27T18:38:10.649746Z",
     "iopub.status.idle": "2024-03-27T18:38:10.802580Z",
     "shell.execute_reply": "2024-03-27T18:38:10.801306Z"
    },
    "papermill": {
     "duration": 0.183493,
     "end_time": "2024-03-27T18:38:10.805083",
     "exception": false,
     "start_time": "2024-03-27T18:38:10.621590",
     "status": "completed"
    },
    "tags": []
   },
   "outputs": [
    {
     "data": {
      "text/plain": [
       "{'Embarked': (0, 0.4295252982857327),\n",
       " 'Age': (50.0, 0.4225927658431649),\n",
       " 'SibSp': (4, 0.42319212059713535),\n",
       " 'Parch': (3, 0.4193314500446158),\n",
       " 'LogFare': (4.256321678298823, 0.41350598332911376),\n",
       " 'Pclass': (2, 0.3335388911567601)}"
      ]
     },
     "execution_count": 34,
     "metadata": {},
     "output_type": "execute_result"
    }
   ],
   "source": [
    "# Finding single best split for females\n",
    "{o:min_col(females, o) for o in cols}"
   ]
  },
  {
   "cell_type": "markdown",
   "id": "89962b69",
   "metadata": {
    "papermill": {
     "duration": 0.027322,
     "end_time": "2024-03-27T18:38:10.859536",
     "exception": false,
     "start_time": "2024-03-27T18:38:10.832214",
     "status": "completed"
    },
    "tags": []
   },
   "source": [
    "- We can see that best split for males is Age<=6 and for female is Pclass<=2\n",
    "- We have created decision tree where our moddel splits the data based on 'Sex' category and depending on result will check either 'Age' or 'Pclass' category.\n",
    "- We ca now repeat this process for the four new groups that have been formed\n",
    "\n",
    "- We can use `DecisionTreeClassifier` from sklearn which does exactly the same"
   ]
  },
  {
   "cell_type": "code",
   "execution_count": 35,
   "id": "1c13dd34",
   "metadata": {
    "execution": {
     "iopub.execute_input": "2024-03-27T18:38:10.916107Z",
     "iopub.status.busy": "2024-03-27T18:38:10.915698Z",
     "iopub.status.idle": "2024-03-27T18:38:11.118432Z",
     "shell.execute_reply": "2024-03-27T18:38:11.117187Z"
    },
    "papermill": {
     "duration": 0.234856,
     "end_time": "2024-03-27T18:38:11.121558",
     "exception": false,
     "start_time": "2024-03-27T18:38:10.886702",
     "status": "completed"
    },
    "tags": []
   },
   "outputs": [],
   "source": [
    "from sklearn.tree import DecisionTreeClassifier, export_graphviz\n",
    "m = DecisionTreeClassifier(max_leaf_nodes=4).fit(trn_xs, trn_y)"
   ]
  },
  {
   "cell_type": "code",
   "execution_count": 36,
   "id": "9ca8eaa6",
   "metadata": {
    "execution": {
     "iopub.execute_input": "2024-03-27T18:38:11.177625Z",
     "iopub.status.busy": "2024-03-27T18:38:11.177166Z",
     "iopub.status.idle": "2024-03-27T18:38:11.224697Z",
     "shell.execute_reply": "2024-03-27T18:38:11.223717Z"
    },
    "papermill": {
     "duration": 0.078547,
     "end_time": "2024-03-27T18:38:11.227206",
     "exception": false,
     "start_time": "2024-03-27T18:38:11.148659",
     "status": "completed"
    },
    "tags": []
   },
   "outputs": [],
   "source": [
    "# Visualizing the tree\n",
    "import graphviz\n",
    "\n",
    "def draw_tree(t, df, size=10, ratio=0.6, precision=2, **kwargs):\n",
    "    s=export_graphviz(t, out_file=None, feature_names=df.columns, filled=True, rounded=True,\n",
    "                      special_characters=True, rotate=False, precision=precision, **kwargs)\n",
    "    return graphviz.Source(re.sub('Tree {', f'Tree {{ size={size}; ratio={ratio}', s))"
   ]
  },
  {
   "cell_type": "code",
   "execution_count": 37,
   "id": "8369e065",
   "metadata": {
    "execution": {
     "iopub.execute_input": "2024-03-27T18:38:11.285854Z",
     "iopub.status.busy": "2024-03-27T18:38:11.285009Z",
     "iopub.status.idle": "2024-03-27T18:38:11.547345Z",
     "shell.execute_reply": "2024-03-27T18:38:11.546336Z"
    },
    "papermill": {
     "duration": 0.293949,
     "end_time": "2024-03-27T18:38:11.549896",
     "exception": false,
     "start_time": "2024-03-27T18:38:11.255947",
     "status": "completed"
    },
    "tags": []
   },
   "outputs": [
    {
     "data": {
      "image/svg+xml": [
       "<?xml version=\"1.0\" encoding=\"UTF-8\" standalone=\"no\"?>\n",
       "<!DOCTYPE svg PUBLIC \"-//W3C//DTD SVG 1.1//EN\"\n",
       " \"http://www.w3.org/Graphics/SVG/1.1/DTD/svg11.dtd\">\n",
       "<!-- Generated by graphviz version 9.0.0 (20231125.0833)\n",
       " -->\n",
       "<!-- Title: Tree Pages: 1 -->\n",
       "<svg width=\"589pt\" height=\"357pt\"\n",
       " viewBox=\"0.00 0.00 588.50 356.92\" xmlns=\"http://www.w3.org/2000/svg\" xmlns:xlink=\"http://www.w3.org/1999/xlink\">\n",
       "<g id=\"graph0\" class=\"graph\" transform=\"scale(1 1) rotate(0) translate(4 352.92)\">\n",
       "<title>Tree</title>\n",
       "<polygon fill=\"white\" stroke=\"none\" points=\"-4,4 -4,-352.92 584.5,-352.92 584.5,4 -4,4\"/>\n",
       "<!-- 0 -->\n",
       "<g id=\"node1\" class=\"node\">\n",
       "<title>0</title>\n",
       "<path fill=\"#f5ceb2\" stroke=\"black\" d=\"M349,-340.5C349,-340.5 225,-340.5 225,-340.5 219,-340.5 213,-334.5 213,-328.5 213,-328.5 213,-275.5 213,-275.5 213,-269.5 219,-263.5 225,-263.5 225,-263.5 349,-263.5 349,-263.5 355,-263.5 361,-269.5 361,-275.5 361,-275.5 361,-328.5 361,-328.5 361,-334.5 355,-340.5 349,-340.5\"/>\n",
       "<text text-anchor=\"start\" x=\"252.5\" y=\"-323.2\" font-family=\"Helvetica,sans-Serif\" font-size=\"14.00\">Sex ≤ 0.5</text>\n",
       "<text text-anchor=\"start\" x=\"248\" y=\"-305.95\" font-family=\"Helvetica,sans-Serif\" font-size=\"14.00\">gini = 0.47</text>\n",
       "<text text-anchor=\"start\" x=\"234.12\" y=\"-288.7\" font-family=\"Helvetica,sans-Serif\" font-size=\"14.00\">samples = 668</text>\n",
       "<text text-anchor=\"start\" x=\"221\" y=\"-271.45\" font-family=\"Helvetica,sans-Serif\" font-size=\"14.00\">value = [415, 253]</text>\n",
       "</g>\n",
       "<!-- 1 -->\n",
       "<g id=\"node2\" class=\"node\">\n",
       "<title>1</title>\n",
       "<path fill=\"#7ebfee\" stroke=\"black\" d=\"M266.5,-202.5C266.5,-202.5 151.5,-202.5 151.5,-202.5 145.5,-202.5 139.5,-196.5 139.5,-190.5 139.5,-190.5 139.5,-137.5 139.5,-137.5 139.5,-131.5 145.5,-125.5 151.5,-125.5 151.5,-125.5 266.5,-125.5 266.5,-125.5 272.5,-125.5 278.5,-131.5 278.5,-137.5 278.5,-137.5 278.5,-190.5 278.5,-190.5 278.5,-196.5 272.5,-202.5 266.5,-202.5\"/>\n",
       "<text text-anchor=\"start\" x=\"165.88\" y=\"-185.2\" font-family=\"Helvetica,sans-Serif\" font-size=\"14.00\">Pclass ≤ 2.5</text>\n",
       "<text text-anchor=\"start\" x=\"170\" y=\"-167.95\" font-family=\"Helvetica,sans-Serif\" font-size=\"14.00\">gini = 0.38</text>\n",
       "<text text-anchor=\"start\" x=\"156.12\" y=\"-150.7\" font-family=\"Helvetica,sans-Serif\" font-size=\"14.00\">samples = 229</text>\n",
       "<text text-anchor=\"start\" x=\"147.5\" y=\"-133.45\" font-family=\"Helvetica,sans-Serif\" font-size=\"14.00\">value = [59, 170]</text>\n",
       "</g>\n",
       "<!-- 0&#45;&gt;1 -->\n",
       "<g id=\"edge1\" class=\"edge\">\n",
       "<title>0&#45;&gt;1</title>\n",
       "<path fill=\"none\" stroke=\"black\" d=\"M265.27,-263.12C256.23,-247.35 245.63,-228.87 236.09,-212.23\"/>\n",
       "<polygon fill=\"black\" stroke=\"black\" points=\"239.38,-210.93 231.36,-203.99 233.3,-214.41 239.38,-210.93\"/>\n",
       "<text text-anchor=\"middle\" x=\"224.07\" y=\"-222.13\" font-family=\"Helvetica,sans-Serif\" font-size=\"14.00\">True</text>\n",
       "</g>\n",
       "<!-- 2 -->\n",
       "<g id=\"node5\" class=\"node\">\n",
       "<title>2</title>\n",
       "<path fill=\"#eb9e67\" stroke=\"black\" d=\"M423.5,-202.5C423.5,-202.5 308.5,-202.5 308.5,-202.5 302.5,-202.5 296.5,-196.5 296.5,-190.5 296.5,-190.5 296.5,-137.5 296.5,-137.5 296.5,-131.5 302.5,-125.5 308.5,-125.5 308.5,-125.5 423.5,-125.5 423.5,-125.5 429.5,-125.5 435.5,-131.5 435.5,-137.5 435.5,-137.5 435.5,-190.5 435.5,-190.5 435.5,-196.5 429.5,-202.5 423.5,-202.5\"/>\n",
       "<text text-anchor=\"start\" x=\"330.75\" y=\"-185.2\" font-family=\"Helvetica,sans-Serif\" font-size=\"14.00\">Age ≤ 6.5</text>\n",
       "<text text-anchor=\"start\" x=\"327\" y=\"-167.95\" font-family=\"Helvetica,sans-Serif\" font-size=\"14.00\">gini = 0.31</text>\n",
       "<text text-anchor=\"start\" x=\"313.12\" y=\"-150.7\" font-family=\"Helvetica,sans-Serif\" font-size=\"14.00\">samples = 439</text>\n",
       "<text text-anchor=\"start\" x=\"304.5\" y=\"-133.45\" font-family=\"Helvetica,sans-Serif\" font-size=\"14.00\">value = [356, 83]</text>\n",
       "</g>\n",
       "<!-- 0&#45;&gt;2 -->\n",
       "<g id=\"edge4\" class=\"edge\">\n",
       "<title>0&#45;&gt;2</title>\n",
       "<path fill=\"none\" stroke=\"black\" d=\"M309.01,-263.12C318.17,-247.35 328.9,-228.87 338.56,-212.23\"/>\n",
       "<polygon fill=\"black\" stroke=\"black\" points=\"341.36,-214.39 343.35,-203.99 335.3,-210.88 341.36,-214.39\"/>\n",
       "<text text-anchor=\"middle\" x=\"350.52\" y=\"-222.17\" font-family=\"Helvetica,sans-Serif\" font-size=\"14.00\">False</text>\n",
       "</g>\n",
       "<!-- 3 -->\n",
       "<g id=\"node3\" class=\"node\">\n",
       "<title>3</title>\n",
       "<path fill=\"#40a0e6\" stroke=\"black\" d=\"M118,-65.88C118,-65.88 12,-65.88 12,-65.88 6,-65.88 0,-59.88 0,-53.88 0,-53.88 0,-18.12 0,-18.12 0,-12.12 6,-6.12 12,-6.12 12,-6.12 118,-6.12 118,-6.12 124,-6.12 130,-12.12 130,-18.12 130,-18.12 130,-53.88 130,-53.88 130,-59.88 124,-65.88 118,-65.88\"/>\n",
       "<text text-anchor=\"start\" x=\"26\" y=\"-48.58\" font-family=\"Helvetica,sans-Serif\" font-size=\"14.00\">gini = 0.06</text>\n",
       "<text text-anchor=\"start\" x=\"12.12\" y=\"-31.32\" font-family=\"Helvetica,sans-Serif\" font-size=\"14.00\">samples = 120</text>\n",
       "<text text-anchor=\"start\" x=\"8\" y=\"-14.07\" font-family=\"Helvetica,sans-Serif\" font-size=\"14.00\">value = [4, 116]</text>\n",
       "</g>\n",
       "<!-- 1&#45;&gt;3 -->\n",
       "<g id=\"edge2\" class=\"edge\">\n",
       "<title>1&#45;&gt;3</title>\n",
       "<path fill=\"none\" stroke=\"black\" d=\"M165.8,-125.2C147.2,-108.93 125.54,-89.97 107.07,-73.81\"/>\n",
       "<polygon fill=\"black\" stroke=\"black\" points=\"109.53,-71.32 99.7,-67.36 104.92,-76.58 109.53,-71.32\"/>\n",
       "</g>\n",
       "<!-- 4 -->\n",
       "<g id=\"node4\" class=\"node\">\n",
       "<title>4</title>\n",
       "<path fill=\"#fffdfb\" stroke=\"black\" d=\"M266,-65.88C266,-65.88 160,-65.88 160,-65.88 154,-65.88 148,-59.88 148,-53.88 148,-53.88 148,-18.12 148,-18.12 148,-12.12 154,-6.12 160,-6.12 160,-6.12 266,-6.12 266,-6.12 272,-6.12 278,-12.12 278,-18.12 278,-18.12 278,-53.88 278,-53.88 278,-59.88 272,-65.88 266,-65.88\"/>\n",
       "<text text-anchor=\"start\" x=\"178.5\" y=\"-48.58\" font-family=\"Helvetica,sans-Serif\" font-size=\"14.00\">gini = 0.5</text>\n",
       "<text text-anchor=\"start\" x=\"160.12\" y=\"-31.32\" font-family=\"Helvetica,sans-Serif\" font-size=\"14.00\">samples = 109</text>\n",
       "<text text-anchor=\"start\" x=\"156\" y=\"-14.07\" font-family=\"Helvetica,sans-Serif\" font-size=\"14.00\">value = [55, 54]</text>\n",
       "</g>\n",
       "<!-- 1&#45;&gt;4 -->\n",
       "<g id=\"edge3\" class=\"edge\">\n",
       "<title>1&#45;&gt;4</title>\n",
       "<path fill=\"none\" stroke=\"black\" d=\"M210.2,-125.2C210.68,-110.18 211.23,-92.87 211.71,-77.59\"/>\n",
       "<polygon fill=\"black\" stroke=\"black\" points=\"215.2,-77.99 212.02,-67.88 208.2,-77.76 215.2,-77.99\"/>\n",
       "</g>\n",
       "<!-- 5 -->\n",
       "<g id=\"node6\" class=\"node\">\n",
       "<title>5</title>\n",
       "<path fill=\"#88c4ef\" stroke=\"black\" d=\"M411.5,-65.88C411.5,-65.88 314.5,-65.88 314.5,-65.88 308.5,-65.88 302.5,-59.88 302.5,-53.88 302.5,-53.88 302.5,-18.12 302.5,-18.12 302.5,-12.12 308.5,-6.12 314.5,-6.12 314.5,-6.12 411.5,-6.12 411.5,-6.12 417.5,-6.12 423.5,-12.12 423.5,-18.12 423.5,-18.12 423.5,-53.88 423.5,-53.88 423.5,-59.88 417.5,-65.88 411.5,-65.88\"/>\n",
       "<text text-anchor=\"start\" x=\"324\" y=\"-48.58\" font-family=\"Helvetica,sans-Serif\" font-size=\"14.00\">gini = 0.41</text>\n",
       "<text text-anchor=\"start\" x=\"314.62\" y=\"-31.32\" font-family=\"Helvetica,sans-Serif\" font-size=\"14.00\">samples = 21</text>\n",
       "<text text-anchor=\"start\" x=\"310.5\" y=\"-14.07\" font-family=\"Helvetica,sans-Serif\" font-size=\"14.00\">value = [6, 15]</text>\n",
       "</g>\n",
       "<!-- 2&#45;&gt;5 -->\n",
       "<g id=\"edge5\" class=\"edge\">\n",
       "<title>2&#45;&gt;5</title>\n",
       "<path fill=\"none\" stroke=\"black\" d=\"M365.1,-125.2C364.74,-110.18 364.33,-92.87 363.97,-77.59\"/>\n",
       "<polygon fill=\"black\" stroke=\"black\" points=\"367.47,-77.79 363.74,-67.88 360.47,-77.96 367.47,-77.79\"/>\n",
       "</g>\n",
       "<!-- 6 -->\n",
       "<g id=\"node7\" class=\"node\">\n",
       "<title>6</title>\n",
       "<path fill=\"#ea995f\" stroke=\"black\" d=\"M568.5,-65.88C568.5,-65.88 453.5,-65.88 453.5,-65.88 447.5,-65.88 441.5,-59.88 441.5,-53.88 441.5,-53.88 441.5,-18.12 441.5,-18.12 441.5,-12.12 447.5,-6.12 453.5,-6.12 453.5,-6.12 568.5,-6.12 568.5,-6.12 574.5,-6.12 580.5,-12.12 580.5,-18.12 580.5,-18.12 580.5,-53.88 580.5,-53.88 580.5,-59.88 574.5,-65.88 568.5,-65.88\"/>\n",
       "<text text-anchor=\"start\" x=\"472\" y=\"-48.58\" font-family=\"Helvetica,sans-Serif\" font-size=\"14.00\">gini = 0.27</text>\n",
       "<text text-anchor=\"start\" x=\"458.12\" y=\"-31.32\" font-family=\"Helvetica,sans-Serif\" font-size=\"14.00\">samples = 418</text>\n",
       "<text text-anchor=\"start\" x=\"449.5\" y=\"-14.07\" font-family=\"Helvetica,sans-Serif\" font-size=\"14.00\">value = [350, 68]</text>\n",
       "</g>\n",
       "<!-- 2&#45;&gt;6 -->\n",
       "<g id=\"edge6\" class=\"edge\">\n",
       "<title>2&#45;&gt;6</title>\n",
       "<path fill=\"none\" stroke=\"black\" d=\"M409.5,-125.2C428.23,-108.93 450.04,-89.97 468.64,-73.81\"/>\n",
       "<polygon fill=\"black\" stroke=\"black\" points=\"470.81,-76.56 476.06,-67.36 466.22,-71.28 470.81,-76.56\"/>\n",
       "</g>\n",
       "</g>\n",
       "</svg>\n"
      ],
      "text/plain": [
       "<graphviz.sources.Source at 0x7a7c8b843640>"
      ]
     },
     "execution_count": 37,
     "metadata": {},
     "output_type": "execute_result"
    }
   ],
   "source": [
    "draw_tree(m, trn_xs, size=10)"
   ]
  },
  {
   "cell_type": "markdown",
   "id": "dc6b0eb8",
   "metadata": {
    "papermill": {
     "duration": 0.027065,
     "end_time": "2024-03-27T18:38:11.604391",
     "exception": false,
     "start_time": "2024-03-27T18:38:11.577326",
     "status": "completed"
    },
    "tags": []
   },
   "source": [
    "> It found the exact same split that we found earlier\n",
    "- Orange Node: Lower survial rate\n",
    "- Blue Node: Higher survival rate\n",
    "Node shows how many sample match the condition and shows how many perish or survive.\n",
    "- Gini: It is another measure of impurity similar to score"
   ]
  },
  {
   "cell_type": "code",
   "execution_count": 38,
   "id": "1127524b",
   "metadata": {
    "execution": {
     "iopub.execute_input": "2024-03-27T18:38:11.661455Z",
     "iopub.status.busy": "2024-03-27T18:38:11.660268Z",
     "iopub.status.idle": "2024-03-27T18:38:11.666804Z",
     "shell.execute_reply": "2024-03-27T18:38:11.665351Z"
    },
    "papermill": {
     "duration": 0.038079,
     "end_time": "2024-03-27T18:38:11.669735",
     "exception": false,
     "start_time": "2024-03-27T18:38:11.631656",
     "status": "completed"
    },
    "tags": []
   },
   "outputs": [],
   "source": [
    "def gini(cond):\n",
    "    act = df.loc[cond, dep]\n",
    "    return 1 - act.mean()**2 - (1-act).mean()**2\n",
    "# What this calculates is the probability that, \n",
    "# if you pick two rows from a group, you'll get the same Survived result each time. \n",
    "# If the group is all the same, the probability is 1.0, and 0.0 if they're all different:"
   ]
  },
  {
   "cell_type": "code",
   "execution_count": 39,
   "id": "c4f409c5",
   "metadata": {
    "execution": {
     "iopub.execute_input": "2024-03-27T18:38:11.727440Z",
     "iopub.status.busy": "2024-03-27T18:38:11.726666Z",
     "iopub.status.idle": "2024-03-27T18:38:11.735713Z",
     "shell.execute_reply": "2024-03-27T18:38:11.734911Z"
    },
    "papermill": {
     "duration": 0.040052,
     "end_time": "2024-03-27T18:38:11.737821",
     "exception": false,
     "start_time": "2024-03-27T18:38:11.697769",
     "status": "completed"
    },
    "tags": []
   },
   "outputs": [
    {
     "data": {
      "text/plain": [
       "(0.3828350034484158, 0.3064437162277842)"
      ]
     },
     "execution_count": 39,
     "metadata": {},
     "output_type": "execute_result"
    }
   ],
   "source": [
    "gini(df.Sex=='female'), gini(df.Sex=='male')"
   ]
  },
  {
   "cell_type": "code",
   "execution_count": 40,
   "id": "8101f625",
   "metadata": {
    "execution": {
     "iopub.execute_input": "2024-03-27T18:38:11.795690Z",
     "iopub.status.busy": "2024-03-27T18:38:11.794460Z",
     "iopub.status.idle": "2024-03-27T18:38:11.803976Z",
     "shell.execute_reply": "2024-03-27T18:38:11.803110Z"
    },
    "papermill": {
     "duration": 0.040701,
     "end_time": "2024-03-27T18:38:11.806181",
     "exception": false,
     "start_time": "2024-03-27T18:38:11.765480",
     "status": "completed"
    },
    "tags": []
   },
   "outputs": [
    {
     "data": {
      "text/plain": [
       "0.2242152466367713"
      ]
     },
     "execution_count": 40,
     "metadata": {},
     "output_type": "execute_result"
    }
   ],
   "source": [
    "# Let's compare it to OneR version\n",
    "mean_absolute_error(val_y, m.predict(val_xs))"
   ]
  },
  {
   "cell_type": "markdown",
   "id": "20c81831",
   "metadata": {
    "papermill": {
     "duration": 0.026947,
     "end_time": "2024-03-27T18:38:11.860697",
     "exception": false,
     "start_time": "2024-03-27T18:38:11.833750",
     "status": "completed"
    },
    "tags": []
   },
   "source": [
    "It's little worse than OneR's Sex based split. It is due to smaller dataset size"
   ]
  },
  {
   "cell_type": "code",
   "execution_count": 41,
   "id": "68974175",
   "metadata": {
    "execution": {
     "iopub.execute_input": "2024-03-27T18:38:11.919739Z",
     "iopub.status.busy": "2024-03-27T18:38:11.918574Z",
     "iopub.status.idle": "2024-03-27T18:38:11.958962Z",
     "shell.execute_reply": "2024-03-27T18:38:11.957841Z"
    },
    "papermill": {
     "duration": 0.07333,
     "end_time": "2024-03-27T18:38:11.962223",
     "exception": false,
     "start_time": "2024-03-27T18:38:11.888893",
     "status": "completed"
    },
    "tags": []
   },
   "outputs": [
    {
     "data": {
      "image/svg+xml": [
       "<?xml version=\"1.0\" encoding=\"UTF-8\" standalone=\"no\"?>\n",
       "<!DOCTYPE svg PUBLIC \"-//W3C//DTD SVG 1.1//EN\"\n",
       " \"http://www.w3.org/Graphics/SVG/1.1/DTD/svg11.dtd\">\n",
       "<!-- Generated by graphviz version 9.0.0 (20231125.0833)\n",
       " -->\n",
       "<!-- Title: Tree Pages: 1 -->\n",
       "<svg width=\"864pt\" height=\"521pt\"\n",
       " viewBox=\"0.00 0.00 864.00 520.94\" xmlns=\"http://www.w3.org/2000/svg\" xmlns:xlink=\"http://www.w3.org/1999/xlink\">\n",
       "<g id=\"graph0\" class=\"graph\" transform=\"scale(0.698541 0.698541) rotate(0) translate(4 741.75)\">\n",
       "<title>Tree</title>\n",
       "<polygon fill=\"white\" stroke=\"none\" points=\"-4,4 -4,-741.75 1232.86,-741.75 1232.86,4 -4,4\"/>\n",
       "<!-- 0 -->\n",
       "<g id=\"node1\" class=\"node\">\n",
       "<title>0</title>\n",
       "<path fill=\"#f5ceb2\" stroke=\"black\" d=\"M656.87,-737.5C656.87,-737.5 532.87,-737.5 532.87,-737.5 526.87,-737.5 520.87,-731.5 520.87,-725.5 520.87,-725.5 520.87,-672.5 520.87,-672.5 520.87,-666.5 526.87,-660.5 532.87,-660.5 532.87,-660.5 656.87,-660.5 656.87,-660.5 662.87,-660.5 668.87,-666.5 668.87,-672.5 668.87,-672.5 668.87,-725.5 668.87,-725.5 668.87,-731.5 662.87,-737.5 656.87,-737.5\"/>\n",
       "<text text-anchor=\"start\" x=\"560.37\" y=\"-720.2\" font-family=\"Helvetica,sans-Serif\" font-size=\"14.00\">Sex ≤ 0.5</text>\n",
       "<text text-anchor=\"start\" x=\"555.87\" y=\"-702.95\" font-family=\"Helvetica,sans-Serif\" font-size=\"14.00\">gini = 0.47</text>\n",
       "<text text-anchor=\"start\" x=\"541.99\" y=\"-685.7\" font-family=\"Helvetica,sans-Serif\" font-size=\"14.00\">samples = 668</text>\n",
       "<text text-anchor=\"start\" x=\"528.87\" y=\"-668.45\" font-family=\"Helvetica,sans-Serif\" font-size=\"14.00\">value = [415, 253]</text>\n",
       "</g>\n",
       "<!-- 1 -->\n",
       "<g id=\"node2\" class=\"node\">\n",
       "<title>1</title>\n",
       "<path fill=\"#7ebfee\" stroke=\"black\" d=\"M497.37,-624.5C497.37,-624.5 382.37,-624.5 382.37,-624.5 376.37,-624.5 370.37,-618.5 370.37,-612.5 370.37,-612.5 370.37,-559.5 370.37,-559.5 370.37,-553.5 376.37,-547.5 382.37,-547.5 382.37,-547.5 497.37,-547.5 497.37,-547.5 503.37,-547.5 509.37,-553.5 509.37,-559.5 509.37,-559.5 509.37,-612.5 509.37,-612.5 509.37,-618.5 503.37,-624.5 497.37,-624.5\"/>\n",
       "<text text-anchor=\"start\" x=\"396.74\" y=\"-607.2\" font-family=\"Helvetica,sans-Serif\" font-size=\"14.00\">Pclass ≤ 2.5</text>\n",
       "<text text-anchor=\"start\" x=\"400.87\" y=\"-589.95\" font-family=\"Helvetica,sans-Serif\" font-size=\"14.00\">gini = 0.38</text>\n",
       "<text text-anchor=\"start\" x=\"386.99\" y=\"-572.7\" font-family=\"Helvetica,sans-Serif\" font-size=\"14.00\">samples = 229</text>\n",
       "<text text-anchor=\"start\" x=\"378.37\" y=\"-555.45\" font-family=\"Helvetica,sans-Serif\" font-size=\"14.00\">value = [59, 170]</text>\n",
       "</g>\n",
       "<!-- 0&#45;&gt;1 -->\n",
       "<g id=\"edge1\" class=\"edge\">\n",
       "<title>0&#45;&gt;1</title>\n",
       "<path fill=\"none\" stroke=\"black\" d=\"M541.96,-660.11C529.06,-650.87 515.15,-640.91 501.87,-631.4\"/>\n",
       "<polygon fill=\"black\" stroke=\"black\" points=\"504.2,-628.76 494.03,-625.79 500.12,-634.46 504.2,-628.76\"/>\n",
       "<text text-anchor=\"middle\" x=\"496.88\" y=\"-644.9\" font-family=\"Helvetica,sans-Serif\" font-size=\"14.00\">True</text>\n",
       "</g>\n",
       "<!-- 8 -->\n",
       "<g id=\"node9\" class=\"node\">\n",
       "<title>8</title>\n",
       "<path fill=\"#eb9e67\" stroke=\"black\" d=\"M816.37,-624.5C816.37,-624.5 701.37,-624.5 701.37,-624.5 695.37,-624.5 689.37,-618.5 689.37,-612.5 689.37,-612.5 689.37,-559.5 689.37,-559.5 689.37,-553.5 695.37,-547.5 701.37,-547.5 701.37,-547.5 816.37,-547.5 816.37,-547.5 822.37,-547.5 828.37,-553.5 828.37,-559.5 828.37,-559.5 828.37,-612.5 828.37,-612.5 828.37,-618.5 822.37,-624.5 816.37,-624.5\"/>\n",
       "<text text-anchor=\"start\" x=\"705.99\" y=\"-607.2\" font-family=\"Helvetica,sans-Serif\" font-size=\"14.00\">LogFare ≤ 3.31</text>\n",
       "<text text-anchor=\"start\" x=\"719.87\" y=\"-589.95\" font-family=\"Helvetica,sans-Serif\" font-size=\"14.00\">gini = 0.31</text>\n",
       "<text text-anchor=\"start\" x=\"705.99\" y=\"-572.7\" font-family=\"Helvetica,sans-Serif\" font-size=\"14.00\">samples = 439</text>\n",
       "<text text-anchor=\"start\" x=\"697.37\" y=\"-555.45\" font-family=\"Helvetica,sans-Serif\" font-size=\"14.00\">value = [356, 83]</text>\n",
       "</g>\n",
       "<!-- 0&#45;&gt;8 -->\n",
       "<g id=\"edge8\" class=\"edge\">\n",
       "<title>0&#45;&gt;8</title>\n",
       "<path fill=\"none\" stroke=\"black\" d=\"M650.85,-660.11C664.62,-650.79 679.49,-640.72 693.67,-631.13\"/>\n",
       "<polygon fill=\"black\" stroke=\"black\" points=\"695.29,-634.26 701.61,-625.76 691.36,-628.46 695.29,-634.26\"/>\n",
       "<text text-anchor=\"middle\" x=\"698.13\" y=\"-644.78\" font-family=\"Helvetica,sans-Serif\" font-size=\"14.00\">False</text>\n",
       "</g>\n",
       "<!-- 2 -->\n",
       "<g id=\"node3\" class=\"node\">\n",
       "<title>2</title>\n",
       "<path fill=\"#40a0e6\" stroke=\"black\" d=\"M264.87,-511.5C264.87,-511.5 158.87,-511.5 158.87,-511.5 152.87,-511.5 146.87,-505.5 146.87,-499.5 146.87,-499.5 146.87,-446.5 146.87,-446.5 146.87,-440.5 152.87,-434.5 158.87,-434.5 158.87,-434.5 264.87,-434.5 264.87,-434.5 270.87,-434.5 276.87,-440.5 276.87,-446.5 276.87,-446.5 276.87,-499.5 276.87,-499.5 276.87,-505.5 270.87,-511.5 264.87,-511.5\"/>\n",
       "<text text-anchor=\"start\" x=\"170.24\" y=\"-494.2\" font-family=\"Helvetica,sans-Serif\" font-size=\"14.00\">SibSp ≤ 0.5</text>\n",
       "<text text-anchor=\"start\" x=\"172.87\" y=\"-476.95\" font-family=\"Helvetica,sans-Serif\" font-size=\"14.00\">gini = 0.06</text>\n",
       "<text text-anchor=\"start\" x=\"158.99\" y=\"-459.7\" font-family=\"Helvetica,sans-Serif\" font-size=\"14.00\">samples = 120</text>\n",
       "<text text-anchor=\"start\" x=\"154.87\" y=\"-442.45\" font-family=\"Helvetica,sans-Serif\" font-size=\"14.00\">value = [4, 116]</text>\n",
       "</g>\n",
       "<!-- 1&#45;&gt;2 -->\n",
       "<g id=\"edge2\" class=\"edge\">\n",
       "<title>1&#45;&gt;2</title>\n",
       "<path fill=\"none\" stroke=\"black\" d=\"M369.91,-550.94C343.68,-538.17 313.77,-523.61 287.08,-510.62\"/>\n",
       "<polygon fill=\"black\" stroke=\"black\" points=\"288.91,-507.61 278.38,-506.38 285.84,-513.91 288.91,-507.61\"/>\n",
       "</g>\n",
       "<!-- 5 -->\n",
       "<g id=\"node6\" class=\"node\">\n",
       "<title>5</title>\n",
       "<path fill=\"#fffdfb\" stroke=\"black\" d=\"M492.87,-511.5C492.87,-511.5 386.87,-511.5 386.87,-511.5 380.87,-511.5 374.87,-505.5 374.87,-499.5 374.87,-499.5 374.87,-446.5 374.87,-446.5 374.87,-440.5 380.87,-434.5 386.87,-434.5 386.87,-434.5 492.87,-434.5 492.87,-434.5 498.87,-434.5 504.87,-440.5 504.87,-446.5 504.87,-446.5 504.87,-499.5 504.87,-499.5 504.87,-505.5 498.87,-511.5 492.87,-511.5\"/>\n",
       "<text text-anchor=\"start\" x=\"391.49\" y=\"-494.2\" font-family=\"Helvetica,sans-Serif\" font-size=\"14.00\">LogFare ≤ 2.7</text>\n",
       "<text text-anchor=\"start\" x=\"405.37\" y=\"-476.95\" font-family=\"Helvetica,sans-Serif\" font-size=\"14.00\">gini = 0.5</text>\n",
       "<text text-anchor=\"start\" x=\"386.99\" y=\"-459.7\" font-family=\"Helvetica,sans-Serif\" font-size=\"14.00\">samples = 109</text>\n",
       "<text text-anchor=\"start\" x=\"382.87\" y=\"-442.45\" font-family=\"Helvetica,sans-Serif\" font-size=\"14.00\">value = [55, 54]</text>\n",
       "</g>\n",
       "<!-- 1&#45;&gt;5 -->\n",
       "<g id=\"edge5\" class=\"edge\">\n",
       "<title>1&#45;&gt;5</title>\n",
       "<path fill=\"none\" stroke=\"black\" d=\"M439.87,-547.11C439.87,-539.34 439.87,-531.06 439.87,-522.96\"/>\n",
       "<polygon fill=\"black\" stroke=\"black\" points=\"443.37,-523.23 439.87,-513.23 436.37,-523.23 443.37,-523.23\"/>\n",
       "</g>\n",
       "<!-- 3 -->\n",
       "<g id=\"node4\" class=\"node\">\n",
       "<title>3</title>\n",
       "<path fill=\"#3c9ee5\" stroke=\"black\" d=\"M112.37,-389.88C112.37,-389.88 15.37,-389.88 15.37,-389.88 9.37,-389.88 3.37,-383.88 3.37,-377.88 3.37,-377.88 3.37,-342.12 3.37,-342.12 3.37,-336.12 9.37,-330.12 15.37,-330.12 15.37,-330.12 112.37,-330.12 112.37,-330.12 118.37,-330.12 124.37,-336.12 124.37,-342.12 124.37,-342.12 124.37,-377.88 124.37,-377.88 124.37,-383.88 118.37,-389.88 112.37,-389.88\"/>\n",
       "<text text-anchor=\"start\" x=\"24.87\" y=\"-372.57\" font-family=\"Helvetica,sans-Serif\" font-size=\"14.00\">gini = 0.03</text>\n",
       "<text text-anchor=\"start\" x=\"15.49\" y=\"-355.32\" font-family=\"Helvetica,sans-Serif\" font-size=\"14.00\">samples = 67</text>\n",
       "<text text-anchor=\"start\" x=\"11.37\" y=\"-338.07\" font-family=\"Helvetica,sans-Serif\" font-size=\"14.00\">value = [1, 66]</text>\n",
       "</g>\n",
       "<!-- 2&#45;&gt;3 -->\n",
       "<g id=\"edge3\" class=\"edge\">\n",
       "<title>2&#45;&gt;3</title>\n",
       "<path fill=\"none\" stroke=\"black\" d=\"M161.35,-434.11C145.39,-422.14 127.8,-408.95 112.01,-397.11\"/>\n",
       "<polygon fill=\"black\" stroke=\"black\" points=\"114.26,-394.42 104.16,-391.22 110.06,-400.02 114.26,-394.42\"/>\n",
       "</g>\n",
       "<!-- 4 -->\n",
       "<g id=\"node5\" class=\"node\">\n",
       "<title>4</title>\n",
       "<path fill=\"#45a3e7\" stroke=\"black\" d=\"M260.37,-389.88C260.37,-389.88 163.37,-389.88 163.37,-389.88 157.37,-389.88 151.37,-383.88 151.37,-377.88 151.37,-377.88 151.37,-342.12 151.37,-342.12 151.37,-336.12 157.37,-330.12 163.37,-330.12 163.37,-330.12 260.37,-330.12 260.37,-330.12 266.37,-330.12 272.37,-336.12 272.37,-342.12 272.37,-342.12 272.37,-377.88 272.37,-377.88 272.37,-383.88 266.37,-389.88 260.37,-389.88\"/>\n",
       "<text text-anchor=\"start\" x=\"172.87\" y=\"-372.57\" font-family=\"Helvetica,sans-Serif\" font-size=\"14.00\">gini = 0.11</text>\n",
       "<text text-anchor=\"start\" x=\"163.49\" y=\"-355.32\" font-family=\"Helvetica,sans-Serif\" font-size=\"14.00\">samples = 53</text>\n",
       "<text text-anchor=\"start\" x=\"159.37\" y=\"-338.07\" font-family=\"Helvetica,sans-Serif\" font-size=\"14.00\">value = [3, 50]</text>\n",
       "</g>\n",
       "<!-- 2&#45;&gt;4 -->\n",
       "<g id=\"edge4\" class=\"edge\">\n",
       "<title>2&#45;&gt;4</title>\n",
       "<path fill=\"none\" stroke=\"black\" d=\"M211.87,-434.11C211.87,-423.71 211.87,-412.38 211.87,-401.82\"/>\n",
       "<polygon fill=\"black\" stroke=\"black\" points=\"215.37,-401.82 211.87,-391.82 208.37,-401.82 215.37,-401.82\"/>\n",
       "</g>\n",
       "<!-- 6 -->\n",
       "<g id=\"node7\" class=\"node\">\n",
       "<title>6</title>\n",
       "<path fill=\"#cbe5f8\" stroke=\"black\" d=\"M416.87,-389.88C416.87,-389.88 310.87,-389.88 310.87,-389.88 304.87,-389.88 298.87,-383.88 298.87,-377.88 298.87,-377.88 298.87,-342.12 298.87,-342.12 298.87,-336.12 304.87,-330.12 310.87,-330.12 310.87,-330.12 416.87,-330.12 416.87,-330.12 422.87,-330.12 428.87,-336.12 428.87,-342.12 428.87,-342.12 428.87,-377.88 428.87,-377.88 428.87,-383.88 422.87,-389.88 416.87,-389.88\"/>\n",
       "<text text-anchor=\"start\" x=\"324.87\" y=\"-372.57\" font-family=\"Helvetica,sans-Serif\" font-size=\"14.00\">gini = 0.49</text>\n",
       "<text text-anchor=\"start\" x=\"315.49\" y=\"-355.32\" font-family=\"Helvetica,sans-Serif\" font-size=\"14.00\">samples = 59</text>\n",
       "<text text-anchor=\"start\" x=\"306.87\" y=\"-338.07\" font-family=\"Helvetica,sans-Serif\" font-size=\"14.00\">value = [25, 34]</text>\n",
       "</g>\n",
       "<!-- 5&#45;&gt;6 -->\n",
       "<g id=\"edge6\" class=\"edge\">\n",
       "<title>5&#45;&gt;6</title>\n",
       "<path fill=\"none\" stroke=\"black\" d=\"M413.92,-434.11C406.34,-423.04 398.04,-410.92 390.42,-399.79\"/>\n",
       "<polygon fill=\"black\" stroke=\"black\" points=\"393.33,-397.83 384.79,-391.56 387.55,-401.79 393.33,-397.83\"/>\n",
       "</g>\n",
       "<!-- 7 -->\n",
       "<g id=\"node8\" class=\"node\">\n",
       "<title>7</title>\n",
       "<path fill=\"#f6d5bd\" stroke=\"black\" d=\"M573.87,-389.88C573.87,-389.88 467.87,-389.88 467.87,-389.88 461.87,-389.88 455.87,-383.88 455.87,-377.88 455.87,-377.88 455.87,-342.12 455.87,-342.12 455.87,-336.12 461.87,-330.12 467.87,-330.12 467.87,-330.12 573.87,-330.12 573.87,-330.12 579.87,-330.12 585.87,-336.12 585.87,-342.12 585.87,-342.12 585.87,-377.88 585.87,-377.88 585.87,-383.88 579.87,-389.88 573.87,-389.88\"/>\n",
       "<text text-anchor=\"start\" x=\"481.87\" y=\"-372.57\" font-family=\"Helvetica,sans-Serif\" font-size=\"14.00\">gini = 0.48</text>\n",
       "<text text-anchor=\"start\" x=\"472.49\" y=\"-355.32\" font-family=\"Helvetica,sans-Serif\" font-size=\"14.00\">samples = 50</text>\n",
       "<text text-anchor=\"start\" x=\"463.87\" y=\"-338.07\" font-family=\"Helvetica,sans-Serif\" font-size=\"14.00\">value = [30, 20]</text>\n",
       "</g>\n",
       "<!-- 5&#45;&gt;7 -->\n",
       "<g id=\"edge7\" class=\"edge\">\n",
       "<title>5&#45;&gt;7</title>\n",
       "<path fill=\"none\" stroke=\"black\" d=\"M467.52,-434.11C475.68,-422.92 484.62,-410.67 492.81,-399.45\"/>\n",
       "<polygon fill=\"black\" stroke=\"black\" points=\"495.52,-401.68 498.58,-391.53 489.86,-397.55 495.52,-401.68\"/>\n",
       "</g>\n",
       "<!-- 9 -->\n",
       "<g id=\"node10\" class=\"node\">\n",
       "<title>9</title>\n",
       "<path fill=\"#e99659\" stroke=\"black\" d=\"M816.37,-511.5C816.37,-511.5 701.37,-511.5 701.37,-511.5 695.37,-511.5 689.37,-505.5 689.37,-499.5 689.37,-499.5 689.37,-446.5 689.37,-446.5 689.37,-440.5 695.37,-434.5 701.37,-434.5 701.37,-434.5 816.37,-434.5 816.37,-434.5 822.37,-434.5 828.37,-440.5 828.37,-446.5 828.37,-446.5 828.37,-499.5 828.37,-499.5 828.37,-505.5 822.37,-511.5 816.37,-511.5\"/>\n",
       "<text text-anchor=\"start\" x=\"719.12\" y=\"-494.2\" font-family=\"Helvetica,sans-Serif\" font-size=\"14.00\">Age ≤ 20.5</text>\n",
       "<text text-anchor=\"start\" x=\"719.87\" y=\"-476.95\" font-family=\"Helvetica,sans-Serif\" font-size=\"14.00\">gini = 0.24</text>\n",
       "<text text-anchor=\"start\" x=\"705.99\" y=\"-459.7\" font-family=\"Helvetica,sans-Serif\" font-size=\"14.00\">samples = 320</text>\n",
       "<text text-anchor=\"start\" x=\"697.37\" y=\"-442.45\" font-family=\"Helvetica,sans-Serif\" font-size=\"14.00\">value = [275, 45]</text>\n",
       "</g>\n",
       "<!-- 8&#45;&gt;9 -->\n",
       "<g id=\"edge9\" class=\"edge\">\n",
       "<title>8&#45;&gt;9</title>\n",
       "<path fill=\"none\" stroke=\"black\" d=\"M758.87,-547.11C758.87,-539.34 758.87,-531.06 758.87,-522.96\"/>\n",
       "<polygon fill=\"black\" stroke=\"black\" points=\"762.37,-523.23 758.87,-513.23 755.37,-523.23 762.37,-523.23\"/>\n",
       "</g>\n",
       "<!-- 18 -->\n",
       "<g id=\"node19\" class=\"node\">\n",
       "<title>18</title>\n",
       "<path fill=\"#f1bc96\" stroke=\"black\" d=\"M1055.87,-511.5C1055.87,-511.5 949.87,-511.5 949.87,-511.5 943.87,-511.5 937.87,-505.5 937.87,-499.5 937.87,-499.5 937.87,-446.5 937.87,-446.5 937.87,-440.5 943.87,-434.5 949.87,-434.5 949.87,-434.5 1055.87,-434.5 1055.87,-434.5 1061.87,-434.5 1067.87,-440.5 1067.87,-446.5 1067.87,-446.5 1067.87,-499.5 1067.87,-499.5 1067.87,-505.5 1061.87,-511.5 1055.87,-511.5\"/>\n",
       "<text text-anchor=\"start\" x=\"961.24\" y=\"-494.2\" font-family=\"Helvetica,sans-Serif\" font-size=\"14.00\">SibSp ≤ 0.5</text>\n",
       "<text text-anchor=\"start\" x=\"963.87\" y=\"-476.95\" font-family=\"Helvetica,sans-Serif\" font-size=\"14.00\">gini = 0.43</text>\n",
       "<text text-anchor=\"start\" x=\"949.99\" y=\"-459.7\" font-family=\"Helvetica,sans-Serif\" font-size=\"14.00\">samples = 119</text>\n",
       "<text text-anchor=\"start\" x=\"945.87\" y=\"-442.45\" font-family=\"Helvetica,sans-Serif\" font-size=\"14.00\">value = [81, 38]</text>\n",
       "</g>\n",
       "<!-- 8&#45;&gt;18 -->\n",
       "<g id=\"edge18\" class=\"edge\">\n",
       "<title>8&#45;&gt;18</title>\n",
       "<path fill=\"none\" stroke=\"black\" d=\"M828.79,-553.19C859.53,-539.21 895.71,-522.75 927.09,-508.47\"/>\n",
       "<polygon fill=\"black\" stroke=\"black\" points=\"928.51,-511.67 936.16,-504.34 925.61,-505.3 928.51,-511.67\"/>\n",
       "</g>\n",
       "<!-- 10 -->\n",
       "<g id=\"node11\" class=\"node\">\n",
       "<title>10</title>\n",
       "<path fill=\"#f1b992\" stroke=\"black\" d=\"M730.87,-389.88C730.87,-389.88 624.87,-389.88 624.87,-389.88 618.87,-389.88 612.87,-383.88 612.87,-377.88 612.87,-377.88 612.87,-342.12 612.87,-342.12 612.87,-336.12 618.87,-330.12 624.87,-330.12 624.87,-330.12 730.87,-330.12 730.87,-330.12 736.87,-330.12 742.87,-336.12 742.87,-342.12 742.87,-342.12 742.87,-377.88 742.87,-377.88 742.87,-383.88 736.87,-389.88 730.87,-389.88\"/>\n",
       "<text text-anchor=\"start\" x=\"638.87\" y=\"-372.57\" font-family=\"Helvetica,sans-Serif\" font-size=\"14.00\">gini = 0.43</text>\n",
       "<text text-anchor=\"start\" x=\"629.49\" y=\"-355.32\" font-family=\"Helvetica,sans-Serif\" font-size=\"14.00\">samples = 55</text>\n",
       "<text text-anchor=\"start\" x=\"620.87\" y=\"-338.07\" font-family=\"Helvetica,sans-Serif\" font-size=\"14.00\">value = [38, 17]</text>\n",
       "</g>\n",
       "<!-- 9&#45;&gt;10 -->\n",
       "<g id=\"edge10\" class=\"edge\">\n",
       "<title>9&#45;&gt;10</title>\n",
       "<path fill=\"none\" stroke=\"black\" d=\"M731.22,-434.11C723.05,-422.92 714.11,-410.67 705.92,-399.45\"/>\n",
       "<polygon fill=\"black\" stroke=\"black\" points=\"708.87,-397.55 700.15,-391.53 703.22,-401.68 708.87,-397.55\"/>\n",
       "</g>\n",
       "<!-- 11 -->\n",
       "<g id=\"node12\" class=\"node\">\n",
       "<title>11</title>\n",
       "<path fill=\"#e89050\" stroke=\"black\" d=\"M898.37,-398.5C898.37,-398.5 783.37,-398.5 783.37,-398.5 777.37,-398.5 771.37,-392.5 771.37,-386.5 771.37,-386.5 771.37,-333.5 771.37,-333.5 771.37,-327.5 777.37,-321.5 783.37,-321.5 783.37,-321.5 898.37,-321.5 898.37,-321.5 904.37,-321.5 910.37,-327.5 910.37,-333.5 910.37,-333.5 910.37,-386.5 910.37,-386.5 910.37,-392.5 904.37,-398.5 898.37,-398.5\"/>\n",
       "<text text-anchor=\"start\" x=\"801.12\" y=\"-381.2\" font-family=\"Helvetica,sans-Serif\" font-size=\"14.00\">Age ≤ 32.5</text>\n",
       "<text text-anchor=\"start\" x=\"801.87\" y=\"-363.95\" font-family=\"Helvetica,sans-Serif\" font-size=\"14.00\">gini = 0.19</text>\n",
       "<text text-anchor=\"start\" x=\"787.99\" y=\"-346.7\" font-family=\"Helvetica,sans-Serif\" font-size=\"14.00\">samples = 265</text>\n",
       "<text text-anchor=\"start\" x=\"779.37\" y=\"-329.45\" font-family=\"Helvetica,sans-Serif\" font-size=\"14.00\">value = [237, 28]</text>\n",
       "</g>\n",
       "<!-- 9&#45;&gt;11 -->\n",
       "<g id=\"edge11\" class=\"edge\">\n",
       "<title>9&#45;&gt;11</title>\n",
       "<path fill=\"none\" stroke=\"black\" d=\"M786.86,-434.11C793.12,-425.63 799.84,-416.53 806.34,-407.74\"/>\n",
       "<polygon fill=\"black\" stroke=\"black\" points=\"808.98,-410.06 812.1,-399.94 803.35,-405.9 808.98,-410.06\"/>\n",
       "</g>\n",
       "<!-- 12 -->\n",
       "<g id=\"node13\" class=\"node\">\n",
       "<title>12</title>\n",
       "<path fill=\"#e99356\" stroke=\"black\" d=\"M819.37,-285.5C819.37,-285.5 704.37,-285.5 704.37,-285.5 698.37,-285.5 692.37,-279.5 692.37,-273.5 692.37,-273.5 692.37,-220.5 692.37,-220.5 692.37,-214.5 698.37,-208.5 704.37,-208.5 704.37,-208.5 819.37,-208.5 819.37,-208.5 825.37,-208.5 831.37,-214.5 831.37,-220.5 831.37,-220.5 831.37,-273.5 831.37,-273.5 831.37,-279.5 825.37,-285.5 819.37,-285.5\"/>\n",
       "<text text-anchor=\"start\" x=\"717.62\" y=\"-268.2\" font-family=\"Helvetica,sans-Serif\" font-size=\"14.00\">Age ≤ 24.75</text>\n",
       "<text text-anchor=\"start\" x=\"722.87\" y=\"-250.95\" font-family=\"Helvetica,sans-Serif\" font-size=\"14.00\">gini = 0.22</text>\n",
       "<text text-anchor=\"start\" x=\"708.99\" y=\"-233.7\" font-family=\"Helvetica,sans-Serif\" font-size=\"14.00\">samples = 181</text>\n",
       "<text text-anchor=\"start\" x=\"700.37\" y=\"-216.45\" font-family=\"Helvetica,sans-Serif\" font-size=\"14.00\">value = [158, 23]</text>\n",
       "</g>\n",
       "<!-- 11&#45;&gt;12 -->\n",
       "<g id=\"edge12\" class=\"edge\">\n",
       "<title>11&#45;&gt;12</title>\n",
       "<path fill=\"none\" stroke=\"black\" d=\"M813.9,-321.11C807.93,-312.72 801.52,-303.72 795.33,-295.01\"/>\n",
       "<polygon fill=\"black\" stroke=\"black\" points=\"798.24,-293.07 789.59,-286.95 792.54,-297.13 798.24,-293.07\"/>\n",
       "</g>\n",
       "<!-- 17 -->\n",
       "<g id=\"node18\" class=\"node\">\n",
       "<title>17</title>\n",
       "<path fill=\"#e78946\" stroke=\"black\" d=\"M967.37,-276.88C967.37,-276.88 870.37,-276.88 870.37,-276.88 864.37,-276.88 858.37,-270.88 858.37,-264.88 858.37,-264.88 858.37,-229.12 858.37,-229.12 858.37,-223.12 864.37,-217.12 870.37,-217.12 870.37,-217.12 967.37,-217.12 967.37,-217.12 973.37,-217.12 979.37,-223.12 979.37,-229.12 979.37,-229.12 979.37,-264.88 979.37,-264.88 979.37,-270.88 973.37,-276.88 967.37,-276.88\"/>\n",
       "<text text-anchor=\"start\" x=\"879.87\" y=\"-259.57\" font-family=\"Helvetica,sans-Serif\" font-size=\"14.00\">gini = 0.11</text>\n",
       "<text text-anchor=\"start\" x=\"870.49\" y=\"-242.32\" font-family=\"Helvetica,sans-Serif\" font-size=\"14.00\">samples = 84</text>\n",
       "<text text-anchor=\"start\" x=\"866.37\" y=\"-225.07\" font-family=\"Helvetica,sans-Serif\" font-size=\"14.00\">value = [79, 5]</text>\n",
       "</g>\n",
       "<!-- 11&#45;&gt;17 -->\n",
       "<g id=\"edge17\" class=\"edge\">\n",
       "<title>11&#45;&gt;17</title>\n",
       "<path fill=\"none\" stroke=\"black\" d=\"M867.49,-321.11C875.35,-309.92 883.96,-297.67 891.85,-286.45\"/>\n",
       "<polygon fill=\"black\" stroke=\"black\" points=\"894.51,-288.74 897.4,-278.55 888.79,-284.72 894.51,-288.74\"/>\n",
       "</g>\n",
       "<!-- 13 -->\n",
       "<g id=\"node14\" class=\"node\">\n",
       "<title>13</title>\n",
       "<path fill=\"#e88d4c\" stroke=\"black\" d=\"M739.37,-172.5C739.37,-172.5 624.37,-172.5 624.37,-172.5 618.37,-172.5 612.37,-166.5 612.37,-160.5 612.37,-160.5 612.37,-107.5 612.37,-107.5 612.37,-101.5 618.37,-95.5 624.37,-95.5 624.37,-95.5 739.37,-95.5 739.37,-95.5 745.37,-95.5 751.37,-101.5 751.37,-107.5 751.37,-107.5 751.37,-160.5 751.37,-160.5 751.37,-166.5 745.37,-172.5 739.37,-172.5\"/>\n",
       "<text text-anchor=\"start\" x=\"628.99\" y=\"-155.2\" font-family=\"Helvetica,sans-Serif\" font-size=\"14.00\">LogFare ≤ 2.18</text>\n",
       "<text text-anchor=\"start\" x=\"642.87\" y=\"-137.95\" font-family=\"Helvetica,sans-Serif\" font-size=\"14.00\">gini = 0.16</text>\n",
       "<text text-anchor=\"start\" x=\"628.99\" y=\"-120.7\" font-family=\"Helvetica,sans-Serif\" font-size=\"14.00\">samples = 114</text>\n",
       "<text text-anchor=\"start\" x=\"620.37\" y=\"-103.45\" font-family=\"Helvetica,sans-Serif\" font-size=\"14.00\">value = [104, 10]</text>\n",
       "</g>\n",
       "<!-- 12&#45;&gt;13 -->\n",
       "<g id=\"edge13\" class=\"edge\">\n",
       "<title>12&#45;&gt;13</title>\n",
       "<path fill=\"none\" stroke=\"black\" d=\"M734.56,-208.11C728.51,-199.72 722.03,-190.72 715.75,-182.01\"/>\n",
       "<polygon fill=\"black\" stroke=\"black\" points=\"718.62,-180.01 709.94,-173.95 712.94,-184.11 718.62,-180.01\"/>\n",
       "</g>\n",
       "<!-- 16 -->\n",
       "<g id=\"node17\" class=\"node\">\n",
       "<title>16</title>\n",
       "<path fill=\"#eb9f69\" stroke=\"black\" d=\"M896.87,-163.88C896.87,-163.88 790.87,-163.88 790.87,-163.88 784.87,-163.88 778.87,-157.88 778.87,-151.88 778.87,-151.88 778.87,-116.12 778.87,-116.12 778.87,-110.12 784.87,-104.12 790.87,-104.12 790.87,-104.12 896.87,-104.12 896.87,-104.12 902.87,-104.12 908.87,-110.12 908.87,-116.12 908.87,-116.12 908.87,-151.88 908.87,-151.88 908.87,-157.88 902.87,-163.88 896.87,-163.88\"/>\n",
       "<text text-anchor=\"start\" x=\"804.87\" y=\"-146.57\" font-family=\"Helvetica,sans-Serif\" font-size=\"14.00\">gini = 0.31</text>\n",
       "<text text-anchor=\"start\" x=\"795.49\" y=\"-129.32\" font-family=\"Helvetica,sans-Serif\" font-size=\"14.00\">samples = 67</text>\n",
       "<text text-anchor=\"start\" x=\"786.87\" y=\"-112.08\" font-family=\"Helvetica,sans-Serif\" font-size=\"14.00\">value = [54, 13]</text>\n",
       "</g>\n",
       "<!-- 12&#45;&gt;16 -->\n",
       "<g id=\"edge16\" class=\"edge\">\n",
       "<title>12&#45;&gt;16</title>\n",
       "<path fill=\"none\" stroke=\"black\" d=\"M789.86,-208.11C798.12,-196.92 807.17,-184.67 815.46,-173.45\"/>\n",
       "<polygon fill=\"black\" stroke=\"black\" points=\"818.19,-175.65 821.31,-165.53 812.56,-171.49 818.19,-175.65\"/>\n",
       "</g>\n",
       "<!-- 14 -->\n",
       "<g id=\"node15\" class=\"node\">\n",
       "<title>14</title>\n",
       "<path fill=\"#e99254\" stroke=\"black\" d=\"M656.37,-59.88C656.37,-59.88 559.37,-59.88 559.37,-59.88 553.37,-59.88 547.37,-53.88 547.37,-47.88 547.37,-47.88 547.37,-12.12 547.37,-12.12 547.37,-6.12 553.37,-0.12 559.37,-0.12 559.37,-0.12 656.37,-0.12 656.37,-0.12 662.37,-0.12 668.37,-6.12 668.37,-12.12 668.37,-12.12 668.37,-47.88 668.37,-47.88 668.37,-53.88 662.37,-59.88 656.37,-59.88\"/>\n",
       "<text text-anchor=\"start\" x=\"568.87\" y=\"-42.58\" font-family=\"Helvetica,sans-Serif\" font-size=\"14.00\">gini = 0.21</text>\n",
       "<text text-anchor=\"start\" x=\"559.49\" y=\"-25.32\" font-family=\"Helvetica,sans-Serif\" font-size=\"14.00\">samples = 50</text>\n",
       "<text text-anchor=\"start\" x=\"555.37\" y=\"-8.07\" font-family=\"Helvetica,sans-Serif\" font-size=\"14.00\">value = [44, 6]</text>\n",
       "</g>\n",
       "<!-- 13&#45;&gt;14 -->\n",
       "<g id=\"edge14\" class=\"edge\">\n",
       "<title>13&#45;&gt;14</title>\n",
       "<path fill=\"none\" stroke=\"black\" d=\"M654.31,-95.02C648.22,-86.62 641.76,-77.72 635.66,-69.32\"/>\n",
       "<polygon fill=\"black\" stroke=\"black\" points=\"638.56,-67.35 629.86,-61.31 632.89,-71.46 638.56,-67.35\"/>\n",
       "</g>\n",
       "<!-- 15 -->\n",
       "<g id=\"node16\" class=\"node\">\n",
       "<title>15</title>\n",
       "<path fill=\"#e78946\" stroke=\"black\" d=\"M804.37,-59.88C804.37,-59.88 707.37,-59.88 707.37,-59.88 701.37,-59.88 695.37,-53.88 695.37,-47.88 695.37,-47.88 695.37,-12.12 695.37,-12.12 695.37,-6.12 701.37,-0.12 707.37,-0.12 707.37,-0.12 804.37,-0.12 804.37,-0.12 810.37,-0.12 816.37,-6.12 816.37,-12.12 816.37,-12.12 816.37,-47.88 816.37,-47.88 816.37,-53.88 810.37,-59.88 804.37,-59.88\"/>\n",
       "<text text-anchor=\"start\" x=\"716.87\" y=\"-42.58\" font-family=\"Helvetica,sans-Serif\" font-size=\"14.00\">gini = 0.12</text>\n",
       "<text text-anchor=\"start\" x=\"707.49\" y=\"-25.32\" font-family=\"Helvetica,sans-Serif\" font-size=\"14.00\">samples = 64</text>\n",
       "<text text-anchor=\"start\" x=\"703.37\" y=\"-8.07\" font-family=\"Helvetica,sans-Serif\" font-size=\"14.00\">value = [60, 4]</text>\n",
       "</g>\n",
       "<!-- 13&#45;&gt;15 -->\n",
       "<g id=\"edge15\" class=\"edge\">\n",
       "<title>13&#45;&gt;15</title>\n",
       "<path fill=\"none\" stroke=\"black\" d=\"M709.42,-95.02C715.51,-86.62 721.97,-77.72 728.07,-69.32\"/>\n",
       "<polygon fill=\"black\" stroke=\"black\" points=\"730.84,-71.46 733.88,-61.31 725.17,-67.35 730.84,-71.46\"/>\n",
       "</g>\n",
       "<!-- 19 -->\n",
       "<g id=\"node20\" class=\"node\">\n",
       "<title>19</title>\n",
       "<path fill=\"#f6d5bd\" stroke=\"black\" d=\"M1055.87,-389.88C1055.87,-389.88 949.87,-389.88 949.87,-389.88 943.87,-389.88 937.87,-383.88 937.87,-377.88 937.87,-377.88 937.87,-342.12 937.87,-342.12 937.87,-336.12 943.87,-330.12 949.87,-330.12 949.87,-330.12 1055.87,-330.12 1055.87,-330.12 1061.87,-330.12 1067.87,-336.12 1067.87,-342.12 1067.87,-342.12 1067.87,-377.88 1067.87,-377.88 1067.87,-383.88 1061.87,-389.88 1055.87,-389.88\"/>\n",
       "<text text-anchor=\"start\" x=\"963.87\" y=\"-372.57\" font-family=\"Helvetica,sans-Serif\" font-size=\"14.00\">gini = 0.48</text>\n",
       "<text text-anchor=\"start\" x=\"954.49\" y=\"-355.32\" font-family=\"Helvetica,sans-Serif\" font-size=\"14.00\">samples = 60</text>\n",
       "<text text-anchor=\"start\" x=\"945.87\" y=\"-338.07\" font-family=\"Helvetica,sans-Serif\" font-size=\"14.00\">value = [36, 24]</text>\n",
       "</g>\n",
       "<!-- 18&#45;&gt;19 -->\n",
       "<g id=\"edge19\" class=\"edge\">\n",
       "<title>18&#45;&gt;19</title>\n",
       "<path fill=\"none\" stroke=\"black\" d=\"M1002.87,-434.11C1002.87,-423.71 1002.87,-412.38 1002.87,-401.82\"/>\n",
       "<polygon fill=\"black\" stroke=\"black\" points=\"1006.37,-401.82 1002.87,-391.82 999.37,-401.82 1006.37,-401.82\"/>\n",
       "</g>\n",
       "<!-- 20 -->\n",
       "<g id=\"node21\" class=\"node\">\n",
       "<title>20</title>\n",
       "<path fill=\"#eda877\" stroke=\"black\" d=\"M1212.87,-389.88C1212.87,-389.88 1106.87,-389.88 1106.87,-389.88 1100.87,-389.88 1094.87,-383.88 1094.87,-377.88 1094.87,-377.88 1094.87,-342.12 1094.87,-342.12 1094.87,-336.12 1100.87,-330.12 1106.87,-330.12 1106.87,-330.12 1212.87,-330.12 1212.87,-330.12 1218.87,-330.12 1224.87,-336.12 1224.87,-342.12 1224.87,-342.12 1224.87,-377.88 1224.87,-377.88 1224.87,-383.88 1218.87,-389.88 1212.87,-389.88\"/>\n",
       "<text text-anchor=\"start\" x=\"1120.87\" y=\"-372.57\" font-family=\"Helvetica,sans-Serif\" font-size=\"14.00\">gini = 0.36</text>\n",
       "<text text-anchor=\"start\" x=\"1111.49\" y=\"-355.32\" font-family=\"Helvetica,sans-Serif\" font-size=\"14.00\">samples = 59</text>\n",
       "<text text-anchor=\"start\" x=\"1102.87\" y=\"-338.07\" font-family=\"Helvetica,sans-Serif\" font-size=\"14.00\">value = [45, 14]</text>\n",
       "</g>\n",
       "<!-- 18&#45;&gt;20 -->\n",
       "<g id=\"edge20\" class=\"edge\">\n",
       "<title>18&#45;&gt;20</title>\n",
       "<path fill=\"none\" stroke=\"black\" d=\"M1056.46,-434.11C1073.55,-422.03 1092.39,-408.7 1109.26,-396.78\"/>\n",
       "<polygon fill=\"black\" stroke=\"black\" points=\"1111.03,-399.82 1117.17,-391.19 1106.99,-394.1 1111.03,-399.82\"/>\n",
       "</g>\n",
       "</g>\n",
       "</svg>\n"
      ],
      "text/plain": [
       "<graphviz.sources.Source at 0x7a7c8c017f10>"
      ]
     },
     "execution_count": 41,
     "metadata": {},
     "output_type": "execute_result"
    }
   ],
   "source": [
    "m = DecisionTreeClassifier(min_samples_leaf=50)\n",
    "m.fit(trn_xs, trn_y)\n",
    "draw_tree(m, trn_xs, size=12)"
   ]
  },
  {
   "cell_type": "code",
   "execution_count": 42,
   "id": "6e68ae9b",
   "metadata": {
    "execution": {
     "iopub.execute_input": "2024-03-27T18:38:12.020495Z",
     "iopub.status.busy": "2024-03-27T18:38:12.020079Z",
     "iopub.status.idle": "2024-03-27T18:38:12.030364Z",
     "shell.execute_reply": "2024-03-27T18:38:12.029153Z"
    },
    "papermill": {
     "duration": 0.042339,
     "end_time": "2024-03-27T18:38:12.032718",
     "exception": false,
     "start_time": "2024-03-27T18:38:11.990379",
     "status": "completed"
    },
    "tags": []
   },
   "outputs": [
    {
     "data": {
      "text/plain": [
       "0.18385650224215247"
      ]
     },
     "execution_count": 42,
     "metadata": {},
     "output_type": "execute_result"
    }
   ],
   "source": [
    "mean_absolute_error(val_y, m.predict(val_xs))"
   ]
  },
  {
   "cell_type": "markdown",
   "id": "e4ad2420",
   "metadata": {
    "papermill": {
     "duration": 0.029432,
     "end_time": "2024-03-27T18:38:12.090785",
     "exception": false,
     "start_time": "2024-03-27T18:38:12.061353",
     "status": "completed"
    },
    "tags": []
   },
   "source": [
    "We improved our decision tree based model. Let's try submitting it to Kaggle\n"
   ]
  },
  {
   "cell_type": "code",
   "execution_count": 43,
   "id": "5ddaafaf",
   "metadata": {
    "execution": {
     "iopub.execute_input": "2024-03-27T18:38:12.149344Z",
     "iopub.status.busy": "2024-03-27T18:38:12.148226Z",
     "iopub.status.idle": "2024-03-27T18:38:12.165494Z",
     "shell.execute_reply": "2024-03-27T18:38:12.164464Z"
    },
    "papermill": {
     "duration": 0.048747,
     "end_time": "2024-03-27T18:38:12.167875",
     "exception": false,
     "start_time": "2024-03-27T18:38:12.119128",
     "status": "completed"
    },
    "tags": []
   },
   "outputs": [],
   "source": [
    "test_df[cats] = test_df[cats].apply(lambda x: x.cat.codes)\n",
    "test_xs,_ = xs_y(test_df)\n",
    "\n",
    "def subm(preds, suff):\n",
    "    test_df['Survived'] = preds\n",
    "    sub_df = test_df[['PassengerId','Survived']]\n",
    "    sub_df.to_csv(f'sub-{suff}.csv', index=False)\n",
    "\n",
    "subm(m.predict(test_xs), 'tree')"
   ]
  },
  {
   "cell_type": "code",
   "execution_count": 44,
   "id": "2e66ea3a",
   "metadata": {
    "execution": {
     "iopub.execute_input": "2024-03-27T18:38:12.228210Z",
     "iopub.status.busy": "2024-03-27T18:38:12.227053Z",
     "iopub.status.idle": "2024-03-27T18:38:13.319223Z",
     "shell.execute_reply": "2024-03-27T18:38:13.317986Z"
    },
    "papermill": {
     "duration": 1.12512,
     "end_time": "2024-03-27T18:38:13.322018",
     "exception": false,
     "start_time": "2024-03-27T18:38:12.196898",
     "status": "completed"
    },
    "tags": []
   },
   "outputs": [
    {
     "name": "stdout",
     "output_type": "stream",
     "text": [
      "PassengerId,Survived\r\n",
      "892,0\r\n",
      "893,1\r\n",
      "894,0\r\n",
      "895,0\r\n",
      "896,1\r\n",
      "897,0\r\n",
      "898,1\r\n",
      "899,0\r\n",
      "900,1\r\n"
     ]
    }
   ],
   "source": [
    "!head sub-tree.csv"
   ]
  },
  {
   "cell_type": "markdown",
   "id": "8b0d441c",
   "metadata": {
    "papermill": {
     "duration": 0.028339,
     "end_time": "2024-03-27T18:38:13.380114",
     "exception": false,
     "start_time": "2024-03-27T18:38:13.351775",
     "status": "completed"
    },
    "tags": []
   },
   "source": [
    "We can see that we didn't create dummy variables but instead just converted the labels into numbers using some (potentially arbitary) ordering of categories"
   ]
  },
  {
   "cell_type": "markdown",
   "id": "73601c34",
   "metadata": {
    "papermill": {
     "duration": 0.028373,
     "end_time": "2024-03-27T18:38:13.436948",
     "exception": false,
     "start_time": "2024-03-27T18:38:13.408575",
     "status": "completed"
    },
    "tags": []
   },
   "source": [
    "# Random Forest\n",
    "- We can't make the decision tree much bigger as it would lead to overfitting.\n",
    "\n",
    "- Alternative: We can create multiple trees then take the average of their prediction. Taking average of their prediction of multiple models is known as *Bagging*\n",
    "- *The Idea is that we want each model's predictions in the averaged ensemble to be uncorrelated with each other model. That way, if we average the preditions, the average will be equal to the true target value -- That's because the average of lots of uncorrelated random errors is zero.*\n",
    "- One way we can create a bunch of uncorrelated models is to train each of them on different random subset of the data. That's how we create random forest."
   ]
  },
  {
   "cell_type": "code",
   "execution_count": 45,
   "id": "122cfebd",
   "metadata": {
    "execution": {
     "iopub.execute_input": "2024-03-27T18:38:13.497360Z",
     "iopub.status.busy": "2024-03-27T18:38:13.496906Z",
     "iopub.status.idle": "2024-03-27T18:38:13.503557Z",
     "shell.execute_reply": "2024-03-27T18:38:13.502687Z"
    },
    "papermill": {
     "duration": 0.040141,
     "end_time": "2024-03-27T18:38:13.505586",
     "exception": false,
     "start_time": "2024-03-27T18:38:13.465445",
     "status": "completed"
    },
    "tags": []
   },
   "outputs": [],
   "source": [
    "def get_tree(prop=0.75):\n",
    "    n=len(trn_y)\n",
    "    idxs= random.choice(n, int(n*prop))\n",
    "    return DecisionTreeClassifier(min_samples_leaf=5).fit(trn_xs.iloc[idxs], trn_y.iloc[idxs])\n"
   ]
  },
  {
   "cell_type": "code",
   "execution_count": 46,
   "id": "dc8fb4a7",
   "metadata": {
    "execution": {
     "iopub.execute_input": "2024-03-27T18:38:13.564893Z",
     "iopub.status.busy": "2024-03-27T18:38:13.563934Z",
     "iopub.status.idle": "2024-03-27T18:38:13.898477Z",
     "shell.execute_reply": "2024-03-27T18:38:13.897423Z"
    },
    "papermill": {
     "duration": 0.367338,
     "end_time": "2024-03-27T18:38:13.901410",
     "exception": false,
     "start_time": "2024-03-27T18:38:13.534072",
     "status": "completed"
    },
    "tags": []
   },
   "outputs": [],
   "source": [
    "trees = [get_tree() for t in range(100)]"
   ]
  },
  {
   "cell_type": "code",
   "execution_count": 47,
   "id": "5d0189ce",
   "metadata": {
    "execution": {
     "iopub.execute_input": "2024-03-27T18:38:13.961411Z",
     "iopub.status.busy": "2024-03-27T18:38:13.960964Z",
     "iopub.status.idle": "2024-03-27T18:38:14.119218Z",
     "shell.execute_reply": "2024-03-27T18:38:14.117835Z"
    },
    "papermill": {
     "duration": 0.1916,
     "end_time": "2024-03-27T18:38:14.121899",
     "exception": false,
     "start_time": "2024-03-27T18:38:13.930299",
     "status": "completed"
    },
    "tags": []
   },
   "outputs": [
    {
     "data": {
      "text/plain": [
       "0.2272645739910314"
      ]
     },
     "execution_count": 47,
     "metadata": {},
     "output_type": "execute_result"
    }
   ],
   "source": [
    "# Predicting with all trees for validation set\n",
    "all_probs = [t.predict(val_xs) for t in trees]\n",
    "avg_probs = np.stack(all_probs).mean(0)\n",
    "\n",
    "mean_absolute_error(val_y, avg_probs)"
   ]
  },
  {
   "cell_type": "markdown",
   "id": "2b7627ac",
   "metadata": {
    "papermill": {
     "duration": 0.02835,
     "end_time": "2024-03-27T18:38:14.179287",
     "exception": false,
     "start_time": "2024-03-27T18:38:14.150937",
     "status": "completed"
    },
    "tags": []
   },
   "source": [
    "This is similar to `sklearn`'s `RandomForestClassifier` does.\n",
    "- The main piece in `real` random forest is that as well as choosing random sample of the data for each tree, it also picks a random subset of the column for each split\n"
   ]
  },
  {
   "cell_type": "code",
   "execution_count": 48,
   "id": "dbad1fd0",
   "metadata": {
    "execution": {
     "iopub.execute_input": "2024-03-27T18:38:14.238717Z",
     "iopub.status.busy": "2024-03-27T18:38:14.237997Z",
     "iopub.status.idle": "2024-03-27T18:38:14.588265Z",
     "shell.execute_reply": "2024-03-27T18:38:14.587072Z"
    },
    "papermill": {
     "duration": 0.382773,
     "end_time": "2024-03-27T18:38:14.590652",
     "exception": false,
     "start_time": "2024-03-27T18:38:14.207879",
     "status": "completed"
    },
    "tags": []
   },
   "outputs": [
    {
     "data": {
      "text/plain": [
       "0.18834080717488788"
      ]
     },
     "execution_count": 48,
     "metadata": {},
     "output_type": "execute_result"
    }
   ],
   "source": [
    "from sklearn.ensemble import RandomForestClassifier\n",
    "\n",
    "rf = RandomForestClassifier(100, min_samples_leaf=5)\n",
    "rf.fit(trn_xs, trn_y)\n",
    "mean_absolute_error(val_y, rf.predict(val_xs))"
   ]
  },
  {
   "cell_type": "code",
   "execution_count": 49,
   "id": "3930f263",
   "metadata": {
    "execution": {
     "iopub.execute_input": "2024-03-27T18:38:14.651417Z",
     "iopub.status.busy": "2024-03-27T18:38:14.650238Z",
     "iopub.status.idle": "2024-03-27T18:38:14.673426Z",
     "shell.execute_reply": "2024-03-27T18:38:14.671950Z"
    },
    "papermill": {
     "duration": 0.056604,
     "end_time": "2024-03-27T18:38:14.676295",
     "exception": false,
     "start_time": "2024-03-27T18:38:14.619691",
     "status": "completed"
    },
    "tags": []
   },
   "outputs": [],
   "source": [
    "# Submitting to kaggle\n",
    "subm(rf.predict(test_xs), 'randomforest')"
   ]
  },
  {
   "cell_type": "markdown",
   "id": "27e98ed6",
   "metadata": {
    "papermill": {
     "duration": 0.028725,
     "end_time": "2024-03-27T18:38:14.736168",
     "exception": false,
     "start_time": "2024-03-27T18:38:14.707443",
     "status": "completed"
    },
    "tags": []
   },
   "source": [
    "### Feature Importance\n",
    "Nice feature of random forests is they can tell us which independent variables were the most important in the model, using feature_importances_"
   ]
  },
  {
   "cell_type": "code",
   "execution_count": 50,
   "id": "184a8bf7",
   "metadata": {
    "execution": {
     "iopub.execute_input": "2024-03-27T18:38:14.796658Z",
     "iopub.status.busy": "2024-03-27T18:38:14.796170Z",
     "iopub.status.idle": "2024-03-27T18:38:15.127476Z",
     "shell.execute_reply": "2024-03-27T18:38:15.126254Z"
    },
    "papermill": {
     "duration": 0.365042,
     "end_time": "2024-03-27T18:38:15.130266",
     "exception": false,
     "start_time": "2024-03-27T18:38:14.765224",
     "status": "completed"
    },
    "tags": []
   },
   "outputs": [
    {
     "data": {
      "image/png": "[encoded data removed]",
      "text/plain": [
       "<Figure size 640x480 with 1 Axes>"
      ]
     },
     "metadata": {},
     "output_type": "display_data"
    }
   ],
   "source": [
    "pd.DataFrame(dict(cols=trn_xs.columns, imp=m.feature_importances_)).plot('cols', 'imp', 'barh');"
   ]
  },
  {
   "cell_type": "markdown",
   "id": "79c3b2c0",
   "metadata": {
    "papermill": {
     "duration": 0.028949,
     "end_time": "2024-03-27T18:38:15.189016",
     "exception": false,
     "start_time": "2024-03-27T18:38:15.160067",
     "status": "completed"
    },
    "tags": []
   },
   "source": [
    "It shows us the order in which the columns are effecting the prediction calculation. It can help you to understand the importance of feature and can also help you to remove unwanted negligible effective columns."
   ]
  },
  {
   "cell_type": "markdown",
   "id": "19df9761",
   "metadata": {
    "papermill": {
     "duration": 0.029073,
     "end_time": "2024-03-27T18:38:15.247363",
     "exception": false,
     "start_time": "2024-03-27T18:38:15.218290",
     "status": "completed"
    },
    "tags": []
   },
   "source": [
    "# Conclusion\n",
    "Takeaways\n",
    "- More complex models does not always perform better. `OneR` model consisting single binary split performed as nearly good as more complex model. \n",
    "- Consider using simple models. Random forest in our case wasn't an improvement to single decision tree,\n",
    "\n",
    "- Always be careful to benchmark the simple model; they might be good for our problem statement\n",
    "- Random forest aren't complicated. We understood feature importance. It is insensitive to normalization , interaction or non linear transformation (no preprocessing required). So easy to work with."
   ]
  }
 ],
 "metadata": {
  "kaggle": {
   "accelerator": "none",
   "dataSources": [
    {
     "databundleVersionId": 26502,
     "sourceId": 3136,
     "sourceType": "competition"
    }
   ],
   "isGpuEnabled": false,
   "isInternetEnabled": true,
   "language": "python",
   "sourceType": "notebook"
  },
  "kernelspec": {
   "display_name": "Python 3",
   "language": "python",
   "name": "python3"
  },
  "language_info": {
   "codemirror_mode": {
    "name": "ipython",
    "version": 3
   },
   "file_extension": ".py",
   "mimetype": "text/x-python",
   "name": "python",
   "nbconvert_exporter": "python",
   "pygments_lexer": "ipython3",
   "version": "3.10.13"
  },
  "papermill": {
   "default_parameters": {},
   "duration": 16.584528,
   "end_time": "2024-03-27T18:38:16.100280",
   "environment_variables": {},
   "exception": null,
   "input_path": "__notebook__.ipynb",
   "output_path": "__notebook__.ipynb",
   "parameters": {},
   "start_time": "2024-03-27T18:37:59.515752",
   "version": "2.5.0"
  },
  "widgets": {
   "application/vnd.jupyter.widget-state+json": {
    "state": {
     "105349d9b73d4caf93b35a744ceb7bff": {
      "model_module": "@jupyter-widgets/controls",
      "model_module_version": "1.5.0",
      "model_name": "VBoxModel",
      "state": {
       "_dom_classes": [
        "widget-interact"
       ],
       "_model_module": "@jupyter-widgets/controls",
       "_model_module_version": "1.5.0",
       "_model_name": "VBoxModel",
       "_view_count": null,
       "_view_module": "@jupyter-widgets/controls",
       "_view_module_version": "1.5.0",
       "_view_name": "VBoxView",
       "box_style": "",
       "children": [
        "IPY_MODEL_dfb46557bea9440089f4df3135ddb097",
        "IPY_MODEL_e3105a2c91884c4ba990b1a3e2346c2b",
        "IPY_MODEL_7ee9f7ebcead4c2998cf9711552c9a22"
       ],
       "layout": "IPY_MODEL_59c720e2b47f4879a43fdff4fe79eafe"
      }
     },
     "113fe525154446d18f7212b95831a0dd": {
      "model_module": "@jupyter-widgets/controls",
      "model_module_version": "1.5.0",
      "model_name": "SliderStyleModel",
      "state": {
       "_model_module": "@jupyter-widgets/controls",
       "_model_module_version": "1.5.0",
       "_model_name": "SliderStyleModel",
       "_view_count": null,
       "_view_module": "@jupyter-widgets/base",
       "_view_module_version": "1.2.0",
       "_view_name": "StyleView",
       "description_width": "",
       "handle_color": null
      }
     },
     "58056c1a9fe44ed5b598dbef696086be": {
      "model_module": "@jupyter-widgets/controls",
      "model_module_version": "1.5.0",
      "model_name": "DescriptionStyleModel",
      "state": {
       "_model_module": "@jupyter-widgets/controls",
       "_model_module_version": "1.5.0",
       "_model_name": "DescriptionStyleModel",
       "_view_count": null,
       "_view_module": "@jupyter-widgets/base",
       "_view_module_version": "1.2.0",
       "_view_name": "StyleView",
       "description_width": ""
      }
     },
     "59c720e2b47f4879a43fdff4fe79eafe": {
      "model_module": "@jupyter-widgets/base",
      "model_module_version": "1.2.0",
      "model_name": "LayoutModel",
      "state": {
       "_model_module": "@jupyter-widgets/base",
       "_model_module_version": "1.2.0",
       "_model_name": "LayoutModel",
       "_view_count": null,
       "_view_module": "@jupyter-widgets/base",
       "_view_module_version": "1.2.0",
       "_view_name": "LayoutView",
       "align_content": null,
       "align_items": null,
       "align_self": null,
       "border": null,
       "bottom": null,
       "display": null,
       "flex": null,
       "flex_flow": null,
       "grid_area": null,
       "grid_auto_columns": null,
       "grid_auto_flow": null,
       "grid_auto_rows": null,
       "grid_column": null,
       "grid_gap": null,
       "grid_row": null,
       "grid_template_areas": null,
       "grid_template_columns": null,
       "grid_template_rows": null,
       "height": null,
       "justify_content": null,
       "justify_items": null,
       "left": null,
       "margin": null,
       "max_height": null,
       "max_width": null,
       "min_height": null,
       "min_width": null,
       "object_fit": null,
       "object_position": null,
       "order": null,
       "overflow": null,
       "overflow_x": null,
       "overflow_y": null,
       "padding": null,
       "right": null,
       "top": null,
       "visibility": null,
       "width": null
      }
     },
     "5ec825593a504134828722fb492d4757": {
      "model_module": "@jupyter-widgets/output",
      "model_module_version": "1.0.0",
      "model_name": "OutputModel",
      "state": {
       "_dom_classes": [],
       "_model_module": "@jupyter-widgets/output",
       "_model_module_version": "1.0.0",
       "_model_name": "OutputModel",
       "_view_count": null,
       "_view_module": "@jupyter-widgets/output",
       "_view_module_version": "1.0.0",
       "_view_name": "OutputView",
       "layout": "IPY_MODEL_9747b5abd15e4911b212ef35709f4ca3",
       "msg_id": "",
       "outputs": [
        {
         "data": {
          "text/plain": "0.4854373192013831"
         },
         "metadata": {},
         "output_type": "display_data"
        }
       ]
      }
     },
     "6c0fc52463614a3ab5a87f81fc3bed24": {
      "model_module": "@jupyter-widgets/base",
      "model_module_version": "1.2.0",
      "model_name": "LayoutModel",
      "state": {
       "_model_module": "@jupyter-widgets/base",
       "_model_module_version": "1.2.0",
       "_model_name": "LayoutModel",
       "_view_count": null,
       "_view_module": "@jupyter-widgets/base",
       "_view_module_version": "1.2.0",
       "_view_name": "LayoutView",
       "align_content": null,
       "align_items": null,
       "align_self": null,
       "border": null,
       "bottom": null,
       "display": null,
       "flex": null,
       "flex_flow": null,
       "grid_area": null,
       "grid_auto_columns": null,
       "grid_auto_flow": null,
       "grid_auto_rows": null,
       "grid_column": null,
       "grid_gap": null,
       "grid_row": null,
       "grid_template_areas": null,
       "grid_template_columns": null,
       "grid_template_rows": null,
       "height": null,
       "justify_content": null,
       "justify_items": null,
       "left": null,
       "margin": null,
       "max_height": null,
       "max_width": null,
       "min_height": null,
       "min_width": null,
       "object_fit": null,
       "object_position": null,
       "order": null,
       "overflow": null,
       "overflow_x": null,
       "overflow_y": null,
       "padding": null,
       "right": null,
       "top": null,
       "visibility": null,
       "width": null
      }
     },
     "7ee9f7ebcead4c2998cf9711552c9a22": {
      "model_module": "@jupyter-widgets/output",
      "model_module_version": "1.0.0",
      "model_name": "OutputModel",
      "state": {
       "_dom_classes": [],
       "_model_module": "@jupyter-widgets/output",
       "_model_module_version": "1.0.0",
       "_model_name": "OutputModel",
       "_view_count": null,
       "_view_module": "@jupyter-widgets/output",
       "_view_module_version": "1.0.0",
       "_view_name": "OutputView",
       "layout": "IPY_MODEL_6c0fc52463614a3ab5a87f81fc3bed24",
       "msg_id": "",
       "outputs": [
        {
         "data": {
          "text/plain": "0.48105614369455413"
         },
         "metadata": {},
         "output_type": "display_data"
        }
       ]
      }
     },
     "7f62f1a73fda4d32b6c61e71988de637": {
      "model_module": "@jupyter-widgets/controls",
      "model_module_version": "1.5.0",
      "model_name": "FloatSliderModel",
      "state": {
       "_dom_classes": [],
       "_model_module": "@jupyter-widgets/controls",
       "_model_module_version": "1.5.0",
       "_model_name": "FloatSliderModel",
       "_view_count": null,
       "_view_module": "@jupyter-widgets/controls",
       "_view_module_version": "1.5.0",
       "_view_name": "FloatSliderView",
       "continuous_update": true,
       "description": "split",
       "description_tooltip": null,
       "disabled": false,
       "layout": "IPY_MODEL_e4e5558dfcbf4ec989e3592d575bc084",
       "max": 46.5,
       "min": -15.5,
       "orientation": "horizontal",
       "readout": true,
       "readout_format": ".2f",
       "step": 0.1,
       "style": "IPY_MODEL_113fe525154446d18f7212b95831a0dd",
       "value": 15.5
      }
     },
     "9747b5abd15e4911b212ef35709f4ca3": {
      "model_module": "@jupyter-widgets/base",
      "model_module_version": "1.2.0",
      "model_name": "LayoutModel",
      "state": {
       "_model_module": "@jupyter-widgets/base",
       "_model_module_version": "1.2.0",
       "_model_name": "LayoutModel",
       "_view_count": null,
       "_view_module": "@jupyter-widgets/base",
       "_view_module_version": "1.2.0",
       "_view_name": "LayoutView",
       "align_content": null,
       "align_items": null,
       "align_self": null,
       "border": null,
       "bottom": null,
       "display": null,
       "flex": null,
       "flex_flow": null,
       "grid_area": null,
       "grid_auto_columns": null,
       "grid_auto_flow": null,
       "grid_auto_rows": null,
       "grid_column": null,
       "grid_gap": null,
       "grid_row": null,
       "grid_template_areas": null,
       "grid_template_columns": null,
       "grid_template_rows": null,
       "height": null,
       "justify_content": null,
       "justify_items": null,
       "left": null,
       "margin": null,
       "max_height": null,
       "max_width": null,
       "min_height": null,
       "min_width": null,
       "object_fit": null,
       "object_position": null,
       "order": null,
       "overflow": null,
       "overflow_x": null,
       "overflow_y": null,
       "padding": null,
       "right": null,
       "top": null,
       "visibility": null,
       "width": null
      }
     },
     "9cb71a42b49842e78d8363d0965869e0": {
      "model_module": "@jupyter-widgets/base",
      "model_module_version": "1.2.0",
      "model_name": "LayoutModel",
      "state": {
       "_model_module": "@jupyter-widgets/base",
       "_model_module_version": "1.2.0",
       "_model_name": "LayoutModel",
       "_view_count": null,
       "_view_module": "@jupyter-widgets/base",
       "_view_module_version": "1.2.0",
       "_view_name": "LayoutView",
       "align_content": null,
       "align_items": null,
       "align_self": null,
       "border": null,
       "bottom": null,
       "display": null,
       "flex": null,
       "flex_flow": null,
       "grid_area": null,
       "grid_auto_columns": null,
       "grid_auto_flow": null,
       "grid_auto_rows": null,
       "grid_column": null,
       "grid_gap": null,
       "grid_row": null,
       "grid_template_areas": null,
       "grid_template_columns": null,
       "grid_template_rows": null,
       "height": null,
       "justify_content": null,
       "justify_items": null,
       "left": null,
       "margin": null,
       "max_height": null,
       "max_width": null,
       "min_height": null,
       "min_width": null,
       "object_fit": null,
       "object_position": null,
       "order": null,
       "overflow": null,
       "overflow_x": null,
       "overflow_y": null,
       "padding": null,
       "right": null,
       "top": null,
       "visibility": null,
       "width": null
      }
     },
     "b8532bae25ed4ac59de9893f2c5aad35": {
      "model_module": "@jupyter-widgets/base",
      "model_module_version": "1.2.0",
      "model_name": "LayoutModel",
      "state": {
       "_model_module": "@jupyter-widgets/base",
       "_model_module_version": "1.2.0",
       "_model_name": "LayoutModel",
       "_view_count": null,
       "_view_module": "@jupyter-widgets/base",
       "_view_module_version": "1.2.0",
       "_view_name": "LayoutView",
       "align_content": null,
       "align_items": null,
       "align_self": null,
       "border": null,
       "bottom": null,
       "display": null,
       "flex": null,
       "flex_flow": null,
       "grid_area": null,
       "grid_auto_columns": null,
       "grid_auto_flow": null,
       "grid_auto_rows": null,
       "grid_column": null,
       "grid_gap": null,
       "grid_row": null,
       "grid_template_areas": null,
       "grid_template_columns": null,
       "grid_template_rows": null,
       "height": null,
       "justify_content": null,
       "justify_items": null,
       "left": null,
       "margin": null,
       "max_height": null,
       "max_width": null,
       "min_height": null,
       "min_width": null,
       "object_fit": null,
       "object_position": null,
       "order": null,
       "overflow": null,
       "overflow_x": null,
       "overflow_y": null,
       "padding": null,
       "right": null,
       "top": null,
       "visibility": null,
       "width": null
      }
     },
     "bdcdf62f25fb4886bf92fbc57a08e577": {
      "model_module": "@jupyter-widgets/controls",
      "model_module_version": "1.5.0",
      "model_name": "DescriptionStyleModel",
      "state": {
       "_model_module": "@jupyter-widgets/controls",
       "_model_module_version": "1.5.0",
       "_model_name": "DescriptionStyleModel",
       "_view_count": null,
       "_view_module": "@jupyter-widgets/base",
       "_view_module_version": "1.2.0",
       "_view_name": "StyleView",
       "description_width": ""
      }
     },
     "bec9f05ac6f74f948c3a87cac5ed1bf8": {
      "model_module": "@jupyter-widgets/controls",
      "model_module_version": "1.5.0",
      "model_name": "DropdownModel",
      "state": {
       "_dom_classes": [],
       "_model_module": "@jupyter-widgets/controls",
       "_model_module_version": "1.5.0",
       "_model_name": "DropdownModel",
       "_options_labels": [
        "Sex",
        "Embarked"
       ],
       "_view_count": null,
       "_view_module": "@jupyter-widgets/controls",
       "_view_module_version": "1.5.0",
       "_view_name": "DropdownView",
       "description": "nm",
       "description_tooltip": null,
       "disabled": false,
       "index": 0,
       "layout": "IPY_MODEL_c225493fe8544b0fbb7d2b74c487ea23",
       "style": "IPY_MODEL_bdcdf62f25fb4886bf92fbc57a08e577"
      }
     },
     "c225493fe8544b0fbb7d2b74c487ea23": {
      "model_module": "@jupyter-widgets/base",
      "model_module_version": "1.2.0",
      "model_name": "LayoutModel",
      "state": {
       "_model_module": "@jupyter-widgets/base",
       "_model_module_version": "1.2.0",
       "_model_name": "LayoutModel",
       "_view_count": null,
       "_view_module": "@jupyter-widgets/base",
       "_view_module_version": "1.2.0",
       "_view_name": "LayoutView",
       "align_content": null,
       "align_items": null,
       "align_self": null,
       "border": null,
       "bottom": null,
       "display": null,
       "flex": null,
       "flex_flow": null,
       "grid_area": null,
       "grid_auto_columns": null,
       "grid_auto_flow": null,
       "grid_auto_rows": null,
       "grid_column": null,
       "grid_gap": null,
       "grid_row": null,
       "grid_template_areas": null,
       "grid_template_columns": null,
       "grid_template_rows": null,
       "height": null,
       "justify_content": null,
       "justify_items": null,
       "left": null,
       "margin": null,
       "max_height": null,
       "max_width": null,
       "min_height": null,
       "min_width": null,
       "object_fit": null,
       "object_position": null,
       "order": null,
       "overflow": null,
       "overflow_x": null,
       "overflow_y": null,
       "padding": null,
       "right": null,
       "top": null,
       "visibility": null,
       "width": null
      }
     },
     "dfb46557bea9440089f4df3135ddb097": {
      "model_module": "@jupyter-widgets/controls",
      "model_module_version": "1.5.0",
      "model_name": "DropdownModel",
      "state": {
       "_dom_classes": [],
       "_model_module": "@jupyter-widgets/controls",
       "_model_module_version": "1.5.0",
       "_model_name": "DropdownModel",
       "_options_labels": [
        "Age",
        "SibSp",
        "Parch",
        "LogFare",
        "Pclass"
       ],
       "_view_count": null,
       "_view_module": "@jupyter-widgets/controls",
       "_view_module_version": "1.5.0",
       "_view_name": "DropdownView",
       "description": "nm",
       "description_tooltip": null,
       "disabled": false,
       "index": 0,
       "layout": "IPY_MODEL_eb3df1a10d2546b28b76a6c338c2372f",
       "style": "IPY_MODEL_58056c1a9fe44ed5b598dbef696086be"
      }
     },
     "e04dc02cb51d47269bf305e2bb9e1ddb": {
      "model_module": "@jupyter-widgets/controls",
      "model_module_version": "1.5.0",
      "model_name": "VBoxModel",
      "state": {
       "_dom_classes": [
        "widget-interact"
       ],
       "_model_module": "@jupyter-widgets/controls",
       "_model_module_version": "1.5.0",
       "_model_name": "VBoxModel",
       "_view_count": null,
       "_view_module": "@jupyter-widgets/controls",
       "_view_module_version": "1.5.0",
       "_view_name": "VBoxView",
       "box_style": "",
       "children": [
        "IPY_MODEL_bec9f05ac6f74f948c3a87cac5ed1bf8",
        "IPY_MODEL_7f62f1a73fda4d32b6c61e71988de637",
        "IPY_MODEL_5ec825593a504134828722fb492d4757"
       ],
       "layout": "IPY_MODEL_9cb71a42b49842e78d8363d0965869e0"
      }
     },
     "e3105a2c91884c4ba990b1a3e2346c2b": {
      "model_module": "@jupyter-widgets/controls",
      "model_module_version": "1.5.0",
      "model_name": "FloatSliderModel",
      "state": {
       "_dom_classes": [],
       "_model_module": "@jupyter-widgets/controls",
       "_model_module_version": "1.5.0",
       "_model_name": "FloatSliderModel",
       "_view_count": null,
       "_view_module": "@jupyter-widgets/controls",
       "_view_module_version": "1.5.0",
       "_view_name": "FloatSliderView",
       "continuous_update": true,
       "description": "split",
       "description_tooltip": null,
       "disabled": false,
       "layout": "IPY_MODEL_b8532bae25ed4ac59de9893f2c5aad35",
       "max": 46.5,
       "min": -15.5,
       "orientation": "horizontal",
       "readout": true,
       "readout_format": ".2f",
       "step": 0.1,
       "style": "IPY_MODEL_e660142466e24497891aba1824459c31",
       "value": 15.5
      }
     },
     "e4e5558dfcbf4ec989e3592d575bc084": {
      "model_module": "@jupyter-widgets/base",
      "model_module_version": "1.2.0",
      "model_name": "LayoutModel",
      "state": {
       "_model_module": "@jupyter-widgets/base",
       "_model_module_version": "1.2.0",
       "_model_name": "LayoutModel",
       "_view_count": null,
       "_view_module": "@jupyter-widgets/base",
       "_view_module_version": "1.2.0",
       "_view_name": "LayoutView",
       "align_content": null,
       "align_items": null,
       "align_self": null,
       "border": null,
       "bottom": null,
       "display": null,
       "flex": null,
       "flex_flow": null,
       "grid_area": null,
       "grid_auto_columns": null,
       "grid_auto_flow": null,
       "grid_auto_rows": null,
       "grid_column": null,
       "grid_gap": null,
       "grid_row": null,
       "grid_template_areas": null,
       "grid_template_columns": null,
       "grid_template_rows": null,
       "height": null,
       "justify_content": null,
       "justify_items": null,
       "left": null,
       "margin": null,
       "max_height": null,
       "max_width": null,
       "min_height": null,
       "min_width": null,
       "object_fit": null,
       "object_position": null,
       "order": null,
       "overflow": null,
       "overflow_x": null,
       "overflow_y": null,
       "padding": null,
       "right": null,
       "top": null,
       "visibility": null,
       "width": null
      }
     },
     "e660142466e24497891aba1824459c31": {
      "model_module": "@jupyter-widgets/controls",
      "model_module_version": "1.5.0",
      "model_name": "SliderStyleModel",
      "state": {
       "_model_module": "@jupyter-widgets/controls",
       "_model_module_version": "1.5.0",
       "_model_name": "SliderStyleModel",
       "_view_count": null,
       "_view_module": "@jupyter-widgets/base",
       "_view_module_version": "1.2.0",
       "_view_name": "StyleView",
       "description_width": "",
       "handle_color": null
      }
     },
     "eb3df1a10d2546b28b76a6c338c2372f": {
      "model_module": "@jupyter-widgets/base",
      "model_module_version": "1.2.0",
      "model_name": "LayoutModel",
      "state": {
       "_model_module": "@jupyter-widgets/base",
       "_model_module_version": "1.2.0",
       "_model_name": "LayoutModel",
       "_view_count": null,
       "_view_module": "@jupyter-widgets/base",
       "_view_module_version": "1.2.0",
       "_view_name": "LayoutView",
       "align_content": null,
       "align_items": null,
       "align_self": null,
       "border": null,
       "bottom": null,
       "display": null,
       "flex": null,
       "flex_flow": null,
       "grid_area": null,
       "grid_auto_columns": null,
       "grid_auto_flow": null,
       "grid_auto_rows": null,
       "grid_column": null,
       "grid_gap": null,
       "grid_row": null,
       "grid_template_areas": null,
       "grid_template_columns": null,
       "grid_template_rows": null,
       "height": null,
       "justify_content": null,
       "justify_items": null,
       "left": null,
       "margin": null,
       "max_height": null,
       "max_width": null,
       "min_height": null,
       "min_width": null,
       "object_fit": null,
       "object_position": null,
       "order": null,
       "overflow": null,
       "overflow_x": null,
       "overflow_y": null,
       "padding": null,
       "right": null,
       "top": null,
       "visibility": null,
       "width": null
      }
     }
    },
    "version_major": 2,
    "version_minor": 0
   }
  }
 },
 "nbformat": 4,
 "nbformat_minor": 5
}
