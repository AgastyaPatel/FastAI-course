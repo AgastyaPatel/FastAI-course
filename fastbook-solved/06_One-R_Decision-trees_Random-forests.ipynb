{
 "cells": [
  {
   "cell_type": "code",
   "execution_count": 1,
   "id": "b59395d1",
   "metadata": {
    "_cell_guid": "b1076dfc-b9ad-4769-8c92-a6c4dae69d19",
    "_uuid": "8f2839f25d086af736a60e9eeb907d3b93b6e0e5",
    "execution": {
     "iopub.execute_input": "2024-03-26T18:27:46.704350Z",
     "iopub.status.busy": "2024-03-26T18:27:46.703944Z",
     "iopub.status.idle": "2024-03-26T18:27:47.791958Z",
     "shell.execute_reply": "2024-03-26T18:27:47.790769Z"
    },
    "papermill": {
     "duration": 1.106259,
     "end_time": "2024-03-26T18:27:47.794820",
     "exception": false,
     "start_time": "2024-03-26T18:27:46.688561",
     "status": "completed"
    },
    "tags": []
   },
   "outputs": [
    {
     "name": "stdout",
     "output_type": "stream",
     "text": [
      "/kaggle/input/titanic/train.csv\n",
      "/kaggle/input/titanic/test.csv\n",
      "/kaggle/input/titanic/gender_submission.csv\n"
     ]
    }
   ],
   "source": [
    "# This Python 3 environment comes with many helpful analytics libraries installed\n",
    "# It is defined by the kaggle/python Docker image: https://github.com/kaggle/docker-python\n",
    "# For example, here's several helpful packages to load\n",
    "\n",
    "import numpy as np # linear algebra\n",
    "import pandas as pd # data processing, CSV file I/O (e.g. pd.read_csv)\n",
    "\n",
    "# Input data files are available in the read-only \"../input/\" directory\n",
    "# For example, running this (by clicking run or pressing Shift+Enter) will list all files under the input directory\n",
    "\n",
    "import os\n",
    "for dirname, _, filenames in os.walk('/kaggle/input'):\n",
    "    for filename in filenames:\n",
    "        print(os.path.join(dirname, filename))\n",
    "\n",
    "# You can write up to 20GB to the current directory (/kaggle/working/) that gets preserved as output when you create a version using \"Save & Run All\" \n",
    "# You can also write temporary files to /kaggle/temp/, but they won't be saved outside of the current session"
   ]
  },
  {
   "cell_type": "markdown",
   "id": "512ab4ec",
   "metadata": {
    "papermill": {
     "duration": 0.013283,
     "end_time": "2024-03-26T18:27:47.822124",
     "exception": false,
     "start_time": "2024-03-26T18:27:47.808841",
     "status": "completed"
    },
    "tags": []
   },
   "source": [
    "# Introduction\n",
    "Tabular Data Problem statements observe good results by using ensemble of Decision Trees, Such as Random forests and Gradient Boosting Machines."
   ]
  },
  {
   "cell_type": "code",
   "execution_count": 2,
   "id": "49cd9205",
   "metadata": {
    "execution": {
     "iopub.execute_input": "2024-03-26T18:27:47.851399Z",
     "iopub.status.busy": "2024-03-26T18:27:47.850859Z",
     "iopub.status.idle": "2024-03-26T18:27:48.445725Z",
     "shell.execute_reply": "2024-03-26T18:27:48.444385Z"
    },
    "papermill": {
     "duration": 0.613102,
     "end_time": "2024-03-26T18:27:48.448763",
     "exception": false,
     "start_time": "2024-03-26T18:27:47.835661",
     "status": "completed"
    },
    "tags": []
   },
   "outputs": [],
   "source": [
    "# Importing basic set of libraries\n",
    "from fastai.imports import *\n",
    "np.set_printoptions(linewidth=130)"
   ]
  },
  {
   "cell_type": "markdown",
   "id": "d85a7bfb",
   "metadata": {
    "papermill": {
     "duration": 0.014358,
     "end_time": "2024-03-26T18:27:48.477360",
     "exception": false,
     "start_time": "2024-03-26T18:27:48.463002",
     "status": "completed"
    },
    "tags": []
   },
   "source": [
    "## Data Preprocessing"
   ]
  },
  {
   "cell_type": "code",
   "execution_count": 3,
   "id": "075fbd44",
   "metadata": {
    "execution": {
     "iopub.execute_input": "2024-03-26T18:27:48.506876Z",
     "iopub.status.busy": "2024-03-26T18:27:48.506306Z",
     "iopub.status.idle": "2024-03-26T18:27:48.569235Z",
     "shell.execute_reply": "2024-03-26T18:27:48.568172Z"
    },
    "papermill": {
     "duration": 0.081323,
     "end_time": "2024-03-26T18:27:48.572345",
     "exception": false,
     "start_time": "2024-03-26T18:27:48.491022",
     "status": "completed"
    },
    "tags": []
   },
   "outputs": [],
   "source": [
    "import os\n",
    "isKaggle= os.environ.get('KAGGLE_KERNEL_RUN_TYPE')\n",
    "\n",
    "if isKaggle: path = Path('../input/titanic')\n",
    "else:\n",
    "    import zipfile, kaggle\n",
    "    path = Path('titanic')\n",
    "    kaggle.api.competition_download_cli(str(path))\n",
    "    zipfile.ZipFile(f'{path}.zip').extractall(path)\n",
    "    \n",
    "df = pd.read_csv(path/'train.csv')\n",
    "test_df = pd.read_csv(path/'test.csv')\n",
    "modes = df.mode().iloc[0]"
   ]
  },
  {
   "cell_type": "code",
   "execution_count": 4,
   "id": "da0ebf3d",
   "metadata": {
    "execution": {
     "iopub.execute_input": "2024-03-26T18:27:48.601778Z",
     "iopub.status.busy": "2024-03-26T18:27:48.601384Z",
     "iopub.status.idle": "2024-03-26T18:27:48.611308Z",
     "shell.execute_reply": "2024-03-26T18:27:48.609957Z"
    },
    "papermill": {
     "duration": 0.0279,
     "end_time": "2024-03-26T18:27:48.613973",
     "exception": false,
     "start_time": "2024-03-26T18:27:48.586073",
     "status": "completed"
    },
    "tags": []
   },
   "outputs": [
    {
     "data": {
      "text/plain": [
       "PassengerId                      1\n",
       "Survived                       0.0\n",
       "Pclass                         3.0\n",
       "Name           Abbing, Mr. Anthony\n",
       "Sex                           male\n",
       "Age                           24.0\n",
       "SibSp                          0.0\n",
       "Parch                          0.0\n",
       "Ticket                        1601\n",
       "Fare                          8.05\n",
       "Cabin                      B96 B98\n",
       "Embarked                         S\n",
       "Name: 0, dtype: object"
      ]
     },
     "execution_count": 4,
     "metadata": {},
     "output_type": "execute_result"
    }
   ],
   "source": [
    "modes"
   ]
  },
  {
   "cell_type": "code",
   "execution_count": 5,
   "id": "11996dbb",
   "metadata": {
    "execution": {
     "iopub.execute_input": "2024-03-26T18:27:48.644137Z",
     "iopub.status.busy": "2024-03-26T18:27:48.643709Z",
     "iopub.status.idle": "2024-03-26T18:27:48.650638Z",
     "shell.execute_reply": "2024-03-26T18:27:48.649401Z"
    },
    "papermill": {
     "duration": 0.024564,
     "end_time": "2024-03-26T18:27:48.653097",
     "exception": false,
     "start_time": "2024-03-26T18:27:48.628533",
     "status": "completed"
    },
    "tags": []
   },
   "outputs": [
    {
     "data": {
      "text/plain": [
       "RangeIndex(start=0, stop=891, step=1)"
      ]
     },
     "execution_count": 5,
     "metadata": {},
     "output_type": "execute_result"
    }
   ],
   "source": [
    "df.index"
   ]
  },
  {
   "cell_type": "markdown",
   "id": "9d3b435f",
   "metadata": {
    "papermill": {
     "duration": 0.013646,
     "end_time": "2024-03-26T18:27:48.680906",
     "exception": false,
     "start_time": "2024-03-26T18:27:48.667260",
     "status": "completed"
    },
    "tags": []
   },
   "source": [
    "In Random Forests, we don't generally require to create dummy variables like we did for non-numeric columns(Categorical) in the linear models and neural network.\n",
    "\n",
    "We can convert those fields to Pandas Categorical variables, which internally in Pandas makes a list of all unique values in the column and replaces each value with a number. The number is just an index for looking up the value in the list of all unique values\n"
   ]
  },
  {
   "cell_type": "code",
   "execution_count": 6,
   "id": "53537701",
   "metadata": {
    "execution": {
     "iopub.execute_input": "2024-03-26T18:27:48.711045Z",
     "iopub.status.busy": "2024-03-26T18:27:48.710235Z",
     "iopub.status.idle": "2024-03-26T18:27:48.736064Z",
     "shell.execute_reply": "2024-03-26T18:27:48.735090Z"
    },
    "papermill": {
     "duration": 0.043854,
     "end_time": "2024-03-26T18:27:48.738701",
     "exception": false,
     "start_time": "2024-03-26T18:27:48.694847",
     "status": "completed"
    },
    "tags": []
   },
   "outputs": [],
   "source": [
    "def proc_data(df):\n",
    "    df['Fare'] = df.Fare.fillna(0)\n",
    "    df.fillna(modes, inplace=True)\n",
    "    df['LogFare'] = np.log1p(df.Fare)\n",
    "    df['Embarked'] = pd.Categorical(df.Embarked)\n",
    "    df['Sex'] = pd.Categorical(df.Sex)\n",
    "    \n",
    "proc_data(df)\n",
    "proc_data(test_df)"
   ]
  },
  {
   "cell_type": "code",
   "execution_count": 7,
   "id": "48e5c4d6",
   "metadata": {
    "execution": {
     "iopub.execute_input": "2024-03-26T18:27:48.768359Z",
     "iopub.status.busy": "2024-03-26T18:27:48.767876Z",
     "iopub.status.idle": "2024-03-26T18:27:48.792959Z",
     "shell.execute_reply": "2024-03-26T18:27:48.791813Z"
    },
    "papermill": {
     "duration": 0.043224,
     "end_time": "2024-03-26T18:27:48.795754",
     "exception": false,
     "start_time": "2024-03-26T18:27:48.752530",
     "status": "completed"
    },
    "tags": []
   },
   "outputs": [
    {
     "data": {
      "text/html": [
       "<div>\n",
       "<style scoped>\n",
       "    .dataframe tbody tr th:only-of-type {\n",
       "        vertical-align: middle;\n",
       "    }\n",
       "\n",
       "    .dataframe tbody tr th {\n",
       "        vertical-align: top;\n",
       "    }\n",
       "\n",
       "    .dataframe thead th {\n",
       "        text-align: right;\n",
       "    }\n",
       "</style>\n",
       "<table border=\"1\" class=\"dataframe\">\n",
       "  <thead>\n",
       "    <tr style=\"text-align: right;\">\n",
       "      <th></th>\n",
       "      <th>PassengerId</th>\n",
       "      <th>Survived</th>\n",
       "      <th>Pclass</th>\n",
       "      <th>Name</th>\n",
       "      <th>Sex</th>\n",
       "      <th>Age</th>\n",
       "      <th>SibSp</th>\n",
       "      <th>Parch</th>\n",
       "      <th>Ticket</th>\n",
       "      <th>Fare</th>\n",
       "      <th>Cabin</th>\n",
       "      <th>Embarked</th>\n",
       "      <th>LogFare</th>\n",
       "    </tr>\n",
       "  </thead>\n",
       "  <tbody>\n",
       "    <tr>\n",
       "      <th>0</th>\n",
       "      <td>1</td>\n",
       "      <td>0</td>\n",
       "      <td>3</td>\n",
       "      <td>Braund, Mr. Owen Harris</td>\n",
       "      <td>male</td>\n",
       "      <td>22.0</td>\n",
       "      <td>1</td>\n",
       "      <td>0</td>\n",
       "      <td>A/5 21171</td>\n",
       "      <td>7.2500</td>\n",
       "      <td>B96 B98</td>\n",
       "      <td>S</td>\n",
       "      <td>2.110213</td>\n",
       "    </tr>\n",
       "    <tr>\n",
       "      <th>1</th>\n",
       "      <td>2</td>\n",
       "      <td>1</td>\n",
       "      <td>1</td>\n",
       "      <td>Cumings, Mrs. John Bradley (Florence Briggs Thayer)</td>\n",
       "      <td>female</td>\n",
       "      <td>38.0</td>\n",
       "      <td>1</td>\n",
       "      <td>0</td>\n",
       "      <td>PC 17599</td>\n",
       "      <td>71.2833</td>\n",
       "      <td>C85</td>\n",
       "      <td>C</td>\n",
       "      <td>4.280593</td>\n",
       "    </tr>\n",
       "    <tr>\n",
       "      <th>2</th>\n",
       "      <td>3</td>\n",
       "      <td>1</td>\n",
       "      <td>3</td>\n",
       "      <td>Heikkinen, Miss. Laina</td>\n",
       "      <td>female</td>\n",
       "      <td>26.0</td>\n",
       "      <td>0</td>\n",
       "      <td>0</td>\n",
       "      <td>STON/O2. 3101282</td>\n",
       "      <td>7.9250</td>\n",
       "      <td>B96 B98</td>\n",
       "      <td>S</td>\n",
       "      <td>2.188856</td>\n",
       "    </tr>\n",
       "    <tr>\n",
       "      <th>3</th>\n",
       "      <td>4</td>\n",
       "      <td>1</td>\n",
       "      <td>1</td>\n",
       "      <td>Futrelle, Mrs. Jacques Heath (Lily May Peel)</td>\n",
       "      <td>female</td>\n",
       "      <td>35.0</td>\n",
       "      <td>1</td>\n",
       "      <td>0</td>\n",
       "      <td>113803</td>\n",
       "      <td>53.1000</td>\n",
       "      <td>C123</td>\n",
       "      <td>S</td>\n",
       "      <td>3.990834</td>\n",
       "    </tr>\n",
       "    <tr>\n",
       "      <th>4</th>\n",
       "      <td>5</td>\n",
       "      <td>0</td>\n",
       "      <td>3</td>\n",
       "      <td>Allen, Mr. William Henry</td>\n",
       "      <td>male</td>\n",
       "      <td>35.0</td>\n",
       "      <td>0</td>\n",
       "      <td>0</td>\n",
       "      <td>373450</td>\n",
       "      <td>8.0500</td>\n",
       "      <td>B96 B98</td>\n",
       "      <td>S</td>\n",
       "      <td>2.202765</td>\n",
       "    </tr>\n",
       "  </tbody>\n",
       "</table>\n",
       "</div>"
      ],
      "text/plain": [
       "   PassengerId  Survived  Pclass  \\\n",
       "0            1         0       3   \n",
       "1            2         1       1   \n",
       "2            3         1       3   \n",
       "3            4         1       1   \n",
       "4            5         0       3   \n",
       "\n",
       "                                                  Name     Sex   Age  SibSp  \\\n",
       "0                              Braund, Mr. Owen Harris    male  22.0      1   \n",
       "1  Cumings, Mrs. John Bradley (Florence Briggs Thayer)  female  38.0      1   \n",
       "2                               Heikkinen, Miss. Laina  female  26.0      0   \n",
       "3         Futrelle, Mrs. Jacques Heath (Lily May Peel)  female  35.0      1   \n",
       "4                             Allen, Mr. William Henry    male  35.0      0   \n",
       "\n",
       "   Parch            Ticket     Fare    Cabin Embarked   LogFare  \n",
       "0      0         A/5 21171   7.2500  B96 B98        S  2.110213  \n",
       "1      0          PC 17599  71.2833      C85        C  4.280593  \n",
       "2      0  STON/O2. 3101282   7.9250  B96 B98        S  2.188856  \n",
       "3      0            113803  53.1000     C123        S  3.990834  \n",
       "4      0            373450   8.0500  B96 B98        S  2.202765  "
      ]
     },
     "execution_count": 7,
     "metadata": {},
     "output_type": "execute_result"
    }
   ],
   "source": [
    "df.head()"
   ]
  },
  {
   "cell_type": "markdown",
   "id": "0b165181",
   "metadata": {
    "papermill": {
     "duration": 0.013977,
     "end_time": "2024-03-26T18:27:48.824143",
     "exception": false,
     "start_time": "2024-03-26T18:27:48.810166",
     "status": "completed"
    },
    "tags": []
   },
   "source": [
    "We'll make a list of the continous, categorical and dependent variables. \n",
    "- we don't consider Pclass a categorical variable. That's because it's ordered(1,2 and 3)\n",
    "- And decision trees only care about ordered values not the absolute values"
   ]
  },
  {
   "cell_type": "code",
   "execution_count": 8,
   "id": "7ce2e749",
   "metadata": {
    "execution": {
     "iopub.execute_input": "2024-03-26T18:27:48.854385Z",
     "iopub.status.busy": "2024-03-26T18:27:48.853943Z",
     "iopub.status.idle": "2024-03-26T18:27:48.859863Z",
     "shell.execute_reply": "2024-03-26T18:27:48.858603Z"
    },
    "papermill": {
     "duration": 0.023991,
     "end_time": "2024-03-26T18:27:48.862287",
     "exception": false,
     "start_time": "2024-03-26T18:27:48.838296",
     "status": "completed"
    },
    "tags": []
   },
   "outputs": [],
   "source": [
    "cats = [\"Sex\", \"Embarked\"]\n",
    "conts = [\"Age\", \"SibSp\", \"Parch\", \"LogFare\", \"Pclass\"]\n",
    "dep = \"Survived\""
   ]
  },
  {
   "cell_type": "code",
   "execution_count": 9,
   "id": "c4f75d3b",
   "metadata": {
    "execution": {
     "iopub.execute_input": "2024-03-26T18:27:48.892335Z",
     "iopub.status.busy": "2024-03-26T18:27:48.891910Z",
     "iopub.status.idle": "2024-03-26T18:27:48.901492Z",
     "shell.execute_reply": "2024-03-26T18:27:48.900245Z"
    },
    "papermill": {
     "duration": 0.027472,
     "end_time": "2024-03-26T18:27:48.903925",
     "exception": false,
     "start_time": "2024-03-26T18:27:48.876453",
     "status": "completed"
    },
    "tags": []
   },
   "outputs": [
    {
     "data": {
      "text/plain": [
       "0      male\n",
       "1    female\n",
       "2    female\n",
       "3    female\n",
       "4      male\n",
       "Name: Sex, dtype: category\n",
       "Categories (2, object): ['female', 'male']"
      ]
     },
     "execution_count": 9,
     "metadata": {},
     "output_type": "execute_result"
    }
   ],
   "source": [
    "df.Sex.head()"
   ]
  },
  {
   "cell_type": "code",
   "execution_count": 10,
   "id": "e7dfc8d6",
   "metadata": {
    "execution": {
     "iopub.execute_input": "2024-03-26T18:27:48.934391Z",
     "iopub.status.busy": "2024-03-26T18:27:48.933954Z",
     "iopub.status.idle": "2024-03-26T18:27:48.942742Z",
     "shell.execute_reply": "2024-03-26T18:27:48.941584Z"
    },
    "papermill": {
     "duration": 0.026785,
     "end_time": "2024-03-26T18:27:48.945000",
     "exception": false,
     "start_time": "2024-03-26T18:27:48.918215",
     "status": "completed"
    },
    "tags": []
   },
   "outputs": [
    {
     "data": {
      "text/plain": [
       "0    1\n",
       "1    0\n",
       "2    0\n",
       "3    0\n",
       "4    1\n",
       "dtype: int8"
      ]
     },
     "execution_count": 10,
     "metadata": {},
     "output_type": "execute_result"
    }
   ],
   "source": [
    "df.Sex.cat.codes.head()"
   ]
  },
  {
   "cell_type": "markdown",
   "id": "911b73e8",
   "metadata": {
    "papermill": {
     "duration": 0.014233,
     "end_time": "2024-03-26T18:27:48.973977",
     "exception": false,
     "start_time": "2024-03-26T18:27:48.959744",
     "status": "completed"
    },
    "tags": []
   },
   "source": [
    "- \"Sex\" column is still shown as categorical column in padas.\n",
    "- However, bts they're now stored as integers, with indices that are looked up in the categories code list shown above(df.Sex.cat.codes)  "
   ]
  },
  {
   "cell_type": "markdown",
   "id": "6bcc7b87",
   "metadata": {
    "execution": {
     "iopub.execute_input": "2024-03-26T16:56:39.480409Z",
     "iopub.status.busy": "2024-03-26T16:56:39.479964Z",
     "iopub.status.idle": "2024-03-26T16:56:39.485596Z",
     "shell.execute_reply": "2024-03-26T16:56:39.484371Z",
     "shell.execute_reply.started": "2024-03-26T16:56:39.480375Z"
    },
    "papermill": {
     "duration": 0.014126,
     "end_time": "2024-03-26T18:27:49.002769",
     "exception": false,
     "start_time": "2024-03-26T18:27:48.988643",
     "status": "completed"
    },
    "tags": []
   },
   "source": [
    "# Binary Split/One R\n",
    "- Fragmented unit of Decision tree later Random Forest or Gradient Boosting Machine\n",
    "\n",
    "Blueprint\n",
    "- All rows are split into one of two groups\n",
    "- based on whether they are above/below some threshold of some column\n",
    "- Eg: Splitting rows of dataset based on the column 'Sex' by using threshold 0.5\n",
    "\n",
    "Visualizing using Seaborn library"
   ]
  },
  {
   "cell_type": "code",
   "execution_count": 11,
   "id": "760ee336",
   "metadata": {
    "execution": {
     "iopub.execute_input": "2024-03-26T18:27:49.035441Z",
     "iopub.status.busy": "2024-03-26T18:27:49.035019Z",
     "iopub.status.idle": "2024-03-26T18:27:51.010945Z",
     "shell.execute_reply": "2024-03-26T18:27:51.008286Z"
    },
    "papermill": {
     "duration": 1.995608,
     "end_time": "2024-03-26T18:27:51.014519",
     "exception": false,
     "start_time": "2024-03-26T18:27:49.018911",
     "status": "completed"
    },
    "tags": []
   },
   "outputs": [
    {
     "name": "stderr",
     "output_type": "stream",
     "text": [
      "/opt/conda/lib/python3.10/site-packages/seaborn/categorical.py:641: FutureWarning: The default of observed=False is deprecated and will be changed to True in a future version of pandas. Pass observed=False to retain current behavior or observed=True to adopt the future default and silence this warning.\n",
      "  grouped_vals = vals.groupby(grouper)\n"
     ]
    },
    {
     "data": {
      "image/png": "[encoded data removed]",
      "text/plain": [
       "<Figure size 1100x500 with 2 Axes>"
      ]
     },
     "metadata": {},
     "output_type": "display_data"
    }
   ],
   "source": [
    "import seaborn as sns\n",
    "\n",
    "fig, axs = plt.subplots(1,2, figsize=(11, 5))\n",
    "sns.barplot(data=df, y=dep, x='Sex', ax=axs[0]).set(title=\"Survival Rate\")\n",
    "sns.countplot(data=df, x=\"Sex\", ax=axs[1]).set(title=\"Histogram\");"
   ]
  },
  {
   "cell_type": "markdown",
   "id": "eaaf7b34",
   "metadata": {
    "papermill": {
     "duration": 0.015139,
     "end_time": "2024-03-26T18:27:51.045592",
     "exception": false,
     "start_time": "2024-03-26T18:27:51.030453",
     "status": "completed"
    },
    "tags": []
   },
   "source": [
    "- Splitting data by Gender is giving quite a good ratios in terms of the survival rate and the number of female/male in the group\n",
    "\n",
    "- We could create a model which simply says that all female survive and no males do."
   ]
  },
  {
   "cell_type": "code",
   "execution_count": 12,
   "id": "612f7450",
   "metadata": {
    "execution": {
     "iopub.execute_input": "2024-03-26T18:27:51.078241Z",
     "iopub.status.busy": "2024-03-26T18:27:51.077821Z",
     "iopub.status.idle": "2024-03-26T18:27:51.416810Z",
     "shell.execute_reply": "2024-03-26T18:27:51.415435Z"
    },
    "papermill": {
     "duration": 0.359342,
     "end_time": "2024-03-26T18:27:51.419925",
     "exception": false,
     "start_time": "2024-03-26T18:27:51.060583",
     "status": "completed"
    },
    "tags": []
   },
   "outputs": [],
   "source": [
    "from numpy import random\n",
    "from sklearn.model_selection import train_test_split\n",
    "\n",
    "random.seed(42)\n",
    "trn_df,val_df = train_test_split(df, test_size=0.25)\n",
    "# Replacing the categorical values with the codes\n",
    "trn_df[cats] = trn_df[cats].apply(lambda x: x.cat.codes)\n",
    "val_df[cats] = val_df[cats].apply(lambda x: x.cat.codes)"
   ]
  },
  {
   "cell_type": "code",
   "execution_count": 13,
   "id": "47cc5528",
   "metadata": {
    "execution": {
     "iopub.execute_input": "2024-03-26T18:27:51.452812Z",
     "iopub.status.busy": "2024-03-26T18:27:51.451966Z",
     "iopub.status.idle": "2024-03-26T18:27:51.470728Z",
     "shell.execute_reply": "2024-03-26T18:27:51.469505Z"
    },
    "papermill": {
     "duration": 0.03824,
     "end_time": "2024-03-26T18:27:51.473515",
     "exception": false,
     "start_time": "2024-03-26T18:27:51.435275",
     "status": "completed"
    },
    "tags": []
   },
   "outputs": [
    {
     "data": {
      "text/html": [
       "<div>\n",
       "<style scoped>\n",
       "    .dataframe tbody tr th:only-of-type {\n",
       "        vertical-align: middle;\n",
       "    }\n",
       "\n",
       "    .dataframe tbody tr th {\n",
       "        vertical-align: top;\n",
       "    }\n",
       "\n",
       "    .dataframe thead th {\n",
       "        text-align: right;\n",
       "    }\n",
       "</style>\n",
       "<table border=\"1\" class=\"dataframe\">\n",
       "  <thead>\n",
       "    <tr style=\"text-align: right;\">\n",
       "      <th></th>\n",
       "      <th>PassengerId</th>\n",
       "      <th>Survived</th>\n",
       "      <th>Pclass</th>\n",
       "      <th>Name</th>\n",
       "      <th>Sex</th>\n",
       "      <th>Age</th>\n",
       "      <th>SibSp</th>\n",
       "      <th>Parch</th>\n",
       "      <th>Ticket</th>\n",
       "      <th>Fare</th>\n",
       "      <th>Cabin</th>\n",
       "      <th>Embarked</th>\n",
       "      <th>LogFare</th>\n",
       "    </tr>\n",
       "  </thead>\n",
       "  <tbody>\n",
       "    <tr>\n",
       "      <th>298</th>\n",
       "      <td>299</td>\n",
       "      <td>1</td>\n",
       "      <td>1</td>\n",
       "      <td>Saalfeld, Mr. Adolphe</td>\n",
       "      <td>1</td>\n",
       "      <td>24.00</td>\n",
       "      <td>0</td>\n",
       "      <td>0</td>\n",
       "      <td>19988</td>\n",
       "      <td>30.5000</td>\n",
       "      <td>C106</td>\n",
       "      <td>2</td>\n",
       "      <td>3.449988</td>\n",
       "    </tr>\n",
       "    <tr>\n",
       "      <th>884</th>\n",
       "      <td>885</td>\n",
       "      <td>0</td>\n",
       "      <td>3</td>\n",
       "      <td>Sutehall, Mr. Henry Jr</td>\n",
       "      <td>1</td>\n",
       "      <td>25.00</td>\n",
       "      <td>0</td>\n",
       "      <td>0</td>\n",
       "      <td>SOTON/OQ 392076</td>\n",
       "      <td>7.0500</td>\n",
       "      <td>B96 B98</td>\n",
       "      <td>2</td>\n",
       "      <td>2.085672</td>\n",
       "    </tr>\n",
       "    <tr>\n",
       "      <th>247</th>\n",
       "      <td>248</td>\n",
       "      <td>1</td>\n",
       "      <td>2</td>\n",
       "      <td>Hamalainen, Mrs. William (Anna)</td>\n",
       "      <td>0</td>\n",
       "      <td>24.00</td>\n",
       "      <td>0</td>\n",
       "      <td>2</td>\n",
       "      <td>250649</td>\n",
       "      <td>14.5000</td>\n",
       "      <td>B96 B98</td>\n",
       "      <td>2</td>\n",
       "      <td>2.740840</td>\n",
       "    </tr>\n",
       "    <tr>\n",
       "      <th>478</th>\n",
       "      <td>479</td>\n",
       "      <td>0</td>\n",
       "      <td>3</td>\n",
       "      <td>Karlsson, Mr. Nils August</td>\n",
       "      <td>1</td>\n",
       "      <td>22.00</td>\n",
       "      <td>0</td>\n",
       "      <td>0</td>\n",
       "      <td>350060</td>\n",
       "      <td>7.5208</td>\n",
       "      <td>B96 B98</td>\n",
       "      <td>2</td>\n",
       "      <td>2.142510</td>\n",
       "    </tr>\n",
       "    <tr>\n",
       "      <th>305</th>\n",
       "      <td>306</td>\n",
       "      <td>1</td>\n",
       "      <td>1</td>\n",
       "      <td>Allison, Master. Hudson Trevor</td>\n",
       "      <td>1</td>\n",
       "      <td>0.92</td>\n",
       "      <td>1</td>\n",
       "      <td>2</td>\n",
       "      <td>113781</td>\n",
       "      <td>151.5500</td>\n",
       "      <td>C22 C26</td>\n",
       "      <td>2</td>\n",
       "      <td>5.027492</td>\n",
       "    </tr>\n",
       "  </tbody>\n",
       "</table>\n",
       "</div>"
      ],
      "text/plain": [
       "     PassengerId  Survived  Pclass                             Name  Sex  \\\n",
       "298          299         1       1            Saalfeld, Mr. Adolphe    1   \n",
       "884          885         0       3           Sutehall, Mr. Henry Jr    1   \n",
       "247          248         1       2  Hamalainen, Mrs. William (Anna)    0   \n",
       "478          479         0       3        Karlsson, Mr. Nils August    1   \n",
       "305          306         1       1   Allison, Master. Hudson Trevor    1   \n",
       "\n",
       "       Age  SibSp  Parch           Ticket      Fare    Cabin  Embarked  \\\n",
       "298  24.00      0      0            19988   30.5000     C106         2   \n",
       "884  25.00      0      0  SOTON/OQ 392076    7.0500  B96 B98         2   \n",
       "247  24.00      0      2           250649   14.5000  B96 B98         2   \n",
       "478  22.00      0      0           350060    7.5208  B96 B98         2   \n",
       "305   0.92      1      2           113781  151.5500  C22 C26         2   \n",
       "\n",
       "      LogFare  \n",
       "298  3.449988  \n",
       "884  2.085672  \n",
       "247  2.740840  \n",
       "478  2.142510  \n",
       "305  5.027492  "
      ]
     },
     "execution_count": 13,
     "metadata": {},
     "output_type": "execute_result"
    }
   ],
   "source": [
    "trn_df.head()"
   ]
  },
  {
   "cell_type": "code",
   "execution_count": 14,
   "id": "8d49032c",
   "metadata": {
    "execution": {
     "iopub.execute_input": "2024-03-26T18:27:51.510980Z",
     "iopub.status.busy": "2024-03-26T18:27:51.510209Z",
     "iopub.status.idle": "2024-03-26T18:27:51.522912Z",
     "shell.execute_reply": "2024-03-26T18:27:51.521833Z"
    },
    "papermill": {
     "duration": 0.035831,
     "end_time": "2024-03-26T18:27:51.526229",
     "exception": false,
     "start_time": "2024-03-26T18:27:51.490398",
     "status": "completed"
    },
    "tags": []
   },
   "outputs": [],
   "source": [
    "# Creating independent variable 'x' and dependent variable 'y'\n",
    "def xs_y(df):\n",
    "    xs = df[cats + conts].copy()\n",
    "    return xs, df[dep] if dep in df else None\n",
    "\n",
    "trn_xs, trn_y = xs_y(trn_df)\n",
    "val_xs, val_y = xs_y(val_df)"
   ]
  },
  {
   "cell_type": "markdown",
   "id": "fbcf2e38",
   "metadata": {
    "papermill": {
     "duration": 0.018136,
     "end_time": "2024-03-26T18:27:51.566913",
     "exception": false,
     "start_time": "2024-03-26T18:27:51.548777",
     "status": "completed"
    },
    "tags": []
   },
   "source": [
    "### Making prediction"
   ]
  },
  {
   "cell_type": "code",
   "execution_count": 15,
   "id": "32a86627",
   "metadata": {
    "execution": {
     "iopub.execute_input": "2024-03-26T18:27:51.604273Z",
     "iopub.status.busy": "2024-03-26T18:27:51.603571Z",
     "iopub.status.idle": "2024-03-26T18:27:51.608479Z",
     "shell.execute_reply": "2024-03-26T18:27:51.607595Z"
    },
    "papermill": {
     "duration": 0.024468,
     "end_time": "2024-03-26T18:27:51.610860",
     "exception": false,
     "start_time": "2024-03-26T18:27:51.586392",
     "status": "completed"
    },
    "tags": []
   },
   "outputs": [],
   "source": [
    "preds = val_xs.Sex == 0"
   ]
  },
  {
   "cell_type": "code",
   "execution_count": 16,
   "id": "712b23d7",
   "metadata": {
    "execution": {
     "iopub.execute_input": "2024-03-26T18:27:51.644122Z",
     "iopub.status.busy": "2024-03-26T18:27:51.643706Z",
     "iopub.status.idle": "2024-03-26T18:27:51.654643Z",
     "shell.execute_reply": "2024-03-26T18:27:51.653374Z"
    },
    "papermill": {
     "duration": 0.03045,
     "end_time": "2024-03-26T18:27:51.657000",
     "exception": false,
     "start_time": "2024-03-26T18:27:51.626550",
     "status": "completed"
    },
    "tags": []
   },
   "outputs": [
    {
     "data": {
      "text/plain": [
       "0.21524663677130046"
      ]
     },
     "execution_count": 16,
     "metadata": {},
     "output_type": "execute_result"
    }
   ],
   "source": [
    "# Measuring Accuracy with mean absolute error\n",
    "from sklearn.metrics import mean_absolute_error\n",
    "mean_absolute_error(val_y, preds)"
   ]
  },
  {
   "cell_type": "markdown",
   "id": "84d29d3f",
   "metadata": {
    "papermill": {
     "duration": 0.020479,
     "end_time": "2024-03-26T18:27:51.695749",
     "exception": false,
     "start_time": "2024-03-26T18:27:51.675270",
     "status": "completed"
    },
    "tags": []
   },
   "source": [
    "### Alternative (LogFare Based Split)\n",
    "- We can try splitting continous column like LogFare"
   ]
  },
  {
   "cell_type": "code",
   "execution_count": 17,
   "id": "69748bf0",
   "metadata": {
    "execution": {
     "iopub.execute_input": "2024-03-26T18:27:51.742398Z",
     "iopub.status.busy": "2024-03-26T18:27:51.740991Z",
     "iopub.status.idle": "2024-03-26T18:27:51.755861Z",
     "shell.execute_reply": "2024-03-26T18:27:51.753078Z"
    },
    "papermill": {
     "duration": 0.039967,
     "end_time": "2024-03-26T18:27:51.761712",
     "exception": false,
     "start_time": "2024-03-26T18:27:51.721745",
     "status": "completed"
    },
    "tags": []
   },
   "outputs": [
    {
     "data": {
      "text/plain": [
       "655"
      ]
     },
     "execution_count": 17,
     "metadata": {},
     "output_type": "execute_result"
    }
   ],
   "source": [
    "df_fare = trn_df[trn_df.LogFare>0]\n",
    "len(df_fare.index)"
   ]
  },
  {
   "cell_type": "code",
   "execution_count": 18,
   "id": "57b38e54",
   "metadata": {
    "execution": {
     "iopub.execute_input": "2024-03-26T18:27:51.877069Z",
     "iopub.status.busy": "2024-03-26T18:27:51.875614Z",
     "iopub.status.idle": "2024-03-26T18:27:52.413465Z",
     "shell.execute_reply": "2024-03-26T18:27:52.412412Z"
    },
    "papermill": {
     "duration": 0.557818,
     "end_time": "2024-03-26T18:27:52.415920",
     "exception": false,
     "start_time": "2024-03-26T18:27:51.858102",
     "status": "completed"
    },
    "tags": []
   },
   "outputs": [
    {
     "name": "stderr",
     "output_type": "stream",
     "text": [
      "/opt/conda/lib/python3.10/site-packages/seaborn/categorical.py:1794: FutureWarning: use_inf_as_na option is deprecated and will be removed in a future version. Convert inf values to NaN before operating instead.\n",
      "  with pd.option_context('mode.use_inf_as_na', True):\n",
      "/opt/conda/lib/python3.10/site-packages/seaborn/categorical.py:1794: FutureWarning: use_inf_as_na option is deprecated and will be removed in a future version. Convert inf values to NaN before operating instead.\n",
      "  with pd.option_context('mode.use_inf_as_na', True):\n",
      "/opt/conda/lib/python3.10/site-packages/seaborn/_oldcore.py:1119: FutureWarning: use_inf_as_na option is deprecated and will be removed in a future version. Convert inf values to NaN before operating instead.\n",
      "  with pd.option_context('mode.use_inf_as_na', True):\n"
     ]
    },
    {
     "data": {
      "text/plain": [
       "<Axes: xlabel='LogFare', ylabel='Density'>"
      ]
     },
     "execution_count": 18,
     "metadata": {},
     "output_type": "execute_result"
    },
    {
     "data": {
      "image/png": "[encoded data removed]",
      "text/plain": [
       "<Figure size 1100x500 with 2 Axes>"
      ]
     },
     "metadata": {},
     "output_type": "display_data"
    }
   ],
   "source": [
    "fig, axs = plt.subplots(1,2, figsize=(11,5))\n",
    "sns.boxenplot(data=df_fare, x=dep, y='LogFare', ax=axs[0])\n",
    "sns.kdeplot(data=df_fare, x='LogFare', ax=axs[1])"
   ]
  },
  {
   "cell_type": "markdown",
   "id": "c03f0c15",
   "metadata": {
    "papermill": {
     "duration": 0.016395,
     "end_time": "2024-03-26T18:27:52.449037",
     "exception": false,
     "start_time": "2024-03-26T18:27:52.432642",
     "status": "completed"
    },
    "tags": []
   },
   "source": [
    "The boxenplot above shows quantiles of LogFare for each group of Survived==0 and Survived==1. It shows that the average LogFare for passengers that didn't survive is around 2.5, and for those that did it's around 3.2. So it seems that people that paid more for their tickets were more likely to get put on a lifeboat."
   ]
  },
  {
   "cell_type": "code",
   "execution_count": 19,
   "id": "33776904",
   "metadata": {
    "execution": {
     "iopub.execute_input": "2024-03-26T18:27:52.486474Z",
     "iopub.status.busy": "2024-03-26T18:27:52.486032Z",
     "iopub.status.idle": "2024-03-26T18:27:52.492060Z",
     "shell.execute_reply": "2024-03-26T18:27:52.490738Z"
    },
    "papermill": {
     "duration": 0.028854,
     "end_time": "2024-03-26T18:27:52.494927",
     "exception": false,
     "start_time": "2024-03-26T18:27:52.466073",
     "status": "completed"
    },
    "tags": []
   },
   "outputs": [],
   "source": [
    "preds= val_xs.LogFare>2.7"
   ]
  },
  {
   "cell_type": "code",
   "execution_count": 20,
   "id": "7a14b56e",
   "metadata": {
    "execution": {
     "iopub.execute_input": "2024-03-26T18:27:52.530972Z",
     "iopub.status.busy": "2024-03-26T18:27:52.530534Z",
     "iopub.status.idle": "2024-03-26T18:27:52.539635Z",
     "shell.execute_reply": "2024-03-26T18:27:52.538400Z"
    },
    "papermill": {
     "duration": 0.030273,
     "end_time": "2024-03-26T18:27:52.542427",
     "exception": false,
     "start_time": "2024-03-26T18:27:52.512154",
     "status": "completed"
    },
    "tags": []
   },
   "outputs": [
    {
     "data": {
      "text/plain": [
       "0.336322869955157"
      ]
     },
     "execution_count": 20,
     "metadata": {},
     "output_type": "execute_result"
    }
   ],
   "source": [
    "mean_absolute_error(val_y, preds)"
   ]
  },
  {
   "cell_type": "markdown",
   "id": "d299f84a",
   "metadata": {
    "papermill": {
     "duration": 0.017253,
     "end_time": "2024-03-26T18:27:52.578735",
     "exception": false,
     "start_time": "2024-03-26T18:27:52.561482",
     "status": "completed"
    },
    "tags": []
   },
   "source": [
    "- Less accurate then 'Sex' based split prediction\n",
    "\n",
    "- We'd like someway to try more columns and breakpoints more easily. \n",
    "- We could create a function that returns how good our model is, so we can try more splits.\n",
    "\n",
    "- `Score` function wouold be used to do this, Instead of MAE we'll calculate measure of Impurity\n",
    "\n",
    "**Measure of Impurity:** How much the binary split creates two groups where the rows in a group are each similar to each other, or dissimilar.\n",
    "\n",
    "> We can measure the similarity of rows inside the group by taking the Standard Deviation of the Dependent Variable\\\n",
    "If Higher than rows are diversed and vice versa\n",
    "We'll then multiply this by the number of rows, since a bigger group as more impact than a smaller group:"
   ]
  },
  {
   "cell_type": "code",
   "execution_count": 21,
   "id": "7b708fc8",
   "metadata": {
    "execution": {
     "iopub.execute_input": "2024-03-26T18:27:52.615129Z",
     "iopub.status.busy": "2024-03-26T18:27:52.614710Z",
     "iopub.status.idle": "2024-03-26T18:27:52.620719Z",
     "shell.execute_reply": "2024-03-26T18:27:52.619387Z"
    },
    "papermill": {
     "duration": 0.02655,
     "end_time": "2024-03-26T18:27:52.623140",
     "exception": false,
     "start_time": "2024-03-26T18:27:52.596590",
     "status": "completed"
    },
    "tags": []
   },
   "outputs": [],
   "source": [
    "def _side_score(side, y):\n",
    "    tot = side.sum()\n",
    "    if tot<=1: return 0\n",
    "    return y[side].std()*tot"
   ]
  },
  {
   "cell_type": "markdown",
   "id": "bc3802dd",
   "metadata": {
    "papermill": {
     "duration": 0.016603,
     "end_time": "2024-03-26T18:27:52.656673",
     "exception": false,
     "start_time": "2024-03-26T18:27:52.640070",
     "status": "completed"
    },
    "tags": []
   },
   "source": [
    "Now we can calculate the score for a split by adding up the scores for the LHS and RHS"
   ]
  },
  {
   "cell_type": "code",
   "execution_count": 22,
   "id": "1153863b",
   "metadata": {
    "execution": {
     "iopub.execute_input": "2024-03-26T18:27:52.693257Z",
     "iopub.status.busy": "2024-03-26T18:27:52.692840Z",
     "iopub.status.idle": "2024-03-26T18:27:52.699316Z",
     "shell.execute_reply": "2024-03-26T18:27:52.697921Z"
    },
    "papermill": {
     "duration": 0.028451,
     "end_time": "2024-03-26T18:27:52.701996",
     "exception": false,
     "start_time": "2024-03-26T18:27:52.673545",
     "status": "completed"
    },
    "tags": []
   },
   "outputs": [],
   "source": [
    "def score(col, y, split):\n",
    "    lhs = col<=split\n",
    "    return (_side_score(lhs, y) + _side_score(~lhs,y))/len(y)"
   ]
  },
  {
   "cell_type": "code",
   "execution_count": 23,
   "id": "1eb9ac63",
   "metadata": {
    "execution": {
     "iopub.execute_input": "2024-03-26T18:27:52.739024Z",
     "iopub.status.busy": "2024-03-26T18:27:52.738589Z",
     "iopub.status.idle": "2024-03-26T18:27:52.749050Z",
     "shell.execute_reply": "2024-03-26T18:27:52.747987Z"
    },
    "papermill": {
     "duration": 0.03256,
     "end_time": "2024-03-26T18:27:52.752026",
     "exception": false,
     "start_time": "2024-03-26T18:27:52.719466",
     "status": "completed"
    },
    "tags": []
   },
   "outputs": [
    {
     "data": {
      "text/plain": [
       "0.40787530982063946"
      ]
     },
     "execution_count": 23,
     "metadata": {},
     "output_type": "execute_result"
    }
   ],
   "source": [
    "# For eg. Score of the impurity\n",
    "score(trn_xs['Sex'], trn_y, 0.5)"
   ]
  },
  {
   "cell_type": "code",
   "execution_count": 24,
   "id": "e4002ac6",
   "metadata": {
    "execution": {
     "iopub.execute_input": "2024-03-26T18:27:52.788166Z",
     "iopub.status.busy": "2024-03-26T18:27:52.787780Z",
     "iopub.status.idle": "2024-03-26T18:27:52.796647Z",
     "shell.execute_reply": "2024-03-26T18:27:52.795497Z"
    },
    "papermill": {
     "duration": 0.02977,
     "end_time": "2024-03-26T18:27:52.798916",
     "exception": false,
     "start_time": "2024-03-26T18:27:52.769146",
     "status": "completed"
    },
    "tags": []
   },
   "outputs": [
    {
     "data": {
      "text/plain": [
       "0.47180873952099694"
      ]
     },
     "execution_count": 24,
     "metadata": {},
     "output_type": "execute_result"
    }
   ],
   "source": [
    "# Impurity score for LogFare split at 2.7\n",
    "score(trn_xs[\"LogFare\"], trn_y, 2.7)"
   ]
  },
  {
   "cell_type": "markdown",
   "id": "d4b2f62d",
   "metadata": {
    "papermill": {
     "duration": 0.01671,
     "end_time": "2024-03-26T18:27:52.832839",
     "exception": false,
     "start_time": "2024-03-26T18:27:52.816129",
     "status": "completed"
    },
    "tags": []
   },
   "source": [
    "Trying multiple split with interactive tool"
   ]
  },
  {
   "cell_type": "code",
   "execution_count": 25,
   "id": "8dfc5634",
   "metadata": {
    "execution": {
     "iopub.execute_input": "2024-03-26T18:27:52.868729Z",
     "iopub.status.busy": "2024-03-26T18:27:52.868260Z",
     "iopub.status.idle": "2024-03-26T18:27:52.902909Z",
     "shell.execute_reply": "2024-03-26T18:27:52.901728Z"
    },
    "papermill": {
     "duration": 0.055877,
     "end_time": "2024-03-26T18:27:52.905811",
     "exception": false,
     "start_time": "2024-03-26T18:27:52.849934",
     "status": "completed"
    },
    "tags": []
   },
   "outputs": [
    {
     "data": {
      "application/vnd.jupyter.widget-view+json": {
       "model_id": "8e5ea0ac5e4844e0a8002ddddf26b31a",
       "version_major": 2,
       "version_minor": 0
      },
      "text/plain": [
       "interactive(children=(Dropdown(description='nm', options=('Age', 'SibSp', 'Parch', 'LogFare', 'Pclass'), value…"
      ]
     },
     "metadata": {},
     "output_type": "display_data"
    }
   ],
   "source": [
    "def iscore(nm, split):\n",
    "    col = trn_xs[nm]\n",
    "    return score(col, trn_y, split)\n",
    "\n",
    "from ipywidgets import interact\n",
    "interact(nm=conts, split=15.5)(iscore);"
   ]
  },
  {
   "cell_type": "code",
   "execution_count": 26,
   "id": "1092d484",
   "metadata": {
    "execution": {
     "iopub.execute_input": "2024-03-26T18:27:52.944606Z",
     "iopub.status.busy": "2024-03-26T18:27:52.944194Z",
     "iopub.status.idle": "2024-03-26T18:27:52.973948Z",
     "shell.execute_reply": "2024-03-26T18:27:52.972791Z"
    },
    "papermill": {
     "duration": 0.056067,
     "end_time": "2024-03-26T18:27:52.980333",
     "exception": false,
     "start_time": "2024-03-26T18:27:52.924266",
     "status": "completed"
    },
    "tags": []
   },
   "outputs": [
    {
     "data": {
      "application/vnd.jupyter.widget-view+json": {
       "model_id": "6f896926c05c48a691cfc31d7a9f70c9",
       "version_major": 2,
       "version_minor": 0
      },
      "text/plain": [
       "interactive(children=(Dropdown(description='nm', options=('Sex', 'Embarked'), value='Sex'), FloatSlider(value=…"
      ]
     },
     "metadata": {},
     "output_type": "display_data"
    }
   ],
   "source": [
    "# Doing same for Categorical Columns\n",
    "interact(nm=cats, split=15.5)(iscore);"
   ]
  },
  {
   "cell_type": "markdown",
   "id": "8fe505be",
   "metadata": {
    "papermill": {
     "duration": 0.017572,
     "end_time": "2024-03-26T18:27:53.015986",
     "exception": false,
     "start_time": "2024-03-26T18:27:52.998414",
     "status": "completed"
    },
    "tags": []
   },
   "source": [
    "### Finding split with automatization"
   ]
  },
  {
   "cell_type": "code",
   "execution_count": 27,
   "id": "69578feb",
   "metadata": {
    "execution": {
     "iopub.execute_input": "2024-03-26T18:27:53.055147Z",
     "iopub.status.busy": "2024-03-26T18:27:53.054416Z",
     "iopub.status.idle": "2024-03-26T18:27:53.064144Z",
     "shell.execute_reply": "2024-03-26T18:27:53.062949Z"
    },
    "papermill": {
     "duration": 0.03193,
     "end_time": "2024-03-26T18:27:53.066421",
     "exception": false,
     "start_time": "2024-03-26T18:27:53.034491",
     "status": "completed"
    },
    "tags": []
   },
   "outputs": [
    {
     "data": {
      "text/plain": [
       "array([ 0.42,  0.67,  0.75,  0.83,  0.92,  1.  ,  2.  ,  3.  ,  4.  ,  5.  ,  6.  ,  7.  ,  8.  ,  9.  , 10.  , 11.  , 12.  ,\n",
       "       13.  , 14.  , 14.5 , 15.  , 16.  , 17.  , 18.  , 19.  , 20.  , 21.  , 22.  , 23.  , 24.  , 24.5 , 25.  , 26.  , 27.  ,\n",
       "       28.  , 28.5 , 29.  , 30.  , 31.  , 32.  , 32.5 , 33.  , 34.  , 34.5 , 35.  , 36.  , 36.5 , 37.  , 38.  , 39.  , 40.  ,\n",
       "       40.5 , 41.  , 42.  , 43.  , 44.  , 45.  , 45.5 , 46.  , 47.  , 48.  , 49.  , 50.  , 51.  , 52.  , 53.  , 54.  , 55.  ,\n",
       "       55.5 , 56.  , 57.  , 58.  , 59.  , 60.  , 61.  , 62.  , 64.  , 65.  , 70.  , 70.5 , 74.  , 80.  ])"
      ]
     },
     "execution_count": 27,
     "metadata": {},
     "output_type": "execute_result"
    }
   ],
   "source": [
    "nm = 'Age'\n",
    "col = trn_xs['Age']\n",
    "unq = col.unique()\n",
    "unq.sort()\n",
    "unq"
   ]
  },
  {
   "cell_type": "code",
   "execution_count": 28,
   "id": "f14b53ae",
   "metadata": {
    "execution": {
     "iopub.execute_input": "2024-03-26T18:27:53.105207Z",
     "iopub.status.busy": "2024-03-26T18:27:53.104819Z",
     "iopub.status.idle": "2024-03-26T18:27:53.167647Z",
     "shell.execute_reply": "2024-03-26T18:27:53.166441Z"
    },
    "papermill": {
     "duration": 0.085788,
     "end_time": "2024-03-26T18:27:53.170176",
     "exception": false,
     "start_time": "2024-03-26T18:27:53.084388",
     "status": "completed"
    },
    "tags": []
   },
   "outputs": [
    {
     "data": {
      "text/plain": [
       "6.0"
      ]
     },
     "execution_count": 28,
     "metadata": {},
     "output_type": "execute_result"
    }
   ],
   "source": [
    "# Finding the lowest Impurity measure for all the above split\n",
    "scores = np.array([score(col, trn_y, o) for o in unq if not np.isnan(o)])\n",
    "unq[scores.argmin()]"
   ]
  },
  {
   "cell_type": "markdown",
   "id": "c280ecf8",
   "metadata": {
    "papermill": {
     "duration": 0.017809,
     "end_time": "2024-03-26T18:27:53.206121",
     "exception": false,
     "start_time": "2024-03-26T18:27:53.188312",
     "status": "completed"
    },
    "tags": []
   },
   "source": [
    "Based on this, it looks like, for instance, that for the Age column, 6 is the optimal cutoff according to our training set."
   ]
  },
  {
   "cell_type": "markdown",
   "id": "c183ef4e",
   "metadata": {
    "papermill": {
     "duration": 0.017819,
     "end_time": "2024-03-26T18:27:53.242002",
     "exception": false,
     "start_time": "2024-03-26T18:27:53.224183",
     "status": "completed"
    },
    "tags": []
   },
   "source": [
    "### Implementing automatic split finder for all columns\n"
   ]
  },
  {
   "cell_type": "code",
   "execution_count": 29,
   "id": "1bb8280c",
   "metadata": {
    "execution": {
     "iopub.execute_input": "2024-03-26T18:27:53.280947Z",
     "iopub.status.busy": "2024-03-26T18:27:53.280519Z",
     "iopub.status.idle": "2024-03-26T18:27:53.346488Z",
     "shell.execute_reply": "2024-03-26T18:27:53.345203Z"
    },
    "papermill": {
     "duration": 0.088512,
     "end_time": "2024-03-26T18:27:53.349431",
     "exception": false,
     "start_time": "2024-03-26T18:27:53.260919",
     "status": "completed"
    },
    "tags": []
   },
   "outputs": [
    {
     "data": {
      "text/plain": [
       "(6.0, 0.478316717508991)"
      ]
     },
     "execution_count": 29,
     "metadata": {},
     "output_type": "execute_result"
    }
   ],
   "source": [
    "def min_col(df, nm):\n",
    "    col, y = df[nm], df[dep]\n",
    "    unq = col.dropna().unique()\n",
    "    scores = np.array([score(col, y, o) for o in unq if not np.isnan(o)])\n",
    "    idx = scores.argmin()\n",
    "    return unq[idx], scores[idx]\n",
    "\n",
    "min_col(trn_df, 'Age')"
   ]
  },
  {
   "cell_type": "code",
   "execution_count": 30,
   "id": "a9eda130",
   "metadata": {
    "execution": {
     "iopub.execute_input": "2024-03-26T18:27:53.387932Z",
     "iopub.status.busy": "2024-03-26T18:27:53.387488Z",
     "iopub.status.idle": "2024-03-26T18:27:53.606623Z",
     "shell.execute_reply": "2024-03-26T18:27:53.605369Z"
    },
    "papermill": {
     "duration": 0.241216,
     "end_time": "2024-03-26T18:27:53.609265",
     "exception": false,
     "start_time": "2024-03-26T18:27:53.368049",
     "status": "completed"
    },
    "tags": []
   },
   "outputs": [
    {
     "data": {
      "text/plain": [
       "{'Sex': (0, 0.40787530982063946),\n",
       " 'Embarked': (0, 0.47883342573147836),\n",
       " 'Age': (6.0, 0.478316717508991),\n",
       " 'SibSp': (4, 0.4783740258817434),\n",
       " 'Parch': (0, 0.4805296527841601),\n",
       " 'LogFare': (2.4390808375825834, 0.4620823937736597),\n",
       " 'Pclass': (2, 0.46048261885806596)}"
      ]
     },
     "execution_count": 30,
     "metadata": {},
     "output_type": "execute_result"
    }
   ],
   "source": [
    "# Trying for all columns\n",
    "cols = cats+conts\n",
    "{o:min_col(trn_df, o) for o in cols}"
   ]
  },
  {
   "cell_type": "markdown",
   "id": "02587b30",
   "metadata": {
    "papermill": {
     "duration": 0.017949,
     "end_time": "2024-03-26T18:27:53.645602",
     "exception": false,
     "start_time": "2024-03-26T18:27:53.627653",
     "status": "completed"
    },
    "tags": []
   },
   "source": [
    "ccording to this, Sex<=0 is the best split we can use.\n",
    "\n",
    "We've just re-invented the OneR classifier (or at least, a minor variant of it), which was found to be one of the most effective classifiers in real-world datasets, compared to the algorithms in use in 1993.\n",
    "\n",
    "- We found earlier that out OneR rule had an error of around 0.215, so we'll keep that in mind as we try out more sophisticated approaches."
   ]
  }
 ],
 "metadata": {
  "kaggle": {
   "accelerator": "none",
   "dataSources": [
    {
     "databundleVersionId": 26502,
     "sourceId": 3136,
     "sourceType": "competition"
    }
   ],
   "dockerImageVersionId": 30673,
   "isGpuEnabled": false,
   "isInternetEnabled": true,
   "language": "python",
   "sourceType": "notebook"
  },
  "kernelspec": {
   "display_name": "Python 3",
   "language": "python",
   "name": "python3"
  },
  "language_info": {
   "codemirror_mode": {
    "name": "ipython",
    "version": 3
   },
   "file_extension": ".py",
   "mimetype": "text/x-python",
   "name": "python",
   "nbconvert_exporter": "python",
   "pygments_lexer": "ipython3",
   "version": "3.10.13"
  },
  "papermill": {
   "default_parameters": {},
   "duration": 11.132074,
   "end_time": "2024-03-26T18:27:54.386489",
   "environment_variables": {},
   "exception": null,
   "input_path": "__notebook__.ipynb",
   "output_path": "__notebook__.ipynb",
   "parameters": {},
   "start_time": "2024-03-26T18:27:43.254415",
   "version": "2.5.0"
  },
  "widgets": {
   "application/vnd.jupyter.widget-state+json": {
    "state": {
     "1265ad1c8a4e48bbab58a8a9480faeb5": {
      "model_module": "@jupyter-widgets/base",
      "model_module_version": "1.2.0",
      "model_name": "LayoutModel",
      "state": {
       "_model_module": "@jupyter-widgets/base",
       "_model_module_version": "1.2.0",
       "_model_name": "LayoutModel",
       "_view_count": null,
       "_view_module": "@jupyter-widgets/base",
       "_view_module_version": "1.2.0",
       "_view_name": "LayoutView",
       "align_content": null,
       "align_items": null,
       "align_self": null,
       "border": null,
       "bottom": null,
       "display": null,
       "flex": null,
       "flex_flow": null,
       "grid_area": null,
       "grid_auto_columns": null,
       "grid_auto_flow": null,
       "grid_auto_rows": null,
       "grid_column": null,
       "grid_gap": null,
       "grid_row": null,
       "grid_template_areas": null,
       "grid_template_columns": null,
       "grid_template_rows": null,
       "height": null,
       "justify_content": null,
       "justify_items": null,
       "left": null,
       "margin": null,
       "max_height": null,
       "max_width": null,
       "min_height": null,
       "min_width": null,
       "object_fit": null,
       "object_position": null,
       "order": null,
       "overflow": null,
       "overflow_x": null,
       "overflow_y": null,
       "padding": null,
       "right": null,
       "top": null,
       "visibility": null,
       "width": null
      }
     },
     "13af4ab0e2d34961ad7dee9085576ee7": {
      "model_module": "@jupyter-widgets/output",
      "model_module_version": "1.0.0",
      "model_name": "OutputModel",
      "state": {
       "_dom_classes": [],
       "_model_module": "@jupyter-widgets/output",
       "_model_module_version": "1.0.0",
       "_model_name": "OutputModel",
       "_view_count": null,
       "_view_module": "@jupyter-widgets/output",
       "_view_module_version": "1.0.0",
       "_view_name": "OutputView",
       "layout": "IPY_MODEL_94a31d5c533345a8a378d399af505ed2",
       "msg_id": "",
       "outputs": [
        {
         "data": {
          "text/plain": "0.48105614369455413"
         },
         "metadata": {},
         "output_type": "display_data"
        }
       ]
      }
     },
     "1b3ad3e421f2495ab61b89b05c0d955d": {
      "model_module": "@jupyter-widgets/controls",
      "model_module_version": "1.5.0",
      "model_name": "DescriptionStyleModel",
      "state": {
       "_model_module": "@jupyter-widgets/controls",
       "_model_module_version": "1.5.0",
       "_model_name": "DescriptionStyleModel",
       "_view_count": null,
       "_view_module": "@jupyter-widgets/base",
       "_view_module_version": "1.2.0",
       "_view_name": "StyleView",
       "description_width": ""
      }
     },
     "2b5e9de0c69944a8bac68008dd043deb": {
      "model_module": "@jupyter-widgets/base",
      "model_module_version": "1.2.0",
      "model_name": "LayoutModel",
      "state": {
       "_model_module": "@jupyter-widgets/base",
       "_model_module_version": "1.2.0",
       "_model_name": "LayoutModel",
       "_view_count": null,
       "_view_module": "@jupyter-widgets/base",
       "_view_module_version": "1.2.0",
       "_view_name": "LayoutView",
       "align_content": null,
       "align_items": null,
       "align_self": null,
       "border": null,
       "bottom": null,
       "display": null,
       "flex": null,
       "flex_flow": null,
       "grid_area": null,
       "grid_auto_columns": null,
       "grid_auto_flow": null,
       "grid_auto_rows": null,
       "grid_column": null,
       "grid_gap": null,
       "grid_row": null,
       "grid_template_areas": null,
       "grid_template_columns": null,
       "grid_template_rows": null,
       "height": null,
       "justify_content": null,
       "justify_items": null,
       "left": null,
       "margin": null,
       "max_height": null,
       "max_width": null,
       "min_height": null,
       "min_width": null,
       "object_fit": null,
       "object_position": null,
       "order": null,
       "overflow": null,
       "overflow_x": null,
       "overflow_y": null,
       "padding": null,
       "right": null,
       "top": null,
       "visibility": null,
       "width": null
      }
     },
     "2eca7490cbd643fd92b0d97a0dc5ebb3": {
      "model_module": "@jupyter-widgets/controls",
      "model_module_version": "1.5.0",
      "model_name": "DropdownModel",
      "state": {
       "_dom_classes": [],
       "_model_module": "@jupyter-widgets/controls",
       "_model_module_version": "1.5.0",
       "_model_name": "DropdownModel",
       "_options_labels": [
        "Age",
        "SibSp",
        "Parch",
        "LogFare",
        "Pclass"
       ],
       "_view_count": null,
       "_view_module": "@jupyter-widgets/controls",
       "_view_module_version": "1.5.0",
       "_view_name": "DropdownView",
       "description": "nm",
       "description_tooltip": null,
       "disabled": false,
       "index": 0,
       "layout": "IPY_MODEL_2b5e9de0c69944a8bac68008dd043deb",
       "style": "IPY_MODEL_1b3ad3e421f2495ab61b89b05c0d955d"
      }
     },
     "31480fdf70c34906ab0fabe3948f027a": {
      "model_module": "@jupyter-widgets/base",
      "model_module_version": "1.2.0",
      "model_name": "LayoutModel",
      "state": {
       "_model_module": "@jupyter-widgets/base",
       "_model_module_version": "1.2.0",
       "_model_name": "LayoutModel",
       "_view_count": null,
       "_view_module": "@jupyter-widgets/base",
       "_view_module_version": "1.2.0",
       "_view_name": "LayoutView",
       "align_content": null,
       "align_items": null,
       "align_self": null,
       "border": null,
       "bottom": null,
       "display": null,
       "flex": null,
       "flex_flow": null,
       "grid_area": null,
       "grid_auto_columns": null,
       "grid_auto_flow": null,
       "grid_auto_rows": null,
       "grid_column": null,
       "grid_gap": null,
       "grid_row": null,
       "grid_template_areas": null,
       "grid_template_columns": null,
       "grid_template_rows": null,
       "height": null,
       "justify_content": null,
       "justify_items": null,
       "left": null,
       "margin": null,
       "max_height": null,
       "max_width": null,
       "min_height": null,
       "min_width": null,
       "object_fit": null,
       "object_position": null,
       "order": null,
       "overflow": null,
       "overflow_x": null,
       "overflow_y": null,
       "padding": null,
       "right": null,
       "top": null,
       "visibility": null,
       "width": null
      }
     },
     "3f9ef762c1b44b56aded7464086183c7": {
      "model_module": "@jupyter-widgets/controls",
      "model_module_version": "1.5.0",
      "model_name": "SliderStyleModel",
      "state": {
       "_model_module": "@jupyter-widgets/controls",
       "_model_module_version": "1.5.0",
       "_model_name": "SliderStyleModel",
       "_view_count": null,
       "_view_module": "@jupyter-widgets/base",
       "_view_module_version": "1.2.0",
       "_view_name": "StyleView",
       "description_width": "",
       "handle_color": null
      }
     },
     "511c1d1fd1374c2e8b70306d6c5d3f7b": {
      "model_module": "@jupyter-widgets/base",
      "model_module_version": "1.2.0",
      "model_name": "LayoutModel",
      "state": {
       "_model_module": "@jupyter-widgets/base",
       "_model_module_version": "1.2.0",
       "_model_name": "LayoutModel",
       "_view_count": null,
       "_view_module": "@jupyter-widgets/base",
       "_view_module_version": "1.2.0",
       "_view_name": "LayoutView",
       "align_content": null,
       "align_items": null,
       "align_self": null,
       "border": null,
       "bottom": null,
       "display": null,
       "flex": null,
       "flex_flow": null,
       "grid_area": null,
       "grid_auto_columns": null,
       "grid_auto_flow": null,
       "grid_auto_rows": null,
       "grid_column": null,
       "grid_gap": null,
       "grid_row": null,
       "grid_template_areas": null,
       "grid_template_columns": null,
       "grid_template_rows": null,
       "height": null,
       "justify_content": null,
       "justify_items": null,
       "left": null,
       "margin": null,
       "max_height": null,
       "max_width": null,
       "min_height": null,
       "min_width": null,
       "object_fit": null,
       "object_position": null,
       "order": null,
       "overflow": null,
       "overflow_x": null,
       "overflow_y": null,
       "padding": null,
       "right": null,
       "top": null,
       "visibility": null,
       "width": null
      }
     },
     "523cd2846c0e476a8af561213e8e05a0": {
      "model_module": "@jupyter-widgets/controls",
      "model_module_version": "1.5.0",
      "model_name": "FloatSliderModel",
      "state": {
       "_dom_classes": [],
       "_model_module": "@jupyter-widgets/controls",
       "_model_module_version": "1.5.0",
       "_model_name": "FloatSliderModel",
       "_view_count": null,
       "_view_module": "@jupyter-widgets/controls",
       "_view_module_version": "1.5.0",
       "_view_name": "FloatSliderView",
       "continuous_update": true,
       "description": "split",
       "description_tooltip": null,
       "disabled": false,
       "layout": "IPY_MODEL_b8648c2e5107437bbc8e50dd1621655b",
       "max": 46.5,
       "min": -15.5,
       "orientation": "horizontal",
       "readout": true,
       "readout_format": ".2f",
       "step": 0.1,
       "style": "IPY_MODEL_3f9ef762c1b44b56aded7464086183c7",
       "value": 15.5
      }
     },
     "58d6a6049bcf4110b8b2f25dae0a7578": {
      "model_module": "@jupyter-widgets/output",
      "model_module_version": "1.0.0",
      "model_name": "OutputModel",
      "state": {
       "_dom_classes": [],
       "_model_module": "@jupyter-widgets/output",
       "_model_module_version": "1.0.0",
       "_model_name": "OutputModel",
       "_view_count": null,
       "_view_module": "@jupyter-widgets/output",
       "_view_module_version": "1.0.0",
       "_view_name": "OutputView",
       "layout": "IPY_MODEL_31480fdf70c34906ab0fabe3948f027a",
       "msg_id": "",
       "outputs": [
        {
         "data": {
          "text/plain": "0.4854373192013831"
         },
         "metadata": {},
         "output_type": "display_data"
        }
       ]
      }
     },
     "6f896926c05c48a691cfc31d7a9f70c9": {
      "model_module": "@jupyter-widgets/controls",
      "model_module_version": "1.5.0",
      "model_name": "VBoxModel",
      "state": {
       "_dom_classes": [
        "widget-interact"
       ],
       "_model_module": "@jupyter-widgets/controls",
       "_model_module_version": "1.5.0",
       "_model_name": "VBoxModel",
       "_view_count": null,
       "_view_module": "@jupyter-widgets/controls",
       "_view_module_version": "1.5.0",
       "_view_name": "VBoxView",
       "box_style": "",
       "children": [
        "IPY_MODEL_a2cdf08c3b54432ea063f4878847ad4b",
        "IPY_MODEL_dce22ebed6db4d4aba867996f8fb3c89",
        "IPY_MODEL_58d6a6049bcf4110b8b2f25dae0a7578"
       ],
       "layout": "IPY_MODEL_a7d9fd2b22c54233a0a92f23ce21a1e6"
      }
     },
     "706a2e99370947ff8722368d625db0e6": {
      "model_module": "@jupyter-widgets/controls",
      "model_module_version": "1.5.0",
      "model_name": "DescriptionStyleModel",
      "state": {
       "_model_module": "@jupyter-widgets/controls",
       "_model_module_version": "1.5.0",
       "_model_name": "DescriptionStyleModel",
       "_view_count": null,
       "_view_module": "@jupyter-widgets/base",
       "_view_module_version": "1.2.0",
       "_view_name": "StyleView",
       "description_width": ""
      }
     },
     "8e5ea0ac5e4844e0a8002ddddf26b31a": {
      "model_module": "@jupyter-widgets/controls",
      "model_module_version": "1.5.0",
      "model_name": "VBoxModel",
      "state": {
       "_dom_classes": [
        "widget-interact"
       ],
       "_model_module": "@jupyter-widgets/controls",
       "_model_module_version": "1.5.0",
       "_model_name": "VBoxModel",
       "_view_count": null,
       "_view_module": "@jupyter-widgets/controls",
       "_view_module_version": "1.5.0",
       "_view_name": "VBoxView",
       "box_style": "",
       "children": [
        "IPY_MODEL_2eca7490cbd643fd92b0d97a0dc5ebb3",
        "IPY_MODEL_523cd2846c0e476a8af561213e8e05a0",
        "IPY_MODEL_13af4ab0e2d34961ad7dee9085576ee7"
       ],
       "layout": "IPY_MODEL_a1c30392cd7d45c2b318d9d9e85ada28"
      }
     },
     "94a31d5c533345a8a378d399af505ed2": {
      "model_module": "@jupyter-widgets/base",
      "model_module_version": "1.2.0",
      "model_name": "LayoutModel",
      "state": {
       "_model_module": "@jupyter-widgets/base",
       "_model_module_version": "1.2.0",
       "_model_name": "LayoutModel",
       "_view_count": null,
       "_view_module": "@jupyter-widgets/base",
       "_view_module_version": "1.2.0",
       "_view_name": "LayoutView",
       "align_content": null,
       "align_items": null,
       "align_self": null,
       "border": null,
       "bottom": null,
       "display": null,
       "flex": null,
       "flex_flow": null,
       "grid_area": null,
       "grid_auto_columns": null,
       "grid_auto_flow": null,
       "grid_auto_rows": null,
       "grid_column": null,
       "grid_gap": null,
       "grid_row": null,
       "grid_template_areas": null,
       "grid_template_columns": null,
       "grid_template_rows": null,
       "height": null,
       "justify_content": null,
       "justify_items": null,
       "left": null,
       "margin": null,
       "max_height": null,
       "max_width": null,
       "min_height": null,
       "min_width": null,
       "object_fit": null,
       "object_position": null,
       "order": null,
       "overflow": null,
       "overflow_x": null,
       "overflow_y": null,
       "padding": null,
       "right": null,
       "top": null,
       "visibility": null,
       "width": null
      }
     },
     "a1c30392cd7d45c2b318d9d9e85ada28": {
      "model_module": "@jupyter-widgets/base",
      "model_module_version": "1.2.0",
      "model_name": "LayoutModel",
      "state": {
       "_model_module": "@jupyter-widgets/base",
       "_model_module_version": "1.2.0",
       "_model_name": "LayoutModel",
       "_view_count": null,
       "_view_module": "@jupyter-widgets/base",
       "_view_module_version": "1.2.0",
       "_view_name": "LayoutView",
       "align_content": null,
       "align_items": null,
       "align_self": null,
       "border": null,
       "bottom": null,
       "display": null,
       "flex": null,
       "flex_flow": null,
       "grid_area": null,
       "grid_auto_columns": null,
       "grid_auto_flow": null,
       "grid_auto_rows": null,
       "grid_column": null,
       "grid_gap": null,
       "grid_row": null,
       "grid_template_areas": null,
       "grid_template_columns": null,
       "grid_template_rows": null,
       "height": null,
       "justify_content": null,
       "justify_items": null,
       "left": null,
       "margin": null,
       "max_height": null,
       "max_width": null,
       "min_height": null,
       "min_width": null,
       "object_fit": null,
       "object_position": null,
       "order": null,
       "overflow": null,
       "overflow_x": null,
       "overflow_y": null,
       "padding": null,
       "right": null,
       "top": null,
       "visibility": null,
       "width": null
      }
     },
     "a2cdf08c3b54432ea063f4878847ad4b": {
      "model_module": "@jupyter-widgets/controls",
      "model_module_version": "1.5.0",
      "model_name": "DropdownModel",
      "state": {
       "_dom_classes": [],
       "_model_module": "@jupyter-widgets/controls",
       "_model_module_version": "1.5.0",
       "_model_name": "DropdownModel",
       "_options_labels": [
        "Sex",
        "Embarked"
       ],
       "_view_count": null,
       "_view_module": "@jupyter-widgets/controls",
       "_view_module_version": "1.5.0",
       "_view_name": "DropdownView",
       "description": "nm",
       "description_tooltip": null,
       "disabled": false,
       "index": 0,
       "layout": "IPY_MODEL_511c1d1fd1374c2e8b70306d6c5d3f7b",
       "style": "IPY_MODEL_706a2e99370947ff8722368d625db0e6"
      }
     },
     "a7d9fd2b22c54233a0a92f23ce21a1e6": {
      "model_module": "@jupyter-widgets/base",
      "model_module_version": "1.2.0",
      "model_name": "LayoutModel",
      "state": {
       "_model_module": "@jupyter-widgets/base",
       "_model_module_version": "1.2.0",
       "_model_name": "LayoutModel",
       "_view_count": null,
       "_view_module": "@jupyter-widgets/base",
       "_view_module_version": "1.2.0",
       "_view_name": "LayoutView",
       "align_content": null,
       "align_items": null,
       "align_self": null,
       "border": null,
       "bottom": null,
       "display": null,
       "flex": null,
       "flex_flow": null,
       "grid_area": null,
       "grid_auto_columns": null,
       "grid_auto_flow": null,
       "grid_auto_rows": null,
       "grid_column": null,
       "grid_gap": null,
       "grid_row": null,
       "grid_template_areas": null,
       "grid_template_columns": null,
       "grid_template_rows": null,
       "height": null,
       "justify_content": null,
       "justify_items": null,
       "left": null,
       "margin": null,
       "max_height": null,
       "max_width": null,
       "min_height": null,
       "min_width": null,
       "object_fit": null,
       "object_position": null,
       "order": null,
       "overflow": null,
       "overflow_x": null,
       "overflow_y": null,
       "padding": null,
       "right": null,
       "top": null,
       "visibility": null,
       "width": null
      }
     },
     "b8648c2e5107437bbc8e50dd1621655b": {
      "model_module": "@jupyter-widgets/base",
      "model_module_version": "1.2.0",
      "model_name": "LayoutModel",
      "state": {
       "_model_module": "@jupyter-widgets/base",
       "_model_module_version": "1.2.0",
       "_model_name": "LayoutModel",
       "_view_count": null,
       "_view_module": "@jupyter-widgets/base",
       "_view_module_version": "1.2.0",
       "_view_name": "LayoutView",
       "align_content": null,
       "align_items": null,
       "align_self": null,
       "border": null,
       "bottom": null,
       "display": null,
       "flex": null,
       "flex_flow": null,
       "grid_area": null,
       "grid_auto_columns": null,
       "grid_auto_flow": null,
       "grid_auto_rows": null,
       "grid_column": null,
       "grid_gap": null,
       "grid_row": null,
       "grid_template_areas": null,
       "grid_template_columns": null,
       "grid_template_rows": null,
       "height": null,
       "justify_content": null,
       "justify_items": null,
       "left": null,
       "margin": null,
       "max_height": null,
       "max_width": null,
       "min_height": null,
       "min_width": null,
       "object_fit": null,
       "object_position": null,
       "order": null,
       "overflow": null,
       "overflow_x": null,
       "overflow_y": null,
       "padding": null,
       "right": null,
       "top": null,
       "visibility": null,
       "width": null
      }
     },
     "b955e4bd1a47428099829c22b9687a5b": {
      "model_module": "@jupyter-widgets/controls",
      "model_module_version": "1.5.0",
      "model_name": "SliderStyleModel",
      "state": {
       "_model_module": "@jupyter-widgets/controls",
       "_model_module_version": "1.5.0",
       "_model_name": "SliderStyleModel",
       "_view_count": null,
       "_view_module": "@jupyter-widgets/base",
       "_view_module_version": "1.2.0",
       "_view_name": "StyleView",
       "description_width": "",
       "handle_color": null
      }
     },
     "dce22ebed6db4d4aba867996f8fb3c89": {
      "model_module": "@jupyter-widgets/controls",
      "model_module_version": "1.5.0",
      "model_name": "FloatSliderModel",
      "state": {
       "_dom_classes": [],
       "_model_module": "@jupyter-widgets/controls",
       "_model_module_version": "1.5.0",
       "_model_name": "FloatSliderModel",
       "_view_count": null,
       "_view_module": "@jupyter-widgets/controls",
       "_view_module_version": "1.5.0",
       "_view_name": "FloatSliderView",
       "continuous_update": true,
       "description": "split",
       "description_tooltip": null,
       "disabled": false,
       "layout": "IPY_MODEL_1265ad1c8a4e48bbab58a8a9480faeb5",
       "max": 46.5,
       "min": -15.5,
       "orientation": "horizontal",
       "readout": true,
       "readout_format": ".2f",
       "step": 0.1,
       "style": "IPY_MODEL_b955e4bd1a47428099829c22b9687a5b",
       "value": 15.5
      }
     }
    },
    "version_major": 2,
    "version_minor": 0
   }
  }
 },
 "nbformat": 4,
 "nbformat_minor": 5
}
