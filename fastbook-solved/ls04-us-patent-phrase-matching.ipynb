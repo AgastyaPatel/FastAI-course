{
 "cells": [
  {
   "cell_type": "markdown",
   "id": "160a4000",
   "metadata": {},
   "source": [
    "<a href=\"https://www.kaggle.com/code/agastyapatel/ls04-us-patent-phrase-matching?scriptVersionId=162758047\" target=\"_blank\"><img align=\"left\" alt=\"Kaggle\" title=\"Open in Kaggle\" src=\"https://kaggle.com/static/images/open-in-kaggle.svg\"></a>"
   ]
  },
  {
   "cell_type": "code",
   "execution_count": 1,
   "id": "34792057",
   "metadata": {
    "execution": {
     "iopub.execute_input": "2024-02-13T16:17:11.091535Z",
     "iopub.status.busy": "2024-02-13T16:17:11.091177Z",
     "iopub.status.idle": "2024-02-13T16:17:11.837459Z",
     "shell.execute_reply": "2024-02-13T16:17:11.836357Z"
    },
    "papermill": {
     "duration": 0.767399,
     "end_time": "2024-02-13T16:17:11.839942",
     "exception": false,
     "start_time": "2024-02-13T16:17:11.072543",
     "status": "completed"
    },
    "tags": []
   },
   "outputs": [
    {
     "name": "stdout",
     "output_type": "stream",
     "text": [
      "/kaggle/input/us-patent-phrase-to-phrase-matching/sample_submission.csv\n",
      "/kaggle/input/us-patent-phrase-to-phrase-matching/train.csv\n",
      "/kaggle/input/us-patent-phrase-to-phrase-matching/test.csv\n"
     ]
    }
   ],
   "source": [
    "# This Python 3 environment comes with many helpful analytics libraries installed\n",
    "# It is defined by the kaggle/python Docker image: https://github.com/kaggle/docker-python\n",
    "# For example, here's several helpful packages to load\n",
    "\n",
    "import numpy as np # linear algebra\n",
    "import pandas as pd # data processing, CSV file I/O (e.g. pd.read_csv)\n",
    "        \n",
    "# Input data files are available in the read-only \"../input/\" directory\n",
    "# For example, running this (by clicking run or pressing Shift+Enter) will list all files under the input directory\n",
    "\n",
    "import os\n",
    "for dirname, _, filenames in os.walk('/kaggle/input'):\n",
    "    for filename in filenames:\n",
    "        print(os.path.join(dirname, filename))\n",
    "\n",
    "\n",
    "# You can write up to 20GB to the current directory (/kaggle/working/) that gets preserved as output when you create a version using \"Save & Run All\" \n",
    "# You can also write temporary files to /kaggle/temp/, but they won't be saved outside of the current session"
   ]
  },
  {
   "cell_type": "markdown",
   "id": "0884bf50",
   "metadata": {
    "papermill": {
     "duration": 0.019885,
     "end_time": "2024-02-13T16:17:11.880444",
     "exception": false,
     "start_time": "2024-02-13T16:17:11.860559",
     "status": "completed"
    },
    "tags": []
   },
   "source": [
    "This notebook has been inspired by Jeremy Howard's nb https://www.kaggle.com/code/jhoward/getting-started-with-nlp-for-absolute-beginners\n",
    "Most practical used applications of NLP is classifiction:\n",
    "* Sentiment Analysis\n",
    "* Author identification\n",
    "* Legal Discovery\n",
    "* Organising document by topic\n",
    "* Triaging inbound emails\n",
    "Competition "
   ]
  },
  {
   "cell_type": "code",
   "execution_count": 2,
   "id": "87456876",
   "metadata": {
    "execution": {
     "iopub.execute_input": "2024-02-13T16:17:11.922855Z",
     "iopub.status.busy": "2024-02-13T16:17:11.922343Z",
     "iopub.status.idle": "2024-02-13T16:17:11.93044Z",
     "shell.execute_reply": "2024-02-13T16:17:11.929366Z"
    },
    "papermill": {
     "duration": 0.031641,
     "end_time": "2024-02-13T16:17:11.932797",
     "exception": false,
     "start_time": "2024-02-13T16:17:11.901156",
     "status": "completed"
    },
    "tags": []
   },
   "outputs": [
    {
     "data": {
      "text/plain": [
       "'Batch'"
      ]
     },
     "execution_count": 2,
     "metadata": {},
     "output_type": "execute_result"
    }
   ],
   "source": [
    "import os\n",
    "iskaggle = os.environ.get('KAGGLE_KERNEL_RUN_TYPE')\n",
    "iskaggle"
   ]
  },
  {
   "cell_type": "code",
   "execution_count": 3,
   "id": "82690cc6",
   "metadata": {
    "execution": {
     "iopub.execute_input": "2024-02-13T16:17:11.975304Z",
     "iopub.status.busy": "2024-02-13T16:17:11.974916Z",
     "iopub.status.idle": "2024-02-13T16:17:11.98147Z",
     "shell.execute_reply": "2024-02-13T16:17:11.980587Z"
    },
    "papermill": {
     "duration": 0.030577,
     "end_time": "2024-02-13T16:17:11.983724",
     "exception": false,
     "start_time": "2024-02-13T16:17:11.953147",
     "status": "completed"
    },
    "tags": []
   },
   "outputs": [
    {
     "data": {
      "text/plain": [
       "PosixPath('us-patent-phrase-to-phrase-matching')"
      ]
     },
     "execution_count": 3,
     "metadata": {},
     "output_type": "execute_result"
    }
   ],
   "source": [
    "from pathlib import Path\n",
    "path = Path('us-patent-phrase-to-phrase-matching')\n",
    "path"
   ]
  },
  {
   "cell_type": "code",
   "execution_count": 4,
   "id": "65a1a016",
   "metadata": {
    "execution": {
     "iopub.execute_input": "2024-02-13T16:17:12.027452Z",
     "iopub.status.busy": "2024-02-13T16:17:12.026718Z",
     "iopub.status.idle": "2024-02-13T16:17:12.032523Z",
     "shell.execute_reply": "2024-02-13T16:17:12.031453Z"
    },
    "papermill": {
     "duration": 0.03015,
     "end_time": "2024-02-13T16:17:12.034717",
     "exception": false,
     "start_time": "2024-02-13T16:17:12.004567",
     "status": "completed"
    },
    "tags": []
   },
   "outputs": [],
   "source": [
    "# Download the dataaset if the env is not kaggle\n",
    "if not iskaggle and not path.exists():\n",
    "    import zipfile, kaggle\n",
    "    kaggle.api.competition_download_file(str(path))\n",
    "    zipfile.ZipFile(f'{path}.zip').extractall(path)"
   ]
  },
  {
   "cell_type": "markdown",
   "id": "2a25e632",
   "metadata": {
    "papermill": {
     "duration": 0.020963,
     "end_time": "2024-02-13T16:17:12.07624",
     "exception": false,
     "start_time": "2024-02-13T16:17:12.055277",
     "status": "completed"
    },
    "tags": []
   },
   "source": [
    "## Import EDA"
   ]
  },
  {
   "cell_type": "code",
   "execution_count": 5,
   "id": "0b784ebd",
   "metadata": {
    "execution": {
     "iopub.execute_input": "2024-02-13T16:17:12.120196Z",
     "iopub.status.busy": "2024-02-13T16:17:12.119177Z",
     "iopub.status.idle": "2024-02-13T16:17:25.659802Z",
     "shell.execute_reply": "2024-02-13T16:17:25.658586Z"
    },
    "papermill": {
     "duration": 13.565144,
     "end_time": "2024-02-13T16:17:25.662301",
     "exception": false,
     "start_time": "2024-02-13T16:17:12.097157",
     "status": "completed"
    },
    "tags": []
   },
   "outputs": [],
   "source": [
    "if iskaggle:\n",
    "    path = Path('../input/us-patent-phrase-to-phrase-matching')\n",
    "    !pip install -q datasets  # Installing hugging face datasets"
   ]
  },
  {
   "cell_type": "code",
   "execution_count": 6,
   "id": "33e76214",
   "metadata": {
    "execution": {
     "iopub.execute_input": "2024-02-13T16:17:25.698573Z",
     "iopub.status.busy": "2024-02-13T16:17:25.698243Z",
     "iopub.status.idle": "2024-02-13T16:17:26.70862Z",
     "shell.execute_reply": "2024-02-13T16:17:26.707573Z"
    },
    "papermill": {
     "duration": 1.031175,
     "end_time": "2024-02-13T16:17:26.711091",
     "exception": false,
     "start_time": "2024-02-13T16:17:25.679916",
     "status": "completed"
    },
    "tags": []
   },
   "outputs": [
    {
     "name": "stdout",
     "output_type": "stream",
     "text": [
      "sample_submission.csv  test.csv  train.csv\r\n"
     ]
    }
   ],
   "source": [
    "!ls {path}"
   ]
  },
  {
   "cell_type": "code",
   "execution_count": 7,
   "id": "667a97d7",
   "metadata": {
    "execution": {
     "iopub.execute_input": "2024-02-13T16:17:26.751969Z",
     "iopub.status.busy": "2024-02-13T16:17:26.75103Z",
     "iopub.status.idle": "2024-02-13T16:17:26.85058Z",
     "shell.execute_reply": "2024-02-13T16:17:26.849698Z"
    },
    "papermill": {
     "duration": 0.123149,
     "end_time": "2024-02-13T16:17:26.853177",
     "exception": false,
     "start_time": "2024-02-13T16:17:26.730028",
     "status": "completed"
    },
    "tags": []
   },
   "outputs": [],
   "source": [
    "import pandas as pd\n",
    "df = pd.read_csv(path/'train.csv')"
   ]
  },
  {
   "cell_type": "code",
   "execution_count": 8,
   "id": "8c9eaaff",
   "metadata": {
    "execution": {
     "iopub.execute_input": "2024-02-13T16:17:26.892942Z",
     "iopub.status.busy": "2024-02-13T16:17:26.892047Z",
     "iopub.status.idle": "2024-02-13T16:17:26.914888Z",
     "shell.execute_reply": "2024-02-13T16:17:26.913865Z"
    },
    "papermill": {
     "duration": 0.044223,
     "end_time": "2024-02-13T16:17:26.916963",
     "exception": false,
     "start_time": "2024-02-13T16:17:26.87274",
     "status": "completed"
    },
    "tags": []
   },
   "outputs": [
    {
     "data": {
      "text/html": [
       "<div>\n",
       "<style scoped>\n",
       "    .dataframe tbody tr th:only-of-type {\n",
       "        vertical-align: middle;\n",
       "    }\n",
       "\n",
       "    .dataframe tbody tr th {\n",
       "        vertical-align: top;\n",
       "    }\n",
       "\n",
       "    .dataframe thead th {\n",
       "        text-align: right;\n",
       "    }\n",
       "</style>\n",
       "<table border=\"1\" class=\"dataframe\">\n",
       "  <thead>\n",
       "    <tr style=\"text-align: right;\">\n",
       "      <th></th>\n",
       "      <th>id</th>\n",
       "      <th>anchor</th>\n",
       "      <th>target</th>\n",
       "      <th>context</th>\n",
       "      <th>score</th>\n",
       "    </tr>\n",
       "  </thead>\n",
       "  <tbody>\n",
       "    <tr>\n",
       "      <th>0</th>\n",
       "      <td>37d61fd2272659b1</td>\n",
       "      <td>abatement</td>\n",
       "      <td>abatement of pollution</td>\n",
       "      <td>A47</td>\n",
       "      <td>0.50</td>\n",
       "    </tr>\n",
       "    <tr>\n",
       "      <th>1</th>\n",
       "      <td>7b9652b17b68b7a4</td>\n",
       "      <td>abatement</td>\n",
       "      <td>act of abating</td>\n",
       "      <td>A47</td>\n",
       "      <td>0.75</td>\n",
       "    </tr>\n",
       "    <tr>\n",
       "      <th>2</th>\n",
       "      <td>36d72442aefd8232</td>\n",
       "      <td>abatement</td>\n",
       "      <td>active catalyst</td>\n",
       "      <td>A47</td>\n",
       "      <td>0.25</td>\n",
       "    </tr>\n",
       "    <tr>\n",
       "      <th>3</th>\n",
       "      <td>5296b0c19e1ce60e</td>\n",
       "      <td>abatement</td>\n",
       "      <td>eliminating process</td>\n",
       "      <td>A47</td>\n",
       "      <td>0.50</td>\n",
       "    </tr>\n",
       "    <tr>\n",
       "      <th>4</th>\n",
       "      <td>54c1e3b9184cb5b6</td>\n",
       "      <td>abatement</td>\n",
       "      <td>forest region</td>\n",
       "      <td>A47</td>\n",
       "      <td>0.00</td>\n",
       "    </tr>\n",
       "    <tr>\n",
       "      <th>...</th>\n",
       "      <td>...</td>\n",
       "      <td>...</td>\n",
       "      <td>...</td>\n",
       "      <td>...</td>\n",
       "      <td>...</td>\n",
       "    </tr>\n",
       "    <tr>\n",
       "      <th>36468</th>\n",
       "      <td>8e1386cbefd7f245</td>\n",
       "      <td>wood article</td>\n",
       "      <td>wooden article</td>\n",
       "      <td>B44</td>\n",
       "      <td>1.00</td>\n",
       "    </tr>\n",
       "    <tr>\n",
       "      <th>36469</th>\n",
       "      <td>42d9e032d1cd3242</td>\n",
       "      <td>wood article</td>\n",
       "      <td>wooden box</td>\n",
       "      <td>B44</td>\n",
       "      <td>0.50</td>\n",
       "    </tr>\n",
       "    <tr>\n",
       "      <th>36470</th>\n",
       "      <td>208654ccb9e14fa3</td>\n",
       "      <td>wood article</td>\n",
       "      <td>wooden handle</td>\n",
       "      <td>B44</td>\n",
       "      <td>0.50</td>\n",
       "    </tr>\n",
       "    <tr>\n",
       "      <th>36471</th>\n",
       "      <td>756ec035e694722b</td>\n",
       "      <td>wood article</td>\n",
       "      <td>wooden material</td>\n",
       "      <td>B44</td>\n",
       "      <td>0.75</td>\n",
       "    </tr>\n",
       "    <tr>\n",
       "      <th>36472</th>\n",
       "      <td>8d135da0b55b8c88</td>\n",
       "      <td>wood article</td>\n",
       "      <td>wooden substrate</td>\n",
       "      <td>B44</td>\n",
       "      <td>0.50</td>\n",
       "    </tr>\n",
       "  </tbody>\n",
       "</table>\n",
       "<p>36473 rows × 5 columns</p>\n",
       "</div>"
      ],
      "text/plain": [
       "                     id        anchor                  target context  score\n",
       "0      37d61fd2272659b1     abatement  abatement of pollution     A47   0.50\n",
       "1      7b9652b17b68b7a4     abatement          act of abating     A47   0.75\n",
       "2      36d72442aefd8232     abatement         active catalyst     A47   0.25\n",
       "3      5296b0c19e1ce60e     abatement     eliminating process     A47   0.50\n",
       "4      54c1e3b9184cb5b6     abatement           forest region     A47   0.00\n",
       "...                 ...           ...                     ...     ...    ...\n",
       "36468  8e1386cbefd7f245  wood article          wooden article     B44   1.00\n",
       "36469  42d9e032d1cd3242  wood article              wooden box     B44   0.50\n",
       "36470  208654ccb9e14fa3  wood article           wooden handle     B44   0.50\n",
       "36471  756ec035e694722b  wood article         wooden material     B44   0.75\n",
       "36472  8d135da0b55b8c88  wood article        wooden substrate     B44   0.50\n",
       "\n",
       "[36473 rows x 5 columns]"
      ]
     },
     "execution_count": 8,
     "metadata": {},
     "output_type": "execute_result"
    }
   ],
   "source": [
    "df"
   ]
  },
  {
   "cell_type": "code",
   "execution_count": 9,
   "id": "01acaa52",
   "metadata": {
    "execution": {
     "iopub.execute_input": "2024-02-13T16:17:26.954266Z",
     "iopub.status.busy": "2024-02-13T16:17:26.954005Z",
     "iopub.status.idle": "2024-02-13T16:17:27.04916Z",
     "shell.execute_reply": "2024-02-13T16:17:27.048126Z"
    },
    "papermill": {
     "duration": 0.116698,
     "end_time": "2024-02-13T16:17:27.051815",
     "exception": false,
     "start_time": "2024-02-13T16:17:26.935117",
     "status": "completed"
    },
    "tags": []
   },
   "outputs": [
    {
     "data": {
      "text/html": [
       "<div>\n",
       "<style scoped>\n",
       "    .dataframe tbody tr th:only-of-type {\n",
       "        vertical-align: middle;\n",
       "    }\n",
       "\n",
       "    .dataframe tbody tr th {\n",
       "        vertical-align: top;\n",
       "    }\n",
       "\n",
       "    .dataframe thead th {\n",
       "        text-align: right;\n",
       "    }\n",
       "</style>\n",
       "<table border=\"1\" class=\"dataframe\">\n",
       "  <thead>\n",
       "    <tr style=\"text-align: right;\">\n",
       "      <th></th>\n",
       "      <th>id</th>\n",
       "      <th>anchor</th>\n",
       "      <th>target</th>\n",
       "      <th>context</th>\n",
       "    </tr>\n",
       "  </thead>\n",
       "  <tbody>\n",
       "    <tr>\n",
       "      <th>count</th>\n",
       "      <td>36473</td>\n",
       "      <td>36473</td>\n",
       "      <td>36473</td>\n",
       "      <td>36473</td>\n",
       "    </tr>\n",
       "    <tr>\n",
       "      <th>unique</th>\n",
       "      <td>36473</td>\n",
       "      <td>733</td>\n",
       "      <td>29340</td>\n",
       "      <td>106</td>\n",
       "    </tr>\n",
       "    <tr>\n",
       "      <th>top</th>\n",
       "      <td>8d135da0b55b8c88</td>\n",
       "      <td>component composite coating</td>\n",
       "      <td>composition</td>\n",
       "      <td>H01</td>\n",
       "    </tr>\n",
       "    <tr>\n",
       "      <th>freq</th>\n",
       "      <td>1</td>\n",
       "      <td>152</td>\n",
       "      <td>24</td>\n",
       "      <td>2186</td>\n",
       "    </tr>\n",
       "  </tbody>\n",
       "</table>\n",
       "</div>"
      ],
      "text/plain": [
       "                      id                       anchor       target context\n",
       "count              36473                        36473        36473   36473\n",
       "unique             36473                          733        29340     106\n",
       "top     8d135da0b55b8c88  component composite coating  composition     H01\n",
       "freq                   1                          152           24    2186"
      ]
     },
     "execution_count": 9,
     "metadata": {},
     "output_type": "execute_result"
    }
   ],
   "source": [
    "df.describe(include='object')"
   ]
  },
  {
   "cell_type": "code",
   "execution_count": 10,
   "id": "c0d627d9",
   "metadata": {
    "execution": {
     "iopub.execute_input": "2024-02-13T16:17:27.095624Z",
     "iopub.status.busy": "2024-02-13T16:17:27.095271Z",
     "iopub.status.idle": "2024-02-13T16:17:27.125623Z",
     "shell.execute_reply": "2024-02-13T16:17:27.124771Z"
    },
    "papermill": {
     "duration": 0.053826,
     "end_time": "2024-02-13T16:17:27.127746",
     "exception": false,
     "start_time": "2024-02-13T16:17:27.07392",
     "status": "completed"
    },
    "tags": []
   },
   "outputs": [],
   "source": [
    "df['input'] = 'CASE1: ' + df.context + '| CASE2: ' + df.target + '| ANC1: ' + df.anchor "
   ]
  },
  {
   "cell_type": "code",
   "execution_count": 11,
   "id": "3c4e510a",
   "metadata": {
    "execution": {
     "iopub.execute_input": "2024-02-13T16:17:27.169435Z",
     "iopub.status.busy": "2024-02-13T16:17:27.169105Z",
     "iopub.status.idle": "2024-02-13T16:17:27.17664Z",
     "shell.execute_reply": "2024-02-13T16:17:27.175723Z"
    },
    "papermill": {
     "duration": 0.030516,
     "end_time": "2024-02-13T16:17:27.17887",
     "exception": false,
     "start_time": "2024-02-13T16:17:27.148354",
     "status": "completed"
    },
    "tags": []
   },
   "outputs": [
    {
     "data": {
      "text/plain": [
       "0    CASE1: A47| CASE2: abatement of pollution| ANC...\n",
       "1    CASE1: A47| CASE2: act of abating| ANC1: abate...\n",
       "2    CASE1: A47| CASE2: active catalyst| ANC1: abat...\n",
       "3    CASE1: A47| CASE2: eliminating process| ANC1: ...\n",
       "4    CASE1: A47| CASE2: forest region| ANC1: abatement\n",
       "Name: input, dtype: object"
      ]
     },
     "execution_count": 11,
     "metadata": {},
     "output_type": "execute_result"
    }
   ],
   "source": [
    "df.input.head()"
   ]
  },
  {
   "cell_type": "markdown",
   "id": "28d68786",
   "metadata": {
    "papermill": {
     "duration": 0.020187,
     "end_time": "2024-02-13T16:17:27.221861",
     "exception": false,
     "start_time": "2024-02-13T16:17:27.201674",
     "status": "completed"
    },
    "tags": []
   },
   "source": [
    "## Tokenization"
   ]
  },
  {
   "cell_type": "markdown",
   "id": "deee7389",
   "metadata": {
    "papermill": {
     "duration": 0.020315,
     "end_time": "2024-02-13T16:17:27.262325",
     "exception": false,
     "start_time": "2024-02-13T16:17:27.24201",
     "status": "completed"
    },
    "tags": []
   },
   "source": [
    "Transformers uses a Dataset object for storing dataset"
   ]
  },
  {
   "cell_type": "code",
   "execution_count": 12,
   "id": "a79af46c",
   "metadata": {
    "execution": {
     "iopub.execute_input": "2024-02-13T16:17:27.303771Z",
     "iopub.status.busy": "2024-02-13T16:17:27.303459Z",
     "iopub.status.idle": "2024-02-13T16:17:28.491218Z",
     "shell.execute_reply": "2024-02-13T16:17:28.490418Z"
    },
    "papermill": {
     "duration": 1.2107,
     "end_time": "2024-02-13T16:17:28.493476",
     "exception": false,
     "start_time": "2024-02-13T16:17:27.282776",
     "status": "completed"
    },
    "tags": []
   },
   "outputs": [],
   "source": [
    "from datasets import Dataset, DatasetDict\n",
    "\n",
    "ds = Dataset.from_pandas(df)"
   ]
  },
  {
   "cell_type": "code",
   "execution_count": 13,
   "id": "402d5eaf",
   "metadata": {
    "execution": {
     "iopub.execute_input": "2024-02-13T16:17:28.533584Z",
     "iopub.status.busy": "2024-02-13T16:17:28.533118Z",
     "iopub.status.idle": "2024-02-13T16:17:28.539578Z",
     "shell.execute_reply": "2024-02-13T16:17:28.538511Z"
    },
    "papermill": {
     "duration": 0.029614,
     "end_time": "2024-02-13T16:17:28.541622",
     "exception": false,
     "start_time": "2024-02-13T16:17:28.512008",
     "status": "completed"
    },
    "tags": []
   },
   "outputs": [
    {
     "data": {
      "text/plain": [
       "Dataset({\n",
       "    features: ['id', 'anchor', 'target', 'context', 'score', 'input'],\n",
       "    num_rows: 36473\n",
       "})"
      ]
     },
     "execution_count": 13,
     "metadata": {},
     "output_type": "execute_result"
    }
   ],
   "source": [
    "ds"
   ]
  },
  {
   "cell_type": "markdown",
   "id": "99aa9d7c",
   "metadata": {
    "papermill": {
     "duration": 0.018874,
     "end_time": "2024-02-13T16:17:28.579583",
     "exception": false,
     "start_time": "2024-02-13T16:17:28.560709",
     "status": "completed"
    },
    "tags": []
   },
   "source": [
    "We can't pass a text directly into deep learning model as it only understands the number\n",
    "Preprocessing for NLP:\n",
    "* Tokenization: Split each text up into token\n",
    "* Numericalization: Convert each token into number"
   ]
  },
  {
   "cell_type": "code",
   "execution_count": 14,
   "id": "bfb7461b",
   "metadata": {
    "execution": {
     "iopub.execute_input": "2024-02-13T16:17:28.618975Z",
     "iopub.status.busy": "2024-02-13T16:17:28.618146Z",
     "iopub.status.idle": "2024-02-13T16:17:28.622515Z",
     "shell.execute_reply": "2024-02-13T16:17:28.621629Z"
    },
    "papermill": {
     "duration": 0.027046,
     "end_time": "2024-02-13T16:17:28.624775",
     "exception": false,
     "start_time": "2024-02-13T16:17:28.597729",
     "status": "completed"
    },
    "tags": []
   },
   "outputs": [],
   "source": [
    "# Tokenization and numericalization is differently designed for all models.\n",
    "# We will choose our model\n",
    "model_nm = 'microsoft/deberta-v3-small'"
   ]
  },
  {
   "cell_type": "markdown",
   "id": "a4eb8f11",
   "metadata": {
    "papermill": {
     "duration": 0.018981,
     "end_time": "2024-02-13T16:17:28.66296",
     "exception": false,
     "start_time": "2024-02-13T16:17:28.643979",
     "status": "completed"
    },
    "tags": []
   },
   "source": [
    "AutoTokenizer in transformers library would automatically create the tokenizer for the appropriate model"
   ]
  },
  {
   "cell_type": "code",
   "execution_count": 15,
   "id": "cfab6a30",
   "metadata": {
    "execution": {
     "iopub.execute_input": "2024-02-13T16:17:28.744642Z",
     "iopub.status.busy": "2024-02-13T16:17:28.743704Z",
     "iopub.status.idle": "2024-02-13T16:17:36.493272Z",
     "shell.execute_reply": "2024-02-13T16:17:36.492329Z"
    },
    "papermill": {
     "duration": 7.813674,
     "end_time": "2024-02-13T16:17:36.49563",
     "exception": false,
     "start_time": "2024-02-13T16:17:28.681956",
     "status": "completed"
    },
    "tags": []
   },
   "outputs": [
    {
     "data": {
      "application/vnd.jupyter.widget-view+json": {
       "model_id": "f2588689638c4399ad049c90d4b5f317",
       "version_major": 2,
       "version_minor": 0
      },
      "text/plain": [
       "tokenizer_config.json:   0%|          | 0.00/52.0 [00:00<?, ?B/s]"
      ]
     },
     "metadata": {},
     "output_type": "display_data"
    },
    {
     "data": {
      "application/vnd.jupyter.widget-view+json": {
       "model_id": "8e1e9ee7a9374c1799c0c3cd17f46144",
       "version_major": 2,
       "version_minor": 0
      },
      "text/plain": [
       "config.json:   0%|          | 0.00/578 [00:00<?, ?B/s]"
      ]
     },
     "metadata": {},
     "output_type": "display_data"
    },
    {
     "data": {
      "application/vnd.jupyter.widget-view+json": {
       "model_id": "577ff8dd04f24f98890d63e3cea8b6b7",
       "version_major": 2,
       "version_minor": 0
      },
      "text/plain": [
       "spm.model:   0%|          | 0.00/2.46M [00:00<?, ?B/s]"
      ]
     },
     "metadata": {},
     "output_type": "display_data"
    },
    {
     "name": "stderr",
     "output_type": "stream",
     "text": [
      "/opt/conda/lib/python3.10/site-packages/transformers/convert_slow_tokenizer.py:515: UserWarning: The sentencepiece tokenizer that you are converting to a fast tokenizer uses the byte fallback option which is not implemented in the fast tokenizers. In practice this means that the fast version of the tokenizer can produce unknown tokens whereas the sentencepiece version would have converted these unknown tokens into a sequence of byte tokens matching the original piece of text.\n",
      "  warnings.warn(\n"
     ]
    }
   ],
   "source": [
    "from transformers import AutoModelForSequenceClassification, AutoTokenizer\n",
    "tokz = AutoTokenizer.from_pretrained(model_nm)"
   ]
  },
  {
   "cell_type": "code",
   "execution_count": 16,
   "id": "cef5e800",
   "metadata": {
    "execution": {
     "iopub.execute_input": "2024-02-13T16:17:36.535472Z",
     "iopub.status.busy": "2024-02-13T16:17:36.534882Z",
     "iopub.status.idle": "2024-02-13T16:17:36.541057Z",
     "shell.execute_reply": "2024-02-13T16:17:36.540262Z"
    },
    "papermill": {
     "duration": 0.028227,
     "end_time": "2024-02-13T16:17:36.543016",
     "exception": false,
     "start_time": "2024-02-13T16:17:36.514789",
     "status": "completed"
    },
    "tags": []
   },
   "outputs": [
    {
     "data": {
      "text/plain": [
       "DebertaV2TokenizerFast(name_or_path='microsoft/deberta-v3-small', vocab_size=128000, model_max_length=1000000000000000019884624838656, is_fast=True, padding_side='right', truncation_side='right', special_tokens={'bos_token': '[CLS]', 'eos_token': '[SEP]', 'unk_token': '[UNK]', 'sep_token': '[SEP]', 'pad_token': '[PAD]', 'cls_token': '[CLS]', 'mask_token': '[MASK]'}, clean_up_tokenization_spaces=True),  added_tokens_decoder={\n",
       "\t0: AddedToken(\"[PAD]\", rstrip=False, lstrip=False, single_word=False, normalized=False, special=True),\n",
       "\t1: AddedToken(\"[CLS]\", rstrip=False, lstrip=False, single_word=False, normalized=False, special=True),\n",
       "\t2: AddedToken(\"[SEP]\", rstrip=False, lstrip=False, single_word=False, normalized=False, special=True),\n",
       "\t3: AddedToken(\"[UNK]\", rstrip=False, lstrip=False, single_word=False, normalized=True, special=True),\n",
       "\t128000: AddedToken(\"[MASK]\", rstrip=False, lstrip=False, single_word=False, normalized=False, special=True),\n",
       "}"
      ]
     },
     "execution_count": 16,
     "metadata": {},
     "output_type": "execute_result"
    }
   ],
   "source": [
    "tokz"
   ]
  },
  {
   "cell_type": "code",
   "execution_count": 17,
   "id": "ef33767a",
   "metadata": {
    "execution": {
     "iopub.execute_input": "2024-02-13T16:17:36.58222Z",
     "iopub.status.busy": "2024-02-13T16:17:36.581959Z",
     "iopub.status.idle": "2024-02-13T16:17:36.588092Z",
     "shell.execute_reply": "2024-02-13T16:17:36.587241Z"
    },
    "papermill": {
     "duration": 0.02776,
     "end_time": "2024-02-13T16:17:36.589975",
     "exception": false,
     "start_time": "2024-02-13T16:17:36.562215",
     "status": "completed"
    },
    "tags": []
   },
   "outputs": [
    {
     "data": {
      "text/plain": [
       "['▁Hello',\n",
       " ',',\n",
       " '▁folks',\n",
       " '.',\n",
       " '▁I',\n",
       " \"'\",\n",
       " 'm',\n",
       " '▁Aga',\n",
       " 'st',\n",
       " 'ya',\n",
       " ',',\n",
       " '▁Deep',\n",
       " '▁Learning',\n",
       " '▁Enthusiast']"
      ]
     },
     "execution_count": 17,
     "metadata": {},
     "output_type": "execute_result"
    }
   ],
   "source": [
    "tokz.tokenize('Hello, folks. I\\'m Agastya, Deep Learning Enthusiast')"
   ]
  },
  {
   "cell_type": "markdown",
   "id": "a12b8938",
   "metadata": {
    "papermill": {
     "duration": 0.019239,
     "end_time": "2024-02-13T16:17:36.628505",
     "exception": false,
     "start_time": "2024-02-13T16:17:36.609266",
     "status": "completed"
    },
    "tags": []
   },
   "source": [
    "Uncommon word like my name gets splitted into smaller pieces whereas commonly used words are considered as an entire token"
   ]
  },
  {
   "cell_type": "code",
   "execution_count": 18,
   "id": "366c13cc",
   "metadata": {
    "execution": {
     "iopub.execute_input": "2024-02-13T16:17:36.668092Z",
     "iopub.status.busy": "2024-02-13T16:17:36.667163Z",
     "iopub.status.idle": "2024-02-13T16:17:36.671592Z",
     "shell.execute_reply": "2024-02-13T16:17:36.670713Z"
    },
    "papermill": {
     "duration": 0.026002,
     "end_time": "2024-02-13T16:17:36.673545",
     "exception": false,
     "start_time": "2024-02-13T16:17:36.647543",
     "status": "completed"
    },
    "tags": []
   },
   "outputs": [],
   "source": [
    "def tok_func(x): return tokz(x['input'])"
   ]
  },
  {
   "cell_type": "code",
   "execution_count": 19,
   "id": "3f1545b0",
   "metadata": {
    "execution": {
     "iopub.execute_input": "2024-02-13T16:17:36.712434Z",
     "iopub.status.busy": "2024-02-13T16:17:36.712149Z",
     "iopub.status.idle": "2024-02-13T16:17:38.621507Z",
     "shell.execute_reply": "2024-02-13T16:17:38.620755Z"
    },
    "papermill": {
     "duration": 1.930993,
     "end_time": "2024-02-13T16:17:38.623449",
     "exception": false,
     "start_time": "2024-02-13T16:17:36.692456",
     "status": "completed"
    },
    "tags": []
   },
   "outputs": [
    {
     "data": {
      "application/vnd.jupyter.widget-view+json": {
       "model_id": "cdcd8a922015469ca4d13fd7cefe1983",
       "version_major": 2,
       "version_minor": 0
      },
      "text/plain": [
       "  0%|          | 0/37 [00:00<?, ?ba/s]"
      ]
     },
     "metadata": {},
     "output_type": "display_data"
    }
   ],
   "source": [
    "# Tokenizing our dataset\n",
    "# Map is used to tokenize texts in parallel \n",
    "tok_ds = ds.map(tok_func, batched = True)"
   ]
  },
  {
   "cell_type": "code",
   "execution_count": 20,
   "id": "a00e2187",
   "metadata": {
    "execution": {
     "iopub.execute_input": "2024-02-13T16:17:38.663398Z",
     "iopub.status.busy": "2024-02-13T16:17:38.663095Z",
     "iopub.status.idle": "2024-02-13T16:17:38.668453Z",
     "shell.execute_reply": "2024-02-13T16:17:38.667603Z"
    },
    "papermill": {
     "duration": 0.027512,
     "end_time": "2024-02-13T16:17:38.670465",
     "exception": false,
     "start_time": "2024-02-13T16:17:38.642953",
     "status": "completed"
    },
    "tags": []
   },
   "outputs": [
    {
     "data": {
      "text/plain": [
       "Dataset({\n",
       "    features: ['id', 'anchor', 'target', 'context', 'score', 'input', 'input_ids', 'token_type_ids', 'attention_mask'],\n",
       "    num_rows: 36473\n",
       "})"
      ]
     },
     "execution_count": 20,
     "metadata": {},
     "output_type": "execute_result"
    }
   ],
   "source": [
    "tok_ds"
   ]
  },
  {
   "cell_type": "code",
   "execution_count": 21,
   "id": "5a37f5a1",
   "metadata": {
    "execution": {
     "iopub.execute_input": "2024-02-13T16:17:38.711679Z",
     "iopub.status.busy": "2024-02-13T16:17:38.711398Z",
     "iopub.status.idle": "2024-02-13T16:17:38.718868Z",
     "shell.execute_reply": "2024-02-13T16:17:38.718004Z"
    },
    "papermill": {
     "duration": 0.030693,
     "end_time": "2024-02-13T16:17:38.720728",
     "exception": false,
     "start_time": "2024-02-13T16:17:38.690035",
     "status": "completed"
    },
    "tags": []
   },
   "outputs": [
    {
     "data": {
      "text/plain": [
       "{'id': '37d61fd2272659b1',\n",
       " 'anchor': 'abatement',\n",
       " 'target': 'abatement of pollution',\n",
       " 'context': 'A47',\n",
       " 'score': 0.5,\n",
       " 'input': 'CASE1: A47| CASE2: abatement of pollution| ANC1: abatement',\n",
       " 'input_ids': [1,\n",
       "  36381,\n",
       "  435,\n",
       "  294,\n",
       "  336,\n",
       "  5753,\n",
       "  4873,\n",
       "  36381,\n",
       "  445,\n",
       "  294,\n",
       "  47284,\n",
       "  265,\n",
       "  6435,\n",
       "  4873,\n",
       "  23702,\n",
       "  435,\n",
       "  294,\n",
       "  47284,\n",
       "  2],\n",
       " 'token_type_ids': [0, 0, 0, 0, 0, 0, 0, 0, 0, 0, 0, 0, 0, 0, 0, 0, 0, 0, 0],\n",
       " 'attention_mask': [1, 1, 1, 1, 1, 1, 1, 1, 1, 1, 1, 1, 1, 1, 1, 1, 1, 1, 1]}"
      ]
     },
     "execution_count": 21,
     "metadata": {},
     "output_type": "execute_result"
    }
   ],
   "source": [
    "row = tok_ds[0]\n",
    "row"
   ]
  },
  {
   "cell_type": "code",
   "execution_count": 22,
   "id": "0c0bd0d7",
   "metadata": {
    "execution": {
     "iopub.execute_input": "2024-02-13T16:17:38.761695Z",
     "iopub.status.busy": "2024-02-13T16:17:38.761445Z",
     "iopub.status.idle": "2024-02-13T16:17:38.846247Z",
     "shell.execute_reply": "2024-02-13T16:17:38.845332Z"
    },
    "papermill": {
     "duration": 0.107123,
     "end_time": "2024-02-13T16:17:38.848197",
     "exception": false,
     "start_time": "2024-02-13T16:17:38.741074",
     "status": "completed"
    },
    "tags": []
   },
   "outputs": [
    {
     "data": {
      "text/plain": [
       "265"
      ]
     },
     "execution_count": 22,
     "metadata": {},
     "output_type": "execute_result"
    }
   ],
   "source": [
    "tokz.vocab['▁of']"
   ]
  },
  {
   "cell_type": "markdown",
   "id": "c62fafe0",
   "metadata": {
    "papermill": {
     "duration": 0.019788,
     "end_time": "2024-02-13T16:17:38.887746",
     "exception": false,
     "start_time": "2024-02-13T16:17:38.867958",
     "status": "completed"
    },
    "tags": []
   },
   "source": [
    "transformers library assumes the column name 'label'"
   ]
  },
  {
   "cell_type": "code",
   "execution_count": 23,
   "id": "32a38027",
   "metadata": {
    "execution": {
     "iopub.execute_input": "2024-02-13T16:17:38.928081Z",
     "iopub.status.busy": "2024-02-13T16:17:38.927737Z",
     "iopub.status.idle": "2024-02-13T16:17:38.934581Z",
     "shell.execute_reply": "2024-02-13T16:17:38.933681Z"
    },
    "papermill": {
     "duration": 0.029288,
     "end_time": "2024-02-13T16:17:38.936439",
     "exception": false,
     "start_time": "2024-02-13T16:17:38.907151",
     "status": "completed"
    },
    "tags": []
   },
   "outputs": [],
   "source": [
    "tok_ds = tok_ds.rename_columns({'score': 'labels'})"
   ]
  },
  {
   "cell_type": "markdown",
   "id": "5644732d",
   "metadata": {
    "papermill": {
     "duration": 0.019143,
     "end_time": "2024-02-13T16:17:38.975034",
     "exception": false,
     "start_time": "2024-02-13T16:17:38.955891",
     "status": "completed"
    },
    "tags": []
   },
   "source": [
    "## Test and Validation set"
   ]
  },
  {
   "cell_type": "code",
   "execution_count": 24,
   "id": "95fe1b79",
   "metadata": {
    "execution": {
     "iopub.execute_input": "2024-02-13T16:17:39.015345Z",
     "iopub.status.busy": "2024-02-13T16:17:39.015065Z",
     "iopub.status.idle": "2024-02-13T16:17:39.035508Z",
     "shell.execute_reply": "2024-02-13T16:17:39.034541Z"
    },
    "papermill": {
     "duration": 0.042909,
     "end_time": "2024-02-13T16:17:39.037533",
     "exception": false,
     "start_time": "2024-02-13T16:17:38.994624",
     "status": "completed"
    },
    "tags": []
   },
   "outputs": [
    {
     "data": {
      "text/html": [
       "<div>\n",
       "<style scoped>\n",
       "    .dataframe tbody tr th:only-of-type {\n",
       "        vertical-align: middle;\n",
       "    }\n",
       "\n",
       "    .dataframe tbody tr th {\n",
       "        vertical-align: top;\n",
       "    }\n",
       "\n",
       "    .dataframe thead th {\n",
       "        text-align: right;\n",
       "    }\n",
       "</style>\n",
       "<table border=\"1\" class=\"dataframe\">\n",
       "  <thead>\n",
       "    <tr style=\"text-align: right;\">\n",
       "      <th></th>\n",
       "      <th>id</th>\n",
       "      <th>anchor</th>\n",
       "      <th>target</th>\n",
       "      <th>context</th>\n",
       "    </tr>\n",
       "  </thead>\n",
       "  <tbody>\n",
       "    <tr>\n",
       "      <th>count</th>\n",
       "      <td>36</td>\n",
       "      <td>36</td>\n",
       "      <td>36</td>\n",
       "      <td>36</td>\n",
       "    </tr>\n",
       "    <tr>\n",
       "      <th>unique</th>\n",
       "      <td>36</td>\n",
       "      <td>34</td>\n",
       "      <td>36</td>\n",
       "      <td>29</td>\n",
       "    </tr>\n",
       "    <tr>\n",
       "      <th>top</th>\n",
       "      <td>4112d61851461f60</td>\n",
       "      <td>hybrid bearing</td>\n",
       "      <td>inorganic photoconductor drum</td>\n",
       "      <td>G02</td>\n",
       "    </tr>\n",
       "    <tr>\n",
       "      <th>freq</th>\n",
       "      <td>1</td>\n",
       "      <td>2</td>\n",
       "      <td>1</td>\n",
       "      <td>3</td>\n",
       "    </tr>\n",
       "  </tbody>\n",
       "</table>\n",
       "</div>"
      ],
      "text/plain": [
       "                      id          anchor                         target  \\\n",
       "count                 36              36                             36   \n",
       "unique                36              34                             36   \n",
       "top     4112d61851461f60  hybrid bearing  inorganic photoconductor drum   \n",
       "freq                   1               2                              1   \n",
       "\n",
       "       context  \n",
       "count       36  \n",
       "unique      29  \n",
       "top        G02  \n",
       "freq         3  "
      ]
     },
     "execution_count": 24,
     "metadata": {},
     "output_type": "execute_result"
    }
   ],
   "source": [
    "eval_df = pd.read_csv(path/'test.csv')\n",
    "eval_df.describe()"
   ]
  },
  {
   "cell_type": "markdown",
   "id": "f2febd68",
   "metadata": {
    "papermill": {
     "duration": 0.020043,
     "end_time": "2024-02-13T16:17:39.078988",
     "exception": false,
     "start_time": "2024-02-13T16:17:39.058945",
     "status": "completed"
    },
    "tags": []
   },
   "source": [
    "### Overfitting"
   ]
  },
  {
   "cell_type": "code",
   "execution_count": 25,
   "id": "41c881d4",
   "metadata": {
    "execution": {
     "iopub.execute_input": "2024-02-13T16:17:39.119484Z",
     "iopub.status.busy": "2024-02-13T16:17:39.119187Z",
     "iopub.status.idle": "2024-02-13T16:17:39.320751Z",
     "shell.execute_reply": "2024-02-13T16:17:39.319797Z"
    },
    "papermill": {
     "duration": 0.224093,
     "end_time": "2024-02-13T16:17:39.322693",
     "exception": false,
     "start_time": "2024-02-13T16:17:39.0986",
     "status": "completed"
    },
    "tags": []
   },
   "outputs": [
    {
     "data": {
      "image/png": "[encoded data removed]",
      "text/plain": [
       "<Figure size 640x480 with 1 Axes>"
      ]
     },
     "metadata": {},
     "output_type": "display_data"
    }
   ],
   "source": [
    "def f(x): return -3*x**2 + 2*x + 20\n",
    "import numpy as np, matplotlib.pyplot as plt\n",
    "\n",
    "def plot_function(f, min= -2.1, max=2.1, color='r'):\n",
    "    x = np.linspace(min, max, 100)[:, None]\n",
    "    plt.plot(x, f(x), color)\n",
    "\n",
    "plot_function(f)"
   ]
  },
  {
   "cell_type": "code",
   "execution_count": 26,
   "id": "6a1fc324",
   "metadata": {
    "execution": {
     "iopub.execute_input": "2024-02-13T16:17:39.36605Z",
     "iopub.status.busy": "2024-02-13T16:17:39.36575Z",
     "iopub.status.idle": "2024-02-13T16:17:39.371093Z",
     "shell.execute_reply": "2024-02-13T16:17:39.370206Z"
    },
    "papermill": {
     "duration": 0.029741,
     "end_time": "2024-02-13T16:17:39.372928",
     "exception": false,
     "start_time": "2024-02-13T16:17:39.343187",
     "status": "completed"
    },
    "tags": []
   },
   "outputs": [],
   "source": [
    "# Simulating real world data points with noise\n",
    "from numpy.random import normal, seed, uniform\n",
    "np.random.seed(42)\n",
    "\n",
    "def noise(x, scale): return normal(scale=scale, size=x.shape)\n",
    "def add_noise(x, mult, add): return x+(1+noise(x, mult)) + noise(x, add)"
   ]
  },
  {
   "cell_type": "code",
   "execution_count": 27,
   "id": "06173dff",
   "metadata": {
    "execution": {
     "iopub.execute_input": "2024-02-13T16:17:39.414558Z",
     "iopub.status.busy": "2024-02-13T16:17:39.413777Z",
     "iopub.status.idle": "2024-02-13T16:17:39.63144Z",
     "shell.execute_reply": "2024-02-13T16:17:39.630488Z"
    },
    "papermill": {
     "duration": 0.240445,
     "end_time": "2024-02-13T16:17:39.633391",
     "exception": false,
     "start_time": "2024-02-13T16:17:39.392946",
     "status": "completed"
    },
    "tags": []
   },
   "outputs": [
    {
     "data": {
      "text/plain": [
       "<matplotlib.collections.PathCollection at 0x7976ee17ec20>"
      ]
     },
     "execution_count": 27,
     "metadata": {},
     "output_type": "execute_result"
    },
    {
     "data": {
      "image/png": "[encoded data removed]",
      "text/plain": [
       "<Figure size 640x480 with 1 Axes>"
      ]
     },
     "metadata": {},
     "output_type": "display_data"
    }
   ],
   "source": [
    "x= np.linspace(-2, 2, num = 20)[:, None]\n",
    "y = add_noise(f(x), 0.2, 1.3)\n",
    "plt.scatter(x,y)"
   ]
  },
  {
   "cell_type": "code",
   "execution_count": 28,
   "id": "614e5adf",
   "metadata": {
    "execution": {
     "iopub.execute_input": "2024-02-13T16:17:39.677127Z",
     "iopub.status.busy": "2024-02-13T16:17:39.676363Z",
     "iopub.status.idle": "2024-02-13T16:17:40.903259Z",
     "shell.execute_reply": "2024-02-13T16:17:40.902458Z"
    },
    "papermill": {
     "duration": 1.251244,
     "end_time": "2024-02-13T16:17:40.905658",
     "exception": false,
     "start_time": "2024-02-13T16:17:39.654414",
     "status": "completed"
    },
    "tags": []
   },
   "outputs": [],
   "source": [
    "# Comparing the functions capacity for fitting prediction\n",
    "from sklearn.linear_model import LinearRegression\n",
    "from sklearn.preprocessing import PolynomialFeatures\n",
    "from sklearn.pipeline import make_pipeline\n",
    "\n",
    "def plot_poly(degree):\n",
    "    model = make_pipeline(PolynomialFeatures(degree), LinearRegression())\n",
    "    model.fit(x, y)\n",
    "    plt.scatter(x, y)\n",
    "    plot_function(model.predict)"
   ]
  },
  {
   "cell_type": "code",
   "execution_count": 29,
   "id": "fdec8b32",
   "metadata": {
    "execution": {
     "iopub.execute_input": "2024-02-13T16:17:40.949324Z",
     "iopub.status.busy": "2024-02-13T16:17:40.948787Z",
     "iopub.status.idle": "2024-02-13T16:17:41.200128Z",
     "shell.execute_reply": "2024-02-13T16:17:41.19917Z"
    },
    "papermill": {
     "duration": 0.275032,
     "end_time": "2024-02-13T16:17:41.20211",
     "exception": false,
     "start_time": "2024-02-13T16:17:40.927078",
     "status": "completed"
    },
    "tags": []
   },
   "outputs": [
    {
     "data": {
      "image/png": "[encoded data removed]",
      "text/plain": [
       "<Figure size 640x480 with 1 Axes>"
      ]
     },
     "metadata": {},
     "output_type": "display_data"
    }
   ],
   "source": [
    "plot_poly(1)\n",
    "#underfitted model"
   ]
  },
  {
   "cell_type": "code",
   "execution_count": 30,
   "id": "86e7d3cb",
   "metadata": {
    "execution": {
     "iopub.execute_input": "2024-02-13T16:17:41.246196Z",
     "iopub.status.busy": "2024-02-13T16:17:41.245894Z",
     "iopub.status.idle": "2024-02-13T16:17:41.428096Z",
     "shell.execute_reply": "2024-02-13T16:17:41.42724Z"
    },
    "papermill": {
     "duration": 0.206403,
     "end_time": "2024-02-13T16:17:41.430137",
     "exception": false,
     "start_time": "2024-02-13T16:17:41.223734",
     "status": "completed"
    },
    "tags": []
   },
   "outputs": [
    {
     "data": {
      "image/png": "[encoded data removed]",
      "text/plain": [
       "<Figure size 640x480 with 1 Axes>"
      ]
     },
     "metadata": {},
     "output_type": "display_data"
    }
   ],
   "source": [
    "plot_poly(12)\n",
    "#overfitted model"
   ]
  },
  {
   "cell_type": "code",
   "execution_count": 31,
   "id": "e60aef1c",
   "metadata": {
    "execution": {
     "iopub.execute_input": "2024-02-13T16:17:41.474567Z",
     "iopub.status.busy": "2024-02-13T16:17:41.47402Z",
     "iopub.status.idle": "2024-02-13T16:17:41.641997Z",
     "shell.execute_reply": "2024-02-13T16:17:41.641088Z"
    },
    "papermill": {
     "duration": 0.192389,
     "end_time": "2024-02-13T16:17:41.644107",
     "exception": false,
     "start_time": "2024-02-13T16:17:41.451718",
     "status": "completed"
    },
    "tags": []
   },
   "outputs": [
    {
     "data": {
      "image/png": "[encoded data removed]",
      "text/plain": [
       "<Figure size 640x480 with 1 Axes>"
      ]
     },
     "metadata": {},
     "output_type": "display_data"
    }
   ],
   "source": [
    "plot_poly(2)\n",
    "plot_function(f, color = 'b')"
   ]
  },
  {
   "cell_type": "markdown",
   "id": "1da566f2",
   "metadata": {
    "papermill": {
     "duration": 0.022647,
     "end_time": "2024-02-13T16:17:41.689595",
     "exception": false,
     "start_time": "2024-02-13T16:17:41.666948",
     "status": "completed"
    },
    "tags": []
   },
   "source": [
    "How to recognize if the model is underfitting or overfitting\n",
    "> We use validation set to understand if the model is overfitting or underfitting\n",
    "* Underfit: metrics over validation shows poor performance from the beginning \n",
    "* Overfit: metrics over validations shows performance improvement over few epochs and later starts to show performance degradation\n",
    "\n"
   ]
  },
  {
   "cell_type": "markdown",
   "id": "530c38b3",
   "metadata": {
    "papermill": {
     "duration": 0.021348,
     "end_time": "2024-02-13T16:17:41.732545",
     "exception": false,
     "start_time": "2024-02-13T16:17:41.711197",
     "status": "completed"
    },
    "tags": []
   },
   "source": [
    "Transformes uses `DatasetDict` for holding your training and validation sets. To split the data in some ration we use `train_test_split`\n"
   ]
  },
  {
   "cell_type": "code",
   "execution_count": 32,
   "id": "e8d7ccff",
   "metadata": {
    "execution": {
     "iopub.execute_input": "2024-02-13T16:17:41.777489Z",
     "iopub.status.busy": "2024-02-13T16:17:41.777149Z",
     "iopub.status.idle": "2024-02-13T16:17:41.801468Z",
     "shell.execute_reply": "2024-02-13T16:17:41.800615Z"
    },
    "papermill": {
     "duration": 0.04928,
     "end_time": "2024-02-13T16:17:41.803336",
     "exception": false,
     "start_time": "2024-02-13T16:17:41.754056",
     "status": "completed"
    },
    "tags": []
   },
   "outputs": [
    {
     "data": {
      "text/plain": [
       "DatasetDict({\n",
       "    train: Dataset({\n",
       "        features: ['id', 'anchor', 'target', 'context', 'labels', 'input', 'input_ids', 'token_type_ids', 'attention_mask'],\n",
       "        num_rows: 27354\n",
       "    })\n",
       "    test: Dataset({\n",
       "        features: ['id', 'anchor', 'target', 'context', 'labels', 'input', 'input_ids', 'token_type_ids', 'attention_mask'],\n",
       "        num_rows: 9119\n",
       "    })\n",
       "})"
      ]
     },
     "execution_count": 32,
     "metadata": {},
     "output_type": "execute_result"
    }
   ],
   "source": [
    "dds = tok_ds.train_test_split(0.25, seed = 42)\n",
    "dds"
   ]
  },
  {
   "cell_type": "markdown",
   "id": "80ecf867",
   "metadata": {
    "papermill": {
     "duration": 0.021696,
     "end_time": "2024-02-13T16:17:41.84682",
     "exception": false,
     "start_time": "2024-02-13T16:17:41.825124",
     "status": "completed"
    },
    "tags": []
   },
   "source": [
    "DatasetDict uses `test` as validation set"
   ]
  },
  {
   "cell_type": "markdown",
   "id": "ad97b244",
   "metadata": {
    "execution": {
     "iopub.execute_input": "2024-02-13T04:12:32.704697Z",
     "iopub.status.busy": "2024-02-13T04:12:32.703966Z",
     "iopub.status.idle": "2024-02-13T04:12:32.708666Z",
     "shell.execute_reply": "2024-02-13T04:12:32.707751Z",
     "shell.execute_reply.started": "2024-02-13T04:12:32.704667Z"
    },
    "papermill": {
     "duration": 0.021867,
     "end_time": "2024-02-13T16:17:41.89024",
     "exception": false,
     "start_time": "2024-02-13T16:17:41.868373",
     "status": "completed"
    },
    "tags": []
   },
   "source": [
    "## Test set\n",
    "Test set is another dataset which is held out from training as well as reporting metrics\n",
    "- Accuracy of model on the test set is only ever checked after completing entire training process, including trying different models, training methods, data processing, etc.\\\n",
    "This helps in coincidental case when model gets overfitted on the validation set"
   ]
  },
  {
   "cell_type": "code",
   "execution_count": 33,
   "id": "e8805ee5",
   "metadata": {
    "execution": {
     "iopub.execute_input": "2024-02-13T16:17:41.935459Z",
     "iopub.status.busy": "2024-02-13T16:17:41.935022Z",
     "iopub.status.idle": "2024-02-13T16:17:41.946409Z",
     "shell.execute_reply": "2024-02-13T16:17:41.945335Z"
    },
    "papermill": {
     "duration": 0.036291,
     "end_time": "2024-02-13T16:17:41.948537",
     "exception": false,
     "start_time": "2024-02-13T16:17:41.912246",
     "status": "completed"
    },
    "tags": []
   },
   "outputs": [
    {
     "data": {
      "text/html": [
       "<div>\n",
       "<style scoped>\n",
       "    .dataframe tbody tr th:only-of-type {\n",
       "        vertical-align: middle;\n",
       "    }\n",
       "\n",
       "    .dataframe tbody tr th {\n",
       "        vertical-align: top;\n",
       "    }\n",
       "\n",
       "    .dataframe thead th {\n",
       "        text-align: right;\n",
       "    }\n",
       "</style>\n",
       "<table border=\"1\" class=\"dataframe\">\n",
       "  <thead>\n",
       "    <tr style=\"text-align: right;\">\n",
       "      <th></th>\n",
       "      <th>id</th>\n",
       "      <th>anchor</th>\n",
       "      <th>target</th>\n",
       "      <th>context</th>\n",
       "    </tr>\n",
       "  </thead>\n",
       "  <tbody>\n",
       "    <tr>\n",
       "      <th>0</th>\n",
       "      <td>4112d61851461f60</td>\n",
       "      <td>opc drum</td>\n",
       "      <td>inorganic photoconductor drum</td>\n",
       "      <td>G02</td>\n",
       "    </tr>\n",
       "    <tr>\n",
       "      <th>1</th>\n",
       "      <td>09e418c93a776564</td>\n",
       "      <td>adjust gas flow</td>\n",
       "      <td>altering gas flow</td>\n",
       "      <td>F23</td>\n",
       "    </tr>\n",
       "    <tr>\n",
       "      <th>2</th>\n",
       "      <td>36baf228038e314b</td>\n",
       "      <td>lower trunnion</td>\n",
       "      <td>lower locating</td>\n",
       "      <td>B60</td>\n",
       "    </tr>\n",
       "    <tr>\n",
       "      <th>3</th>\n",
       "      <td>1f37ead645e7f0c8</td>\n",
       "      <td>cap component</td>\n",
       "      <td>upper portion</td>\n",
       "      <td>D06</td>\n",
       "    </tr>\n",
       "    <tr>\n",
       "      <th>4</th>\n",
       "      <td>71a5b6ad068d531f</td>\n",
       "      <td>neural stimulation</td>\n",
       "      <td>artificial neural network</td>\n",
       "      <td>H04</td>\n",
       "    </tr>\n",
       "  </tbody>\n",
       "</table>\n",
       "</div>"
      ],
      "text/plain": [
       "                 id              anchor                         target context\n",
       "0  4112d61851461f60            opc drum  inorganic photoconductor drum     G02\n",
       "1  09e418c93a776564     adjust gas flow              altering gas flow     F23\n",
       "2  36baf228038e314b      lower trunnion                 lower locating     B60\n",
       "3  1f37ead645e7f0c8       cap component                  upper portion     D06\n",
       "4  71a5b6ad068d531f  neural stimulation      artificial neural network     H04"
      ]
     },
     "execution_count": 33,
     "metadata": {},
     "output_type": "execute_result"
    }
   ],
   "source": [
    "# The separate test set which we set earlier\n",
    "eval_df.head()"
   ]
  },
  {
   "cell_type": "code",
   "execution_count": 34,
   "id": "920e39e2",
   "metadata": {
    "execution": {
     "iopub.execute_input": "2024-02-13T16:17:41.996379Z",
     "iopub.status.busy": "2024-02-13T16:17:41.99604Z",
     "iopub.status.idle": "2024-02-13T16:17:42.008758Z",
     "shell.execute_reply": "2024-02-13T16:17:42.007842Z"
    },
    "papermill": {
     "duration": 0.038094,
     "end_time": "2024-02-13T16:17:42.010886",
     "exception": false,
     "start_time": "2024-02-13T16:17:41.972792",
     "status": "completed"
    },
    "tags": []
   },
   "outputs": [
    {
     "data": {
      "text/html": [
       "<div>\n",
       "<style scoped>\n",
       "    .dataframe tbody tr th:only-of-type {\n",
       "        vertical-align: middle;\n",
       "    }\n",
       "\n",
       "    .dataframe tbody tr th {\n",
       "        vertical-align: top;\n",
       "    }\n",
       "\n",
       "    .dataframe thead th {\n",
       "        text-align: right;\n",
       "    }\n",
       "</style>\n",
       "<table border=\"1\" class=\"dataframe\">\n",
       "  <thead>\n",
       "    <tr style=\"text-align: right;\">\n",
       "      <th></th>\n",
       "      <th>id</th>\n",
       "      <th>anchor</th>\n",
       "      <th>target</th>\n",
       "      <th>context</th>\n",
       "      <th>input</th>\n",
       "    </tr>\n",
       "  </thead>\n",
       "  <tbody>\n",
       "    <tr>\n",
       "      <th>0</th>\n",
       "      <td>4112d61851461f60</td>\n",
       "      <td>opc drum</td>\n",
       "      <td>inorganic photoconductor drum</td>\n",
       "      <td>G02</td>\n",
       "      <td>CASE1: G02| CASE2: inorganic photoconductor dr...</td>\n",
       "    </tr>\n",
       "    <tr>\n",
       "      <th>1</th>\n",
       "      <td>09e418c93a776564</td>\n",
       "      <td>adjust gas flow</td>\n",
       "      <td>altering gas flow</td>\n",
       "      <td>F23</td>\n",
       "      <td>CASE1: F23| CASE2: altering gas flow| ANC1: ad...</td>\n",
       "    </tr>\n",
       "    <tr>\n",
       "      <th>2</th>\n",
       "      <td>36baf228038e314b</td>\n",
       "      <td>lower trunnion</td>\n",
       "      <td>lower locating</td>\n",
       "      <td>B60</td>\n",
       "      <td>CASE1: B60| CASE2: lower locating| ANC1: lower...</td>\n",
       "    </tr>\n",
       "    <tr>\n",
       "      <th>3</th>\n",
       "      <td>1f37ead645e7f0c8</td>\n",
       "      <td>cap component</td>\n",
       "      <td>upper portion</td>\n",
       "      <td>D06</td>\n",
       "      <td>CASE1: D06| CASE2: upper portion| ANC1: cap co...</td>\n",
       "    </tr>\n",
       "    <tr>\n",
       "      <th>4</th>\n",
       "      <td>71a5b6ad068d531f</td>\n",
       "      <td>neural stimulation</td>\n",
       "      <td>artificial neural network</td>\n",
       "      <td>H04</td>\n",
       "      <td>CASE1: H04| CASE2: artificial neural network| ...</td>\n",
       "    </tr>\n",
       "  </tbody>\n",
       "</table>\n",
       "</div>"
      ],
      "text/plain": [
       "                 id              anchor                         target  \\\n",
       "0  4112d61851461f60            opc drum  inorganic photoconductor drum   \n",
       "1  09e418c93a776564     adjust gas flow              altering gas flow   \n",
       "2  36baf228038e314b      lower trunnion                 lower locating   \n",
       "3  1f37ead645e7f0c8       cap component                  upper portion   \n",
       "4  71a5b6ad068d531f  neural stimulation      artificial neural network   \n",
       "\n",
       "  context                                              input  \n",
       "0     G02  CASE1: G02| CASE2: inorganic photoconductor dr...  \n",
       "1     F23  CASE1: F23| CASE2: altering gas flow| ANC1: ad...  \n",
       "2     B60  CASE1: B60| CASE2: lower locating| ANC1: lower...  \n",
       "3     D06  CASE1: D06| CASE2: upper portion| ANC1: cap co...  \n",
       "4     H04  CASE1: H04| CASE2: artificial neural network| ...  "
      ]
     },
     "execution_count": 34,
     "metadata": {},
     "output_type": "execute_result"
    }
   ],
   "source": [
    "eval_df['input'] = 'CASE1: ' + eval_df.context + '| CASE2: ' + eval_df.target + '| ANC1: ' + eval_df.anchor \n",
    "eval_df.head()"
   ]
  },
  {
   "cell_type": "code",
   "execution_count": 35,
   "id": "637a5876",
   "metadata": {
    "execution": {
     "iopub.execute_input": "2024-02-13T16:17:42.05717Z",
     "iopub.status.busy": "2024-02-13T16:17:42.056833Z",
     "iopub.status.idle": "2024-02-13T16:17:42.087411Z",
     "shell.execute_reply": "2024-02-13T16:17:42.086584Z"
    },
    "papermill": {
     "duration": 0.055877,
     "end_time": "2024-02-13T16:17:42.089321",
     "exception": false,
     "start_time": "2024-02-13T16:17:42.033444",
     "status": "completed"
    },
    "tags": []
   },
   "outputs": [
    {
     "data": {
      "application/vnd.jupyter.widget-view+json": {
       "model_id": "e4eb91c88888474ea8cc1d07191a6b61",
       "version_major": 2,
       "version_minor": 0
      },
      "text/plain": [
       "  0%|          | 0/1 [00:00<?, ?ba/s]"
      ]
     },
     "metadata": {},
     "output_type": "display_data"
    }
   ],
   "source": [
    "eval_ds = Dataset.from_pandas(eval_df).map(tok_func, batched=True)"
   ]
  },
  {
   "cell_type": "markdown",
   "id": "d69e7d97",
   "metadata": {
    "papermill": {
     "duration": 0.022369,
     "end_time": "2024-02-13T16:17:42.134272",
     "exception": false,
     "start_time": "2024-02-13T16:17:42.111903",
     "status": "completed"
    },
    "tags": []
   },
   "source": [
    "## Metric and correlation\n",
    "We will use sklearn lib to use `california housing` dataset to understand how pearson coefficient affects"
   ]
  },
  {
   "cell_type": "code",
   "execution_count": 36,
   "id": "79fe5892",
   "metadata": {
    "execution": {
     "iopub.execute_input": "2024-02-13T16:17:42.180337Z",
     "iopub.status.busy": "2024-02-13T16:17:42.180019Z",
     "iopub.status.idle": "2024-02-13T16:17:42.760214Z",
     "shell.execute_reply": "2024-02-13T16:17:42.759294Z"
    },
    "papermill": {
     "duration": 0.605993,
     "end_time": "2024-02-13T16:17:42.762433",
     "exception": false,
     "start_time": "2024-02-13T16:17:42.15644",
     "status": "completed"
    },
    "tags": []
   },
   "outputs": [
    {
     "data": {
      "text/html": [
       "<div>\n",
       "<style scoped>\n",
       "    .dataframe tbody tr th:only-of-type {\n",
       "        vertical-align: middle;\n",
       "    }\n",
       "\n",
       "    .dataframe tbody tr th {\n",
       "        vertical-align: top;\n",
       "    }\n",
       "\n",
       "    .dataframe thead th {\n",
       "        text-align: right;\n",
       "    }\n",
       "</style>\n",
       "<table border=\"1\" class=\"dataframe\">\n",
       "  <thead>\n",
       "    <tr style=\"text-align: right;\">\n",
       "      <th></th>\n",
       "      <th>MedInc</th>\n",
       "      <th>HouseAge</th>\n",
       "      <th>AveRooms</th>\n",
       "      <th>AveBedrms</th>\n",
       "      <th>Population</th>\n",
       "      <th>AveOccup</th>\n",
       "      <th>Latitude</th>\n",
       "      <th>Longitude</th>\n",
       "      <th>MedHouseVal</th>\n",
       "    </tr>\n",
       "  </thead>\n",
       "  <tbody>\n",
       "    <tr>\n",
       "      <th>7506</th>\n",
       "      <td>3.0550</td>\n",
       "      <td>37.0</td>\n",
       "      <td>5.152778</td>\n",
       "      <td>1.048611</td>\n",
       "      <td>729.0</td>\n",
       "      <td>5.062500</td>\n",
       "      <td>33.92</td>\n",
       "      <td>-118.28</td>\n",
       "      <td>1.054</td>\n",
       "    </tr>\n",
       "    <tr>\n",
       "      <th>4720</th>\n",
       "      <td>3.0862</td>\n",
       "      <td>35.0</td>\n",
       "      <td>4.697897</td>\n",
       "      <td>1.055449</td>\n",
       "      <td>1159.0</td>\n",
       "      <td>2.216061</td>\n",
       "      <td>34.05</td>\n",
       "      <td>-118.37</td>\n",
       "      <td>3.453</td>\n",
       "    </tr>\n",
       "    <tr>\n",
       "      <th>12888</th>\n",
       "      <td>2.5556</td>\n",
       "      <td>24.0</td>\n",
       "      <td>4.864905</td>\n",
       "      <td>1.129222</td>\n",
       "      <td>1631.0</td>\n",
       "      <td>2.395007</td>\n",
       "      <td>38.66</td>\n",
       "      <td>-121.35</td>\n",
       "      <td>1.057</td>\n",
       "    </tr>\n",
       "    <tr>\n",
       "      <th>13344</th>\n",
       "      <td>3.0057</td>\n",
       "      <td>32.0</td>\n",
       "      <td>4.212687</td>\n",
       "      <td>0.936567</td>\n",
       "      <td>1378.0</td>\n",
       "      <td>5.141791</td>\n",
       "      <td>34.05</td>\n",
       "      <td>-117.64</td>\n",
       "      <td>0.969</td>\n",
       "    </tr>\n",
       "    <tr>\n",
       "      <th>7173</th>\n",
       "      <td>1.9083</td>\n",
       "      <td>42.0</td>\n",
       "      <td>3.888554</td>\n",
       "      <td>1.039157</td>\n",
       "      <td>1535.0</td>\n",
       "      <td>4.623494</td>\n",
       "      <td>34.05</td>\n",
       "      <td>-118.19</td>\n",
       "      <td>1.192</td>\n",
       "    </tr>\n",
       "    <tr>\n",
       "      <th>...</th>\n",
       "      <td>...</td>\n",
       "      <td>...</td>\n",
       "      <td>...</td>\n",
       "      <td>...</td>\n",
       "      <td>...</td>\n",
       "      <td>...</td>\n",
       "      <td>...</td>\n",
       "      <td>...</td>\n",
       "      <td>...</td>\n",
       "    </tr>\n",
       "    <tr>\n",
       "      <th>10535</th>\n",
       "      <td>5.5677</td>\n",
       "      <td>4.0</td>\n",
       "      <td>5.921914</td>\n",
       "      <td>1.120907</td>\n",
       "      <td>834.0</td>\n",
       "      <td>2.100756</td>\n",
       "      <td>33.50</td>\n",
       "      <td>-117.70</td>\n",
       "      <td>2.454</td>\n",
       "    </tr>\n",
       "    <tr>\n",
       "      <th>3029</th>\n",
       "      <td>2.9952</td>\n",
       "      <td>44.0</td>\n",
       "      <td>5.534296</td>\n",
       "      <td>1.055355</td>\n",
       "      <td>2140.0</td>\n",
       "      <td>2.575211</td>\n",
       "      <td>35.13</td>\n",
       "      <td>-119.47</td>\n",
       "      <td>0.638</td>\n",
       "    </tr>\n",
       "    <tr>\n",
       "      <th>7985</th>\n",
       "      <td>2.5068</td>\n",
       "      <td>26.0</td>\n",
       "      <td>4.240693</td>\n",
       "      <td>1.067394</td>\n",
       "      <td>4066.0</td>\n",
       "      <td>2.609756</td>\n",
       "      <td>33.86</td>\n",
       "      <td>-118.16</td>\n",
       "      <td>1.563</td>\n",
       "    </tr>\n",
       "    <tr>\n",
       "      <th>13724</th>\n",
       "      <td>1.4480</td>\n",
       "      <td>37.0</td>\n",
       "      <td>4.327434</td>\n",
       "      <td>1.026549</td>\n",
       "      <td>1316.0</td>\n",
       "      <td>3.882006</td>\n",
       "      <td>34.06</td>\n",
       "      <td>-117.19</td>\n",
       "      <td>0.728</td>\n",
       "    </tr>\n",
       "    <tr>\n",
       "      <th>13520</th>\n",
       "      <td>5.7628</td>\n",
       "      <td>16.0</td>\n",
       "      <td>5.691176</td>\n",
       "      <td>0.897059</td>\n",
       "      <td>489.0</td>\n",
       "      <td>3.595588</td>\n",
       "      <td>34.22</td>\n",
       "      <td>-117.38</td>\n",
       "      <td>2.213</td>\n",
       "    </tr>\n",
       "  </tbody>\n",
       "</table>\n",
       "<p>1000 rows × 9 columns</p>\n",
       "</div>"
      ],
      "text/plain": [
       "       MedInc  HouseAge  AveRooms  AveBedrms  Population  AveOccup  Latitude  \\\n",
       "7506   3.0550      37.0  5.152778   1.048611       729.0  5.062500     33.92   \n",
       "4720   3.0862      35.0  4.697897   1.055449      1159.0  2.216061     34.05   \n",
       "12888  2.5556      24.0  4.864905   1.129222      1631.0  2.395007     38.66   \n",
       "13344  3.0057      32.0  4.212687   0.936567      1378.0  5.141791     34.05   \n",
       "7173   1.9083      42.0  3.888554   1.039157      1535.0  4.623494     34.05   \n",
       "...       ...       ...       ...        ...         ...       ...       ...   \n",
       "10535  5.5677       4.0  5.921914   1.120907       834.0  2.100756     33.50   \n",
       "3029   2.9952      44.0  5.534296   1.055355      2140.0  2.575211     35.13   \n",
       "7985   2.5068      26.0  4.240693   1.067394      4066.0  2.609756     33.86   \n",
       "13724  1.4480      37.0  4.327434   1.026549      1316.0  3.882006     34.06   \n",
       "13520  5.7628      16.0  5.691176   0.897059       489.0  3.595588     34.22   \n",
       "\n",
       "       Longitude  MedHouseVal  \n",
       "7506     -118.28        1.054  \n",
       "4720     -118.37        3.453  \n",
       "12888    -121.35        1.057  \n",
       "13344    -117.64        0.969  \n",
       "7173     -118.19        1.192  \n",
       "...          ...          ...  \n",
       "10535    -117.70        2.454  \n",
       "3029     -119.47        0.638  \n",
       "7985     -118.16        1.563  \n",
       "13724    -117.19        0.728  \n",
       "13520    -117.38        2.213  \n",
       "\n",
       "[1000 rows x 9 columns]"
      ]
     },
     "execution_count": 36,
     "metadata": {},
     "output_type": "execute_result"
    }
   ],
   "source": [
    "from sklearn.datasets import fetch_california_housing\n",
    "housing = fetch_california_housing(as_frame=True)\n",
    "housing = housing['data'].join(housing['target']).sample(1000, random_state=52)\n",
    "\n",
    "housing"
   ]
  },
  {
   "cell_type": "markdown",
   "id": "78103579",
   "metadata": {
    "papermill": {
     "duration": 0.02318,
     "end_time": "2024-02-13T16:17:42.811241",
     "exception": false,
     "start_time": "2024-02-13T16:17:42.788061",
     "status": "completed"
    },
    "tags": []
   },
   "source": [
    "We can see all the correlation coefficients for every combination of columns in this dataset by calling np.corrcoef:"
   ]
  },
  {
   "cell_type": "code",
   "execution_count": 37,
   "id": "751ab404",
   "metadata": {
    "execution": {
     "iopub.execute_input": "2024-02-13T16:17:42.859485Z",
     "iopub.status.busy": "2024-02-13T16:17:42.858744Z",
     "iopub.status.idle": "2024-02-13T16:17:42.867143Z",
     "shell.execute_reply": "2024-02-13T16:17:42.866191Z"
    },
    "papermill": {
     "duration": 0.034717,
     "end_time": "2024-02-13T16:17:42.869113",
     "exception": false,
     "start_time": "2024-02-13T16:17:42.834396",
     "status": "completed"
    },
    "tags": []
   },
   "outputs": [
    {
     "data": {
      "text/plain": [
       "array([[ 1.  , -0.12,  0.43, -0.08,  0.01, -0.07, -0.12,  0.04,  0.68],\n",
       "       [-0.12,  1.  , -0.17, -0.06, -0.31,  0.  ,  0.03, -0.13,  0.12],\n",
       "       [ 0.43, -0.17,  1.  ,  0.76, -0.09, -0.07,  0.12, -0.03,  0.21],\n",
       "       [-0.08, -0.06,  0.76,  1.  , -0.08, -0.07,  0.09,  0.  , -0.04],\n",
       "       [ 0.01, -0.31, -0.09, -0.08,  1.  ,  0.16, -0.15,  0.13,  0.  ],\n",
       "       [-0.07,  0.  , -0.07, -0.07,  0.16,  1.  , -0.16,  0.17, -0.27],\n",
       "       [-0.12,  0.03,  0.12,  0.09, -0.15, -0.16,  1.  , -0.93, -0.16],\n",
       "       [ 0.04, -0.13, -0.03,  0.  ,  0.13,  0.17, -0.93,  1.  , -0.03],\n",
       "       [ 0.68,  0.12,  0.21, -0.04,  0.  , -0.27, -0.16, -0.03,  1.  ]])"
      ]
     },
     "execution_count": 37,
     "metadata": {},
     "output_type": "execute_result"
    }
   ],
   "source": [
    "np.set_printoptions(precision = 2, suppress = True)\n",
    "np.corrcoef(housing, rowvar = False)"
   ]
  },
  {
   "cell_type": "code",
   "execution_count": 38,
   "id": "5f166249",
   "metadata": {
    "execution": {
     "iopub.execute_input": "2024-02-13T16:17:42.916941Z",
     "iopub.status.busy": "2024-02-13T16:17:42.916657Z",
     "iopub.status.idle": "2024-02-13T16:17:42.923491Z",
     "shell.execute_reply": "2024-02-13T16:17:42.922457Z"
    },
    "papermill": {
     "duration": 0.03301,
     "end_time": "2024-02-13T16:17:42.925549",
     "exception": false,
     "start_time": "2024-02-13T16:17:42.892539",
     "status": "completed"
    },
    "tags": []
   },
   "outputs": [
    {
     "data": {
      "text/plain": [
       "array([[1.  , 0.68],\n",
       "       [0.68, 1.  ]])"
      ]
     },
     "execution_count": 38,
     "metadata": {},
     "output_type": "execute_result"
    }
   ],
   "source": [
    "np.corrcoef(housing.MedInc, housing.MedHouseVal)"
   ]
  },
  {
   "cell_type": "code",
   "execution_count": 39,
   "id": "dca2639a",
   "metadata": {
    "execution": {
     "iopub.execute_input": "2024-02-13T16:17:42.977719Z",
     "iopub.status.busy": "2024-02-13T16:17:42.977007Z",
     "iopub.status.idle": "2024-02-13T16:17:42.98393Z",
     "shell.execute_reply": "2024-02-13T16:17:42.983127Z"
    },
    "papermill": {
     "duration": 0.035026,
     "end_time": "2024-02-13T16:17:42.985966",
     "exception": false,
     "start_time": "2024-02-13T16:17:42.95094",
     "status": "completed"
    },
    "tags": []
   },
   "outputs": [
    {
     "data": {
      "text/plain": [
       "0.6760250732906"
      ]
     },
     "execution_count": 39,
     "metadata": {},
     "output_type": "execute_result"
    }
   ],
   "source": [
    "# Creating function to just return a single number for corrcoef\n",
    "def corr(x,y): return np.corrcoef(x,y)[0][1]\n",
    "corr(housing.MedInc, housing.MedHouseVal)"
   ]
  },
  {
   "cell_type": "code",
   "execution_count": 40,
   "id": "221b4482",
   "metadata": {
    "execution": {
     "iopub.execute_input": "2024-02-13T16:17:43.032952Z",
     "iopub.status.busy": "2024-02-13T16:17:43.032689Z",
     "iopub.status.idle": "2024-02-13T16:17:43.03803Z",
     "shell.execute_reply": "2024-02-13T16:17:43.036976Z"
    },
    "papermill": {
     "duration": 0.031219,
     "end_time": "2024-02-13T16:17:43.040097",
     "exception": false,
     "start_time": "2024-02-13T16:17:43.008878",
     "status": "completed"
    },
    "tags": []
   },
   "outputs": [],
   "source": [
    "# Visualising corrcoef\n",
    "def show_corr(df, a, b):\n",
    "    x, y = df[a], df[b]\n",
    "    plt.scatter(x,y, alpha = 0.5,s=4)\n",
    "    plt.title(f'{a} vs {b}; r:{corr(x,y):.2f}')\n",
    "    plt.xlabel('{a}')\n",
    "    plt.ylabel('{b}')"
   ]
  },
  {
   "cell_type": "code",
   "execution_count": 41,
   "id": "4be8f4e0",
   "metadata": {
    "execution": {
     "iopub.execute_input": "2024-02-13T16:17:43.087434Z",
     "iopub.status.busy": "2024-02-13T16:17:43.086922Z",
     "iopub.status.idle": "2024-02-13T16:17:43.318577Z",
     "shell.execute_reply": "2024-02-13T16:17:43.317642Z"
    },
    "papermill": {
     "duration": 0.257676,
     "end_time": "2024-02-13T16:17:43.320781",
     "exception": false,
     "start_time": "2024-02-13T16:17:43.063105",
     "status": "completed"
    },
    "tags": []
   },
   "outputs": [
    {
     "data": {
      "image/png": "[encoded data removed]",
      "text/plain": [
       "<Figure size 640x480 with 1 Axes>"
      ]
     },
     "metadata": {},
     "output_type": "display_data"
    }
   ],
   "source": [
    "show_corr(housing, 'MedInc', 'MedHouseVal')"
   ]
  },
  {
   "cell_type": "code",
   "execution_count": 42,
   "id": "d349157d",
   "metadata": {
    "execution": {
     "iopub.execute_input": "2024-02-13T16:17:43.370747Z",
     "iopub.status.busy": "2024-02-13T16:17:43.370159Z",
     "iopub.status.idle": "2024-02-13T16:17:43.622999Z",
     "shell.execute_reply": "2024-02-13T16:17:43.622103Z"
    },
    "papermill": {
     "duration": 0.280038,
     "end_time": "2024-02-13T16:17:43.625199",
     "exception": false,
     "start_time": "2024-02-13T16:17:43.345161",
     "status": "completed"
    },
    "tags": []
   },
   "outputs": [
    {
     "data": {
      "image/png": "[encoded data removed]",
      "text/plain": [
       "<Figure size 640x480 with 1 Axes>"
      ]
     },
     "metadata": {},
     "output_type": "display_data"
    }
   ],
   "source": [
    "show_corr(housing, 'MedInc', 'AveRooms')"
   ]
  },
  {
   "cell_type": "markdown",
   "id": "0466bfb4",
   "metadata": {
    "papermill": {
     "duration": 0.023888,
     "end_time": "2024-02-13T16:17:43.673948",
     "exception": false,
     "start_time": "2024-02-13T16:17:43.65006",
     "status": "completed"
    },
    "tags": []
   },
   "source": [
    "Outlier"
   ]
  },
  {
   "cell_type": "code",
   "execution_count": 43,
   "id": "111e9dbd",
   "metadata": {
    "execution": {
     "iopub.execute_input": "2024-02-13T16:17:43.723794Z",
     "iopub.status.busy": "2024-02-13T16:17:43.723492Z",
     "iopub.status.idle": "2024-02-13T16:17:43.967339Z",
     "shell.execute_reply": "2024-02-13T16:17:43.96625Z"
    },
    "papermill": {
     "duration": 0.271877,
     "end_time": "2024-02-13T16:17:43.970105",
     "exception": false,
     "start_time": "2024-02-13T16:17:43.698228",
     "status": "completed"
    },
    "tags": []
   },
   "outputs": [
    {
     "data": {
      "image/png": "[encoded data removed]",
      "text/plain": [
       "<Figure size 640x480 with 1 Axes>"
      ]
     },
     "metadata": {},
     "output_type": "display_data"
    }
   ],
   "source": [
    "subset = housing[housing.AveRooms<15]\n",
    "show_corr(subset, 'MedInc', 'AveRooms')"
   ]
  },
  {
   "cell_type": "code",
   "execution_count": 44,
   "id": "5021d083",
   "metadata": {
    "execution": {
     "iopub.execute_input": "2024-02-13T16:17:44.027965Z",
     "iopub.status.busy": "2024-02-13T16:17:44.027615Z",
     "iopub.status.idle": "2024-02-13T16:17:44.282619Z",
     "shell.execute_reply": "2024-02-13T16:17:44.281657Z"
    },
    "papermill": {
     "duration": 0.288344,
     "end_time": "2024-02-13T16:17:44.284982",
     "exception": false,
     "start_time": "2024-02-13T16:17:43.996638",
     "status": "completed"
    },
    "tags": []
   },
   "outputs": [
    {
     "data": {
      "image/png": "[encoded data removed]",
      "text/plain": [
       "<Figure size 640x480 with 1 Axes>"
      ]
     },
     "metadata": {},
     "output_type": "display_data"
    }
   ],
   "source": [
    "show_corr(subset, 'MedHouseVal', 'AveRooms')"
   ]
  },
  {
   "cell_type": "markdown",
   "id": "3b4e3cd1",
   "metadata": {
    "papermill": {
     "duration": 0.029016,
     "end_time": "2024-02-13T16:17:44.342695",
     "exception": false,
     "start_time": "2024-02-13T16:17:44.313679",
     "status": "completed"
    },
    "tags": []
   },
   "source": [
    "r is 0.34 which is becoming quite weak"
   ]
  },
  {
   "cell_type": "code",
   "execution_count": 45,
   "id": "deb48461",
   "metadata": {
    "execution": {
     "iopub.execute_input": "2024-02-13T16:17:44.403404Z",
     "iopub.status.busy": "2024-02-13T16:17:44.403003Z",
     "iopub.status.idle": "2024-02-13T16:17:44.656073Z",
     "shell.execute_reply": "2024-02-13T16:17:44.655193Z"
    },
    "papermill": {
     "duration": 0.286502,
     "end_time": "2024-02-13T16:17:44.658353",
     "exception": false,
     "start_time": "2024-02-13T16:17:44.371851",
     "status": "completed"
    },
    "tags": []
   },
   "outputs": [
    {
     "data": {
      "image/png": "[encoded data removed]",
      "text/plain": [
       "<Figure size 640x480 with 1 Axes>"
      ]
     },
     "metadata": {},
     "output_type": "display_data"
    }
   ],
   "source": [
    "show_corr(subset, 'HouseAge', 'AveRooms')"
   ]
  },
  {
   "cell_type": "markdown",
   "id": "b4ffa57b",
   "metadata": {
    "papermill": {
     "duration": 0.027672,
     "end_time": "2024-02-13T16:17:44.714053",
     "exception": false,
     "start_time": "2024-02-13T16:17:44.686381",
     "status": "completed"
    },
    "tags": []
   },
   "source": [
    "a correlation of -0.2 shows a very weak negative trend"
   ]
  },
  {
   "cell_type": "markdown",
   "id": "b066085e",
   "metadata": {
    "papermill": {
     "duration": 0.02698,
     "end_time": "2024-02-13T16:17:44.768252",
     "exception": false,
     "start_time": "2024-02-13T16:17:44.741272",
     "status": "completed"
    },
    "tags": []
   },
   "source": [
    "Transformers expectts the metrics to be returnes as a `dict`. Since that way the trainer knows what label to use"
   ]
  },
  {
   "cell_type": "code",
   "execution_count": 46,
   "id": "9f43296a",
   "metadata": {
    "execution": {
     "iopub.execute_input": "2024-02-13T16:17:44.823967Z",
     "iopub.status.busy": "2024-02-13T16:17:44.823081Z",
     "iopub.status.idle": "2024-02-13T16:17:44.827905Z",
     "shell.execute_reply": "2024-02-13T16:17:44.827Z"
    },
    "papermill": {
     "duration": 0.034898,
     "end_time": "2024-02-13T16:17:44.829862",
     "exception": false,
     "start_time": "2024-02-13T16:17:44.794964",
     "status": "completed"
    },
    "tags": []
   },
   "outputs": [],
   "source": [
    "def corr_d(eval_pred): return {'pearson': corr(*eval_pred)}"
   ]
  },
  {
   "cell_type": "markdown",
   "id": "69148824",
   "metadata": {
    "papermill": {
     "duration": 0.027165,
     "end_time": "2024-02-13T16:17:44.8843",
     "exception": false,
     "start_time": "2024-02-13T16:17:44.857135",
     "status": "completed"
    },
    "tags": []
   },
   "source": [
    "## Training"
   ]
  },
  {
   "cell_type": "code",
   "execution_count": 47,
   "id": "fdf8e6e1",
   "metadata": {
    "execution": {
     "iopub.execute_input": "2024-02-13T16:17:44.937054Z",
     "iopub.status.busy": "2024-02-13T16:17:44.93676Z",
     "iopub.status.idle": "2024-02-13T16:17:56.31278Z",
     "shell.execute_reply": "2024-02-13T16:17:56.311929Z"
    },
    "papermill": {
     "duration": 11.405112,
     "end_time": "2024-02-13T16:17:56.31516",
     "exception": false,
     "start_time": "2024-02-13T16:17:44.910048",
     "status": "completed"
    },
    "tags": []
   },
   "outputs": [
    {
     "name": "stderr",
     "output_type": "stream",
     "text": [
      "2024-02-13 16:17:47.692421: E external/local_xla/xla/stream_executor/cuda/cuda_dnn.cc:9261] Unable to register cuDNN factory: Attempting to register factory for plugin cuDNN when one has already been registered\n",
      "2024-02-13 16:17:47.692535: E external/local_xla/xla/stream_executor/cuda/cuda_fft.cc:607] Unable to register cuFFT factory: Attempting to register factory for plugin cuFFT when one has already been registered\n",
      "2024-02-13 16:17:47.834159: E external/local_xla/xla/stream_executor/cuda/cuda_blas.cc:1515] Unable to register cuBLAS factory: Attempting to register factory for plugin cuBLAS when one has already been registered\n"
     ]
    }
   ],
   "source": [
    "from transformers import TrainingArguments, Trainer"
   ]
  },
  {
   "cell_type": "code",
   "execution_count": 48,
   "id": "17b68a41",
   "metadata": {
    "execution": {
     "iopub.execute_input": "2024-02-13T16:17:56.384987Z",
     "iopub.status.busy": "2024-02-13T16:17:56.38396Z",
     "iopub.status.idle": "2024-02-13T16:17:56.389854Z",
     "shell.execute_reply": "2024-02-13T16:17:56.389044Z"
    },
    "papermill": {
     "duration": 0.044212,
     "end_time": "2024-02-13T16:17:56.391696",
     "exception": false,
     "start_time": "2024-02-13T16:17:56.347484",
     "status": "completed"
    },
    "tags": []
   },
   "outputs": [],
   "source": [
    "bs = 128\n",
    "epochs = 4\n",
    "lr = 8e-5"
   ]
  },
  {
   "cell_type": "code",
   "execution_count": 49,
   "id": "047e74ea",
   "metadata": {
    "execution": {
     "iopub.execute_input": "2024-02-13T16:17:56.447483Z",
     "iopub.status.busy": "2024-02-13T16:17:56.447111Z",
     "iopub.status.idle": "2024-02-13T16:17:56.506358Z",
     "shell.execute_reply": "2024-02-13T16:17:56.505562Z"
    },
    "papermill": {
     "duration": 0.09033,
     "end_time": "2024-02-13T16:17:56.508543",
     "exception": false,
     "start_time": "2024-02-13T16:17:56.418213",
     "status": "completed"
    },
    "tags": []
   },
   "outputs": [],
   "source": [
    "# Transformers uses TrainingArguments class to set up arguments. \n",
    "args = TrainingArguments('outputs', learning_rate=lr, warmup_ratio=0.1, lr_scheduler_type='cosine', fp16=True,\n",
    "    evaluation_strategy=\"epoch\", per_device_train_batch_size=bs, per_device_eval_batch_size=bs*2,\n",
    "    num_train_epochs=epochs, weight_decay=0.01, report_to='none')"
   ]
  },
  {
   "cell_type": "code",
   "execution_count": 50,
   "id": "e07ee977",
   "metadata": {
    "execution": {
     "iopub.execute_input": "2024-02-13T16:17:56.562597Z",
     "iopub.status.busy": "2024-02-13T16:17:56.562254Z",
     "iopub.status.idle": "2024-02-13T16:17:58.62242Z",
     "shell.execute_reply": "2024-02-13T16:17:58.621611Z"
    },
    "papermill": {
     "duration": 2.089805,
     "end_time": "2024-02-13T16:17:58.624645",
     "exception": false,
     "start_time": "2024-02-13T16:17:56.53484",
     "status": "completed"
    },
    "tags": []
   },
   "outputs": [
    {
     "data": {
      "application/vnd.jupyter.widget-view+json": {
       "model_id": "6fc3b72db8a541c995e051614768fd1d",
       "version_major": 2,
       "version_minor": 0
      },
      "text/plain": [
       "pytorch_model.bin:   0%|          | 0.00/286M [00:00<?, ?B/s]"
      ]
     },
     "metadata": {},
     "output_type": "display_data"
    },
    {
     "name": "stderr",
     "output_type": "stream",
     "text": [
      "/opt/conda/lib/python3.10/site-packages/torch/_utils.py:831: UserWarning: TypedStorage is deprecated. It will be removed in the future and UntypedStorage will be the only storage class. This should only matter to you if you are using storages directly.  To access UntypedStorage directly, use tensor.untyped_storage() instead of tensor.storage()\n",
      "  return self.fget.__get__(instance, owner)()\n",
      "Some weights of DebertaV2ForSequenceClassification were not initialized from the model checkpoint at microsoft/deberta-v3-small and are newly initialized: ['classifier.bias', 'classifier.weight', 'pooler.dense.bias', 'pooler.dense.weight']\n",
      "You should probably TRAIN this model on a down-stream task to be able to use it for predictions and inference.\n"
     ]
    }
   ],
   "source": [
    "# We create model and trainer which is class that combines the model and data togeter like `learner`\n",
    "model = AutoModelForSequenceClassification.from_pretrained(model_nm, num_labels=1)\n",
    "trainer = Trainer(model, args, train_dataset=dds['train'], eval_dataset=dds['test'],\n",
    "                  tokenizer=tokz, compute_metrics=corr_d)"
   ]
  },
  {
   "cell_type": "code",
   "execution_count": 51,
   "id": "9f71fcfa",
   "metadata": {
    "execution": {
     "iopub.execute_input": "2024-02-13T16:17:58.67962Z",
     "iopub.status.busy": "2024-02-13T16:17:58.679315Z",
     "iopub.status.idle": "2024-02-13T16:22:33.134129Z",
     "shell.execute_reply": "2024-02-13T16:22:33.133089Z"
    },
    "papermill": {
     "duration": 274.484599,
     "end_time": "2024-02-13T16:22:33.1365",
     "exception": false,
     "start_time": "2024-02-13T16:17:58.651901",
     "status": "completed"
    },
    "tags": []
   },
   "outputs": [
    {
     "data": {
      "text/html": [
       "\n",
       "    <div>\n",
       "      \n",
       "      <progress value='856' max='856' style='width:300px; height:20px; vertical-align: middle;'></progress>\n",
       "      [856/856 04:32, Epoch 4/4]\n",
       "    </div>\n",
       "    <table border=\"1\" class=\"dataframe\">\n",
       "  <thead>\n",
       " <tr style=\"text-align: left;\">\n",
       "      <th>Epoch</th>\n",
       "      <th>Training Loss</th>\n",
       "      <th>Validation Loss</th>\n",
       "      <th>Pearson</th>\n",
       "    </tr>\n",
       "  </thead>\n",
       "  <tbody>\n",
       "    <tr>\n",
       "      <td>1</td>\n",
       "      <td>No log</td>\n",
       "      <td>0.024842</td>\n",
       "      <td>0.799079</td>\n",
       "    </tr>\n",
       "    <tr>\n",
       "      <td>2</td>\n",
       "      <td>No log</td>\n",
       "      <td>0.022814</td>\n",
       "      <td>0.821278</td>\n",
       "    </tr>\n",
       "    <tr>\n",
       "      <td>3</td>\n",
       "      <td>0.029100</td>\n",
       "      <td>0.022341</td>\n",
       "      <td>0.831492</td>\n",
       "    </tr>\n",
       "    <tr>\n",
       "      <td>4</td>\n",
       "      <td>0.029100</td>\n",
       "      <td>0.022619</td>\n",
       "      <td>0.832497</td>\n",
       "    </tr>\n",
       "  </tbody>\n",
       "</table><p>"
      ],
      "text/plain": [
       "<IPython.core.display.HTML object>"
      ]
     },
     "metadata": {},
     "output_type": "display_data"
    },
    {
     "data": {
      "text/plain": [
       "TrainOutput(global_step=856, training_loss=0.022458910942077637, metrics={'train_runtime': 274.1571, 'train_samples_per_second': 399.1, 'train_steps_per_second': 3.122, 'total_flos': 717218678299260.0, 'train_loss': 0.022458910942077637, 'epoch': 4.0})"
      ]
     },
     "execution_count": 51,
     "metadata": {},
     "output_type": "execute_result"
    }
   ],
   "source": [
    "trainer.train()"
   ]
  },
  {
   "cell_type": "code",
   "execution_count": 52,
   "id": "583bf950",
   "metadata": {
    "execution": {
     "iopub.execute_input": "2024-02-13T16:22:33.192959Z",
     "iopub.status.busy": "2024-02-13T16:22:33.192665Z",
     "iopub.status.idle": "2024-02-13T16:22:33.239317Z",
     "shell.execute_reply": "2024-02-13T16:22:33.238364Z"
    },
    "papermill": {
     "duration": 0.076378,
     "end_time": "2024-02-13T16:22:33.241365",
     "exception": false,
     "start_time": "2024-02-13T16:22:33.164987",
     "status": "completed"
    },
    "tags": []
   },
   "outputs": [
    {
     "data": {
      "text/html": [],
      "text/plain": [
       "<IPython.core.display.HTML object>"
      ]
     },
     "metadata": {},
     "output_type": "display_data"
    },
    {
     "data": {
      "text/plain": [
       "array([[ 0.5 ],\n",
       "       [ 0.71],\n",
       "       [ 0.57],\n",
       "       [ 0.31],\n",
       "       [-0.07],\n",
       "       [ 0.54],\n",
       "       [ 0.51],\n",
       "       [-0.05],\n",
       "       [ 0.31],\n",
       "       [ 1.09],\n",
       "       [ 0.25],\n",
       "       [ 0.23],\n",
       "       [ 0.73],\n",
       "       [ 0.89],\n",
       "       [ 0.75],\n",
       "       [ 0.37],\n",
       "       [ 0.25],\n",
       "       [-0.03],\n",
       "       [ 0.67],\n",
       "       [ 0.35],\n",
       "       [ 0.57],\n",
       "       [ 0.2 ],\n",
       "       [ 0.07],\n",
       "       [ 0.2 ],\n",
       "       [ 0.58],\n",
       "       [-0.03],\n",
       "       [-0.04],\n",
       "       [-0.04],\n",
       "       [-0.03],\n",
       "       [ 0.66],\n",
       "       [ 0.31],\n",
       "       [ 0.01],\n",
       "       [ 0.7 ],\n",
       "       [ 0.55],\n",
       "       [ 0.36],\n",
       "       [ 0.2 ]])"
      ]
     },
     "execution_count": 52,
     "metadata": {},
     "output_type": "execute_result"
    }
   ],
   "source": [
    "preds = trainer.predict(eval_ds).predictions.astype(float)\n",
    "preds"
   ]
  },
  {
   "cell_type": "code",
   "execution_count": 53,
   "id": "fab816a2",
   "metadata": {
    "execution": {
     "iopub.execute_input": "2024-02-13T16:22:33.299613Z",
     "iopub.status.busy": "2024-02-13T16:22:33.299316Z",
     "iopub.status.idle": "2024-02-13T16:22:33.305796Z",
     "shell.execute_reply": "2024-02-13T16:22:33.304886Z"
    },
    "papermill": {
     "duration": 0.038287,
     "end_time": "2024-02-13T16:22:33.307689",
     "exception": false,
     "start_time": "2024-02-13T16:22:33.269402",
     "status": "completed"
    },
    "tags": []
   },
   "outputs": [
    {
     "data": {
      "text/plain": [
       "array([[0.5 ],\n",
       "       [0.71],\n",
       "       [0.57],\n",
       "       [0.31],\n",
       "       [0.  ],\n",
       "       [0.54],\n",
       "       [0.51],\n",
       "       [0.  ],\n",
       "       [0.31],\n",
       "       [1.  ],\n",
       "       [0.25],\n",
       "       [0.23],\n",
       "       [0.73],\n",
       "       [0.89],\n",
       "       [0.75],\n",
       "       [0.37],\n",
       "       [0.25],\n",
       "       [0.  ],\n",
       "       [0.67],\n",
       "       [0.35],\n",
       "       [0.57],\n",
       "       [0.2 ],\n",
       "       [0.07],\n",
       "       [0.2 ],\n",
       "       [0.58],\n",
       "       [0.  ],\n",
       "       [0.  ],\n",
       "       [0.  ],\n",
       "       [0.  ],\n",
       "       [0.66],\n",
       "       [0.31],\n",
       "       [0.01],\n",
       "       [0.7 ],\n",
       "       [0.55],\n",
       "       [0.36],\n",
       "       [0.2 ]])"
      ]
     },
     "execution_count": 53,
     "metadata": {},
     "output_type": "execute_result"
    }
   ],
   "source": [
    "preds = np.clip(preds, 0, 1)\n",
    "preds"
   ]
  },
  {
   "cell_type": "code",
   "execution_count": 54,
   "id": "11738106",
   "metadata": {
    "execution": {
     "iopub.execute_input": "2024-02-13T16:22:33.362577Z",
     "iopub.status.busy": "2024-02-13T16:22:33.362303Z",
     "iopub.status.idle": "2024-02-13T16:22:33.404401Z",
     "shell.execute_reply": "2024-02-13T16:22:33.403596Z"
    },
    "papermill": {
     "duration": 0.071546,
     "end_time": "2024-02-13T16:22:33.406177",
     "exception": false,
     "start_time": "2024-02-13T16:22:33.334631",
     "status": "completed"
    },
    "tags": []
   },
   "outputs": [
    {
     "data": {
      "application/vnd.jupyter.widget-view+json": {
       "model_id": "3f8c3d3c734d4de68c42cab0616fa56b",
       "version_major": 2,
       "version_minor": 0
      },
      "text/plain": [
       "Creating CSV from Arrow format:   0%|          | 0/1 [00:00<?, ?ba/s]"
      ]
     },
     "metadata": {},
     "output_type": "display_data"
    },
    {
     "data": {
      "text/plain": [
       "852"
      ]
     },
     "execution_count": 54,
     "metadata": {},
     "output_type": "execute_result"
    }
   ],
   "source": [
    "import datasets\n",
    "\n",
    "submission = datasets.Dataset.from_dict({\n",
    "    'id': eval_ds['id'],\n",
    "    'score': preds\n",
    "})\n",
    "\n",
    "submission.to_csv('submission.csv', index=False)"
   ]
  },
  {
   "cell_type": "code",
   "execution_count": null,
   "id": "8a3d4feb",
   "metadata": {
    "papermill": {
     "duration": 0.027086,
     "end_time": "2024-02-13T16:22:33.460712",
     "exception": false,
     "start_time": "2024-02-13T16:22:33.433626",
     "status": "completed"
    },
    "tags": []
   },
   "outputs": [],
   "source": []
  }
 ],
 "metadata": {
  "kaggle": {
   "accelerator": "gpu",
   "dataSources": [
    {
     "databundleVersionId": 3279164,
     "sourceId": 33657,
     "sourceType": "competition"
    }
   ],
   "dockerImageVersionId": 30646,
   "isGpuEnabled": true,
   "isInternetEnabled": true,
   "language": "python",
   "sourceType": "notebook"
  },
  "kernelspec": {
   "display_name": "Python 3 (ipykernel)",
   "language": "python",
   "name": "python3"
  },
  "language_info": {
   "codemirror_mode": {
    "name": "ipython",
    "version": 3
   },
   "file_extension": ".py",
   "mimetype": "text/x-python",
   "name": "python",
   "nbconvert_exporter": "python",
   "pygments_lexer": "ipython3",
   "version": "3.10.14"
  },
  "papermill": {
   "default_parameters": {},
   "duration": 328.430833,
   "end_time": "2024-02-13T16:22:36.680704",
   "environment_variables": {},
   "exception": null,
   "input_path": "__notebook__.ipynb",
   "output_path": "__notebook__.ipynb",
   "parameters": {},
   "start_time": "2024-02-13T16:17:08.249871",
   "version": "2.5.0"
  },
  "widgets": {
   "application/vnd.jupyter.widget-state+json": {
    "state": {
     "022435cb42ac4bc18d1ce357798f82b8": {
      "model_module": "@jupyter-widgets/base",
      "model_module_version": "1.2.0",
      "model_name": "LayoutModel",
      "state": {
       "_model_module": "@jupyter-widgets/base",
       "_model_module_version": "1.2.0",
       "_model_name": "LayoutModel",
       "_view_count": null,
       "_view_module": "@jupyter-widgets/base",
       "_view_module_version": "1.2.0",
       "_view_name": "LayoutView",
       "align_content": null,
       "align_items": null,
       "align_self": null,
       "border": null,
       "bottom": null,
       "display": null,
       "flex": null,
       "flex_flow": null,
       "grid_area": null,
       "grid_auto_columns": null,
       "grid_auto_flow": null,
       "grid_auto_rows": null,
       "grid_column": null,
       "grid_gap": null,
       "grid_row": null,
       "grid_template_areas": null,
       "grid_template_columns": null,
       "grid_template_rows": null,
       "height": null,
       "justify_content": null,
       "justify_items": null,
       "left": null,
       "margin": null,
       "max_height": null,
       "max_width": null,
       "min_height": null,
       "min_width": null,
       "object_fit": null,
       "object_position": null,
       "order": null,
       "overflow": null,
       "overflow_x": null,
       "overflow_y": null,
       "padding": null,
       "right": null,
       "top": null,
       "visibility": null,
       "width": null
      }
     },
     "02698bb901d44659938c51cdeb690967": {
      "model_module": "@jupyter-widgets/base",
      "model_module_version": "1.2.0",
      "model_name": "LayoutModel",
      "state": {
       "_model_module": "@jupyter-widgets/base",
       "_model_module_version": "1.2.0",
       "_model_name": "LayoutModel",
       "_view_count": null,
       "_view_module": "@jupyter-widgets/base",
       "_view_module_version": "1.2.0",
       "_view_name": "LayoutView",
       "align_content": null,
       "align_items": null,
       "align_self": null,
       "border": null,
       "bottom": null,
       "display": null,
       "flex": null,
       "flex_flow": null,
       "grid_area": null,
       "grid_auto_columns": null,
       "grid_auto_flow": null,
       "grid_auto_rows": null,
       "grid_column": null,
       "grid_gap": null,
       "grid_row": null,
       "grid_template_areas": null,
       "grid_template_columns": null,
       "grid_template_rows": null,
       "height": null,
       "justify_content": null,
       "justify_items": null,
       "left": null,
       "margin": null,
       "max_height": null,
       "max_width": null,
       "min_height": null,
       "min_width": null,
       "object_fit": null,
       "object_position": null,
       "order": null,
       "overflow": null,
       "overflow_x": null,
       "overflow_y": null,
       "padding": null,
       "right": null,
       "top": null,
       "visibility": null,
       "width": null
      }
     },
     "06a106a4f1684654a55facdee72fd0fb": {
      "model_module": "@jupyter-widgets/base",
      "model_module_version": "1.2.0",
      "model_name": "LayoutModel",
      "state": {
       "_model_module": "@jupyter-widgets/base",
       "_model_module_version": "1.2.0",
       "_model_name": "LayoutModel",
       "_view_count": null,
       "_view_module": "@jupyter-widgets/base",
       "_view_module_version": "1.2.0",
       "_view_name": "LayoutView",
       "align_content": null,
       "align_items": null,
       "align_self": null,
       "border": null,
       "bottom": null,
       "display": null,
       "flex": null,
       "flex_flow": null,
       "grid_area": null,
       "grid_auto_columns": null,
       "grid_auto_flow": null,
       "grid_auto_rows": null,
       "grid_column": null,
       "grid_gap": null,
       "grid_row": null,
       "grid_template_areas": null,
       "grid_template_columns": null,
       "grid_template_rows": null,
       "height": null,
       "justify_content": null,
       "justify_items": null,
       "left": null,
       "margin": null,
       "max_height": null,
       "max_width": null,
       "min_height": null,
       "min_width": null,
       "object_fit": null,
       "object_position": null,
       "order": null,
       "overflow": null,
       "overflow_x": null,
       "overflow_y": null,
       "padding": null,
       "right": null,
       "top": null,
       "visibility": null,
       "width": null
      }
     },
     "097c02f0afda426984c3090b3647c277": {
      "model_module": "@jupyter-widgets/base",
      "model_module_version": "1.2.0",
      "model_name": "LayoutModel",
      "state": {
       "_model_module": "@jupyter-widgets/base",
       "_model_module_version": "1.2.0",
       "_model_name": "LayoutModel",
       "_view_count": null,
       "_view_module": "@jupyter-widgets/base",
       "_view_module_version": "1.2.0",
       "_view_name": "LayoutView",
       "align_content": null,
       "align_items": null,
       "align_self": null,
       "border": null,
       "bottom": null,
       "display": null,
       "flex": null,
       "flex_flow": null,
       "grid_area": null,
       "grid_auto_columns": null,
       "grid_auto_flow": null,
       "grid_auto_rows": null,
       "grid_column": null,
       "grid_gap": null,
       "grid_row": null,
       "grid_template_areas": null,
       "grid_template_columns": null,
       "grid_template_rows": null,
       "height": null,
       "justify_content": null,
       "justify_items": null,
       "left": null,
       "margin": null,
       "max_height": null,
       "max_width": null,
       "min_height": null,
       "min_width": null,
       "object_fit": null,
       "object_position": null,
       "order": null,
       "overflow": null,
       "overflow_x": null,
       "overflow_y": null,
       "padding": null,
       "right": null,
       "top": null,
       "visibility": null,
       "width": null
      }
     },
     "15f29664cdb54baf86aef4b39b38ccef": {
      "model_module": "@jupyter-widgets/controls",
      "model_module_version": "1.5.0",
      "model_name": "HTMLModel",
      "state": {
       "_dom_classes": [],
       "_model_module": "@jupyter-widgets/controls",
       "_model_module_version": "1.5.0",
       "_model_name": "HTMLModel",
       "_view_count": null,
       "_view_module": "@jupyter-widgets/controls",
       "_view_module_version": "1.5.0",
       "_view_name": "HTMLView",
       "description": "",
       "description_tooltip": null,
       "layout": "IPY_MODEL_d034ea74e11d422499d6f17521609854",
       "placeholder": "​",
       "style": "IPY_MODEL_f648aa4f66a64fb4b44fe68089c5d234",
       "value": "spm.model: 100%"
      }
     },
     "183f1273c69e4a768d1eae1df0952151": {
      "model_module": "@jupyter-widgets/base",
      "model_module_version": "1.2.0",
      "model_name": "LayoutModel",
      "state": {
       "_model_module": "@jupyter-widgets/base",
       "_model_module_version": "1.2.0",
       "_model_name": "LayoutModel",
       "_view_count": null,
       "_view_module": "@jupyter-widgets/base",
       "_view_module_version": "1.2.0",
       "_view_name": "LayoutView",
       "align_content": null,
       "align_items": null,
       "align_self": null,
       "border": null,
       "bottom": null,
       "display": null,
       "flex": null,
       "flex_flow": null,
       "grid_area": null,
       "grid_auto_columns": null,
       "grid_auto_flow": null,
       "grid_auto_rows": null,
       "grid_column": null,
       "grid_gap": null,
       "grid_row": null,
       "grid_template_areas": null,
       "grid_template_columns": null,
       "grid_template_rows": null,
       "height": null,
       "justify_content": null,
       "justify_items": null,
       "left": null,
       "margin": null,
       "max_height": null,
       "max_width": null,
       "min_height": null,
       "min_width": null,
       "object_fit": null,
       "object_position": null,
       "order": null,
       "overflow": null,
       "overflow_x": null,
       "overflow_y": null,
       "padding": null,
       "right": null,
       "top": null,
       "visibility": null,
       "width": null
      }
     },
     "188c7432f477462889c1bfedae44cfe9": {
      "model_module": "@jupyter-widgets/controls",
      "model_module_version": "1.5.0",
      "model_name": "ProgressStyleModel",
      "state": {
       "_model_module": "@jupyter-widgets/controls",
       "_model_module_version": "1.5.0",
       "_model_name": "ProgressStyleModel",
       "_view_count": null,
       "_view_module": "@jupyter-widgets/base",
       "_view_module_version": "1.2.0",
       "_view_name": "StyleView",
       "bar_color": null,
       "description_width": ""
      }
     },
     "1a869cc0bbfe42ce9748ff22fa674959": {
      "model_module": "@jupyter-widgets/controls",
      "model_module_version": "1.5.0",
      "model_name": "ProgressStyleModel",
      "state": {
       "_model_module": "@jupyter-widgets/controls",
       "_model_module_version": "1.5.0",
       "_model_name": "ProgressStyleModel",
       "_view_count": null,
       "_view_module": "@jupyter-widgets/base",
       "_view_module_version": "1.2.0",
       "_view_name": "StyleView",
       "bar_color": null,
       "description_width": ""
      }
     },
     "1aba24977748469fa57a41f36f01907e": {
      "model_module": "@jupyter-widgets/controls",
      "model_module_version": "1.5.0",
      "model_name": "DescriptionStyleModel",
      "state": {
       "_model_module": "@jupyter-widgets/controls",
       "_model_module_version": "1.5.0",
       "_model_name": "DescriptionStyleModel",
       "_view_count": null,
       "_view_module": "@jupyter-widgets/base",
       "_view_module_version": "1.2.0",
       "_view_name": "StyleView",
       "description_width": ""
      }
     },
     "24026efa390c48cc9e2297713b23d5ea": {
      "model_module": "@jupyter-widgets/base",
      "model_module_version": "1.2.0",
      "model_name": "LayoutModel",
      "state": {
       "_model_module": "@jupyter-widgets/base",
       "_model_module_version": "1.2.0",
       "_model_name": "LayoutModel",
       "_view_count": null,
       "_view_module": "@jupyter-widgets/base",
       "_view_module_version": "1.2.0",
       "_view_name": "LayoutView",
       "align_content": null,
       "align_items": null,
       "align_self": null,
       "border": null,
       "bottom": null,
       "display": null,
       "flex": null,
       "flex_flow": null,
       "grid_area": null,
       "grid_auto_columns": null,
       "grid_auto_flow": null,
       "grid_auto_rows": null,
       "grid_column": null,
       "grid_gap": null,
       "grid_row": null,
       "grid_template_areas": null,
       "grid_template_columns": null,
       "grid_template_rows": null,
       "height": null,
       "justify_content": null,
       "justify_items": null,
       "left": null,
       "margin": null,
       "max_height": null,
       "max_width": null,
       "min_height": null,
       "min_width": null,
       "object_fit": null,
       "object_position": null,
       "order": null,
       "overflow": null,
       "overflow_x": null,
       "overflow_y": null,
       "padding": null,
       "right": null,
       "top": null,
       "visibility": null,
       "width": null
      }
     },
     "27d6e6fbb2fd4165b0f039d35f73e906": {
      "model_module": "@jupyter-widgets/controls",
      "model_module_version": "1.5.0",
      "model_name": "HTMLModel",
      "state": {
       "_dom_classes": [],
       "_model_module": "@jupyter-widgets/controls",
       "_model_module_version": "1.5.0",
       "_model_name": "HTMLModel",
       "_view_count": null,
       "_view_module": "@jupyter-widgets/controls",
       "_view_module_version": "1.5.0",
       "_view_name": "HTMLView",
       "description": "",
       "description_tooltip": null,
       "layout": "IPY_MODEL_7fcf25a07bc6431db9e258cab3a16339",
       "placeholder": "​",
       "style": "IPY_MODEL_45d5c8d008f64afcb2e5d06a7399cc1e",
       "value": " 1/1 [00:00&lt;00:00, 56.68ba/s]"
      }
     },
     "2ba2bbd10a4a4fb58a8357cf50f6b2b1": {
      "model_module": "@jupyter-widgets/controls",
      "model_module_version": "1.5.0",
      "model_name": "DescriptionStyleModel",
      "state": {
       "_model_module": "@jupyter-widgets/controls",
       "_model_module_version": "1.5.0",
       "_model_name": "DescriptionStyleModel",
       "_view_count": null,
       "_view_module": "@jupyter-widgets/base",
       "_view_module_version": "1.2.0",
       "_view_name": "StyleView",
       "description_width": ""
      }
     },
     "2c7fdf274016448f9be214dc958be7d0": {
      "model_module": "@jupyter-widgets/controls",
      "model_module_version": "1.5.0",
      "model_name": "FloatProgressModel",
      "state": {
       "_dom_classes": [],
       "_model_module": "@jupyter-widgets/controls",
       "_model_module_version": "1.5.0",
       "_model_name": "FloatProgressModel",
       "_view_count": null,
       "_view_module": "@jupyter-widgets/controls",
       "_view_module_version": "1.5.0",
       "_view_name": "ProgressView",
       "bar_style": "success",
       "description": "",
       "description_tooltip": null,
       "layout": "IPY_MODEL_4b786d82a9b44ea1b85e799098c8a588",
       "max": 286059269,
       "min": 0,
       "orientation": "horizontal",
       "style": "IPY_MODEL_c2b3465c169d4eea8d978e79e6566f74",
       "value": 286059269
      }
     },
     "2f7b10049e994746a56f718d42a481cc": {
      "model_module": "@jupyter-widgets/controls",
      "model_module_version": "1.5.0",
      "model_name": "DescriptionStyleModel",
      "state": {
       "_model_module": "@jupyter-widgets/controls",
       "_model_module_version": "1.5.0",
       "_model_name": "DescriptionStyleModel",
       "_view_count": null,
       "_view_module": "@jupyter-widgets/base",
       "_view_module_version": "1.2.0",
       "_view_name": "StyleView",
       "description_width": ""
      }
     },
     "34b6d36f72224a86acaa8ab81369d458": {
      "model_module": "@jupyter-widgets/base",
      "model_module_version": "1.2.0",
      "model_name": "LayoutModel",
      "state": {
       "_model_module": "@jupyter-widgets/base",
       "_model_module_version": "1.2.0",
       "_model_name": "LayoutModel",
       "_view_count": null,
       "_view_module": "@jupyter-widgets/base",
       "_view_module_version": "1.2.0",
       "_view_name": "LayoutView",
       "align_content": null,
       "align_items": null,
       "align_self": null,
       "border": null,
       "bottom": null,
       "display": null,
       "flex": null,
       "flex_flow": null,
       "grid_area": null,
       "grid_auto_columns": null,
       "grid_auto_flow": null,
       "grid_auto_rows": null,
       "grid_column": null,
       "grid_gap": null,
       "grid_row": null,
       "grid_template_areas": null,
       "grid_template_columns": null,
       "grid_template_rows": null,
       "height": null,
       "justify_content": null,
       "justify_items": null,
       "left": null,
       "margin": null,
       "max_height": null,
       "max_width": null,
       "min_height": null,
       "min_width": null,
       "object_fit": null,
       "object_position": null,
       "order": null,
       "overflow": null,
       "overflow_x": null,
       "overflow_y": null,
       "padding": null,
       "right": null,
       "top": null,
       "visibility": null,
       "width": null
      }
     },
     "34f9d9fb0b6c4d7085a08fc624d69add": {
      "model_module": "@jupyter-widgets/controls",
      "model_module_version": "1.5.0",
      "model_name": "ProgressStyleModel",
      "state": {
       "_model_module": "@jupyter-widgets/controls",
       "_model_module_version": "1.5.0",
       "_model_name": "ProgressStyleModel",
       "_view_count": null,
       "_view_module": "@jupyter-widgets/base",
       "_view_module_version": "1.2.0",
       "_view_name": "StyleView",
       "bar_color": null,
       "description_width": ""
      }
     },
     "37688459118e458f9e2e79992237b90d": {
      "model_module": "@jupyter-widgets/base",
      "model_module_version": "1.2.0",
      "model_name": "LayoutModel",
      "state": {
       "_model_module": "@jupyter-widgets/base",
       "_model_module_version": "1.2.0",
       "_model_name": "LayoutModel",
       "_view_count": null,
       "_view_module": "@jupyter-widgets/base",
       "_view_module_version": "1.2.0",
       "_view_name": "LayoutView",
       "align_content": null,
       "align_items": null,
       "align_self": null,
       "border": null,
       "bottom": null,
       "display": null,
       "flex": null,
       "flex_flow": null,
       "grid_area": null,
       "grid_auto_columns": null,
       "grid_auto_flow": null,
       "grid_auto_rows": null,
       "grid_column": null,
       "grid_gap": null,
       "grid_row": null,
       "grid_template_areas": null,
       "grid_template_columns": null,
       "grid_template_rows": null,
       "height": null,
       "justify_content": null,
       "justify_items": null,
       "left": null,
       "margin": null,
       "max_height": null,
       "max_width": null,
       "min_height": null,
       "min_width": null,
       "object_fit": null,
       "object_position": null,
       "order": null,
       "overflow": null,
       "overflow_x": null,
       "overflow_y": null,
       "padding": null,
       "right": null,
       "top": null,
       "visibility": null,
       "width": null
      }
     },
     "3f8c3d3c734d4de68c42cab0616fa56b": {
      "model_module": "@jupyter-widgets/controls",
      "model_module_version": "1.5.0",
      "model_name": "HBoxModel",
      "state": {
       "_dom_classes": [],
       "_model_module": "@jupyter-widgets/controls",
       "_model_module_version": "1.5.0",
       "_model_name": "HBoxModel",
       "_view_count": null,
       "_view_module": "@jupyter-widgets/controls",
       "_view_module_version": "1.5.0",
       "_view_name": "HBoxView",
       "box_style": "",
       "children": [
        "IPY_MODEL_de5246dcee904a5c94374450681be4b3",
        "IPY_MODEL_9ba77245b7dd4fe1ac65da70a816c535",
        "IPY_MODEL_fe2c4e0e06f64eeaa9e7447e850bee0f"
       ],
       "layout": "IPY_MODEL_02698bb901d44659938c51cdeb690967"
      }
     },
     "45d5c8d008f64afcb2e5d06a7399cc1e": {
      "model_module": "@jupyter-widgets/controls",
      "model_module_version": "1.5.0",
      "model_name": "DescriptionStyleModel",
      "state": {
       "_model_module": "@jupyter-widgets/controls",
       "_model_module_version": "1.5.0",
       "_model_name": "DescriptionStyleModel",
       "_view_count": null,
       "_view_module": "@jupyter-widgets/base",
       "_view_module_version": "1.2.0",
       "_view_name": "StyleView",
       "description_width": ""
      }
     },
     "47e86e61ff2a4548844b5c84b61e1365": {
      "model_module": "@jupyter-widgets/base",
      "model_module_version": "1.2.0",
      "model_name": "LayoutModel",
      "state": {
       "_model_module": "@jupyter-widgets/base",
       "_model_module_version": "1.2.0",
       "_model_name": "LayoutModel",
       "_view_count": null,
       "_view_module": "@jupyter-widgets/base",
       "_view_module_version": "1.2.0",
       "_view_name": "LayoutView",
       "align_content": null,
       "align_items": null,
       "align_self": null,
       "border": null,
       "bottom": null,
       "display": null,
       "flex": null,
       "flex_flow": null,
       "grid_area": null,
       "grid_auto_columns": null,
       "grid_auto_flow": null,
       "grid_auto_rows": null,
       "grid_column": null,
       "grid_gap": null,
       "grid_row": null,
       "grid_template_areas": null,
       "grid_template_columns": null,
       "grid_template_rows": null,
       "height": null,
       "justify_content": null,
       "justify_items": null,
       "left": null,
       "margin": null,
       "max_height": null,
       "max_width": null,
       "min_height": null,
       "min_width": null,
       "object_fit": null,
       "object_position": null,
       "order": null,
       "overflow": null,
       "overflow_x": null,
       "overflow_y": null,
       "padding": null,
       "right": null,
       "top": null,
       "visibility": null,
       "width": null
      }
     },
     "482ec7f628a44cc080111455be4b81ba": {
      "model_module": "@jupyter-widgets/base",
      "model_module_version": "1.2.0",
      "model_name": "LayoutModel",
      "state": {
       "_model_module": "@jupyter-widgets/base",
       "_model_module_version": "1.2.0",
       "_model_name": "LayoutModel",
       "_view_count": null,
       "_view_module": "@jupyter-widgets/base",
       "_view_module_version": "1.2.0",
       "_view_name": "LayoutView",
       "align_content": null,
       "align_items": null,
       "align_self": null,
       "border": null,
       "bottom": null,
       "display": null,
       "flex": null,
       "flex_flow": null,
       "grid_area": null,
       "grid_auto_columns": null,
       "grid_auto_flow": null,
       "grid_auto_rows": null,
       "grid_column": null,
       "grid_gap": null,
       "grid_row": null,
       "grid_template_areas": null,
       "grid_template_columns": null,
       "grid_template_rows": null,
       "height": null,
       "justify_content": null,
       "justify_items": null,
       "left": null,
       "margin": null,
       "max_height": null,
       "max_width": null,
       "min_height": null,
       "min_width": null,
       "object_fit": null,
       "object_position": null,
       "order": null,
       "overflow": null,
       "overflow_x": null,
       "overflow_y": null,
       "padding": null,
       "right": null,
       "top": null,
       "visibility": null,
       "width": null
      }
     },
     "496e43eda712436794115d903b8b7404": {
      "model_module": "@jupyter-widgets/base",
      "model_module_version": "1.2.0",
      "model_name": "LayoutModel",
      "state": {
       "_model_module": "@jupyter-widgets/base",
       "_model_module_version": "1.2.0",
       "_model_name": "LayoutModel",
       "_view_count": null,
       "_view_module": "@jupyter-widgets/base",
       "_view_module_version": "1.2.0",
       "_view_name": "LayoutView",
       "align_content": null,
       "align_items": null,
       "align_self": null,
       "border": null,
       "bottom": null,
       "display": null,
       "flex": null,
       "flex_flow": null,
       "grid_area": null,
       "grid_auto_columns": null,
       "grid_auto_flow": null,
       "grid_auto_rows": null,
       "grid_column": null,
       "grid_gap": null,
       "grid_row": null,
       "grid_template_areas": null,
       "grid_template_columns": null,
       "grid_template_rows": null,
       "height": null,
       "justify_content": null,
       "justify_items": null,
       "left": null,
       "margin": null,
       "max_height": null,
       "max_width": null,
       "min_height": null,
       "min_width": null,
       "object_fit": null,
       "object_position": null,
       "order": null,
       "overflow": null,
       "overflow_x": null,
       "overflow_y": null,
       "padding": null,
       "right": null,
       "top": null,
       "visibility": null,
       "width": null
      }
     },
     "4b25b5ba8b3d41b49fcd358cb9ddc32d": {
      "model_module": "@jupyter-widgets/controls",
      "model_module_version": "1.5.0",
      "model_name": "DescriptionStyleModel",
      "state": {
       "_model_module": "@jupyter-widgets/controls",
       "_model_module_version": "1.5.0",
       "_model_name": "DescriptionStyleModel",
       "_view_count": null,
       "_view_module": "@jupyter-widgets/base",
       "_view_module_version": "1.2.0",
       "_view_name": "StyleView",
       "description_width": ""
      }
     },
     "4b786d82a9b44ea1b85e799098c8a588": {
      "model_module": "@jupyter-widgets/base",
      "model_module_version": "1.2.0",
      "model_name": "LayoutModel",
      "state": {
       "_model_module": "@jupyter-widgets/base",
       "_model_module_version": "1.2.0",
       "_model_name": "LayoutModel",
       "_view_count": null,
       "_view_module": "@jupyter-widgets/base",
       "_view_module_version": "1.2.0",
       "_view_name": "LayoutView",
       "align_content": null,
       "align_items": null,
       "align_self": null,
       "border": null,
       "bottom": null,
       "display": null,
       "flex": null,
       "flex_flow": null,
       "grid_area": null,
       "grid_auto_columns": null,
       "grid_auto_flow": null,
       "grid_auto_rows": null,
       "grid_column": null,
       "grid_gap": null,
       "grid_row": null,
       "grid_template_areas": null,
       "grid_template_columns": null,
       "grid_template_rows": null,
       "height": null,
       "justify_content": null,
       "justify_items": null,
       "left": null,
       "margin": null,
       "max_height": null,
       "max_width": null,
       "min_height": null,
       "min_width": null,
       "object_fit": null,
       "object_position": null,
       "order": null,
       "overflow": null,
       "overflow_x": null,
       "overflow_y": null,
       "padding": null,
       "right": null,
       "top": null,
       "visibility": null,
       "width": null
      }
     },
     "524b065052e04937bbd7aad88a3afe5c": {
      "model_module": "@jupyter-widgets/controls",
      "model_module_version": "1.5.0",
      "model_name": "DescriptionStyleModel",
      "state": {
       "_model_module": "@jupyter-widgets/controls",
       "_model_module_version": "1.5.0",
       "_model_name": "DescriptionStyleModel",
       "_view_count": null,
       "_view_module": "@jupyter-widgets/base",
       "_view_module_version": "1.2.0",
       "_view_name": "StyleView",
       "description_width": ""
      }
     },
     "577ff8dd04f24f98890d63e3cea8b6b7": {
      "model_module": "@jupyter-widgets/controls",
      "model_module_version": "1.5.0",
      "model_name": "HBoxModel",
      "state": {
       "_dom_classes": [],
       "_model_module": "@jupyter-widgets/controls",
       "_model_module_version": "1.5.0",
       "_model_name": "HBoxModel",
       "_view_count": null,
       "_view_module": "@jupyter-widgets/controls",
       "_view_module_version": "1.5.0",
       "_view_name": "HBoxView",
       "box_style": "",
       "children": [
        "IPY_MODEL_15f29664cdb54baf86aef4b39b38ccef",
        "IPY_MODEL_afee81222ece4c648f3e3ffbf1fce791",
        "IPY_MODEL_edd9e38fec414a8d8d2d5e2a94be71ba"
       ],
       "layout": "IPY_MODEL_183f1273c69e4a768d1eae1df0952151"
      }
     },
     "67946b4e25954d0e8863af5936b39ba8": {
      "model_module": "@jupyter-widgets/controls",
      "model_module_version": "1.5.0",
      "model_name": "DescriptionStyleModel",
      "state": {
       "_model_module": "@jupyter-widgets/controls",
       "_model_module_version": "1.5.0",
       "_model_name": "DescriptionStyleModel",
       "_view_count": null,
       "_view_module": "@jupyter-widgets/base",
       "_view_module_version": "1.2.0",
       "_view_name": "StyleView",
       "description_width": ""
      }
     },
     "67c158961961429f82d8eeb8169bef9f": {
      "model_module": "@jupyter-widgets/controls",
      "model_module_version": "1.5.0",
      "model_name": "DescriptionStyleModel",
      "state": {
       "_model_module": "@jupyter-widgets/controls",
       "_model_module_version": "1.5.0",
       "_model_name": "DescriptionStyleModel",
       "_view_count": null,
       "_view_module": "@jupyter-widgets/base",
       "_view_module_version": "1.2.0",
       "_view_name": "StyleView",
       "description_width": ""
      }
     },
     "6edcce4eeef34c09b1a91d6e866db347": {
      "model_module": "@jupyter-widgets/controls",
      "model_module_version": "1.5.0",
      "model_name": "HTMLModel",
      "state": {
       "_dom_classes": [],
       "_model_module": "@jupyter-widgets/controls",
       "_model_module_version": "1.5.0",
       "_model_name": "HTMLModel",
       "_view_count": null,
       "_view_module": "@jupyter-widgets/controls",
       "_view_module_version": "1.5.0",
       "_view_name": "HTMLView",
       "description": "",
       "description_tooltip": null,
       "layout": "IPY_MODEL_ab61ed780e4c427881bfdb3c5ebd32c3",
       "placeholder": "​",
       "style": "IPY_MODEL_67946b4e25954d0e8863af5936b39ba8",
       "value": " 286M/286M [00:00&lt;00:00, 379MB/s]"
      }
     },
     "6fc3b72db8a541c995e051614768fd1d": {
      "model_module": "@jupyter-widgets/controls",
      "model_module_version": "1.5.0",
      "model_name": "HBoxModel",
      "state": {
       "_dom_classes": [],
       "_model_module": "@jupyter-widgets/controls",
       "_model_module_version": "1.5.0",
       "_model_name": "HBoxModel",
       "_view_count": null,
       "_view_module": "@jupyter-widgets/controls",
       "_view_module_version": "1.5.0",
       "_view_name": "HBoxView",
       "box_style": "",
       "children": [
        "IPY_MODEL_eefed72bc87a4044bea8d379fea3ca0f",
        "IPY_MODEL_2c7fdf274016448f9be214dc958be7d0",
        "IPY_MODEL_6edcce4eeef34c09b1a91d6e866db347"
       ],
       "layout": "IPY_MODEL_24026efa390c48cc9e2297713b23d5ea"
      }
     },
     "738c7a63f3884375a74fe0adf4a9c5a2": {
      "model_module": "@jupyter-widgets/controls",
      "model_module_version": "1.5.0",
      "model_name": "DescriptionStyleModel",
      "state": {
       "_model_module": "@jupyter-widgets/controls",
       "_model_module_version": "1.5.0",
       "_model_name": "DescriptionStyleModel",
       "_view_count": null,
       "_view_module": "@jupyter-widgets/base",
       "_view_module_version": "1.2.0",
       "_view_name": "StyleView",
       "description_width": ""
      }
     },
     "74ab014a90db4aeb89e639e6b5c0e6da": {
      "model_module": "@jupyter-widgets/controls",
      "model_module_version": "1.5.0",
      "model_name": "DescriptionStyleModel",
      "state": {
       "_model_module": "@jupyter-widgets/controls",
       "_model_module_version": "1.5.0",
       "_model_name": "DescriptionStyleModel",
       "_view_count": null,
       "_view_module": "@jupyter-widgets/base",
       "_view_module_version": "1.2.0",
       "_view_name": "StyleView",
       "description_width": ""
      }
     },
     "787ca4ff61f4487abd625104daf0f80f": {
      "model_module": "@jupyter-widgets/base",
      "model_module_version": "1.2.0",
      "model_name": "LayoutModel",
      "state": {
       "_model_module": "@jupyter-widgets/base",
       "_model_module_version": "1.2.0",
       "_model_name": "LayoutModel",
       "_view_count": null,
       "_view_module": "@jupyter-widgets/base",
       "_view_module_version": "1.2.0",
       "_view_name": "LayoutView",
       "align_content": null,
       "align_items": null,
       "align_self": null,
       "border": null,
       "bottom": null,
       "display": null,
       "flex": null,
       "flex_flow": null,
       "grid_area": null,
       "grid_auto_columns": null,
       "grid_auto_flow": null,
       "grid_auto_rows": null,
       "grid_column": null,
       "grid_gap": null,
       "grid_row": null,
       "grid_template_areas": null,
       "grid_template_columns": null,
       "grid_template_rows": null,
       "height": null,
       "justify_content": null,
       "justify_items": null,
       "left": null,
       "margin": null,
       "max_height": null,
       "max_width": null,
       "min_height": null,
       "min_width": null,
       "object_fit": null,
       "object_position": null,
       "order": null,
       "overflow": null,
       "overflow_x": null,
       "overflow_y": null,
       "padding": null,
       "right": null,
       "top": null,
       "visibility": null,
       "width": null
      }
     },
     "7fcf25a07bc6431db9e258cab3a16339": {
      "model_module": "@jupyter-widgets/base",
      "model_module_version": "1.2.0",
      "model_name": "LayoutModel",
      "state": {
       "_model_module": "@jupyter-widgets/base",
       "_model_module_version": "1.2.0",
       "_model_name": "LayoutModel",
       "_view_count": null,
       "_view_module": "@jupyter-widgets/base",
       "_view_module_version": "1.2.0",
       "_view_name": "LayoutView",
       "align_content": null,
       "align_items": null,
       "align_self": null,
       "border": null,
       "bottom": null,
       "display": null,
       "flex": null,
       "flex_flow": null,
       "grid_area": null,
       "grid_auto_columns": null,
       "grid_auto_flow": null,
       "grid_auto_rows": null,
       "grid_column": null,
       "grid_gap": null,
       "grid_row": null,
       "grid_template_areas": null,
       "grid_template_columns": null,
       "grid_template_rows": null,
       "height": null,
       "justify_content": null,
       "justify_items": null,
       "left": null,
       "margin": null,
       "max_height": null,
       "max_width": null,
       "min_height": null,
       "min_width": null,
       "object_fit": null,
       "object_position": null,
       "order": null,
       "overflow": null,
       "overflow_x": null,
       "overflow_y": null,
       "padding": null,
       "right": null,
       "top": null,
       "visibility": null,
       "width": null
      }
     },
     "80e2931eba2a4a2ebf079cf05625f7de": {
      "model_module": "@jupyter-widgets/controls",
      "model_module_version": "1.5.0",
      "model_name": "FloatProgressModel",
      "state": {
       "_dom_classes": [],
       "_model_module": "@jupyter-widgets/controls",
       "_model_module_version": "1.5.0",
       "_model_name": "FloatProgressModel",
       "_view_count": null,
       "_view_module": "@jupyter-widgets/controls",
       "_view_module_version": "1.5.0",
       "_view_name": "ProgressView",
       "bar_style": "success",
       "description": "",
       "description_tooltip": null,
       "layout": "IPY_MODEL_022435cb42ac4bc18d1ce357798f82b8",
       "max": 1,
       "min": 0,
       "orientation": "horizontal",
       "style": "IPY_MODEL_a29bc5c8b16747c8a14342c63c99a994",
       "value": 1
      }
     },
     "8989b15085014ec9ba445c550b15296e": {
      "model_module": "@jupyter-widgets/controls",
      "model_module_version": "1.5.0",
      "model_name": "FloatProgressModel",
      "state": {
       "_dom_classes": [],
       "_model_module": "@jupyter-widgets/controls",
       "_model_module_version": "1.5.0",
       "_model_name": "FloatProgressModel",
       "_view_count": null,
       "_view_module": "@jupyter-widgets/controls",
       "_view_module_version": "1.5.0",
       "_view_name": "ProgressView",
       "bar_style": "success",
       "description": "",
       "description_tooltip": null,
       "layout": "IPY_MODEL_37688459118e458f9e2e79992237b90d",
       "max": 52,
       "min": 0,
       "orientation": "horizontal",
       "style": "IPY_MODEL_188c7432f477462889c1bfedae44cfe9",
       "value": 52
      }
     },
     "8e1e9ee7a9374c1799c0c3cd17f46144": {
      "model_module": "@jupyter-widgets/controls",
      "model_module_version": "1.5.0",
      "model_name": "HBoxModel",
      "state": {
       "_dom_classes": [],
       "_model_module": "@jupyter-widgets/controls",
       "_model_module_version": "1.5.0",
       "_model_name": "HBoxModel",
       "_view_count": null,
       "_view_module": "@jupyter-widgets/controls",
       "_view_module_version": "1.5.0",
       "_view_name": "HBoxView",
       "box_style": "",
       "children": [
        "IPY_MODEL_af3b33681f0c4264923d9dc49ec0494e",
        "IPY_MODEL_d901fdef383e481d92b59335f4f32655",
        "IPY_MODEL_9c5d0fce94a3402ca3e218c19b7a71b9"
       ],
       "layout": "IPY_MODEL_c24b2e6bb50347a787fcfb3666cef0a0"
      }
     },
     "967ca0748c08462898162fee46b21102": {
      "model_module": "@jupyter-widgets/base",
      "model_module_version": "1.2.0",
      "model_name": "LayoutModel",
      "state": {
       "_model_module": "@jupyter-widgets/base",
       "_model_module_version": "1.2.0",
       "_model_name": "LayoutModel",
       "_view_count": null,
       "_view_module": "@jupyter-widgets/base",
       "_view_module_version": "1.2.0",
       "_view_name": "LayoutView",
       "align_content": null,
       "align_items": null,
       "align_self": null,
       "border": null,
       "bottom": null,
       "display": null,
       "flex": null,
       "flex_flow": null,
       "grid_area": null,
       "grid_auto_columns": null,
       "grid_auto_flow": null,
       "grid_auto_rows": null,
       "grid_column": null,
       "grid_gap": null,
       "grid_row": null,
       "grid_template_areas": null,
       "grid_template_columns": null,
       "grid_template_rows": null,
       "height": null,
       "justify_content": null,
       "justify_items": null,
       "left": null,
       "margin": null,
       "max_height": null,
       "max_width": null,
       "min_height": null,
       "min_width": null,
       "object_fit": null,
       "object_position": null,
       "order": null,
       "overflow": null,
       "overflow_x": null,
       "overflow_y": null,
       "padding": null,
       "right": null,
       "top": null,
       "visibility": null,
       "width": null
      }
     },
     "985b787e610745e2811e56bc7d634c14": {
      "model_module": "@jupyter-widgets/controls",
      "model_module_version": "1.5.0",
      "model_name": "HTMLModel",
      "state": {
       "_dom_classes": [],
       "_model_module": "@jupyter-widgets/controls",
       "_model_module_version": "1.5.0",
       "_model_name": "HTMLModel",
       "_view_count": null,
       "_view_module": "@jupyter-widgets/controls",
       "_view_module_version": "1.5.0",
       "_view_name": "HTMLView",
       "description": "",
       "description_tooltip": null,
       "layout": "IPY_MODEL_e6a2ab1a2e1345e3b97e5ad65b04a84e",
       "placeholder": "​",
       "style": "IPY_MODEL_1aba24977748469fa57a41f36f01907e",
       "value": "100%"
      }
     },
     "9ba77245b7dd4fe1ac65da70a816c535": {
      "model_module": "@jupyter-widgets/controls",
      "model_module_version": "1.5.0",
      "model_name": "FloatProgressModel",
      "state": {
       "_dom_classes": [],
       "_model_module": "@jupyter-widgets/controls",
       "_model_module_version": "1.5.0",
       "_model_name": "FloatProgressModel",
       "_view_count": null,
       "_view_module": "@jupyter-widgets/controls",
       "_view_module_version": "1.5.0",
       "_view_name": "ProgressView",
       "bar_style": "success",
       "description": "",
       "description_tooltip": null,
       "layout": "IPY_MODEL_967ca0748c08462898162fee46b21102",
       "max": 1,
       "min": 0,
       "orientation": "horizontal",
       "style": "IPY_MODEL_b98347ae9f6c4bd49ac6d50a60fe5bc6",
       "value": 1
      }
     },
     "9c5d0fce94a3402ca3e218c19b7a71b9": {
      "model_module": "@jupyter-widgets/controls",
      "model_module_version": "1.5.0",
      "model_name": "HTMLModel",
      "state": {
       "_dom_classes": [],
       "_model_module": "@jupyter-widgets/controls",
       "_model_module_version": "1.5.0",
       "_model_name": "HTMLModel",
       "_view_count": null,
       "_view_module": "@jupyter-widgets/controls",
       "_view_module_version": "1.5.0",
       "_view_name": "HTMLView",
       "description": "",
       "description_tooltip": null,
       "layout": "IPY_MODEL_097c02f0afda426984c3090b3647c277",
       "placeholder": "​",
       "style": "IPY_MODEL_a45ebdd874d74fe2bae91ca53f1ff2d8",
       "value": " 578/578 [00:00&lt;00:00, 54.7kB/s]"
      }
     },
     "a03cf5c4342d456db5cdbf4338a2531b": {
      "model_module": "@jupyter-widgets/base",
      "model_module_version": "1.2.0",
      "model_name": "LayoutModel",
      "state": {
       "_model_module": "@jupyter-widgets/base",
       "_model_module_version": "1.2.0",
       "_model_name": "LayoutModel",
       "_view_count": null,
       "_view_module": "@jupyter-widgets/base",
       "_view_module_version": "1.2.0",
       "_view_name": "LayoutView",
       "align_content": null,
       "align_items": null,
       "align_self": null,
       "border": null,
       "bottom": null,
       "display": null,
       "flex": null,
       "flex_flow": null,
       "grid_area": null,
       "grid_auto_columns": null,
       "grid_auto_flow": null,
       "grid_auto_rows": null,
       "grid_column": null,
       "grid_gap": null,
       "grid_row": null,
       "grid_template_areas": null,
       "grid_template_columns": null,
       "grid_template_rows": null,
       "height": null,
       "justify_content": null,
       "justify_items": null,
       "left": null,
       "margin": null,
       "max_height": null,
       "max_width": null,
       "min_height": null,
       "min_width": null,
       "object_fit": null,
       "object_position": null,
       "order": null,
       "overflow": null,
       "overflow_x": null,
       "overflow_y": null,
       "padding": null,
       "right": null,
       "top": null,
       "visibility": null,
       "width": null
      }
     },
     "a1b9d658efbf4859b34862e5ac71637d": {
      "model_module": "@jupyter-widgets/controls",
      "model_module_version": "1.5.0",
      "model_name": "ProgressStyleModel",
      "state": {
       "_model_module": "@jupyter-widgets/controls",
       "_model_module_version": "1.5.0",
       "_model_name": "ProgressStyleModel",
       "_view_count": null,
       "_view_module": "@jupyter-widgets/base",
       "_view_module_version": "1.2.0",
       "_view_name": "StyleView",
       "bar_color": null,
       "description_width": ""
      }
     },
     "a29bc5c8b16747c8a14342c63c99a994": {
      "model_module": "@jupyter-widgets/controls",
      "model_module_version": "1.5.0",
      "model_name": "ProgressStyleModel",
      "state": {
       "_model_module": "@jupyter-widgets/controls",
       "_model_module_version": "1.5.0",
       "_model_name": "ProgressStyleModel",
       "_view_count": null,
       "_view_module": "@jupyter-widgets/base",
       "_view_module_version": "1.2.0",
       "_view_name": "StyleView",
       "bar_color": null,
       "description_width": ""
      }
     },
     "a3906d8ce24f43a3a8201c69c29561e1": {
      "model_module": "@jupyter-widgets/controls",
      "model_module_version": "1.5.0",
      "model_name": "HTMLModel",
      "state": {
       "_dom_classes": [],
       "_model_module": "@jupyter-widgets/controls",
       "_model_module_version": "1.5.0",
       "_model_name": "HTMLModel",
       "_view_count": null,
       "_view_module": "@jupyter-widgets/controls",
       "_view_module_version": "1.5.0",
       "_view_name": "HTMLView",
       "description": "",
       "description_tooltip": null,
       "layout": "IPY_MODEL_47e86e61ff2a4548844b5c84b61e1365",
       "placeholder": "​",
       "style": "IPY_MODEL_f42379a75288427fb3dbe09ee8874c03",
       "value": " 52.0/52.0 [00:00&lt;00:00, 4.37kB/s]"
      }
     },
     "a45ebdd874d74fe2bae91ca53f1ff2d8": {
      "model_module": "@jupyter-widgets/controls",
      "model_module_version": "1.5.0",
      "model_name": "DescriptionStyleModel",
      "state": {
       "_model_module": "@jupyter-widgets/controls",
       "_model_module_version": "1.5.0",
       "_model_name": "DescriptionStyleModel",
       "_view_count": null,
       "_view_module": "@jupyter-widgets/base",
       "_view_module_version": "1.2.0",
       "_view_name": "StyleView",
       "description_width": ""
      }
     },
     "ab61ed780e4c427881bfdb3c5ebd32c3": {
      "model_module": "@jupyter-widgets/base",
      "model_module_version": "1.2.0",
      "model_name": "LayoutModel",
      "state": {
       "_model_module": "@jupyter-widgets/base",
       "_model_module_version": "1.2.0",
       "_model_name": "LayoutModel",
       "_view_count": null,
       "_view_module": "@jupyter-widgets/base",
       "_view_module_version": "1.2.0",
       "_view_name": "LayoutView",
       "align_content": null,
       "align_items": null,
       "align_self": null,
       "border": null,
       "bottom": null,
       "display": null,
       "flex": null,
       "flex_flow": null,
       "grid_area": null,
       "grid_auto_columns": null,
       "grid_auto_flow": null,
       "grid_auto_rows": null,
       "grid_column": null,
       "grid_gap": null,
       "grid_row": null,
       "grid_template_areas": null,
       "grid_template_columns": null,
       "grid_template_rows": null,
       "height": null,
       "justify_content": null,
       "justify_items": null,
       "left": null,
       "margin": null,
       "max_height": null,
       "max_width": null,
       "min_height": null,
       "min_width": null,
       "object_fit": null,
       "object_position": null,
       "order": null,
       "overflow": null,
       "overflow_x": null,
       "overflow_y": null,
       "padding": null,
       "right": null,
       "top": null,
       "visibility": null,
       "width": null
      }
     },
     "af3b33681f0c4264923d9dc49ec0494e": {
      "model_module": "@jupyter-widgets/controls",
      "model_module_version": "1.5.0",
      "model_name": "HTMLModel",
      "state": {
       "_dom_classes": [],
       "_model_module": "@jupyter-widgets/controls",
       "_model_module_version": "1.5.0",
       "_model_name": "HTMLModel",
       "_view_count": null,
       "_view_module": "@jupyter-widgets/controls",
       "_view_module_version": "1.5.0",
       "_view_name": "HTMLView",
       "description": "",
       "description_tooltip": null,
       "layout": "IPY_MODEL_efcb092769a849b98f7f190e2c4b99cb",
       "placeholder": "​",
       "style": "IPY_MODEL_b0692aeefffa45efb41ec206e8cff03a",
       "value": "config.json: 100%"
      }
     },
     "afee81222ece4c648f3e3ffbf1fce791": {
      "model_module": "@jupyter-widgets/controls",
      "model_module_version": "1.5.0",
      "model_name": "FloatProgressModel",
      "state": {
       "_dom_classes": [],
       "_model_module": "@jupyter-widgets/controls",
       "_model_module_version": "1.5.0",
       "_model_name": "FloatProgressModel",
       "_view_count": null,
       "_view_module": "@jupyter-widgets/controls",
       "_view_module_version": "1.5.0",
       "_view_name": "ProgressView",
       "bar_style": "success",
       "description": "",
       "description_tooltip": null,
       "layout": "IPY_MODEL_496e43eda712436794115d903b8b7404",
       "max": 2464616,
       "min": 0,
       "orientation": "horizontal",
       "style": "IPY_MODEL_a1b9d658efbf4859b34862e5ac71637d",
       "value": 2464616
      }
     },
     "b0692aeefffa45efb41ec206e8cff03a": {
      "model_module": "@jupyter-widgets/controls",
      "model_module_version": "1.5.0",
      "model_name": "DescriptionStyleModel",
      "state": {
       "_model_module": "@jupyter-widgets/controls",
       "_model_module_version": "1.5.0",
       "_model_name": "DescriptionStyleModel",
       "_view_count": null,
       "_view_module": "@jupyter-widgets/base",
       "_view_module_version": "1.2.0",
       "_view_name": "StyleView",
       "description_width": ""
      }
     },
     "b5df803c37b343d18a90311a76f8964a": {
      "model_module": "@jupyter-widgets/base",
      "model_module_version": "1.2.0",
      "model_name": "LayoutModel",
      "state": {
       "_model_module": "@jupyter-widgets/base",
       "_model_module_version": "1.2.0",
       "_model_name": "LayoutModel",
       "_view_count": null,
       "_view_module": "@jupyter-widgets/base",
       "_view_module_version": "1.2.0",
       "_view_name": "LayoutView",
       "align_content": null,
       "align_items": null,
       "align_self": null,
       "border": null,
       "bottom": null,
       "display": null,
       "flex": null,
       "flex_flow": null,
       "grid_area": null,
       "grid_auto_columns": null,
       "grid_auto_flow": null,
       "grid_auto_rows": null,
       "grid_column": null,
       "grid_gap": null,
       "grid_row": null,
       "grid_template_areas": null,
       "grid_template_columns": null,
       "grid_template_rows": null,
       "height": null,
       "justify_content": null,
       "justify_items": null,
       "left": null,
       "margin": null,
       "max_height": null,
       "max_width": null,
       "min_height": null,
       "min_width": null,
       "object_fit": null,
       "object_position": null,
       "order": null,
       "overflow": null,
       "overflow_x": null,
       "overflow_y": null,
       "padding": null,
       "right": null,
       "top": null,
       "visibility": null,
       "width": null
      }
     },
     "b98347ae9f6c4bd49ac6d50a60fe5bc6": {
      "model_module": "@jupyter-widgets/controls",
      "model_module_version": "1.5.0",
      "model_name": "ProgressStyleModel",
      "state": {
       "_model_module": "@jupyter-widgets/controls",
       "_model_module_version": "1.5.0",
       "_model_name": "ProgressStyleModel",
       "_view_count": null,
       "_view_module": "@jupyter-widgets/base",
       "_view_module_version": "1.2.0",
       "_view_name": "StyleView",
       "bar_color": null,
       "description_width": ""
      }
     },
     "c24b2e6bb50347a787fcfb3666cef0a0": {
      "model_module": "@jupyter-widgets/base",
      "model_module_version": "1.2.0",
      "model_name": "LayoutModel",
      "state": {
       "_model_module": "@jupyter-widgets/base",
       "_model_module_version": "1.2.0",
       "_model_name": "LayoutModel",
       "_view_count": null,
       "_view_module": "@jupyter-widgets/base",
       "_view_module_version": "1.2.0",
       "_view_name": "LayoutView",
       "align_content": null,
       "align_items": null,
       "align_self": null,
       "border": null,
       "bottom": null,
       "display": null,
       "flex": null,
       "flex_flow": null,
       "grid_area": null,
       "grid_auto_columns": null,
       "grid_auto_flow": null,
       "grid_auto_rows": null,
       "grid_column": null,
       "grid_gap": null,
       "grid_row": null,
       "grid_template_areas": null,
       "grid_template_columns": null,
       "grid_template_rows": null,
       "height": null,
       "justify_content": null,
       "justify_items": null,
       "left": null,
       "margin": null,
       "max_height": null,
       "max_width": null,
       "min_height": null,
       "min_width": null,
       "object_fit": null,
       "object_position": null,
       "order": null,
       "overflow": null,
       "overflow_x": null,
       "overflow_y": null,
       "padding": null,
       "right": null,
       "top": null,
       "visibility": null,
       "width": null
      }
     },
     "c2b3465c169d4eea8d978e79e6566f74": {
      "model_module": "@jupyter-widgets/controls",
      "model_module_version": "1.5.0",
      "model_name": "ProgressStyleModel",
      "state": {
       "_model_module": "@jupyter-widgets/controls",
       "_model_module_version": "1.5.0",
       "_model_name": "ProgressStyleModel",
       "_view_count": null,
       "_view_module": "@jupyter-widgets/base",
       "_view_module_version": "1.2.0",
       "_view_name": "StyleView",
       "bar_color": null,
       "description_width": ""
      }
     },
     "c34de68346454499adf93b1073fd216c": {
      "model_module": "@jupyter-widgets/controls",
      "model_module_version": "1.5.0",
      "model_name": "HTMLModel",
      "state": {
       "_dom_classes": [],
       "_model_module": "@jupyter-widgets/controls",
       "_model_module_version": "1.5.0",
       "_model_name": "HTMLModel",
       "_view_count": null,
       "_view_module": "@jupyter-widgets/controls",
       "_view_module_version": "1.5.0",
       "_view_name": "HTMLView",
       "description": "",
       "description_tooltip": null,
       "layout": "IPY_MODEL_787ca4ff61f4487abd625104daf0f80f",
       "placeholder": "​",
       "style": "IPY_MODEL_2ba2bbd10a4a4fb58a8357cf50f6b2b1",
       "value": "100%"
      }
     },
     "cdcd8a922015469ca4d13fd7cefe1983": {
      "model_module": "@jupyter-widgets/controls",
      "model_module_version": "1.5.0",
      "model_name": "HBoxModel",
      "state": {
       "_dom_classes": [],
       "_model_module": "@jupyter-widgets/controls",
       "_model_module_version": "1.5.0",
       "_model_name": "HBoxModel",
       "_view_count": null,
       "_view_module": "@jupyter-widgets/controls",
       "_view_module_version": "1.5.0",
       "_view_name": "HBoxView",
       "box_style": "",
       "children": [
        "IPY_MODEL_c34de68346454499adf93b1073fd216c",
        "IPY_MODEL_edd11673ea01434b9a64476e88d13800",
        "IPY_MODEL_f8688cfaa17743dabb34c78d0145c61e"
       ],
       "layout": "IPY_MODEL_b5df803c37b343d18a90311a76f8964a"
      }
     },
     "d034ea74e11d422499d6f17521609854": {
      "model_module": "@jupyter-widgets/base",
      "model_module_version": "1.2.0",
      "model_name": "LayoutModel",
      "state": {
       "_model_module": "@jupyter-widgets/base",
       "_model_module_version": "1.2.0",
       "_model_name": "LayoutModel",
       "_view_count": null,
       "_view_module": "@jupyter-widgets/base",
       "_view_module_version": "1.2.0",
       "_view_name": "LayoutView",
       "align_content": null,
       "align_items": null,
       "align_self": null,
       "border": null,
       "bottom": null,
       "display": null,
       "flex": null,
       "flex_flow": null,
       "grid_area": null,
       "grid_auto_columns": null,
       "grid_auto_flow": null,
       "grid_auto_rows": null,
       "grid_column": null,
       "grid_gap": null,
       "grid_row": null,
       "grid_template_areas": null,
       "grid_template_columns": null,
       "grid_template_rows": null,
       "height": null,
       "justify_content": null,
       "justify_items": null,
       "left": null,
       "margin": null,
       "max_height": null,
       "max_width": null,
       "min_height": null,
       "min_width": null,
       "object_fit": null,
       "object_position": null,
       "order": null,
       "overflow": null,
       "overflow_x": null,
       "overflow_y": null,
       "padding": null,
       "right": null,
       "top": null,
       "visibility": null,
       "width": null
      }
     },
     "d4819884d7f84fc3a92164d10e9d7d7f": {
      "model_module": "@jupyter-widgets/base",
      "model_module_version": "1.2.0",
      "model_name": "LayoutModel",
      "state": {
       "_model_module": "@jupyter-widgets/base",
       "_model_module_version": "1.2.0",
       "_model_name": "LayoutModel",
       "_view_count": null,
       "_view_module": "@jupyter-widgets/base",
       "_view_module_version": "1.2.0",
       "_view_name": "LayoutView",
       "align_content": null,
       "align_items": null,
       "align_self": null,
       "border": null,
       "bottom": null,
       "display": null,
       "flex": null,
       "flex_flow": null,
       "grid_area": null,
       "grid_auto_columns": null,
       "grid_auto_flow": null,
       "grid_auto_rows": null,
       "grid_column": null,
       "grid_gap": null,
       "grid_row": null,
       "grid_template_areas": null,
       "grid_template_columns": null,
       "grid_template_rows": null,
       "height": null,
       "justify_content": null,
       "justify_items": null,
       "left": null,
       "margin": null,
       "max_height": null,
       "max_width": null,
       "min_height": null,
       "min_width": null,
       "object_fit": null,
       "object_position": null,
       "order": null,
       "overflow": null,
       "overflow_x": null,
       "overflow_y": null,
       "padding": null,
       "right": null,
       "top": null,
       "visibility": null,
       "width": null
      }
     },
     "d901fdef383e481d92b59335f4f32655": {
      "model_module": "@jupyter-widgets/controls",
      "model_module_version": "1.5.0",
      "model_name": "FloatProgressModel",
      "state": {
       "_dom_classes": [],
       "_model_module": "@jupyter-widgets/controls",
       "_model_module_version": "1.5.0",
       "_model_name": "FloatProgressModel",
       "_view_count": null,
       "_view_module": "@jupyter-widgets/controls",
       "_view_module_version": "1.5.0",
       "_view_name": "ProgressView",
       "bar_style": "success",
       "description": "",
       "description_tooltip": null,
       "layout": "IPY_MODEL_d9e83cab4c6842039c2b80fa226d3513",
       "max": 578,
       "min": 0,
       "orientation": "horizontal",
       "style": "IPY_MODEL_1a869cc0bbfe42ce9748ff22fa674959",
       "value": 578
      }
     },
     "d9e83cab4c6842039c2b80fa226d3513": {
      "model_module": "@jupyter-widgets/base",
      "model_module_version": "1.2.0",
      "model_name": "LayoutModel",
      "state": {
       "_model_module": "@jupyter-widgets/base",
       "_model_module_version": "1.2.0",
       "_model_name": "LayoutModel",
       "_view_count": null,
       "_view_module": "@jupyter-widgets/base",
       "_view_module_version": "1.2.0",
       "_view_name": "LayoutView",
       "align_content": null,
       "align_items": null,
       "align_self": null,
       "border": null,
       "bottom": null,
       "display": null,
       "flex": null,
       "flex_flow": null,
       "grid_area": null,
       "grid_auto_columns": null,
       "grid_auto_flow": null,
       "grid_auto_rows": null,
       "grid_column": null,
       "grid_gap": null,
       "grid_row": null,
       "grid_template_areas": null,
       "grid_template_columns": null,
       "grid_template_rows": null,
       "height": null,
       "justify_content": null,
       "justify_items": null,
       "left": null,
       "margin": null,
       "max_height": null,
       "max_width": null,
       "min_height": null,
       "min_width": null,
       "object_fit": null,
       "object_position": null,
       "order": null,
       "overflow": null,
       "overflow_x": null,
       "overflow_y": null,
       "padding": null,
       "right": null,
       "top": null,
       "visibility": null,
       "width": null
      }
     },
     "db37de902be8467fb1f62fd2b0cfd32a": {
      "model_module": "@jupyter-widgets/base",
      "model_module_version": "1.2.0",
      "model_name": "LayoutModel",
      "state": {
       "_model_module": "@jupyter-widgets/base",
       "_model_module_version": "1.2.0",
       "_model_name": "LayoutModel",
       "_view_count": null,
       "_view_module": "@jupyter-widgets/base",
       "_view_module_version": "1.2.0",
       "_view_name": "LayoutView",
       "align_content": null,
       "align_items": null,
       "align_self": null,
       "border": null,
       "bottom": null,
       "display": null,
       "flex": null,
       "flex_flow": null,
       "grid_area": null,
       "grid_auto_columns": null,
       "grid_auto_flow": null,
       "grid_auto_rows": null,
       "grid_column": null,
       "grid_gap": null,
       "grid_row": null,
       "grid_template_areas": null,
       "grid_template_columns": null,
       "grid_template_rows": null,
       "height": null,
       "justify_content": null,
       "justify_items": null,
       "left": null,
       "margin": null,
       "max_height": null,
       "max_width": null,
       "min_height": null,
       "min_width": null,
       "object_fit": null,
       "object_position": null,
       "order": null,
       "overflow": null,
       "overflow_x": null,
       "overflow_y": null,
       "padding": null,
       "right": null,
       "top": null,
       "visibility": null,
       "width": null
      }
     },
     "de5246dcee904a5c94374450681be4b3": {
      "model_module": "@jupyter-widgets/controls",
      "model_module_version": "1.5.0",
      "model_name": "HTMLModel",
      "state": {
       "_dom_classes": [],
       "_model_module": "@jupyter-widgets/controls",
       "_model_module_version": "1.5.0",
       "_model_name": "HTMLModel",
       "_view_count": null,
       "_view_module": "@jupyter-widgets/controls",
       "_view_module_version": "1.5.0",
       "_view_name": "HTMLView",
       "description": "",
       "description_tooltip": null,
       "layout": "IPY_MODEL_a03cf5c4342d456db5cdbf4338a2531b",
       "placeholder": "​",
       "style": "IPY_MODEL_67c158961961429f82d8eeb8169bef9f",
       "value": "Creating CSV from Arrow format: 100%"
      }
     },
     "e35bdd7e60e3460d87edd9d360bf4f99": {
      "model_module": "@jupyter-widgets/controls",
      "model_module_version": "1.5.0",
      "model_name": "HTMLModel",
      "state": {
       "_dom_classes": [],
       "_model_module": "@jupyter-widgets/controls",
       "_model_module_version": "1.5.0",
       "_model_name": "HTMLModel",
       "_view_count": null,
       "_view_module": "@jupyter-widgets/controls",
       "_view_module_version": "1.5.0",
       "_view_name": "HTMLView",
       "description": "",
       "description_tooltip": null,
       "layout": "IPY_MODEL_482ec7f628a44cc080111455be4b81ba",
       "placeholder": "​",
       "style": "IPY_MODEL_4b25b5ba8b3d41b49fcd358cb9ddc32d",
       "value": "tokenizer_config.json: 100%"
      }
     },
     "e4eb91c88888474ea8cc1d07191a6b61": {
      "model_module": "@jupyter-widgets/controls",
      "model_module_version": "1.5.0",
      "model_name": "HBoxModel",
      "state": {
       "_dom_classes": [],
       "_model_module": "@jupyter-widgets/controls",
       "_model_module_version": "1.5.0",
       "_model_name": "HBoxModel",
       "_view_count": null,
       "_view_module": "@jupyter-widgets/controls",
       "_view_module_version": "1.5.0",
       "_view_name": "HBoxView",
       "box_style": "",
       "children": [
        "IPY_MODEL_985b787e610745e2811e56bc7d634c14",
        "IPY_MODEL_80e2931eba2a4a2ebf079cf05625f7de",
        "IPY_MODEL_27d6e6fbb2fd4165b0f039d35f73e906"
       ],
       "layout": "IPY_MODEL_d4819884d7f84fc3a92164d10e9d7d7f"
      }
     },
     "e6a2ab1a2e1345e3b97e5ad65b04a84e": {
      "model_module": "@jupyter-widgets/base",
      "model_module_version": "1.2.0",
      "model_name": "LayoutModel",
      "state": {
       "_model_module": "@jupyter-widgets/base",
       "_model_module_version": "1.2.0",
       "_model_name": "LayoutModel",
       "_view_count": null,
       "_view_module": "@jupyter-widgets/base",
       "_view_module_version": "1.2.0",
       "_view_name": "LayoutView",
       "align_content": null,
       "align_items": null,
       "align_self": null,
       "border": null,
       "bottom": null,
       "display": null,
       "flex": null,
       "flex_flow": null,
       "grid_area": null,
       "grid_auto_columns": null,
       "grid_auto_flow": null,
       "grid_auto_rows": null,
       "grid_column": null,
       "grid_gap": null,
       "grid_row": null,
       "grid_template_areas": null,
       "grid_template_columns": null,
       "grid_template_rows": null,
       "height": null,
       "justify_content": null,
       "justify_items": null,
       "left": null,
       "margin": null,
       "max_height": null,
       "max_width": null,
       "min_height": null,
       "min_width": null,
       "object_fit": null,
       "object_position": null,
       "order": null,
       "overflow": null,
       "overflow_x": null,
       "overflow_y": null,
       "padding": null,
       "right": null,
       "top": null,
       "visibility": null,
       "width": null
      }
     },
     "e8639c9c7c2244a5a68f831827f8c56a": {
      "model_module": "@jupyter-widgets/base",
      "model_module_version": "1.2.0",
      "model_name": "LayoutModel",
      "state": {
       "_model_module": "@jupyter-widgets/base",
       "_model_module_version": "1.2.0",
       "_model_name": "LayoutModel",
       "_view_count": null,
       "_view_module": "@jupyter-widgets/base",
       "_view_module_version": "1.2.0",
       "_view_name": "LayoutView",
       "align_content": null,
       "align_items": null,
       "align_self": null,
       "border": null,
       "bottom": null,
       "display": null,
       "flex": null,
       "flex_flow": null,
       "grid_area": null,
       "grid_auto_columns": null,
       "grid_auto_flow": null,
       "grid_auto_rows": null,
       "grid_column": null,
       "grid_gap": null,
       "grid_row": null,
       "grid_template_areas": null,
       "grid_template_columns": null,
       "grid_template_rows": null,
       "height": null,
       "justify_content": null,
       "justify_items": null,
       "left": null,
       "margin": null,
       "max_height": null,
       "max_width": null,
       "min_height": null,
       "min_width": null,
       "object_fit": null,
       "object_position": null,
       "order": null,
       "overflow": null,
       "overflow_x": null,
       "overflow_y": null,
       "padding": null,
       "right": null,
       "top": null,
       "visibility": null,
       "width": null
      }
     },
     "edd11673ea01434b9a64476e88d13800": {
      "model_module": "@jupyter-widgets/controls",
      "model_module_version": "1.5.0",
      "model_name": "FloatProgressModel",
      "state": {
       "_dom_classes": [],
       "_model_module": "@jupyter-widgets/controls",
       "_model_module_version": "1.5.0",
       "_model_name": "FloatProgressModel",
       "_view_count": null,
       "_view_module": "@jupyter-widgets/controls",
       "_view_module_version": "1.5.0",
       "_view_name": "ProgressView",
       "bar_style": "success",
       "description": "",
       "description_tooltip": null,
       "layout": "IPY_MODEL_db37de902be8467fb1f62fd2b0cfd32a",
       "max": 37,
       "min": 0,
       "orientation": "horizontal",
       "style": "IPY_MODEL_34f9d9fb0b6c4d7085a08fc624d69add",
       "value": 37
      }
     },
     "edd9e38fec414a8d8d2d5e2a94be71ba": {
      "model_module": "@jupyter-widgets/controls",
      "model_module_version": "1.5.0",
      "model_name": "HTMLModel",
      "state": {
       "_dom_classes": [],
       "_model_module": "@jupyter-widgets/controls",
       "_model_module_version": "1.5.0",
       "_model_name": "HTMLModel",
       "_view_count": null,
       "_view_module": "@jupyter-widgets/controls",
       "_view_module_version": "1.5.0",
       "_view_name": "HTMLView",
       "description": "",
       "description_tooltip": null,
       "layout": "IPY_MODEL_ede2f8a8af204c698a19cc619bbb98e1",
       "placeholder": "​",
       "style": "IPY_MODEL_524b065052e04937bbd7aad88a3afe5c",
       "value": " 2.46M/2.46M [00:00&lt;00:00, 24.5MB/s]"
      }
     },
     "ede2f8a8af204c698a19cc619bbb98e1": {
      "model_module": "@jupyter-widgets/base",
      "model_module_version": "1.2.0",
      "model_name": "LayoutModel",
      "state": {
       "_model_module": "@jupyter-widgets/base",
       "_model_module_version": "1.2.0",
       "_model_name": "LayoutModel",
       "_view_count": null,
       "_view_module": "@jupyter-widgets/base",
       "_view_module_version": "1.2.0",
       "_view_name": "LayoutView",
       "align_content": null,
       "align_items": null,
       "align_self": null,
       "border": null,
       "bottom": null,
       "display": null,
       "flex": null,
       "flex_flow": null,
       "grid_area": null,
       "grid_auto_columns": null,
       "grid_auto_flow": null,
       "grid_auto_rows": null,
       "grid_column": null,
       "grid_gap": null,
       "grid_row": null,
       "grid_template_areas": null,
       "grid_template_columns": null,
       "grid_template_rows": null,
       "height": null,
       "justify_content": null,
       "justify_items": null,
       "left": null,
       "margin": null,
       "max_height": null,
       "max_width": null,
       "min_height": null,
       "min_width": null,
       "object_fit": null,
       "object_position": null,
       "order": null,
       "overflow": null,
       "overflow_x": null,
       "overflow_y": null,
       "padding": null,
       "right": null,
       "top": null,
       "visibility": null,
       "width": null
      }
     },
     "eefed72bc87a4044bea8d379fea3ca0f": {
      "model_module": "@jupyter-widgets/controls",
      "model_module_version": "1.5.0",
      "model_name": "HTMLModel",
      "state": {
       "_dom_classes": [],
       "_model_module": "@jupyter-widgets/controls",
       "_model_module_version": "1.5.0",
       "_model_name": "HTMLModel",
       "_view_count": null,
       "_view_module": "@jupyter-widgets/controls",
       "_view_module_version": "1.5.0",
       "_view_name": "HTMLView",
       "description": "",
       "description_tooltip": null,
       "layout": "IPY_MODEL_34b6d36f72224a86acaa8ab81369d458",
       "placeholder": "​",
       "style": "IPY_MODEL_2f7b10049e994746a56f718d42a481cc",
       "value": "pytorch_model.bin: 100%"
      }
     },
     "efcb092769a849b98f7f190e2c4b99cb": {
      "model_module": "@jupyter-widgets/base",
      "model_module_version": "1.2.0",
      "model_name": "LayoutModel",
      "state": {
       "_model_module": "@jupyter-widgets/base",
       "_model_module_version": "1.2.0",
       "_model_name": "LayoutModel",
       "_view_count": null,
       "_view_module": "@jupyter-widgets/base",
       "_view_module_version": "1.2.0",
       "_view_name": "LayoutView",
       "align_content": null,
       "align_items": null,
       "align_self": null,
       "border": null,
       "bottom": null,
       "display": null,
       "flex": null,
       "flex_flow": null,
       "grid_area": null,
       "grid_auto_columns": null,
       "grid_auto_flow": null,
       "grid_auto_rows": null,
       "grid_column": null,
       "grid_gap": null,
       "grid_row": null,
       "grid_template_areas": null,
       "grid_template_columns": null,
       "grid_template_rows": null,
       "height": null,
       "justify_content": null,
       "justify_items": null,
       "left": null,
       "margin": null,
       "max_height": null,
       "max_width": null,
       "min_height": null,
       "min_width": null,
       "object_fit": null,
       "object_position": null,
       "order": null,
       "overflow": null,
       "overflow_x": null,
       "overflow_y": null,
       "padding": null,
       "right": null,
       "top": null,
       "visibility": null,
       "width": null
      }
     },
     "f2588689638c4399ad049c90d4b5f317": {
      "model_module": "@jupyter-widgets/controls",
      "model_module_version": "1.5.0",
      "model_name": "HBoxModel",
      "state": {
       "_dom_classes": [],
       "_model_module": "@jupyter-widgets/controls",
       "_model_module_version": "1.5.0",
       "_model_name": "HBoxModel",
       "_view_count": null,
       "_view_module": "@jupyter-widgets/controls",
       "_view_module_version": "1.5.0",
       "_view_name": "HBoxView",
       "box_style": "",
       "children": [
        "IPY_MODEL_e35bdd7e60e3460d87edd9d360bf4f99",
        "IPY_MODEL_8989b15085014ec9ba445c550b15296e",
        "IPY_MODEL_a3906d8ce24f43a3a8201c69c29561e1"
       ],
       "layout": "IPY_MODEL_e8639c9c7c2244a5a68f831827f8c56a"
      }
     },
     "f42379a75288427fb3dbe09ee8874c03": {
      "model_module": "@jupyter-widgets/controls",
      "model_module_version": "1.5.0",
      "model_name": "DescriptionStyleModel",
      "state": {
       "_model_module": "@jupyter-widgets/controls",
       "_model_module_version": "1.5.0",
       "_model_name": "DescriptionStyleModel",
       "_view_count": null,
       "_view_module": "@jupyter-widgets/base",
       "_view_module_version": "1.2.0",
       "_view_name": "StyleView",
       "description_width": ""
      }
     },
     "f648aa4f66a64fb4b44fe68089c5d234": {
      "model_module": "@jupyter-widgets/controls",
      "model_module_version": "1.5.0",
      "model_name": "DescriptionStyleModel",
      "state": {
       "_model_module": "@jupyter-widgets/controls",
       "_model_module_version": "1.5.0",
       "_model_name": "DescriptionStyleModel",
       "_view_count": null,
       "_view_module": "@jupyter-widgets/base",
       "_view_module_version": "1.2.0",
       "_view_name": "StyleView",
       "description_width": ""
      }
     },
     "f8688cfaa17743dabb34c78d0145c61e": {
      "model_module": "@jupyter-widgets/controls",
      "model_module_version": "1.5.0",
      "model_name": "HTMLModel",
      "state": {
       "_dom_classes": [],
       "_model_module": "@jupyter-widgets/controls",
       "_model_module_version": "1.5.0",
       "_model_name": "HTMLModel",
       "_view_count": null,
       "_view_module": "@jupyter-widgets/controls",
       "_view_module_version": "1.5.0",
       "_view_name": "HTMLView",
       "description": "",
       "description_tooltip": null,
       "layout": "IPY_MODEL_06a106a4f1684654a55facdee72fd0fb",
       "placeholder": "​",
       "style": "IPY_MODEL_738c7a63f3884375a74fe0adf4a9c5a2",
       "value": " 37/37 [00:01&lt;00:00, 19.85ba/s]"
      }
     },
     "fc173d699f024d74a925cf16583e5bfb": {
      "model_module": "@jupyter-widgets/base",
      "model_module_version": "1.2.0",
      "model_name": "LayoutModel",
      "state": {
       "_model_module": "@jupyter-widgets/base",
       "_model_module_version": "1.2.0",
       "_model_name": "LayoutModel",
       "_view_count": null,
       "_view_module": "@jupyter-widgets/base",
       "_view_module_version": "1.2.0",
       "_view_name": "LayoutView",
       "align_content": null,
       "align_items": null,
       "align_self": null,
       "border": null,
       "bottom": null,
       "display": null,
       "flex": null,
       "flex_flow": null,
       "grid_area": null,
       "grid_auto_columns": null,
       "grid_auto_flow": null,
       "grid_auto_rows": null,
       "grid_column": null,
       "grid_gap": null,
       "grid_row": null,
       "grid_template_areas": null,
       "grid_template_columns": null,
       "grid_template_rows": null,
       "height": null,
       "justify_content": null,
       "justify_items": null,
       "left": null,
       "margin": null,
       "max_height": null,
       "max_width": null,
       "min_height": null,
       "min_width": null,
       "object_fit": null,
       "object_position": null,
       "order": null,
       "overflow": null,
       "overflow_x": null,
       "overflow_y": null,
       "padding": null,
       "right": null,
       "top": null,
       "visibility": null,
       "width": null
      }
     },
     "fe2c4e0e06f64eeaa9e7447e850bee0f": {
      "model_module": "@jupyter-widgets/controls",
      "model_module_version": "1.5.0",
      "model_name": "HTMLModel",
      "state": {
       "_dom_classes": [],
       "_model_module": "@jupyter-widgets/controls",
       "_model_module_version": "1.5.0",
       "_model_name": "HTMLModel",
       "_view_count": null,
       "_view_module": "@jupyter-widgets/controls",
       "_view_module_version": "1.5.0",
       "_view_name": "HTMLView",
       "description": "",
       "description_tooltip": null,
       "layout": "IPY_MODEL_fc173d699f024d74a925cf16583e5bfb",
       "placeholder": "​",
       "style": "IPY_MODEL_74ab014a90db4aeb89e639e6b5c0e6da",
       "value": " 1/1 [00:00&lt;00:00, 35.67ba/s]"
      }
     }
    },
    "version_major": 2,
    "version_minor": 0
   }
  }
 },
 "nbformat": 4,
 "nbformat_minor": 5
}
