{
  "nbformat": 4,
  "nbformat_minor": 0,
  "metadata": {
    "colab": {
      "provenance": [],
      "gpuType": "T4",
      "toc_visible": true,
      "authorship_tag": "ABX9TyOU2KkB2Ksdqk9mEKw1DxbU"
    },
    "kernelspec": {
      "name": "python3",
      "display_name": "Python 3"
    },
    "language_info": {
      "name": "python"
    },
    "accelerator": "GPU"
  },
  "cells": [
    {
      "cell_type": "code",
      "execution_count": 1,
      "metadata": {
        "id": "Oi6RZL7cLKWA",
        "colab": {
          "base_uri": "https://localhost:8080/"
        },
        "outputId": "2261b18c-b1aa-4072-edae-3b0d6cafbf77"
      },
      "outputs": [
        {
          "output_type": "stream",
          "name": "stdout",
          "text": [
            "\u001b[2K     \u001b[90m━━━━━━━━━━━━━━━━━━━━━━━━━━━━━━━━━━━━━━━━\u001b[0m \u001b[32m719.8/719.8 kB\u001b[0m \u001b[31m7.1 MB/s\u001b[0m eta \u001b[36m0:00:00\u001b[0m\n",
            "\u001b[2K     \u001b[90m━━━━━━━━━━━━━━━━━━━━━━━━━━━━━━━━━━━━━━━━\u001b[0m \u001b[32m507.1/507.1 kB\u001b[0m \u001b[31m34.6 MB/s\u001b[0m eta \u001b[36m0:00:00\u001b[0m\n",
            "\u001b[2K     \u001b[90m━━━━━━━━━━━━━━━━━━━━━━━━━━━━━━━━━━━━━━━━\u001b[0m \u001b[32m1.3/1.3 MB\u001b[0m \u001b[31m58.5 MB/s\u001b[0m eta \u001b[36m0:00:00\u001b[0m\n",
            "\u001b[2K     \u001b[90m━━━━━━━━━━━━━━━━━━━━━━━━━━━━━━━━━━━━━━━━\u001b[0m \u001b[32m115.3/115.3 kB\u001b[0m \u001b[31m16.5 MB/s\u001b[0m eta \u001b[36m0:00:00\u001b[0m\n",
            "\u001b[2K     \u001b[90m━━━━━━━━━━━━━━━━━━━━━━━━━━━━━━━━━━━━━━━━\u001b[0m \u001b[32m134.8/134.8 kB\u001b[0m \u001b[31m17.2 MB/s\u001b[0m eta \u001b[36m0:00:00\u001b[0m\n",
            "\u001b[2K     \u001b[90m━━━━━━━━━━━━━━━━━━━━━━━━━━━━━━━━━━━━━━━━\u001b[0m \u001b[32m1.6/1.6 MB\u001b[0m \u001b[31m83.9 MB/s\u001b[0m eta \u001b[36m0:00:00\u001b[0m\n",
            "\u001b[?25hMounted at /content/gdrive\n"
          ]
        }
      ],
      "source": [
        "#hide\n",
        "! [ -e /content ] && pip install -Uqq fastbook\n",
        "import fastbook\n",
        "fastbook.setup_book()"
      ]
    },
    {
      "cell_type": "code",
      "source": [
        "#hide\n",
        "from fastai.vision.all import *\n",
        "from fastbook import *\n",
        "\n",
        "matplotlib.rc('image', cmap='Greys')"
      ],
      "metadata": {
        "id": "7gKyl5NtZiUR"
      },
      "execution_count": 2,
      "outputs": []
    },
    {
      "cell_type": "markdown",
      "source": [
        "# Applying Manual Classifier just by using Math\n",
        "Using MNIST Dataset"
      ],
      "metadata": {
        "id": "CXv7X621auT5"
      }
    },
    {
      "cell_type": "code",
      "source": [
        "path = untar_data(URLs.MNIST_SAMPLE)\n",
        "Path.BASE_PATH = path\n",
        "path.ls()"
      ],
      "metadata": {
        "id": "ltsm8wx0bk-e",
        "colab": {
          "base_uri": "https://localhost:8080/",
          "height": 54
        },
        "outputId": "ef67ea18-0bf7-43dc-f83d-e9aa138511b2"
      },
      "execution_count": 3,
      "outputs": [
        {
          "output_type": "display_data",
          "data": {
            "text/plain": [
              "<IPython.core.display.HTML object>"
            ],
            "text/html": [
              "\n",
              "<style>\n",
              "    /* Turns off some styling */\n",
              "    progress {\n",
              "        /* gets rid of default border in Firefox and Opera. */\n",
              "        border: none;\n",
              "        /* Needs to be in here for Safari polyfill so background images work as expected. */\n",
              "        background-size: auto;\n",
              "    }\n",
              "    progress:not([value]), progress:not([value])::-webkit-progress-bar {\n",
              "        background: repeating-linear-gradient(45deg, #7e7e7e, #7e7e7e 10px, #5c5c5c 10px, #5c5c5c 20px);\n",
              "    }\n",
              "    .progress-bar-interrupted, .progress-bar-interrupted::-webkit-progress-bar {\n",
              "        background: #F44336;\n",
              "    }\n",
              "</style>\n"
            ]
          },
          "metadata": {}
        },
        {
          "output_type": "display_data",
          "data": {
            "text/plain": [
              "<IPython.core.display.HTML object>"
            ],
            "text/html": [
              "\n",
              "    <div>\n",
              "      <progress value='3219456' class='' max='3214948' style='width:300px; height:20px; vertical-align: middle;'></progress>\n",
              "      100.14% [3219456/3214948 00:01&lt;00:00]\n",
              "    </div>\n",
              "    "
            ]
          },
          "metadata": {}
        },
        {
          "output_type": "execute_result",
          "data": {
            "text/plain": [
              "(#3) [Path('valid'),Path('labels.csv'),Path('train')]"
            ]
          },
          "metadata": {},
          "execution_count": 3
        }
      ]
    },
    {
      "cell_type": "code",
      "source": [
        "#We are only training classifier which can classify 3 and 7\n",
        "(path/'train').ls()"
      ],
      "metadata": {
        "id": "mE3o__evcCTb",
        "colab": {
          "base_uri": "https://localhost:8080/"
        },
        "outputId": "4ba30323-9ddc-44e1-d64d-fc857b77fbc4"
      },
      "execution_count": 4,
      "outputs": [
        {
          "output_type": "execute_result",
          "data": {
            "text/plain": [
              "(#2) [Path('train/7'),Path('train/3')]"
            ]
          },
          "metadata": {},
          "execution_count": 4
        }
      ]
    },
    {
      "cell_type": "code",
      "source": [
        "threes = (path/'train'/'3').ls().sorted()\n",
        "sevens = (path/'train'/'7').ls().sorted()\n",
        "threes"
      ],
      "metadata": {
        "id": "GBo5Yldzcwpj",
        "colab": {
          "base_uri": "https://localhost:8080/"
        },
        "outputId": "f398d442-ce5e-450c-8775-48313841f42a"
      },
      "execution_count": 5,
      "outputs": [
        {
          "output_type": "execute_result",
          "data": {
            "text/plain": [
              "(#6131) [Path('train/3/10.png'),Path('train/3/10000.png'),Path('train/3/10011.png'),Path('train/3/10031.png'),Path('train/3/10034.png'),Path('train/3/10042.png'),Path('train/3/10052.png'),Path('train/3/1007.png'),Path('train/3/10074.png'),Path('train/3/10091.png')...]"
            ]
          },
          "metadata": {},
          "execution_count": 5
        }
      ]
    },
    {
      "cell_type": "code",
      "source": [
        "im3_path = threes[1]\n",
        "im3 = Image.open(im3_path)\n",
        "print(\"np:\\n\", array(im3)[4:10, 6:12])\n",
        "print(\"tensor:\\n\", tensor(im3)[4:10, 6: 12])\n",
        "im3"
      ],
      "metadata": {
        "id": "J0K4tns1c-EQ",
        "colab": {
          "base_uri": "https://localhost:8080/",
          "height": 288
        },
        "outputId": "b314fce8-4f62-4714-acf5-b05ff0c8fa4b"
      },
      "execution_count": 6,
      "outputs": [
        {
          "output_type": "stream",
          "name": "stdout",
          "text": [
            "np:\n",
            " [[  0   0   0   0   0   0]\n",
            " [  0   0   0  29 150 195]\n",
            " [  0  48 166 224 253 253]\n",
            " [244 249 253 187  46  10]\n",
            " [253 253 230  48   0   0]\n",
            " [ 20  20  15   0   0   0]]\n",
            "tensor:\n",
            " tensor([[  0,   0,   0,   0,   0,   0],\n",
            "        [  0,   0,   0,  29, 150, 195],\n",
            "        [  0,  48, 166, 224, 253, 253],\n",
            "        [244, 249, 253, 187,  46,  10],\n",
            "        [253, 253, 230,  48,   0,   0],\n",
            "        [ 20,  20,  15,   0,   0,   0]], dtype=torch.uint8)\n"
          ]
        },
        {
          "output_type": "execute_result",
          "data": {
            "text/plain": [
              "<PIL.PngImagePlugin.PngImageFile image mode=L size=28x28>"
            ],
            "image/png": "[encoded data removed]"
          },
          "metadata": {},
          "execution_count": 6
        }
      ]
    },
    {
      "cell_type": "code",
      "source": [
        "im3_t = tensor(im3)\n",
        "df = pd.DataFrame(im3_t[4:15, 4:22])\n",
        "df.style.set_properties(**{'font-size': '6pt'}).background_gradient('Blues')"
      ],
      "metadata": {
        "id": "ukPT7amxdoJL",
        "colab": {
          "base_uri": "https://localhost:8080/",
          "height": 394
        },
        "outputId": "ec908cd0-2b87-423e-ad81-aaa73d3a77ec"
      },
      "execution_count": 7,
      "outputs": [
        {
          "output_type": "execute_result",
          "data": {
            "text/plain": [
              "<pandas.io.formats.style.Styler at 0x7c9d64aa3be0>"
            ],
            "text/html": [
              "<style type=\"text/css\">\n",
              "#T_bcc9d_row0_col0, #T_bcc9d_row0_col1, #T_bcc9d_row0_col2, #T_bcc9d_row0_col3, #T_bcc9d_row0_col4, #T_bcc9d_row0_col5, #T_bcc9d_row0_col6, #T_bcc9d_row0_col7, #T_bcc9d_row0_col8, #T_bcc9d_row0_col9, #T_bcc9d_row0_col10, #T_bcc9d_row0_col11, #T_bcc9d_row0_col12, #T_bcc9d_row0_col13, #T_bcc9d_row0_col14, #T_bcc9d_row0_col15, #T_bcc9d_row0_col16, #T_bcc9d_row0_col17, #T_bcc9d_row1_col0, #T_bcc9d_row1_col1, #T_bcc9d_row1_col2, #T_bcc9d_row1_col3, #T_bcc9d_row1_col4, #T_bcc9d_row1_col15, #T_bcc9d_row1_col16, #T_bcc9d_row1_col17, #T_bcc9d_row2_col0, #T_bcc9d_row2_col1, #T_bcc9d_row2_col2, #T_bcc9d_row2_col15, #T_bcc9d_row2_col16, #T_bcc9d_row2_col17, #T_bcc9d_row3_col0, #T_bcc9d_row3_col15, #T_bcc9d_row3_col16, #T_bcc9d_row3_col17, #T_bcc9d_row4_col0, #T_bcc9d_row4_col6, #T_bcc9d_row4_col7, #T_bcc9d_row4_col8, #T_bcc9d_row4_col9, #T_bcc9d_row4_col10, #T_bcc9d_row4_col15, #T_bcc9d_row4_col16, #T_bcc9d_row4_col17, #T_bcc9d_row5_col0, #T_bcc9d_row5_col5, #T_bcc9d_row5_col6, #T_bcc9d_row5_col7, #T_bcc9d_row5_col8, #T_bcc9d_row5_col9, #T_bcc9d_row5_col15, #T_bcc9d_row5_col16, #T_bcc9d_row5_col17, #T_bcc9d_row6_col0, #T_bcc9d_row6_col1, #T_bcc9d_row6_col2, #T_bcc9d_row6_col3, #T_bcc9d_row6_col4, #T_bcc9d_row6_col5, #T_bcc9d_row6_col6, #T_bcc9d_row6_col7, #T_bcc9d_row6_col8, #T_bcc9d_row6_col9, #T_bcc9d_row6_col14, #T_bcc9d_row6_col15, #T_bcc9d_row6_col16, #T_bcc9d_row6_col17, #T_bcc9d_row7_col0, #T_bcc9d_row7_col1, #T_bcc9d_row7_col2, #T_bcc9d_row7_col3, #T_bcc9d_row7_col4, #T_bcc9d_row7_col5, #T_bcc9d_row7_col6, #T_bcc9d_row7_col13, #T_bcc9d_row7_col14, #T_bcc9d_row7_col15, #T_bcc9d_row7_col16, #T_bcc9d_row7_col17, #T_bcc9d_row8_col0, #T_bcc9d_row8_col1, #T_bcc9d_row8_col2, #T_bcc9d_row8_col3, #T_bcc9d_row8_col4, #T_bcc9d_row8_col13, #T_bcc9d_row8_col14, #T_bcc9d_row8_col15, #T_bcc9d_row8_col16, #T_bcc9d_row8_col17, #T_bcc9d_row9_col0, #T_bcc9d_row9_col1, #T_bcc9d_row9_col2, #T_bcc9d_row9_col3, #T_bcc9d_row9_col4, #T_bcc9d_row9_col16, #T_bcc9d_row9_col17, #T_bcc9d_row10_col0, #T_bcc9d_row10_col1, #T_bcc9d_row10_col2, #T_bcc9d_row10_col3, #T_bcc9d_row10_col4, #T_bcc9d_row10_col5, #T_bcc9d_row10_col6, #T_bcc9d_row10_col17 {\n",
              "  font-size: 6pt;\n",
              "  background-color: #f7fbff;\n",
              "  color: #000000;\n",
              "}\n",
              "#T_bcc9d_row1_col5 {\n",
              "  font-size: 6pt;\n",
              "  background-color: #ddeaf7;\n",
              "  color: #000000;\n",
              "}\n",
              "#T_bcc9d_row1_col6, #T_bcc9d_row1_col13 {\n",
              "  font-size: 6pt;\n",
              "  background-color: #4d99ca;\n",
              "  color: #f1f1f1;\n",
              "}\n",
              "#T_bcc9d_row1_col7 {\n",
              "  font-size: 6pt;\n",
              "  background-color: #1c6bb0;\n",
              "  color: #f1f1f1;\n",
              "}\n",
              "#T_bcc9d_row1_col8, #T_bcc9d_row1_col9, #T_bcc9d_row1_col10, #T_bcc9d_row2_col5, #T_bcc9d_row2_col6, #T_bcc9d_row2_col7, #T_bcc9d_row2_col11, #T_bcc9d_row2_col12, #T_bcc9d_row2_col13, #T_bcc9d_row3_col4, #T_bcc9d_row3_col12, #T_bcc9d_row3_col13, #T_bcc9d_row4_col1, #T_bcc9d_row4_col2, #T_bcc9d_row4_col3, #T_bcc9d_row4_col12, #T_bcc9d_row4_col13, #T_bcc9d_row5_col12, #T_bcc9d_row6_col11, #T_bcc9d_row9_col11, #T_bcc9d_row10_col11, #T_bcc9d_row10_col12, #T_bcc9d_row10_col13, #T_bcc9d_row10_col14, #T_bcc9d_row10_col15, #T_bcc9d_row10_col16 {\n",
              "  font-size: 6pt;\n",
              "  background-color: #08306b;\n",
              "  color: #f1f1f1;\n",
              "}\n",
              "#T_bcc9d_row1_col11 {\n",
              "  font-size: 6pt;\n",
              "  background-color: #2f7fbc;\n",
              "  color: #f1f1f1;\n",
              "}\n",
              "#T_bcc9d_row1_col12 {\n",
              "  font-size: 6pt;\n",
              "  background-color: #1e6db2;\n",
              "  color: #f1f1f1;\n",
              "}\n",
              "#T_bcc9d_row1_col14 {\n",
              "  font-size: 6pt;\n",
              "  background-color: #9cc9e1;\n",
              "  color: #000000;\n",
              "}\n",
              "#T_bcc9d_row2_col3 {\n",
              "  font-size: 6pt;\n",
              "  background-color: #d2e3f3;\n",
              "  color: #000000;\n",
              "}\n",
              "#T_bcc9d_row2_col4, #T_bcc9d_row8_col6 {\n",
              "  font-size: 6pt;\n",
              "  background-color: #3a8ac2;\n",
              "  color: #f1f1f1;\n",
              "}\n",
              "#T_bcc9d_row2_col8, #T_bcc9d_row2_col14, #T_bcc9d_row3_col14 {\n",
              "  font-size: 6pt;\n",
              "  background-color: #08458a;\n",
              "  color: #f1f1f1;\n",
              "}\n",
              "#T_bcc9d_row2_col9, #T_bcc9d_row3_col11 {\n",
              "  font-size: 6pt;\n",
              "  background-color: #1d6cb1;\n",
              "  color: #f1f1f1;\n",
              "}\n",
              "#T_bcc9d_row2_col10, #T_bcc9d_row7_col10, #T_bcc9d_row8_col8, #T_bcc9d_row8_col10, #T_bcc9d_row9_col8, #T_bcc9d_row9_col10 {\n",
              "  font-size: 6pt;\n",
              "  background-color: #08316d;\n",
              "  color: #f1f1f1;\n",
              "}\n",
              "#T_bcc9d_row3_col1 {\n",
              "  font-size: 6pt;\n",
              "  background-color: #09529d;\n",
              "  color: #f1f1f1;\n",
              "}\n",
              "#T_bcc9d_row3_col2 {\n",
              "  font-size: 6pt;\n",
              "  background-color: #083979;\n",
              "  color: #f1f1f1;\n",
              "}\n",
              "#T_bcc9d_row3_col3 {\n",
              "  font-size: 6pt;\n",
              "  background-color: #083471;\n",
              "  color: #f1f1f1;\n",
              "}\n",
              "#T_bcc9d_row3_col5 {\n",
              "  font-size: 6pt;\n",
              "  background-color: #105ba4;\n",
              "  color: #f1f1f1;\n",
              "}\n",
              "#T_bcc9d_row3_col6 {\n",
              "  font-size: 6pt;\n",
              "  background-color: #d3e4f3;\n",
              "  color: #000000;\n",
              "}\n",
              "#T_bcc9d_row3_col7, #T_bcc9d_row3_col10 {\n",
              "  font-size: 6pt;\n",
              "  background-color: #eff6fc;\n",
              "  color: #000000;\n",
              "}\n",
              "#T_bcc9d_row3_col8 {\n",
              "  font-size: 6pt;\n",
              "  background-color: #f1f7fd;\n",
              "  color: #000000;\n",
              "}\n",
              "#T_bcc9d_row3_col9 {\n",
              "  font-size: 6pt;\n",
              "  background-color: #f4f9fe;\n",
              "  color: #000000;\n",
              "}\n",
              "#T_bcc9d_row4_col4 {\n",
              "  font-size: 6pt;\n",
              "  background-color: #08488e;\n",
              "  color: #f1f1f1;\n",
              "}\n",
              "#T_bcc9d_row4_col5 {\n",
              "  font-size: 6pt;\n",
              "  background-color: #cde0f1;\n",
              "  color: #000000;\n",
              "}\n",
              "#T_bcc9d_row4_col11 {\n",
              "  font-size: 6pt;\n",
              "  background-color: #1f6eb3;\n",
              "  color: #f1f1f1;\n",
              "}\n",
              "#T_bcc9d_row4_col14 {\n",
              "  font-size: 6pt;\n",
              "  background-color: #4594c7;\n",
              "  color: #f1f1f1;\n",
              "}\n",
              "#T_bcc9d_row5_col1 {\n",
              "  font-size: 6pt;\n",
              "  background-color: #f2f7fd;\n",
              "  color: #000000;\n",
              "}\n",
              "#T_bcc9d_row5_col2, #T_bcc9d_row5_col3 {\n",
              "  font-size: 6pt;\n",
              "  background-color: #e7f1fa;\n",
              "  color: #000000;\n",
              "}\n",
              "#T_bcc9d_row5_col4 {\n",
              "  font-size: 6pt;\n",
              "  background-color: #ebf3fb;\n",
              "  color: #000000;\n",
              "}\n",
              "#T_bcc9d_row5_col10, #T_bcc9d_row10_col7 {\n",
              "  font-size: 6pt;\n",
              "  background-color: #d6e5f4;\n",
              "  color: #000000;\n",
              "}\n",
              "#T_bcc9d_row5_col11 {\n",
              "  font-size: 6pt;\n",
              "  background-color: #084e98;\n",
              "  color: #f1f1f1;\n",
              "}\n",
              "#T_bcc9d_row5_col13, #T_bcc9d_row6_col12 {\n",
              "  font-size: 6pt;\n",
              "  background-color: #083877;\n",
              "  color: #f1f1f1;\n",
              "}\n",
              "#T_bcc9d_row5_col14 {\n",
              "  font-size: 6pt;\n",
              "  background-color: #b9d6ea;\n",
              "  color: #000000;\n",
              "}\n",
              "#T_bcc9d_row6_col10, #T_bcc9d_row7_col11, #T_bcc9d_row9_col6 {\n",
              "  font-size: 6pt;\n",
              "  background-color: #083573;\n",
              "  color: #f1f1f1;\n",
              "}\n",
              "#T_bcc9d_row6_col13 {\n",
              "  font-size: 6pt;\n",
              "  background-color: #6caed6;\n",
              "  color: #f1f1f1;\n",
              "}\n",
              "#T_bcc9d_row7_col7 {\n",
              "  font-size: 6pt;\n",
              "  background-color: #ecf4fb;\n",
              "  color: #000000;\n",
              "}\n",
              "#T_bcc9d_row7_col8 {\n",
              "  font-size: 6pt;\n",
              "  background-color: #95c5df;\n",
              "  color: #000000;\n",
              "}\n",
              "#T_bcc9d_row7_col9 {\n",
              "  font-size: 6pt;\n",
              "  background-color: #08519c;\n",
              "  color: #f1f1f1;\n",
              "}\n",
              "#T_bcc9d_row7_col12 {\n",
              "  font-size: 6pt;\n",
              "  background-color: #6fb0d7;\n",
              "  color: #f1f1f1;\n",
              "}\n",
              "#T_bcc9d_row8_col5 {\n",
              "  font-size: 6pt;\n",
              "  background-color: #eef5fc;\n",
              "  color: #000000;\n",
              "}\n",
              "#T_bcc9d_row8_col7 {\n",
              "  font-size: 6pt;\n",
              "  background-color: #083e81;\n",
              "  color: #f1f1f1;\n",
              "}\n",
              "#T_bcc9d_row8_col9, #T_bcc9d_row9_col9 {\n",
              "  font-size: 6pt;\n",
              "  background-color: #08326e;\n",
              "  color: #f1f1f1;\n",
              "}\n",
              "#T_bcc9d_row8_col11 {\n",
              "  font-size: 6pt;\n",
              "  background-color: #2373b6;\n",
              "  color: #f1f1f1;\n",
              "}\n",
              "#T_bcc9d_row8_col12 {\n",
              "  font-size: 6pt;\n",
              "  background-color: #dfecf7;\n",
              "  color: #000000;\n",
              "}\n",
              "#T_bcc9d_row9_col5 {\n",
              "  font-size: 6pt;\n",
              "  background-color: #e9f2fa;\n",
              "  color: #000000;\n",
              "}\n",
              "#T_bcc9d_row9_col7 {\n",
              "  font-size: 6pt;\n",
              "  background-color: #083370;\n",
              "  color: #f1f1f1;\n",
              "}\n",
              "#T_bcc9d_row9_col12 {\n",
              "  font-size: 6pt;\n",
              "  background-color: #08468b;\n",
              "  color: #f1f1f1;\n",
              "}\n",
              "#T_bcc9d_row9_col13 {\n",
              "  font-size: 6pt;\n",
              "  background-color: #0e59a2;\n",
              "  color: #f1f1f1;\n",
              "}\n",
              "#T_bcc9d_row9_col14 {\n",
              "  font-size: 6pt;\n",
              "  background-color: #84bcdb;\n",
              "  color: #000000;\n",
              "}\n",
              "#T_bcc9d_row9_col15 {\n",
              "  font-size: 6pt;\n",
              "  background-color: #f5fafe;\n",
              "  color: #000000;\n",
              "}\n",
              "#T_bcc9d_row10_col8, #T_bcc9d_row10_col9 {\n",
              "  font-size: 6pt;\n",
              "  background-color: #9ac8e0;\n",
              "  color: #000000;\n",
              "}\n",
              "#T_bcc9d_row10_col10 {\n",
              "  font-size: 6pt;\n",
              "  background-color: #135fa7;\n",
              "  color: #f1f1f1;\n",
              "}\n",
              "</style>\n",
              "<table id=\"T_bcc9d\" class=\"dataframe\">\n",
              "  <thead>\n",
              "    <tr>\n",
              "      <th class=\"blank level0\" >&nbsp;</th>\n",
              "      <th id=\"T_bcc9d_level0_col0\" class=\"col_heading level0 col0\" >0</th>\n",
              "      <th id=\"T_bcc9d_level0_col1\" class=\"col_heading level0 col1\" >1</th>\n",
              "      <th id=\"T_bcc9d_level0_col2\" class=\"col_heading level0 col2\" >2</th>\n",
              "      <th id=\"T_bcc9d_level0_col3\" class=\"col_heading level0 col3\" >3</th>\n",
              "      <th id=\"T_bcc9d_level0_col4\" class=\"col_heading level0 col4\" >4</th>\n",
              "      <th id=\"T_bcc9d_level0_col5\" class=\"col_heading level0 col5\" >5</th>\n",
              "      <th id=\"T_bcc9d_level0_col6\" class=\"col_heading level0 col6\" >6</th>\n",
              "      <th id=\"T_bcc9d_level0_col7\" class=\"col_heading level0 col7\" >7</th>\n",
              "      <th id=\"T_bcc9d_level0_col8\" class=\"col_heading level0 col8\" >8</th>\n",
              "      <th id=\"T_bcc9d_level0_col9\" class=\"col_heading level0 col9\" >9</th>\n",
              "      <th id=\"T_bcc9d_level0_col10\" class=\"col_heading level0 col10\" >10</th>\n",
              "      <th id=\"T_bcc9d_level0_col11\" class=\"col_heading level0 col11\" >11</th>\n",
              "      <th id=\"T_bcc9d_level0_col12\" class=\"col_heading level0 col12\" >12</th>\n",
              "      <th id=\"T_bcc9d_level0_col13\" class=\"col_heading level0 col13\" >13</th>\n",
              "      <th id=\"T_bcc9d_level0_col14\" class=\"col_heading level0 col14\" >14</th>\n",
              "      <th id=\"T_bcc9d_level0_col15\" class=\"col_heading level0 col15\" >15</th>\n",
              "      <th id=\"T_bcc9d_level0_col16\" class=\"col_heading level0 col16\" >16</th>\n",
              "      <th id=\"T_bcc9d_level0_col17\" class=\"col_heading level0 col17\" >17</th>\n",
              "    </tr>\n",
              "  </thead>\n",
              "  <tbody>\n",
              "    <tr>\n",
              "      <th id=\"T_bcc9d_level0_row0\" class=\"row_heading level0 row0\" >0</th>\n",
              "      <td id=\"T_bcc9d_row0_col0\" class=\"data row0 col0\" >0</td>\n",
              "      <td id=\"T_bcc9d_row0_col1\" class=\"data row0 col1\" >0</td>\n",
              "      <td id=\"T_bcc9d_row0_col2\" class=\"data row0 col2\" >0</td>\n",
              "      <td id=\"T_bcc9d_row0_col3\" class=\"data row0 col3\" >0</td>\n",
              "      <td id=\"T_bcc9d_row0_col4\" class=\"data row0 col4\" >0</td>\n",
              "      <td id=\"T_bcc9d_row0_col5\" class=\"data row0 col5\" >0</td>\n",
              "      <td id=\"T_bcc9d_row0_col6\" class=\"data row0 col6\" >0</td>\n",
              "      <td id=\"T_bcc9d_row0_col7\" class=\"data row0 col7\" >0</td>\n",
              "      <td id=\"T_bcc9d_row0_col8\" class=\"data row0 col8\" >0</td>\n",
              "      <td id=\"T_bcc9d_row0_col9\" class=\"data row0 col9\" >0</td>\n",
              "      <td id=\"T_bcc9d_row0_col10\" class=\"data row0 col10\" >0</td>\n",
              "      <td id=\"T_bcc9d_row0_col11\" class=\"data row0 col11\" >0</td>\n",
              "      <td id=\"T_bcc9d_row0_col12\" class=\"data row0 col12\" >0</td>\n",
              "      <td id=\"T_bcc9d_row0_col13\" class=\"data row0 col13\" >0</td>\n",
              "      <td id=\"T_bcc9d_row0_col14\" class=\"data row0 col14\" >0</td>\n",
              "      <td id=\"T_bcc9d_row0_col15\" class=\"data row0 col15\" >0</td>\n",
              "      <td id=\"T_bcc9d_row0_col16\" class=\"data row0 col16\" >0</td>\n",
              "      <td id=\"T_bcc9d_row0_col17\" class=\"data row0 col17\" >0</td>\n",
              "    </tr>\n",
              "    <tr>\n",
              "      <th id=\"T_bcc9d_level0_row1\" class=\"row_heading level0 row1\" >1</th>\n",
              "      <td id=\"T_bcc9d_row1_col0\" class=\"data row1 col0\" >0</td>\n",
              "      <td id=\"T_bcc9d_row1_col1\" class=\"data row1 col1\" >0</td>\n",
              "      <td id=\"T_bcc9d_row1_col2\" class=\"data row1 col2\" >0</td>\n",
              "      <td id=\"T_bcc9d_row1_col3\" class=\"data row1 col3\" >0</td>\n",
              "      <td id=\"T_bcc9d_row1_col4\" class=\"data row1 col4\" >0</td>\n",
              "      <td id=\"T_bcc9d_row1_col5\" class=\"data row1 col5\" >29</td>\n",
              "      <td id=\"T_bcc9d_row1_col6\" class=\"data row1 col6\" >150</td>\n",
              "      <td id=\"T_bcc9d_row1_col7\" class=\"data row1 col7\" >195</td>\n",
              "      <td id=\"T_bcc9d_row1_col8\" class=\"data row1 col8\" >254</td>\n",
              "      <td id=\"T_bcc9d_row1_col9\" class=\"data row1 col9\" >255</td>\n",
              "      <td id=\"T_bcc9d_row1_col10\" class=\"data row1 col10\" >254</td>\n",
              "      <td id=\"T_bcc9d_row1_col11\" class=\"data row1 col11\" >176</td>\n",
              "      <td id=\"T_bcc9d_row1_col12\" class=\"data row1 col12\" >193</td>\n",
              "      <td id=\"T_bcc9d_row1_col13\" class=\"data row1 col13\" >150</td>\n",
              "      <td id=\"T_bcc9d_row1_col14\" class=\"data row1 col14\" >96</td>\n",
              "      <td id=\"T_bcc9d_row1_col15\" class=\"data row1 col15\" >0</td>\n",
              "      <td id=\"T_bcc9d_row1_col16\" class=\"data row1 col16\" >0</td>\n",
              "      <td id=\"T_bcc9d_row1_col17\" class=\"data row1 col17\" >0</td>\n",
              "    </tr>\n",
              "    <tr>\n",
              "      <th id=\"T_bcc9d_level0_row2\" class=\"row_heading level0 row2\" >2</th>\n",
              "      <td id=\"T_bcc9d_row2_col0\" class=\"data row2 col0\" >0</td>\n",
              "      <td id=\"T_bcc9d_row2_col1\" class=\"data row2 col1\" >0</td>\n",
              "      <td id=\"T_bcc9d_row2_col2\" class=\"data row2 col2\" >0</td>\n",
              "      <td id=\"T_bcc9d_row2_col3\" class=\"data row2 col3\" >48</td>\n",
              "      <td id=\"T_bcc9d_row2_col4\" class=\"data row2 col4\" >166</td>\n",
              "      <td id=\"T_bcc9d_row2_col5\" class=\"data row2 col5\" >224</td>\n",
              "      <td id=\"T_bcc9d_row2_col6\" class=\"data row2 col6\" >253</td>\n",
              "      <td id=\"T_bcc9d_row2_col7\" class=\"data row2 col7\" >253</td>\n",
              "      <td id=\"T_bcc9d_row2_col8\" class=\"data row2 col8\" >234</td>\n",
              "      <td id=\"T_bcc9d_row2_col9\" class=\"data row2 col9\" >196</td>\n",
              "      <td id=\"T_bcc9d_row2_col10\" class=\"data row2 col10\" >253</td>\n",
              "      <td id=\"T_bcc9d_row2_col11\" class=\"data row2 col11\" >253</td>\n",
              "      <td id=\"T_bcc9d_row2_col12\" class=\"data row2 col12\" >253</td>\n",
              "      <td id=\"T_bcc9d_row2_col13\" class=\"data row2 col13\" >253</td>\n",
              "      <td id=\"T_bcc9d_row2_col14\" class=\"data row2 col14\" >233</td>\n",
              "      <td id=\"T_bcc9d_row2_col15\" class=\"data row2 col15\" >0</td>\n",
              "      <td id=\"T_bcc9d_row2_col16\" class=\"data row2 col16\" >0</td>\n",
              "      <td id=\"T_bcc9d_row2_col17\" class=\"data row2 col17\" >0</td>\n",
              "    </tr>\n",
              "    <tr>\n",
              "      <th id=\"T_bcc9d_level0_row3\" class=\"row_heading level0 row3\" >3</th>\n",
              "      <td id=\"T_bcc9d_row3_col0\" class=\"data row3 col0\" >0</td>\n",
              "      <td id=\"T_bcc9d_row3_col1\" class=\"data row3 col1\" >93</td>\n",
              "      <td id=\"T_bcc9d_row3_col2\" class=\"data row3 col2\" >244</td>\n",
              "      <td id=\"T_bcc9d_row3_col3\" class=\"data row3 col3\" >249</td>\n",
              "      <td id=\"T_bcc9d_row3_col4\" class=\"data row3 col4\" >253</td>\n",
              "      <td id=\"T_bcc9d_row3_col5\" class=\"data row3 col5\" >187</td>\n",
              "      <td id=\"T_bcc9d_row3_col6\" class=\"data row3 col6\" >46</td>\n",
              "      <td id=\"T_bcc9d_row3_col7\" class=\"data row3 col7\" >10</td>\n",
              "      <td id=\"T_bcc9d_row3_col8\" class=\"data row3 col8\" >8</td>\n",
              "      <td id=\"T_bcc9d_row3_col9\" class=\"data row3 col9\" >4</td>\n",
              "      <td id=\"T_bcc9d_row3_col10\" class=\"data row3 col10\" >10</td>\n",
              "      <td id=\"T_bcc9d_row3_col11\" class=\"data row3 col11\" >194</td>\n",
              "      <td id=\"T_bcc9d_row3_col12\" class=\"data row3 col12\" >253</td>\n",
              "      <td id=\"T_bcc9d_row3_col13\" class=\"data row3 col13\" >253</td>\n",
              "      <td id=\"T_bcc9d_row3_col14\" class=\"data row3 col14\" >233</td>\n",
              "      <td id=\"T_bcc9d_row3_col15\" class=\"data row3 col15\" >0</td>\n",
              "      <td id=\"T_bcc9d_row3_col16\" class=\"data row3 col16\" >0</td>\n",
              "      <td id=\"T_bcc9d_row3_col17\" class=\"data row3 col17\" >0</td>\n",
              "    </tr>\n",
              "    <tr>\n",
              "      <th id=\"T_bcc9d_level0_row4\" class=\"row_heading level0 row4\" >4</th>\n",
              "      <td id=\"T_bcc9d_row4_col0\" class=\"data row4 col0\" >0</td>\n",
              "      <td id=\"T_bcc9d_row4_col1\" class=\"data row4 col1\" >107</td>\n",
              "      <td id=\"T_bcc9d_row4_col2\" class=\"data row4 col2\" >253</td>\n",
              "      <td id=\"T_bcc9d_row4_col3\" class=\"data row4 col3\" >253</td>\n",
              "      <td id=\"T_bcc9d_row4_col4\" class=\"data row4 col4\" >230</td>\n",
              "      <td id=\"T_bcc9d_row4_col5\" class=\"data row4 col5\" >48</td>\n",
              "      <td id=\"T_bcc9d_row4_col6\" class=\"data row4 col6\" >0</td>\n",
              "      <td id=\"T_bcc9d_row4_col7\" class=\"data row4 col7\" >0</td>\n",
              "      <td id=\"T_bcc9d_row4_col8\" class=\"data row4 col8\" >0</td>\n",
              "      <td id=\"T_bcc9d_row4_col9\" class=\"data row4 col9\" >0</td>\n",
              "      <td id=\"T_bcc9d_row4_col10\" class=\"data row4 col10\" >0</td>\n",
              "      <td id=\"T_bcc9d_row4_col11\" class=\"data row4 col11\" >192</td>\n",
              "      <td id=\"T_bcc9d_row4_col12\" class=\"data row4 col12\" >253</td>\n",
              "      <td id=\"T_bcc9d_row4_col13\" class=\"data row4 col13\" >253</td>\n",
              "      <td id=\"T_bcc9d_row4_col14\" class=\"data row4 col14\" >156</td>\n",
              "      <td id=\"T_bcc9d_row4_col15\" class=\"data row4 col15\" >0</td>\n",
              "      <td id=\"T_bcc9d_row4_col16\" class=\"data row4 col16\" >0</td>\n",
              "      <td id=\"T_bcc9d_row4_col17\" class=\"data row4 col17\" >0</td>\n",
              "    </tr>\n",
              "    <tr>\n",
              "      <th id=\"T_bcc9d_level0_row5\" class=\"row_heading level0 row5\" >5</th>\n",
              "      <td id=\"T_bcc9d_row5_col0\" class=\"data row5 col0\" >0</td>\n",
              "      <td id=\"T_bcc9d_row5_col1\" class=\"data row5 col1\" >3</td>\n",
              "      <td id=\"T_bcc9d_row5_col2\" class=\"data row5 col2\" >20</td>\n",
              "      <td id=\"T_bcc9d_row5_col3\" class=\"data row5 col3\" >20</td>\n",
              "      <td id=\"T_bcc9d_row5_col4\" class=\"data row5 col4\" >15</td>\n",
              "      <td id=\"T_bcc9d_row5_col5\" class=\"data row5 col5\" >0</td>\n",
              "      <td id=\"T_bcc9d_row5_col6\" class=\"data row5 col6\" >0</td>\n",
              "      <td id=\"T_bcc9d_row5_col7\" class=\"data row5 col7\" >0</td>\n",
              "      <td id=\"T_bcc9d_row5_col8\" class=\"data row5 col8\" >0</td>\n",
              "      <td id=\"T_bcc9d_row5_col9\" class=\"data row5 col9\" >0</td>\n",
              "      <td id=\"T_bcc9d_row5_col10\" class=\"data row5 col10\" >43</td>\n",
              "      <td id=\"T_bcc9d_row5_col11\" class=\"data row5 col11\" >224</td>\n",
              "      <td id=\"T_bcc9d_row5_col12\" class=\"data row5 col12\" >253</td>\n",
              "      <td id=\"T_bcc9d_row5_col13\" class=\"data row5 col13\" >245</td>\n",
              "      <td id=\"T_bcc9d_row5_col14\" class=\"data row5 col14\" >74</td>\n",
              "      <td id=\"T_bcc9d_row5_col15\" class=\"data row5 col15\" >0</td>\n",
              "      <td id=\"T_bcc9d_row5_col16\" class=\"data row5 col16\" >0</td>\n",
              "      <td id=\"T_bcc9d_row5_col17\" class=\"data row5 col17\" >0</td>\n",
              "    </tr>\n",
              "    <tr>\n",
              "      <th id=\"T_bcc9d_level0_row6\" class=\"row_heading level0 row6\" >6</th>\n",
              "      <td id=\"T_bcc9d_row6_col0\" class=\"data row6 col0\" >0</td>\n",
              "      <td id=\"T_bcc9d_row6_col1\" class=\"data row6 col1\" >0</td>\n",
              "      <td id=\"T_bcc9d_row6_col2\" class=\"data row6 col2\" >0</td>\n",
              "      <td id=\"T_bcc9d_row6_col3\" class=\"data row6 col3\" >0</td>\n",
              "      <td id=\"T_bcc9d_row6_col4\" class=\"data row6 col4\" >0</td>\n",
              "      <td id=\"T_bcc9d_row6_col5\" class=\"data row6 col5\" >0</td>\n",
              "      <td id=\"T_bcc9d_row6_col6\" class=\"data row6 col6\" >0</td>\n",
              "      <td id=\"T_bcc9d_row6_col7\" class=\"data row6 col7\" >0</td>\n",
              "      <td id=\"T_bcc9d_row6_col8\" class=\"data row6 col8\" >0</td>\n",
              "      <td id=\"T_bcc9d_row6_col9\" class=\"data row6 col9\" >0</td>\n",
              "      <td id=\"T_bcc9d_row6_col10\" class=\"data row6 col10\" >249</td>\n",
              "      <td id=\"T_bcc9d_row6_col11\" class=\"data row6 col11\" >253</td>\n",
              "      <td id=\"T_bcc9d_row6_col12\" class=\"data row6 col12\" >245</td>\n",
              "      <td id=\"T_bcc9d_row6_col13\" class=\"data row6 col13\" >126</td>\n",
              "      <td id=\"T_bcc9d_row6_col14\" class=\"data row6 col14\" >0</td>\n",
              "      <td id=\"T_bcc9d_row6_col15\" class=\"data row6 col15\" >0</td>\n",
              "      <td id=\"T_bcc9d_row6_col16\" class=\"data row6 col16\" >0</td>\n",
              "      <td id=\"T_bcc9d_row6_col17\" class=\"data row6 col17\" >0</td>\n",
              "    </tr>\n",
              "    <tr>\n",
              "      <th id=\"T_bcc9d_level0_row7\" class=\"row_heading level0 row7\" >7</th>\n",
              "      <td id=\"T_bcc9d_row7_col0\" class=\"data row7 col0\" >0</td>\n",
              "      <td id=\"T_bcc9d_row7_col1\" class=\"data row7 col1\" >0</td>\n",
              "      <td id=\"T_bcc9d_row7_col2\" class=\"data row7 col2\" >0</td>\n",
              "      <td id=\"T_bcc9d_row7_col3\" class=\"data row7 col3\" >0</td>\n",
              "      <td id=\"T_bcc9d_row7_col4\" class=\"data row7 col4\" >0</td>\n",
              "      <td id=\"T_bcc9d_row7_col5\" class=\"data row7 col5\" >0</td>\n",
              "      <td id=\"T_bcc9d_row7_col6\" class=\"data row7 col6\" >0</td>\n",
              "      <td id=\"T_bcc9d_row7_col7\" class=\"data row7 col7\" >14</td>\n",
              "      <td id=\"T_bcc9d_row7_col8\" class=\"data row7 col8\" >101</td>\n",
              "      <td id=\"T_bcc9d_row7_col9\" class=\"data row7 col9\" >223</td>\n",
              "      <td id=\"T_bcc9d_row7_col10\" class=\"data row7 col10\" >253</td>\n",
              "      <td id=\"T_bcc9d_row7_col11\" class=\"data row7 col11\" >248</td>\n",
              "      <td id=\"T_bcc9d_row7_col12\" class=\"data row7 col12\" >124</td>\n",
              "      <td id=\"T_bcc9d_row7_col13\" class=\"data row7 col13\" >0</td>\n",
              "      <td id=\"T_bcc9d_row7_col14\" class=\"data row7 col14\" >0</td>\n",
              "      <td id=\"T_bcc9d_row7_col15\" class=\"data row7 col15\" >0</td>\n",
              "      <td id=\"T_bcc9d_row7_col16\" class=\"data row7 col16\" >0</td>\n",
              "      <td id=\"T_bcc9d_row7_col17\" class=\"data row7 col17\" >0</td>\n",
              "    </tr>\n",
              "    <tr>\n",
              "      <th id=\"T_bcc9d_level0_row8\" class=\"row_heading level0 row8\" >8</th>\n",
              "      <td id=\"T_bcc9d_row8_col0\" class=\"data row8 col0\" >0</td>\n",
              "      <td id=\"T_bcc9d_row8_col1\" class=\"data row8 col1\" >0</td>\n",
              "      <td id=\"T_bcc9d_row8_col2\" class=\"data row8 col2\" >0</td>\n",
              "      <td id=\"T_bcc9d_row8_col3\" class=\"data row8 col3\" >0</td>\n",
              "      <td id=\"T_bcc9d_row8_col4\" class=\"data row8 col4\" >0</td>\n",
              "      <td id=\"T_bcc9d_row8_col5\" class=\"data row8 col5\" >11</td>\n",
              "      <td id=\"T_bcc9d_row8_col6\" class=\"data row8 col6\" >166</td>\n",
              "      <td id=\"T_bcc9d_row8_col7\" class=\"data row8 col7\" >239</td>\n",
              "      <td id=\"T_bcc9d_row8_col8\" class=\"data row8 col8\" >253</td>\n",
              "      <td id=\"T_bcc9d_row8_col9\" class=\"data row8 col9\" >253</td>\n",
              "      <td id=\"T_bcc9d_row8_col10\" class=\"data row8 col10\" >253</td>\n",
              "      <td id=\"T_bcc9d_row8_col11\" class=\"data row8 col11\" >187</td>\n",
              "      <td id=\"T_bcc9d_row8_col12\" class=\"data row8 col12\" >30</td>\n",
              "      <td id=\"T_bcc9d_row8_col13\" class=\"data row8 col13\" >0</td>\n",
              "      <td id=\"T_bcc9d_row8_col14\" class=\"data row8 col14\" >0</td>\n",
              "      <td id=\"T_bcc9d_row8_col15\" class=\"data row8 col15\" >0</td>\n",
              "      <td id=\"T_bcc9d_row8_col16\" class=\"data row8 col16\" >0</td>\n",
              "      <td id=\"T_bcc9d_row8_col17\" class=\"data row8 col17\" >0</td>\n",
              "    </tr>\n",
              "    <tr>\n",
              "      <th id=\"T_bcc9d_level0_row9\" class=\"row_heading level0 row9\" >9</th>\n",
              "      <td id=\"T_bcc9d_row9_col0\" class=\"data row9 col0\" >0</td>\n",
              "      <td id=\"T_bcc9d_row9_col1\" class=\"data row9 col1\" >0</td>\n",
              "      <td id=\"T_bcc9d_row9_col2\" class=\"data row9 col2\" >0</td>\n",
              "      <td id=\"T_bcc9d_row9_col3\" class=\"data row9 col3\" >0</td>\n",
              "      <td id=\"T_bcc9d_row9_col4\" class=\"data row9 col4\" >0</td>\n",
              "      <td id=\"T_bcc9d_row9_col5\" class=\"data row9 col5\" >16</td>\n",
              "      <td id=\"T_bcc9d_row9_col6\" class=\"data row9 col6\" >248</td>\n",
              "      <td id=\"T_bcc9d_row9_col7\" class=\"data row9 col7\" >250</td>\n",
              "      <td id=\"T_bcc9d_row9_col8\" class=\"data row9 col8\" >253</td>\n",
              "      <td id=\"T_bcc9d_row9_col9\" class=\"data row9 col9\" >253</td>\n",
              "      <td id=\"T_bcc9d_row9_col10\" class=\"data row9 col10\" >253</td>\n",
              "      <td id=\"T_bcc9d_row9_col11\" class=\"data row9 col11\" >253</td>\n",
              "      <td id=\"T_bcc9d_row9_col12\" class=\"data row9 col12\" >232</td>\n",
              "      <td id=\"T_bcc9d_row9_col13\" class=\"data row9 col13\" >213</td>\n",
              "      <td id=\"T_bcc9d_row9_col14\" class=\"data row9 col14\" >111</td>\n",
              "      <td id=\"T_bcc9d_row9_col15\" class=\"data row9 col15\" >2</td>\n",
              "      <td id=\"T_bcc9d_row9_col16\" class=\"data row9 col16\" >0</td>\n",
              "      <td id=\"T_bcc9d_row9_col17\" class=\"data row9 col17\" >0</td>\n",
              "    </tr>\n",
              "    <tr>\n",
              "      <th id=\"T_bcc9d_level0_row10\" class=\"row_heading level0 row10\" >10</th>\n",
              "      <td id=\"T_bcc9d_row10_col0\" class=\"data row10 col0\" >0</td>\n",
              "      <td id=\"T_bcc9d_row10_col1\" class=\"data row10 col1\" >0</td>\n",
              "      <td id=\"T_bcc9d_row10_col2\" class=\"data row10 col2\" >0</td>\n",
              "      <td id=\"T_bcc9d_row10_col3\" class=\"data row10 col3\" >0</td>\n",
              "      <td id=\"T_bcc9d_row10_col4\" class=\"data row10 col4\" >0</td>\n",
              "      <td id=\"T_bcc9d_row10_col5\" class=\"data row10 col5\" >0</td>\n",
              "      <td id=\"T_bcc9d_row10_col6\" class=\"data row10 col6\" >0</td>\n",
              "      <td id=\"T_bcc9d_row10_col7\" class=\"data row10 col7\" >43</td>\n",
              "      <td id=\"T_bcc9d_row10_col8\" class=\"data row10 col8\" >98</td>\n",
              "      <td id=\"T_bcc9d_row10_col9\" class=\"data row10 col9\" >98</td>\n",
              "      <td id=\"T_bcc9d_row10_col10\" class=\"data row10 col10\" >208</td>\n",
              "      <td id=\"T_bcc9d_row10_col11\" class=\"data row10 col11\" >253</td>\n",
              "      <td id=\"T_bcc9d_row10_col12\" class=\"data row10 col12\" >253</td>\n",
              "      <td id=\"T_bcc9d_row10_col13\" class=\"data row10 col13\" >253</td>\n",
              "      <td id=\"T_bcc9d_row10_col14\" class=\"data row10 col14\" >253</td>\n",
              "      <td id=\"T_bcc9d_row10_col15\" class=\"data row10 col15\" >187</td>\n",
              "      <td id=\"T_bcc9d_row10_col16\" class=\"data row10 col16\" >22</td>\n",
              "      <td id=\"T_bcc9d_row10_col17\" class=\"data row10 col17\" >0</td>\n",
              "    </tr>\n",
              "  </tbody>\n",
              "</table>\n"
            ]
          },
          "metadata": {},
          "execution_count": 7
        }
      ]
    },
    {
      "cell_type": "markdown",
      "source": [
        "## How to identify if its a 3 or 7?\n",
        "We can take average of all images in the folder for 3 and 7 individually; the resultant would be average or 'ideal 3' or 'ideal 7'. And later we will classify the digit is 3 or 7 by taking the difference to the ideal digits."
      ],
      "metadata": {
        "id": "J8CO0-wBec7h"
      }
    },
    {
      "cell_type": "code",
      "source": [
        "# Collecting all threes and sevens into one tensor\n",
        "three_tensor = [tensor(Image.open(o)) for o in threes]\n",
        "seven_tensor = [tensor(Image.open(o)) for o in sevens]\n",
        "len(three_tensor), len(seven_tensor)"
      ],
      "metadata": {
        "id": "m8GXjDk8fXbn",
        "colab": {
          "base_uri": "https://localhost:8080/"
        },
        "outputId": "2925749e-937e-4a80-f27c-ead9b80da8f6"
      },
      "execution_count": 8,
      "outputs": [
        {
          "output_type": "execute_result",
          "data": {
            "text/plain": [
              "(6131, 6265)"
            ]
          },
          "metadata": {},
          "execution_count": 8
        }
      ]
    },
    {
      "cell_type": "code",
      "source": [
        "show_image(three_tensor[1])"
      ],
      "metadata": {
        "id": "KDcBq21OgimI",
        "colab": {
          "base_uri": "https://localhost:8080/",
          "height": 131
        },
        "outputId": "ebecff14-223c-4b58-eba8-6e899fc77fcd"
      },
      "execution_count": 9,
      "outputs": [
        {
          "output_type": "execute_result",
          "data": {
            "text/plain": [
              "<Axes: >"
            ]
          },
          "metadata": {},
          "execution_count": 9
        },
        {
          "output_type": "display_data",
          "data": {
            "text/plain": [
              "<Figure size 100x100 with 1 Axes>"
            ],
            "image/png": "[encoded data removed]"
          },
          "metadata": {}
        }
      ]
    },
    {
      "cell_type": "code",
      "source": [
        "# stacking all the tensors into single tensor and noremalising the values inside it\n",
        "stacked_threes = torch.stack(three_tensor).float()/255\n",
        "stacked_sevens = torch.stack(seven_tensor).float()/255\n",
        "print(stacked_threes.shape, stacked_threes[1].shape)\n",
        "stacked_threes[1]  # all values has been normalised"
      ],
      "metadata": {
        "id": "8JSnQzWNgyR1",
        "colab": {
          "base_uri": "https://localhost:8080/"
        },
        "outputId": "1f90ee79-9b2c-4d73-a4ac-2679213c34bd"
      },
      "execution_count": 10,
      "outputs": [
        {
          "output_type": "stream",
          "name": "stdout",
          "text": [
            "torch.Size([6131, 28, 28]) torch.Size([28, 28])\n"
          ]
        },
        {
          "output_type": "execute_result",
          "data": {
            "text/plain": [
              "tensor([[0.0000, 0.0000, 0.0000, 0.0000, 0.0000, 0.0000, 0.0000, 0.0000, 0.0000, 0.0000, 0.0000, 0.0000, 0.0000, 0.0000, 0.0000, 0.0000, 0.0000, 0.0000, 0.0000, 0.0000, 0.0000, 0.0000, 0.0000, 0.0000,\n",
              "         0.0000, 0.0000, 0.0000, 0.0000],\n",
              "        [0.0000, 0.0000, 0.0000, 0.0000, 0.0000, 0.0000, 0.0000, 0.0000, 0.0000, 0.0000, 0.0000, 0.0000, 0.0000, 0.0000, 0.0000, 0.0000, 0.0000, 0.0000, 0.0000, 0.0000, 0.0000, 0.0000, 0.0000, 0.0000,\n",
              "         0.0000, 0.0000, 0.0000, 0.0000],\n",
              "        [0.0000, 0.0000, 0.0000, 0.0000, 0.0000, 0.0000, 0.0000, 0.0000, 0.0000, 0.0000, 0.0000, 0.0000, 0.0000, 0.0000, 0.0000, 0.0000, 0.0000, 0.0000, 0.0000, 0.0000, 0.0000, 0.0000, 0.0000, 0.0000,\n",
              "         0.0000, 0.0000, 0.0000, 0.0000],\n",
              "        [0.0000, 0.0000, 0.0000, 0.0000, 0.0000, 0.0000, 0.0000, 0.0000, 0.0000, 0.0000, 0.0000, 0.0000, 0.0000, 0.0000, 0.0000, 0.0000, 0.0000, 0.0000, 0.0000, 0.0000, 0.0000, 0.0000, 0.0000, 0.0000,\n",
              "         0.0000, 0.0000, 0.0000, 0.0000],\n",
              "        [0.0000, 0.0000, 0.0000, 0.0000, 0.0000, 0.0000, 0.0000, 0.0000, 0.0000, 0.0000, 0.0000, 0.0000, 0.0000, 0.0000, 0.0000, 0.0000, 0.0000, 0.0000, 0.0000, 0.0000, 0.0000, 0.0000, 0.0000, 0.0000,\n",
              "         0.0000, 0.0000, 0.0000, 0.0000],\n",
              "        [0.0000, 0.0000, 0.0000, 0.0000, 0.0000, 0.0000, 0.0000, 0.0000, 0.0000, 0.1137, 0.5882, 0.7647, 0.9961, 1.0000, 0.9961, 0.6902, 0.7569, 0.5882, 0.3765, 0.0000, 0.0000, 0.0000, 0.0000, 0.0000,\n",
              "         0.0000, 0.0000, 0.0000, 0.0000],\n",
              "        [0.0000, 0.0000, 0.0000, 0.0000, 0.0000, 0.0000, 0.0000, 0.1882, 0.6510, 0.8784, 0.9922, 0.9922, 0.9176, 0.7686, 0.9922, 0.9922, 0.9922, 0.9922, 0.9137, 0.0000, 0.0000, 0.0000, 0.0000, 0.0000,\n",
              "         0.0000, 0.0000, 0.0000, 0.0000],\n",
              "        [0.0000, 0.0000, 0.0000, 0.0000, 0.0000, 0.3647, 0.9569, 0.9765, 0.9922, 0.7333, 0.1804, 0.0392, 0.0314, 0.0157, 0.0392, 0.7608, 0.9922, 0.9922, 0.9137, 0.0000, 0.0000, 0.0000, 0.0000, 0.0000,\n",
              "         0.0000, 0.0000, 0.0000, 0.0000],\n",
              "        [0.0000, 0.0000, 0.0000, 0.0000, 0.0000, 0.4196, 0.9922, 0.9922, 0.9020, 0.1882, 0.0000, 0.0000, 0.0000, 0.0000, 0.0000, 0.7529, 0.9922, 0.9922, 0.6118, 0.0000, 0.0000, 0.0000, 0.0000, 0.0000,\n",
              "         0.0000, 0.0000, 0.0000, 0.0000],\n",
              "        [0.0000, 0.0000, 0.0000, 0.0000, 0.0000, 0.0118, 0.0784, 0.0784, 0.0588, 0.0000, 0.0000, 0.0000, 0.0000, 0.0000, 0.1686, 0.8784, 0.9922, 0.9608, 0.2902, 0.0000, 0.0000, 0.0000, 0.0000, 0.0000,\n",
              "         0.0000, 0.0000, 0.0000, 0.0000],\n",
              "        [0.0000, 0.0000, 0.0000, 0.0000, 0.0000, 0.0000, 0.0000, 0.0000, 0.0000, 0.0000, 0.0000, 0.0000, 0.0000, 0.0000, 0.9765, 0.9922, 0.9608, 0.4941, 0.0000, 0.0000, 0.0000, 0.0000, 0.0000, 0.0000,\n",
              "         0.0000, 0.0000, 0.0000, 0.0000],\n",
              "        [0.0000, 0.0000, 0.0000, 0.0000, 0.0000, 0.0000, 0.0000, 0.0000, 0.0000, 0.0000, 0.0000, 0.0549, 0.3961, 0.8745, 0.9922, 0.9725, 0.4863, 0.0000, 0.0000, 0.0000, 0.0000, 0.0000, 0.0000, 0.0000,\n",
              "         0.0000, 0.0000, 0.0000, 0.0000],\n",
              "        [0.0000, 0.0000, 0.0000, 0.0000, 0.0000, 0.0000, 0.0000, 0.0000, 0.0000, 0.0431, 0.6510, 0.9373, 0.9922, 0.9922, 0.9922, 0.7333, 0.1176, 0.0000, 0.0000, 0.0000, 0.0000, 0.0000, 0.0000, 0.0000,\n",
              "         0.0000, 0.0000, 0.0000, 0.0000],\n",
              "        [0.0000, 0.0000, 0.0000, 0.0000, 0.0000, 0.0000, 0.0000, 0.0000, 0.0000, 0.0627, 0.9725, 0.9804, 0.9922, 0.9922, 0.9922, 0.9922, 0.9098, 0.8353, 0.4353, 0.0078, 0.0000, 0.0000, 0.0000, 0.0000,\n",
              "         0.0000, 0.0000, 0.0000, 0.0000],\n",
              "        [0.0000, 0.0000, 0.0000, 0.0000, 0.0000, 0.0000, 0.0000, 0.0000, 0.0000, 0.0000, 0.0000, 0.1686, 0.3843, 0.3843, 0.8157, 0.9922, 0.9922, 0.9922, 0.9922, 0.7333, 0.0863, 0.0000, 0.0000, 0.0000,\n",
              "         0.0000, 0.0000, 0.0000, 0.0000],\n",
              "        [0.0000, 0.0000, 0.0000, 0.0000, 0.0000, 0.0000, 0.0000, 0.0000, 0.0000, 0.0000, 0.0000, 0.0000, 0.0000, 0.0000, 0.0353, 0.2000, 0.4667, 0.9922, 0.9922, 0.9922, 0.2980, 0.0000, 0.0000, 0.0000,\n",
              "         0.0000, 0.0000, 0.0000, 0.0000],\n",
              "        [0.0000, 0.0000, 0.0000, 0.0000, 0.0000, 0.0000, 0.0000, 0.0000, 0.0000, 0.0000, 0.0000, 0.0000, 0.0000, 0.0000, 0.0000, 0.0000, 0.0039, 0.7176, 0.9922, 0.9922, 0.5451, 0.0000, 0.0000, 0.0000,\n",
              "         0.0000, 0.0000, 0.0000, 0.0000],\n",
              "        [0.0000, 0.0000, 0.0000, 0.0000, 0.0000, 0.0000, 0.0000, 0.0000, 0.0000, 0.0000, 0.0000, 0.0000, 0.0000, 0.0000, 0.0000, 0.0000, 0.0000, 0.7137, 0.9922, 0.9922, 0.4078, 0.0000, 0.0000, 0.0000,\n",
              "         0.0000, 0.0000, 0.0000, 0.0000],\n",
              "        [0.0000, 0.0000, 0.0000, 0.0000, 0.0000, 0.0000, 0.0000, 0.0000, 0.0000, 0.0000, 0.0000, 0.0000, 0.0000, 0.0000, 0.0000, 0.0000, 0.3333, 0.9765, 0.9922, 0.9922, 0.1412, 0.0000, 0.0000, 0.0000,\n",
              "         0.0000, 0.0000, 0.0000, 0.0000],\n",
              "        [0.0000, 0.0000, 0.0000, 0.0000, 0.0000, 0.0000, 0.0000, 0.0000, 0.0000, 0.0000, 0.0000, 0.0000, 0.0000, 0.0000, 0.0000, 0.2353, 0.8392, 0.9922, 0.9922, 0.6784, 0.0431, 0.0000, 0.0000, 0.0000,\n",
              "         0.0000, 0.0000, 0.0000, 0.0000],\n",
              "        [0.0000, 0.0000, 0.0000, 0.0000, 0.0000, 0.0000, 0.0000, 0.0000, 0.0000, 0.0000, 0.0000, 0.0000, 0.0000, 0.0000, 0.3843, 0.9686, 0.9922, 0.9922, 0.8863, 0.0353, 0.0000, 0.0000, 0.0000, 0.0000,\n",
              "         0.0000, 0.0000, 0.0000, 0.0000],\n",
              "        [0.0000, 0.0000, 0.0000, 0.0000, 0.0000, 0.0000, 0.0000, 0.0000, 0.0000, 0.0000, 0.0000, 0.0000, 0.1647, 0.5882, 0.9882, 0.9922, 0.9922, 0.9137, 0.2078, 0.0000, 0.0000, 0.0000, 0.0000, 0.0000,\n",
              "         0.0000, 0.0000, 0.0000, 0.0000],\n",
              "        [0.0000, 0.0000, 0.0000, 0.0000, 0.0000, 0.0000, 0.1647, 0.4510, 0.1647, 0.2353, 0.4510, 0.6235, 0.9412, 0.9922, 0.9922, 0.9804, 0.6863, 0.0980, 0.0000, 0.0000, 0.0000, 0.0000, 0.0000, 0.0000,\n",
              "         0.0000, 0.0000, 0.0000, 0.0000],\n",
              "        [0.0000, 0.0000, 0.0000, 0.0000, 0.0000, 0.0000, 0.7333, 0.9922, 0.9922, 0.9922, 0.9922, 0.9922, 0.9922, 0.9922, 0.7725, 0.3373, 0.0000, 0.0000, 0.0000, 0.0000, 0.0000, 0.0000, 0.0000, 0.0000,\n",
              "         0.0000, 0.0000, 0.0000, 0.0000],\n",
              "        [0.0000, 0.0000, 0.0000, 0.0000, 0.0000, 0.0000, 0.4039, 0.9922, 0.9922, 0.9922, 0.9922, 0.9922, 0.9098, 0.2627, 0.0039, 0.0000, 0.0000, 0.0000, 0.0000, 0.0000, 0.0000, 0.0000, 0.0000, 0.0000,\n",
              "         0.0000, 0.0000, 0.0000, 0.0000],\n",
              "        [0.0000, 0.0000, 0.0000, 0.0000, 0.0000, 0.0000, 0.0000, 0.0000, 0.0000, 0.0000, 0.0000, 0.0000, 0.0000, 0.0000, 0.0000, 0.0000, 0.0000, 0.0000, 0.0000, 0.0000, 0.0000, 0.0000, 0.0000, 0.0000,\n",
              "         0.0000, 0.0000, 0.0000, 0.0000],\n",
              "        [0.0000, 0.0000, 0.0000, 0.0000, 0.0000, 0.0000, 0.0000, 0.0000, 0.0000, 0.0000, 0.0000, 0.0000, 0.0000, 0.0000, 0.0000, 0.0000, 0.0000, 0.0000, 0.0000, 0.0000, 0.0000, 0.0000, 0.0000, 0.0000,\n",
              "         0.0000, 0.0000, 0.0000, 0.0000],\n",
              "        [0.0000, 0.0000, 0.0000, 0.0000, 0.0000, 0.0000, 0.0000, 0.0000, 0.0000, 0.0000, 0.0000, 0.0000, 0.0000, 0.0000, 0.0000, 0.0000, 0.0000, 0.0000, 0.0000, 0.0000, 0.0000, 0.0000, 0.0000, 0.0000,\n",
              "         0.0000, 0.0000, 0.0000, 0.0000]])"
            ]
          },
          "metadata": {},
          "execution_count": 10
        }
      ]
    },
    {
      "cell_type": "code",
      "source": [
        "torch.randn(1, 3).ndim"
      ],
      "metadata": {
        "id": "2JTDtliLiwcT",
        "colab": {
          "base_uri": "https://localhost:8080/"
        },
        "outputId": "5831e046-9828-4924-e7f3-f79974885643"
      },
      "execution_count": 11,
      "outputs": [
        {
          "output_type": "execute_result",
          "data": {
            "text/plain": [
              "2"
            ]
          },
          "metadata": {},
          "execution_count": 11
        }
      ]
    },
    {
      "cell_type": "code",
      "source": [
        "# calc mean of all tensors\n",
        "mean3 = stacked_threes.mean(0)\n",
        "mean7 = stacked_sevens.mean(0)\n",
        "show_image(mean3)\n",
        "show_image(mean7)"
      ],
      "metadata": {
        "id": "t26FSeDsjU2k",
        "colab": {
          "base_uri": "https://localhost:8080/",
          "height": 228
        },
        "outputId": "1c76ecd4-6926-4e8d-e0dd-d783532ef3f3"
      },
      "execution_count": 12,
      "outputs": [
        {
          "output_type": "execute_result",
          "data": {
            "text/plain": [
              "<Axes: >"
            ]
          },
          "metadata": {},
          "execution_count": 12
        },
        {
          "output_type": "display_data",
          "data": {
            "text/plain": [
              "<Figure size 100x100 with 1 Axes>"
            ],
            "image/png": "[encoded data removed]"
          },
          "metadata": {}
        },
        {
          "output_type": "display_data",
          "data": {
            "text/plain": [
              "<Figure size 100x100 with 1 Axes>"
            ],
            "image/png": "[encoded data removed]"
          },
          "metadata": {}
        }
      ]
    },
    {
      "cell_type": "markdown",
      "source": [
        "Absolute white and absolute black are the regions where all images agree that the digit is 3 or 7."
      ],
      "metadata": {
        "id": "FsWieakOjyZp"
      }
    },
    {
      "cell_type": "code",
      "source": [
        "# Picking random 3\n",
        "a_3 = stacked_threes[1]\n",
        "show_image(a_3);"
      ],
      "metadata": {
        "id": "gD0WwL-EkEgG",
        "colab": {
          "base_uri": "https://localhost:8080/",
          "height": 114
        },
        "outputId": "d3b29f8a-866d-40c6-da3e-b6b581922084"
      },
      "execution_count": 13,
      "outputs": [
        {
          "output_type": "display_data",
          "data": {
            "text/plain": [
              "<Figure size 100x100 with 1 Axes>"
            ],
            "image/png": "[encoded data removed]"
          },
          "metadata": {}
        }
      ]
    },
    {
      "cell_type": "markdown",
      "source": [
        "## Creating a loss function"
      ],
      "metadata": {
        "id": "nELJxGD8j8gL"
      }
    },
    {
      "cell_type": "code",
      "source": [
        "# These would have low error since the digit we are trying to classify is 3\n",
        "dist_3_abs = (a_3-mean3).abs().mean()\n",
        "dist_3_sqrt = ((a_3-mean3)**2).mean().sqrt()\n",
        "# These would have high error since we are comparing 3 to ideal7\n",
        "dist_7_abs = (a_3-mean7).abs().mean()\n",
        "dist_7_sqrt = ((a_3-mean7)**2).mean().sqrt()\n",
        "\n",
        "print(dist_3_abs, dist_3_sqrt, dist_7_abs, dist_7_sqrt)"
      ],
      "metadata": {
        "id": "wSZXXQBckes-",
        "colab": {
          "base_uri": "https://localhost:8080/"
        },
        "outputId": "2c9c7beb-f069-45b8-e0ac-756d72da25a5"
      },
      "execution_count": 14,
      "outputs": [
        {
          "output_type": "stream",
          "name": "stdout",
          "text": [
            "tensor(0.1114) tensor(0.2021) tensor(0.1586) tensor(0.3021)\n"
          ]
        }
      ]
    },
    {
      "cell_type": "code",
      "source": [
        "# Same can be calculated with pytorch funtions\n",
        "F.l1_loss(a_3.float(), mean7), F.mse_loss(a_3, mean7).sqrt()"
      ],
      "metadata": {
        "id": "0VmKHNDsmjk2",
        "colab": {
          "base_uri": "https://localhost:8080/"
        },
        "outputId": "8b40533d-c374-4986-b92d-5e9cbcee165a"
      },
      "execution_count": 15,
      "outputs": [
        {
          "output_type": "execute_result",
          "data": {
            "text/plain": [
              "(tensor(0.1586), tensor(0.3021))"
            ]
          },
          "metadata": {},
          "execution_count": 15
        }
      ]
    },
    {
      "cell_type": "markdown",
      "source": [
        "##  Calculating Metrics"
      ],
      "metadata": {
        "id": "CslCcIz-m24s"
      }
    },
    {
      "cell_type": "code",
      "source": [
        "valid_3_tens = torch.stack([tensor(Image.open(o)) for o in (path/'valid'/'3').ls()])\n",
        "valid_7_tens = torch.stack([tensor(Image.open(o)) for o in (path/'valid'/'7').ls()])\n",
        "valid_3_tens = valid_3_tens.float()/255\n",
        "valid_7_tens = valid_7_tens.float()/255\n",
        "valid_3_tens.shape, valid_7_tens.shape"
      ],
      "metadata": {
        "id": "Fl6Kgf41oWNC",
        "colab": {
          "base_uri": "https://localhost:8080/"
        },
        "outputId": "c5623a8f-cc25-4a75-c1d9-3dbcc72c158b"
      },
      "execution_count": 16,
      "outputs": [
        {
          "output_type": "execute_result",
          "data": {
            "text/plain": [
              "(torch.Size([1010, 28, 28]), torch.Size([1028, 28, 28]))"
            ]
          },
          "metadata": {},
          "execution_count": 16
        }
      ]
    },
    {
      "cell_type": "code",
      "source": [
        "# Creating a mnist distance function which is nothing but l1_loss\n",
        "def mnist_distance(a,b): return (a-b).abs().mean((-1, -2))\n",
        "mnist_distance(a_3, mean3)"
      ],
      "metadata": {
        "id": "Ru1E5KzSpUaZ",
        "colab": {
          "base_uri": "https://localhost:8080/"
        },
        "outputId": "5cfe89d5-9818-47d5-a4f9-871fe60cecac"
      },
      "execution_count": 17,
      "outputs": [
        {
          "output_type": "execute_result",
          "data": {
            "text/plain": [
              "tensor(0.1114)"
            ]
          },
          "metadata": {},
          "execution_count": 17
        }
      ]
    },
    {
      "cell_type": "code",
      "source": [
        "# Calculating distance for the entire validation set\n",
        "# We are supplying [1010, 28, 28] shaped tensor to be calculated with [28 * 28]\n",
        "# PyTorch automatically broadcasts the mean3 tensor to the same number of valid set\n",
        "valid_3_dist = mnist_distance(valid_3_tens, mean3)\n",
        "valid_3_dist, valid_3_dist.shape"
      ],
      "metadata": {
        "id": "DOIXTXSyp9s2",
        "colab": {
          "base_uri": "https://localhost:8080/"
        },
        "outputId": "11f60048-ceed-4bba-e39c-8479e5a4eff7"
      },
      "execution_count": 18,
      "outputs": [
        {
          "output_type": "execute_result",
          "data": {
            "text/plain": [
              "(tensor([0.1663, 0.1148, 0.1325,  ..., 0.1173, 0.1100, 0.1460]),\n",
              " torch.Size([1010]))"
            ]
          },
          "metadata": {},
          "execution_count": 18
        }
      ]
    },
    {
      "cell_type": "code",
      "source": [
        "# Putting everything together\n",
        "def is_3(x): return mnist_distance(x, mean3) < mnist_distance(x, mean7)"
      ],
      "metadata": {
        "id": "p10AgvfQqp7c"
      },
      "execution_count": 19,
      "outputs": []
    },
    {
      "cell_type": "code",
      "source": [
        "# Prediction\n",
        "is_3(a_3), is_3(a_3).float()"
      ],
      "metadata": {
        "id": "Pq_TjJlorpro",
        "colab": {
          "base_uri": "https://localhost:8080/"
        },
        "outputId": "fb6dd7cf-8998-48da-cd95-ac40dfc64131"
      },
      "execution_count": 20,
      "outputs": [
        {
          "output_type": "execute_result",
          "data": {
            "text/plain": [
              "(tensor(True), tensor(1.))"
            ]
          },
          "metadata": {},
          "execution_count": 20
        }
      ]
    },
    {
      "cell_type": "markdown",
      "source": [
        "Above is true since difference between `ideal3` and `a_3` is lower than `ideal7` and `a_7`"
      ],
      "metadata": {
        "id": "AhMz6RKokbzw"
      }
    },
    {
      "cell_type": "code",
      "source": [
        "# Validation set\n",
        "is_3(valid_3_tens)"
      ],
      "metadata": {
        "id": "aCASa9MMr1Jp",
        "colab": {
          "base_uri": "https://localhost:8080/"
        },
        "outputId": "581e9e40-82c5-42e5-fa21-d496dbe66f10"
      },
      "execution_count": 21,
      "outputs": [
        {
          "output_type": "execute_result",
          "data": {
            "text/plain": [
              "tensor([False,  True,  True,  ...,  True,  True,  True])"
            ]
          },
          "metadata": {},
          "execution_count": 21
        }
      ]
    },
    {
      "cell_type": "code",
      "source": [
        "accuracy_3s =     is_3(valid_3_tens).float().mean()\n",
        "accuracy_7s = 1 - is_3(valid_7_tens).float().mean()\n",
        "accuracy_3s, accuracy_7s, (accuracy_3s + accuracy_7s)/2"
      ],
      "metadata": {
        "id": "M9Trkm_ir9AQ",
        "colab": {
          "base_uri": "https://localhost:8080/"
        },
        "outputId": "57453472-c756-4115-bda4-fce581d80c16"
      },
      "execution_count": 22,
      "outputs": [
        {
          "output_type": "execute_result",
          "data": {
            "text/plain": [
              "(tensor(0.9168), tensor(0.9854), tensor(0.9511))"
            ]
          },
          "metadata": {},
          "execution_count": 22
        }
      ]
    },
    {
      "cell_type": "markdown",
      "source": [
        "# Stochastic Gradient Descent (SGD)\n",
        "`x` is an image which is represented as vector ie, rows stacked up end to end. `w` is the weight vector for each pixel."
      ],
      "metadata": {
        "id": "wlNMv0pDsxoT"
      }
    },
    {
      "cell_type": "code",
      "source": [
        "def f(x): return x**2\n",
        "plot_function(f, 'x', 'x**2')"
      ],
      "metadata": {
        "id": "cKsAPsPOxjmL",
        "colab": {
          "base_uri": "https://localhost:8080/",
          "height": 396
        },
        "outputId": "fbbaceb9-32dc-428a-afd1-8ed2f80d19a0"
      },
      "execution_count": 23,
      "outputs": [
        {
          "output_type": "display_data",
          "data": {
            "text/plain": [
              "<Figure size 600x400 with 1 Axes>"
            ],
            "image/png": "[encoded data removed]"
          },
          "metadata": {}
        }
      ]
    },
    {
      "cell_type": "code",
      "source": [
        "plot_function(f, 'x', 'x**2')\n",
        "plt.scatter(-1.5, f(-1.5), color='red')"
      ],
      "metadata": {
        "id": "B2IrN4aZng-x",
        "colab": {
          "base_uri": "https://localhost:8080/",
          "height": 413
        },
        "outputId": "43b2e2a6-2f66-4f9d-c847-dfe50a9f7a8b"
      },
      "execution_count": 24,
      "outputs": [
        {
          "output_type": "execute_result",
          "data": {
            "text/plain": [
              "<matplotlib.collections.PathCollection at 0x7c9d6142e890>"
            ]
          },
          "metadata": {},
          "execution_count": 24
        },
        {
          "output_type": "display_data",
          "data": {
            "text/plain": [
              "<Figure size 600x400 with 1 Axes>"
            ],
            "image/png": "[encoded data removed]"
          },
          "metadata": {}
        }
      ]
    },
    {
      "cell_type": "code",
      "source": [
        "# pytorch tags this variable to automatically compute the derivative of newarly all function.\n",
        "xt= tensor(3.).requires_grad_()\n",
        "yt = f(xt)\n",
        "yt"
      ],
      "metadata": {
        "id": "05hRX2zDqIR6",
        "colab": {
          "base_uri": "https://localhost:8080/"
        },
        "outputId": "df294099-f94d-4b0c-d01d-8440aee71cfc"
      },
      "execution_count": 25,
      "outputs": [
        {
          "output_type": "execute_result",
          "data": {
            "text/plain": [
              "tensor(9., grad_fn=<PowBackward0>)"
            ]
          },
          "metadata": {},
          "execution_count": 25
        }
      ]
    },
    {
      "cell_type": "code",
      "source": [
        "yt.backward()\n",
        "xt.grad"
      ],
      "metadata": {
        "id": "JiY6PwTPq2Yx",
        "colab": {
          "base_uri": "https://localhost:8080/"
        },
        "outputId": "35cd74ee-e585-4a6a-fc4c-ff18f20b080a"
      },
      "execution_count": 26,
      "outputs": [
        {
          "output_type": "execute_result",
          "data": {
            "text/plain": [
              "tensor(6.)"
            ]
          },
          "metadata": {},
          "execution_count": 26
        }
      ]
    },
    {
      "cell_type": "code",
      "source": [
        "# Calculating gradients for other tensor\n",
        "xt = tensor([3., 4., 10.]).requires_grad_()\n",
        "xt"
      ],
      "metadata": {
        "id": "AgdXdm0NrVSX",
        "colab": {
          "base_uri": "https://localhost:8080/"
        },
        "outputId": "007441d0-cf97-4ced-87d7-11a3d7721960"
      },
      "execution_count": 27,
      "outputs": [
        {
          "output_type": "execute_result",
          "data": {
            "text/plain": [
              "tensor([ 3.,  4., 10.], requires_grad=True)"
            ]
          },
          "metadata": {},
          "execution_count": 27
        }
      ]
    },
    {
      "cell_type": "code",
      "source": [
        "def f(x): return(x**2).sum()\n",
        "yt = f(xt)\n",
        "print(yt)\n",
        "yt.backward()\n",
        "xt.grad"
      ],
      "metadata": {
        "id": "OjrSO084ryQT",
        "colab": {
          "base_uri": "https://localhost:8080/"
        },
        "outputId": "4dbb9582-83e8-481d-fb31-edf39fdda874"
      },
      "execution_count": 28,
      "outputs": [
        {
          "output_type": "stream",
          "name": "stdout",
          "text": [
            "tensor(125., grad_fn=<SumBackward0>)\n"
          ]
        },
        {
          "output_type": "execute_result",
          "data": {
            "text/plain": [
              "tensor([ 6.,  8., 20.])"
            ]
          },
          "metadata": {},
          "execution_count": 28
        }
      ]
    },
    {
      "cell_type": "markdown",
      "source": [
        "# End to end SGD example"
      ],
      "metadata": {
        "id": "w4Y9Hg9ptW4B"
      }
    },
    {
      "cell_type": "code",
      "source": [
        "time = torch.arange(0,20).float(); time"
      ],
      "metadata": {
        "id": "OV3h9qvOtbfx",
        "colab": {
          "base_uri": "https://localhost:8080/"
        },
        "outputId": "f407568e-8784-4ca2-b9c2-4e5d65395bc1"
      },
      "execution_count": 29,
      "outputs": [
        {
          "output_type": "execute_result",
          "data": {
            "text/plain": [
              "tensor([ 0.,  1.,  2.,  3.,  4.,  5.,  6.,  7.,  8.,  9., 10., 11., 12., 13., 14., 15., 16., 17., 18., 19.])"
            ]
          },
          "metadata": {},
          "execution_count": 29
        }
      ]
    },
    {
      "cell_type": "code",
      "source": [
        "speed = torch.randn(20)*3 + 0.75*(time-9.5)**2 + 1\n",
        "plt.scatter(time,speed);"
      ],
      "metadata": {
        "id": "H1ZBAAZKtqPF",
        "colab": {
          "base_uri": "https://localhost:8080/",
          "height": 434
        },
        "outputId": "51958056-837b-4c61-a4b4-ba3a826ac875"
      },
      "execution_count": 30,
      "outputs": [
        {
          "output_type": "display_data",
          "data": {
            "text/plain": [
              "<Figure size 640x480 with 1 Axes>"
            ],
            "image/png": "[encoded data removed]"
          },
          "metadata": {}
        }
      ]
    },
    {
      "cell_type": "code",
      "source": [
        "# We are assuming that the speed of the roller coaster is in quadratic form\n",
        "def f(t, params):\n",
        "  a,b,c = params\n",
        "  return a*(t**2) + b*t + c"
      ],
      "metadata": {
        "id": "TkGJbdnW1xVL"
      },
      "execution_count": 31,
      "outputs": []
    },
    {
      "cell_type": "code",
      "source": [
        "# loss function\n",
        "# For continous data the MSE is used commonly\n",
        "def mse(preds, targets): return ((preds-targets)**2).mean()"
      ],
      "metadata": {
        "id": "vEc9dcIg2Uuf"
      },
      "execution_count": 32,
      "outputs": []
    },
    {
      "cell_type": "code",
      "source": [
        "# Step 1: Intializing the parameters\n",
        "params = torch.randn(3).requires_grad_()\n",
        "orig_params = params.clone()"
      ],
      "metadata": {
        "id": "L2Xx_qja2WOC"
      },
      "execution_count": 33,
      "outputs": []
    },
    {
      "cell_type": "code",
      "source": [
        "# Step 2: Calculate the predictions\n",
        "preds = f(time, params)"
      ],
      "metadata": {
        "id": "opaMi3Qk3Hz1"
      },
      "execution_count": 34,
      "outputs": []
    },
    {
      "cell_type": "code",
      "source": [
        "def show_preds(preds, ax=None):\n",
        "  if ax is None: ax=plt.subplots()[1]\n",
        "  ax.scatter(time, speed)\n",
        "  ax.scatter(time, to_np(preds), color='red')\n",
        "  ax.set_ylim(-300, 100)\n",
        "\n",
        "show_preds(preds)"
      ],
      "metadata": {
        "id": "1NhveYwo6SQV",
        "colab": {
          "base_uri": "https://localhost:8080/",
          "height": 441
        },
        "outputId": "b0c2ead9-7cf8-4df0-a1a7-4de679dad77b"
      },
      "execution_count": 35,
      "outputs": [
        {
          "output_type": "display_data",
          "data": {
            "text/plain": [
              "<Figure size 640x480 with 1 Axes>"
            ],
            "image/png": "[encoded data removed]"
          },
          "metadata": {}
        }
      ]
    },
    {
      "cell_type": "code",
      "source": [
        "## STEP 3: Caclulate loss\n",
        "loss = mse(preds, speed)\n",
        "loss"
      ],
      "metadata": {
        "id": "8H_EsVAw62um",
        "colab": {
          "base_uri": "https://localhost:8080/"
        },
        "outputId": "9d7fd17b-1bf3-4385-b056-5cc612e59fe8"
      },
      "execution_count": 36,
      "outputs": [
        {
          "output_type": "execute_result",
          "data": {
            "text/plain": [
              "tensor(817.4172, grad_fn=<MeanBackward0>)"
            ]
          },
          "metadata": {},
          "execution_count": 36
        }
      ]
    },
    {
      "cell_type": "code",
      "source": [
        "## STEP 4: Calculate gradient\n",
        "loss.backward()\n",
        "params.grad"
      ],
      "metadata": {
        "id": "8ge4t7Te7E_f",
        "colab": {
          "base_uri": "https://localhost:8080/"
        },
        "outputId": "35eced95-fda8-4230-a144-79554871b5ba"
      },
      "execution_count": 37,
      "outputs": [
        {
          "output_type": "execute_result",
          "data": {
            "text/plain": [
              "tensor([4.5169e+03, 2.9541e+02, 2.5931e+00])"
            ]
          },
          "metadata": {},
          "execution_count": 37
        }
      ]
    },
    {
      "cell_type": "code",
      "source": [
        "## STEP 5: Stepping\n",
        "lr = 1e-5\n",
        "params.data -= lr * params.grad.data\n",
        "params.grad = None"
      ],
      "metadata": {
        "id": "1O6Ftvuo7JXX"
      },
      "execution_count": 38,
      "outputs": []
    },
    {
      "cell_type": "code",
      "source": [
        "## STEP 6: Iterate\n",
        "preds = f(time, params)\n",
        "loss = mse(preds, speed)\n",
        "loss"
      ],
      "metadata": {
        "id": "WxYXZFXK8z9U",
        "colab": {
          "base_uri": "https://localhost:8080/"
        },
        "outputId": "1d178a7a-a584-4b82-da20-6438ebf27370"
      },
      "execution_count": 39,
      "outputs": [
        {
          "output_type": "execute_result",
          "data": {
            "text/plain": [
              "tensor(670.3992, grad_fn=<MeanBackward0>)"
            ]
          },
          "metadata": {},
          "execution_count": 39
        }
      ]
    },
    {
      "cell_type": "code",
      "source": [
        "show_preds(preds)"
      ],
      "metadata": {
        "id": "ZvMgqOIx9nQP",
        "colab": {
          "base_uri": "https://localhost:8080/",
          "height": 441
        },
        "outputId": "a27acf72-7e1e-43e7-ece0-b95d6250d5e6"
      },
      "execution_count": 40,
      "outputs": [
        {
          "output_type": "display_data",
          "data": {
            "text/plain": [
              "<Figure size 640x480 with 1 Axes>"
            ],
            "image/png": "[encoded data removed]"
          },
          "metadata": {}
        }
      ]
    },
    {
      "cell_type": "code",
      "source": [
        "def apply_step(params, prn = True):\n",
        "  preds = f(time, params)\n",
        "  loss = mse(preds, speed)\n",
        "  loss.backward()\n",
        "  params.data -= lr * params.grad\n",
        "  params.grad = None\n",
        "  if prn: print(loss.item())\n",
        "  return preds"
      ],
      "metadata": {
        "id": "6jbyZceY9S0g"
      },
      "execution_count": 41,
      "outputs": []
    },
    {
      "cell_type": "code",
      "source": [
        "for i in range(10): apply_step(params)"
      ],
      "metadata": {
        "id": "BV9gfKRR9cQd",
        "colab": {
          "base_uri": "https://localhost:8080/"
        },
        "outputId": "05c7a35d-e0be-4af8-8682-46b0087b04cf"
      },
      "execution_count": 42,
      "outputs": [
        {
          "output_type": "stream",
          "name": "stdout",
          "text": [
            "670.3992309570312\n",
            "642.5762939453125\n",
            "637.3087158203125\n",
            "636.3092041015625\n",
            "636.117431640625\n",
            "636.0784912109375\n",
            "636.0684814453125\n",
            "636.0640258789062\n",
            "636.0604248046875\n",
            "636.05712890625\n"
          ]
        }
      ]
    },
    {
      "cell_type": "code",
      "source": [
        "_, axs = plt.subplots(1, 4, figsize=(12, 3))\n",
        "for ax in axs: show_preds(apply_step(params, False), ax)\n",
        "plt.tight_layout()"
      ],
      "metadata": {
        "colab": {
          "base_uri": "https://localhost:8080/",
          "height": 300
        },
        "id": "4Aszp1Aq_NGX",
        "outputId": "f13a2fc4-bc23-4226-af06-e91eb403f0a2"
      },
      "execution_count": 43,
      "outputs": [
        {
          "output_type": "display_data",
          "data": {
            "text/plain": [
              "<Figure size 1200x300 with 4 Axes>"
            ],
            "image/png": "[encoded data removed]"
          },
          "metadata": {}
        }
      ]
    },
    {
      "cell_type": "markdown",
      "source": [
        "We have stopped after 10 epochs arbitarily."
      ],
      "metadata": {
        "id": "h-xlY7BZAXwF"
      }
    },
    {
      "cell_type": "markdown",
      "source": [
        "# MNIST Loss Function\n",
        "Converting our rank-3 tensor ie, stacked_3s and stacked_7s into rank-2 tensor; view is used to set the length of tensor; -1 states that tensor can be as big as it needs to fit all the data"
      ],
      "metadata": {
        "id": "vKJycZ1-GMJX"
      }
    },
    {
      "cell_type": "code",
      "source": [
        "train_x = torch.cat([stacked_threes, stacked_sevens]).view(-1,28 * 28)"
      ],
      "metadata": {
        "id": "GKcyreOkFjgv"
      },
      "execution_count": 46,
      "outputs": []
    },
    {
      "cell_type": "code",
      "source": [
        "train_y = tensor([1]*len(threes) + [0]*len(sevens)).unsqueeze(1)"
      ],
      "metadata": {
        "id": "rLfLJGgQGJsd"
      },
      "execution_count": 49,
      "outputs": []
    },
    {
      "cell_type": "markdown",
      "source": [
        "Dataset in PyTorch is required to return a tuple of (x,y) when indexed. We can use zip function which combines list"
      ],
      "metadata": {
        "id": "rhboNwOSHZUh"
      }
    },
    {
      "cell_type": "code",
      "source": [
        "dset = list(zip(train_x, train_y))\n",
        "x, y = dset[0]\n",
        "x,y"
      ],
      "metadata": {
        "colab": {
          "base_uri": "https://localhost:8080/"
        },
        "id": "Hf4gaZnoM0nb",
        "outputId": "8394b0ea-400b-49d2-9c0e-00ed7c434eb5"
      },
      "execution_count": 52,
      "outputs": [
        {
          "output_type": "execute_result",
          "data": {
            "text/plain": [
              "(tensor([0.0000, 0.0000, 0.0000, 0.0000, 0.0000, 0.0000, 0.0000, 0.0000, 0.0000, 0.0000, 0.0000, 0.0000, 0.0000, 0.0000, 0.0000, 0.0000, 0.0000, 0.0000, 0.0000, 0.0000, 0.0000, 0.0000, 0.0000, 0.0000,\n",
              "         0.0000, 0.0000, 0.0000, 0.0000, 0.0000, 0.0000, 0.0000, 0.0000, 0.0000, 0.0000, 0.0000, 0.0000, 0.0000, 0.0000, 0.0000, 0.0000, 0.0000, 0.0000, 0.0000, 0.0000, 0.0000, 0.0000, 0.0000, 0.0000,\n",
              "         0.0000, 0.0000, 0.0000, 0.0000, 0.0000, 0.0000, 0.0000, 0.0000, 0.0000, 0.0000, 0.0000, 0.0000, 0.0000, 0.0000, 0.0000, 0.0000, 0.0000, 0.0000, 0.0000, 0.0000, 0.0000, 0.0000, 0.0000, 0.0000,\n",
              "         0.0000, 0.0000, 0.0000, 0.0000, 0.0000, 0.0000, 0.0000, 0.0000, 0.0000, 0.0000, 0.0000, 0.0000, 0.0000, 0.0000, 0.0000, 0.0000, 0.0000, 0.0000, 0.0000, 0.0000, 0.0000, 0.0000, 0.0000, 0.0000,\n",
              "         0.0000, 0.0000, 0.0000, 0.0000, 0.0000, 0.0000, 0.0000, 0.0000, 0.0000, 0.0000, 0.0000, 0.0000, 0.0000, 0.0000, 0.0000, 0.0000, 0.0000, 0.0000, 0.0000, 0.0000, 0.0000, 0.0000, 0.0000, 0.0000,\n",
              "         0.0000, 0.0000, 0.0000, 0.1647, 0.4627, 0.8588, 0.6510, 0.4627, 0.4627, 0.0235, 0.0000, 0.0000, 0.0000, 0.0000, 0.0000, 0.0000, 0.0000, 0.0000, 0.0000, 0.0000, 0.0000, 0.0000, 0.0000, 0.0000,\n",
              "         0.0000, 0.0000, 0.0000, 0.0000, 0.0000, 0.0000, 0.4039, 0.9490, 0.9961, 0.9961, 0.9961, 0.9961, 0.9961, 0.2588, 0.0000, 0.0000, 0.0000, 0.0000, 0.0000, 0.0000, 0.0000, 0.0000, 0.0000, 0.0000,\n",
              "         0.0000, 0.0000, 0.0000, 0.0000, 0.0000, 0.0000, 0.0000, 0.0000, 0.0000, 0.0000, 0.0706, 0.9098, 0.9961, 0.9961, 0.9961, 0.9961, 0.9961, 0.9333, 0.2745, 0.0000, 0.0000, 0.0000, 0.0000, 0.0000,\n",
              "         0.0000, 0.0000, 0.0000, 0.0000, 0.0000, 0.0000, 0.0000, 0.0000, 0.0000, 0.0000, 0.0000, 0.0000, 0.0000, 0.0000, 0.0000, 0.4078, 0.9569, 0.9961, 0.8784, 0.9961, 0.9961, 0.9961, 0.5529, 0.0000,\n",
              "         0.0000, 0.0000, 0.0000, 0.0000, 0.0000, 0.0000, 0.0000, 0.0000, 0.0000, 0.0000, 0.0000, 0.0000, 0.0000, 0.0000, 0.0000, 0.0000, 0.0000, 0.0000, 0.0000, 0.0000, 0.8118, 0.9961, 0.8235, 0.9961,\n",
              "         0.9961, 0.9961, 0.1333, 0.0000, 0.0000, 0.0000, 0.0000, 0.0000, 0.0000, 0.0000, 0.0000, 0.0000, 0.0000, 0.0000, 0.0000, 0.0000, 0.0000, 0.0000, 0.0000, 0.0000, 0.0000, 0.0000, 0.0000, 0.0000,\n",
              "         0.3294, 0.8078, 0.9961, 0.9961, 0.9961, 0.9961, 0.1608, 0.0000, 0.0000, 0.0000, 0.0000, 0.0000, 0.0000, 0.0000, 0.0000, 0.0000, 0.0000, 0.0000, 0.0000, 0.0000, 0.0000, 0.0000, 0.0000, 0.0000,\n",
              "         0.0000, 0.0000, 0.0000, 0.0000, 0.0000, 0.0941, 0.8196, 0.9961, 0.9961, 0.9961, 0.6706, 0.0000, 0.0000, 0.0000, 0.0000, 0.0000, 0.0000, 0.0000, 0.0000, 0.0000, 0.0000, 0.0000, 0.0000, 0.0000,\n",
              "         0.0000, 0.0000, 0.0000, 0.0000, 0.0000, 0.0000, 0.0000, 0.0000, 0.3569, 0.5373, 0.9922, 0.9961, 0.9961, 0.9961, 0.4392, 0.0000, 0.0000, 0.0000, 0.0000, 0.0000, 0.0000, 0.0000, 0.0000, 0.0000,\n",
              "         0.0000, 0.0000, 0.0000, 0.0000, 0.0000, 0.0000, 0.0000, 0.0000, 0.0000, 0.0000, 0.1569, 0.8392, 0.9804, 0.9961, 0.9961, 0.9961, 0.9961, 0.9961, 0.1333, 0.0000, 0.0000, 0.0000, 0.0000, 0.0000,\n",
              "         0.0000, 0.0000, 0.0000, 0.0000, 0.0000, 0.0000, 0.0000, 0.0000, 0.0000, 0.0000, 0.0000, 0.0000, 0.0000, 0.0000, 0.3176, 0.9686, 0.9961, 0.9961, 0.9961, 0.9961, 0.9961, 0.9961, 0.5725, 0.0000,\n",
              "         0.0000, 0.0000, 0.0000, 0.0000, 0.0000, 0.0000, 0.0000, 0.0000, 0.0000, 0.0000, 0.0000, 0.0000, 0.0000, 0.0000, 0.0000, 0.0000, 0.0000, 0.0000, 0.0000, 0.4314, 0.9647, 0.9961, 0.9961, 0.9961,\n",
              "         0.9961, 0.9961, 0.6706, 0.0000, 0.0000, 0.0000, 0.0000, 0.0000, 0.0000, 0.0000, 0.0000, 0.0000, 0.0000, 0.0000, 0.0000, 0.0000, 0.0000, 0.0000, 0.0000, 0.0000, 0.0000, 0.0000, 0.0000, 0.0000,\n",
              "         0.2863, 0.3490, 0.3490, 0.3647, 0.9412, 0.9961, 0.6706, 0.0000, 0.0000, 0.0000, 0.0000, 0.0000, 0.0000, 0.0000, 0.0000, 0.0000, 0.0000, 0.0000, 0.0000, 0.0000, 0.0000, 0.0000, 0.0000, 0.0000,\n",
              "         0.0000, 0.0000, 0.0000, 0.0000, 0.0000, 0.0000, 0.0000, 0.0039, 0.5020, 0.9961, 0.8588, 0.1216, 0.0000, 0.0000, 0.0000, 0.0000, 0.0000, 0.0000, 0.0000, 0.0000, 0.0000, 0.0000, 0.0000, 0.0000,\n",
              "         0.0000, 0.0000, 0.0000, 0.0000, 0.0000, 0.0000, 0.0000, 0.0000, 0.0000, 0.0000, 0.0000, 0.0275, 0.9961, 0.9961, 0.8392, 0.1098, 0.0000, 0.0000, 0.0000, 0.0000, 0.0000, 0.0000, 0.0000, 0.0000,\n",
              "         0.0000, 0.0000, 0.0000, 0.0000, 0.0000, 0.0000, 0.0000, 0.0000, 0.0000, 0.0000, 0.0000, 0.0000, 0.0000, 0.0000, 0.0000, 0.5412, 0.9961, 0.9961, 0.4549, 0.0000, 0.0000, 0.0000, 0.0000, 0.0000,\n",
              "         0.0000, 0.0000, 0.0000, 0.0000, 0.0000, 0.0000, 0.0000, 0.0000, 0.0000, 0.0000, 0.0745, 0.6941, 0.3529, 0.0000, 0.0000, 0.0000, 0.0000, 0.0000, 0.0980, 0.9412, 0.9961, 0.9961, 0.1333, 0.0000,\n",
              "         0.0000, 0.0000, 0.0000, 0.0000, 0.0000, 0.0000, 0.0000, 0.0000, 0.0000, 0.0000, 0.0000, 0.0000, 0.0000, 0.0000, 0.6431, 0.9961, 0.8431, 0.2471, 0.1412, 0.0000, 0.2000, 0.3490, 0.8078, 0.9961,\n",
              "         0.9961, 0.5451, 0.0314, 0.0000, 0.0000, 0.0000, 0.0000, 0.0000, 0.0000, 0.0000, 0.0000, 0.0000, 0.0000, 0.0000, 0.0000, 0.0000, 0.0000, 0.0000, 0.2235, 0.7725, 0.9961, 0.9961, 0.8706, 0.7059,\n",
              "         0.9451, 0.9961, 0.9961, 0.9922, 0.8353, 0.0431, 0.0000, 0.0000, 0.0000, 0.0000, 0.0000, 0.0000, 0.0000, 0.0000, 0.0000, 0.0000, 0.0000, 0.0000, 0.0000, 0.0000, 0.0000, 0.0000, 0.0000, 0.5490,\n",
              "         0.4118, 0.9961, 0.9961, 0.9961, 0.9961, 0.9961, 0.9961, 0.9255, 0.0000, 0.0000, 0.0000, 0.0000, 0.0000, 0.0000, 0.0000, 0.0000, 0.0000, 0.0000, 0.0000, 0.0000, 0.0000, 0.0000, 0.0000, 0.0000,\n",
              "         0.0000, 0.0000, 0.0000, 0.0000, 0.0275, 0.4588, 0.4588, 0.6471, 0.9961, 0.9961, 0.9373, 0.1961, 0.0000, 0.0000, 0.0000, 0.0000, 0.0000, 0.0000, 0.0000, 0.0000, 0.0000, 0.0000, 0.0000, 0.0000,\n",
              "         0.0000, 0.0000, 0.0000, 0.0000, 0.0000, 0.0000, 0.0000, 0.0000, 0.0000, 0.0000, 0.0000, 0.0000, 0.0000, 0.0000, 0.0000, 0.0000, 0.0000, 0.0000, 0.0000, 0.0000, 0.0000, 0.0000, 0.0000, 0.0000,\n",
              "         0.0000, 0.0000, 0.0000, 0.0000, 0.0000, 0.0000, 0.0000, 0.0000, 0.0000, 0.0000, 0.0000, 0.0000, 0.0000, 0.0000, 0.0000, 0.0000, 0.0000, 0.0000, 0.0000, 0.0000, 0.0000, 0.0000, 0.0000, 0.0000,\n",
              "         0.0000, 0.0000, 0.0000, 0.0000, 0.0000, 0.0000, 0.0000, 0.0000, 0.0000, 0.0000, 0.0000, 0.0000, 0.0000, 0.0000, 0.0000, 0.0000, 0.0000, 0.0000, 0.0000, 0.0000, 0.0000, 0.0000, 0.0000, 0.0000,\n",
              "         0.0000, 0.0000, 0.0000, 0.0000, 0.0000, 0.0000, 0.0000, 0.0000, 0.0000, 0.0000, 0.0000, 0.0000, 0.0000, 0.0000, 0.0000, 0.0000, 0.0000, 0.0000, 0.0000, 0.0000, 0.0000, 0.0000, 0.0000, 0.0000,\n",
              "         0.0000, 0.0000, 0.0000, 0.0000, 0.0000, 0.0000, 0.0000, 0.0000, 0.0000, 0.0000, 0.0000, 0.0000, 0.0000, 0.0000, 0.0000, 0.0000]),\n",
              " tensor([1]))"
            ]
          },
          "metadata": {},
          "execution_count": 52
        }
      ]
    },
    {
      "cell_type": "markdown",
      "source": [
        "Repeating the same for validation set"
      ],
      "metadata": {
        "id": "ZhjnFJ0XNard"
      }
    },
    {
      "cell_type": "code",
      "source": [
        "valid_x = torch.cat([valid_3_tens, valid_7_tens]).view(-1, 28*28)\n",
        "valid_y = tensor([1]*len(valid_3_tens) + [0]*len(valid_7_tens)).unsqueeze(1)\n",
        "valid_dset = list(zip(valid_x, valid_y))"
      ],
      "metadata": {
        "id": "WM9FKXnyNdtZ"
      },
      "execution_count": 57,
      "outputs": []
    },
    {
      "cell_type": "code",
      "source": [
        "# Initailizing random parameters\n",
        "def init_params(size, std=1.0): return (torch.randn(size)*std).requires_grad_()"
      ],
      "metadata": {
        "id": "5vb9FIBIOA0I"
      },
      "execution_count": 58,
      "outputs": []
    },
    {
      "cell_type": "code",
      "source": [
        "weights = init_params(28*28, 1)\n",
        "bias = init_params(1)\n",
        "weights, bias"
      ],
      "metadata": {
        "colab": {
          "base_uri": "https://localhost:8080/"
        },
        "id": "s6wce1EUOZ-U",
        "outputId": "6b92b8cd-7c7c-4794-926e-dda3092c7c84"
      },
      "execution_count": 63,
      "outputs": [
        {
          "output_type": "execute_result",
          "data": {
            "text/plain": [
              "(tensor([ 4.7183e-01, -5.0351e-01,  1.8537e-01,  1.7064e+00,  2.2709e+00,  6.2684e-01,  1.6014e+00,  1.1966e+00,  4.3224e-01, -1.6974e+00, -8.7787e-01, -6.6627e-01,  3.4564e-01, -1.9724e-01,\n",
              "         -1.5218e+00, -6.1098e-02,  8.3179e-01,  5.7187e-01,  8.9762e-02, -2.1488e+00, -2.6685e-01,  6.4505e-02, -1.4933e+00,  1.6295e+00, -1.5064e+00, -5.1665e-01,  2.0545e+00,  1.2938e+00,\n",
              "          8.1700e-01, -1.0389e+00, -1.4859e+00,  1.4144e+00, -1.0722e+00,  3.3898e-01, -2.2175e-01,  2.1397e+00,  1.9970e-01,  8.8416e-01,  9.4998e-01, -1.0251e-01,  2.1756e-03, -2.8056e-01,\n",
              "          1.0293e-01, -1.2885e+00, -7.2901e-01, -1.3368e+00,  2.8592e-01,  1.0035e+00,  3.1675e-01, -9.5203e-01, -6.3443e-01,  9.8095e-02, -2.2553e+00, -1.0051e+00,  2.7072e-01,  2.9641e-01,\n",
              "         -3.0675e-01, -3.0783e-01, -7.7930e-01,  1.3531e+00,  9.0894e-01, -1.2521e+00,  5.0658e-01, -5.6990e-01,  3.3828e-01,  2.2548e-01, -5.5215e-01, -8.8587e-01, -8.2124e-01,  7.8169e-01,\n",
              "          2.5165e+00, -8.6160e-02,  1.6284e+00,  6.4544e-01, -6.2780e-01, -4.2336e-01,  1.0248e+00, -3.8765e-01,  1.1529e+00, -1.7237e-01,  9.3792e-02, -7.0346e-01, -1.7945e-01,  4.5459e-01,\n",
              "         -2.6299e-01,  3.9443e-01, -5.6013e-01,  5.6457e-01,  7.0758e-01,  6.9365e-01, -7.1731e-02, -2.5379e-01,  2.9738e-01, -1.5418e+00, -6.5947e-01, -1.5964e+00,  5.7735e-01,  3.0951e-01,\n",
              "         -8.5889e-01,  5.2623e-01, -6.8286e-02,  1.2681e+00, -9.1252e-01,  4.8035e-01,  1.7466e+00, -1.5270e+00,  3.4856e-01,  7.8397e-01,  1.5388e+00,  1.1634e+00, -6.7053e-01,  1.5959e+00,\n",
              "          1.3748e-01, -1.1221e+00,  1.4679e-01, -1.7452e-01, -7.4653e-01, -1.1631e+00, -1.9771e+00, -4.4984e-03, -9.2938e-01,  7.4799e-02,  6.4193e-01,  1.1865e+00, -7.6813e-01, -8.9178e-01,\n",
              "          2.0132e-01,  6.6459e-01,  1.6684e+00,  1.2587e+00,  1.6344e-01,  8.0604e-01, -6.8855e-01, -2.3013e-01,  7.8437e-02, -1.9521e-01, -7.9184e-02,  3.5108e-01, -3.6762e-02,  6.4118e-01,\n",
              "          6.5733e-01,  7.8904e-01,  7.0539e-01, -4.0017e-01,  3.0351e-01, -2.4702e-01, -3.2173e-01,  8.3418e-01,  1.4928e-02, -1.5317e-01,  1.6928e+00, -7.1612e-01,  1.7399e+00, -5.6159e-01,\n",
              "          7.1976e-01,  1.4556e+00,  1.0760e+00,  1.3860e+00, -2.2771e-02, -4.9435e-01, -1.2735e+00,  1.1543e+00,  2.3270e-02, -6.3021e-01,  8.8848e-01,  1.7476e-01, -2.0528e+00,  3.8554e-02,\n",
              "         -9.4404e-01,  5.8505e-01, -5.9594e-01, -1.8833e+00,  5.5490e-01, -9.4617e-01, -7.3941e-01,  7.4925e-01,  6.9549e-01,  1.5209e+00,  3.8516e-01, -3.1519e-01,  3.9047e-02, -1.7162e-01,\n",
              "         -8.4248e-01,  1.2268e+00,  2.1754e+00, -4.4212e-01, -1.4505e+00,  8.0947e-01, -7.1444e-01,  7.0411e-01, -1.2723e+00, -7.1344e-01, -2.6868e-01, -7.0115e-01, -9.0314e-01, -1.2791e+00,\n",
              "         -4.0348e-01, -6.0248e-01, -4.6981e-01,  5.7327e-01, -2.1621e-01, -2.9578e-01, -6.7873e-01, -2.7032e-01, -1.5237e-01,  1.1046e-01, -9.9129e-01, -8.8786e-01, -7.5600e-01,  5.8769e-01,\n",
              "          1.5159e+00,  5.3677e-01,  1.7698e+00,  1.3942e+00, -4.4747e-01, -8.0292e-01, -7.1428e-02,  4.5393e-01,  4.9421e-01, -9.9420e-02,  5.9401e-01,  8.2598e-01,  1.2241e+00, -1.4314e-01,\n",
              "          9.7615e-01,  6.2905e-01, -2.7982e-01,  2.5038e-01,  1.7242e+00,  2.1783e+00, -6.1399e-01,  9.9399e-01, -9.7655e-01,  4.3510e-01, -1.0596e+00,  9.5942e-01, -1.4276e+00,  8.3103e-01,\n",
              "         -1.4381e+00,  6.2128e-01, -1.5297e+00,  1.0560e+00,  2.0524e+00, -3.5100e-01, -1.1979e+00,  5.5965e-01,  4.8749e-01, -1.5288e+00,  8.9380e-01,  8.2160e-01,  1.0384e+00,  3.7289e-01,\n",
              "         -1.4194e+00, -2.2494e-01, -5.3420e-01, -7.8784e-02, -4.6750e-01, -3.1254e-01, -2.4208e+00, -6.9812e-01, -8.3734e-01, -4.4729e-01, -1.1803e-01,  8.9325e-01,  4.5941e-01, -1.1755e-01,\n",
              "          5.8174e-02, -1.1270e-01,  6.0094e-01,  5.4608e-02, -5.6699e-01, -1.0099e+00,  1.3880e+00, -4.1201e-01,  1.7848e-01, -4.2116e-01,  6.7458e-01, -1.7007e+00,  2.6413e+00, -4.2235e-01,\n",
              "          1.7864e+00,  1.5301e-01, -3.5937e-01, -9.6454e-01,  8.8556e-01, -3.1540e-01,  2.8686e-01,  1.3422e+00, -1.8988e+00, -1.9259e-02,  2.9305e-01,  2.4341e-01,  2.0407e+00, -7.5694e-01,\n",
              "         -1.8586e+00,  1.3976e+00, -4.2975e-01,  8.1565e-01,  1.7851e+00,  3.6624e-01, -1.2378e+00,  1.4525e+00, -1.4253e-01,  2.6613e-01,  1.1319e+00, -7.7907e-01, -7.0030e-03,  1.0370e+00,\n",
              "          1.2662e-01,  9.1385e-01,  1.5243e-01, -1.7770e+00,  8.5449e-01, -4.3896e-01, -4.5920e-01,  7.5836e-01, -2.5367e-01, -6.0270e-01,  4.1119e-01, -4.7856e-01, -6.2326e-01,  1.0608e+00,\n",
              "          1.1780e+00,  3.3023e-01,  3.4093e-01,  9.6618e-02,  8.0482e-01, -9.3085e-01,  1.3117e+00, -1.9452e+00,  1.7431e+00,  2.4291e-01,  2.7896e-01,  3.3156e-01, -5.1994e-02, -3.8997e-01,\n",
              "          1.4595e-01,  2.6141e-01,  4.9700e-01,  8.5396e-01, -1.2495e+00, -1.8244e+00,  1.9354e+00,  3.2967e-01,  1.0209e+00,  8.9592e-01, -4.4061e-02,  2.6978e-01, -1.1496e+00,  5.5760e-01,\n",
              "         -4.4239e-01, -1.1939e+00,  5.0553e-01,  3.7684e-01,  1.2738e+00, -5.2696e-01,  3.6448e-01, -1.3919e+00, -1.3599e-01,  5.0216e-01,  8.2476e-01,  1.8953e-01,  2.1326e-01, -2.1911e-01,\n",
              "          1.0261e+00, -1.5927e-01,  1.6456e+00,  8.0955e-01,  5.2697e-01,  1.4477e+00,  1.1457e+00,  3.1746e-01,  5.4377e-01,  5.8241e-01,  2.5589e-01, -7.6497e-01, -1.8309e+00, -9.7959e-01,\n",
              "          1.5799e+00,  2.7724e+00, -4.3007e-02,  4.3993e-01,  4.4535e-01, -1.7399e+00,  2.4875e-01, -9.3344e-01,  1.0192e+00,  7.3134e-02, -5.3171e-01, -3.5423e-02, -4.6917e-01,  3.5407e+00,\n",
              "          2.6096e-01,  1.3039e-01,  1.2058e+00,  2.1914e+00, -9.4266e-01, -3.4241e-01, -1.6840e+00,  6.5372e-01,  6.4234e-01,  5.2315e-01,  3.5378e-01,  1.4756e-01, -6.7774e-01, -1.4288e-01,\n",
              "          3.9184e-01,  2.7028e-01, -7.3455e-01,  1.4912e+00, -1.0410e+00,  9.0871e-01,  3.0672e-01,  2.6992e+00, -2.3807e-01, -3.8906e-01, -1.0960e+00, -1.1971e+00,  3.2154e-01, -2.1750e-01,\n",
              "          8.3910e-01, -1.0962e+00, -4.4092e-01, -1.6116e+00, -5.3256e-01, -4.1533e-02,  8.0157e-01, -6.9466e-01,  2.0143e-01, -9.8894e-01, -9.2795e-01, -1.0297e+00, -1.3029e+00, -5.6160e-01,\n",
              "          8.3388e-01, -2.6740e-01,  2.3193e-01,  1.0128e+00,  2.8556e-01,  2.7378e-01, -1.4567e+00,  1.2727e+00, -4.5077e-01,  5.0381e-01, -1.3939e-01, -1.3287e+00, -1.6961e+00, -4.2138e-01,\n",
              "          7.7875e-01, -3.1923e-01,  1.8211e-02, -9.0213e-01, -7.1266e-02, -7.8039e-01,  7.8077e-01, -1.6109e+00, -1.2359e+00, -1.4534e+00, -3.9424e-01,  4.0150e-01, -1.0800e+00,  1.4510e+00,\n",
              "         -3.4883e-01,  1.3017e-01,  9.1192e-01, -2.8909e-01, -2.5597e+00, -4.3115e-01,  7.8322e-01,  2.7604e-01,  3.8524e-01,  8.4654e-01,  6.6430e-01, -1.9934e-01, -1.0838e-01,  9.6876e-01,\n",
              "         -1.8720e+00, -5.5087e-01,  1.4841e-01,  6.1050e-01, -2.7478e-01, -1.7360e-02, -1.0289e+00,  4.2619e-01, -1.3303e+00, -7.1200e-01,  1.0064e+00,  7.2440e-01,  1.7521e+00,  6.6091e-01,\n",
              "         -8.6969e-01, -8.5581e-01,  1.0320e-01,  2.1853e-02, -6.1640e-01, -5.0537e-01,  9.9850e-01, -1.3719e-02, -6.4910e-01,  1.3514e+00,  1.6695e-01,  2.5365e-01,  9.3744e-01,  2.0111e+00,\n",
              "          3.4379e-01,  4.3554e-01,  1.2247e+00,  5.1886e-01,  4.3880e-01, -2.0330e-01, -8.5389e-01,  2.2006e+00, -3.0269e-01, -3.6925e-01,  1.2578e+00, -5.7686e-01, -7.1094e-01, -7.6892e-01,\n",
              "         -1.3048e+00,  5.8784e-01,  1.1567e+00, -2.4163e-01, -9.3686e-01,  1.1116e-01, -2.3907e-01, -1.8270e-01,  5.2393e-02, -1.8020e+00,  1.5266e+00,  6.8970e-01,  2.7091e+00,  1.2339e+00,\n",
              "          9.9030e-01, -1.4282e+00,  4.3179e-01, -1.2289e+00,  7.8333e-01, -2.2980e-01, -4.9309e-01,  1.2558e+00,  3.3889e-01,  1.8538e+00,  1.1447e+00, -1.3693e+00, -1.6013e+00, -9.5980e-01,\n",
              "          3.6584e-01, -7.0980e-01, -7.6456e-01,  1.9768e-01,  5.6319e-01,  1.9998e-01,  1.7203e-02, -4.7457e-01,  1.9162e+00, -9.7967e-01, -5.3516e-01, -3.3614e-01, -1.3543e+00,  1.3657e-01,\n",
              "         -3.2120e-01,  8.7231e-01, -4.9654e-01,  5.7250e-02,  4.7545e-01, -4.7959e-01,  8.2540e-01,  1.7005e+00,  4.1603e-01,  9.7112e-03, -2.3620e-01, -1.4613e+00, -3.9039e-01, -1.4735e-01,\n",
              "         -1.1805e+00,  5.8735e-01,  2.7322e+00, -3.6258e-01,  4.8280e-01,  1.2330e+00, -7.6308e-01, -1.0485e+00,  1.1568e-01,  2.1854e-01, -4.4687e-01, -5.0838e-01, -3.3549e-01,  1.5477e+00,\n",
              "          6.3457e-01, -1.4856e+00, -5.5781e-01,  2.0407e+00, -6.5512e-01, -8.2838e-01,  4.8412e-01,  1.1002e+00,  4.5901e-01,  2.6477e-01, -8.6553e-01,  1.2378e+00, -1.7263e+00,  3.6200e-01,\n",
              "          5.4450e-01,  7.8183e-01, -6.2536e-02,  1.1762e-01, -1.2023e+00, -8.2887e-01,  1.7304e+00,  2.8692e-01,  4.6313e-01,  3.4215e-01, -1.9324e-01,  4.5070e-02,  1.0006e-01, -3.0698e-01,\n",
              "         -1.1312e+00, -5.7113e-01, -7.8285e-01, -3.0687e-01,  1.8228e+00,  2.4596e-01,  2.6650e-01, -5.1893e-01,  1.4261e+00,  1.2193e+00, -1.1479e-01, -6.9681e-01,  4.0852e-01, -3.0419e-01,\n",
              "          6.1688e-01,  2.4620e-01,  5.8119e-01, -6.0399e-01,  4.8159e-01, -1.0425e+00, -6.0666e-01, -9.6681e-01, -8.4728e-01, -1.1948e+00,  1.7679e+00, -7.0622e-01,  8.2821e-01, -7.6209e-01,\n",
              "         -5.4350e-01, -2.8078e-01,  1.4114e+00, -9.9605e-01,  9.4668e-01, -1.1669e+00, -1.6542e+00,  2.8921e-01, -4.7837e-01, -1.6142e+00,  5.5102e-02,  5.6618e-01, -7.9831e-01,  2.6853e-01,\n",
              "         -1.4472e+00, -1.7852e+00, -1.3017e+00, -4.2824e-01, -3.2829e-02,  1.2755e+00,  3.4347e-01,  6.9892e-01, -1.0869e+00, -2.7806e+00,  1.9904e-01, -1.7750e+00, -5.2468e-01, -3.8345e-01,\n",
              "          1.0964e+00,  8.3123e-01,  2.7096e-01, -1.2559e+00, -5.8708e-01,  1.0028e+00, -5.7921e-02,  3.5153e-01,  5.5093e-01, -8.7630e-01,  1.1333e+00,  3.2542e-01, -2.0494e-01, -3.8536e-01,\n",
              "         -3.9661e-01,  4.4697e-01,  2.2590e+00,  2.4014e-02, -1.1341e+00,  8.3559e-01, -8.4456e-01, -7.7253e-01, -8.1599e-03, -7.5456e-01, -1.9808e+00,  2.3010e-01,  6.1535e-01,  2.3639e+00,\n",
              "         -2.1706e+00, -6.1039e-01, -6.0311e-01,  1.4048e+00,  1.1403e-01,  4.8620e-01, -2.3076e-01,  2.0496e-02, -1.3396e+00,  1.4354e-01,  8.1481e-01, -8.0916e-02,  1.4830e-01,  6.6858e-01,\n",
              "          4.2128e-01,  9.7682e-01, -7.0352e-01, -3.9363e-01, -7.9444e-01, -1.2325e-01, -3.2030e-01, -8.5703e-01,  1.7586e+00, -9.3952e-02,  1.9836e+00, -4.6076e-02, -3.6732e-02, -1.3041e+00,\n",
              "          1.1272e+00, -5.6904e-01, -7.5250e-01, -6.8691e-01, -1.3250e-01,  1.8819e-01,  5.1949e-01,  5.4966e-01, -6.6819e-01, -3.2332e-01, -3.0467e-01, -2.2402e-01,  2.5048e-01,  1.7058e+00,\n",
              "          1.3945e+00,  1.1369e+00, -7.5686e-01,  7.4340e-01, -1.0831e+00,  2.4517e+00,  6.7039e-01, -3.5441e-01, -8.3128e-01,  1.3508e+00, -1.5854e+00, -4.0718e-01,  1.4049e+00, -2.0312e-01,\n",
              "         -9.8931e-01, -9.1144e-01, -1.7896e+00,  2.7669e-01,  1.4894e+00,  1.2982e+00, -6.9400e-02, -2.8260e+00,  5.5245e-01,  5.7200e-02, -3.9996e-01,  9.2206e-01,  6.8359e-01, -4.2745e-01,\n",
              "         -7.5802e-01,  6.1286e-02, -5.0272e-01, -2.0897e+00,  1.1871e+00,  5.4587e-01,  1.2597e+00, -2.3390e-01, -8.4886e-01, -1.0191e+00,  6.6991e-01,  1.4822e+00,  7.9646e-01, -1.5501e+00],\n",
              "        requires_grad=True),\n",
              " tensor([0.4134], requires_grad=True))"
            ]
          },
          "metadata": {},
          "execution_count": 63
        }
      ]
    },
    {
      "cell_type": "code",
      "source": [
        "# Transversed Tensore\n",
        "weights.T"
      ],
      "metadata": {
        "colab": {
          "base_uri": "https://localhost:8080/"
        },
        "id": "yAaemb8xSM7T",
        "outputId": "b7687e9b-538e-49bb-b7c4-35d9324f718a"
      },
      "execution_count": 66,
      "outputs": [
        {
          "output_type": "execute_result",
          "data": {
            "text/plain": [
              "tensor([ 4.7183e-01, -5.0351e-01,  1.8537e-01,  1.7064e+00,  2.2709e+00,  6.2684e-01,  1.6014e+00,  1.1966e+00,  4.3224e-01, -1.6974e+00, -8.7787e-01, -6.6627e-01,  3.4564e-01, -1.9724e-01,\n",
              "        -1.5218e+00, -6.1098e-02,  8.3179e-01,  5.7187e-01,  8.9762e-02, -2.1488e+00, -2.6685e-01,  6.4505e-02, -1.4933e+00,  1.6295e+00, -1.5064e+00, -5.1665e-01,  2.0545e+00,  1.2938e+00,\n",
              "         8.1700e-01, -1.0389e+00, -1.4859e+00,  1.4144e+00, -1.0722e+00,  3.3898e-01, -2.2175e-01,  2.1397e+00,  1.9970e-01,  8.8416e-01,  9.4998e-01, -1.0251e-01,  2.1756e-03, -2.8056e-01,\n",
              "         1.0293e-01, -1.2885e+00, -7.2901e-01, -1.3368e+00,  2.8592e-01,  1.0035e+00,  3.1675e-01, -9.5203e-01, -6.3443e-01,  9.8095e-02, -2.2553e+00, -1.0051e+00,  2.7072e-01,  2.9641e-01,\n",
              "        -3.0675e-01, -3.0783e-01, -7.7930e-01,  1.3531e+00,  9.0894e-01, -1.2521e+00,  5.0658e-01, -5.6990e-01,  3.3828e-01,  2.2548e-01, -5.5215e-01, -8.8587e-01, -8.2124e-01,  7.8169e-01,\n",
              "         2.5165e+00, -8.6160e-02,  1.6284e+00,  6.4544e-01, -6.2780e-01, -4.2336e-01,  1.0248e+00, -3.8765e-01,  1.1529e+00, -1.7237e-01,  9.3792e-02, -7.0346e-01, -1.7945e-01,  4.5459e-01,\n",
              "        -2.6299e-01,  3.9443e-01, -5.6013e-01,  5.6457e-01,  7.0758e-01,  6.9365e-01, -7.1731e-02, -2.5379e-01,  2.9738e-01, -1.5418e+00, -6.5947e-01, -1.5964e+00,  5.7735e-01,  3.0951e-01,\n",
              "        -8.5889e-01,  5.2623e-01, -6.8286e-02,  1.2681e+00, -9.1252e-01,  4.8035e-01,  1.7466e+00, -1.5270e+00,  3.4856e-01,  7.8397e-01,  1.5388e+00,  1.1634e+00, -6.7053e-01,  1.5959e+00,\n",
              "         1.3748e-01, -1.1221e+00,  1.4679e-01, -1.7452e-01, -7.4653e-01, -1.1631e+00, -1.9771e+00, -4.4984e-03, -9.2938e-01,  7.4799e-02,  6.4193e-01,  1.1865e+00, -7.6813e-01, -8.9178e-01,\n",
              "         2.0132e-01,  6.6459e-01,  1.6684e+00,  1.2587e+00,  1.6344e-01,  8.0604e-01, -6.8855e-01, -2.3013e-01,  7.8437e-02, -1.9521e-01, -7.9184e-02,  3.5108e-01, -3.6762e-02,  6.4118e-01,\n",
              "         6.5733e-01,  7.8904e-01,  7.0539e-01, -4.0017e-01,  3.0351e-01, -2.4702e-01, -3.2173e-01,  8.3418e-01,  1.4928e-02, -1.5317e-01,  1.6928e+00, -7.1612e-01,  1.7399e+00, -5.6159e-01,\n",
              "         7.1976e-01,  1.4556e+00,  1.0760e+00,  1.3860e+00, -2.2771e-02, -4.9435e-01, -1.2735e+00,  1.1543e+00,  2.3270e-02, -6.3021e-01,  8.8848e-01,  1.7476e-01, -2.0528e+00,  3.8554e-02,\n",
              "        -9.4404e-01,  5.8505e-01, -5.9594e-01, -1.8833e+00,  5.5490e-01, -9.4617e-01, -7.3941e-01,  7.4925e-01,  6.9549e-01,  1.5209e+00,  3.8516e-01, -3.1519e-01,  3.9047e-02, -1.7162e-01,\n",
              "        -8.4248e-01,  1.2268e+00,  2.1754e+00, -4.4212e-01, -1.4505e+00,  8.0947e-01, -7.1444e-01,  7.0411e-01, -1.2723e+00, -7.1344e-01, -2.6868e-01, -7.0115e-01, -9.0314e-01, -1.2791e+00,\n",
              "        -4.0348e-01, -6.0248e-01, -4.6981e-01,  5.7327e-01, -2.1621e-01, -2.9578e-01, -6.7873e-01, -2.7032e-01, -1.5237e-01,  1.1046e-01, -9.9129e-01, -8.8786e-01, -7.5600e-01,  5.8769e-01,\n",
              "         1.5159e+00,  5.3677e-01,  1.7698e+00,  1.3942e+00, -4.4747e-01, -8.0292e-01, -7.1428e-02,  4.5393e-01,  4.9421e-01, -9.9420e-02,  5.9401e-01,  8.2598e-01,  1.2241e+00, -1.4314e-01,\n",
              "         9.7615e-01,  6.2905e-01, -2.7982e-01,  2.5038e-01,  1.7242e+00,  2.1783e+00, -6.1399e-01,  9.9399e-01, -9.7655e-01,  4.3510e-01, -1.0596e+00,  9.5942e-01, -1.4276e+00,  8.3103e-01,\n",
              "        -1.4381e+00,  6.2128e-01, -1.5297e+00,  1.0560e+00,  2.0524e+00, -3.5100e-01, -1.1979e+00,  5.5965e-01,  4.8749e-01, -1.5288e+00,  8.9380e-01,  8.2160e-01,  1.0384e+00,  3.7289e-01,\n",
              "        -1.4194e+00, -2.2494e-01, -5.3420e-01, -7.8784e-02, -4.6750e-01, -3.1254e-01, -2.4208e+00, -6.9812e-01, -8.3734e-01, -4.4729e-01, -1.1803e-01,  8.9325e-01,  4.5941e-01, -1.1755e-01,\n",
              "         5.8174e-02, -1.1270e-01,  6.0094e-01,  5.4608e-02, -5.6699e-01, -1.0099e+00,  1.3880e+00, -4.1201e-01,  1.7848e-01, -4.2116e-01,  6.7458e-01, -1.7007e+00,  2.6413e+00, -4.2235e-01,\n",
              "         1.7864e+00,  1.5301e-01, -3.5937e-01, -9.6454e-01,  8.8556e-01, -3.1540e-01,  2.8686e-01,  1.3422e+00, -1.8988e+00, -1.9259e-02,  2.9305e-01,  2.4341e-01,  2.0407e+00, -7.5694e-01,\n",
              "        -1.8586e+00,  1.3976e+00, -4.2975e-01,  8.1565e-01,  1.7851e+00,  3.6624e-01, -1.2378e+00,  1.4525e+00, -1.4253e-01,  2.6613e-01,  1.1319e+00, -7.7907e-01, -7.0030e-03,  1.0370e+00,\n",
              "         1.2662e-01,  9.1385e-01,  1.5243e-01, -1.7770e+00,  8.5449e-01, -4.3896e-01, -4.5920e-01,  7.5836e-01, -2.5367e-01, -6.0270e-01,  4.1119e-01, -4.7856e-01, -6.2326e-01,  1.0608e+00,\n",
              "         1.1780e+00,  3.3023e-01,  3.4093e-01,  9.6618e-02,  8.0482e-01, -9.3085e-01,  1.3117e+00, -1.9452e+00,  1.7431e+00,  2.4291e-01,  2.7896e-01,  3.3156e-01, -5.1994e-02, -3.8997e-01,\n",
              "         1.4595e-01,  2.6141e-01,  4.9700e-01,  8.5396e-01, -1.2495e+00, -1.8244e+00,  1.9354e+00,  3.2967e-01,  1.0209e+00,  8.9592e-01, -4.4061e-02,  2.6978e-01, -1.1496e+00,  5.5760e-01,\n",
              "        -4.4239e-01, -1.1939e+00,  5.0553e-01,  3.7684e-01,  1.2738e+00, -5.2696e-01,  3.6448e-01, -1.3919e+00, -1.3599e-01,  5.0216e-01,  8.2476e-01,  1.8953e-01,  2.1326e-01, -2.1911e-01,\n",
              "         1.0261e+00, -1.5927e-01,  1.6456e+00,  8.0955e-01,  5.2697e-01,  1.4477e+00,  1.1457e+00,  3.1746e-01,  5.4377e-01,  5.8241e-01,  2.5589e-01, -7.6497e-01, -1.8309e+00, -9.7959e-01,\n",
              "         1.5799e+00,  2.7724e+00, -4.3007e-02,  4.3993e-01,  4.4535e-01, -1.7399e+00,  2.4875e-01, -9.3344e-01,  1.0192e+00,  7.3134e-02, -5.3171e-01, -3.5423e-02, -4.6917e-01,  3.5407e+00,\n",
              "         2.6096e-01,  1.3039e-01,  1.2058e+00,  2.1914e+00, -9.4266e-01, -3.4241e-01, -1.6840e+00,  6.5372e-01,  6.4234e-01,  5.2315e-01,  3.5378e-01,  1.4756e-01, -6.7774e-01, -1.4288e-01,\n",
              "         3.9184e-01,  2.7028e-01, -7.3455e-01,  1.4912e+00, -1.0410e+00,  9.0871e-01,  3.0672e-01,  2.6992e+00, -2.3807e-01, -3.8906e-01, -1.0960e+00, -1.1971e+00,  3.2154e-01, -2.1750e-01,\n",
              "         8.3910e-01, -1.0962e+00, -4.4092e-01, -1.6116e+00, -5.3256e-01, -4.1533e-02,  8.0157e-01, -6.9466e-01,  2.0143e-01, -9.8894e-01, -9.2795e-01, -1.0297e+00, -1.3029e+00, -5.6160e-01,\n",
              "         8.3388e-01, -2.6740e-01,  2.3193e-01,  1.0128e+00,  2.8556e-01,  2.7378e-01, -1.4567e+00,  1.2727e+00, -4.5077e-01,  5.0381e-01, -1.3939e-01, -1.3287e+00, -1.6961e+00, -4.2138e-01,\n",
              "         7.7875e-01, -3.1923e-01,  1.8211e-02, -9.0213e-01, -7.1266e-02, -7.8039e-01,  7.8077e-01, -1.6109e+00, -1.2359e+00, -1.4534e+00, -3.9424e-01,  4.0150e-01, -1.0800e+00,  1.4510e+00,\n",
              "        -3.4883e-01,  1.3017e-01,  9.1192e-01, -2.8909e-01, -2.5597e+00, -4.3115e-01,  7.8322e-01,  2.7604e-01,  3.8524e-01,  8.4654e-01,  6.6430e-01, -1.9934e-01, -1.0838e-01,  9.6876e-01,\n",
              "        -1.8720e+00, -5.5087e-01,  1.4841e-01,  6.1050e-01, -2.7478e-01, -1.7360e-02, -1.0289e+00,  4.2619e-01, -1.3303e+00, -7.1200e-01,  1.0064e+00,  7.2440e-01,  1.7521e+00,  6.6091e-01,\n",
              "        -8.6969e-01, -8.5581e-01,  1.0320e-01,  2.1853e-02, -6.1640e-01, -5.0537e-01,  9.9850e-01, -1.3719e-02, -6.4910e-01,  1.3514e+00,  1.6695e-01,  2.5365e-01,  9.3744e-01,  2.0111e+00,\n",
              "         3.4379e-01,  4.3554e-01,  1.2247e+00,  5.1886e-01,  4.3880e-01, -2.0330e-01, -8.5389e-01,  2.2006e+00, -3.0269e-01, -3.6925e-01,  1.2578e+00, -5.7686e-01, -7.1094e-01, -7.6892e-01,\n",
              "        -1.3048e+00,  5.8784e-01,  1.1567e+00, -2.4163e-01, -9.3686e-01,  1.1116e-01, -2.3907e-01, -1.8270e-01,  5.2393e-02, -1.8020e+00,  1.5266e+00,  6.8970e-01,  2.7091e+00,  1.2339e+00,\n",
              "         9.9030e-01, -1.4282e+00,  4.3179e-01, -1.2289e+00,  7.8333e-01, -2.2980e-01, -4.9309e-01,  1.2558e+00,  3.3889e-01,  1.8538e+00,  1.1447e+00, -1.3693e+00, -1.6013e+00, -9.5980e-01,\n",
              "         3.6584e-01, -7.0980e-01, -7.6456e-01,  1.9768e-01,  5.6319e-01,  1.9998e-01,  1.7203e-02, -4.7457e-01,  1.9162e+00, -9.7967e-01, -5.3516e-01, -3.3614e-01, -1.3543e+00,  1.3657e-01,\n",
              "        -3.2120e-01,  8.7231e-01, -4.9654e-01,  5.7250e-02,  4.7545e-01, -4.7959e-01,  8.2540e-01,  1.7005e+00,  4.1603e-01,  9.7112e-03, -2.3620e-01, -1.4613e+00, -3.9039e-01, -1.4735e-01,\n",
              "        -1.1805e+00,  5.8735e-01,  2.7322e+00, -3.6258e-01,  4.8280e-01,  1.2330e+00, -7.6308e-01, -1.0485e+00,  1.1568e-01,  2.1854e-01, -4.4687e-01, -5.0838e-01, -3.3549e-01,  1.5477e+00,\n",
              "         6.3457e-01, -1.4856e+00, -5.5781e-01,  2.0407e+00, -6.5512e-01, -8.2838e-01,  4.8412e-01,  1.1002e+00,  4.5901e-01,  2.6477e-01, -8.6553e-01,  1.2378e+00, -1.7263e+00,  3.6200e-01,\n",
              "         5.4450e-01,  7.8183e-01, -6.2536e-02,  1.1762e-01, -1.2023e+00, -8.2887e-01,  1.7304e+00,  2.8692e-01,  4.6313e-01,  3.4215e-01, -1.9324e-01,  4.5070e-02,  1.0006e-01, -3.0698e-01,\n",
              "        -1.1312e+00, -5.7113e-01, -7.8285e-01, -3.0687e-01,  1.8228e+00,  2.4596e-01,  2.6650e-01, -5.1893e-01,  1.4261e+00,  1.2193e+00, -1.1479e-01, -6.9681e-01,  4.0852e-01, -3.0419e-01,\n",
              "         6.1688e-01,  2.4620e-01,  5.8119e-01, -6.0399e-01,  4.8159e-01, -1.0425e+00, -6.0666e-01, -9.6681e-01, -8.4728e-01, -1.1948e+00,  1.7679e+00, -7.0622e-01,  8.2821e-01, -7.6209e-01,\n",
              "        -5.4350e-01, -2.8078e-01,  1.4114e+00, -9.9605e-01,  9.4668e-01, -1.1669e+00, -1.6542e+00,  2.8921e-01, -4.7837e-01, -1.6142e+00,  5.5102e-02,  5.6618e-01, -7.9831e-01,  2.6853e-01,\n",
              "        -1.4472e+00, -1.7852e+00, -1.3017e+00, -4.2824e-01, -3.2829e-02,  1.2755e+00,  3.4347e-01,  6.9892e-01, -1.0869e+00, -2.7806e+00,  1.9904e-01, -1.7750e+00, -5.2468e-01, -3.8345e-01,\n",
              "         1.0964e+00,  8.3123e-01,  2.7096e-01, -1.2559e+00, -5.8708e-01,  1.0028e+00, -5.7921e-02,  3.5153e-01,  5.5093e-01, -8.7630e-01,  1.1333e+00,  3.2542e-01, -2.0494e-01, -3.8536e-01,\n",
              "        -3.9661e-01,  4.4697e-01,  2.2590e+00,  2.4014e-02, -1.1341e+00,  8.3559e-01, -8.4456e-01, -7.7253e-01, -8.1599e-03, -7.5456e-01, -1.9808e+00,  2.3010e-01,  6.1535e-01,  2.3639e+00,\n",
              "        -2.1706e+00, -6.1039e-01, -6.0311e-01,  1.4048e+00,  1.1403e-01,  4.8620e-01, -2.3076e-01,  2.0496e-02, -1.3396e+00,  1.4354e-01,  8.1481e-01, -8.0916e-02,  1.4830e-01,  6.6858e-01,\n",
              "         4.2128e-01,  9.7682e-01, -7.0352e-01, -3.9363e-01, -7.9444e-01, -1.2325e-01, -3.2030e-01, -8.5703e-01,  1.7586e+00, -9.3952e-02,  1.9836e+00, -4.6076e-02, -3.6732e-02, -1.3041e+00,\n",
              "         1.1272e+00, -5.6904e-01, -7.5250e-01, -6.8691e-01, -1.3250e-01,  1.8819e-01,  5.1949e-01,  5.4966e-01, -6.6819e-01, -3.2332e-01, -3.0467e-01, -2.2402e-01,  2.5048e-01,  1.7058e+00,\n",
              "         1.3945e+00,  1.1369e+00, -7.5686e-01,  7.4340e-01, -1.0831e+00,  2.4517e+00,  6.7039e-01, -3.5441e-01, -8.3128e-01,  1.3508e+00, -1.5854e+00, -4.0718e-01,  1.4049e+00, -2.0312e-01,\n",
              "        -9.8931e-01, -9.1144e-01, -1.7896e+00,  2.7669e-01,  1.4894e+00,  1.2982e+00, -6.9400e-02, -2.8260e+00,  5.5245e-01,  5.7200e-02, -3.9996e-01,  9.2206e-01,  6.8359e-01, -4.2745e-01,\n",
              "        -7.5802e-01,  6.1286e-02, -5.0272e-01, -2.0897e+00,  1.1871e+00,  5.4587e-01,  1.2597e+00, -2.3390e-01, -8.4886e-01, -1.0191e+00,  6.6991e-01,  1.4822e+00,  7.9646e-01, -1.5501e+00],\n",
              "       grad_fn=<PermuteBackward0>)"
            ]
          },
          "metadata": {},
          "execution_count": 66
        }
      ]
    },
    {
      "cell_type": "markdown",
      "source": [
        "## Neural Network\n",
        " In neural networks, the `w` in the rectified linear equation is called the weights, and the `b` is called the bias. Together, the weights and bias make up the parameters."
      ],
      "metadata": {
        "id": "teCUqgV2Q40G"
      }
    },
    {
      "cell_type": "code",
      "source": [
        "# Calculating a prediction for one image\n",
        "(train_x[0] * weights.T).sum() + bias"
      ],
      "metadata": {
        "colab": {
          "base_uri": "https://localhost:8080/"
        },
        "id": "THmlDTuARMxd",
        "outputId": "dcc5c9f4-73ec-4e07-b858-29b0a078d269"
      },
      "execution_count": 67,
      "outputs": [
        {
          "output_type": "execute_result",
          "data": {
            "text/plain": [
              "tensor([19.7493], grad_fn=<AddBackward0>)"
            ]
          },
          "metadata": {},
          "execution_count": 67
        }
      ]
    },
    {
      "cell_type": "code",
      "source": [
        " def linear1(xb): return xb@weights + bias\n",
        " preds = linear1(train_x)\n",
        " preds"
      ],
      "metadata": {
        "colab": {
          "base_uri": "https://localhost:8080/"
        },
        "id": "ql28Q4__Sb1K",
        "outputId": "a1a107f2-7227-4f51-ef40-cec6539cb468"
      },
      "execution_count": 70,
      "outputs": [
        {
          "output_type": "execute_result",
          "data": {
            "text/plain": [
              "tensor([19.7493, 13.1136, 11.7122,  ..., -1.8279,  9.3236, -1.6019], grad_fn=<AddBackward0>)"
            ]
          },
          "metadata": {},
          "execution_count": 70
        }
      ]
    },
    {
      "cell_type": "markdown",
      "source": [
        "#### Matrix Multiplication"
      ],
      "metadata": {
        "id": "A8-SC5PnTyp7"
      }
    },
    {
      "cell_type": "markdown",
      "source": [
        "The first image prediction is same to the one done before the matrix multiplication.\n",
        "`batch@weights + bias` Important Fundamental Equation (linear function) for neural network and other is Activation funtion or non linear function"
      ],
      "metadata": {
        "id": "gHitMholTsx9"
      }
    },
    {
      "cell_type": "code",
      "source": [
        "# Matching the prediction and actual observation; if they are same or not\n",
        "corrects = (preds > 0.0).float() == train_y\n",
        "corrects"
      ],
      "metadata": {
        "colab": {
          "base_uri": "https://localhost:8080/"
        },
        "id": "oZtuWeyzT5aI",
        "outputId": "d3bb16bd-46e2-4b29-b502-0c6851382ceb"
      },
      "execution_count": 71,
      "outputs": [
        {
          "output_type": "execute_result",
          "data": {
            "text/plain": [
              "tensor([[ True,  True,  True,  ..., False,  True, False],\n",
              "        [ True,  True,  True,  ..., False,  True, False],\n",
              "        [ True,  True,  True,  ..., False,  True, False],\n",
              "        ...,\n",
              "        [False, False, False,  ...,  True, False,  True],\n",
              "        [False, False, False,  ...,  True, False,  True],\n",
              "        [False, False, False,  ...,  True, False,  True]])"
            ]
          },
          "metadata": {},
          "execution_count": 71
        }
      ]
    },
    {
      "cell_type": "code",
      "execution_count": 72,
      "metadata": {
        "id": "CQdMxG3v0hxI",
        "outputId": "6e5d9029-96c6-4e9e-fd9d-93556c3b3e6a",
        "colab": {
          "base_uri": "https://localhost:8080/"
        }
      },
      "outputs": [
        {
          "output_type": "execute_result",
          "data": {
            "text/plain": [
              "0.49613240361213684"
            ]
          },
          "metadata": {},
          "execution_count": 72
        }
      ],
      "source": [
        "# Taking mean of this would give the ACCURACY\n",
        "corrects.float().mean().item()"
      ]
    },
    {
      "cell_type": "markdown",
      "source": [
        "## Manual Modification of weight\n",
        "Checking if there's any change after modifying the weight"
      ],
      "metadata": {
        "id": "5yJmZVmxVDZc"
      }
    },
    {
      "cell_type": "code",
      "source": [
        "# Modifing the first weight ie, weight assigned to the first pixel\n",
        "weights[0]"
      ],
      "metadata": {
        "colab": {
          "base_uri": "https://localhost:8080/"
        },
        "id": "nohLhFpAVoNS",
        "outputId": "1daa196a-3630-4637-accb-8a6f56db0054"
      },
      "execution_count": 75,
      "outputs": [
        {
          "output_type": "execute_result",
          "data": {
            "text/plain": [
              "tensor(0.0005, grad_fn=<SelectBackward0>)"
            ]
          },
          "metadata": {},
          "execution_count": 75
        }
      ]
    },
    {
      "cell_type": "code",
      "source": [
        "with torch.no_grad(): weights[0] *=0.001"
      ],
      "metadata": {
        "id": "phKfUViZUzUA"
      },
      "execution_count": 73,
      "outputs": []
    },
    {
      "cell_type": "code",
      "source": [
        "preds = linear1(train_x)\n",
        "((preds>0.0).float() == train_y).float().mean().item()"
      ],
      "metadata": {
        "colab": {
          "base_uri": "https://localhost:8080/"
        },
        "id": "eKqQy36sVPwf",
        "outputId": "7d0b5c24-ed92-4ae7-8086-aaceba4342c5"
      },
      "execution_count": 74,
      "outputs": [
        {
          "output_type": "execute_result",
          "data": {
            "text/plain": [
              "0.49613240361213684"
            ]
          },
          "metadata": {},
          "execution_count": 74
        }
      ]
    },
    {
      "cell_type": "markdown",
      "source": [
        "## Search for loss function\n",
        "To modify our weights we need gradients; which represent instantaneous change for loss function (in case of neural network).\n",
        "We can use accuracy as our loss function; but there is a technical issue which causes our gradient to be flat for almost whole prediction and infinity at the meeting.\n",
        "\n",
        "Since our prediction's gradient didn't improve our model's performance (ACCURACY), the gradient"
      ],
      "metadata": {
        "id": "8SNOcnRMV-Hv"
      }
    },
    {
      "cell_type": "code",
      "source": [],
      "metadata": {
        "id": "Cb65UId-WBD4"
      },
      "execution_count": null,
      "outputs": []
    }
  ]
}