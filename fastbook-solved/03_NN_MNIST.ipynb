{
 "cells": [
  {
   "cell_type": "code",
   "execution_count": 1,
   "metadata": {
    "colab": {
     "base_uri": "https://localhost:8080/"
    },
    "id": "Oi6RZL7cLKWA",
    "outputId": "d6f58989-622d-48c0-9b33-22e9e93695c5"
   },
   "outputs": [
    {
     "name": "stdout",
     "output_type": "stream",
     "text": [
      "\u001b[2K     \u001b[90m━━━━━━━━━━━━━━━━━━━━━━━━━━━━━━━━━━━━━━━━\u001b[0m \u001b[32m719.8/719.8 kB\u001b[0m \u001b[31m7.3 MB/s\u001b[0m eta \u001b[36m0:00:00\u001b[0m\n",
      "\u001b[2K     \u001b[90m━━━━━━━━━━━━━━━━━━━━━━━━━━━━━━━━━━━━━━━━\u001b[0m \u001b[32m507.1/507.1 kB\u001b[0m \u001b[31m10.4 MB/s\u001b[0m eta \u001b[36m0:00:00\u001b[0m\n",
      "\u001b[2K     \u001b[90m━━━━━━━━━━━━━━━━━━━━━━━━━━━━━━━━━━━━━━━━\u001b[0m \u001b[32m115.3/115.3 kB\u001b[0m \u001b[31m12.4 MB/s\u001b[0m eta \u001b[36m0:00:00\u001b[0m\n",
      "\u001b[2K     \u001b[90m━━━━━━━━━━━━━━━━━━━━━━━━━━━━━━━━━━━━━━━━\u001b[0m \u001b[32m134.8/134.8 kB\u001b[0m \u001b[31m11.1 MB/s\u001b[0m eta \u001b[36m0:00:00\u001b[0m\n",
      "\u001b[2K     \u001b[90m━━━━━━━━━━━━━━━━━━━━━━━━━━━━━━━━━━━━━━━━\u001b[0m \u001b[32m1.6/1.6 MB\u001b[0m \u001b[31m13.4 MB/s\u001b[0m eta \u001b[36m0:00:00\u001b[0m\n",
      "\u001b[2K     \u001b[90m━━━━━━━━━━━━━━━━━━━━━━━━━━━━━━━━━━━━━━━━\u001b[0m \u001b[32m134.8/134.8 kB\u001b[0m \u001b[31m13.5 MB/s\u001b[0m eta \u001b[36m0:00:00\u001b[0m\n",
      "\u001b[?25hMounted at /content/gdrive\n"
     ]
    }
   ],
   "source": [
    "#hide\n",
    "! [ -e /content ] && pip install -Uqq fastbook\n",
    "import fastbook\n",
    "fastbook.setup_book()"
   ]
  },
  {
   "cell_type": "code",
   "execution_count": 2,
   "metadata": {
    "id": "7gKyl5NtZiUR"
   },
   "outputs": [],
   "source": [
    "#hide\n",
    "from fastai.vision.all import *\n",
    "from fastbook import *\n",
    "\n",
    "matplotlib.rc('image', cmap='Greys')"
   ]
  },
  {
   "cell_type": "code",
   "execution_count": 3,
   "metadata": {
    "id": "yhAGQxcM6zW4"
   },
   "outputs": [],
   "source": [
    "#torch.manual_seed(42)"
   ]
  },
  {
   "cell_type": "markdown",
   "metadata": {
    "id": "CXv7X621auT5"
   },
   "source": [
    "# Applying Manual Classifier just by using Math\n",
    "Using MNIST Dataset"
   ]
  },
  {
   "cell_type": "code",
   "execution_count": 4,
   "metadata": {
    "colab": {
     "base_uri": "https://localhost:8080/",
     "height": 54
    },
    "id": "ltsm8wx0bk-e",
    "outputId": "8357f8e8-3dba-40f6-8124-e53d72676729"
   },
   "outputs": [
    {
     "data": {
      "text/html": [
       "\n",
       "<style>\n",
       "    /* Turns off some styling */\n",
       "    progress {\n",
       "        /* gets rid of default border in Firefox and Opera. */\n",
       "        border: none;\n",
       "        /* Needs to be in here for Safari polyfill so background images work as expected. */\n",
       "        background-size: auto;\n",
       "    }\n",
       "    progress:not([value]), progress:not([value])::-webkit-progress-bar {\n",
       "        background: repeating-linear-gradient(45deg, #7e7e7e, #7e7e7e 10px, #5c5c5c 10px, #5c5c5c 20px);\n",
       "    }\n",
       "    .progress-bar-interrupted, .progress-bar-interrupted::-webkit-progress-bar {\n",
       "        background: #F44336;\n",
       "    }\n",
       "</style>\n"
      ],
      "text/plain": [
       "<IPython.core.display.HTML object>"
      ]
     },
     "metadata": {},
     "output_type": "display_data"
    },
    {
     "data": {
      "text/html": [
       "\n",
       "    <div>\n",
       "      <progress value='3219456' class='' max='3214948' style='width:300px; height:20px; vertical-align: middle;'></progress>\n",
       "      100.14% [3219456/3214948 00:01&lt;00:00]\n",
       "    </div>\n",
       "    "
      ],
      "text/plain": [
       "<IPython.core.display.HTML object>"
      ]
     },
     "metadata": {},
     "output_type": "display_data"
    },
    {
     "data": {
      "text/plain": [
       "(#3) [Path('labels.csv'),Path('train'),Path('valid')]"
      ]
     },
     "execution_count": 4,
     "metadata": {},
     "output_type": "execute_result"
    }
   ],
   "source": [
    "path = untar_data(URLs.MNIST_SAMPLE)\n",
    "Path.BASE_PATH = path\n",
    "path.ls()"
   ]
  },
  {
   "cell_type": "code",
   "execution_count": 5,
   "metadata": {
    "colab": {
     "base_uri": "https://localhost:8080/"
    },
    "id": "mE3o__evcCTb",
    "outputId": "1ccd908a-b7bf-49f9-e8e8-70f9f353f068"
   },
   "outputs": [
    {
     "data": {
      "text/plain": [
       "(#2) [Path('train/3'),Path('train/7')]"
      ]
     },
     "execution_count": 5,
     "metadata": {},
     "output_type": "execute_result"
    }
   ],
   "source": [
    "#We are only training classifier which can classify 3 and 7\n",
    "(path/'train').ls()"
   ]
  },
  {
   "cell_type": "code",
   "execution_count": 6,
   "metadata": {
    "colab": {
     "base_uri": "https://localhost:8080/"
    },
    "id": "GBo5Yldzcwpj",
    "outputId": "cdffdb05-c84e-42fe-9999-f7b30de6be02"
   },
   "outputs": [
    {
     "data": {
      "text/plain": [
       "(#6131) [Path('train/3/10.png'),Path('train/3/10000.png'),Path('train/3/10011.png'),Path('train/3/10031.png'),Path('train/3/10034.png'),Path('train/3/10042.png'),Path('train/3/10052.png'),Path('train/3/1007.png'),Path('train/3/10074.png'),Path('train/3/10091.png')...]"
      ]
     },
     "execution_count": 6,
     "metadata": {},
     "output_type": "execute_result"
    }
   ],
   "source": [
    "threes = (path/'train'/'3').ls().sorted()\n",
    "sevens = (path/'train'/'7').ls().sorted()\n",
    "threes"
   ]
  },
  {
   "cell_type": "code",
   "execution_count": 7,
   "metadata": {
    "colab": {
     "base_uri": "https://localhost:8080/",
     "height": 288
    },
    "id": "J0K4tns1c-EQ",
    "outputId": "75ae7075-8522-444e-a3e2-9b913571bf2c"
   },
   "outputs": [
    {
     "name": "stdout",
     "output_type": "stream",
     "text": [
      "np:\n",
      " [[  0   0   0   0   0   0]\n",
      " [  0   0   0  29 150 195]\n",
      " [  0  48 166 224 253 253]\n",
      " [244 249 253 187  46  10]\n",
      " [253 253 230  48   0   0]\n",
      " [ 20  20  15   0   0   0]]\n",
      "tensor:\n",
      " tensor([[  0,   0,   0,   0,   0,   0],\n",
      "        [  0,   0,   0,  29, 150, 195],\n",
      "        [  0,  48, 166, 224, 253, 253],\n",
      "        [244, 249, 253, 187,  46,  10],\n",
      "        [253, 253, 230,  48,   0,   0],\n",
      "        [ 20,  20,  15,   0,   0,   0]], dtype=torch.uint8)\n"
     ]
    },
    {
     "data": {
      "image/png": "[encoded data removed]",
      "text/plain": [
       "<PIL.PngImagePlugin.PngImageFile image mode=L size=28x28>"
      ]
     },
     "execution_count": 7,
     "metadata": {},
     "output_type": "execute_result"
    }
   ],
   "source": [
    "im3_path = threes[1]\n",
    "im3 = Image.open(im3_path)\n",
    "print(\"np:\\n\", array(im3)[4:10, 6:12])\n",
    "print(\"tensor:\\n\", tensor(im3)[4:10, 6: 12])\n",
    "im3"
   ]
  },
  {
   "cell_type": "code",
   "execution_count": 8,
   "metadata": {
    "colab": {
     "base_uri": "https://localhost:8080/",
     "height": 394
    },
    "id": "ukPT7amxdoJL",
    "outputId": "651c4b5b-cbe4-4b31-ee18-d96e63695ec5"
   },
   "outputs": [
    {
     "data": {
      "text/html": [
       "<style type=\"text/css\">\n",
       "#T_78b35_row0_col0, #T_78b35_row0_col1, #T_78b35_row0_col2, #T_78b35_row0_col3, #T_78b35_row0_col4, #T_78b35_row0_col5, #T_78b35_row0_col6, #T_78b35_row0_col7, #T_78b35_row0_col8, #T_78b35_row0_col9, #T_78b35_row0_col10, #T_78b35_row0_col11, #T_78b35_row0_col12, #T_78b35_row0_col13, #T_78b35_row0_col14, #T_78b35_row0_col15, #T_78b35_row0_col16, #T_78b35_row0_col17, #T_78b35_row1_col0, #T_78b35_row1_col1, #T_78b35_row1_col2, #T_78b35_row1_col3, #T_78b35_row1_col4, #T_78b35_row1_col15, #T_78b35_row1_col16, #T_78b35_row1_col17, #T_78b35_row2_col0, #T_78b35_row2_col1, #T_78b35_row2_col2, #T_78b35_row2_col15, #T_78b35_row2_col16, #T_78b35_row2_col17, #T_78b35_row3_col0, #T_78b35_row3_col15, #T_78b35_row3_col16, #T_78b35_row3_col17, #T_78b35_row4_col0, #T_78b35_row4_col6, #T_78b35_row4_col7, #T_78b35_row4_col8, #T_78b35_row4_col9, #T_78b35_row4_col10, #T_78b35_row4_col15, #T_78b35_row4_col16, #T_78b35_row4_col17, #T_78b35_row5_col0, #T_78b35_row5_col5, #T_78b35_row5_col6, #T_78b35_row5_col7, #T_78b35_row5_col8, #T_78b35_row5_col9, #T_78b35_row5_col15, #T_78b35_row5_col16, #T_78b35_row5_col17, #T_78b35_row6_col0, #T_78b35_row6_col1, #T_78b35_row6_col2, #T_78b35_row6_col3, #T_78b35_row6_col4, #T_78b35_row6_col5, #T_78b35_row6_col6, #T_78b35_row6_col7, #T_78b35_row6_col8, #T_78b35_row6_col9, #T_78b35_row6_col14, #T_78b35_row6_col15, #T_78b35_row6_col16, #T_78b35_row6_col17, #T_78b35_row7_col0, #T_78b35_row7_col1, #T_78b35_row7_col2, #T_78b35_row7_col3, #T_78b35_row7_col4, #T_78b35_row7_col5, #T_78b35_row7_col6, #T_78b35_row7_col13, #T_78b35_row7_col14, #T_78b35_row7_col15, #T_78b35_row7_col16, #T_78b35_row7_col17, #T_78b35_row8_col0, #T_78b35_row8_col1, #T_78b35_row8_col2, #T_78b35_row8_col3, #T_78b35_row8_col4, #T_78b35_row8_col13, #T_78b35_row8_col14, #T_78b35_row8_col15, #T_78b35_row8_col16, #T_78b35_row8_col17, #T_78b35_row9_col0, #T_78b35_row9_col1, #T_78b35_row9_col2, #T_78b35_row9_col3, #T_78b35_row9_col4, #T_78b35_row9_col16, #T_78b35_row9_col17, #T_78b35_row10_col0, #T_78b35_row10_col1, #T_78b35_row10_col2, #T_78b35_row10_col3, #T_78b35_row10_col4, #T_78b35_row10_col5, #T_78b35_row10_col6, #T_78b35_row10_col17 {\n",
       "  font-size: 6pt;\n",
       "  background-color: #f7fbff;\n",
       "  color: #000000;\n",
       "}\n",
       "#T_78b35_row1_col5 {\n",
       "  font-size: 6pt;\n",
       "  background-color: #ddeaf7;\n",
       "  color: #000000;\n",
       "}\n",
       "#T_78b35_row1_col6, #T_78b35_row1_col13 {\n",
       "  font-size: 6pt;\n",
       "  background-color: #4d99ca;\n",
       "  color: #f1f1f1;\n",
       "}\n",
       "#T_78b35_row1_col7 {\n",
       "  font-size: 6pt;\n",
       "  background-color: #1c6bb0;\n",
       "  color: #f1f1f1;\n",
       "}\n",
       "#T_78b35_row1_col8, #T_78b35_row1_col9, #T_78b35_row1_col10, #T_78b35_row2_col5, #T_78b35_row2_col6, #T_78b35_row2_col7, #T_78b35_row2_col11, #T_78b35_row2_col12, #T_78b35_row2_col13, #T_78b35_row3_col4, #T_78b35_row3_col12, #T_78b35_row3_col13, #T_78b35_row4_col1, #T_78b35_row4_col2, #T_78b35_row4_col3, #T_78b35_row4_col12, #T_78b35_row4_col13, #T_78b35_row5_col12, #T_78b35_row6_col11, #T_78b35_row9_col11, #T_78b35_row10_col11, #T_78b35_row10_col12, #T_78b35_row10_col13, #T_78b35_row10_col14, #T_78b35_row10_col15, #T_78b35_row10_col16 {\n",
       "  font-size: 6pt;\n",
       "  background-color: #08306b;\n",
       "  color: #f1f1f1;\n",
       "}\n",
       "#T_78b35_row1_col11 {\n",
       "  font-size: 6pt;\n",
       "  background-color: #2f7fbc;\n",
       "  color: #f1f1f1;\n",
       "}\n",
       "#T_78b35_row1_col12 {\n",
       "  font-size: 6pt;\n",
       "  background-color: #1e6db2;\n",
       "  color: #f1f1f1;\n",
       "}\n",
       "#T_78b35_row1_col14 {\n",
       "  font-size: 6pt;\n",
       "  background-color: #9cc9e1;\n",
       "  color: #000000;\n",
       "}\n",
       "#T_78b35_row2_col3 {\n",
       "  font-size: 6pt;\n",
       "  background-color: #d2e3f3;\n",
       "  color: #000000;\n",
       "}\n",
       "#T_78b35_row2_col4, #T_78b35_row8_col6 {\n",
       "  font-size: 6pt;\n",
       "  background-color: #3a8ac2;\n",
       "  color: #f1f1f1;\n",
       "}\n",
       "#T_78b35_row2_col8, #T_78b35_row2_col14, #T_78b35_row3_col14 {\n",
       "  font-size: 6pt;\n",
       "  background-color: #08458a;\n",
       "  color: #f1f1f1;\n",
       "}\n",
       "#T_78b35_row2_col9, #T_78b35_row3_col11 {\n",
       "  font-size: 6pt;\n",
       "  background-color: #1d6cb1;\n",
       "  color: #f1f1f1;\n",
       "}\n",
       "#T_78b35_row2_col10, #T_78b35_row7_col10, #T_78b35_row8_col8, #T_78b35_row8_col10, #T_78b35_row9_col8, #T_78b35_row9_col10 {\n",
       "  font-size: 6pt;\n",
       "  background-color: #08316d;\n",
       "  color: #f1f1f1;\n",
       "}\n",
       "#T_78b35_row3_col1 {\n",
       "  font-size: 6pt;\n",
       "  background-color: #09529d;\n",
       "  color: #f1f1f1;\n",
       "}\n",
       "#T_78b35_row3_col2 {\n",
       "  font-size: 6pt;\n",
       "  background-color: #083979;\n",
       "  color: #f1f1f1;\n",
       "}\n",
       "#T_78b35_row3_col3 {\n",
       "  font-size: 6pt;\n",
       "  background-color: #083471;\n",
       "  color: #f1f1f1;\n",
       "}\n",
       "#T_78b35_row3_col5 {\n",
       "  font-size: 6pt;\n",
       "  background-color: #105ba4;\n",
       "  color: #f1f1f1;\n",
       "}\n",
       "#T_78b35_row3_col6 {\n",
       "  font-size: 6pt;\n",
       "  background-color: #d3e4f3;\n",
       "  color: #000000;\n",
       "}\n",
       "#T_78b35_row3_col7, #T_78b35_row3_col10 {\n",
       "  font-size: 6pt;\n",
       "  background-color: #eff6fc;\n",
       "  color: #000000;\n",
       "}\n",
       "#T_78b35_row3_col8 {\n",
       "  font-size: 6pt;\n",
       "  background-color: #f1f7fd;\n",
       "  color: #000000;\n",
       "}\n",
       "#T_78b35_row3_col9 {\n",
       "  font-size: 6pt;\n",
       "  background-color: #f4f9fe;\n",
       "  color: #000000;\n",
       "}\n",
       "#T_78b35_row4_col4 {\n",
       "  font-size: 6pt;\n",
       "  background-color: #08488e;\n",
       "  color: #f1f1f1;\n",
       "}\n",
       "#T_78b35_row4_col5 {\n",
       "  font-size: 6pt;\n",
       "  background-color: #cde0f1;\n",
       "  color: #000000;\n",
       "}\n",
       "#T_78b35_row4_col11 {\n",
       "  font-size: 6pt;\n",
       "  background-color: #1f6eb3;\n",
       "  color: #f1f1f1;\n",
       "}\n",
       "#T_78b35_row4_col14 {\n",
       "  font-size: 6pt;\n",
       "  background-color: #4594c7;\n",
       "  color: #f1f1f1;\n",
       "}\n",
       "#T_78b35_row5_col1 {\n",
       "  font-size: 6pt;\n",
       "  background-color: #f2f7fd;\n",
       "  color: #000000;\n",
       "}\n",
       "#T_78b35_row5_col2, #T_78b35_row5_col3 {\n",
       "  font-size: 6pt;\n",
       "  background-color: #e7f1fa;\n",
       "  color: #000000;\n",
       "}\n",
       "#T_78b35_row5_col4 {\n",
       "  font-size: 6pt;\n",
       "  background-color: #ebf3fb;\n",
       "  color: #000000;\n",
       "}\n",
       "#T_78b35_row5_col10, #T_78b35_row10_col7 {\n",
       "  font-size: 6pt;\n",
       "  background-color: #d6e5f4;\n",
       "  color: #000000;\n",
       "}\n",
       "#T_78b35_row5_col11 {\n",
       "  font-size: 6pt;\n",
       "  background-color: #084e98;\n",
       "  color: #f1f1f1;\n",
       "}\n",
       "#T_78b35_row5_col13, #T_78b35_row6_col12 {\n",
       "  font-size: 6pt;\n",
       "  background-color: #083877;\n",
       "  color: #f1f1f1;\n",
       "}\n",
       "#T_78b35_row5_col14 {\n",
       "  font-size: 6pt;\n",
       "  background-color: #b9d6ea;\n",
       "  color: #000000;\n",
       "}\n",
       "#T_78b35_row6_col10, #T_78b35_row7_col11, #T_78b35_row9_col6 {\n",
       "  font-size: 6pt;\n",
       "  background-color: #083573;\n",
       "  color: #f1f1f1;\n",
       "}\n",
       "#T_78b35_row6_col13 {\n",
       "  font-size: 6pt;\n",
       "  background-color: #6caed6;\n",
       "  color: #f1f1f1;\n",
       "}\n",
       "#T_78b35_row7_col7 {\n",
       "  font-size: 6pt;\n",
       "  background-color: #ecf4fb;\n",
       "  color: #000000;\n",
       "}\n",
       "#T_78b35_row7_col8 {\n",
       "  font-size: 6pt;\n",
       "  background-color: #95c5df;\n",
       "  color: #000000;\n",
       "}\n",
       "#T_78b35_row7_col9 {\n",
       "  font-size: 6pt;\n",
       "  background-color: #08519c;\n",
       "  color: #f1f1f1;\n",
       "}\n",
       "#T_78b35_row7_col12 {\n",
       "  font-size: 6pt;\n",
       "  background-color: #6fb0d7;\n",
       "  color: #f1f1f1;\n",
       "}\n",
       "#T_78b35_row8_col5 {\n",
       "  font-size: 6pt;\n",
       "  background-color: #eef5fc;\n",
       "  color: #000000;\n",
       "}\n",
       "#T_78b35_row8_col7 {\n",
       "  font-size: 6pt;\n",
       "  background-color: #083e81;\n",
       "  color: #f1f1f1;\n",
       "}\n",
       "#T_78b35_row8_col9, #T_78b35_row9_col9 {\n",
       "  font-size: 6pt;\n",
       "  background-color: #08326e;\n",
       "  color: #f1f1f1;\n",
       "}\n",
       "#T_78b35_row8_col11 {\n",
       "  font-size: 6pt;\n",
       "  background-color: #2373b6;\n",
       "  color: #f1f1f1;\n",
       "}\n",
       "#T_78b35_row8_col12 {\n",
       "  font-size: 6pt;\n",
       "  background-color: #dfecf7;\n",
       "  color: #000000;\n",
       "}\n",
       "#T_78b35_row9_col5 {\n",
       "  font-size: 6pt;\n",
       "  background-color: #e9f2fa;\n",
       "  color: #000000;\n",
       "}\n",
       "#T_78b35_row9_col7 {\n",
       "  font-size: 6pt;\n",
       "  background-color: #083370;\n",
       "  color: #f1f1f1;\n",
       "}\n",
       "#T_78b35_row9_col12 {\n",
       "  font-size: 6pt;\n",
       "  background-color: #08468b;\n",
       "  color: #f1f1f1;\n",
       "}\n",
       "#T_78b35_row9_col13 {\n",
       "  font-size: 6pt;\n",
       "  background-color: #0e59a2;\n",
       "  color: #f1f1f1;\n",
       "}\n",
       "#T_78b35_row9_col14 {\n",
       "  font-size: 6pt;\n",
       "  background-color: #84bcdb;\n",
       "  color: #000000;\n",
       "}\n",
       "#T_78b35_row9_col15 {\n",
       "  font-size: 6pt;\n",
       "  background-color: #f5fafe;\n",
       "  color: #000000;\n",
       "}\n",
       "#T_78b35_row10_col8, #T_78b35_row10_col9 {\n",
       "  font-size: 6pt;\n",
       "  background-color: #9ac8e0;\n",
       "  color: #000000;\n",
       "}\n",
       "#T_78b35_row10_col10 {\n",
       "  font-size: 6pt;\n",
       "  background-color: #135fa7;\n",
       "  color: #f1f1f1;\n",
       "}\n",
       "</style>\n",
       "<table id=\"T_78b35\" class=\"dataframe\">\n",
       "  <thead>\n",
       "    <tr>\n",
       "      <th class=\"blank level0\" >&nbsp;</th>\n",
       "      <th id=\"T_78b35_level0_col0\" class=\"col_heading level0 col0\" >0</th>\n",
       "      <th id=\"T_78b35_level0_col1\" class=\"col_heading level0 col1\" >1</th>\n",
       "      <th id=\"T_78b35_level0_col2\" class=\"col_heading level0 col2\" >2</th>\n",
       "      <th id=\"T_78b35_level0_col3\" class=\"col_heading level0 col3\" >3</th>\n",
       "      <th id=\"T_78b35_level0_col4\" class=\"col_heading level0 col4\" >4</th>\n",
       "      <th id=\"T_78b35_level0_col5\" class=\"col_heading level0 col5\" >5</th>\n",
       "      <th id=\"T_78b35_level0_col6\" class=\"col_heading level0 col6\" >6</th>\n",
       "      <th id=\"T_78b35_level0_col7\" class=\"col_heading level0 col7\" >7</th>\n",
       "      <th id=\"T_78b35_level0_col8\" class=\"col_heading level0 col8\" >8</th>\n",
       "      <th id=\"T_78b35_level0_col9\" class=\"col_heading level0 col9\" >9</th>\n",
       "      <th id=\"T_78b35_level0_col10\" class=\"col_heading level0 col10\" >10</th>\n",
       "      <th id=\"T_78b35_level0_col11\" class=\"col_heading level0 col11\" >11</th>\n",
       "      <th id=\"T_78b35_level0_col12\" class=\"col_heading level0 col12\" >12</th>\n",
       "      <th id=\"T_78b35_level0_col13\" class=\"col_heading level0 col13\" >13</th>\n",
       "      <th id=\"T_78b35_level0_col14\" class=\"col_heading level0 col14\" >14</th>\n",
       "      <th id=\"T_78b35_level0_col15\" class=\"col_heading level0 col15\" >15</th>\n",
       "      <th id=\"T_78b35_level0_col16\" class=\"col_heading level0 col16\" >16</th>\n",
       "      <th id=\"T_78b35_level0_col17\" class=\"col_heading level0 col17\" >17</th>\n",
       "    </tr>\n",
       "  </thead>\n",
       "  <tbody>\n",
       "    <tr>\n",
       "      <th id=\"T_78b35_level0_row0\" class=\"row_heading level0 row0\" >0</th>\n",
       "      <td id=\"T_78b35_row0_col0\" class=\"data row0 col0\" >0</td>\n",
       "      <td id=\"T_78b35_row0_col1\" class=\"data row0 col1\" >0</td>\n",
       "      <td id=\"T_78b35_row0_col2\" class=\"data row0 col2\" >0</td>\n",
       "      <td id=\"T_78b35_row0_col3\" class=\"data row0 col3\" >0</td>\n",
       "      <td id=\"T_78b35_row0_col4\" class=\"data row0 col4\" >0</td>\n",
       "      <td id=\"T_78b35_row0_col5\" class=\"data row0 col5\" >0</td>\n",
       "      <td id=\"T_78b35_row0_col6\" class=\"data row0 col6\" >0</td>\n",
       "      <td id=\"T_78b35_row0_col7\" class=\"data row0 col7\" >0</td>\n",
       "      <td id=\"T_78b35_row0_col8\" class=\"data row0 col8\" >0</td>\n",
       "      <td id=\"T_78b35_row0_col9\" class=\"data row0 col9\" >0</td>\n",
       "      <td id=\"T_78b35_row0_col10\" class=\"data row0 col10\" >0</td>\n",
       "      <td id=\"T_78b35_row0_col11\" class=\"data row0 col11\" >0</td>\n",
       "      <td id=\"T_78b35_row0_col12\" class=\"data row0 col12\" >0</td>\n",
       "      <td id=\"T_78b35_row0_col13\" class=\"data row0 col13\" >0</td>\n",
       "      <td id=\"T_78b35_row0_col14\" class=\"data row0 col14\" >0</td>\n",
       "      <td id=\"T_78b35_row0_col15\" class=\"data row0 col15\" >0</td>\n",
       "      <td id=\"T_78b35_row0_col16\" class=\"data row0 col16\" >0</td>\n",
       "      <td id=\"T_78b35_row0_col17\" class=\"data row0 col17\" >0</td>\n",
       "    </tr>\n",
       "    <tr>\n",
       "      <th id=\"T_78b35_level0_row1\" class=\"row_heading level0 row1\" >1</th>\n",
       "      <td id=\"T_78b35_row1_col0\" class=\"data row1 col0\" >0</td>\n",
       "      <td id=\"T_78b35_row1_col1\" class=\"data row1 col1\" >0</td>\n",
       "      <td id=\"T_78b35_row1_col2\" class=\"data row1 col2\" >0</td>\n",
       "      <td id=\"T_78b35_row1_col3\" class=\"data row1 col3\" >0</td>\n",
       "      <td id=\"T_78b35_row1_col4\" class=\"data row1 col4\" >0</td>\n",
       "      <td id=\"T_78b35_row1_col5\" class=\"data row1 col5\" >29</td>\n",
       "      <td id=\"T_78b35_row1_col6\" class=\"data row1 col6\" >150</td>\n",
       "      <td id=\"T_78b35_row1_col7\" class=\"data row1 col7\" >195</td>\n",
       "      <td id=\"T_78b35_row1_col8\" class=\"data row1 col8\" >254</td>\n",
       "      <td id=\"T_78b35_row1_col9\" class=\"data row1 col9\" >255</td>\n",
       "      <td id=\"T_78b35_row1_col10\" class=\"data row1 col10\" >254</td>\n",
       "      <td id=\"T_78b35_row1_col11\" class=\"data row1 col11\" >176</td>\n",
       "      <td id=\"T_78b35_row1_col12\" class=\"data row1 col12\" >193</td>\n",
       "      <td id=\"T_78b35_row1_col13\" class=\"data row1 col13\" >150</td>\n",
       "      <td id=\"T_78b35_row1_col14\" class=\"data row1 col14\" >96</td>\n",
       "      <td id=\"T_78b35_row1_col15\" class=\"data row1 col15\" >0</td>\n",
       "      <td id=\"T_78b35_row1_col16\" class=\"data row1 col16\" >0</td>\n",
       "      <td id=\"T_78b35_row1_col17\" class=\"data row1 col17\" >0</td>\n",
       "    </tr>\n",
       "    <tr>\n",
       "      <th id=\"T_78b35_level0_row2\" class=\"row_heading level0 row2\" >2</th>\n",
       "      <td id=\"T_78b35_row2_col0\" class=\"data row2 col0\" >0</td>\n",
       "      <td id=\"T_78b35_row2_col1\" class=\"data row2 col1\" >0</td>\n",
       "      <td id=\"T_78b35_row2_col2\" class=\"data row2 col2\" >0</td>\n",
       "      <td id=\"T_78b35_row2_col3\" class=\"data row2 col3\" >48</td>\n",
       "      <td id=\"T_78b35_row2_col4\" class=\"data row2 col4\" >166</td>\n",
       "      <td id=\"T_78b35_row2_col5\" class=\"data row2 col5\" >224</td>\n",
       "      <td id=\"T_78b35_row2_col6\" class=\"data row2 col6\" >253</td>\n",
       "      <td id=\"T_78b35_row2_col7\" class=\"data row2 col7\" >253</td>\n",
       "      <td id=\"T_78b35_row2_col8\" class=\"data row2 col8\" >234</td>\n",
       "      <td id=\"T_78b35_row2_col9\" class=\"data row2 col9\" >196</td>\n",
       "      <td id=\"T_78b35_row2_col10\" class=\"data row2 col10\" >253</td>\n",
       "      <td id=\"T_78b35_row2_col11\" class=\"data row2 col11\" >253</td>\n",
       "      <td id=\"T_78b35_row2_col12\" class=\"data row2 col12\" >253</td>\n",
       "      <td id=\"T_78b35_row2_col13\" class=\"data row2 col13\" >253</td>\n",
       "      <td id=\"T_78b35_row2_col14\" class=\"data row2 col14\" >233</td>\n",
       "      <td id=\"T_78b35_row2_col15\" class=\"data row2 col15\" >0</td>\n",
       "      <td id=\"T_78b35_row2_col16\" class=\"data row2 col16\" >0</td>\n",
       "      <td id=\"T_78b35_row2_col17\" class=\"data row2 col17\" >0</td>\n",
       "    </tr>\n",
       "    <tr>\n",
       "      <th id=\"T_78b35_level0_row3\" class=\"row_heading level0 row3\" >3</th>\n",
       "      <td id=\"T_78b35_row3_col0\" class=\"data row3 col0\" >0</td>\n",
       "      <td id=\"T_78b35_row3_col1\" class=\"data row3 col1\" >93</td>\n",
       "      <td id=\"T_78b35_row3_col2\" class=\"data row3 col2\" >244</td>\n",
       "      <td id=\"T_78b35_row3_col3\" class=\"data row3 col3\" >249</td>\n",
       "      <td id=\"T_78b35_row3_col4\" class=\"data row3 col4\" >253</td>\n",
       "      <td id=\"T_78b35_row3_col5\" class=\"data row3 col5\" >187</td>\n",
       "      <td id=\"T_78b35_row3_col6\" class=\"data row3 col6\" >46</td>\n",
       "      <td id=\"T_78b35_row3_col7\" class=\"data row3 col7\" >10</td>\n",
       "      <td id=\"T_78b35_row3_col8\" class=\"data row3 col8\" >8</td>\n",
       "      <td id=\"T_78b35_row3_col9\" class=\"data row3 col9\" >4</td>\n",
       "      <td id=\"T_78b35_row3_col10\" class=\"data row3 col10\" >10</td>\n",
       "      <td id=\"T_78b35_row3_col11\" class=\"data row3 col11\" >194</td>\n",
       "      <td id=\"T_78b35_row3_col12\" class=\"data row3 col12\" >253</td>\n",
       "      <td id=\"T_78b35_row3_col13\" class=\"data row3 col13\" >253</td>\n",
       "      <td id=\"T_78b35_row3_col14\" class=\"data row3 col14\" >233</td>\n",
       "      <td id=\"T_78b35_row3_col15\" class=\"data row3 col15\" >0</td>\n",
       "      <td id=\"T_78b35_row3_col16\" class=\"data row3 col16\" >0</td>\n",
       "      <td id=\"T_78b35_row3_col17\" class=\"data row3 col17\" >0</td>\n",
       "    </tr>\n",
       "    <tr>\n",
       "      <th id=\"T_78b35_level0_row4\" class=\"row_heading level0 row4\" >4</th>\n",
       "      <td id=\"T_78b35_row4_col0\" class=\"data row4 col0\" >0</td>\n",
       "      <td id=\"T_78b35_row4_col1\" class=\"data row4 col1\" >107</td>\n",
       "      <td id=\"T_78b35_row4_col2\" class=\"data row4 col2\" >253</td>\n",
       "      <td id=\"T_78b35_row4_col3\" class=\"data row4 col3\" >253</td>\n",
       "      <td id=\"T_78b35_row4_col4\" class=\"data row4 col4\" >230</td>\n",
       "      <td id=\"T_78b35_row4_col5\" class=\"data row4 col5\" >48</td>\n",
       "      <td id=\"T_78b35_row4_col6\" class=\"data row4 col6\" >0</td>\n",
       "      <td id=\"T_78b35_row4_col7\" class=\"data row4 col7\" >0</td>\n",
       "      <td id=\"T_78b35_row4_col8\" class=\"data row4 col8\" >0</td>\n",
       "      <td id=\"T_78b35_row4_col9\" class=\"data row4 col9\" >0</td>\n",
       "      <td id=\"T_78b35_row4_col10\" class=\"data row4 col10\" >0</td>\n",
       "      <td id=\"T_78b35_row4_col11\" class=\"data row4 col11\" >192</td>\n",
       "      <td id=\"T_78b35_row4_col12\" class=\"data row4 col12\" >253</td>\n",
       "      <td id=\"T_78b35_row4_col13\" class=\"data row4 col13\" >253</td>\n",
       "      <td id=\"T_78b35_row4_col14\" class=\"data row4 col14\" >156</td>\n",
       "      <td id=\"T_78b35_row4_col15\" class=\"data row4 col15\" >0</td>\n",
       "      <td id=\"T_78b35_row4_col16\" class=\"data row4 col16\" >0</td>\n",
       "      <td id=\"T_78b35_row4_col17\" class=\"data row4 col17\" >0</td>\n",
       "    </tr>\n",
       "    <tr>\n",
       "      <th id=\"T_78b35_level0_row5\" class=\"row_heading level0 row5\" >5</th>\n",
       "      <td id=\"T_78b35_row5_col0\" class=\"data row5 col0\" >0</td>\n",
       "      <td id=\"T_78b35_row5_col1\" class=\"data row5 col1\" >3</td>\n",
       "      <td id=\"T_78b35_row5_col2\" class=\"data row5 col2\" >20</td>\n",
       "      <td id=\"T_78b35_row5_col3\" class=\"data row5 col3\" >20</td>\n",
       "      <td id=\"T_78b35_row5_col4\" class=\"data row5 col4\" >15</td>\n",
       "      <td id=\"T_78b35_row5_col5\" class=\"data row5 col5\" >0</td>\n",
       "      <td id=\"T_78b35_row5_col6\" class=\"data row5 col6\" >0</td>\n",
       "      <td id=\"T_78b35_row5_col7\" class=\"data row5 col7\" >0</td>\n",
       "      <td id=\"T_78b35_row5_col8\" class=\"data row5 col8\" >0</td>\n",
       "      <td id=\"T_78b35_row5_col9\" class=\"data row5 col9\" >0</td>\n",
       "      <td id=\"T_78b35_row5_col10\" class=\"data row5 col10\" >43</td>\n",
       "      <td id=\"T_78b35_row5_col11\" class=\"data row5 col11\" >224</td>\n",
       "      <td id=\"T_78b35_row5_col12\" class=\"data row5 col12\" >253</td>\n",
       "      <td id=\"T_78b35_row5_col13\" class=\"data row5 col13\" >245</td>\n",
       "      <td id=\"T_78b35_row5_col14\" class=\"data row5 col14\" >74</td>\n",
       "      <td id=\"T_78b35_row5_col15\" class=\"data row5 col15\" >0</td>\n",
       "      <td id=\"T_78b35_row5_col16\" class=\"data row5 col16\" >0</td>\n",
       "      <td id=\"T_78b35_row5_col17\" class=\"data row5 col17\" >0</td>\n",
       "    </tr>\n",
       "    <tr>\n",
       "      <th id=\"T_78b35_level0_row6\" class=\"row_heading level0 row6\" >6</th>\n",
       "      <td id=\"T_78b35_row6_col0\" class=\"data row6 col0\" >0</td>\n",
       "      <td id=\"T_78b35_row6_col1\" class=\"data row6 col1\" >0</td>\n",
       "      <td id=\"T_78b35_row6_col2\" class=\"data row6 col2\" >0</td>\n",
       "      <td id=\"T_78b35_row6_col3\" class=\"data row6 col3\" >0</td>\n",
       "      <td id=\"T_78b35_row6_col4\" class=\"data row6 col4\" >0</td>\n",
       "      <td id=\"T_78b35_row6_col5\" class=\"data row6 col5\" >0</td>\n",
       "      <td id=\"T_78b35_row6_col6\" class=\"data row6 col6\" >0</td>\n",
       "      <td id=\"T_78b35_row6_col7\" class=\"data row6 col7\" >0</td>\n",
       "      <td id=\"T_78b35_row6_col8\" class=\"data row6 col8\" >0</td>\n",
       "      <td id=\"T_78b35_row6_col9\" class=\"data row6 col9\" >0</td>\n",
       "      <td id=\"T_78b35_row6_col10\" class=\"data row6 col10\" >249</td>\n",
       "      <td id=\"T_78b35_row6_col11\" class=\"data row6 col11\" >253</td>\n",
       "      <td id=\"T_78b35_row6_col12\" class=\"data row6 col12\" >245</td>\n",
       "      <td id=\"T_78b35_row6_col13\" class=\"data row6 col13\" >126</td>\n",
       "      <td id=\"T_78b35_row6_col14\" class=\"data row6 col14\" >0</td>\n",
       "      <td id=\"T_78b35_row6_col15\" class=\"data row6 col15\" >0</td>\n",
       "      <td id=\"T_78b35_row6_col16\" class=\"data row6 col16\" >0</td>\n",
       "      <td id=\"T_78b35_row6_col17\" class=\"data row6 col17\" >0</td>\n",
       "    </tr>\n",
       "    <tr>\n",
       "      <th id=\"T_78b35_level0_row7\" class=\"row_heading level0 row7\" >7</th>\n",
       "      <td id=\"T_78b35_row7_col0\" class=\"data row7 col0\" >0</td>\n",
       "      <td id=\"T_78b35_row7_col1\" class=\"data row7 col1\" >0</td>\n",
       "      <td id=\"T_78b35_row7_col2\" class=\"data row7 col2\" >0</td>\n",
       "      <td id=\"T_78b35_row7_col3\" class=\"data row7 col3\" >0</td>\n",
       "      <td id=\"T_78b35_row7_col4\" class=\"data row7 col4\" >0</td>\n",
       "      <td id=\"T_78b35_row7_col5\" class=\"data row7 col5\" >0</td>\n",
       "      <td id=\"T_78b35_row7_col6\" class=\"data row7 col6\" >0</td>\n",
       "      <td id=\"T_78b35_row7_col7\" class=\"data row7 col7\" >14</td>\n",
       "      <td id=\"T_78b35_row7_col8\" class=\"data row7 col8\" >101</td>\n",
       "      <td id=\"T_78b35_row7_col9\" class=\"data row7 col9\" >223</td>\n",
       "      <td id=\"T_78b35_row7_col10\" class=\"data row7 col10\" >253</td>\n",
       "      <td id=\"T_78b35_row7_col11\" class=\"data row7 col11\" >248</td>\n",
       "      <td id=\"T_78b35_row7_col12\" class=\"data row7 col12\" >124</td>\n",
       "      <td id=\"T_78b35_row7_col13\" class=\"data row7 col13\" >0</td>\n",
       "      <td id=\"T_78b35_row7_col14\" class=\"data row7 col14\" >0</td>\n",
       "      <td id=\"T_78b35_row7_col15\" class=\"data row7 col15\" >0</td>\n",
       "      <td id=\"T_78b35_row7_col16\" class=\"data row7 col16\" >0</td>\n",
       "      <td id=\"T_78b35_row7_col17\" class=\"data row7 col17\" >0</td>\n",
       "    </tr>\n",
       "    <tr>\n",
       "      <th id=\"T_78b35_level0_row8\" class=\"row_heading level0 row8\" >8</th>\n",
       "      <td id=\"T_78b35_row8_col0\" class=\"data row8 col0\" >0</td>\n",
       "      <td id=\"T_78b35_row8_col1\" class=\"data row8 col1\" >0</td>\n",
       "      <td id=\"T_78b35_row8_col2\" class=\"data row8 col2\" >0</td>\n",
       "      <td id=\"T_78b35_row8_col3\" class=\"data row8 col3\" >0</td>\n",
       "      <td id=\"T_78b35_row8_col4\" class=\"data row8 col4\" >0</td>\n",
       "      <td id=\"T_78b35_row8_col5\" class=\"data row8 col5\" >11</td>\n",
       "      <td id=\"T_78b35_row8_col6\" class=\"data row8 col6\" >166</td>\n",
       "      <td id=\"T_78b35_row8_col7\" class=\"data row8 col7\" >239</td>\n",
       "      <td id=\"T_78b35_row8_col8\" class=\"data row8 col8\" >253</td>\n",
       "      <td id=\"T_78b35_row8_col9\" class=\"data row8 col9\" >253</td>\n",
       "      <td id=\"T_78b35_row8_col10\" class=\"data row8 col10\" >253</td>\n",
       "      <td id=\"T_78b35_row8_col11\" class=\"data row8 col11\" >187</td>\n",
       "      <td id=\"T_78b35_row8_col12\" class=\"data row8 col12\" >30</td>\n",
       "      <td id=\"T_78b35_row8_col13\" class=\"data row8 col13\" >0</td>\n",
       "      <td id=\"T_78b35_row8_col14\" class=\"data row8 col14\" >0</td>\n",
       "      <td id=\"T_78b35_row8_col15\" class=\"data row8 col15\" >0</td>\n",
       "      <td id=\"T_78b35_row8_col16\" class=\"data row8 col16\" >0</td>\n",
       "      <td id=\"T_78b35_row8_col17\" class=\"data row8 col17\" >0</td>\n",
       "    </tr>\n",
       "    <tr>\n",
       "      <th id=\"T_78b35_level0_row9\" class=\"row_heading level0 row9\" >9</th>\n",
       "      <td id=\"T_78b35_row9_col0\" class=\"data row9 col0\" >0</td>\n",
       "      <td id=\"T_78b35_row9_col1\" class=\"data row9 col1\" >0</td>\n",
       "      <td id=\"T_78b35_row9_col2\" class=\"data row9 col2\" >0</td>\n",
       "      <td id=\"T_78b35_row9_col3\" class=\"data row9 col3\" >0</td>\n",
       "      <td id=\"T_78b35_row9_col4\" class=\"data row9 col4\" >0</td>\n",
       "      <td id=\"T_78b35_row9_col5\" class=\"data row9 col5\" >16</td>\n",
       "      <td id=\"T_78b35_row9_col6\" class=\"data row9 col6\" >248</td>\n",
       "      <td id=\"T_78b35_row9_col7\" class=\"data row9 col7\" >250</td>\n",
       "      <td id=\"T_78b35_row9_col8\" class=\"data row9 col8\" >253</td>\n",
       "      <td id=\"T_78b35_row9_col9\" class=\"data row9 col9\" >253</td>\n",
       "      <td id=\"T_78b35_row9_col10\" class=\"data row9 col10\" >253</td>\n",
       "      <td id=\"T_78b35_row9_col11\" class=\"data row9 col11\" >253</td>\n",
       "      <td id=\"T_78b35_row9_col12\" class=\"data row9 col12\" >232</td>\n",
       "      <td id=\"T_78b35_row9_col13\" class=\"data row9 col13\" >213</td>\n",
       "      <td id=\"T_78b35_row9_col14\" class=\"data row9 col14\" >111</td>\n",
       "      <td id=\"T_78b35_row9_col15\" class=\"data row9 col15\" >2</td>\n",
       "      <td id=\"T_78b35_row9_col16\" class=\"data row9 col16\" >0</td>\n",
       "      <td id=\"T_78b35_row9_col17\" class=\"data row9 col17\" >0</td>\n",
       "    </tr>\n",
       "    <tr>\n",
       "      <th id=\"T_78b35_level0_row10\" class=\"row_heading level0 row10\" >10</th>\n",
       "      <td id=\"T_78b35_row10_col0\" class=\"data row10 col0\" >0</td>\n",
       "      <td id=\"T_78b35_row10_col1\" class=\"data row10 col1\" >0</td>\n",
       "      <td id=\"T_78b35_row10_col2\" class=\"data row10 col2\" >0</td>\n",
       "      <td id=\"T_78b35_row10_col3\" class=\"data row10 col3\" >0</td>\n",
       "      <td id=\"T_78b35_row10_col4\" class=\"data row10 col4\" >0</td>\n",
       "      <td id=\"T_78b35_row10_col5\" class=\"data row10 col5\" >0</td>\n",
       "      <td id=\"T_78b35_row10_col6\" class=\"data row10 col6\" >0</td>\n",
       "      <td id=\"T_78b35_row10_col7\" class=\"data row10 col7\" >43</td>\n",
       "      <td id=\"T_78b35_row10_col8\" class=\"data row10 col8\" >98</td>\n",
       "      <td id=\"T_78b35_row10_col9\" class=\"data row10 col9\" >98</td>\n",
       "      <td id=\"T_78b35_row10_col10\" class=\"data row10 col10\" >208</td>\n",
       "      <td id=\"T_78b35_row10_col11\" class=\"data row10 col11\" >253</td>\n",
       "      <td id=\"T_78b35_row10_col12\" class=\"data row10 col12\" >253</td>\n",
       "      <td id=\"T_78b35_row10_col13\" class=\"data row10 col13\" >253</td>\n",
       "      <td id=\"T_78b35_row10_col14\" class=\"data row10 col14\" >253</td>\n",
       "      <td id=\"T_78b35_row10_col15\" class=\"data row10 col15\" >187</td>\n",
       "      <td id=\"T_78b35_row10_col16\" class=\"data row10 col16\" >22</td>\n",
       "      <td id=\"T_78b35_row10_col17\" class=\"data row10 col17\" >0</td>\n",
       "    </tr>\n",
       "  </tbody>\n",
       "</table>\n"
      ],
      "text/plain": [
       "<pandas.io.formats.style.Styler at 0x7fac2880f970>"
      ]
     },
     "execution_count": 8,
     "metadata": {},
     "output_type": "execute_result"
    }
   ],
   "source": [
    "im3_t = tensor(im3)\n",
    "df = pd.DataFrame(im3_t[4:15, 4:22])\n",
    "df.style.set_properties(**{'font-size': '6pt'}).background_gradient('Blues')"
   ]
  },
  {
   "cell_type": "markdown",
   "metadata": {
    "id": "J8CO0-wBec7h"
   },
   "source": [
    "## How to identify if its a 3 or 7?\n",
    "We can take average of all images in the folder for 3 and 7 individually; the resultant would be average or 'ideal 3' or 'ideal 7'. And later we will classify the digit is 3 or 7 by taking the difference to the ideal digits."
   ]
  },
  {
   "cell_type": "code",
   "execution_count": 9,
   "metadata": {
    "colab": {
     "base_uri": "https://localhost:8080/"
    },
    "id": "m8GXjDk8fXbn",
    "outputId": "804e0cd0-071a-4b03-f9f2-2585a4e0c454"
   },
   "outputs": [
    {
     "data": {
      "text/plain": [
       "(6131, 6265)"
      ]
     },
     "execution_count": 9,
     "metadata": {},
     "output_type": "execute_result"
    }
   ],
   "source": [
    "# Collecting all threes and sevens into one tensor\n",
    "three_tensor = [tensor(Image.open(o)) for o in threes]\n",
    "seven_tensor = [tensor(Image.open(o)) for o in sevens]\n",
    "len(three_tensor), len(seven_tensor)"
   ]
  },
  {
   "cell_type": "code",
   "execution_count": 10,
   "metadata": {
    "colab": {
     "base_uri": "https://localhost:8080/",
     "height": 131
    },
    "id": "KDcBq21OgimI",
    "outputId": "0f4043bc-f38d-4e54-f9f4-939d069d7f68"
   },
   "outputs": [
    {
     "data": {
      "text/plain": [
       "<Axes: >"
      ]
     },
     "execution_count": 10,
     "metadata": {},
     "output_type": "execute_result"
    },
    {
     "data": {
      "image/png": "[encoded data removed]",
      "text/plain": [
       "<Figure size 100x100 with 1 Axes>"
      ]
     },
     "metadata": {},
     "output_type": "display_data"
    }
   ],
   "source": [
    "show_image(three_tensor[1])"
   ]
  },
  {
   "cell_type": "code",
   "execution_count": 11,
   "metadata": {
    "colab": {
     "base_uri": "https://localhost:8080/"
    },
    "id": "8JSnQzWNgyR1",
    "outputId": "69055725-d822-4647-ae06-56741ed4d74a"
   },
   "outputs": [
    {
     "name": "stdout",
     "output_type": "stream",
     "text": [
      "torch.Size([6131, 28, 28]) torch.Size([28, 28])\n"
     ]
    },
    {
     "data": {
      "text/plain": [
       "tensor([[0.0000, 0.0000, 0.0000, 0.0000, 0.0000, 0.0000, 0.0000, 0.0000, 0.0000, 0.0000, 0.0000, 0.0000, 0.0000, 0.0000, 0.0000, 0.0000, 0.0000, 0.0000, 0.0000, 0.0000, 0.0000, 0.0000, 0.0000, 0.0000,\n",
       "         0.0000, 0.0000, 0.0000, 0.0000],\n",
       "        [0.0000, 0.0000, 0.0000, 0.0000, 0.0000, 0.0000, 0.0000, 0.0000, 0.0000, 0.0000, 0.0000, 0.0000, 0.0000, 0.0000, 0.0000, 0.0000, 0.0000, 0.0000, 0.0000, 0.0000, 0.0000, 0.0000, 0.0000, 0.0000,\n",
       "         0.0000, 0.0000, 0.0000, 0.0000],\n",
       "        [0.0000, 0.0000, 0.0000, 0.0000, 0.0000, 0.0000, 0.0000, 0.0000, 0.0000, 0.0000, 0.0000, 0.0000, 0.0000, 0.0000, 0.0000, 0.0000, 0.0000, 0.0000, 0.0000, 0.0000, 0.0000, 0.0000, 0.0000, 0.0000,\n",
       "         0.0000, 0.0000, 0.0000, 0.0000],\n",
       "        [0.0000, 0.0000, 0.0000, 0.0000, 0.0000, 0.0000, 0.0000, 0.0000, 0.0000, 0.0000, 0.0000, 0.0000, 0.0000, 0.0000, 0.0000, 0.0000, 0.0000, 0.0000, 0.0000, 0.0000, 0.0000, 0.0000, 0.0000, 0.0000,\n",
       "         0.0000, 0.0000, 0.0000, 0.0000],\n",
       "        [0.0000, 0.0000, 0.0000, 0.0000, 0.0000, 0.0000, 0.0000, 0.0000, 0.0000, 0.0000, 0.0000, 0.0000, 0.0000, 0.0000, 0.0000, 0.0000, 0.0000, 0.0000, 0.0000, 0.0000, 0.0000, 0.0000, 0.0000, 0.0000,\n",
       "         0.0000, 0.0000, 0.0000, 0.0000],\n",
       "        [0.0000, 0.0000, 0.0000, 0.0000, 0.0000, 0.0000, 0.0000, 0.0000, 0.0000, 0.1137, 0.5882, 0.7647, 0.9961, 1.0000, 0.9961, 0.6902, 0.7569, 0.5882, 0.3765, 0.0000, 0.0000, 0.0000, 0.0000, 0.0000,\n",
       "         0.0000, 0.0000, 0.0000, 0.0000],\n",
       "        [0.0000, 0.0000, 0.0000, 0.0000, 0.0000, 0.0000, 0.0000, 0.1882, 0.6510, 0.8784, 0.9922, 0.9922, 0.9176, 0.7686, 0.9922, 0.9922, 0.9922, 0.9922, 0.9137, 0.0000, 0.0000, 0.0000, 0.0000, 0.0000,\n",
       "         0.0000, 0.0000, 0.0000, 0.0000],\n",
       "        [0.0000, 0.0000, 0.0000, 0.0000, 0.0000, 0.3647, 0.9569, 0.9765, 0.9922, 0.7333, 0.1804, 0.0392, 0.0314, 0.0157, 0.0392, 0.7608, 0.9922, 0.9922, 0.9137, 0.0000, 0.0000, 0.0000, 0.0000, 0.0000,\n",
       "         0.0000, 0.0000, 0.0000, 0.0000],\n",
       "        [0.0000, 0.0000, 0.0000, 0.0000, 0.0000, 0.4196, 0.9922, 0.9922, 0.9020, 0.1882, 0.0000, 0.0000, 0.0000, 0.0000, 0.0000, 0.7529, 0.9922, 0.9922, 0.6118, 0.0000, 0.0000, 0.0000, 0.0000, 0.0000,\n",
       "         0.0000, 0.0000, 0.0000, 0.0000],\n",
       "        [0.0000, 0.0000, 0.0000, 0.0000, 0.0000, 0.0118, 0.0784, 0.0784, 0.0588, 0.0000, 0.0000, 0.0000, 0.0000, 0.0000, 0.1686, 0.8784, 0.9922, 0.9608, 0.2902, 0.0000, 0.0000, 0.0000, 0.0000, 0.0000,\n",
       "         0.0000, 0.0000, 0.0000, 0.0000],\n",
       "        [0.0000, 0.0000, 0.0000, 0.0000, 0.0000, 0.0000, 0.0000, 0.0000, 0.0000, 0.0000, 0.0000, 0.0000, 0.0000, 0.0000, 0.9765, 0.9922, 0.9608, 0.4941, 0.0000, 0.0000, 0.0000, 0.0000, 0.0000, 0.0000,\n",
       "         0.0000, 0.0000, 0.0000, 0.0000],\n",
       "        [0.0000, 0.0000, 0.0000, 0.0000, 0.0000, 0.0000, 0.0000, 0.0000, 0.0000, 0.0000, 0.0000, 0.0549, 0.3961, 0.8745, 0.9922, 0.9725, 0.4863, 0.0000, 0.0000, 0.0000, 0.0000, 0.0000, 0.0000, 0.0000,\n",
       "         0.0000, 0.0000, 0.0000, 0.0000],\n",
       "        [0.0000, 0.0000, 0.0000, 0.0000, 0.0000, 0.0000, 0.0000, 0.0000, 0.0000, 0.0431, 0.6510, 0.9373, 0.9922, 0.9922, 0.9922, 0.7333, 0.1176, 0.0000, 0.0000, 0.0000, 0.0000, 0.0000, 0.0000, 0.0000,\n",
       "         0.0000, 0.0000, 0.0000, 0.0000],\n",
       "        [0.0000, 0.0000, 0.0000, 0.0000, 0.0000, 0.0000, 0.0000, 0.0000, 0.0000, 0.0627, 0.9725, 0.9804, 0.9922, 0.9922, 0.9922, 0.9922, 0.9098, 0.8353, 0.4353, 0.0078, 0.0000, 0.0000, 0.0000, 0.0000,\n",
       "         0.0000, 0.0000, 0.0000, 0.0000],\n",
       "        [0.0000, 0.0000, 0.0000, 0.0000, 0.0000, 0.0000, 0.0000, 0.0000, 0.0000, 0.0000, 0.0000, 0.1686, 0.3843, 0.3843, 0.8157, 0.9922, 0.9922, 0.9922, 0.9922, 0.7333, 0.0863, 0.0000, 0.0000, 0.0000,\n",
       "         0.0000, 0.0000, 0.0000, 0.0000],\n",
       "        [0.0000, 0.0000, 0.0000, 0.0000, 0.0000, 0.0000, 0.0000, 0.0000, 0.0000, 0.0000, 0.0000, 0.0000, 0.0000, 0.0000, 0.0353, 0.2000, 0.4667, 0.9922, 0.9922, 0.9922, 0.2980, 0.0000, 0.0000, 0.0000,\n",
       "         0.0000, 0.0000, 0.0000, 0.0000],\n",
       "        [0.0000, 0.0000, 0.0000, 0.0000, 0.0000, 0.0000, 0.0000, 0.0000, 0.0000, 0.0000, 0.0000, 0.0000, 0.0000, 0.0000, 0.0000, 0.0000, 0.0039, 0.7176, 0.9922, 0.9922, 0.5451, 0.0000, 0.0000, 0.0000,\n",
       "         0.0000, 0.0000, 0.0000, 0.0000],\n",
       "        [0.0000, 0.0000, 0.0000, 0.0000, 0.0000, 0.0000, 0.0000, 0.0000, 0.0000, 0.0000, 0.0000, 0.0000, 0.0000, 0.0000, 0.0000, 0.0000, 0.0000, 0.7137, 0.9922, 0.9922, 0.4078, 0.0000, 0.0000, 0.0000,\n",
       "         0.0000, 0.0000, 0.0000, 0.0000],\n",
       "        [0.0000, 0.0000, 0.0000, 0.0000, 0.0000, 0.0000, 0.0000, 0.0000, 0.0000, 0.0000, 0.0000, 0.0000, 0.0000, 0.0000, 0.0000, 0.0000, 0.3333, 0.9765, 0.9922, 0.9922, 0.1412, 0.0000, 0.0000, 0.0000,\n",
       "         0.0000, 0.0000, 0.0000, 0.0000],\n",
       "        [0.0000, 0.0000, 0.0000, 0.0000, 0.0000, 0.0000, 0.0000, 0.0000, 0.0000, 0.0000, 0.0000, 0.0000, 0.0000, 0.0000, 0.0000, 0.2353, 0.8392, 0.9922, 0.9922, 0.6784, 0.0431, 0.0000, 0.0000, 0.0000,\n",
       "         0.0000, 0.0000, 0.0000, 0.0000],\n",
       "        [0.0000, 0.0000, 0.0000, 0.0000, 0.0000, 0.0000, 0.0000, 0.0000, 0.0000, 0.0000, 0.0000, 0.0000, 0.0000, 0.0000, 0.3843, 0.9686, 0.9922, 0.9922, 0.8863, 0.0353, 0.0000, 0.0000, 0.0000, 0.0000,\n",
       "         0.0000, 0.0000, 0.0000, 0.0000],\n",
       "        [0.0000, 0.0000, 0.0000, 0.0000, 0.0000, 0.0000, 0.0000, 0.0000, 0.0000, 0.0000, 0.0000, 0.0000, 0.1647, 0.5882, 0.9882, 0.9922, 0.9922, 0.9137, 0.2078, 0.0000, 0.0000, 0.0000, 0.0000, 0.0000,\n",
       "         0.0000, 0.0000, 0.0000, 0.0000],\n",
       "        [0.0000, 0.0000, 0.0000, 0.0000, 0.0000, 0.0000, 0.1647, 0.4510, 0.1647, 0.2353, 0.4510, 0.6235, 0.9412, 0.9922, 0.9922, 0.9804, 0.6863, 0.0980, 0.0000, 0.0000, 0.0000, 0.0000, 0.0000, 0.0000,\n",
       "         0.0000, 0.0000, 0.0000, 0.0000],\n",
       "        [0.0000, 0.0000, 0.0000, 0.0000, 0.0000, 0.0000, 0.7333, 0.9922, 0.9922, 0.9922, 0.9922, 0.9922, 0.9922, 0.9922, 0.7725, 0.3373, 0.0000, 0.0000, 0.0000, 0.0000, 0.0000, 0.0000, 0.0000, 0.0000,\n",
       "         0.0000, 0.0000, 0.0000, 0.0000],\n",
       "        [0.0000, 0.0000, 0.0000, 0.0000, 0.0000, 0.0000, 0.4039, 0.9922, 0.9922, 0.9922, 0.9922, 0.9922, 0.9098, 0.2627, 0.0039, 0.0000, 0.0000, 0.0000, 0.0000, 0.0000, 0.0000, 0.0000, 0.0000, 0.0000,\n",
       "         0.0000, 0.0000, 0.0000, 0.0000],\n",
       "        [0.0000, 0.0000, 0.0000, 0.0000, 0.0000, 0.0000, 0.0000, 0.0000, 0.0000, 0.0000, 0.0000, 0.0000, 0.0000, 0.0000, 0.0000, 0.0000, 0.0000, 0.0000, 0.0000, 0.0000, 0.0000, 0.0000, 0.0000, 0.0000,\n",
       "         0.0000, 0.0000, 0.0000, 0.0000],\n",
       "        [0.0000, 0.0000, 0.0000, 0.0000, 0.0000, 0.0000, 0.0000, 0.0000, 0.0000, 0.0000, 0.0000, 0.0000, 0.0000, 0.0000, 0.0000, 0.0000, 0.0000, 0.0000, 0.0000, 0.0000, 0.0000, 0.0000, 0.0000, 0.0000,\n",
       "         0.0000, 0.0000, 0.0000, 0.0000],\n",
       "        [0.0000, 0.0000, 0.0000, 0.0000, 0.0000, 0.0000, 0.0000, 0.0000, 0.0000, 0.0000, 0.0000, 0.0000, 0.0000, 0.0000, 0.0000, 0.0000, 0.0000, 0.0000, 0.0000, 0.0000, 0.0000, 0.0000, 0.0000, 0.0000,\n",
       "         0.0000, 0.0000, 0.0000, 0.0000]])"
      ]
     },
     "execution_count": 11,
     "metadata": {},
     "output_type": "execute_result"
    }
   ],
   "source": [
    "# stacking all the tensors into single tensor and normalising the values inside it\n",
    "stacked_threes = torch.stack(three_tensor).float()/255\n",
    "stacked_sevens = torch.stack(seven_tensor).float()/255\n",
    "print(stacked_threes.shape, stacked_threes[1].shape)\n",
    "stacked_threes[1]  # all values has been normalised"
   ]
  },
  {
   "cell_type": "code",
   "execution_count": 12,
   "metadata": {
    "colab": {
     "base_uri": "https://localhost:8080/"
    },
    "id": "2JTDtliLiwcT",
    "outputId": "4cead16e-8201-4a5f-8a3a-79a82962b25c"
   },
   "outputs": [
    {
     "data": {
      "text/plain": [
       "2"
      ]
     },
     "execution_count": 12,
     "metadata": {},
     "output_type": "execute_result"
    }
   ],
   "source": [
    "torch.randn(1, 3).ndim"
   ]
  },
  {
   "cell_type": "code",
   "execution_count": 13,
   "metadata": {
    "colab": {
     "base_uri": "https://localhost:8080/"
    },
    "id": "tgCsLB5fHsi7",
    "outputId": "b28aac47-d4d2-4733-8cfc-5a4ae995540a"
   },
   "outputs": [
    {
     "data": {
      "text/plain": [
       "2"
      ]
     },
     "execution_count": 13,
     "metadata": {},
     "output_type": "execute_result"
    }
   ],
   "source": [
    "torch.randn(12,3).ndim"
   ]
  },
  {
   "cell_type": "code",
   "execution_count": 14,
   "metadata": {
    "colab": {
     "base_uri": "https://localhost:8080/",
     "height": 228
    },
    "id": "t26FSeDsjU2k",
    "outputId": "a3540618-296a-4e8c-dce6-6f2850dffb87"
   },
   "outputs": [
    {
     "data": {
      "text/plain": [
       "<Axes: >"
      ]
     },
     "execution_count": 14,
     "metadata": {},
     "output_type": "execute_result"
    },
    {
     "data": {
      "image/png": "[encoded data removed]",
      "text/plain": [
       "<Figure size 100x100 with 1 Axes>"
      ]
     },
     "metadata": {},
     "output_type": "display_data"
    },
    {
     "data": {
      "image/png": "[encoded data removed]",
      "text/plain": [
       "<Figure size 100x100 with 1 Axes>"
      ]
     },
     "metadata": {},
     "output_type": "display_data"
    }
   ],
   "source": [
    "# calc mean of all tensors\n",
    "mean3 = stacked_threes.mean(0)\n",
    "mean7 = stacked_sevens.mean(0)\n",
    "show_image(mean3)\n",
    "show_image(mean7)"
   ]
  },
  {
   "cell_type": "markdown",
   "metadata": {
    "id": "FsWieakOjyZp"
   },
   "source": [
    "Absolute white and absolute black are the regions where all images agree that the digit is 3 or 7."
   ]
  },
  {
   "cell_type": "code",
   "execution_count": 15,
   "metadata": {
    "colab": {
     "base_uri": "https://localhost:8080/",
     "height": 114
    },
    "id": "gD0WwL-EkEgG",
    "outputId": "40f8a042-5883-4616-9366-6338769ae961"
   },
   "outputs": [
    {
     "data": {
      "image/png": "[encoded data removed]",
      "text/plain": [
       "<Figure size 100x100 with 1 Axes>"
      ]
     },
     "metadata": {},
     "output_type": "display_data"
    }
   ],
   "source": [
    "# Picking random 3\n",
    "a_3 = stacked_threes[1]\n",
    "show_image(a_3);"
   ]
  },
  {
   "cell_type": "markdown",
   "metadata": {
    "id": "nELJxGD8j8gL"
   },
   "source": [
    "## Creating a loss function"
   ]
  },
  {
   "cell_type": "code",
   "execution_count": 16,
   "metadata": {
    "colab": {
     "base_uri": "https://localhost:8080/"
    },
    "id": "wSZXXQBckes-",
    "outputId": "cd8425f5-8bf4-4087-d0d4-ac13cc96edb2"
   },
   "outputs": [
    {
     "name": "stdout",
     "output_type": "stream",
     "text": [
      "tensor(0.1114) tensor(0.2021) tensor(0.1586) tensor(0.3021)\n"
     ]
    }
   ],
   "source": [
    "# These would have low error since the digit we are trying to classify is 3\n",
    "dist_3_abs = (a_3-mean3).abs().mean()\n",
    "dist_3_sqrt = ((a_3-mean3)**2).mean().sqrt()\n",
    "# These would have high error since we are comparing 3 to ideal7\n",
    "dist_7_abs = (a_3-mean7).abs().mean()\n",
    "dist_7_sqrt = ((a_3-mean7)**2).mean().sqrt()\n",
    "\n",
    "print(dist_3_abs, dist_3_sqrt, dist_7_abs, dist_7_sqrt)"
   ]
  },
  {
   "cell_type": "code",
   "execution_count": 17,
   "metadata": {
    "colab": {
     "base_uri": "https://localhost:8080/"
    },
    "id": "0VmKHNDsmjk2",
    "outputId": "20e8b6e2-6c5f-4043-d95e-dc9cf4595c3e"
   },
   "outputs": [
    {
     "data": {
      "text/plain": [
       "(tensor(0.1586), tensor(0.3021))"
      ]
     },
     "execution_count": 17,
     "metadata": {},
     "output_type": "execute_result"
    }
   ],
   "source": [
    "# Same can be calculated with pytorch funtions\n",
    "F.l1_loss(a_3.float(), mean7), F.mse_loss(a_3, mean7).sqrt()"
   ]
  },
  {
   "cell_type": "markdown",
   "metadata": {
    "id": "CslCcIz-m24s"
   },
   "source": [
    "##  Calculating Metrics"
   ]
  },
  {
   "cell_type": "code",
   "execution_count": 18,
   "metadata": {
    "colab": {
     "base_uri": "https://localhost:8080/"
    },
    "id": "Fl6Kgf41oWNC",
    "outputId": "5e5db67e-1d55-448d-e79b-6d655e8d448d"
   },
   "outputs": [
    {
     "data": {
      "text/plain": [
       "(torch.Size([1010, 28, 28]), torch.Size([1028, 28, 28]))"
      ]
     },
     "execution_count": 18,
     "metadata": {},
     "output_type": "execute_result"
    }
   ],
   "source": [
    "valid_3_tens = torch.stack([tensor(Image.open(o)) for o in (path/'valid'/'3').ls()])\n",
    "valid_7_tens = torch.stack([tensor(Image.open(o)) for o in (path/'valid'/'7').ls()])\n",
    "valid_3_tens = valid_3_tens.float()/255\n",
    "valid_7_tens = valid_7_tens.float()/255\n",
    "valid_3_tens.shape, valid_7_tens.shape"
   ]
  },
  {
   "cell_type": "code",
   "execution_count": 19,
   "metadata": {
    "colab": {
     "base_uri": "https://localhost:8080/"
    },
    "id": "Ru1E5KzSpUaZ",
    "outputId": "4200078f-f8b4-490c-b040-358587de66ef"
   },
   "outputs": [
    {
     "data": {
      "text/plain": [
       "tensor(0.1114)"
      ]
     },
     "execution_count": 19,
     "metadata": {},
     "output_type": "execute_result"
    }
   ],
   "source": [
    "# Creating a mnist distance function which is nothing but l1_loss\n",
    "def mnist_distance(a,b): return (a-b).abs().mean((-1, -2))\n",
    "mnist_distance(a_3, mean3)"
   ]
  },
  {
   "cell_type": "code",
   "execution_count": 20,
   "metadata": {
    "colab": {
     "base_uri": "https://localhost:8080/"
    },
    "id": "DOIXTXSyp9s2",
    "outputId": "d077c2a6-c017-4b8b-9f68-ea9b53211d37"
   },
   "outputs": [
    {
     "data": {
      "text/plain": [
       "(tensor([0.1368, 0.1636, 0.1174,  ..., 0.1208, 0.1390, 0.1203]),\n",
       " torch.Size([1010]))"
      ]
     },
     "execution_count": 20,
     "metadata": {},
     "output_type": "execute_result"
    }
   ],
   "source": [
    "# Calculating distance for the entire validation set\n",
    "# We are supplying [1010, 28, 28] shaped tensor to be calculated with [28 * 28]\n",
    "# PyTorch automatically broadcasts the mean3 tensor to the same number of valid set\n",
    "valid_3_dist = mnist_distance(valid_3_tens, mean3)\n",
    "valid_3_dist, valid_3_dist.shape"
   ]
  },
  {
   "cell_type": "code",
   "execution_count": 21,
   "metadata": {
    "id": "p10AgvfQqp7c"
   },
   "outputs": [],
   "source": [
    "# Putting everything together\n",
    "def is_3(x): return mnist_distance(x, mean3) < mnist_distance(x, mean7)"
   ]
  },
  {
   "cell_type": "code",
   "execution_count": 22,
   "metadata": {
    "colab": {
     "base_uri": "https://localhost:8080/"
    },
    "id": "Pq_TjJlorpro",
    "outputId": "387f4cfa-9f36-4c6e-ba28-55c442968bf0"
   },
   "outputs": [
    {
     "data": {
      "text/plain": [
       "(tensor(True), tensor(1.))"
      ]
     },
     "execution_count": 22,
     "metadata": {},
     "output_type": "execute_result"
    }
   ],
   "source": [
    "# Prediction\n",
    "is_3(a_3), is_3(a_3).float()"
   ]
  },
  {
   "cell_type": "markdown",
   "metadata": {
    "id": "AhMz6RKokbzw"
   },
   "source": [
    "Above is true since difference between `ideal3` and `a_3` is lower than `ideal7` and `a_7`"
   ]
  },
  {
   "cell_type": "code",
   "execution_count": 23,
   "metadata": {
    "colab": {
     "base_uri": "https://localhost:8080/"
    },
    "id": "aCASa9MMr1Jp",
    "outputId": "836fe8bf-18a5-4957-b077-0000016a229f"
   },
   "outputs": [
    {
     "data": {
      "text/plain": [
       "tensor([True, True, True,  ..., True, True, True])"
      ]
     },
     "execution_count": 23,
     "metadata": {},
     "output_type": "execute_result"
    }
   ],
   "source": [
    "# Validation set\n",
    "is_3(valid_3_tens)"
   ]
  },
  {
   "cell_type": "code",
   "execution_count": 24,
   "metadata": {
    "colab": {
     "base_uri": "https://localhost:8080/"
    },
    "id": "M9Trkm_ir9AQ",
    "outputId": "1cdaeb5d-cac8-467f-8fc9-8d7ddc66d587"
   },
   "outputs": [
    {
     "data": {
      "text/plain": [
       "(tensor(0.9168), tensor(0.9854), tensor(0.9511))"
      ]
     },
     "execution_count": 24,
     "metadata": {},
     "output_type": "execute_result"
    }
   ],
   "source": [
    "accuracy_3s =     is_3(valid_3_tens).float().mean()\n",
    "accuracy_7s = 1 - is_3(valid_7_tens).float().mean()\n",
    "accuracy_3s, accuracy_7s, (accuracy_3s + accuracy_7s)/2"
   ]
  },
  {
   "cell_type": "markdown",
   "metadata": {
    "id": "wlNMv0pDsxoT"
   },
   "source": [
    "# Stochastic Gradient Descent (SGD)\n",
    "`x` is an image which is represented as vector ie, rows stacked up end to end. `w` is the weight vector for each pixel."
   ]
  },
  {
   "cell_type": "code",
   "execution_count": 25,
   "metadata": {
    "colab": {
     "base_uri": "https://localhost:8080/",
     "height": 125
    },
    "hide_input": true,
    "id": "dZK4n2_mDaXt",
    "outputId": "daf2cd46-724e-423c-cb19-82e4fc43e8d0"
   },
   "outputs": [
    {
     "data": {
      "image/svg+xml": [
       "<?xml version=\"1.0\" encoding=\"UTF-8\" standalone=\"no\"?>\n",
       "<!DOCTYPE svg PUBLIC \"-//W3C//DTD SVG 1.1//EN\"\n",
       " \"http://www.w3.org/Graphics/SVG/1.1/DTD/svg11.dtd\">\n",
       "<!-- Generated by graphviz version 2.43.0 (0)\n",
       " -->\n",
       "<!-- Title: G Pages: 1 -->\n",
       "<svg width=\"591pt\" height=\"78pt\"\n",
       " viewBox=\"0.00 0.00 591.49 78.00\" xmlns=\"http://www.w3.org/2000/svg\" xmlns:xlink=\"http://www.w3.org/1999/xlink\">\n",
       "<g id=\"graph0\" class=\"graph\" transform=\"scale(1 1) rotate(0) translate(4 74)\">\n",
       "<title>G</title>\n",
       "<polygon fill=\"white\" stroke=\"transparent\" points=\"-4,4 -4,-74 587.49,-74 587.49,4 -4,4\"/>\n",
       "<!-- init -->\n",
       "<g id=\"node1\" class=\"node\">\n",
       "<title>init</title>\n",
       "<ellipse fill=\"none\" stroke=\"black\" cx=\"27\" cy=\"-18\" rx=\"27\" ry=\"18\"/>\n",
       "<text text-anchor=\"middle\" x=\"27\" y=\"-14.3\" font-family=\"Times,serif\" font-size=\"14.00\">init</text>\n",
       "</g>\n",
       "<!-- predict -->\n",
       "<g id=\"node2\" class=\"node\">\n",
       "<title>predict</title>\n",
       "<ellipse fill=\"none\" stroke=\"black\" cx=\"126.1\" cy=\"-18\" rx=\"35.19\" ry=\"18\"/>\n",
       "<text text-anchor=\"middle\" x=\"126.1\" y=\"-14.3\" font-family=\"Times,serif\" font-size=\"14.00\">predict</text>\n",
       "</g>\n",
       "<!-- init&#45;&gt;predict -->\n",
       "<g id=\"edge1\" class=\"edge\">\n",
       "<title>init&#45;&gt;predict</title>\n",
       "<path fill=\"none\" stroke=\"black\" d=\"M54.02,-18C62.26,-18 71.62,-18 80.78,-18\"/>\n",
       "<polygon fill=\"black\" stroke=\"black\" points=\"80.96,-21.5 90.96,-18 80.96,-14.5 80.96,-21.5\"/>\n",
       "</g>\n",
       "<!-- loss -->\n",
       "<g id=\"node3\" class=\"node\">\n",
       "<title>loss</title>\n",
       "<ellipse fill=\"none\" stroke=\"black\" cx=\"225.19\" cy=\"-52\" rx=\"27\" ry=\"18\"/>\n",
       "<text text-anchor=\"middle\" x=\"225.19\" y=\"-48.3\" font-family=\"Times,serif\" font-size=\"14.00\">loss</text>\n",
       "</g>\n",
       "<!-- predict&#45;&gt;loss -->\n",
       "<g id=\"edge2\" class=\"edge\">\n",
       "<title>predict&#45;&gt;loss</title>\n",
       "<path fill=\"none\" stroke=\"black\" d=\"M155.44,-27.93C166.61,-31.84 179.52,-36.36 191.11,-40.42\"/>\n",
       "<polygon fill=\"black\" stroke=\"black\" points=\"190.29,-43.84 200.88,-43.84 192.6,-37.23 190.29,-43.84\"/>\n",
       "</g>\n",
       "<!-- gradient -->\n",
       "<g id=\"node4\" class=\"node\">\n",
       "<title>gradient</title>\n",
       "<ellipse fill=\"none\" stroke=\"black\" cx=\"361.84\" cy=\"-52\" rx=\"39.79\" ry=\"18\"/>\n",
       "<text text-anchor=\"middle\" x=\"361.84\" y=\"-48.3\" font-family=\"Times,serif\" font-size=\"14.00\">gradient</text>\n",
       "</g>\n",
       "<!-- loss&#45;&gt;gradient -->\n",
       "<g id=\"edge3\" class=\"edge\">\n",
       "<title>loss&#45;&gt;gradient</title>\n",
       "<path fill=\"none\" stroke=\"black\" d=\"M252.47,-52C269.35,-52 291.8,-52 311.88,-52\"/>\n",
       "<polygon fill=\"black\" stroke=\"black\" points=\"312.13,-55.5 322.13,-52 312.13,-48.5 312.13,-55.5\"/>\n",
       "</g>\n",
       "<!-- step -->\n",
       "<g id=\"node5\" class=\"node\">\n",
       "<title>step</title>\n",
       "<ellipse fill=\"none\" stroke=\"black\" cx=\"465.49\" cy=\"-18\" rx=\"27\" ry=\"18\"/>\n",
       "<text text-anchor=\"middle\" x=\"465.49\" y=\"-14.3\" font-family=\"Times,serif\" font-size=\"14.00\">step</text>\n",
       "</g>\n",
       "<!-- gradient&#45;&gt;step -->\n",
       "<g id=\"edge4\" class=\"edge\">\n",
       "<title>gradient&#45;&gt;step</title>\n",
       "<path fill=\"none\" stroke=\"black\" d=\"M394.17,-41.52C405.92,-37.59 419.32,-33.11 431.25,-29.12\"/>\n",
       "<polygon fill=\"black\" stroke=\"black\" points=\"432.48,-32.4 440.85,-25.91 430.26,-25.76 432.48,-32.4\"/>\n",
       "</g>\n",
       "<!-- step&#45;&gt;predict -->\n",
       "<g id=\"edge6\" class=\"edge\">\n",
       "<title>step&#45;&gt;predict</title>\n",
       "<path fill=\"none\" stroke=\"black\" d=\"M438.29,-18C380.72,-18 242.6,-18 171.32,-18\"/>\n",
       "<polygon fill=\"black\" stroke=\"black\" points=\"171.3,-14.5 161.3,-18 171.3,-21.5 171.3,-14.5\"/>\n",
       "<text text-anchor=\"middle\" x=\"287.19\" y=\"-21.8\" font-family=\"Times,serif\" font-size=\"14.00\">repeat</text>\n",
       "</g>\n",
       "<!-- stop -->\n",
       "<g id=\"node6\" class=\"node\">\n",
       "<title>stop</title>\n",
       "<ellipse fill=\"none\" stroke=\"black\" cx=\"556.49\" cy=\"-18\" rx=\"27\" ry=\"18\"/>\n",
       "<text text-anchor=\"middle\" x=\"556.49\" y=\"-14.3\" font-family=\"Times,serif\" font-size=\"14.00\">stop</text>\n",
       "</g>\n",
       "<!-- step&#45;&gt;stop -->\n",
       "<g id=\"edge5\" class=\"edge\">\n",
       "<title>step&#45;&gt;stop</title>\n",
       "<path fill=\"none\" stroke=\"black\" d=\"M492.71,-18C501.04,-18 510.4,-18 519.3,-18\"/>\n",
       "<polygon fill=\"black\" stroke=\"black\" points=\"519.45,-21.5 529.45,-18 519.45,-14.5 519.45,-21.5\"/>\n",
       "</g>\n",
       "</g>\n",
       "</svg>\n"
      ],
      "text/plain": [
       "<graphviz.sources.Source at 0x7fac25492c80>"
      ]
     },
     "execution_count": 25,
     "metadata": {},
     "output_type": "execute_result"
    }
   ],
   "source": [
    "#id gradient_descent\n",
    "#caption The gradient descent process\n",
    "#alt Graph showing the steps for Gradient Descent\n",
    "gv('''\n",
    "init->predict->loss->gradient->step->stop\n",
    "step->predict[label=repeat]\n",
    "''')"
   ]
  },
  {
   "cell_type": "code",
   "execution_count": 26,
   "metadata": {
    "colab": {
     "base_uri": "https://localhost:8080/",
     "height": 396
    },
    "id": "cKsAPsPOxjmL",
    "outputId": "b76a9f1f-6428-4300-a83d-bc2edadb8e61"
   },
   "outputs": [
    {
     "data": {
      "image/png": "[encoded data removed]",
      "text/plain": [
       "<Figure size 600x400 with 1 Axes>"
      ]
     },
     "metadata": {},
     "output_type": "display_data"
    }
   ],
   "source": [
    "def f(x): return x**2\n",
    "plot_function(f, 'x', 'x**2')"
   ]
  },
  {
   "cell_type": "code",
   "execution_count": 27,
   "metadata": {
    "colab": {
     "base_uri": "https://localhost:8080/",
     "height": 413
    },
    "id": "B2IrN4aZng-x",
    "outputId": "b1275950-89d2-482a-e452-afcb331b0775"
   },
   "outputs": [
    {
     "data": {
      "text/plain": [
       "<matplotlib.collections.PathCollection at 0x7fac254da7d0>"
      ]
     },
     "execution_count": 27,
     "metadata": {},
     "output_type": "execute_result"
    },
    {
     "data": {
      "image/png": "[encoded data removed]",
      "text/plain": [
       "<Figure size 600x400 with 1 Axes>"
      ]
     },
     "metadata": {},
     "output_type": "display_data"
    }
   ],
   "source": [
    "plot_function(f, 'x', 'x**2')\n",
    "plt.scatter(-1.5, f(-1.5), color='red')"
   ]
  },
  {
   "cell_type": "code",
   "execution_count": 28,
   "metadata": {
    "colab": {
     "base_uri": "https://localhost:8080/"
    },
    "id": "05hRX2zDqIR6",
    "outputId": "86efbc5f-54f9-4ead-8833-0e929936800a"
   },
   "outputs": [
    {
     "data": {
      "text/plain": [
       "tensor(9., grad_fn=<PowBackward0>)"
      ]
     },
     "execution_count": 28,
     "metadata": {},
     "output_type": "execute_result"
    }
   ],
   "source": [
    "# pytorch tags this variable to automatically compute the derivative of newarly all function.\n",
    "xt= tensor(3.).requires_grad_()\n",
    "yt = f(xt)\n",
    "yt"
   ]
  },
  {
   "cell_type": "code",
   "execution_count": 29,
   "metadata": {
    "colab": {
     "base_uri": "https://localhost:8080/"
    },
    "id": "JiY6PwTPq2Yx",
    "outputId": "bd6d2948-3149-43ce-8f5c-d6ebb9ae76ff"
   },
   "outputs": [
    {
     "data": {
      "text/plain": [
       "tensor(6.)"
      ]
     },
     "execution_count": 29,
     "metadata": {},
     "output_type": "execute_result"
    }
   ],
   "source": [
    "yt.backward()\n",
    "xt.grad"
   ]
  },
  {
   "cell_type": "code",
   "execution_count": 30,
   "metadata": {
    "colab": {
     "base_uri": "https://localhost:8080/"
    },
    "id": "AgdXdm0NrVSX",
    "outputId": "374c3341-238d-4afb-af6d-50bb4870b9e4"
   },
   "outputs": [
    {
     "data": {
      "text/plain": [
       "tensor([ 3.,  4., 10.], requires_grad=True)"
      ]
     },
     "execution_count": 30,
     "metadata": {},
     "output_type": "execute_result"
    }
   ],
   "source": [
    "# Calculating gradients for other tensor\n",
    "xt = tensor([3., 4., 10.]).requires_grad_()\n",
    "xt"
   ]
  },
  {
   "cell_type": "code",
   "execution_count": 31,
   "metadata": {
    "colab": {
     "base_uri": "https://localhost:8080/"
    },
    "id": "OjrSO084ryQT",
    "outputId": "703c383e-8064-4865-9f20-4887d9659063"
   },
   "outputs": [
    {
     "name": "stdout",
     "output_type": "stream",
     "text": [
      "tensor(125., grad_fn=<SumBackward0>)\n"
     ]
    },
    {
     "data": {
      "text/plain": [
       "tensor([ 6.,  8., 20.])"
      ]
     },
     "execution_count": 31,
     "metadata": {},
     "output_type": "execute_result"
    }
   ],
   "source": [
    "def f(x): return(x**2).sum()\n",
    "yt = f(xt)\n",
    "print(yt)\n",
    "yt.backward()\n",
    "xt.grad"
   ]
  },
  {
   "cell_type": "markdown",
   "metadata": {
    "id": "w4Y9Hg9ptW4B"
   },
   "source": [
    "# Generic SDG Mechanism (End-To-End Mechanism)"
   ]
  },
  {
   "cell_type": "code",
   "execution_count": 32,
   "metadata": {
    "colab": {
     "base_uri": "https://localhost:8080/"
    },
    "id": "OV3h9qvOtbfx",
    "outputId": "b7787ca1-7e5d-48af-b337-6b1621d38a91"
   },
   "outputs": [
    {
     "data": {
      "text/plain": [
       "tensor([ 0.,  1.,  2.,  3.,  4.,  5.,  6.,  7.,  8.,  9., 10., 11., 12., 13., 14., 15., 16., 17., 18., 19.])"
      ]
     },
     "execution_count": 32,
     "metadata": {},
     "output_type": "execute_result"
    }
   ],
   "source": [
    "time = torch.arange(0,20).float(); time"
   ]
  },
  {
   "cell_type": "code",
   "execution_count": 33,
   "metadata": {
    "colab": {
     "base_uri": "https://localhost:8080/",
     "height": 434
    },
    "id": "H1ZBAAZKtqPF",
    "outputId": "5858b46a-f138-4bb2-e65b-3531327c8078"
   },
   "outputs": [
    {
     "data": {
      "image/png": "[encoded data removed]",
      "text/plain": [
       "<Figure size 640x480 with 1 Axes>"
      ]
     },
     "metadata": {},
     "output_type": "display_data"
    }
   ],
   "source": [
    "speed = torch.randn(20)*3 + 0.75*(time-9.5)**2 + 1\n",
    "plt.scatter(time,speed);"
   ]
  },
  {
   "cell_type": "code",
   "execution_count": 34,
   "metadata": {
    "id": "TkGJbdnW1xVL"
   },
   "outputs": [],
   "source": [
    "# We are assuming that the speed of the roller coaster is in quadratic form\n",
    "def f(t, params):\n",
    "  a,b,c = params\n",
    "  return a*(t**2) + b*t + c"
   ]
  },
  {
   "cell_type": "code",
   "execution_count": 35,
   "metadata": {
    "id": "vEc9dcIg2Uuf"
   },
   "outputs": [],
   "source": [
    "# loss function\n",
    "# For continous data the MSE is used commonly\n",
    "def mse(preds, targets): return ((preds-targets)**2).mean()"
   ]
  },
  {
   "cell_type": "code",
   "execution_count": 36,
   "metadata": {
    "id": "L2Xx_qja2WOC"
   },
   "outputs": [],
   "source": [
    "# STEP 1: Intializing the parameters\n",
    "params = torch.randn(3).requires_grad_()\n",
    "orig_params = params.clone()"
   ]
  },
  {
   "cell_type": "code",
   "execution_count": 37,
   "metadata": {
    "id": "opaMi3Qk3Hz1"
   },
   "outputs": [],
   "source": [
    "# STEP 2: Calculate the predictions\n",
    "preds = f(time, params)"
   ]
  },
  {
   "cell_type": "code",
   "execution_count": 38,
   "metadata": {
    "colab": {
     "base_uri": "https://localhost:8080/",
     "height": 441
    },
    "id": "1NhveYwo6SQV",
    "outputId": "f83a4275-6276-41ac-f730-8ef608f58e28"
   },
   "outputs": [
    {
     "data": {
      "image/png": "[encoded data removed]",
      "text/plain": [
       "<Figure size 640x480 with 1 Axes>"
      ]
     },
     "metadata": {},
     "output_type": "display_data"
    }
   ],
   "source": [
    "def show_preds(preds, ax=None):\n",
    "  if ax is None: ax=plt.subplots()[1]\n",
    "  ax.scatter(time, speed)\n",
    "  ax.scatter(time, to_np(preds), color='red')\n",
    "  ax.set_ylim(-300, 100)\n",
    "\n",
    "show_preds(preds)"
   ]
  },
  {
   "cell_type": "code",
   "execution_count": 39,
   "metadata": {
    "colab": {
     "base_uri": "https://localhost:8080/"
    },
    "id": "8H_EsVAw62um",
    "outputId": "7c8072fb-3d9f-4d5f-a4d8-f31272992db7"
   },
   "outputs": [
    {
     "data": {
      "text/plain": [
       "tensor(744.0345, grad_fn=<MeanBackward0>)"
      ]
     },
     "execution_count": 39,
     "metadata": {},
     "output_type": "execute_result"
    }
   ],
   "source": [
    "## STEP 3: Caclulate loss\n",
    "loss = mse(preds, speed)\n",
    "loss"
   ]
  },
  {
   "cell_type": "code",
   "execution_count": 40,
   "metadata": {
    "colab": {
     "base_uri": "https://localhost:8080/"
    },
    "id": "8ge4t7Te7E_f",
    "outputId": "03bd56d6-12a1-4b4b-f626-8c6679f1c0e1"
   },
   "outputs": [
    {
     "data": {
      "text/plain": [
       "tensor([2472.2263,  147.8687,  -10.4974])"
      ]
     },
     "execution_count": 40,
     "metadata": {},
     "output_type": "execute_result"
    }
   ],
   "source": [
    "## STEP 4: Calculate gradient\n",
    "loss.backward()\n",
    "params.grad"
   ]
  },
  {
   "cell_type": "code",
   "execution_count": 41,
   "metadata": {
    "id": "1O6Ftvuo7JXX"
   },
   "outputs": [],
   "source": [
    "## STEP 5: Stepping\n",
    "lr = 1e-5\n",
    "params.data -= lr * params.grad.data\n",
    "params.grad = None"
   ]
  },
  {
   "cell_type": "code",
   "execution_count": 42,
   "metadata": {
    "colab": {
     "base_uri": "https://localhost:8080/"
    },
    "id": "WxYXZFXK8z9U",
    "outputId": "70b951e3-acad-4398-e63b-388ac7e22b20"
   },
   "outputs": [
    {
     "data": {
      "text/plain": [
       "tensor(700.0220, grad_fn=<MeanBackward0>)"
      ]
     },
     "execution_count": 42,
     "metadata": {},
     "output_type": "execute_result"
    }
   ],
   "source": [
    "## STEP 6: Iterate\n",
    "preds = f(time, params)\n",
    "loss = mse(preds, speed)\n",
    "loss"
   ]
  },
  {
   "cell_type": "code",
   "execution_count": 43,
   "metadata": {
    "colab": {
     "base_uri": "https://localhost:8080/",
     "height": 441
    },
    "id": "ZvMgqOIx9nQP",
    "outputId": "10779024-fc57-483a-9172-ad3916f918b5"
   },
   "outputs": [
    {
     "data": {
      "image/png": "[encoded data removed]",
      "text/plain": [
       "<Figure size 640x480 with 1 Axes>"
      ]
     },
     "metadata": {},
     "output_type": "display_data"
    }
   ],
   "source": [
    "show_preds(preds)"
   ]
  },
  {
   "cell_type": "code",
   "execution_count": 44,
   "metadata": {
    "id": "6jbyZceY9S0g"
   },
   "outputs": [],
   "source": [
    "def apply_step(params, prn = True):\n",
    "  preds = f(time, params)\n",
    "  loss = mse(preds, speed)\n",
    "  loss.backward()\n",
    "  params.data -= lr * params.grad\n",
    "  params.grad = None\n",
    "  if prn: print(loss.item())\n",
    "  return preds"
   ]
  },
  {
   "cell_type": "code",
   "execution_count": 45,
   "metadata": {
    "colab": {
     "base_uri": "https://localhost:8080/"
    },
    "id": "BV9gfKRR9cQd",
    "outputId": "6cbcc3ea-6454-44a9-99f8-586e38b9af55"
   },
   "outputs": [
    {
     "name": "stdout",
     "output_type": "stream",
     "text": [
      "700.0220336914062\n",
      "691.68896484375\n",
      "690.107421875\n",
      "689.8035888671875\n",
      "689.7413940429688\n",
      "689.7249755859375\n",
      "689.71728515625\n",
      "689.7111206054688\n",
      "689.7054443359375\n",
      "689.69970703125\n"
     ]
    }
   ],
   "source": [
    "for i in range(10): apply_step(params)"
   ]
  },
  {
   "cell_type": "code",
   "execution_count": 46,
   "metadata": {
    "colab": {
     "base_uri": "https://localhost:8080/",
     "height": 217
    },
    "id": "4Aszp1Aq_NGX",
    "outputId": "228ca51f-32c2-4a2a-e17f-5f4b38b332d8"
   },
   "outputs": [
    {
     "data": {
      "image/png": "[encoded data removed]",
      "text/plain": [
       "<Figure size 1200x300 with 4 Axes>"
      ]
     },
     "metadata": {},
     "output_type": "display_data"
    }
   ],
   "source": [
    "_, axs = plt.subplots(1, 4, figsize=(12, 3))\n",
    "for ax in axs: show_preds(apply_step(params, False), ax)\n",
    "plt.tight_layout()"
   ]
  },
  {
   "cell_type": "markdown",
   "metadata": {
    "id": "h-xlY7BZAXwF"
   },
   "source": [
    "We have stopped after 10 epochs arbitarily."
   ]
  },
  {
   "cell_type": "code",
   "execution_count": 47,
   "metadata": {
    "colab": {
     "base_uri": "https://localhost:8080/",
     "height": 125
    },
    "id": "1-509SH5fj3j",
    "outputId": "6b6a1bda-02aa-4a4a-9ab3-7ddc64253d30"
   },
   "outputs": [
    {
     "data": {
      "image/svg+xml": [
       "<?xml version=\"1.0\" encoding=\"UTF-8\" standalone=\"no\"?>\n",
       "<!DOCTYPE svg PUBLIC \"-//W3C//DTD SVG 1.1//EN\"\n",
       " \"http://www.w3.org/Graphics/SVG/1.1/DTD/svg11.dtd\">\n",
       "<!-- Generated by graphviz version 2.43.0 (0)\n",
       " -->\n",
       "<!-- Title: G Pages: 1 -->\n",
       "<svg width=\"591pt\" height=\"78pt\"\n",
       " viewBox=\"0.00 0.00 591.49 78.00\" xmlns=\"http://www.w3.org/2000/svg\" xmlns:xlink=\"http://www.w3.org/1999/xlink\">\n",
       "<g id=\"graph0\" class=\"graph\" transform=\"scale(1 1) rotate(0) translate(4 74)\">\n",
       "<title>G</title>\n",
       "<polygon fill=\"white\" stroke=\"transparent\" points=\"-4,4 -4,-74 587.49,-74 587.49,4 -4,4\"/>\n",
       "<!-- init -->\n",
       "<g id=\"node1\" class=\"node\">\n",
       "<title>init</title>\n",
       "<ellipse fill=\"none\" stroke=\"black\" cx=\"27\" cy=\"-18\" rx=\"27\" ry=\"18\"/>\n",
       "<text text-anchor=\"middle\" x=\"27\" y=\"-14.3\" font-family=\"Times,serif\" font-size=\"14.00\">init</text>\n",
       "</g>\n",
       "<!-- predict -->\n",
       "<g id=\"node2\" class=\"node\">\n",
       "<title>predict</title>\n",
       "<ellipse fill=\"none\" stroke=\"black\" cx=\"126.1\" cy=\"-18\" rx=\"35.19\" ry=\"18\"/>\n",
       "<text text-anchor=\"middle\" x=\"126.1\" y=\"-14.3\" font-family=\"Times,serif\" font-size=\"14.00\">predict</text>\n",
       "</g>\n",
       "<!-- init&#45;&gt;predict -->\n",
       "<g id=\"edge1\" class=\"edge\">\n",
       "<title>init&#45;&gt;predict</title>\n",
       "<path fill=\"none\" stroke=\"black\" d=\"M54.02,-18C62.26,-18 71.62,-18 80.78,-18\"/>\n",
       "<polygon fill=\"black\" stroke=\"black\" points=\"80.96,-21.5 90.96,-18 80.96,-14.5 80.96,-21.5\"/>\n",
       "</g>\n",
       "<!-- loss -->\n",
       "<g id=\"node3\" class=\"node\">\n",
       "<title>loss</title>\n",
       "<ellipse fill=\"none\" stroke=\"black\" cx=\"225.19\" cy=\"-52\" rx=\"27\" ry=\"18\"/>\n",
       "<text text-anchor=\"middle\" x=\"225.19\" y=\"-48.3\" font-family=\"Times,serif\" font-size=\"14.00\">loss</text>\n",
       "</g>\n",
       "<!-- predict&#45;&gt;loss -->\n",
       "<g id=\"edge2\" class=\"edge\">\n",
       "<title>predict&#45;&gt;loss</title>\n",
       "<path fill=\"none\" stroke=\"black\" d=\"M155.44,-27.93C166.61,-31.84 179.52,-36.36 191.11,-40.42\"/>\n",
       "<polygon fill=\"black\" stroke=\"black\" points=\"190.29,-43.84 200.88,-43.84 192.6,-37.23 190.29,-43.84\"/>\n",
       "</g>\n",
       "<!-- gradient -->\n",
       "<g id=\"node4\" class=\"node\">\n",
       "<title>gradient</title>\n",
       "<ellipse fill=\"none\" stroke=\"black\" cx=\"361.84\" cy=\"-52\" rx=\"39.79\" ry=\"18\"/>\n",
       "<text text-anchor=\"middle\" x=\"361.84\" y=\"-48.3\" font-family=\"Times,serif\" font-size=\"14.00\">gradient</text>\n",
       "</g>\n",
       "<!-- loss&#45;&gt;gradient -->\n",
       "<g id=\"edge3\" class=\"edge\">\n",
       "<title>loss&#45;&gt;gradient</title>\n",
       "<path fill=\"none\" stroke=\"black\" d=\"M252.47,-52C269.35,-52 291.8,-52 311.88,-52\"/>\n",
       "<polygon fill=\"black\" stroke=\"black\" points=\"312.13,-55.5 322.13,-52 312.13,-48.5 312.13,-55.5\"/>\n",
       "</g>\n",
       "<!-- step -->\n",
       "<g id=\"node5\" class=\"node\">\n",
       "<title>step</title>\n",
       "<ellipse fill=\"none\" stroke=\"black\" cx=\"465.49\" cy=\"-18\" rx=\"27\" ry=\"18\"/>\n",
       "<text text-anchor=\"middle\" x=\"465.49\" y=\"-14.3\" font-family=\"Times,serif\" font-size=\"14.00\">step</text>\n",
       "</g>\n",
       "<!-- gradient&#45;&gt;step -->\n",
       "<g id=\"edge4\" class=\"edge\">\n",
       "<title>gradient&#45;&gt;step</title>\n",
       "<path fill=\"none\" stroke=\"black\" d=\"M394.17,-41.52C405.92,-37.59 419.32,-33.11 431.25,-29.12\"/>\n",
       "<polygon fill=\"black\" stroke=\"black\" points=\"432.48,-32.4 440.85,-25.91 430.26,-25.76 432.48,-32.4\"/>\n",
       "</g>\n",
       "<!-- step&#45;&gt;predict -->\n",
       "<g id=\"edge6\" class=\"edge\">\n",
       "<title>step&#45;&gt;predict</title>\n",
       "<path fill=\"none\" stroke=\"black\" d=\"M438.29,-18C380.72,-18 242.6,-18 171.32,-18\"/>\n",
       "<polygon fill=\"black\" stroke=\"black\" points=\"171.3,-14.5 161.3,-18 171.3,-21.5 171.3,-14.5\"/>\n",
       "<text text-anchor=\"middle\" x=\"287.19\" y=\"-21.8\" font-family=\"Times,serif\" font-size=\"14.00\">repeat</text>\n",
       "</g>\n",
       "<!-- stop -->\n",
       "<g id=\"node6\" class=\"node\">\n",
       "<title>stop</title>\n",
       "<ellipse fill=\"none\" stroke=\"black\" cx=\"556.49\" cy=\"-18\" rx=\"27\" ry=\"18\"/>\n",
       "<text text-anchor=\"middle\" x=\"556.49\" y=\"-14.3\" font-family=\"Times,serif\" font-size=\"14.00\">stop</text>\n",
       "</g>\n",
       "<!-- step&#45;&gt;stop -->\n",
       "<g id=\"edge5\" class=\"edge\">\n",
       "<title>step&#45;&gt;stop</title>\n",
       "<path fill=\"none\" stroke=\"black\" d=\"M492.71,-18C501.04,-18 510.4,-18 519.3,-18\"/>\n",
       "<polygon fill=\"black\" stroke=\"black\" points=\"519.45,-21.5 529.45,-18 519.45,-14.5 519.45,-21.5\"/>\n",
       "</g>\n",
       "</g>\n",
       "</svg>\n"
      ],
      "text/plain": [
       "<graphviz.sources.Source at 0x7fac51bc0880>"
      ]
     },
     "execution_count": 47,
     "metadata": {},
     "output_type": "execute_result"
    }
   ],
   "source": [
    "#hide_input\n",
    "#id gradient_descent\n",
    "#caption The gradient descent process\n",
    "#alt Graph showing the steps for Gradient Descent\n",
    "gv('''\n",
    "init->predict->loss->gradient->step->stop\n",
    "step->predict[label=repeat]\n",
    "''')"
   ]
  },
  {
   "cell_type": "markdown",
   "metadata": {
    "id": "vKJycZ1-GMJX"
   },
   "source": [
    "# MNIST Loss Function\n",
    "Converting our rank-3 tensor ie, stacked_3s and stacked_7s into rank-2 tensor; view is used to set the length of tensor; -1 states that tensor can be as big as it needs to fit all the data"
   ]
  },
  {
   "cell_type": "code",
   "execution_count": 48,
   "metadata": {
    "id": "GKcyreOkFjgv"
   },
   "outputs": [],
   "source": [
    "train_x = torch.cat([stacked_threes, stacked_sevens]).view(-1,28 * 28)"
   ]
  },
  {
   "cell_type": "code",
   "execution_count": 49,
   "metadata": {
    "id": "rLfLJGgQGJsd"
   },
   "outputs": [],
   "source": [
    "train_y = tensor([1]*len(threes) + [0]*len(sevens)).unsqueeze(1)"
   ]
  },
  {
   "cell_type": "markdown",
   "metadata": {
    "id": "rhboNwOSHZUh"
   },
   "source": [
    "Dataset in PyTorch is required to return a tuple of (x,y) when indexed. We can use zip function which combines list"
   ]
  },
  {
   "cell_type": "code",
   "execution_count": 50,
   "metadata": {
    "colab": {
     "base_uri": "https://localhost:8080/"
    },
    "id": "Hf4gaZnoM0nb",
    "outputId": "f28de679-3ee8-4553-dfdf-5bd652fa480f"
   },
   "outputs": [
    {
     "data": {
      "text/plain": [
       "(tensor([0.0000, 0.0000, 0.0000, 0.0000, 0.0000, 0.0000, 0.0000, 0.0000, 0.0000, 0.0000, 0.0000, 0.0000, 0.0000, 0.0000, 0.0000, 0.0000, 0.0000, 0.0000, 0.0000, 0.0000, 0.0000, 0.0000, 0.0000, 0.0000,\n",
       "         0.0000, 0.0000, 0.0000, 0.0000, 0.0000, 0.0000, 0.0000, 0.0000, 0.0000, 0.0000, 0.0000, 0.0000, 0.0000, 0.0000, 0.0000, 0.0000, 0.0000, 0.0000, 0.0000, 0.0000, 0.0000, 0.0000, 0.0000, 0.0000,\n",
       "         0.0000, 0.0000, 0.0000, 0.0000, 0.0000, 0.0000, 0.0000, 0.0000, 0.0000, 0.0000, 0.0000, 0.0000, 0.0000, 0.0000, 0.0000, 0.0000, 0.0000, 0.0000, 0.0000, 0.0000, 0.0000, 0.0000, 0.0000, 0.0000,\n",
       "         0.0000, 0.0000, 0.0000, 0.0000, 0.0000, 0.0000, 0.0000, 0.0000, 0.0000, 0.0000, 0.0000, 0.0000, 0.0000, 0.0000, 0.0000, 0.0000, 0.0000, 0.0000, 0.0000, 0.0000, 0.0000, 0.0000, 0.0000, 0.0000,\n",
       "         0.0000, 0.0000, 0.0000, 0.0000, 0.0000, 0.0000, 0.0000, 0.0000, 0.0000, 0.0000, 0.0000, 0.0000, 0.0000, 0.0000, 0.0000, 0.0000, 0.0000, 0.0000, 0.0000, 0.0000, 0.0000, 0.0000, 0.0000, 0.0000,\n",
       "         0.0000, 0.0000, 0.0000, 0.1647, 0.4627, 0.8588, 0.6510, 0.4627, 0.4627, 0.0235, 0.0000, 0.0000, 0.0000, 0.0000, 0.0000, 0.0000, 0.0000, 0.0000, 0.0000, 0.0000, 0.0000, 0.0000, 0.0000, 0.0000,\n",
       "         0.0000, 0.0000, 0.0000, 0.0000, 0.0000, 0.0000, 0.4039, 0.9490, 0.9961, 0.9961, 0.9961, 0.9961, 0.9961, 0.2588, 0.0000, 0.0000, 0.0000, 0.0000, 0.0000, 0.0000, 0.0000, 0.0000, 0.0000, 0.0000,\n",
       "         0.0000, 0.0000, 0.0000, 0.0000, 0.0000, 0.0000, 0.0000, 0.0000, 0.0000, 0.0000, 0.0706, 0.9098, 0.9961, 0.9961, 0.9961, 0.9961, 0.9961, 0.9333, 0.2745, 0.0000, 0.0000, 0.0000, 0.0000, 0.0000,\n",
       "         0.0000, 0.0000, 0.0000, 0.0000, 0.0000, 0.0000, 0.0000, 0.0000, 0.0000, 0.0000, 0.0000, 0.0000, 0.0000, 0.0000, 0.0000, 0.4078, 0.9569, 0.9961, 0.8784, 0.9961, 0.9961, 0.9961, 0.5529, 0.0000,\n",
       "         0.0000, 0.0000, 0.0000, 0.0000, 0.0000, 0.0000, 0.0000, 0.0000, 0.0000, 0.0000, 0.0000, 0.0000, 0.0000, 0.0000, 0.0000, 0.0000, 0.0000, 0.0000, 0.0000, 0.0000, 0.8118, 0.9961, 0.8235, 0.9961,\n",
       "         0.9961, 0.9961, 0.1333, 0.0000, 0.0000, 0.0000, 0.0000, 0.0000, 0.0000, 0.0000, 0.0000, 0.0000, 0.0000, 0.0000, 0.0000, 0.0000, 0.0000, 0.0000, 0.0000, 0.0000, 0.0000, 0.0000, 0.0000, 0.0000,\n",
       "         0.3294, 0.8078, 0.9961, 0.9961, 0.9961, 0.9961, 0.1608, 0.0000, 0.0000, 0.0000, 0.0000, 0.0000, 0.0000, 0.0000, 0.0000, 0.0000, 0.0000, 0.0000, 0.0000, 0.0000, 0.0000, 0.0000, 0.0000, 0.0000,\n",
       "         0.0000, 0.0000, 0.0000, 0.0000, 0.0000, 0.0941, 0.8196, 0.9961, 0.9961, 0.9961, 0.6706, 0.0000, 0.0000, 0.0000, 0.0000, 0.0000, 0.0000, 0.0000, 0.0000, 0.0000, 0.0000, 0.0000, 0.0000, 0.0000,\n",
       "         0.0000, 0.0000, 0.0000, 0.0000, 0.0000, 0.0000, 0.0000, 0.0000, 0.3569, 0.5373, 0.9922, 0.9961, 0.9961, 0.9961, 0.4392, 0.0000, 0.0000, 0.0000, 0.0000, 0.0000, 0.0000, 0.0000, 0.0000, 0.0000,\n",
       "         0.0000, 0.0000, 0.0000, 0.0000, 0.0000, 0.0000, 0.0000, 0.0000, 0.0000, 0.0000, 0.1569, 0.8392, 0.9804, 0.9961, 0.9961, 0.9961, 0.9961, 0.9961, 0.1333, 0.0000, 0.0000, 0.0000, 0.0000, 0.0000,\n",
       "         0.0000, 0.0000, 0.0000, 0.0000, 0.0000, 0.0000, 0.0000, 0.0000, 0.0000, 0.0000, 0.0000, 0.0000, 0.0000, 0.0000, 0.3176, 0.9686, 0.9961, 0.9961, 0.9961, 0.9961, 0.9961, 0.9961, 0.5725, 0.0000,\n",
       "         0.0000, 0.0000, 0.0000, 0.0000, 0.0000, 0.0000, 0.0000, 0.0000, 0.0000, 0.0000, 0.0000, 0.0000, 0.0000, 0.0000, 0.0000, 0.0000, 0.0000, 0.0000, 0.0000, 0.4314, 0.9647, 0.9961, 0.9961, 0.9961,\n",
       "         0.9961, 0.9961, 0.6706, 0.0000, 0.0000, 0.0000, 0.0000, 0.0000, 0.0000, 0.0000, 0.0000, 0.0000, 0.0000, 0.0000, 0.0000, 0.0000, 0.0000, 0.0000, 0.0000, 0.0000, 0.0000, 0.0000, 0.0000, 0.0000,\n",
       "         0.2863, 0.3490, 0.3490, 0.3647, 0.9412, 0.9961, 0.6706, 0.0000, 0.0000, 0.0000, 0.0000, 0.0000, 0.0000, 0.0000, 0.0000, 0.0000, 0.0000, 0.0000, 0.0000, 0.0000, 0.0000, 0.0000, 0.0000, 0.0000,\n",
       "         0.0000, 0.0000, 0.0000, 0.0000, 0.0000, 0.0000, 0.0000, 0.0039, 0.5020, 0.9961, 0.8588, 0.1216, 0.0000, 0.0000, 0.0000, 0.0000, 0.0000, 0.0000, 0.0000, 0.0000, 0.0000, 0.0000, 0.0000, 0.0000,\n",
       "         0.0000, 0.0000, 0.0000, 0.0000, 0.0000, 0.0000, 0.0000, 0.0000, 0.0000, 0.0000, 0.0000, 0.0275, 0.9961, 0.9961, 0.8392, 0.1098, 0.0000, 0.0000, 0.0000, 0.0000, 0.0000, 0.0000, 0.0000, 0.0000,\n",
       "         0.0000, 0.0000, 0.0000, 0.0000, 0.0000, 0.0000, 0.0000, 0.0000, 0.0000, 0.0000, 0.0000, 0.0000, 0.0000, 0.0000, 0.0000, 0.5412, 0.9961, 0.9961, 0.4549, 0.0000, 0.0000, 0.0000, 0.0000, 0.0000,\n",
       "         0.0000, 0.0000, 0.0000, 0.0000, 0.0000, 0.0000, 0.0000, 0.0000, 0.0000, 0.0000, 0.0745, 0.6941, 0.3529, 0.0000, 0.0000, 0.0000, 0.0000, 0.0000, 0.0980, 0.9412, 0.9961, 0.9961, 0.1333, 0.0000,\n",
       "         0.0000, 0.0000, 0.0000, 0.0000, 0.0000, 0.0000, 0.0000, 0.0000, 0.0000, 0.0000, 0.0000, 0.0000, 0.0000, 0.0000, 0.6431, 0.9961, 0.8431, 0.2471, 0.1412, 0.0000, 0.2000, 0.3490, 0.8078, 0.9961,\n",
       "         0.9961, 0.5451, 0.0314, 0.0000, 0.0000, 0.0000, 0.0000, 0.0000, 0.0000, 0.0000, 0.0000, 0.0000, 0.0000, 0.0000, 0.0000, 0.0000, 0.0000, 0.0000, 0.2235, 0.7725, 0.9961, 0.9961, 0.8706, 0.7059,\n",
       "         0.9451, 0.9961, 0.9961, 0.9922, 0.8353, 0.0431, 0.0000, 0.0000, 0.0000, 0.0000, 0.0000, 0.0000, 0.0000, 0.0000, 0.0000, 0.0000, 0.0000, 0.0000, 0.0000, 0.0000, 0.0000, 0.0000, 0.0000, 0.5490,\n",
       "         0.4118, 0.9961, 0.9961, 0.9961, 0.9961, 0.9961, 0.9961, 0.9255, 0.0000, 0.0000, 0.0000, 0.0000, 0.0000, 0.0000, 0.0000, 0.0000, 0.0000, 0.0000, 0.0000, 0.0000, 0.0000, 0.0000, 0.0000, 0.0000,\n",
       "         0.0000, 0.0000, 0.0000, 0.0000, 0.0275, 0.4588, 0.4588, 0.6471, 0.9961, 0.9961, 0.9373, 0.1961, 0.0000, 0.0000, 0.0000, 0.0000, 0.0000, 0.0000, 0.0000, 0.0000, 0.0000, 0.0000, 0.0000, 0.0000,\n",
       "         0.0000, 0.0000, 0.0000, 0.0000, 0.0000, 0.0000, 0.0000, 0.0000, 0.0000, 0.0000, 0.0000, 0.0000, 0.0000, 0.0000, 0.0000, 0.0000, 0.0000, 0.0000, 0.0000, 0.0000, 0.0000, 0.0000, 0.0000, 0.0000,\n",
       "         0.0000, 0.0000, 0.0000, 0.0000, 0.0000, 0.0000, 0.0000, 0.0000, 0.0000, 0.0000, 0.0000, 0.0000, 0.0000, 0.0000, 0.0000, 0.0000, 0.0000, 0.0000, 0.0000, 0.0000, 0.0000, 0.0000, 0.0000, 0.0000,\n",
       "         0.0000, 0.0000, 0.0000, 0.0000, 0.0000, 0.0000, 0.0000, 0.0000, 0.0000, 0.0000, 0.0000, 0.0000, 0.0000, 0.0000, 0.0000, 0.0000, 0.0000, 0.0000, 0.0000, 0.0000, 0.0000, 0.0000, 0.0000, 0.0000,\n",
       "         0.0000, 0.0000, 0.0000, 0.0000, 0.0000, 0.0000, 0.0000, 0.0000, 0.0000, 0.0000, 0.0000, 0.0000, 0.0000, 0.0000, 0.0000, 0.0000, 0.0000, 0.0000, 0.0000, 0.0000, 0.0000, 0.0000, 0.0000, 0.0000,\n",
       "         0.0000, 0.0000, 0.0000, 0.0000, 0.0000, 0.0000, 0.0000, 0.0000, 0.0000, 0.0000, 0.0000, 0.0000, 0.0000, 0.0000, 0.0000, 0.0000]),\n",
       " tensor([1]))"
      ]
     },
     "execution_count": 50,
     "metadata": {},
     "output_type": "execute_result"
    }
   ],
   "source": [
    "dset = list(zip(train_x, train_y))\n",
    "x, y = dset[0]\n",
    "x,y"
   ]
  },
  {
   "cell_type": "markdown",
   "metadata": {
    "id": "ZhjnFJ0XNard"
   },
   "source": [
    "Repeating the same for validation set"
   ]
  },
  {
   "cell_type": "code",
   "execution_count": 51,
   "metadata": {
    "id": "WM9FKXnyNdtZ"
   },
   "outputs": [],
   "source": [
    "valid_x = torch.cat([valid_3_tens, valid_7_tens]).view(-1, 28*28)\n",
    "valid_y = tensor([1]*len(valid_3_tens) + [0]*len(valid_7_tens)).unsqueeze(1)\n",
    "valid_dset = list(zip(valid_x, valid_y))"
   ]
  },
  {
   "cell_type": "code",
   "execution_count": 52,
   "metadata": {
    "id": "5vb9FIBIOA0I"
   },
   "outputs": [],
   "source": [
    "# Initailizing random parameters\n",
    "def init_params(size, std=1.0): return (torch.randn(size)*std).requires_grad_()"
   ]
  },
  {
   "cell_type": "code",
   "execution_count": 53,
   "metadata": {
    "colab": {
     "base_uri": "https://localhost:8080/"
    },
    "id": "s6wce1EUOZ-U",
    "outputId": "911c7f98-707e-45f3-b5ab-07dbe87338d2"
   },
   "outputs": [
    {
     "data": {
      "text/plain": [
       "(tensor([ 6.4076e-01,  5.8325e-01,  1.0669e+00, -4.5015e-01, -6.7875e-01,  5.7432e-01,  1.8775e-01, -3.5762e-01,  2.6491e-01,  1.2732e+00, -1.3109e-03, -3.0360e-01, -9.8644e-01,  1.2330e-01,\n",
       "          3.4987e-01,  6.1728e-01,  7.2618e-01,  9.1152e-02, -3.8907e-01,  5.2792e-01,  1.0311e+00, -7.0477e-01,  1.0131e+00, -3.3082e-01,  1.0950e+00,  3.3989e-01,  7.1997e-01,  4.1141e-01,\n",
       "         -5.7332e-01,  5.0686e-01, -4.7521e-01, -4.9203e-01, -1.3603e-01,  1.6354e+00,  6.5474e-01,  5.7600e-01, -3.6091e-01, -6.0590e-02,  7.3255e-02,  8.1865e-01, -3.7534e-01,  1.0331e+00,\n",
       "         -6.8665e-01,  6.3681e-01,  2.1755e-01, -4.6655e-02, -1.4335e+00, -5.6653e-01,  2.6948e-01, -2.1038e-01, -7.3280e-01,  1.0430e-01,  1.0414e+00, -3.9973e-01, -2.2933e+00,  4.9756e-01,\n",
       "         -2.4801e+00, -4.1754e-01, -1.1955e+00,  8.1234e-01, -3.0628e-01, -3.3016e-01, -9.8080e-01,  1.9473e-01,  2.8683e-01, -7.3084e-01,  1.7482e-01, -1.0939e+00,  9.6334e-01, -3.0953e-01,\n",
       "          5.7120e-01,  1.1179e+00, -1.5469e+00,  7.5671e-01,  7.7552e-01,  2.0265e+00,  9.8121e-01, -6.4012e-01, -4.9084e-01,  2.0801e-01, -9.3195e-01, -1.5910e+00, -1.1360e+00, -5.2260e-01,\n",
       "          7.1654e-01,  1.5335e+00, -1.4510e+00, -7.8614e-01,  1.0229e+00, -5.5580e-01,  7.0427e-01,  7.0988e-01, -1.5326e+00, -7.2513e-01,  4.6640e-01,  6.6672e-01, -1.1753e+00,  3.5806e-01,\n",
       "          4.7877e-01,  1.3537e+00, -1.5933e-01, -4.2494e-01,  9.4423e-01, -1.8493e-01,  1.8516e-01,  1.0687e+00,  1.3065e+00,  4.5983e-01,  2.6178e-01, -7.5993e-01, -2.0461e+00, -1.5295e+00,\n",
       "          1.5432e-01,  4.4077e-01, -1.4829e-01, -2.3184e+00,  1.3032e+00,  4.8787e-01,  1.1340e+00, -3.5556e-01,  3.0943e-01, -5.0031e-01,  1.0350e+00,  1.6896e+00,  2.1274e-02, -8.2927e-01,\n",
       "         -1.0809e+00, -7.8385e-01, -5.7266e-01,  8.3568e-02,  3.9991e-01,  1.9892e+00, -4.6113e-01, -6.3885e-02, -1.3667e+00,  3.2982e-01,  1.7623e-02,  7.8226e-02,  1.9316e-01,  4.0967e-01,\n",
       "         -1.5754e+00,  2.2508e+00,  1.0012e+00,  1.3642e+00, -8.7189e-01, -2.7118e-02, -3.5325e-01,  1.4639e+00,  1.7290e-01,  1.0514e+00,  7.4915e-03, -7.7365e-02,  5.3973e-01,  5.6551e-01,\n",
       "          5.0579e-01,  2.2245e-01, -9.1432e-01,  1.4840e+00, -9.1091e-01, -5.2910e-01, -1.4790e+00,  4.3227e-01, -1.2503e-01,  7.8212e-01,  5.6351e-01,  1.8582e+00,  1.0441e+00, -8.6382e-01,\n",
       "          1.3059e+00,  2.4659e-01, -1.9776e+00,  1.7896e-02, -1.4129e+00, -1.8791e+00, -1.7983e-01,  7.9039e-01, -1.2219e-01, -7.4700e-01,  1.7093e+00,  5.7923e-02,  8.6374e-01, -5.8900e-01,\n",
       "         -1.0340e+00, -2.1787e-01,  4.1459e-01,  1.1566e+00,  2.6905e-01, -3.6629e-02, -4.8076e-01,  3.1630e-01,  3.8657e-01,  7.3369e-01, -3.1362e-01, -1.2925e-01, -7.1496e-01, -4.7562e-02,\n",
       "          5.2296e-01,  9.7173e-01, -2.7785e-01, -6.1160e-01, -3.1766e-02,  1.0164e-01,  1.3433e+00,  7.1327e-01,  3.4628e-01, -5.4016e-01,  8.5686e-01, -6.7205e-01,  4.5363e-01,  1.2461e+00,\n",
       "         -2.3065e+00, -1.2869e+00,  2.1368e-01, -1.2351e+00,  1.8592e+00,  5.6125e-02, -7.6472e-01, -5.5283e-02,  1.2049e+00, -9.8247e-01,  3.0397e-01,  9.3390e-01, -1.9726e+00, -1.4120e+00,\n",
       "          4.6515e-01,  3.7139e-01, -4.6568e-03,  7.9549e-02, -4.5604e-01, -6.1913e-02, -2.2219e-01, -1.2470e+00,  4.3514e-01,  2.6589e-01, -5.8710e-01,  8.2689e-02,  1.8576e-01, -9.6980e-01,\n",
       "          1.8932e+00,  4.4469e-01,  5.6667e-01, -7.0976e-01, -4.8751e-01,  5.0096e-02,  3.2731e-01,  1.2922e-01,  2.8520e+00, -7.4357e-01,  9.4777e-01, -6.7663e-01, -5.7302e-01, -3.3032e-01,\n",
       "         -3.0713e-01, -7.1550e-01,  7.6167e-02, -2.1271e-01, -3.2025e-01, -8.4438e-01, -5.5135e-01,  1.9890e+00,  8.4787e-01, -6.9534e-01,  3.0562e-01,  2.9091e-01, -1.7735e+00, -7.0464e-01,\n",
       "         -3.9465e-01,  1.8868e+00,  1.7868e-01, -3.8506e-02, -8.6883e-02, -1.1803e+00,  3.4590e-01,  6.4248e-01, -2.0395e-01,  6.8537e-01, -1.3351e+00,  1.6516e+00,  1.9810e+00, -1.0479e-01,\n",
       "         -5.9074e-01,  8.5406e-01, -4.9007e-01, -3.5946e-01, -5.8936e-02, -4.8092e-01,  9.9334e-01,  2.6951e-01,  1.4703e+00, -9.3909e-01, -6.0132e-01, -9.9640e-02, -1.2311e+00,  8.6572e-01,\n",
       "         -1.4236e+00, -6.9609e-01,  9.8745e-01, -3.3197e-01, -8.0762e-01,  8.2436e-01,  1.4862e+00, -1.4091e+00, -3.6389e-01, -9.9332e-02,  9.6236e-01, -1.4264e-01,  1.5271e-01, -3.8802e-02,\n",
       "         -2.1305e-01, -5.9036e-01,  4.6679e-01,  3.9561e-01, -1.4181e-01, -2.7634e-01, -1.9321e-01,  7.7678e-01,  7.2035e-01, -1.3358e+00,  8.1080e-01,  7.5460e-01, -4.7022e-01, -6.0864e-01,\n",
       "         -4.6192e-02, -1.6457e+00, -6.9602e-01,  2.3589e-01,  8.2809e-01,  1.1044e-01,  1.0348e+00, -6.2644e-01, -5.1509e-01,  6.9029e-01,  2.0403e+00, -1.2979e+00,  6.1607e-01, -2.5084e-01,\n",
       "          8.4852e-01, -4.7891e-02,  6.6856e-01,  1.0430e+00,  7.2045e-01,  1.4701e+00, -1.1215e+00,  2.1004e+00, -1.0319e-01,  1.1895e+00,  7.6069e-01, -7.4630e-01, -5.8236e-01,  1.3500e+00,\n",
       "          2.7785e-01,  9.1604e-02, -4.2920e-01, -9.8180e-01, -6.4206e-01,  8.2659e-01, -3.6460e-01,  8.7162e-02,  1.1225e+00,  9.7974e-02,  7.7151e-02, -9.2281e-01, -1.2620e+00,  1.0861e+00,\n",
       "         -8.7859e-01,  2.5487e+00,  6.5939e-01,  6.7016e-01,  1.6206e-01,  1.1960e+00, -1.3062e+00, -1.4040e+00,  9.5265e-02, -3.6589e-01,  1.9605e-01, -1.5174e+00,  2.8340e+00,  1.9535e+00,\n",
       "          2.0487e+00, -1.0880e+00, -2.0479e+00,  1.0006e+00,  6.8633e-01, -6.8454e-01, -5.0810e-01, -6.1849e-01, -1.6470e+00, -1.0362e+00, -9.7107e-01,  2.8605e+00, -9.9410e-01, -3.5902e-01,\n",
       "         -4.4875e-01, -3.0454e-02,  3.8303e-01, -4.4770e-02, -2.3120e+00, -6.4156e-01,  1.0530e+00,  1.4495e+00, -7.5259e-01, -6.4723e-01, -1.2823e+00,  1.9653e+00, -1.1766e+00,  1.1889e+00,\n",
       "          2.1555e-01,  6.2646e-01,  6.2145e-01,  4.2319e-01, -3.3890e-01,  5.1797e-01, -1.7459e+00,  1.0964e+00,  4.8656e-01,  3.6682e-01,  1.5102e+00,  2.1230e-01, -7.2520e-01, -9.5277e-01,\n",
       "         -8.4279e-01, -1.6413e+00, -7.1809e-01, -1.0896e-01, -1.7907e+00,  9.3293e-02, -1.9153e+00, -6.4218e-01, -6.7525e-01, -8.1040e-01, -8.3296e-01,  1.8296e+00,  3.5332e-01, -2.6475e+00,\n",
       "         -1.4575e+00, -9.7124e-01,  2.4150e-01, -1.1612e+00,  1.4511e-01,  1.6612e+00,  1.0103e+00,  6.1104e-01,  1.2208e+00, -6.0764e-01, -4.5261e-02, -3.5729e-01, -5.7139e-01, -1.4078e+00,\n",
       "         -6.2280e-01, -7.8918e-01, -1.6782e-01,  1.6433e+00,  5.1626e-01,  1.6060e+00, -9.8150e-01,  5.3607e-01, -2.0717e+00, -4.1253e-01, -9.7696e-01, -3.3634e-02, -7.9826e-01, -2.6482e-01,\n",
       "         -1.6661e-01,  2.5182e-01,  1.9898e-01, -2.3609e-01,  3.0341e-01, -4.5008e-01, -1.7387e-01,  2.9909e-02, -1.3959e-02, -1.0164e-02,  5.3259e-01, -6.0354e-01, -1.7426e-01,  6.0921e-01,\n",
       "          2.2544e-01, -2.7933e-01,  6.7019e-01,  1.1880e-01, -1.7899e+00, -2.6157e-01, -4.4025e-01,  2.1848e+00,  9.7715e-01, -1.4153e+00, -7.8205e-04,  9.2348e-01, -3.1229e-01, -2.5418e-01,\n",
       "         -1.2055e+00, -9.5421e-01,  8.9873e-01, -1.3368e-01,  6.8441e-01,  7.1139e-01, -9.0856e-01,  3.1300e-01,  8.0505e-01, -1.1134e+00,  5.2580e-01,  1.6828e+00,  9.6736e-02,  2.5708e-01,\n",
       "          6.3777e-01,  1.5979e-01,  1.7698e+00,  6.2682e-01, -4.9761e-01, -1.8228e-01, -2.1200e-01,  8.1622e-01, -4.4026e-01, -2.3180e+00,  1.2946e+00,  2.2267e-01, -1.2924e+00,  1.6887e-01,\n",
       "         -8.3261e-01, -8.1295e-01,  4.3105e-01,  3.6835e-01,  7.6380e-01,  1.1792e+00,  8.3019e-02,  4.2202e-01,  3.4185e-01, -2.7016e+00,  1.4148e-01,  7.1104e-02,  5.6335e-01, -5.7864e-01,\n",
       "         -1.2299e+00,  2.0929e+00,  8.7579e-01,  3.2558e-01,  4.3896e-02,  1.4443e+00,  2.3203e-01,  5.0650e-01, -9.1776e-01,  4.2057e-01, -3.6886e-01, -7.6961e-01,  1.2506e-01, -7.6215e-01,\n",
       "         -1.1906e+00,  7.7561e-01, -9.4374e-01,  1.7305e-01, -1.8815e+00,  5.8509e-01, -7.4342e-02, -1.5664e-01, -8.7085e-01, -6.4110e-01,  5.3738e-01,  7.8175e-01,  1.0477e+00, -3.9481e-01,\n",
       "          8.7683e-02,  1.0938e+00, -1.1772e-01, -2.9864e-01,  1.5193e+00,  3.5802e-02,  1.0366e+00,  8.8169e-01, -5.1822e-01,  8.3954e-01,  5.8523e-02, -1.6682e+00, -1.9967e-02, -1.2131e+00,\n",
       "          1.1971e+00, -7.8177e-01, -5.2974e-01,  9.6252e-01,  2.7944e-01, -5.7182e-01,  1.9491e+00, -4.2519e-01, -3.7528e-01,  1.4467e+00,  8.3849e-01, -2.6985e-01,  1.2306e-01,  8.7575e-01,\n",
       "          2.1163e-01,  1.2271e+00, -5.7228e-01, -1.7070e-01,  4.3201e-01, -3.0918e-01, -9.6581e-02,  1.5419e+00, -1.5147e+00,  1.8518e+00, -1.7016e-01, -1.3861e+00, -1.2520e+00,  3.0250e+00,\n",
       "          1.3463e+00,  8.5561e-01, -1.5256e+00,  1.2538e+00, -6.8434e-01, -2.1216e+00, -1.1616e-01,  1.3705e+00, -4.8094e-01, -9.9036e-01, -1.2157e+00,  1.5274e-02, -1.0486e+00,  1.7823e+00,\n",
       "         -3.4958e-01,  3.7975e-01,  9.9930e-01,  1.2752e+00,  1.2704e+00, -7.5035e-02, -2.2950e+00, -1.3631e+00,  7.9531e-01,  2.7928e-01,  1.8645e-01,  3.5471e-01,  1.2479e-01,  4.9390e-01,\n",
       "          7.8391e-02,  2.2359e-01,  3.4288e-01, -1.4591e+00, -1.4937e+00, -2.2139e-01,  1.2098e-01,  5.5353e-01, -1.9203e+00, -9.7065e-02,  2.8815e-01,  8.6905e-01, -8.0971e-01, -1.4299e+00,\n",
       "         -1.4811e-01, -7.9777e-01,  1.8783e+00,  1.8154e-01,  1.7685e+00, -9.8580e-01, -1.2371e+00, -2.3019e+00,  6.0715e-01,  3.4609e-02, -5.1238e-01,  5.5741e-01,  1.1820e+00,  3.2603e-01,\n",
       "         -3.8945e-01,  2.8544e+00,  3.3091e-01,  9.7702e-01, -3.4443e-01, -1.8887e-01,  6.9654e-02, -1.6034e+00, -4.2982e-01,  5.7616e-01,  6.8292e-01, -3.5719e-02, -8.8810e-01, -5.8912e-01,\n",
       "         -6.0713e-01, -2.5974e-01, -7.1902e-01, -3.8583e-01,  4.9101e-02,  1.2479e+00,  9.2914e-02, -7.8436e-01, -2.8251e-01,  7.6927e-01, -7.6689e-01, -9.4949e-01,  5.8314e-01,  3.3020e-02,\n",
       "         -1.2598e+00, -7.2981e-01,  1.2682e-01, -2.4521e+00,  4.1598e-01,  1.9025e+00, -1.3525e+00, -1.3029e-01,  1.7551e+00,  6.7511e-02,  7.4018e-01,  1.4162e+00,  6.8340e-01, -1.3825e-01,\n",
       "          9.8639e-01, -3.8926e-01,  6.1381e-01, -2.7863e-01, -6.0518e-01, -1.7925e-01,  1.9956e-01, -1.2462e+00,  4.0352e-01,  4.4627e-01, -5.2184e-01,  8.3020e-01, -6.9195e-01, -4.7199e-01,\n",
       "         -1.2894e+00,  1.0763e+00, -2.2879e+00, -4.8341e-01,  5.6000e-01, -1.0602e+00,  3.3933e-03, -1.0240e+00,  2.2405e-01, -7.5548e-01,  8.6708e-01,  1.9191e-01,  1.1600e+00, -8.8152e-03,\n",
       "         -1.6515e+00,  2.1477e+00, -6.6041e-01,  1.1353e-01,  3.5569e-01,  1.2056e+00,  1.3690e+00, -6.9496e-01, -3.4888e-01, -4.5792e-01, -1.2322e+00, -5.9808e-01, -1.3493e-01,  1.4877e-01,\n",
       "         -2.3777e-01, -1.0139e-01,  4.8813e-01,  1.0082e+00, -5.9500e-01,  3.9263e-01, -1.4314e+00, -3.9799e-02, -5.0034e-01,  2.9304e-01, -2.0005e-01,  9.9495e-01,  7.2019e-01, -1.3413e-01,\n",
       "         -1.6446e-01,  1.3389e+00,  2.0047e+00, -1.5808e+00, -1.5693e-01,  1.1383e+00, -2.5052e-01,  1.6705e+00,  1.8888e+00, -7.5381e-01, -1.7143e+00, -2.2070e+00,  3.6579e-01, -3.9920e-01,\n",
       "          4.9674e-01, -2.3692e+00, -2.7667e-01, -3.3858e-01, -8.8103e-01,  3.4835e-01, -1.1756e+00, -7.8323e-02, -9.7058e-01,  1.4724e+00, -1.3775e+00, -1.2044e+00, -4.8242e-01, -8.1642e-01],\n",
       "        requires_grad=True),\n",
       " tensor([-0.3948], requires_grad=True))"
      ]
     },
     "execution_count": 53,
     "metadata": {},
     "output_type": "execute_result"
    }
   ],
   "source": [
    "weights = init_params(28*28, 1)\n",
    "bias = init_params(1)\n",
    "weights, bias"
   ]
  },
  {
   "cell_type": "code",
   "execution_count": 54,
   "metadata": {
    "colab": {
     "base_uri": "https://localhost:8080/"
    },
    "id": "yAaemb8xSM7T",
    "outputId": "7de649d9-126c-484c-8d9b-5605cf06a945"
   },
   "outputs": [
    {
     "name": "stderr",
     "output_type": "stream",
     "text": [
      "<ipython-input-54-72ffbe9a635b>:2: UserWarning: The use of `x.T` on tensors of dimension other than 2 to reverse their shape is deprecated and it will throw an error in a future release. Consider `x.mT` to transpose batches of matrices or `x.permute(*torch.arange(x.ndim - 1, -1, -1))` to reverse the dimensions of a tensor. (Triggered internally at ../aten/src/ATen/native/TensorShape.cpp:3614.)\n",
      "  weights.T\n"
     ]
    },
    {
     "data": {
      "text/plain": [
       "tensor([ 6.4076e-01,  5.8325e-01,  1.0669e+00, -4.5015e-01, -6.7875e-01,  5.7432e-01,  1.8775e-01, -3.5762e-01,  2.6491e-01,  1.2732e+00, -1.3109e-03, -3.0360e-01, -9.8644e-01,  1.2330e-01,\n",
       "         3.4987e-01,  6.1728e-01,  7.2618e-01,  9.1152e-02, -3.8907e-01,  5.2792e-01,  1.0311e+00, -7.0477e-01,  1.0131e+00, -3.3082e-01,  1.0950e+00,  3.3989e-01,  7.1997e-01,  4.1141e-01,\n",
       "        -5.7332e-01,  5.0686e-01, -4.7521e-01, -4.9203e-01, -1.3603e-01,  1.6354e+00,  6.5474e-01,  5.7600e-01, -3.6091e-01, -6.0590e-02,  7.3255e-02,  8.1865e-01, -3.7534e-01,  1.0331e+00,\n",
       "        -6.8665e-01,  6.3681e-01,  2.1755e-01, -4.6655e-02, -1.4335e+00, -5.6653e-01,  2.6948e-01, -2.1038e-01, -7.3280e-01,  1.0430e-01,  1.0414e+00, -3.9973e-01, -2.2933e+00,  4.9756e-01,\n",
       "        -2.4801e+00, -4.1754e-01, -1.1955e+00,  8.1234e-01, -3.0628e-01, -3.3016e-01, -9.8080e-01,  1.9473e-01,  2.8683e-01, -7.3084e-01,  1.7482e-01, -1.0939e+00,  9.6334e-01, -3.0953e-01,\n",
       "         5.7120e-01,  1.1179e+00, -1.5469e+00,  7.5671e-01,  7.7552e-01,  2.0265e+00,  9.8121e-01, -6.4012e-01, -4.9084e-01,  2.0801e-01, -9.3195e-01, -1.5910e+00, -1.1360e+00, -5.2260e-01,\n",
       "         7.1654e-01,  1.5335e+00, -1.4510e+00, -7.8614e-01,  1.0229e+00, -5.5580e-01,  7.0427e-01,  7.0988e-01, -1.5326e+00, -7.2513e-01,  4.6640e-01,  6.6672e-01, -1.1753e+00,  3.5806e-01,\n",
       "         4.7877e-01,  1.3537e+00, -1.5933e-01, -4.2494e-01,  9.4423e-01, -1.8493e-01,  1.8516e-01,  1.0687e+00,  1.3065e+00,  4.5983e-01,  2.6178e-01, -7.5993e-01, -2.0461e+00, -1.5295e+00,\n",
       "         1.5432e-01,  4.4077e-01, -1.4829e-01, -2.3184e+00,  1.3032e+00,  4.8787e-01,  1.1340e+00, -3.5556e-01,  3.0943e-01, -5.0031e-01,  1.0350e+00,  1.6896e+00,  2.1274e-02, -8.2927e-01,\n",
       "        -1.0809e+00, -7.8385e-01, -5.7266e-01,  8.3568e-02,  3.9991e-01,  1.9892e+00, -4.6113e-01, -6.3885e-02, -1.3667e+00,  3.2982e-01,  1.7623e-02,  7.8226e-02,  1.9316e-01,  4.0967e-01,\n",
       "        -1.5754e+00,  2.2508e+00,  1.0012e+00,  1.3642e+00, -8.7189e-01, -2.7118e-02, -3.5325e-01,  1.4639e+00,  1.7290e-01,  1.0514e+00,  7.4915e-03, -7.7365e-02,  5.3973e-01,  5.6551e-01,\n",
       "         5.0579e-01,  2.2245e-01, -9.1432e-01,  1.4840e+00, -9.1091e-01, -5.2910e-01, -1.4790e+00,  4.3227e-01, -1.2503e-01,  7.8212e-01,  5.6351e-01,  1.8582e+00,  1.0441e+00, -8.6382e-01,\n",
       "         1.3059e+00,  2.4659e-01, -1.9776e+00,  1.7896e-02, -1.4129e+00, -1.8791e+00, -1.7983e-01,  7.9039e-01, -1.2219e-01, -7.4700e-01,  1.7093e+00,  5.7923e-02,  8.6374e-01, -5.8900e-01,\n",
       "        -1.0340e+00, -2.1787e-01,  4.1459e-01,  1.1566e+00,  2.6905e-01, -3.6629e-02, -4.8076e-01,  3.1630e-01,  3.8657e-01,  7.3369e-01, -3.1362e-01, -1.2925e-01, -7.1496e-01, -4.7562e-02,\n",
       "         5.2296e-01,  9.7173e-01, -2.7785e-01, -6.1160e-01, -3.1766e-02,  1.0164e-01,  1.3433e+00,  7.1327e-01,  3.4628e-01, -5.4016e-01,  8.5686e-01, -6.7205e-01,  4.5363e-01,  1.2461e+00,\n",
       "        -2.3065e+00, -1.2869e+00,  2.1368e-01, -1.2351e+00,  1.8592e+00,  5.6125e-02, -7.6472e-01, -5.5283e-02,  1.2049e+00, -9.8247e-01,  3.0397e-01,  9.3390e-01, -1.9726e+00, -1.4120e+00,\n",
       "         4.6515e-01,  3.7139e-01, -4.6568e-03,  7.9549e-02, -4.5604e-01, -6.1913e-02, -2.2219e-01, -1.2470e+00,  4.3514e-01,  2.6589e-01, -5.8710e-01,  8.2689e-02,  1.8576e-01, -9.6980e-01,\n",
       "         1.8932e+00,  4.4469e-01,  5.6667e-01, -7.0976e-01, -4.8751e-01,  5.0096e-02,  3.2731e-01,  1.2922e-01,  2.8520e+00, -7.4357e-01,  9.4777e-01, -6.7663e-01, -5.7302e-01, -3.3032e-01,\n",
       "        -3.0713e-01, -7.1550e-01,  7.6167e-02, -2.1271e-01, -3.2025e-01, -8.4438e-01, -5.5135e-01,  1.9890e+00,  8.4787e-01, -6.9534e-01,  3.0562e-01,  2.9091e-01, -1.7735e+00, -7.0464e-01,\n",
       "        -3.9465e-01,  1.8868e+00,  1.7868e-01, -3.8506e-02, -8.6883e-02, -1.1803e+00,  3.4590e-01,  6.4248e-01, -2.0395e-01,  6.8537e-01, -1.3351e+00,  1.6516e+00,  1.9810e+00, -1.0479e-01,\n",
       "        -5.9074e-01,  8.5406e-01, -4.9007e-01, -3.5946e-01, -5.8936e-02, -4.8092e-01,  9.9334e-01,  2.6951e-01,  1.4703e+00, -9.3909e-01, -6.0132e-01, -9.9640e-02, -1.2311e+00,  8.6572e-01,\n",
       "        -1.4236e+00, -6.9609e-01,  9.8745e-01, -3.3197e-01, -8.0762e-01,  8.2436e-01,  1.4862e+00, -1.4091e+00, -3.6389e-01, -9.9332e-02,  9.6236e-01, -1.4264e-01,  1.5271e-01, -3.8802e-02,\n",
       "        -2.1305e-01, -5.9036e-01,  4.6679e-01,  3.9561e-01, -1.4181e-01, -2.7634e-01, -1.9321e-01,  7.7678e-01,  7.2035e-01, -1.3358e+00,  8.1080e-01,  7.5460e-01, -4.7022e-01, -6.0864e-01,\n",
       "        -4.6192e-02, -1.6457e+00, -6.9602e-01,  2.3589e-01,  8.2809e-01,  1.1044e-01,  1.0348e+00, -6.2644e-01, -5.1509e-01,  6.9029e-01,  2.0403e+00, -1.2979e+00,  6.1607e-01, -2.5084e-01,\n",
       "         8.4852e-01, -4.7891e-02,  6.6856e-01,  1.0430e+00,  7.2045e-01,  1.4701e+00, -1.1215e+00,  2.1004e+00, -1.0319e-01,  1.1895e+00,  7.6069e-01, -7.4630e-01, -5.8236e-01,  1.3500e+00,\n",
       "         2.7785e-01,  9.1604e-02, -4.2920e-01, -9.8180e-01, -6.4206e-01,  8.2659e-01, -3.6460e-01,  8.7162e-02,  1.1225e+00,  9.7974e-02,  7.7151e-02, -9.2281e-01, -1.2620e+00,  1.0861e+00,\n",
       "        -8.7859e-01,  2.5487e+00,  6.5939e-01,  6.7016e-01,  1.6206e-01,  1.1960e+00, -1.3062e+00, -1.4040e+00,  9.5265e-02, -3.6589e-01,  1.9605e-01, -1.5174e+00,  2.8340e+00,  1.9535e+00,\n",
       "         2.0487e+00, -1.0880e+00, -2.0479e+00,  1.0006e+00,  6.8633e-01, -6.8454e-01, -5.0810e-01, -6.1849e-01, -1.6470e+00, -1.0362e+00, -9.7107e-01,  2.8605e+00, -9.9410e-01, -3.5902e-01,\n",
       "        -4.4875e-01, -3.0454e-02,  3.8303e-01, -4.4770e-02, -2.3120e+00, -6.4156e-01,  1.0530e+00,  1.4495e+00, -7.5259e-01, -6.4723e-01, -1.2823e+00,  1.9653e+00, -1.1766e+00,  1.1889e+00,\n",
       "         2.1555e-01,  6.2646e-01,  6.2145e-01,  4.2319e-01, -3.3890e-01,  5.1797e-01, -1.7459e+00,  1.0964e+00,  4.8656e-01,  3.6682e-01,  1.5102e+00,  2.1230e-01, -7.2520e-01, -9.5277e-01,\n",
       "        -8.4279e-01, -1.6413e+00, -7.1809e-01, -1.0896e-01, -1.7907e+00,  9.3293e-02, -1.9153e+00, -6.4218e-01, -6.7525e-01, -8.1040e-01, -8.3296e-01,  1.8296e+00,  3.5332e-01, -2.6475e+00,\n",
       "        -1.4575e+00, -9.7124e-01,  2.4150e-01, -1.1612e+00,  1.4511e-01,  1.6612e+00,  1.0103e+00,  6.1104e-01,  1.2208e+00, -6.0764e-01, -4.5261e-02, -3.5729e-01, -5.7139e-01, -1.4078e+00,\n",
       "        -6.2280e-01, -7.8918e-01, -1.6782e-01,  1.6433e+00,  5.1626e-01,  1.6060e+00, -9.8150e-01,  5.3607e-01, -2.0717e+00, -4.1253e-01, -9.7696e-01, -3.3634e-02, -7.9826e-01, -2.6482e-01,\n",
       "        -1.6661e-01,  2.5182e-01,  1.9898e-01, -2.3609e-01,  3.0341e-01, -4.5008e-01, -1.7387e-01,  2.9909e-02, -1.3959e-02, -1.0164e-02,  5.3259e-01, -6.0354e-01, -1.7426e-01,  6.0921e-01,\n",
       "         2.2544e-01, -2.7933e-01,  6.7019e-01,  1.1880e-01, -1.7899e+00, -2.6157e-01, -4.4025e-01,  2.1848e+00,  9.7715e-01, -1.4153e+00, -7.8205e-04,  9.2348e-01, -3.1229e-01, -2.5418e-01,\n",
       "        -1.2055e+00, -9.5421e-01,  8.9873e-01, -1.3368e-01,  6.8441e-01,  7.1139e-01, -9.0856e-01,  3.1300e-01,  8.0505e-01, -1.1134e+00,  5.2580e-01,  1.6828e+00,  9.6736e-02,  2.5708e-01,\n",
       "         6.3777e-01,  1.5979e-01,  1.7698e+00,  6.2682e-01, -4.9761e-01, -1.8228e-01, -2.1200e-01,  8.1622e-01, -4.4026e-01, -2.3180e+00,  1.2946e+00,  2.2267e-01, -1.2924e+00,  1.6887e-01,\n",
       "        -8.3261e-01, -8.1295e-01,  4.3105e-01,  3.6835e-01,  7.6380e-01,  1.1792e+00,  8.3019e-02,  4.2202e-01,  3.4185e-01, -2.7016e+00,  1.4148e-01,  7.1104e-02,  5.6335e-01, -5.7864e-01,\n",
       "        -1.2299e+00,  2.0929e+00,  8.7579e-01,  3.2558e-01,  4.3896e-02,  1.4443e+00,  2.3203e-01,  5.0650e-01, -9.1776e-01,  4.2057e-01, -3.6886e-01, -7.6961e-01,  1.2506e-01, -7.6215e-01,\n",
       "        -1.1906e+00,  7.7561e-01, -9.4374e-01,  1.7305e-01, -1.8815e+00,  5.8509e-01, -7.4342e-02, -1.5664e-01, -8.7085e-01, -6.4110e-01,  5.3738e-01,  7.8175e-01,  1.0477e+00, -3.9481e-01,\n",
       "         8.7683e-02,  1.0938e+00, -1.1772e-01, -2.9864e-01,  1.5193e+00,  3.5802e-02,  1.0366e+00,  8.8169e-01, -5.1822e-01,  8.3954e-01,  5.8523e-02, -1.6682e+00, -1.9967e-02, -1.2131e+00,\n",
       "         1.1971e+00, -7.8177e-01, -5.2974e-01,  9.6252e-01,  2.7944e-01, -5.7182e-01,  1.9491e+00, -4.2519e-01, -3.7528e-01,  1.4467e+00,  8.3849e-01, -2.6985e-01,  1.2306e-01,  8.7575e-01,\n",
       "         2.1163e-01,  1.2271e+00, -5.7228e-01, -1.7070e-01,  4.3201e-01, -3.0918e-01, -9.6581e-02,  1.5419e+00, -1.5147e+00,  1.8518e+00, -1.7016e-01, -1.3861e+00, -1.2520e+00,  3.0250e+00,\n",
       "         1.3463e+00,  8.5561e-01, -1.5256e+00,  1.2538e+00, -6.8434e-01, -2.1216e+00, -1.1616e-01,  1.3705e+00, -4.8094e-01, -9.9036e-01, -1.2157e+00,  1.5274e-02, -1.0486e+00,  1.7823e+00,\n",
       "        -3.4958e-01,  3.7975e-01,  9.9930e-01,  1.2752e+00,  1.2704e+00, -7.5035e-02, -2.2950e+00, -1.3631e+00,  7.9531e-01,  2.7928e-01,  1.8645e-01,  3.5471e-01,  1.2479e-01,  4.9390e-01,\n",
       "         7.8391e-02,  2.2359e-01,  3.4288e-01, -1.4591e+00, -1.4937e+00, -2.2139e-01,  1.2098e-01,  5.5353e-01, -1.9203e+00, -9.7065e-02,  2.8815e-01,  8.6905e-01, -8.0971e-01, -1.4299e+00,\n",
       "        -1.4811e-01, -7.9777e-01,  1.8783e+00,  1.8154e-01,  1.7685e+00, -9.8580e-01, -1.2371e+00, -2.3019e+00,  6.0715e-01,  3.4609e-02, -5.1238e-01,  5.5741e-01,  1.1820e+00,  3.2603e-01,\n",
       "        -3.8945e-01,  2.8544e+00,  3.3091e-01,  9.7702e-01, -3.4443e-01, -1.8887e-01,  6.9654e-02, -1.6034e+00, -4.2982e-01,  5.7616e-01,  6.8292e-01, -3.5719e-02, -8.8810e-01, -5.8912e-01,\n",
       "        -6.0713e-01, -2.5974e-01, -7.1902e-01, -3.8583e-01,  4.9101e-02,  1.2479e+00,  9.2914e-02, -7.8436e-01, -2.8251e-01,  7.6927e-01, -7.6689e-01, -9.4949e-01,  5.8314e-01,  3.3020e-02,\n",
       "        -1.2598e+00, -7.2981e-01,  1.2682e-01, -2.4521e+00,  4.1598e-01,  1.9025e+00, -1.3525e+00, -1.3029e-01,  1.7551e+00,  6.7511e-02,  7.4018e-01,  1.4162e+00,  6.8340e-01, -1.3825e-01,\n",
       "         9.8639e-01, -3.8926e-01,  6.1381e-01, -2.7863e-01, -6.0518e-01, -1.7925e-01,  1.9956e-01, -1.2462e+00,  4.0352e-01,  4.4627e-01, -5.2184e-01,  8.3020e-01, -6.9195e-01, -4.7199e-01,\n",
       "        -1.2894e+00,  1.0763e+00, -2.2879e+00, -4.8341e-01,  5.6000e-01, -1.0602e+00,  3.3933e-03, -1.0240e+00,  2.2405e-01, -7.5548e-01,  8.6708e-01,  1.9191e-01,  1.1600e+00, -8.8152e-03,\n",
       "        -1.6515e+00,  2.1477e+00, -6.6041e-01,  1.1353e-01,  3.5569e-01,  1.2056e+00,  1.3690e+00, -6.9496e-01, -3.4888e-01, -4.5792e-01, -1.2322e+00, -5.9808e-01, -1.3493e-01,  1.4877e-01,\n",
       "        -2.3777e-01, -1.0139e-01,  4.8813e-01,  1.0082e+00, -5.9500e-01,  3.9263e-01, -1.4314e+00, -3.9799e-02, -5.0034e-01,  2.9304e-01, -2.0005e-01,  9.9495e-01,  7.2019e-01, -1.3413e-01,\n",
       "        -1.6446e-01,  1.3389e+00,  2.0047e+00, -1.5808e+00, -1.5693e-01,  1.1383e+00, -2.5052e-01,  1.6705e+00,  1.8888e+00, -7.5381e-01, -1.7143e+00, -2.2070e+00,  3.6579e-01, -3.9920e-01,\n",
       "         4.9674e-01, -2.3692e+00, -2.7667e-01, -3.3858e-01, -8.8103e-01,  3.4835e-01, -1.1756e+00, -7.8323e-02, -9.7058e-01,  1.4724e+00, -1.3775e+00, -1.2044e+00, -4.8242e-01, -8.1642e-01],\n",
       "       grad_fn=<PermuteBackward0>)"
      ]
     },
     "execution_count": 54,
     "metadata": {},
     "output_type": "execute_result"
    }
   ],
   "source": [
    "# Transversed Tensore\n",
    "weights.T"
   ]
  },
  {
   "cell_type": "markdown",
   "metadata": {
    "id": "teCUqgV2Q40G"
   },
   "source": [
    "## Neural Network\n",
    " In neural networks, the `w` in the rectified linear equation is called the weights, and the `b` is called the bias. Together, the weights and bias make up the parameters."
   ]
  },
  {
   "cell_type": "markdown",
   "metadata": {
    "id": "FrBgBSudqiq-"
   },
   "source": [
    "Multiplying Single input with the weights to get the"
   ]
  },
  {
   "cell_type": "code",
   "execution_count": 55,
   "metadata": {
    "colab": {
     "base_uri": "https://localhost:8080/"
    },
    "id": "THmlDTuARMxd",
    "outputId": "062127de-4299-4831-b061-1ad2f5f0c948"
   },
   "outputs": [
    {
     "data": {
      "text/plain": [
       "tensor([7.5145], grad_fn=<AddBackward0>)"
      ]
     },
     "execution_count": 55,
     "metadata": {},
     "output_type": "execute_result"
    }
   ],
   "source": [
    "# Calculating a prediction for one image\n",
    "(train_x[0] * weights.T).sum() + bias"
   ]
  },
  {
   "cell_type": "markdown",
   "metadata": {
    "id": "A8-SC5PnTyp7"
   },
   "source": [
    "#### Matrix Multiplication"
   ]
  },
  {
   "cell_type": "code",
   "execution_count": 56,
   "metadata": {
    "colab": {
     "base_uri": "https://localhost:8080/"
    },
    "id": "ql28Q4__Sb1K",
    "outputId": "5daaba39-1e35-43ec-ca08-db2f2b3ec7f2"
   },
   "outputs": [
    {
     "data": {
      "text/plain": [
       "tensor([ 7.5145, 12.6291,  8.7788,  ..., -9.0516,  1.0111, -5.5140], grad_fn=<AddBackward0>)"
      ]
     },
     "execution_count": 56,
     "metadata": {},
     "output_type": "execute_result"
    }
   ],
   "source": [
    " def linear1(xb): return xb@weights + bias\n",
    " preds = linear1(train_x)\n",
    " preds"
   ]
  },
  {
   "cell_type": "markdown",
   "metadata": {
    "id": "gHitMholTsx9"
   },
   "source": [
    "The first image prediction is same to the one done before the matrix multiplication.\n",
    "`batch@weights + bias` Important Fundamental Equation (linear function) for neural network and other is Activation funtion or non linear function\\\n",
    "Here the prediction is done with broadcasting hence the same set of weights are applied to all images"
   ]
  },
  {
   "cell_type": "code",
   "execution_count": 57,
   "metadata": {
    "colab": {
     "base_uri": "https://localhost:8080/"
    },
    "id": "oZtuWeyzT5aI",
    "outputId": "22bf7513-594c-4e61-a861-bdc045ca5fa9"
   },
   "outputs": [
    {
     "data": {
      "text/plain": [
       "tensor([[ True,  True,  True,  ..., False,  True, False],\n",
       "        [ True,  True,  True,  ..., False,  True, False],\n",
       "        [ True,  True,  True,  ..., False,  True, False],\n",
       "        ...,\n",
       "        [False, False, False,  ...,  True, False,  True],\n",
       "        [False, False, False,  ...,  True, False,  True],\n",
       "        [False, False, False,  ...,  True, False,  True]])"
      ]
     },
     "execution_count": 57,
     "metadata": {},
     "output_type": "execute_result"
    }
   ],
   "source": [
    "# Matching the prediction and actual observation; if they are same or not\n",
    "corrects = (preds > 0.0).float() == train_y\n",
    "corrects"
   ]
  },
  {
   "cell_type": "code",
   "execution_count": 58,
   "metadata": {
    "colab": {
     "base_uri": "https://localhost:8080/"
    },
    "id": "CQdMxG3v0hxI",
    "outputId": "3634a302-0423-4164-8b98-e635148a960a"
   },
   "outputs": [
    {
     "data": {
      "text/plain": [
       "0.49961191415786743"
      ]
     },
     "execution_count": 58,
     "metadata": {},
     "output_type": "execute_result"
    }
   ],
   "source": [
    "# Taking mean of this would give the ACCURACY\n",
    "corrects.float().mean().item()"
   ]
  },
  {
   "cell_type": "markdown",
   "metadata": {
    "id": "5yJmZVmxVDZc"
   },
   "source": [
    "## Manual Modification of weight\n",
    "Checking if there's any change after modifying the weight"
   ]
  },
  {
   "cell_type": "code",
   "execution_count": 59,
   "metadata": {
    "colab": {
     "base_uri": "https://localhost:8080/"
    },
    "id": "nohLhFpAVoNS",
    "outputId": "95882646-cd95-4e46-b2ca-6ca232f2a60a"
   },
   "outputs": [
    {
     "data": {
      "text/plain": [
       "tensor(0.6408, grad_fn=<SelectBackward0>)"
      ]
     },
     "execution_count": 59,
     "metadata": {},
     "output_type": "execute_result"
    }
   ],
   "source": [
    "# Modifing the first weight ie, weight assigned to the first pixel\n",
    "weights[0]"
   ]
  },
  {
   "cell_type": "code",
   "execution_count": 60,
   "metadata": {
    "id": "phKfUViZUzUA"
   },
   "outputs": [],
   "source": [
    "with torch.no_grad(): weights[0] *=1.001"
   ]
  },
  {
   "cell_type": "code",
   "execution_count": 61,
   "metadata": {
    "colab": {
     "base_uri": "https://localhost:8080/"
    },
    "id": "eKqQy36sVPwf",
    "outputId": "76d55287-d54a-484c-cf6d-ecd4dc67dd0f"
   },
   "outputs": [
    {
     "data": {
      "text/plain": [
       "0.49961191415786743"
      ]
     },
     "execution_count": 61,
     "metadata": {},
     "output_type": "execute_result"
    }
   ],
   "source": [
    "preds = linear1(train_x)\n",
    "((preds>0.0).float() == train_y).float().mean().item()"
   ]
  },
  {
   "cell_type": "markdown",
   "metadata": {
    "id": "8SNOcnRMV-Hv"
   },
   "source": [
    "## Search for loss function\n",
    "To modify our weights we need gradients; which represent instantaneous change for loss function (in case of neural network).\n",
    "We can use accuracy as our loss function; but there is a technical issue which causes our gradient to be flat for almost whole prediction and infinity at the meeting.\n",
    "\n",
    "Since our prediction didn't improved after steeping, the gradient is 0 as the change seems to be 0."
   ]
  },
  {
   "cell_type": "markdown",
   "metadata": {
    "id": "Cb65UId-WBD4"
   },
   "source": [
    "Let's take a case based example to solve the above issue:"
   ]
  },
  {
   "cell_type": "code",
   "execution_count": 62,
   "metadata": {
    "id": "8yEfo1qQcJmU"
   },
   "outputs": [],
   "source": [
    "trgts = tensor([1,0,1]) ## labels\n",
    "preds = tensor([0.9, 0.4, 0.2])"
   ]
  },
  {
   "cell_type": "code",
   "execution_count": 63,
   "metadata": {
    "id": "lM1r4Rj2cTmY"
   },
   "outputs": [],
   "source": [
    "def mnist_loss(predictions, targets):\n",
    "  return torch.where(targets==1, 1-predictions, predictions).mean()"
   ]
  },
  {
   "cell_type": "code",
   "execution_count": 64,
   "metadata": {
    "colab": {
     "base_uri": "https://localhost:8080/"
    },
    "id": "w54O153jdDUh",
    "outputId": "83fe9b30-7984-4617-800c-e7efd3053a78"
   },
   "outputs": [
    {
     "name": "stdout",
     "output_type": "stream",
     "text": [
      "tensor(0.4333) tensor(0.2333)\n"
     ]
    }
   ],
   "source": [
    "# Comparing loss with two different preds\n",
    "preds = tensor([0.9, 0.4, 0.2])\n",
    "preds2 = tensor([0.9, 0.4, 0.8])\n",
    "\n",
    "print(mnist_loss(preds, trgts), mnist_loss(preds2, trgts))"
   ]
  },
  {
   "cell_type": "markdown",
   "metadata": {
    "id": "vv9MRDXkdyHK"
   },
   "source": [
    "The loss has changed but it's not significant as it assumes that predictions are always in 0 to 1 range. We have to make sure that this is the case."
   ]
  },
  {
   "cell_type": "markdown",
   "metadata": {
    "id": "P2Fq7pAKeClr"
   },
   "source": [
    "### Sigmoid Function or Non linear Activation function\n",
    "Sigmoid always returns number between 0 and 1"
   ]
  },
  {
   "cell_type": "code",
   "execution_count": 65,
   "metadata": {
    "id": "wkhXvF_veICE"
   },
   "outputs": [],
   "source": [
    "def sigmoid(x): return 1/(1+ torch.exp(-x))"
   ]
  },
  {
   "cell_type": "code",
   "execution_count": 66,
   "metadata": {
    "colab": {
     "base_uri": "https://localhost:8080/",
     "height": 396
    },
    "id": "zkjQ9_Y-eVA5",
    "outputId": "13b64b20-6359-44f3-f2d7-1dd9ad7ef4fd"
   },
   "outputs": [
    {
     "data": {
      "image/png": "[encoded data removed]",
      "text/plain": [
       "<Figure size 600x400 with 1 Axes>"
      ]
     },
     "metadata": {},
     "output_type": "display_data"
    }
   ],
   "source": [
    "plot_function(torch.sigmoid, title = 'Sigmoid', min = -4, max = 4)"
   ]
  },
  {
   "cell_type": "code",
   "execution_count": 67,
   "metadata": {
    "id": "QmzfY3cNerxx"
   },
   "outputs": [],
   "source": [
    "def mnist_loss(predictions, targets):\n",
    "  predictions = predictions.sigmoid()\n",
    "  return torch.where(targets==1, 1-predictions, predictions).mean()"
   ]
  },
  {
   "cell_type": "markdown",
   "metadata": {
    "id": "vW3CV_yXfJyz"
   },
   "source": [
    "This allows us to create a smooth loss graph which gives us a good gradient instead of a gradient with large slopes and flats. Here our search for loss functions which is more sensitive and gives us a better result ends."
   ]
  },
  {
   "cell_type": "markdown",
   "metadata": {
    "id": "RyIVZYfTgL1j"
   },
   "source": [
    "## Batches and Mini Batch"
   ]
  },
  {
   "cell_type": "code",
   "execution_count": 68,
   "metadata": {
    "colab": {
     "base_uri": "https://localhost:8080/"
    },
    "id": "PeMafHv9gf8k",
    "outputId": "f5065daa-69d2-4b36-d076-dcd08c8d7817"
   },
   "outputs": [
    {
     "data": {
      "text/plain": [
       "[tensor([3, 8, 2, 4, 7]), tensor([11,  5,  1, 10,  0]), tensor([6, 9])]"
      ]
     },
     "execution_count": 68,
     "metadata": {},
     "output_type": "execute_result"
    }
   ],
   "source": [
    "#DataLoader in PyTorch/fastAI tuns a list into a mini-batches and also shuffles them\n",
    "coll = range(12)\n",
    "dl = DataLoader(coll, batch_size = 5, shuffle= True)\n",
    "list(dl)"
   ]
  },
  {
   "cell_type": "markdown",
   "metadata": {
    "id": "0DCtt7COhH-t"
   },
   "source": [
    "For training, we require input and labels so, pytorch offers `dataset` tuple which can hold the information.\n",
    "When `DataSet` is passed into `DataLoader` it splits into mini batches of tuples consisting dependent and independent variable"
   ]
  },
  {
   "cell_type": "code",
   "execution_count": 69,
   "metadata": {
    "colab": {
     "base_uri": "https://localhost:8080/"
    },
    "id": "_VHdfQHNheo-",
    "outputId": "f72d2da0-8fb9-49e6-f2ba-816f8f60d606"
   },
   "outputs": [
    {
     "name": "stdout",
     "output_type": "stream",
     "text": [
      "[(0, 'a'), (1, 'b'), (2, 'c'), (3, 'd'), (4, 'e'), (5, 'f'), (6, 'g'), (7, 'h'), (8, 'i'), (9, 'j'), (10, 'k'), (11, 'l'), (12, 'm'), (13, 'n'), (14, 'o'), (15, 'p'), (16, 'q'), (17, 'r'), (18, 's'), (19, 't'), (20, 'u'), (21, 'v'), (22, 'w'), (23, 'x'), (24, 'y'), (25, 'z')]\n"
     ]
    },
    {
     "data": {
      "text/plain": [
       "[(tensor([17, 18, 10, 22,  8]), ('r', 's', 'k', 'w', 'i')),\n",
       " (tensor([14, 20, 15,  9, 13]), ('o', 'u', 'p', 'j', 'n')),\n",
       " (tensor([21, 12,  7, 25,  6]), ('v', 'm', 'h', 'z', 'g')),\n",
       " (tensor([ 5, 11, 23,  1,  3]), ('f', 'l', 'x', 'b', 'd')),\n",
       " (tensor([ 0, 24, 19, 16,  2]), ('a', 'y', 't', 'q', 'c')),\n",
       " (tensor([4]), ('e',))]"
      ]
     },
     "execution_count": 69,
     "metadata": {},
     "output_type": "execute_result"
    }
   ],
   "source": [
    "ds = L(enumerate(string.ascii_lowercase))\n",
    "print(ds)\n",
    "\n",
    "dl = DataLoader(ds, batch_size = 5, shuffle= True)\n",
    "list(dl)"
   ]
  },
  {
   "cell_type": "markdown",
   "metadata": {
    "id": "tjJOpc4bjEMX"
   },
   "source": [
    "# Putting all together"
   ]
  },
  {
   "cell_type": "markdown",
   "metadata": {
    "id": "rBlxyNy5kAk5"
   },
   "source": [
    "Initial preparation of parameters and data."
   ]
  },
  {
   "cell_type": "code",
   "execution_count": 70,
   "metadata": {
    "id": "SU7MV8tFjV_b"
   },
   "outputs": [],
   "source": [
    "# Initialize the weights\n",
    "weights = init_params((28*28, 1))\n",
    "bias = init_params(1)"
   ]
  },
  {
   "cell_type": "code",
   "execution_count": 72,
   "metadata": {
    "id": "YIzQSTk3wo0O"
   },
   "outputs": [],
   "source": [
    "%%capture\n",
    "!pip install nbdev"
   ]
  },
  {
   "cell_type": "code",
   "execution_count": 73,
   "metadata": {
    "colab": {
     "base_uri": "https://localhost:8080/",
     "height": 155
    },
    "id": "u2RDPfbKu9-t",
    "outputId": "d2b258c9-6dc2-4e89-fd4a-c5bfa1cc7e2e"
   },
   "outputs": [
    {
     "data": {
      "text/html": [
       "<hr/>\n",
       "<h3>first</h3>\n",
       "<blockquote><pre><code>first(x, f=None, negate=False, **kwargs)</code></pre></blockquote><p>First element of `x`, optionally filtered by `f`, or None if missing</p>\n",
       "<p><a href=\"https://fastcore.fast.ai/basics.html#first\" target=\"_blank\" rel=\"noreferrer noopener\">Show in docs</a></p>"
      ],
      "text/plain": [
       "<IPython.core.display.HTML object>"
      ]
     },
     "metadata": {},
     "output_type": "display_data"
    }
   ],
   "source": [
    "doc(first)"
   ]
  },
  {
   "cell_type": "code",
   "execution_count": null,
   "metadata": {
    "colab": {
     "base_uri": "https://localhost:8080/"
    },
    "id": "OOh09pdEjg0p",
    "outputId": "f13c2c78-89ed-4257-e7bd-da528cbf0d67"
   },
   "outputs": [
    {
     "data": {
      "text/plain": [
       "(torch.Size([256, 784]), torch.Size([256, 1]))"
      ]
     },
     "execution_count": 157,
     "metadata": {},
     "output_type": "execute_result"
    }
   ],
   "source": [
    "# Creating DataLoader(batches) from dset\n",
    "dl = DataLoader(dset, batch_size=256)\n",
    "xb,yb = first(dl)\n",
    "xb.shape,yb.shape"
   ]
  },
  {
   "cell_type": "code",
   "execution_count": null,
   "metadata": {
    "id": "NkHQybdSj0fS"
   },
   "outputs": [],
   "source": [
    "## Same for validation set\n",
    "valid_dl = DataLoader(valid_dset, batch_size=256)"
   ]
  },
  {
   "cell_type": "markdown",
   "metadata": {
    "id": "qZu9g9Qhj9dE"
   },
   "source": [
    "### Testing workflow for 4 batch items"
   ]
  },
  {
   "cell_type": "code",
   "execution_count": null,
   "metadata": {
    "colab": {
     "base_uri": "https://localhost:8080/"
    },
    "id": "9Wp23XKIkVos",
    "outputId": "008427f9-308d-423f-a187-6b4e8f5b9bb1"
   },
   "outputs": [
    {
     "data": {
      "text/plain": [
       "torch.Size([4, 784])"
      ]
     },
     "execution_count": 159,
     "metadata": {},
     "output_type": "execute_result"
    }
   ],
   "source": [
    "batch = train_x[:4]\n",
    "batch.shape"
   ]
  },
  {
   "cell_type": "code",
   "execution_count": null,
   "metadata": {
    "colab": {
     "base_uri": "https://localhost:8080/"
    },
    "id": "wagVcq-5kVV1",
    "outputId": "30a02240-dba1-4548-9d63-3302dde522ce"
   },
   "outputs": [
    {
     "data": {
      "text/plain": [
       "tensor([[-6.6780],\n",
       "        [-8.7128],\n",
       "        [-7.3242],\n",
       "        [-7.0189]], grad_fn=<AddBackward0>)"
      ]
     },
     "execution_count": 160,
     "metadata": {},
     "output_type": "execute_result"
    }
   ],
   "source": [
    "# make prediction\n",
    "preds = linear1(batch)\n",
    "preds"
   ]
  },
  {
   "cell_type": "code",
   "execution_count": null,
   "metadata": {
    "colab": {
     "base_uri": "https://localhost:8080/"
    },
    "id": "lnRaxmP-kfOI",
    "outputId": "fb8cca53-9ce9-4f43-fca2-5c655739f63f"
   },
   "outputs": [
    {
     "data": {
      "text/plain": [
       "tensor(0.9993, grad_fn=<MeanBackward0>)"
      ]
     },
     "execution_count": 161,
     "metadata": {},
     "output_type": "execute_result"
    }
   ],
   "source": [
    "# Cacl loss\n",
    "loss = mnist_loss(preds, train_y[:4])\n",
    "loss"
   ]
  },
  {
   "cell_type": "code",
   "execution_count": null,
   "metadata": {
    "colab": {
     "base_uri": "https://localhost:8080/"
    },
    "id": "KZ51Uijvks4b",
    "outputId": "2d1845b5-cf21-4c30-e83c-ca2e152e20da"
   },
   "outputs": [
    {
     "data": {
      "text/plain": [
       "(torch.Size([784, 1]), tensor(-0.0001), tensor([-0.0007]))"
      ]
     },
     "execution_count": 162,
     "metadata": {},
     "output_type": "execute_result"
    }
   ],
   "source": [
    "# Calculate gradients\n",
    "loss.backward()\n",
    "weights.grad.shape,weights.grad.mean(),bias.grad"
   ]
  },
  {
   "cell_type": "code",
   "execution_count": null,
   "metadata": {
    "colab": {
     "base_uri": "https://localhost:8080/"
    },
    "id": "eHTgsrC7k_Ve",
    "outputId": "ba91d994-540a-46c5-d7cf-7998d75841d5"
   },
   "outputs": [
    {
     "data": {
      "text/plain": [
       "(tensor(-0.0002), tensor([-0.0015]))"
      ]
     },
     "execution_count": 163,
     "metadata": {},
     "output_type": "execute_result"
    }
   ],
   "source": [
    "## Put all of the above into function\n",
    "def calc_grad(xb, yb, model):\n",
    "    preds = model(xb)\n",
    "    loss = mnist_loss(preds, yb)\n",
    "    loss.backward()\n",
    "\n",
    "calc_grad(batch, train_y[:4], linear1)\n",
    "weights.grad.mean(), bias.grad"
   ]
  },
  {
   "cell_type": "markdown",
   "metadata": {
    "id": "oa88xFBSlDJm"
   },
   "source": [
    "When we run loss.backward() or backward proporgation multiple times, the gradients are being added. Hence we need to reset them at the end of each iteration."
   ]
  },
  {
   "cell_type": "code",
   "execution_count": null,
   "metadata": {
    "colab": {
     "base_uri": "https://localhost:8080/"
    },
    "id": "wC1uzgpGmS9y",
    "outputId": "efd599fa-901a-4db5-815e-080915d15073"
   },
   "outputs": [
    {
     "data": {
      "text/plain": [
       "tensor([0.])"
      ]
     },
     "execution_count": 164,
     "metadata": {},
     "output_type": "execute_result"
    }
   ],
   "source": [
    "weights.grad.zero_()\n",
    "bias.grad.zero_()"
   ]
  },
  {
   "cell_type": "code",
   "execution_count": null,
   "metadata": {
    "id": "u5ntDOHwoA_N"
   },
   "outputs": [],
   "source": [
    "# Step the parameters and complete the training\n",
    "def train_epoch(model, lr, params):\n",
    "    for xb,yb in dl:\n",
    "        calc_grad(xb, yb, model)\n",
    "        for p in params:\n",
    "            p.data -= p.grad*lr\n",
    "            p.grad.zero_()"
   ]
  },
  {
   "cell_type": "code",
   "execution_count": null,
   "metadata": {
    "id": "Oox8QI6Qobsr"
   },
   "outputs": [],
   "source": [
    "# Batch accuracy\n",
    "def batch_accuracy(xb, yb):\n",
    "    preds = xb.sigmoid()\n",
    "    correct = (preds>0.5) == yb\n",
    "    return correct.float().mean()"
   ]
  },
  {
   "cell_type": "code",
   "execution_count": null,
   "metadata": {
    "colab": {
     "base_uri": "https://localhost:8080/"
    },
    "id": "NwkRU5eeokMK",
    "outputId": "cba68753-5af8-4551-c925-b6d0abea29d7"
   },
   "outputs": [
    {
     "data": {
      "text/plain": [
       "tensor(0.)"
      ]
     },
     "execution_count": 167,
     "metadata": {},
     "output_type": "execute_result"
    }
   ],
   "source": [
    "batch_accuracy(linear1(batch), train_y[:4])"
   ]
  },
  {
   "cell_type": "code",
   "execution_count": null,
   "metadata": {
    "id": "u4yAIJLrpERE"
   },
   "outputs": [],
   "source": [
    "# Running model over Validation set\n",
    "def validate_epoch(model):\n",
    "  accs = [batch_accuracy(model(xb), yb) for xb, yb in valid_dl]\n",
    "  return round(torch.stack(accs).mean().item(), 4)"
   ]
  },
  {
   "cell_type": "code",
   "execution_count": null,
   "metadata": {
    "colab": {
     "base_uri": "https://localhost:8080/"
    },
    "id": "jecZJS3pps0u",
    "outputId": "2707edaf-5570-4c4d-96e1-8bfb0fcfaaa9"
   },
   "outputs": [
    {
     "data": {
      "text/plain": [
       "0.3539"
      ]
     },
     "execution_count": 169,
     "metadata": {},
     "output_type": "execute_result"
    }
   ],
   "source": [
    "validate_epoch(linear1)"
   ]
  },
  {
   "cell_type": "markdown",
   "metadata": {
    "id": "kAxnm_l7pzj7"
   },
   "source": [
    "*Lets train for one epoch*"
   ]
  },
  {
   "cell_type": "code",
   "execution_count": null,
   "metadata": {
    "colab": {
     "base_uri": "https://localhost:8080/"
    },
    "id": "T-HGcijsp4Wj",
    "outputId": "ab9a844c-d271-4b40-cf0c-65b6093c3ee7"
   },
   "outputs": [
    {
     "data": {
      "text/plain": [
       "0.628"
      ]
     },
     "execution_count": 170,
     "metadata": {},
     "output_type": "execute_result"
    }
   ],
   "source": [
    "lr = 1.\n",
    "params = weights,bias\n",
    "train_epoch(linear1, lr, params)\n",
    "validate_epoch(linear1)"
   ]
  },
  {
   "cell_type": "code",
   "execution_count": null,
   "metadata": {
    "colab": {
     "base_uri": "https://localhost:8080/"
    },
    "id": "o5W7R6DW6K1P",
    "outputId": "10f6edf6-8f9f-44d0-a91d-9e334b6f624a"
   },
   "outputs": [
    {
     "name": "stdout",
     "output_type": "stream",
     "text": [
      "0.7805 0.8821 0.9153 0.932 0.9349 0.9461 0.95 0.9539 0.9549 0.9564 0.9583 0.9598 0.9618 0.9622 0.9627 0.9637 0.9652 0.9667 0.9681 0.9691 "
     ]
    }
   ],
   "source": [
    "# Trainning Loop for number of times.\n",
    "for i in range(20):\n",
    "    train_epoch(linear1, lr, params)\n",
    "    print(validate_epoch(linear1), end=' ')"
   ]
  },
  {
   "cell_type": "markdown",
   "metadata": {
    "id": "Gr_DxxJE73Hd"
   },
   "source": [
    "## Creating Optimizer\n",
    "Using PyTorch module to build Neural Network"
   ]
  },
  {
   "cell_type": "code",
   "execution_count": null,
   "metadata": {
    "id": "7Fj8kf4X8DER"
   },
   "outputs": [],
   "source": [
    "linear_model = nn.Linear(28*28, 1)"
   ]
  },
  {
   "cell_type": "code",
   "execution_count": null,
   "metadata": {
    "colab": {
     "base_uri": "https://localhost:8080/"
    },
    "id": "ZgexdewA9O8X",
    "outputId": "b2ab4357-c4ae-48fe-a4d0-0220141b4408"
   },
   "outputs": [
    {
     "data": {
      "text/plain": [
       "(torch.Size([1, 784]), torch.Size([1]))"
      ]
     },
     "execution_count": 173,
     "metadata": {},
     "output_type": "execute_result"
    }
   ],
   "source": [
    "w, b = linear_model.parameters()\n",
    "w.shape, b.shape"
   ]
  },
  {
   "cell_type": "code",
   "execution_count": null,
   "metadata": {
    "id": "Y-m3CKlW9VMI"
   },
   "outputs": [],
   "source": [
    "class BasicOptim:\n",
    "  def __init__(self, params, lr): self.params, self.lr = list(params), lr\n",
    "  def step(self, *args, **kwargs):\n",
    "    for p in self.params: p.data -= p.grad.data * self.lr\n",
    "  def zero_grad(self, *arg, **kwargs):\n",
    "    for p in self.params: p.grad = None"
   ]
  },
  {
   "cell_type": "code",
   "execution_count": null,
   "metadata": {
    "id": "MzPcxoOl9zCn"
   },
   "outputs": [],
   "source": [
    "opt = BasicOptim(linear_model.parameters(), lr)"
   ]
  },
  {
   "cell_type": "code",
   "execution_count": null,
   "metadata": {
    "id": "kcan0tEd-Jkw"
   },
   "outputs": [],
   "source": [
    "# Train epoch\n",
    "def train_epoch(model):\n",
    "    for xb,yb in dl:\n",
    "        calc_grad(xb, yb, model)\n",
    "        opt.step()\n",
    "        opt.zero_grad()"
   ]
  },
  {
   "cell_type": "code",
   "execution_count": null,
   "metadata": {
    "colab": {
     "base_uri": "https://localhost:8080/"
    },
    "id": "jntRUmkKATYt",
    "outputId": "1469e0e6-a2f9-4f78-da29-36b5306a5100"
   },
   "outputs": [
    {
     "data": {
      "text/plain": [
       "0.4932"
      ]
     },
     "execution_count": 183,
     "metadata": {},
     "output_type": "execute_result"
    }
   ],
   "source": [
    "validate_epoch(linear_model)"
   ]
  },
  {
   "cell_type": "code",
   "execution_count": null,
   "metadata": {
    "id": "Nd8I-14yAWZd"
   },
   "outputs": [],
   "source": [
    "def train_model(model, epochs):\n",
    "    for i in range(epochs):\n",
    "        train_epoch(model)\n",
    "        print(validate_epoch(model), end=' ')"
   ]
  },
  {
   "cell_type": "code",
   "execution_count": null,
   "metadata": {
    "colab": {
     "base_uri": "https://localhost:8080/"
    },
    "id": "MjwR8iIl_lvz",
    "outputId": "353c79ee-7aa9-4c4e-fe84-57faf8084aa5"
   },
   "outputs": [
    {
     "name": "stdout",
     "output_type": "stream",
     "text": [
      "0.4932 0.4932 0.4932 0.4932 0.4932 0.4932 0.4932 0.4932 0.4932 0.4932 0.4932 0.4932 0.4932 0.4932 0.4932 0.4932 0.4932 0.4932 0.4932 0.4932 "
     ]
    }
   ],
   "source": [
    "train_model(linear_model, 20)"
   ]
  },
  {
   "cell_type": "code",
   "execution_count": null,
   "metadata": {
    "colab": {
     "base_uri": "https://localhost:8080/"
    },
    "id": "bcykLrxl_wxe",
    "outputId": "a22a9926-ab74-4a5d-8fd2-6c6301987899"
   },
   "outputs": [
    {
     "name": "stdout",
     "output_type": "stream",
     "text": [
      "0.4932 0.9145 0.8008 0.9062 0.9306 0.9443 0.9541 0.9619 0.9643 0.9668 0.9692 0.9712 0.9731 0.9746 0.9755 0.976 0.9775 0.9775 0.9785 0.9785 "
     ]
    }
   ],
   "source": [
    "linear_model = nn.Linear(28*28, 1)\n",
    "opt  = SGD(linear_model.parameters(), lr)\n",
    "train_model(linear_model, 20)"
   ]
  },
  {
   "cell_type": "markdown",
   "metadata": {
    "id": "-2-inomsAi0I"
   },
   "source": [
    "Using the same with fastAI Library"
   ]
  },
  {
   "cell_type": "code",
   "execution_count": null,
   "metadata": {
    "id": "VipNotE0xQ2n"
   },
   "outputs": [],
   "source": [
    "dls = DataLoaders(dl, valid_dl)"
   ]
  },
  {
   "cell_type": "code",
   "execution_count": null,
   "metadata": {
    "id": "vF6UO-WAAdbj"
   },
   "outputs": [],
   "source": [
    "learn = Learner(dls, nn.Linear(28*28,1), opt_func=SGD, loss_func=mnist_loss, metrics=batch_accuracy)"
   ]
  },
  {
   "cell_type": "code",
   "execution_count": null,
   "metadata": {
    "colab": {
     "base_uri": "https://localhost:8080/",
     "height": 363
    },
    "id": "jLyXpdm9AhgK",
    "outputId": "63243c25-33b0-4382-831a-493cd2d7be4e"
   },
   "outputs": [
    {
     "data": {
      "text/html": [
       "\n",
       "<style>\n",
       "    /* Turns off some styling */\n",
       "    progress {\n",
       "        /* gets rid of default border in Firefox and Opera. */\n",
       "        border: none;\n",
       "        /* Needs to be in here for Safari polyfill so background images work as expected. */\n",
       "        background-size: auto;\n",
       "    }\n",
       "    progress:not([value]), progress:not([value])::-webkit-progress-bar {\n",
       "        background: repeating-linear-gradient(45deg, #7e7e7e, #7e7e7e 10px, #5c5c5c 10px, #5c5c5c 20px);\n",
       "    }\n",
       "    .progress-bar-interrupted, .progress-bar-interrupted::-webkit-progress-bar {\n",
       "        background: #F44336;\n",
       "    }\n",
       "</style>\n"
      ],
      "text/plain": [
       "<IPython.core.display.HTML object>"
      ]
     },
     "metadata": {},
     "output_type": "display_data"
    },
    {
     "data": {
      "text/html": [
       "<table border=\"1\" class=\"dataframe\">\n",
       "  <thead>\n",
       "    <tr style=\"text-align: left;\">\n",
       "      <th>epoch</th>\n",
       "      <th>train_loss</th>\n",
       "      <th>valid_loss</th>\n",
       "      <th>batch_accuracy</th>\n",
       "      <th>time</th>\n",
       "    </tr>\n",
       "  </thead>\n",
       "  <tbody>\n",
       "    <tr>\n",
       "      <td>0</td>\n",
       "      <td>0.636856</td>\n",
       "      <td>0.503651</td>\n",
       "      <td>0.495584</td>\n",
       "      <td>00:00</td>\n",
       "    </tr>\n",
       "    <tr>\n",
       "      <td>1</td>\n",
       "      <td>0.596260</td>\n",
       "      <td>0.160362</td>\n",
       "      <td>0.876349</td>\n",
       "      <td>00:00</td>\n",
       "    </tr>\n",
       "    <tr>\n",
       "      <td>2</td>\n",
       "      <td>0.216385</td>\n",
       "      <td>0.199106</td>\n",
       "      <td>0.818449</td>\n",
       "      <td>00:00</td>\n",
       "    </tr>\n",
       "    <tr>\n",
       "      <td>3</td>\n",
       "      <td>0.093193</td>\n",
       "      <td>0.111048</td>\n",
       "      <td>0.910697</td>\n",
       "      <td>00:00</td>\n",
       "    </tr>\n",
       "    <tr>\n",
       "      <td>4</td>\n",
       "      <td>0.047861</td>\n",
       "      <td>0.079654</td>\n",
       "      <td>0.932287</td>\n",
       "      <td>00:00</td>\n",
       "    </tr>\n",
       "    <tr>\n",
       "      <td>5</td>\n",
       "      <td>0.030258</td>\n",
       "      <td>0.063328</td>\n",
       "      <td>0.946025</td>\n",
       "      <td>00:00</td>\n",
       "    </tr>\n",
       "    <tr>\n",
       "      <td>6</td>\n",
       "      <td>0.023103</td>\n",
       "      <td>0.053282</td>\n",
       "      <td>0.954858</td>\n",
       "      <td>00:00</td>\n",
       "    </tr>\n",
       "    <tr>\n",
       "      <td>7</td>\n",
       "      <td>0.019990</td>\n",
       "      <td>0.046626</td>\n",
       "      <td>0.961236</td>\n",
       "      <td>00:00</td>\n",
       "    </tr>\n",
       "    <tr>\n",
       "      <td>8</td>\n",
       "      <td>0.018458</td>\n",
       "      <td>0.041969</td>\n",
       "      <td>0.965162</td>\n",
       "      <td>00:00</td>\n",
       "    </tr>\n",
       "    <tr>\n",
       "      <td>9</td>\n",
       "      <td>0.017566</td>\n",
       "      <td>0.038557</td>\n",
       "      <td>0.967615</td>\n",
       "      <td>00:00</td>\n",
       "    </tr>\n",
       "  </tbody>\n",
       "</table>"
      ],
      "text/plain": [
       "<IPython.core.display.HTML object>"
      ]
     },
     "metadata": {},
     "output_type": "display_data"
    }
   ],
   "source": [
    "learn.fit(10, lr=lr)"
   ]
  }
 ],
 "metadata": {
  "accelerator": "GPU",
  "colab": {
   "authorship_tag": "ABX9TyPdyHQhNpLFlfzY7FULPzAt",
   "gpuType": "T4",
   "provenance": []
  },
  "kernelspec": {
   "display_name": "Python 3 (ipykernel)",
   "language": "python",
   "name": "python3"
  },
  "language_info": {
   "codemirror_mode": {
    "name": "ipython",
    "version": 3
   },
   "file_extension": ".py",
   "mimetype": "text/x-python",
   "name": "python",
   "nbconvert_exporter": "python",
   "pygments_lexer": "ipython3",
   "version": "3.10.14"
  }
 },
 "nbformat": 4,
 "nbformat_minor": 4
}
