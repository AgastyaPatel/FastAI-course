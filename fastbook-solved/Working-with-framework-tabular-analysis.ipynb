{
 "cells": [
  {
   "cell_type": "code",
   "execution_count": 1,
   "id": "8956bf79",
   "metadata": {
    "_cell_guid": "b1076dfc-b9ad-4769-8c92-a6c4dae69d19",
    "_uuid": "8f2839f25d086af736a60e9eeb907d3b93b6e0e5",
    "execution": {
     "iopub.execute_input": "2024-03-25T17:59:05.000797Z",
     "iopub.status.busy": "2024-03-25T17:59:05.000361Z",
     "iopub.status.idle": "2024-03-25T17:59:05.978116Z",
     "shell.execute_reply": "2024-03-25T17:59:05.976308Z"
    },
    "papermill": {
     "duration": 0.990402,
     "end_time": "2024-03-25T17:59:05.981310",
     "exception": false,
     "start_time": "2024-03-25T17:59:04.990908",
     "status": "completed"
    },
    "tags": []
   },
   "outputs": [
    {
     "name": "stdout",
     "output_type": "stream",
     "text": [
      "/kaggle/input/titanic/train.csv\n",
      "/kaggle/input/titanic/test.csv\n",
      "/kaggle/input/titanic/gender_submission.csv\n"
     ]
    }
   ],
   "source": [
    "# This Python 3 environment comes with many helpful analytics libraries installed\n",
    "# It is defined by the kaggle/python Docker image: https://github.com/kaggle/docker-python\n",
    "# For example, here's several helpful packages to load\n",
    "\n",
    "import numpy as np # linear algebra\n",
    "import pandas as pd # data processing, CSV file I/O (e.g. pd.read_csv)\n",
    "\n",
    "# Input data files are available in the read-only \"../input/\" directory\n",
    "# For example, running this (by clicking run or pressing Shift+Enter) will list all files under the input directory\n",
    "\n",
    "import os\n",
    "for dirname, _, filenames in os.walk('/kaggle/input'):\n",
    "    for filename in filenames:\n",
    "        print(os.path.join(dirname, filename))\n",
    "\n",
    "# You can write up to 20GB to the current directory (/kaggle/working/) that gets preserved as output when you create a version using \"Save & Run All\" \n",
    "# You can also write temporary files to /kaggle/temp/, but they won't be saved outside of the current session"
   ]
  },
  {
   "cell_type": "code",
   "execution_count": 2,
   "id": "50bb349e",
   "metadata": {
    "execution": {
     "iopub.execute_input": "2024-03-25T17:59:05.999356Z",
     "iopub.status.busy": "2024-03-25T17:59:05.997973Z",
     "iopub.status.idle": "2024-03-25T17:59:23.726949Z",
     "shell.execute_reply": "2024-03-25T17:59:23.725362Z"
    },
    "papermill": {
     "duration": 17.740737,
     "end_time": "2024-03-25T17:59:23.729824",
     "exception": false,
     "start_time": "2024-03-25T17:59:05.989087",
     "status": "completed"
    },
    "tags": []
   },
   "outputs": [],
   "source": [
    "from pathlib import Path\n",
    "import os\n",
    "\n",
    "isKaggle = os.environ.get('KAGGLE_KERNEL_RUN_TYPE', '')\n",
    "if isKaggle:\n",
    "    path = Path('../input/titanic')\n",
    "    !pip install -Uqq fastai\n",
    "else:\n",
    "    import zipfile, kaggle\n",
    "    path = Path('titanic')\n",
    "    if not path.exist():\n",
    "        kaggle.api.competition_download_cli(str(path))\n",
    "        zipfile.ZipFile(f'{path}.zip').extractall(path)"
   ]
  },
  {
   "cell_type": "code",
   "execution_count": 3,
   "id": "42d56df1",
   "metadata": {
    "execution": {
     "iopub.execute_input": "2024-03-25T17:59:23.747412Z",
     "iopub.status.busy": "2024-03-25T17:59:23.746938Z",
     "iopub.status.idle": "2024-03-25T17:59:30.645273Z",
     "shell.execute_reply": "2024-03-25T17:59:30.644091Z"
    },
    "papermill": {
     "duration": 6.910625,
     "end_time": "2024-03-25T17:59:30.648081",
     "exception": false,
     "start_time": "2024-03-25T17:59:23.737456",
     "status": "completed"
    },
    "tags": []
   },
   "outputs": [],
   "source": [
    "from fastai.tabular.all import *\n",
    "pd.options.display.float_format = '{:.2f}'.format\n",
    "set_seed(42)"
   ]
  },
  {
   "cell_type": "markdown",
   "id": "c213b03c",
   "metadata": {
    "papermill": {
     "duration": 0.007215,
     "end_time": "2024-03-25T17:59:30.663083",
     "exception": false,
     "start_time": "2024-03-25T17:59:30.655868",
     "status": "completed"
    },
    "tags": []
   },
   "source": [
    "# Data Preparation\n",
    "\n"
   ]
  },
  {
   "cell_type": "code",
   "execution_count": 4,
   "id": "81a39278",
   "metadata": {
    "execution": {
     "iopub.execute_input": "2024-03-25T17:59:30.680283Z",
     "iopub.status.busy": "2024-03-25T17:59:30.679697Z",
     "iopub.status.idle": "2024-03-25T17:59:30.698374Z",
     "shell.execute_reply": "2024-03-25T17:59:30.697191Z"
    },
    "papermill": {
     "duration": 0.030487,
     "end_time": "2024-03-25T17:59:30.701074",
     "exception": false,
     "start_time": "2024-03-25T17:59:30.670587",
     "status": "completed"
    },
    "tags": []
   },
   "outputs": [],
   "source": [
    "df = pd.read_csv(path/'train.csv')"
   ]
  },
  {
   "cell_type": "markdown",
   "id": "8277e65c",
   "metadata": {
    "papermill": {
     "duration": 0.007269,
     "end_time": "2024-03-25T17:59:30.716034",
     "exception": false,
     "start_time": "2024-03-25T17:59:30.708765",
     "status": "completed"
    },
    "tags": []
   },
   "source": [
    "When you do everything from scratch; a lot of effort is required in feature engineering (creating dummy variables, normalization, missing values and so on). Framework like fastai works all this for you."
   ]
  },
  {
   "cell_type": "code",
   "execution_count": 5,
   "id": "5f560cb1",
   "metadata": {
    "execution": {
     "iopub.execute_input": "2024-03-25T17:59:30.733381Z",
     "iopub.status.busy": "2024-03-25T17:59:30.732576Z",
     "iopub.status.idle": "2024-03-25T17:59:30.765446Z",
     "shell.execute_reply": "2024-03-25T17:59:30.764273Z"
    },
    "papermill": {
     "duration": 0.04488,
     "end_time": "2024-03-25T17:59:30.768533",
     "exception": false,
     "start_time": "2024-03-25T17:59:30.723653",
     "status": "completed"
    },
    "tags": []
   },
   "outputs": [],
   "source": [
    "def add_features(df):\n",
    "#     df = add\n",
    "    df['LogFare'] = np.log1p(df['Fare'])\n",
    "    df['Deck'] = df.Cabin.str[0].map(dict(A='ABC', B='ABC', C='ABC', D='DE', E='DE', F='FG', G='FG'))\n",
    "    df['Family'] = df.SibSp + df.Parch\n",
    "    df['Alone'] = df.Family == 0\n",
    "    df['TicketFreq'] = df.groupby('Ticket')['Ticket'].transform('count')\n",
    "    df['Title'] = df.Name.str.split(', ', expand=True)[1].str.split('.', expand=True)[0]\n",
    "    df['Title'] = df.Title.map(dict(Mr='Mr', Miss='Miss', Mrs='Mrs', Master='Master'))\n",
    "#     print(df)\n",
    "add_features(df)"
   ]
  },
  {
   "cell_type": "markdown",
   "id": "28a9c4c0",
   "metadata": {
    "papermill": {
     "duration": 0.007356,
     "end_time": "2024-03-25T17:59:30.783767",
     "exception": false,
     "start_time": "2024-03-25T17:59:30.776411",
     "status": "completed"
    },
    "tags": []
   },
   "source": [
    "Splitting into training and validation set"
   ]
  },
  {
   "cell_type": "code",
   "execution_count": 6,
   "id": "e4a85688",
   "metadata": {
    "execution": {
     "iopub.execute_input": "2024-03-25T17:59:30.800553Z",
     "iopub.status.busy": "2024-03-25T17:59:30.800140Z",
     "iopub.status.idle": "2024-03-25T17:59:30.839993Z",
     "shell.execute_reply": "2024-03-25T17:59:30.838685Z"
    },
    "papermill": {
     "duration": 0.051491,
     "end_time": "2024-03-25T17:59:30.842832",
     "exception": false,
     "start_time": "2024-03-25T17:59:30.791341",
     "status": "completed"
    },
    "tags": []
   },
   "outputs": [],
   "source": [
    "splits = RandomSplitter(seed=42)(df)"
   ]
  },
  {
   "cell_type": "code",
   "execution_count": 7,
   "id": "077c2830",
   "metadata": {
    "execution": {
     "iopub.execute_input": "2024-03-25T17:59:30.860164Z",
     "iopub.status.busy": "2024-03-25T17:59:30.859777Z",
     "iopub.status.idle": "2024-03-25T17:59:30.868428Z",
     "shell.execute_reply": "2024-03-25T17:59:30.867056Z"
    },
    "papermill": {
     "duration": 0.019817,
     "end_time": "2024-03-25T17:59:30.870722",
     "exception": false,
     "start_time": "2024-03-25T17:59:30.850905",
     "status": "completed"
    },
    "tags": []
   },
   "outputs": [
    {
     "data": {
      "text/plain": [
       "((#713) [788,525,821,253,374,98,215,313,281,305...],\n",
       " (#178) [303,778,531,385,134,476,691,443,386,128...])"
      ]
     },
     "execution_count": 7,
     "metadata": {},
     "output_type": "execute_result"
    }
   ],
   "source": [
    "splits"
   ]
  },
  {
   "cell_type": "code",
   "execution_count": 8,
   "id": "599f33b9",
   "metadata": {
    "execution": {
     "iopub.execute_input": "2024-03-25T17:59:30.890051Z",
     "iopub.status.busy": "2024-03-25T17:59:30.889247Z",
     "iopub.status.idle": "2024-03-25T17:59:30.978289Z",
     "shell.execute_reply": "2024-03-25T17:59:30.976925Z"
    },
    "papermill": {
     "duration": 0.103226,
     "end_time": "2024-03-25T17:59:30.982005",
     "exception": false,
     "start_time": "2024-03-25T17:59:30.878779",
     "status": "completed"
    },
    "tags": []
   },
   "outputs": [
    {
     "name": "stderr",
     "output_type": "stream",
     "text": [
      "/opt/conda/lib/python3.10/site-packages/fastai/tabular/core.py:312: FutureWarning: A value is trying to be set on a copy of a DataFrame or Series through chained assignment using an inplace method.\n",
      "The behavior will change in pandas 3.0. This inplace method will never work because the intermediate object on which we are setting values always behaves as a copy.\n",
      "\n",
      "For example, when doing 'df[col].method(value, inplace=True)', try using 'df.method({col: value}, inplace=True)' or df[col] = df[col].method(value) instead, to perform the operation inplace on the original object.\n",
      "\n",
      "\n",
      "  to[n].fillna(self.na_dict[n], inplace=True)\n"
     ]
    }
   ],
   "source": [
    "# Getting data ready for the training \n",
    "dls = TabularPandas(df,\n",
    "                    splits=splits,\n",
    "                    procs = [Categorify, FillMissing, Normalize],\n",
    "                    cat_names= [\"Sex\", \"Pclass\", \"Embarked\", \"Deck\", \"Title\"],\n",
    "                    cont_names = ['Age', 'SibSp', 'Parch', 'LogFare', 'Alone', 'TicketFreq', 'Family'],\n",
    "                    y_names = 'Survived',\n",
    "                    y_block = CategoryBlock(),\n",
    "                   ).dataloaders(path='')"
   ]
  },
  {
   "cell_type": "markdown",
   "id": "082823b0",
   "metadata": {
    "papermill": {
     "duration": 0.007438,
     "end_time": "2024-03-25T17:59:30.997566",
     "exception": false,
     "start_time": "2024-03-25T17:59:30.990128",
     "status": "completed"
    },
    "tags": []
   },
   "source": [
    "# Train the model\n",
    "Data + Model = Learner\n"
   ]
  },
  {
   "cell_type": "code",
   "execution_count": 9,
   "id": "23fb42af",
   "metadata": {
    "execution": {
     "iopub.execute_input": "2024-03-25T17:59:31.014935Z",
     "iopub.status.busy": "2024-03-25T17:59:31.014555Z",
     "iopub.status.idle": "2024-03-25T17:59:31.069923Z",
     "shell.execute_reply": "2024-03-25T17:59:31.068970Z"
    },
    "papermill": {
     "duration": 0.067331,
     "end_time": "2024-03-25T17:59:31.072612",
     "exception": false,
     "start_time": "2024-03-25T17:59:31.005281",
     "status": "completed"
    },
    "tags": []
   },
   "outputs": [],
   "source": [
    "learn = tabular_learner(dls, metrics=accuracy, layers=[10,10])"
   ]
  },
  {
   "cell_type": "markdown",
   "id": "6a7f2548",
   "metadata": {
    "papermill": {
     "duration": 0.007489,
     "end_time": "2024-03-25T17:59:31.088150",
     "exception": false,
     "start_time": "2024-03-25T17:59:31.080661",
     "status": "completed"
    },
    "tags": []
   },
   "source": [
    "We didn't modified the random coefficients and adjust those for the layers"
   ]
  },
  {
   "cell_type": "code",
   "execution_count": 10,
   "id": "4a951039",
   "metadata": {
    "execution": {
     "iopub.execute_input": "2024-03-25T17:59:31.105645Z",
     "iopub.status.busy": "2024-03-25T17:59:31.105260Z",
     "iopub.status.idle": "2024-03-25T17:59:33.642530Z",
     "shell.execute_reply": "2024-03-25T17:59:33.641300Z"
    },
    "papermill": {
     "duration": 2.549486,
     "end_time": "2024-03-25T17:59:33.645496",
     "exception": false,
     "start_time": "2024-03-25T17:59:31.096010",
     "status": "completed"
    },
    "tags": []
   },
   "outputs": [
    {
     "data": {
      "text/html": [
       "\n",
       "<style>\n",
       "    /* Turns off some styling */\n",
       "    progress {\n",
       "        /* gets rid of default border in Firefox and Opera. */\n",
       "        border: none;\n",
       "        /* Needs to be in here for Safari polyfill so background images work as expected. */\n",
       "        background-size: auto;\n",
       "    }\n",
       "    progress:not([value]), progress:not([value])::-webkit-progress-bar {\n",
       "        background: repeating-linear-gradient(45deg, #7e7e7e, #7e7e7e 10px, #5c5c5c 10px, #5c5c5c 20px);\n",
       "    }\n",
       "    .progress-bar-interrupted, .progress-bar-interrupted::-webkit-progress-bar {\n",
       "        background: #F44336;\n",
       "    }\n",
       "</style>\n"
      ],
      "text/plain": [
       "<IPython.core.display.HTML object>"
      ]
     },
     "metadata": {},
     "output_type": "display_data"
    },
    {
     "data": {
      "text/html": [],
      "text/plain": [
       "<IPython.core.display.HTML object>"
      ]
     },
     "metadata": {},
     "output_type": "display_data"
    },
    {
     "data": {
      "text/plain": [
       "SuggestedLRs(slide=0.05754399299621582, valley=0.013182567432522774)"
      ]
     },
     "execution_count": 10,
     "metadata": {},
     "output_type": "execute_result"
    },
    {
     "data": {
      "image/png": "[encoded data removed]",
      "text/plain": [
       "<Figure size 640x480 with 1 Axes>"
      ]
     },
     "metadata": {},
     "output_type": "display_data"
    }
   ],
   "source": [
    "learn.lr_find(suggest_funcs=(slide, valley))"
   ]
  },
  {
   "cell_type": "code",
   "execution_count": 11,
   "id": "89b38920",
   "metadata": {
    "execution": {
     "iopub.execute_input": "2024-03-25T17:59:33.665552Z",
     "iopub.status.busy": "2024-03-25T17:59:33.665103Z",
     "iopub.status.idle": "2024-03-25T17:59:36.335671Z",
     "shell.execute_reply": "2024-03-25T17:59:36.334536Z"
    },
    "papermill": {
     "duration": 2.683576,
     "end_time": "2024-03-25T17:59:36.338110",
     "exception": false,
     "start_time": "2024-03-25T17:59:33.654534",
     "status": "completed"
    },
    "tags": []
   },
   "outputs": [
    {
     "data": {
      "text/html": [
       "\n",
       "<style>\n",
       "    /* Turns off some styling */\n",
       "    progress {\n",
       "        /* gets rid of default border in Firefox and Opera. */\n",
       "        border: none;\n",
       "        /* Needs to be in here for Safari polyfill so background images work as expected. */\n",
       "        background-size: auto;\n",
       "    }\n",
       "    progress:not([value]), progress:not([value])::-webkit-progress-bar {\n",
       "        background: repeating-linear-gradient(45deg, #7e7e7e, #7e7e7e 10px, #5c5c5c 10px, #5c5c5c 20px);\n",
       "    }\n",
       "    .progress-bar-interrupted, .progress-bar-interrupted::-webkit-progress-bar {\n",
       "        background: #F44336;\n",
       "    }\n",
       "</style>\n"
      ],
      "text/plain": [
       "<IPython.core.display.HTML object>"
      ]
     },
     "metadata": {},
     "output_type": "display_data"
    },
    {
     "data": {
      "text/html": [
       "<table border=\"1\" class=\"dataframe\">\n",
       "  <thead>\n",
       "    <tr style=\"text-align: left;\">\n",
       "      <th>epoch</th>\n",
       "      <th>train_loss</th>\n",
       "      <th>valid_loss</th>\n",
       "      <th>accuracy</th>\n",
       "      <th>time</th>\n",
       "    </tr>\n",
       "  </thead>\n",
       "  <tbody>\n",
       "    <tr>\n",
       "      <td>0</td>\n",
       "      <td>0.577146</td>\n",
       "      <td>0.582949</td>\n",
       "      <td>0.606742</td>\n",
       "      <td>00:00</td>\n",
       "    </tr>\n",
       "    <tr>\n",
       "      <td>1</td>\n",
       "      <td>0.510818</td>\n",
       "      <td>0.498523</td>\n",
       "      <td>0.786517</td>\n",
       "      <td>00:00</td>\n",
       "    </tr>\n",
       "    <tr>\n",
       "      <td>2</td>\n",
       "      <td>0.467023</td>\n",
       "      <td>0.459841</td>\n",
       "      <td>0.797753</td>\n",
       "      <td>00:00</td>\n",
       "    </tr>\n",
       "    <tr>\n",
       "      <td>3</td>\n",
       "      <td>0.439957</td>\n",
       "      <td>0.468547</td>\n",
       "      <td>0.797753</td>\n",
       "      <td>00:00</td>\n",
       "    </tr>\n",
       "    <tr>\n",
       "      <td>4</td>\n",
       "      <td>0.427232</td>\n",
       "      <td>0.415261</td>\n",
       "      <td>0.825843</td>\n",
       "      <td>00:00</td>\n",
       "    </tr>\n",
       "    <tr>\n",
       "      <td>5</td>\n",
       "      <td>0.416340</td>\n",
       "      <td>0.437362</td>\n",
       "      <td>0.820225</td>\n",
       "      <td>00:00</td>\n",
       "    </tr>\n",
       "    <tr>\n",
       "      <td>6</td>\n",
       "      <td>0.408347</td>\n",
       "      <td>0.413253</td>\n",
       "      <td>0.848315</td>\n",
       "      <td>00:00</td>\n",
       "    </tr>\n",
       "    <tr>\n",
       "      <td>7</td>\n",
       "      <td>0.400442</td>\n",
       "      <td>0.406075</td>\n",
       "      <td>0.803371</td>\n",
       "      <td>00:00</td>\n",
       "    </tr>\n",
       "    <tr>\n",
       "      <td>8</td>\n",
       "      <td>0.397265</td>\n",
       "      <td>0.443730</td>\n",
       "      <td>0.820225</td>\n",
       "      <td>00:00</td>\n",
       "    </tr>\n",
       "    <tr>\n",
       "      <td>9</td>\n",
       "      <td>0.392389</td>\n",
       "      <td>0.432267</td>\n",
       "      <td>0.831461</td>\n",
       "      <td>00:00</td>\n",
       "    </tr>\n",
       "    <tr>\n",
       "      <td>10</td>\n",
       "      <td>0.389983</td>\n",
       "      <td>0.415383</td>\n",
       "      <td>0.831461</td>\n",
       "      <td>00:00</td>\n",
       "    </tr>\n",
       "    <tr>\n",
       "      <td>11</td>\n",
       "      <td>0.386057</td>\n",
       "      <td>0.425319</td>\n",
       "      <td>0.820225</td>\n",
       "      <td>00:00</td>\n",
       "    </tr>\n",
       "    <tr>\n",
       "      <td>12</td>\n",
       "      <td>0.382527</td>\n",
       "      <td>0.435054</td>\n",
       "      <td>0.831461</td>\n",
       "      <td>00:00</td>\n",
       "    </tr>\n",
       "    <tr>\n",
       "      <td>13</td>\n",
       "      <td>0.378309</td>\n",
       "      <td>0.429746</td>\n",
       "      <td>0.831461</td>\n",
       "      <td>00:00</td>\n",
       "    </tr>\n",
       "    <tr>\n",
       "      <td>14</td>\n",
       "      <td>0.374304</td>\n",
       "      <td>0.419489</td>\n",
       "      <td>0.825843</td>\n",
       "      <td>00:00</td>\n",
       "    </tr>\n",
       "    <tr>\n",
       "      <td>15</td>\n",
       "      <td>0.372190</td>\n",
       "      <td>0.425431</td>\n",
       "      <td>0.831461</td>\n",
       "      <td>00:00</td>\n",
       "    </tr>\n",
       "  </tbody>\n",
       "</table>"
      ],
      "text/plain": [
       "<IPython.core.display.HTML object>"
      ]
     },
     "metadata": {},
     "output_type": "display_data"
    }
   ],
   "source": [
    "learn.fit(16, lr=0.03)"
   ]
  },
  {
   "cell_type": "markdown",
   "id": "34873f9f",
   "metadata": {
    "papermill": {
     "duration": 0.009305,
     "end_time": "2024-03-25T17:59:36.359508",
     "exception": false,
     "start_time": "2024-03-25T17:59:36.350203",
     "status": "completed"
    },
    "tags": []
   },
   "source": [
    "# Submitting to kaggle\n"
   ]
  },
  {
   "cell_type": "code",
   "execution_count": 12,
   "id": "3d5a84ef",
   "metadata": {
    "execution": {
     "iopub.execute_input": "2024-03-25T17:59:36.380412Z",
     "iopub.status.busy": "2024-03-25T17:59:36.379955Z",
     "iopub.status.idle": "2024-03-25T17:59:36.402665Z",
     "shell.execute_reply": "2024-03-25T17:59:36.401320Z"
    },
    "papermill": {
     "duration": 0.036573,
     "end_time": "2024-03-25T17:59:36.405599",
     "exception": false,
     "start_time": "2024-03-25T17:59:36.369026",
     "status": "completed"
    },
    "tags": []
   },
   "outputs": [],
   "source": [
    "test_df = pd.read_csv(path/'test.csv')\n",
    "test_df['Fare'] = test_df.Fare.fillna(0)\n",
    "add_features(test_df)"
   ]
  },
  {
   "cell_type": "code",
   "execution_count": 13,
   "id": "74f8fde6",
   "metadata": {
    "execution": {
     "iopub.execute_input": "2024-03-25T17:59:36.426234Z",
     "iopub.status.busy": "2024-03-25T17:59:36.425794Z",
     "iopub.status.idle": "2024-03-25T17:59:36.450273Z",
     "shell.execute_reply": "2024-03-25T17:59:36.449021Z"
    },
    "papermill": {
     "duration": 0.037714,
     "end_time": "2024-03-25T17:59:36.452854",
     "exception": false,
     "start_time": "2024-03-25T17:59:36.415140",
     "status": "completed"
    },
    "tags": []
   },
   "outputs": [
    {
     "name": "stderr",
     "output_type": "stream",
     "text": [
      "/opt/conda/lib/python3.10/site-packages/fastai/tabular/core.py:312: FutureWarning: A value is trying to be set on a copy of a DataFrame or Series through chained assignment using an inplace method.\n",
      "The behavior will change in pandas 3.0. This inplace method will never work because the intermediate object on which we are setting values always behaves as a copy.\n",
      "\n",
      "For example, when doing 'df[col].method(value, inplace=True)', try using 'df.method({col: value}, inplace=True)' or df[col] = df[col].method(value) instead, to perform the operation inplace on the original object.\n",
      "\n",
      "\n",
      "  to[n].fillna(self.na_dict[n], inplace=True)\n"
     ]
    }
   ],
   "source": [
    "test_dl = learn.dls.test_dl(test_df)"
   ]
  },
  {
   "cell_type": "code",
   "execution_count": 14,
   "id": "da0c89db",
   "metadata": {
    "execution": {
     "iopub.execute_input": "2024-03-25T17:59:36.473647Z",
     "iopub.status.busy": "2024-03-25T17:59:36.473240Z",
     "iopub.status.idle": "2024-03-25T17:59:36.575119Z",
     "shell.execute_reply": "2024-03-25T17:59:36.573956Z"
    },
    "papermill": {
     "duration": 0.114927,
     "end_time": "2024-03-25T17:59:36.577366",
     "exception": false,
     "start_time": "2024-03-25T17:59:36.462439",
     "status": "completed"
    },
    "tags": []
   },
   "outputs": [
    {
     "data": {
      "text/html": [
       "\n",
       "<style>\n",
       "    /* Turns off some styling */\n",
       "    progress {\n",
       "        /* gets rid of default border in Firefox and Opera. */\n",
       "        border: none;\n",
       "        /* Needs to be in here for Safari polyfill so background images work as expected. */\n",
       "        background-size: auto;\n",
       "    }\n",
       "    progress:not([value]), progress:not([value])::-webkit-progress-bar {\n",
       "        background: repeating-linear-gradient(45deg, #7e7e7e, #7e7e7e 10px, #5c5c5c 10px, #5c5c5c 20px);\n",
       "    }\n",
       "    .progress-bar-interrupted, .progress-bar-interrupted::-webkit-progress-bar {\n",
       "        background: #F44336;\n",
       "    }\n",
       "</style>\n"
      ],
      "text/plain": [
       "<IPython.core.display.HTML object>"
      ]
     },
     "metadata": {},
     "output_type": "display_data"
    },
    {
     "data": {
      "text/html": [],
      "text/plain": [
       "<IPython.core.display.HTML object>"
      ]
     },
     "metadata": {},
     "output_type": "display_data"
    },
    {
     "data": {
      "text/plain": [
       "(tensor([[0.8755, 0.1245],\n",
       "         [0.8073, 0.1927],\n",
       "         [0.9635, 0.0365],\n",
       "         [0.9113, 0.0887],\n",
       "         [0.3139, 0.6861]]),\n",
       " None)"
      ]
     },
     "execution_count": 14,
     "metadata": {},
     "output_type": "execute_result"
    }
   ],
   "source": [
    "preds,_ = learn.get_preds(dl=test_dl)\n",
    "preds[:5], _"
   ]
  },
  {
   "cell_type": "code",
   "execution_count": 15,
   "id": "fd0b7804",
   "metadata": {
    "execution": {
     "iopub.execute_input": "2024-03-25T17:59:36.599699Z",
     "iopub.status.busy": "2024-03-25T17:59:36.598461Z",
     "iopub.status.idle": "2024-03-25T17:59:36.609754Z",
     "shell.execute_reply": "2024-03-25T17:59:36.608665Z"
    },
    "papermill": {
     "duration": 0.025372,
     "end_time": "2024-03-25T17:59:36.612653",
     "exception": false,
     "start_time": "2024-03-25T17:59:36.587281",
     "status": "completed"
    },
    "tags": []
   },
   "outputs": [],
   "source": [
    "test_df['Survived'] = (preds[:,1]>0.5).int()\n",
    "sub_df = test_df[['PassengerId','Survived']]\n",
    "sub_df.to_csv('sub.csv', index=False)"
   ]
  },
  {
   "cell_type": "code",
   "execution_count": 16,
   "id": "a25190c1",
   "metadata": {
    "execution": {
     "iopub.execute_input": "2024-03-25T17:59:36.635969Z",
     "iopub.status.busy": "2024-03-25T17:59:36.634815Z",
     "iopub.status.idle": "2024-03-25T17:59:37.732917Z",
     "shell.execute_reply": "2024-03-25T17:59:37.731595Z"
    },
    "papermill": {
     "duration": 1.112672,
     "end_time": "2024-03-25T17:59:37.735804",
     "exception": false,
     "start_time": "2024-03-25T17:59:36.623132",
     "status": "completed"
    },
    "tags": []
   },
   "outputs": [
    {
     "name": "stdout",
     "output_type": "stream",
     "text": [
      "PassengerId,Survived\r\n",
      "892,0\r\n",
      "893,0\r\n",
      "894,0\r\n",
      "895,0\r\n",
      "896,1\r\n",
      "897,0\r\n",
      "898,1\r\n",
      "899,0\r\n",
      "900,1\r\n"
     ]
    }
   ],
   "source": [
    "!head sub.csv"
   ]
  },
  {
   "cell_type": "code",
   "execution_count": null,
   "id": "5a54c92d",
   "metadata": {
    "papermill": {
     "duration": 0.009749,
     "end_time": "2024-03-25T17:59:37.755884",
     "exception": false,
     "start_time": "2024-03-25T17:59:37.746135",
     "status": "completed"
    },
    "tags": []
   },
   "outputs": [],
   "source": []
  }
 ],
 "metadata": {
  "kaggle": {
   "accelerator": "none",
   "dataSources": [
    {
     "databundleVersionId": 26502,
     "sourceId": 3136,
     "sourceType": "competition"
    }
   ],
   "dockerImageVersionId": 30673,
   "isGpuEnabled": false,
   "isInternetEnabled": true,
   "language": "python",
   "sourceType": "notebook"
  },
  "kernelspec": {
   "display_name": "Python 3",
   "language": "python",
   "name": "python3"
  },
  "language_info": {
   "codemirror_mode": {
    "name": "ipython",
    "version": 3
   },
   "file_extension": ".py",
   "mimetype": "text/x-python",
   "name": "python",
   "nbconvert_exporter": "python",
   "pygments_lexer": "ipython3",
   "version": "3.10.13"
  },
  "papermill": {
   "default_parameters": {},
   "duration": 38.550311,
   "end_time": "2024-03-25T17:59:39.994821",
   "environment_variables": {},
   "exception": null,
   "input_path": "__notebook__.ipynb",
   "output_path": "__notebook__.ipynb",
   "parameters": {},
   "start_time": "2024-03-25T17:59:01.444510",
   "version": "2.5.0"
  }
 },
 "nbformat": 4,
 "nbformat_minor": 5
}
