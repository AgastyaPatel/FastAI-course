{
 "cells": [
  {
   "cell_type": "code",
   "execution_count": 1,
   "id": "f625a63a-5917-4f85-a0dc-8fa0a0585b2e",
   "metadata": {},
   "outputs": [
    {
     "name": "stdout",
     "output_type": "stream",
     "text": [
      "Requirement already satisfied: kaggle in /home/agastya/mambaforge/lib/python3.10/site-packages (1.6.11)\n",
      "Requirement already satisfied: six>=1.10 in /home/agastya/mambaforge/lib/python3.10/site-packages (from kaggle) (1.16.0)\n",
      "Requirement already satisfied: certifi>=2023.7.22 in /home/agastya/mambaforge/lib/python3.10/site-packages (from kaggle) (2024.2.2)\n",
      "Requirement already satisfied: python-dateutil in /home/agastya/mambaforge/lib/python3.10/site-packages (from kaggle) (2.9.0)\n",
      "Requirement already satisfied: requests in /home/agastya/mambaforge/lib/python3.10/site-packages (from kaggle) (2.31.0)\n",
      "Requirement already satisfied: tqdm in /home/agastya/mambaforge/lib/python3.10/site-packages (from kaggle) (4.66.2)\n",
      "Requirement already satisfied: python-slugify in /home/agastya/mambaforge/lib/python3.10/site-packages (from kaggle) (8.0.4)\n",
      "Requirement already satisfied: urllib3 in /home/agastya/mambaforge/lib/python3.10/site-packages (from kaggle) (2.2.1)\n",
      "Requirement already satisfied: bleach in /home/agastya/mambaforge/lib/python3.10/site-packages (from kaggle) (6.1.0)\n",
      "Requirement already satisfied: webencodings in /home/agastya/mambaforge/lib/python3.10/site-packages (from bleach->kaggle) (0.5.1)\n",
      "Requirement already satisfied: text-unidecode>=1.3 in /home/agastya/mambaforge/lib/python3.10/site-packages (from python-slugify->kaggle) (1.3)\n",
      "Requirement already satisfied: charset-normalizer<4,>=2 in /home/agastya/mambaforge/lib/python3.10/site-packages (from requests->kaggle) (3.3.2)\n",
      "Requirement already satisfied: idna<4,>=2.5 in /home/agastya/mambaforge/lib/python3.10/site-packages (from requests->kaggle) (3.6)\n"
     ]
    }
   ],
   "source": [
    "!pip install kaggle"
   ]
  },
  {
   "cell_type": "code",
   "execution_count": 2,
   "id": "415e33f9-e925-4b35-bd16-aa4d6bf39506",
   "metadata": {},
   "outputs": [],
   "source": [
    "#hide\n",
    "from fastbook import *\n",
    "from pandas.api.types import is_string_dtype, is_numeric_dtype, is_categorical_dtype\n",
    "from fastai.tabular.all import *\n",
    "from sklearn.ensemble import RandomForestRegressor\n",
    "from sklearn.tree import DecisionTreeRegressor\n",
    "from dtreeviz.trees import *\n",
    "from IPython.display import Image, display_svg, SVG\n",
    "\n",
    "pd.options.display.max_rows = 20\n",
    "pd.options.display.max_columns = 8"
   ]
  },
  {
   "cell_type": "code",
   "execution_count": 3,
   "id": "d2c4c66b-c046-4067-800c-6d5df7721ca1",
   "metadata": {},
   "outputs": [
    {
     "data": {
      "text/plain": [
       "Path('/home/agastya/.fastai/archive/bluebook')"
      ]
     },
     "execution_count": 3,
     "metadata": {},
     "output_type": "execute_result"
    }
   ],
   "source": [
    "path = URLs.path('bluebook')\n",
    "path"
   ]
  },
  {
   "cell_type": "code",
   "execution_count": 4,
   "id": "e9578505-9f16-4fa6-b287-a8fbd4cc1787",
   "metadata": {},
   "outputs": [],
   "source": [
    "from pathlib import Path\n",
    "import os\n",
    "\n",
    "isKaggle = os.getenv('KAGGLE_KERNEL_RUN_TYPE', '')\n",
    "if isKaggle:\n",
    "    path = Path('../input/bluebook')\n",
    "    !pip install -Uqq fastai\n",
    "else:\n",
    "    import zipfile, kaggle\n",
    "    if not path.exists():\n",
    "        kaggle.api.competition_download_cli('bluebook-for-bulldozers')\n",
    "        zipfile.ZipFile('bluebook-for-bulldozers.zip').extractall(path)"
   ]
  },
  {
   "cell_type": "code",
   "execution_count": 5,
   "id": "52925565-364c-4faf-8f72-7e5f9e78699e",
   "metadata": {},
   "outputs": [
    {
     "data": {
      "text/plain": [
       "(#7) [Path('/home/agastya/.fastai/archive/bluebook/median_benchmark.csv'),Path('/home/agastya/.fastai/archive/bluebook/ValidSolution.csv'),Path('/home/agastya/.fastai/archive/bluebook/Test.csv'),Path('/home/agastya/.fastai/archive/bluebook/random_forest_benchmark_test.csv'),Path('/home/agastya/.fastai/archive/bluebook/TrainAndValid.csv'),Path('/home/agastya/.fastai/archive/bluebook/Valid.csv'),Path('/home/agastya/.fastai/archive/bluebook/Machine_Appendix.csv')]"
      ]
     },
     "execution_count": 5,
     "metadata": {},
     "output_type": "execute_result"
    }
   ],
   "source": [
    "path.ls(file_type='text')"
   ]
  },
  {
   "cell_type": "code",
   "execution_count": 6,
   "id": "b9427221-4af3-409e-8b3e-f30ea0e2b407",
   "metadata": {},
   "outputs": [
    {
     "data": {
      "text/html": [
       "<div>\n",
       "<style scoped>\n",
       "    .dataframe tbody tr th:only-of-type {\n",
       "        vertical-align: middle;\n",
       "    }\n",
       "\n",
       "    .dataframe tbody tr th {\n",
       "        vertical-align: top;\n",
       "    }\n",
       "\n",
       "    .dataframe thead th {\n",
       "        text-align: right;\n",
       "    }\n",
       "</style>\n",
       "<table border=\"1\" class=\"dataframe\">\n",
       "  <thead>\n",
       "    <tr style=\"text-align: right;\">\n",
       "      <th></th>\n",
       "      <th>SalesID</th>\n",
       "      <th>SalePrice</th>\n",
       "      <th>MachineID</th>\n",
       "      <th>ModelID</th>\n",
       "      <th>...</th>\n",
       "      <th>Blade_Type</th>\n",
       "      <th>Travel_Controls</th>\n",
       "      <th>Differential_Type</th>\n",
       "      <th>Steering_Controls</th>\n",
       "    </tr>\n",
       "  </thead>\n",
       "  <tbody>\n",
       "    <tr>\n",
       "      <th>0</th>\n",
       "      <td>1139246</td>\n",
       "      <td>66000.0</td>\n",
       "      <td>999089</td>\n",
       "      <td>3157</td>\n",
       "      <td>...</td>\n",
       "      <td>NaN</td>\n",
       "      <td>NaN</td>\n",
       "      <td>Standard</td>\n",
       "      <td>Conventional</td>\n",
       "    </tr>\n",
       "    <tr>\n",
       "      <th>1</th>\n",
       "      <td>1139248</td>\n",
       "      <td>57000.0</td>\n",
       "      <td>117657</td>\n",
       "      <td>77</td>\n",
       "      <td>...</td>\n",
       "      <td>NaN</td>\n",
       "      <td>NaN</td>\n",
       "      <td>Standard</td>\n",
       "      <td>Conventional</td>\n",
       "    </tr>\n",
       "    <tr>\n",
       "      <th>2</th>\n",
       "      <td>1139249</td>\n",
       "      <td>10000.0</td>\n",
       "      <td>434808</td>\n",
       "      <td>7009</td>\n",
       "      <td>...</td>\n",
       "      <td>NaN</td>\n",
       "      <td>NaN</td>\n",
       "      <td>NaN</td>\n",
       "      <td>NaN</td>\n",
       "    </tr>\n",
       "    <tr>\n",
       "      <th>3</th>\n",
       "      <td>1139251</td>\n",
       "      <td>38500.0</td>\n",
       "      <td>1026470</td>\n",
       "      <td>332</td>\n",
       "      <td>...</td>\n",
       "      <td>NaN</td>\n",
       "      <td>NaN</td>\n",
       "      <td>NaN</td>\n",
       "      <td>NaN</td>\n",
       "    </tr>\n",
       "    <tr>\n",
       "      <th>4</th>\n",
       "      <td>1139253</td>\n",
       "      <td>11000.0</td>\n",
       "      <td>1057373</td>\n",
       "      <td>17311</td>\n",
       "      <td>...</td>\n",
       "      <td>NaN</td>\n",
       "      <td>NaN</td>\n",
       "      <td>NaN</td>\n",
       "      <td>NaN</td>\n",
       "    </tr>\n",
       "    <tr>\n",
       "      <th>...</th>\n",
       "      <td>...</td>\n",
       "      <td>...</td>\n",
       "      <td>...</td>\n",
       "      <td>...</td>\n",
       "      <td>...</td>\n",
       "      <td>...</td>\n",
       "      <td>...</td>\n",
       "      <td>...</td>\n",
       "      <td>...</td>\n",
       "    </tr>\n",
       "    <tr>\n",
       "      <th>412693</th>\n",
       "      <td>6333344</td>\n",
       "      <td>10000.0</td>\n",
       "      <td>1919201</td>\n",
       "      <td>21435</td>\n",
       "      <td>...</td>\n",
       "      <td>NaN</td>\n",
       "      <td>NaN</td>\n",
       "      <td>NaN</td>\n",
       "      <td>NaN</td>\n",
       "    </tr>\n",
       "    <tr>\n",
       "      <th>412694</th>\n",
       "      <td>6333345</td>\n",
       "      <td>10500.0</td>\n",
       "      <td>1882122</td>\n",
       "      <td>21436</td>\n",
       "      <td>...</td>\n",
       "      <td>NaN</td>\n",
       "      <td>NaN</td>\n",
       "      <td>NaN</td>\n",
       "      <td>NaN</td>\n",
       "    </tr>\n",
       "    <tr>\n",
       "      <th>412695</th>\n",
       "      <td>6333347</td>\n",
       "      <td>12500.0</td>\n",
       "      <td>1944213</td>\n",
       "      <td>21435</td>\n",
       "      <td>...</td>\n",
       "      <td>NaN</td>\n",
       "      <td>NaN</td>\n",
       "      <td>NaN</td>\n",
       "      <td>NaN</td>\n",
       "    </tr>\n",
       "    <tr>\n",
       "      <th>412696</th>\n",
       "      <td>6333348</td>\n",
       "      <td>10000.0</td>\n",
       "      <td>1794518</td>\n",
       "      <td>21435</td>\n",
       "      <td>...</td>\n",
       "      <td>NaN</td>\n",
       "      <td>NaN</td>\n",
       "      <td>NaN</td>\n",
       "      <td>NaN</td>\n",
       "    </tr>\n",
       "    <tr>\n",
       "      <th>412697</th>\n",
       "      <td>6333349</td>\n",
       "      <td>13000.0</td>\n",
       "      <td>1944743</td>\n",
       "      <td>21436</td>\n",
       "      <td>...</td>\n",
       "      <td>NaN</td>\n",
       "      <td>NaN</td>\n",
       "      <td>NaN</td>\n",
       "      <td>NaN</td>\n",
       "    </tr>\n",
       "  </tbody>\n",
       "</table>\n",
       "<p>412698 rows × 53 columns</p>\n",
       "</div>"
      ],
      "text/plain": [
       "        SalesID  SalePrice  MachineID  ModelID  ...  Blade_Type  \\\n",
       "0       1139246    66000.0     999089     3157  ...         NaN   \n",
       "1       1139248    57000.0     117657       77  ...         NaN   \n",
       "2       1139249    10000.0     434808     7009  ...         NaN   \n",
       "3       1139251    38500.0    1026470      332  ...         NaN   \n",
       "4       1139253    11000.0    1057373    17311  ...         NaN   \n",
       "...         ...        ...        ...      ...  ...         ...   \n",
       "412693  6333344    10000.0    1919201    21435  ...         NaN   \n",
       "412694  6333345    10500.0    1882122    21436  ...         NaN   \n",
       "412695  6333347    12500.0    1944213    21435  ...         NaN   \n",
       "412696  6333348    10000.0    1794518    21435  ...         NaN   \n",
       "412697  6333349    13000.0    1944743    21436  ...         NaN   \n",
       "\n",
       "        Travel_Controls  Differential_Type  Steering_Controls  \n",
       "0                   NaN           Standard       Conventional  \n",
       "1                   NaN           Standard       Conventional  \n",
       "2                   NaN                NaN                NaN  \n",
       "3                   NaN                NaN                NaN  \n",
       "4                   NaN                NaN                NaN  \n",
       "...                 ...                ...                ...  \n",
       "412693              NaN                NaN                NaN  \n",
       "412694              NaN                NaN                NaN  \n",
       "412695              NaN                NaN                NaN  \n",
       "412696              NaN                NaN                NaN  \n",
       "412697              NaN                NaN                NaN  \n",
       "\n",
       "[412698 rows x 53 columns]"
      ]
     },
     "execution_count": 6,
     "metadata": {},
     "output_type": "execute_result"
    }
   ],
   "source": [
    "df = pd.read_csv(path/'TrainAndValid.csv', low_memory=False)\n",
    "df"
   ]
  },
  {
   "cell_type": "code",
   "execution_count": 7,
   "id": "b8592701-a925-4b36-8bc8-5fb6b278f21f",
   "metadata": {},
   "outputs": [
    {
     "data": {
      "text/plain": [
       "Index(['SalesID', 'SalePrice', 'MachineID', 'ModelID', 'datasource',\n",
       "       'auctioneerID', 'YearMade', 'MachineHoursCurrentMeter', 'UsageBand',\n",
       "       'saledate', 'fiModelDesc', 'fiBaseModel', 'fiSecondaryDesc',\n",
       "       'fiModelSeries', 'fiModelDescriptor', 'ProductSize',\n",
       "       'fiProductClassDesc', 'state', 'ProductGroup', 'ProductGroupDesc',\n",
       "       'Drive_System', 'Enclosure', 'Forks', 'Pad_Type', 'Ride_Control',\n",
       "       'Stick', 'Transmission', 'Turbocharged', 'Blade_Extension',\n",
       "       'Blade_Width', 'Enclosure_Type', 'Engine_Horsepower', 'Hydraulics',\n",
       "       'Pushblock', 'Ripper', 'Scarifier', 'Tip_Control', 'Tire_Size',\n",
       "       'Coupler', 'Coupler_System', 'Grouser_Tracks', 'Hydraulics_Flow',\n",
       "       'Track_Type', 'Undercarriage_Pad_Width', 'Stick_Length', 'Thumb',\n",
       "       'Pattern_Changer', 'Grouser_Type', 'Backhoe_Mounting', 'Blade_Type',\n",
       "       'Travel_Controls', 'Differential_Type', 'Steering_Controls'],\n",
       "      dtype='object')"
      ]
     },
     "execution_count": 7,
     "metadata": {},
     "output_type": "execute_result"
    }
   ],
   "source": [
    "df.columns"
   ]
  },
  {
   "cell_type": "markdown",
   "id": "b2b60c45-e25d-421b-bee0-1d3dd6380897",
   "metadata": {},
   "source": [
    "## Working out the ordinal Columns\n",
    "Column with strings"
   ]
  },
  {
   "cell_type": "code",
   "execution_count": 8,
   "id": "abcefb30-7cfb-4213-b13f-374351a5902c",
   "metadata": {},
   "outputs": [
    {
     "data": {
      "text/plain": [
       "array([nan, 'Medium', 'Small', 'Large / Medium', 'Mini', 'Large', 'Compact'], dtype=object)"
      ]
     },
     "execution_count": 8,
     "metadata": {},
     "output_type": "execute_result"
    }
   ],
   "source": [
    "df['ProductSize'].unique()"
   ]
  },
  {
   "cell_type": "code",
   "execution_count": 9,
   "id": "92743fe3-a003-412d-b3c3-a70f4d2e4f9a",
   "metadata": {},
   "outputs": [],
   "source": [
    "sizes = 'Large', 'Large / Medium', 'Medium', 'Small', 'Mini', 'Compact'\n",
    "df['ProductSize'] = df['ProductSize'].astype('category')\n",
    "df['ProductSize'] = df['ProductSize'].cat.set_categories(sizes, ordered=True)"
   ]
  },
  {
   "cell_type": "code",
   "execution_count": 10,
   "id": "2be7ac5b-90a3-49ea-bb7a-3c1baf9e1efe",
   "metadata": {},
   "outputs": [],
   "source": [
    "dep_var = 'SalePrice'\n",
    "df[dep_var] = np.log(df[dep_var])"
   ]
  },
  {
   "cell_type": "code",
   "execution_count": 11,
   "id": "ebbd5be2-eb6f-4073-9887-68cf9baafc35",
   "metadata": {},
   "outputs": [
    {
     "data": {
      "text/plain": [
       "0         11/16/2006 0:00\n",
       "1          3/26/2004 0:00\n",
       "2          2/26/2004 0:00\n",
       "3          5/19/2011 0:00\n",
       "4          7/23/2009 0:00\n",
       "               ...       \n",
       "412693      3/7/2012 0:00\n",
       "412694     1/28/2012 0:00\n",
       "412695     1/28/2012 0:00\n",
       "412696      3/7/2012 0:00\n",
       "412697     1/28/2012 0:00\n",
       "Name: saledate, Length: 412698, dtype: object"
      ]
     },
     "execution_count": 11,
     "metadata": {},
     "output_type": "execute_result"
    }
   ],
   "source": [
    "df['saledate']"
   ]
  },
  {
   "cell_type": "code",
   "execution_count": 12,
   "id": "6081d4bb-77fa-4004-a8da-108d90106d2c",
   "metadata": {},
   "outputs": [
    {
     "name": "stderr",
     "output_type": "stream",
     "text": [
      "/home/agastya/mambaforge/lib/python3.10/site-packages/fastai/tabular/core.py:23: UserWarning: The argument 'infer_datetime_format' is deprecated and will be removed in a future version. A strict version of it is now the default, see https://pandas.pydata.org/pdeps/0004-consistent-to-datetime-parsing.html. You can safely remove this argument.\n"
     ]
    }
   ],
   "source": [
    "# adding date metadata using date columns\n",
    "df = add_datepart(df, 'saledate')"
   ]
  },
  {
   "cell_type": "code",
   "execution_count": 13,
   "id": "e07ded78-bc2f-48b2-94f0-7758a02f7c5a",
   "metadata": {},
   "outputs": [
    {
     "name": "stderr",
     "output_type": "stream",
     "text": [
      "/home/agastya/mambaforge/lib/python3.10/site-packages/fastai/tabular/core.py:23: UserWarning: The argument 'infer_datetime_format' is deprecated and will be removed in a future version. A strict version of it is now the default, see https://pandas.pydata.org/pdeps/0004-consistent-to-datetime-parsing.html. You can safely remove this argument.\n"
     ]
    }
   ],
   "source": [
    "df_test = pd.read_csv(path/'Test.csv', low_memory=False)\n",
    "df_test = add_datepart(df_test, 'saledate')"
   ]
  },
  {
   "cell_type": "code",
   "execution_count": 14,
   "id": "4b1d5b93-05ed-4bd5-80c7-41565396c8b0",
   "metadata": {},
   "outputs": [
    {
     "data": {
      "text/plain": [
       "'saleYear saleMonth saleWeek saleDay saleDayofweek saleDayofyear saleIs_month_end saleIs_month_start saleIs_quarter_end saleIs_quarter_start saleIs_year_end saleIs_year_start saleElapsed'"
      ]
     },
     "execution_count": 14,
     "metadata": {},
     "output_type": "execute_result"
    }
   ],
   "source": [
    "' '.join(o for o in df.columns if o.startswith('sale'))"
   ]
  },
  {
   "cell_type": "markdown",
   "id": "5fd89208-a337-4a7f-996b-8fad3a76bc22",
   "metadata": {},
   "source": [
    "## Using TabularPandas and TabularProc\n",
    "- FastAI wrapper which helps you preprocess your data by adding `categorify` which converts ordinal data into numerical categorical column\n",
    "- Also provides `FillMissing` feature which fills the missing feature with median of the feature and adds a column with boolean values for where items where missing."
   ]
  },
  {
   "cell_type": "code",
   "execution_count": 15,
   "id": "1d6f1be6-8105-4d14-a1ce-3f15a0c4d88d",
   "metadata": {},
   "outputs": [],
   "source": [
    "procs = [Categorify, FillMissing]"
   ]
  },
  {
   "cell_type": "code",
   "execution_count": 16,
   "id": "701ca840-79ac-4c4d-be22-f210a1c9b914",
   "metadata": {},
   "outputs": [
    {
     "data": {
      "text/plain": [
       "(array([     0,      1,      2, ..., 412695, 412696, 412697]),\n",
       " array([ 22915,  22916,  22917, ..., 401122, 401123, 401124]))"
      ]
     },
     "execution_count": 16,
     "metadata": {},
     "output_type": "execute_result"
    }
   ],
   "source": [
    "# Setting validation set split condition\n",
    "cond = (df.saleYear<2011) | (df.saleMonth<10)\n",
    "train_idx = np.where(cond)[0]\n",
    "valid_idx = np.where(~cond)[0]\n",
    "train_idx, valid_idx"
   ]
  },
  {
   "cell_type": "code",
   "execution_count": 17,
   "id": "684f0f9f-d50a-47aa-99cb-793d62ade56f",
   "metadata": {},
   "outputs": [],
   "source": [
    "splits = (list(train_idx), list(valid_idx))"
   ]
  },
  {
   "cell_type": "code",
   "execution_count": 18,
   "id": "cbb34672-cc34-446c-816a-042e288b67a9",
   "metadata": {},
   "outputs": [],
   "source": [
    "cont, cat = cont_cat_split(df, 1, dep_var=dep_var)\n",
    "to = TabularPandas(df, procs, cat, cont, y_names=dep_var, splits = splits)"
   ]
  },
  {
   "cell_type": "code",
   "execution_count": 19,
   "id": "ecda54e8-14e6-4271-8a70-c82fb8d7beb2",
   "metadata": {},
   "outputs": [
    {
     "data": {
      "text/plain": [
       "(404710, 7988)"
      ]
     },
     "execution_count": 19,
     "metadata": {},
     "output_type": "execute_result"
    }
   ],
   "source": [
    "len(to.train), len(to.valid)"
   ]
  },
  {
   "cell_type": "code",
   "execution_count": 20,
   "id": "a3f09f59-91c2-4707-b853-351dea133a39",
   "metadata": {},
   "outputs": [
    {
     "data": {
      "text/html": [
       "<table border=\"1\" class=\"dataframe\">\n",
       "  <thead>\n",
       "    <tr style=\"text-align: right;\">\n",
       "      <th></th>\n",
       "      <th>UsageBand</th>\n",
       "      <th>fiModelDesc</th>\n",
       "      <th>fiBaseModel</th>\n",
       "      <th>fiSecondaryDesc</th>\n",
       "      <th>fiModelSeries</th>\n",
       "      <th>fiModelDescriptor</th>\n",
       "      <th>ProductSize</th>\n",
       "      <th>fiProductClassDesc</th>\n",
       "      <th>state</th>\n",
       "      <th>ProductGroup</th>\n",
       "      <th>ProductGroupDesc</th>\n",
       "      <th>Drive_System</th>\n",
       "      <th>Enclosure</th>\n",
       "      <th>Forks</th>\n",
       "      <th>Pad_Type</th>\n",
       "      <th>Ride_Control</th>\n",
       "      <th>Stick</th>\n",
       "      <th>Transmission</th>\n",
       "      <th>Turbocharged</th>\n",
       "      <th>Blade_Extension</th>\n",
       "      <th>Blade_Width</th>\n",
       "      <th>Enclosure_Type</th>\n",
       "      <th>Engine_Horsepower</th>\n",
       "      <th>Hydraulics</th>\n",
       "      <th>Pushblock</th>\n",
       "      <th>Ripper</th>\n",
       "      <th>Scarifier</th>\n",
       "      <th>Tip_Control</th>\n",
       "      <th>Tire_Size</th>\n",
       "      <th>Coupler</th>\n",
       "      <th>Coupler_System</th>\n",
       "      <th>Grouser_Tracks</th>\n",
       "      <th>Hydraulics_Flow</th>\n",
       "      <th>Track_Type</th>\n",
       "      <th>Undercarriage_Pad_Width</th>\n",
       "      <th>Stick_Length</th>\n",
       "      <th>Thumb</th>\n",
       "      <th>Pattern_Changer</th>\n",
       "      <th>Grouser_Type</th>\n",
       "      <th>Backhoe_Mounting</th>\n",
       "      <th>Blade_Type</th>\n",
       "      <th>Travel_Controls</th>\n",
       "      <th>Differential_Type</th>\n",
       "      <th>Steering_Controls</th>\n",
       "      <th>saleIs_month_end</th>\n",
       "      <th>saleIs_month_start</th>\n",
       "      <th>saleIs_quarter_end</th>\n",
       "      <th>saleIs_quarter_start</th>\n",
       "      <th>saleIs_year_end</th>\n",
       "      <th>saleIs_year_start</th>\n",
       "      <th>auctioneerID_na</th>\n",
       "      <th>MachineHoursCurrentMeter_na</th>\n",
       "      <th>SalesID</th>\n",
       "      <th>MachineID</th>\n",
       "      <th>ModelID</th>\n",
       "      <th>datasource</th>\n",
       "      <th>auctioneerID</th>\n",
       "      <th>YearMade</th>\n",
       "      <th>MachineHoursCurrentMeter</th>\n",
       "      <th>saleYear</th>\n",
       "      <th>saleMonth</th>\n",
       "      <th>saleWeek</th>\n",
       "      <th>saleDay</th>\n",
       "      <th>saleDayofweek</th>\n",
       "      <th>saleDayofyear</th>\n",
       "      <th>saleElapsed</th>\n",
       "      <th>SalePrice</th>\n",
       "    </tr>\n",
       "  </thead>\n",
       "  <tbody>\n",
       "    <tr>\n",
       "      <th>0</th>\n",
       "      <td>Low</td>\n",
       "      <td>521D</td>\n",
       "      <td>521</td>\n",
       "      <td>D</td>\n",
       "      <td>#na#</td>\n",
       "      <td>#na#</td>\n",
       "      <td>#na#</td>\n",
       "      <td>Wheel Loader - 110.0 to 120.0 Horsepower</td>\n",
       "      <td>Alabama</td>\n",
       "      <td>WL</td>\n",
       "      <td>Wheel Loader</td>\n",
       "      <td>#na#</td>\n",
       "      <td>EROPS w AC</td>\n",
       "      <td>None or Unspecified</td>\n",
       "      <td>#na#</td>\n",
       "      <td>None or Unspecified</td>\n",
       "      <td>#na#</td>\n",
       "      <td>#na#</td>\n",
       "      <td>#na#</td>\n",
       "      <td>#na#</td>\n",
       "      <td>#na#</td>\n",
       "      <td>#na#</td>\n",
       "      <td>#na#</td>\n",
       "      <td>2 Valve</td>\n",
       "      <td>#na#</td>\n",
       "      <td>#na#</td>\n",
       "      <td>#na#</td>\n",
       "      <td>#na#</td>\n",
       "      <td>None or Unspecified</td>\n",
       "      <td>None or Unspecified</td>\n",
       "      <td>#na#</td>\n",
       "      <td>#na#</td>\n",
       "      <td>#na#</td>\n",
       "      <td>#na#</td>\n",
       "      <td>#na#</td>\n",
       "      <td>#na#</td>\n",
       "      <td>#na#</td>\n",
       "      <td>#na#</td>\n",
       "      <td>#na#</td>\n",
       "      <td>#na#</td>\n",
       "      <td>#na#</td>\n",
       "      <td>#na#</td>\n",
       "      <td>Standard</td>\n",
       "      <td>Conventional</td>\n",
       "      <td>False</td>\n",
       "      <td>False</td>\n",
       "      <td>False</td>\n",
       "      <td>False</td>\n",
       "      <td>False</td>\n",
       "      <td>False</td>\n",
       "      <td>False</td>\n",
       "      <td>False</td>\n",
       "      <td>1139246</td>\n",
       "      <td>999089</td>\n",
       "      <td>3157</td>\n",
       "      <td>121</td>\n",
       "      <td>3.0</td>\n",
       "      <td>2004</td>\n",
       "      <td>68.0</td>\n",
       "      <td>2006</td>\n",
       "      <td>11</td>\n",
       "      <td>46</td>\n",
       "      <td>16</td>\n",
       "      <td>3</td>\n",
       "      <td>320</td>\n",
       "      <td>1.163635e+09</td>\n",
       "      <td>11.097410</td>\n",
       "    </tr>\n",
       "    <tr>\n",
       "      <th>1</th>\n",
       "      <td>Low</td>\n",
       "      <td>950FII</td>\n",
       "      <td>950</td>\n",
       "      <td>F</td>\n",
       "      <td>II</td>\n",
       "      <td>#na#</td>\n",
       "      <td>Medium</td>\n",
       "      <td>Wheel Loader - 150.0 to 175.0 Horsepower</td>\n",
       "      <td>North Carolina</td>\n",
       "      <td>WL</td>\n",
       "      <td>Wheel Loader</td>\n",
       "      <td>#na#</td>\n",
       "      <td>EROPS w AC</td>\n",
       "      <td>None or Unspecified</td>\n",
       "      <td>#na#</td>\n",
       "      <td>None or Unspecified</td>\n",
       "      <td>#na#</td>\n",
       "      <td>#na#</td>\n",
       "      <td>#na#</td>\n",
       "      <td>#na#</td>\n",
       "      <td>#na#</td>\n",
       "      <td>#na#</td>\n",
       "      <td>#na#</td>\n",
       "      <td>2 Valve</td>\n",
       "      <td>#na#</td>\n",
       "      <td>#na#</td>\n",
       "      <td>#na#</td>\n",
       "      <td>#na#</td>\n",
       "      <td>23.5</td>\n",
       "      <td>None or Unspecified</td>\n",
       "      <td>#na#</td>\n",
       "      <td>#na#</td>\n",
       "      <td>#na#</td>\n",
       "      <td>#na#</td>\n",
       "      <td>#na#</td>\n",
       "      <td>#na#</td>\n",
       "      <td>#na#</td>\n",
       "      <td>#na#</td>\n",
       "      <td>#na#</td>\n",
       "      <td>#na#</td>\n",
       "      <td>#na#</td>\n",
       "      <td>#na#</td>\n",
       "      <td>Standard</td>\n",
       "      <td>Conventional</td>\n",
       "      <td>False</td>\n",
       "      <td>False</td>\n",
       "      <td>False</td>\n",
       "      <td>False</td>\n",
       "      <td>False</td>\n",
       "      <td>False</td>\n",
       "      <td>False</td>\n",
       "      <td>False</td>\n",
       "      <td>1139248</td>\n",
       "      <td>117657</td>\n",
       "      <td>77</td>\n",
       "      <td>121</td>\n",
       "      <td>3.0</td>\n",
       "      <td>1996</td>\n",
       "      <td>4640.0</td>\n",
       "      <td>2004</td>\n",
       "      <td>3</td>\n",
       "      <td>13</td>\n",
       "      <td>26</td>\n",
       "      <td>4</td>\n",
       "      <td>86</td>\n",
       "      <td>1.080259e+09</td>\n",
       "      <td>10.950807</td>\n",
       "    </tr>\n",
       "    <tr>\n",
       "      <th>2</th>\n",
       "      <td>High</td>\n",
       "      <td>226</td>\n",
       "      <td>226</td>\n",
       "      <td>#na#</td>\n",
       "      <td>#na#</td>\n",
       "      <td>#na#</td>\n",
       "      <td>#na#</td>\n",
       "      <td>Skid Steer Loader - 1351.0 to 1601.0 Lb Operating Capacity</td>\n",
       "      <td>New York</td>\n",
       "      <td>SSL</td>\n",
       "      <td>Skid Steer Loaders</td>\n",
       "      <td>#na#</td>\n",
       "      <td>OROPS</td>\n",
       "      <td>None or Unspecified</td>\n",
       "      <td>#na#</td>\n",
       "      <td>#na#</td>\n",
       "      <td>#na#</td>\n",
       "      <td>#na#</td>\n",
       "      <td>#na#</td>\n",
       "      <td>#na#</td>\n",
       "      <td>#na#</td>\n",
       "      <td>#na#</td>\n",
       "      <td>#na#</td>\n",
       "      <td>Auxiliary</td>\n",
       "      <td>#na#</td>\n",
       "      <td>#na#</td>\n",
       "      <td>#na#</td>\n",
       "      <td>#na#</td>\n",
       "      <td>#na#</td>\n",
       "      <td>None or Unspecified</td>\n",
       "      <td>None or Unspecified</td>\n",
       "      <td>None or Unspecified</td>\n",
       "      <td>Standard</td>\n",
       "      <td>#na#</td>\n",
       "      <td>#na#</td>\n",
       "      <td>#na#</td>\n",
       "      <td>#na#</td>\n",
       "      <td>#na#</td>\n",
       "      <td>#na#</td>\n",
       "      <td>#na#</td>\n",
       "      <td>#na#</td>\n",
       "      <td>#na#</td>\n",
       "      <td>#na#</td>\n",
       "      <td>#na#</td>\n",
       "      <td>False</td>\n",
       "      <td>False</td>\n",
       "      <td>False</td>\n",
       "      <td>False</td>\n",
       "      <td>False</td>\n",
       "      <td>False</td>\n",
       "      <td>False</td>\n",
       "      <td>False</td>\n",
       "      <td>1139249</td>\n",
       "      <td>434808</td>\n",
       "      <td>7009</td>\n",
       "      <td>121</td>\n",
       "      <td>3.0</td>\n",
       "      <td>2001</td>\n",
       "      <td>2838.0</td>\n",
       "      <td>2004</td>\n",
       "      <td>2</td>\n",
       "      <td>9</td>\n",
       "      <td>26</td>\n",
       "      <td>3</td>\n",
       "      <td>57</td>\n",
       "      <td>1.077754e+09</td>\n",
       "      <td>9.210340</td>\n",
       "    </tr>\n",
       "  </tbody>\n",
       "</table>"
      ],
      "text/plain": [
       "<IPython.core.display.HTML object>"
      ]
     },
     "metadata": {},
     "output_type": "display_data"
    }
   ],
   "source": [
    "to.show(3)"
   ]
  },
  {
   "cell_type": "code",
   "execution_count": 21,
   "id": "22001a46-0dd9-44a9-8de8-47aff4225895",
   "metadata": {},
   "outputs": [
    {
     "data": {
      "text/html": [
       "<div>\n",
       "<style scoped>\n",
       "    .dataframe tbody tr th:only-of-type {\n",
       "        vertical-align: middle;\n",
       "    }\n",
       "\n",
       "    .dataframe tbody tr th {\n",
       "        vertical-align: top;\n",
       "    }\n",
       "\n",
       "    .dataframe thead th {\n",
       "        text-align: right;\n",
       "    }\n",
       "</style>\n",
       "<table border=\"1\" class=\"dataframe\">\n",
       "  <thead>\n",
       "    <tr style=\"text-align: right;\">\n",
       "      <th></th>\n",
       "      <th>SalesID</th>\n",
       "      <th>SalePrice</th>\n",
       "      <th>MachineID</th>\n",
       "      <th>ModelID</th>\n",
       "      <th>...</th>\n",
       "      <th>saleIs_year_start</th>\n",
       "      <th>saleElapsed</th>\n",
       "      <th>auctioneerID_na</th>\n",
       "      <th>MachineHoursCurrentMeter_na</th>\n",
       "    </tr>\n",
       "  </thead>\n",
       "  <tbody>\n",
       "    <tr>\n",
       "      <th>0</th>\n",
       "      <td>1139246</td>\n",
       "      <td>11.097410</td>\n",
       "      <td>999089</td>\n",
       "      <td>3157</td>\n",
       "      <td>...</td>\n",
       "      <td>1</td>\n",
       "      <td>1.163635e+09</td>\n",
       "      <td>1</td>\n",
       "      <td>1</td>\n",
       "    </tr>\n",
       "    <tr>\n",
       "      <th>1</th>\n",
       "      <td>1139248</td>\n",
       "      <td>10.950807</td>\n",
       "      <td>117657</td>\n",
       "      <td>77</td>\n",
       "      <td>...</td>\n",
       "      <td>1</td>\n",
       "      <td>1.080259e+09</td>\n",
       "      <td>1</td>\n",
       "      <td>1</td>\n",
       "    </tr>\n",
       "    <tr>\n",
       "      <th>2</th>\n",
       "      <td>1139249</td>\n",
       "      <td>9.210340</td>\n",
       "      <td>434808</td>\n",
       "      <td>7009</td>\n",
       "      <td>...</td>\n",
       "      <td>1</td>\n",
       "      <td>1.077754e+09</td>\n",
       "      <td>1</td>\n",
       "      <td>1</td>\n",
       "    </tr>\n",
       "    <tr>\n",
       "      <th>3</th>\n",
       "      <td>1139251</td>\n",
       "      <td>10.558414</td>\n",
       "      <td>1026470</td>\n",
       "      <td>332</td>\n",
       "      <td>...</td>\n",
       "      <td>1</td>\n",
       "      <td>1.305763e+09</td>\n",
       "      <td>1</td>\n",
       "      <td>1</td>\n",
       "    </tr>\n",
       "    <tr>\n",
       "      <th>4</th>\n",
       "      <td>1139253</td>\n",
       "      <td>9.305651</td>\n",
       "      <td>1057373</td>\n",
       "      <td>17311</td>\n",
       "      <td>...</td>\n",
       "      <td>1</td>\n",
       "      <td>1.248307e+09</td>\n",
       "      <td>1</td>\n",
       "      <td>1</td>\n",
       "    </tr>\n",
       "  </tbody>\n",
       "</table>\n",
       "<p>5 rows × 67 columns</p>\n",
       "</div>"
      ],
      "text/plain": [
       "   SalesID  SalePrice  MachineID  ModelID  ...  saleIs_year_start  \\\n",
       "0  1139246  11.097410     999089     3157  ...                  1   \n",
       "1  1139248  10.950807     117657       77  ...                  1   \n",
       "2  1139249   9.210340     434808     7009  ...                  1   \n",
       "3  1139251  10.558414    1026470      332  ...                  1   \n",
       "4  1139253   9.305651    1057373    17311  ...                  1   \n",
       "\n",
       "    saleElapsed  auctioneerID_na  MachineHoursCurrentMeter_na  \n",
       "0  1.163635e+09                1                            1  \n",
       "1  1.080259e+09                1                            1  \n",
       "2  1.077754e+09                1                            1  \n",
       "3  1.305763e+09                1                            1  \n",
       "4  1.248307e+09                1                            1  \n",
       "\n",
       "[5 rows x 67 columns]"
      ]
     },
     "execution_count": 21,
     "metadata": {},
     "output_type": "execute_result"
    }
   ],
   "source": [
    "to.items.head()"
   ]
  },
  {
   "cell_type": "code",
   "execution_count": 22,
   "id": "6e1350bb-e42e-46bf-9f32-5605eb62982b",
   "metadata": {},
   "outputs": [
    {
     "data": {
      "text/plain": [
       "['#na#', 'Large', 'Large / Medium', 'Medium', 'Small', 'Mini', 'Compact']"
      ]
     },
     "execution_count": 22,
     "metadata": {},
     "output_type": "execute_result"
    }
   ],
   "source": [
    "to.classes['ProductSize']"
   ]
  },
  {
   "cell_type": "code",
   "execution_count": 23,
   "id": "e1057d3c-f5e4-4679-a876-99019e554607",
   "metadata": {},
   "outputs": [],
   "source": [
    "# saving the object in python's pickle system\n",
    "import pickle\n",
    "\n",
    "path = Path(path/'to.pkl')\n",
    "\n",
    "# Open the file in write-binary mode and save the object\n",
    "with path.open('wb') as file:\n",
    "    pickle.dump(to, file)"
   ]
  },
  {
   "cell_type": "code",
   "execution_count": 24,
   "id": "daefdb69-f42c-4721-9bcb-4601194bb44f",
   "metadata": {},
   "outputs": [],
   "source": [
    "with path.open('rb') as file:\n",
    "    to = pickle.load(file)"
   ]
  },
  {
   "cell_type": "code",
   "execution_count": 25,
   "id": "43bc7745-a59b-4d0a-be73-da0aeb296cc4",
   "metadata": {},
   "outputs": [],
   "source": [
    "## Creating The decision Tree\n",
    "xs, y = to.train.xs, to.train.y\n",
    "valid_xs, valid_y = to.valid.xs, to.valid.y"
   ]
  },
  {
   "cell_type": "code",
   "execution_count": 26,
   "id": "20a41dd7-0336-4733-acb9-4e8818c17428",
   "metadata": {},
   "outputs": [
    {
     "data": {
      "text/html": [
       "<style>#sk-container-id-1 {color: black;}#sk-container-id-1 pre{padding: 0;}#sk-container-id-1 div.sk-toggleable {background-color: white;}#sk-container-id-1 label.sk-toggleable__label {cursor: pointer;display: block;width: 100%;margin-bottom: 0;padding: 0.3em;box-sizing: border-box;text-align: center;}#sk-container-id-1 label.sk-toggleable__label-arrow:before {content: \"▸\";float: left;margin-right: 0.25em;color: #696969;}#sk-container-id-1 label.sk-toggleable__label-arrow:hover:before {color: black;}#sk-container-id-1 div.sk-estimator:hover label.sk-toggleable__label-arrow:before {color: black;}#sk-container-id-1 div.sk-toggleable__content {max-height: 0;max-width: 0;overflow: hidden;text-align: left;background-color: #f0f8ff;}#sk-container-id-1 div.sk-toggleable__content pre {margin: 0.2em;color: black;border-radius: 0.25em;background-color: #f0f8ff;}#sk-container-id-1 input.sk-toggleable__control:checked~div.sk-toggleable__content {max-height: 200px;max-width: 100%;overflow: auto;}#sk-container-id-1 input.sk-toggleable__control:checked~label.sk-toggleable__label-arrow:before {content: \"▾\";}#sk-container-id-1 div.sk-estimator input.sk-toggleable__control:checked~label.sk-toggleable__label {background-color: #d4ebff;}#sk-container-id-1 div.sk-label input.sk-toggleable__control:checked~label.sk-toggleable__label {background-color: #d4ebff;}#sk-container-id-1 input.sk-hidden--visually {border: 0;clip: rect(1px 1px 1px 1px);clip: rect(1px, 1px, 1px, 1px);height: 1px;margin: -1px;overflow: hidden;padding: 0;position: absolute;width: 1px;}#sk-container-id-1 div.sk-estimator {font-family: monospace;background-color: #f0f8ff;border: 1px dotted black;border-radius: 0.25em;box-sizing: border-box;margin-bottom: 0.5em;}#sk-container-id-1 div.sk-estimator:hover {background-color: #d4ebff;}#sk-container-id-1 div.sk-parallel-item::after {content: \"\";width: 100%;border-bottom: 1px solid gray;flex-grow: 1;}#sk-container-id-1 div.sk-label:hover label.sk-toggleable__label {background-color: #d4ebff;}#sk-container-id-1 div.sk-serial::before {content: \"\";position: absolute;border-left: 1px solid gray;box-sizing: border-box;top: 0;bottom: 0;left: 50%;z-index: 0;}#sk-container-id-1 div.sk-serial {display: flex;flex-direction: column;align-items: center;background-color: white;padding-right: 0.2em;padding-left: 0.2em;position: relative;}#sk-container-id-1 div.sk-item {position: relative;z-index: 1;}#sk-container-id-1 div.sk-parallel {display: flex;align-items: stretch;justify-content: center;background-color: white;position: relative;}#sk-container-id-1 div.sk-item::before, #sk-container-id-1 div.sk-parallel-item::before {content: \"\";position: absolute;border-left: 1px solid gray;box-sizing: border-box;top: 0;bottom: 0;left: 50%;z-index: -1;}#sk-container-id-1 div.sk-parallel-item {display: flex;flex-direction: column;z-index: 1;position: relative;background-color: white;}#sk-container-id-1 div.sk-parallel-item:first-child::after {align-self: flex-end;width: 50%;}#sk-container-id-1 div.sk-parallel-item:last-child::after {align-self: flex-start;width: 50%;}#sk-container-id-1 div.sk-parallel-item:only-child::after {width: 0;}#sk-container-id-1 div.sk-dashed-wrapped {border: 1px dashed gray;margin: 0 0.4em 0.5em 0.4em;box-sizing: border-box;padding-bottom: 0.4em;background-color: white;}#sk-container-id-1 div.sk-label label {font-family: monospace;font-weight: bold;display: inline-block;line-height: 1.2em;}#sk-container-id-1 div.sk-label-container {text-align: center;}#sk-container-id-1 div.sk-container {/* jupyter's `normalize.less` sets `[hidden] { display: none; }` but bootstrap.min.css set `[hidden] { display: none !important; }` so we also need the `!important` here to be able to override the default hidden behavior on the sphinx rendered scikit-learn.org. See: https://github.com/scikit-learn/scikit-learn/issues/21755 */display: inline-block !important;position: relative;}#sk-container-id-1 div.sk-text-repr-fallback {display: none;}</style><div id=\"sk-container-id-1\" class=\"sk-top-container\"><div class=\"sk-text-repr-fallback\"><pre>DecisionTreeRegressor(max_leaf_nodes=4)</pre><b>In a Jupyter environment, please rerun this cell to show the HTML representation or trust the notebook. <br />On GitHub, the HTML representation is unable to render, please try loading this page with nbviewer.org.</b></div><div class=\"sk-container\" hidden><div class=\"sk-item\"><div class=\"sk-estimator sk-toggleable\"><input class=\"sk-toggleable__control sk-hidden--visually\" id=\"sk-estimator-id-1\" type=\"checkbox\" checked><label for=\"sk-estimator-id-1\" class=\"sk-toggleable__label sk-toggleable__label-arrow\">DecisionTreeRegressor</label><div class=\"sk-toggleable__content\"><pre>DecisionTreeRegressor(max_leaf_nodes=4)</pre></div></div></div></div></div>"
      ],
      "text/plain": [
       "DecisionTreeRegressor(max_leaf_nodes=4)"
      ]
     },
     "execution_count": 26,
     "metadata": {},
     "output_type": "execute_result"
    }
   ],
   "source": [
    "from sklearn.tree import DecisionTreeRegressor\n",
    "m = DecisionTreeRegressor(max_leaf_nodes=4)\n",
    "m.fit(xs, y)"
   ]
  },
  {
   "cell_type": "code",
   "execution_count": 27,
   "id": "0ec51551-4d19-4aaf-89c4-fbfb8eb5a6b2",
   "metadata": {},
   "outputs": [
    {
     "data": {
      "image/svg+xml": [
       "<?xml version=\"1.0\" encoding=\"UTF-8\" standalone=\"no\"?>\n",
       "<!DOCTYPE svg PUBLIC \"-//W3C//DTD SVG 1.1//EN\"\n",
       " \"http://www.w3.org/Graphics/SVG/1.1/DTD/svg11.dtd\">\n",
       "<!-- Generated by graphviz version 7.1.0 (20230122.1345)\n",
       " -->\n",
       "<!-- Title: Tree Pages: 1 -->\n",
       "<svg width=\"504pt\" height=\"305pt\"\n",
       " viewBox=\"0.00 0.00 504.00 305.04\" xmlns=\"http://www.w3.org/2000/svg\" xmlns:xlink=\"http://www.w3.org/1999/xlink\">\n",
       "<g id=\"graph0\" class=\"graph\" transform=\"scale(0.698061 0.698061) rotate(0) translate(4 432.98)\">\n",
       "<title>Tree</title>\n",
       "<polygon fill=\"white\" stroke=\"none\" points=\"-4,4 -4,-432.98 718,-432.98 718,4 -4,4\"/>\n",
       "<!-- 0 -->\n",
       "<g id=\"node1\" class=\"node\">\n",
       "<title>0</title>\n",
       "<path fill=\"#eda775\" stroke=\"black\" d=\"M614,-424C614,-424 465,-424 465,-424 459,-424 453,-418 453,-412 453,-412 453,-368 453,-368 453,-362 459,-356 465,-356 465,-356 614,-356 614,-356 620,-356 626,-362 626,-368 626,-368 626,-412 626,-412 626,-418 620,-424 614,-424\"/>\n",
       "<text text-anchor=\"start\" x=\"461\" y=\"-408.8\" font-family=\"Helvetica,sans-Serif\" font-size=\"14.00\">Coupler_System ≤ 0.5</text>\n",
       "<text text-anchor=\"start\" x=\"465\" y=\"-393.8\" font-family=\"Helvetica,sans-Serif\" font-size=\"14.00\">squared_error = 0.48</text>\n",
       "<text text-anchor=\"start\" x=\"473\" y=\"-378.8\" font-family=\"Helvetica,sans-Serif\" font-size=\"14.00\">samples = 404710</text>\n",
       "<text text-anchor=\"start\" x=\"494\" y=\"-363.8\" font-family=\"Helvetica,sans-Serif\" font-size=\"14.00\">value = 10.1</text>\n",
       "</g>\n",
       "<!-- 1 -->\n",
       "<g id=\"node2\" class=\"node\">\n",
       "<title>1</title>\n",
       "<path fill=\"#eb9d64\" stroke=\"black\" d=\"M427,-304C427,-304 286,-304 286,-304 280,-304 274,-298 274,-292 274,-292 274,-248 274,-248 274,-242 280,-236 286,-236 286,-236 427,-236 427,-236 433,-236 439,-242 439,-248 439,-248 439,-292 439,-292 439,-298 433,-304 427,-304\"/>\n",
       "<text text-anchor=\"start\" x=\"287.5\" y=\"-288.8\" font-family=\"Helvetica,sans-Serif\" font-size=\"14.00\">YearMade ≤ 1991.5</text>\n",
       "<text text-anchor=\"start\" x=\"282\" y=\"-273.8\" font-family=\"Helvetica,sans-Serif\" font-size=\"14.00\">squared_error = 0.42</text>\n",
       "<text text-anchor=\"start\" x=\"290\" y=\"-258.8\" font-family=\"Helvetica,sans-Serif\" font-size=\"14.00\">samples = 360847</text>\n",
       "<text text-anchor=\"start\" x=\"306.5\" y=\"-243.8\" font-family=\"Helvetica,sans-Serif\" font-size=\"14.00\">value = 10.21</text>\n",
       "</g>\n",
       "<!-- 0&#45;&gt;1 -->\n",
       "<g id=\"edge1\" class=\"edge\">\n",
       "<title>0&#45;&gt;1</title>\n",
       "<path fill=\"none\" stroke=\"black\" d=\"M487.55,-355.5C465.82,-341.49 440.41,-325.1 417.77,-310.51\"/>\n",
       "<polygon fill=\"black\" stroke=\"black\" points=\"419.84,-307.68 409.54,-305.2 416.04,-313.56 419.84,-307.68\"/>\n",
       "<text text-anchor=\"middle\" x=\"413.54\" y=\"-325.11\" font-family=\"Helvetica,sans-Serif\" font-size=\"14.00\">True</text>\n",
       "</g>\n",
       "<!-- 2 -->\n",
       "<g id=\"node7\" class=\"node\">\n",
       "<title>2</title>\n",
       "<path fill=\"#ffffff\" stroke=\"black\" d=\"M702,-57.5C702,-57.5 561,-57.5 561,-57.5 555,-57.5 549,-51.5 549,-45.5 549,-45.5 549,-16.5 549,-16.5 549,-10.5 555,-4.5 561,-4.5 561,-4.5 702,-4.5 702,-4.5 708,-4.5 714,-10.5 714,-16.5 714,-16.5 714,-45.5 714,-45.5 714,-51.5 708,-57.5 702,-57.5\"/>\n",
       "<text text-anchor=\"start\" x=\"557\" y=\"-42.3\" font-family=\"Helvetica,sans-Serif\" font-size=\"14.00\">squared_error = 0.12</text>\n",
       "<text text-anchor=\"start\" x=\"569.5\" y=\"-27.3\" font-family=\"Helvetica,sans-Serif\" font-size=\"14.00\">samples = 43863</text>\n",
       "<text text-anchor=\"start\" x=\"586\" y=\"-12.3\" font-family=\"Helvetica,sans-Serif\" font-size=\"14.00\">value = 9.21</text>\n",
       "</g>\n",
       "<!-- 0&#45;&gt;2 -->\n",
       "<g id=\"edge6\" class=\"edge\">\n",
       "<title>0&#45;&gt;2</title>\n",
       "<path fill=\"none\" stroke=\"black\" d=\"M548.07,-355.73C565.31,-288.84 604.06,-138.47 622.03,-68.77\"/>\n",
       "<polygon fill=\"black\" stroke=\"black\" points=\"625.34,-69.93 624.45,-59.37 618.56,-68.18 625.34,-69.93\"/>\n",
       "<text text-anchor=\"middle\" x=\"637.53\" y=\"-75.73\" font-family=\"Helvetica,sans-Serif\" font-size=\"14.00\">False</text>\n",
       "</g>\n",
       "<!-- 3 -->\n",
       "<g id=\"node3\" class=\"node\">\n",
       "<title>3</title>\n",
       "<path fill=\"#f0b48a\" stroke=\"black\" d=\"M153,-57.5C153,-57.5 12,-57.5 12,-57.5 6,-57.5 0,-51.5 0,-45.5 0,-45.5 0,-16.5 0,-16.5 0,-10.5 6,-4.5 12,-4.5 12,-4.5 153,-4.5 153,-4.5 159,-4.5 165,-10.5 165,-16.5 165,-16.5 165,-45.5 165,-45.5 165,-51.5 159,-57.5 153,-57.5\"/>\n",
       "<text text-anchor=\"start\" x=\"8\" y=\"-42.3\" font-family=\"Helvetica,sans-Serif\" font-size=\"14.00\">squared_error = 0.37</text>\n",
       "<text text-anchor=\"start\" x=\"16\" y=\"-27.3\" font-family=\"Helvetica,sans-Serif\" font-size=\"14.00\">samples = 155724</text>\n",
       "<text text-anchor=\"start\" x=\"37\" y=\"-12.3\" font-family=\"Helvetica,sans-Serif\" font-size=\"14.00\">value = 9.97</text>\n",
       "</g>\n",
       "<!-- 1&#45;&gt;3 -->\n",
       "<g id=\"edge2\" class=\"edge\">\n",
       "<title>1&#45;&gt;3</title>\n",
       "<path fill=\"none\" stroke=\"black\" d=\"M317.82,-235.55C265.67,-190.44 173.34,-110.57 121.18,-65.46\"/>\n",
       "<polygon fill=\"black\" stroke=\"black\" points=\"123.54,-62.87 113.69,-58.98 118.97,-68.17 123.54,-62.87\"/>\n",
       "</g>\n",
       "<!-- 4 -->\n",
       "<g id=\"node4\" class=\"node\">\n",
       "<title>4</title>\n",
       "<path fill=\"#e78a48\" stroke=\"black\" d=\"M427,-184C427,-184 286,-184 286,-184 280,-184 274,-178 274,-172 274,-172 274,-128 274,-128 274,-122 280,-116 286,-116 286,-116 427,-116 427,-116 433,-116 439,-122 439,-128 439,-128 439,-172 439,-172 439,-178 433,-184 427,-184\"/>\n",
       "<text text-anchor=\"start\" x=\"294\" y=\"-168.8\" font-family=\"Helvetica,sans-Serif\" font-size=\"14.00\">ProductSize ≤ 4.5</text>\n",
       "<text text-anchor=\"start\" x=\"282\" y=\"-153.8\" font-family=\"Helvetica,sans-Serif\" font-size=\"14.00\">squared_error = 0.37</text>\n",
       "<text text-anchor=\"start\" x=\"290\" y=\"-138.8\" font-family=\"Helvetica,sans-Serif\" font-size=\"14.00\">samples = 205123</text>\n",
       "<text text-anchor=\"start\" x=\"311\" y=\"-123.8\" font-family=\"Helvetica,sans-Serif\" font-size=\"14.00\">value = 10.4</text>\n",
       "</g>\n",
       "<!-- 1&#45;&gt;4 -->\n",
       "<g id=\"edge3\" class=\"edge\">\n",
       "<title>1&#45;&gt;4</title>\n",
       "<path fill=\"none\" stroke=\"black\" d=\"M356.5,-235.5C356.5,-223.06 356.5,-208.76 356.5,-195.49\"/>\n",
       "<polygon fill=\"black\" stroke=\"black\" points=\"360,-195.69 356.5,-185.69 353,-195.69 360,-195.69\"/>\n",
       "</g>\n",
       "<!-- 5 -->\n",
       "<g id=\"node5\" class=\"node\">\n",
       "<title>5</title>\n",
       "<path fill=\"#e58139\" stroke=\"black\" d=\"M336,-57.5C336,-57.5 195,-57.5 195,-57.5 189,-57.5 183,-51.5 183,-45.5 183,-45.5 183,-16.5 183,-16.5 183,-10.5 189,-4.5 195,-4.5 195,-4.5 336,-4.5 336,-4.5 342,-4.5 348,-10.5 348,-16.5 348,-16.5 348,-45.5 348,-45.5 348,-51.5 342,-57.5 336,-57.5\"/>\n",
       "<text text-anchor=\"start\" x=\"191\" y=\"-42.3\" font-family=\"Helvetica,sans-Serif\" font-size=\"14.00\">squared_error = 0.31</text>\n",
       "<text text-anchor=\"start\" x=\"199\" y=\"-27.3\" font-family=\"Helvetica,sans-Serif\" font-size=\"14.00\">samples = 182403</text>\n",
       "<text text-anchor=\"start\" x=\"220\" y=\"-12.3\" font-family=\"Helvetica,sans-Serif\" font-size=\"14.00\">value = 10.5</text>\n",
       "</g>\n",
       "<!-- 4&#45;&gt;5 -->\n",
       "<g id=\"edge4\" class=\"edge\">\n",
       "<title>4&#45;&gt;5</title>\n",
       "<path fill=\"none\" stroke=\"black\" d=\"M330.67,-115.79C318.72,-100.42 304.53,-82.18 292.45,-66.65\"/>\n",
       "<polygon fill=\"black\" stroke=\"black\" points=\"295.44,-64.8 286.54,-59.05 289.92,-69.09 295.44,-64.8\"/>\n",
       "</g>\n",
       "<!-- 6 -->\n",
       "<g id=\"node6\" class=\"node\">\n",
       "<title>6</title>\n",
       "<path fill=\"#f7d6bf\" stroke=\"black\" d=\"M519,-57.5C519,-57.5 378,-57.5 378,-57.5 372,-57.5 366,-51.5 366,-45.5 366,-45.5 366,-16.5 366,-16.5 366,-10.5 372,-4.5 378,-4.5 378,-4.5 519,-4.5 519,-4.5 525,-4.5 531,-10.5 531,-16.5 531,-16.5 531,-45.5 531,-45.5 531,-51.5 525,-57.5 519,-57.5\"/>\n",
       "<text text-anchor=\"start\" x=\"374\" y=\"-42.3\" font-family=\"Helvetica,sans-Serif\" font-size=\"14.00\">squared_error = 0.17</text>\n",
       "<text text-anchor=\"start\" x=\"386.5\" y=\"-27.3\" font-family=\"Helvetica,sans-Serif\" font-size=\"14.00\">samples = 22720</text>\n",
       "<text text-anchor=\"start\" x=\"403\" y=\"-12.3\" font-family=\"Helvetica,sans-Serif\" font-size=\"14.00\">value = 9.62</text>\n",
       "</g>\n",
       "<!-- 4&#45;&gt;6 -->\n",
       "<g id=\"edge5\" class=\"edge\">\n",
       "<title>4&#45;&gt;6</title>\n",
       "<path fill=\"none\" stroke=\"black\" d=\"M382.62,-115.79C394.7,-100.42 409.04,-82.18 421.26,-66.65\"/>\n",
       "<polygon fill=\"black\" stroke=\"black\" points=\"423.8,-69.07 427.23,-59.05 418.3,-64.74 423.8,-69.07\"/>\n",
       "</g>\n",
       "</g>\n",
       "</svg>\n"
      ],
      "text/plain": [
       "<graphviz.sources.Source at 0x7fe8bc3a4550>"
      ]
     },
     "execution_count": 27,
     "metadata": {},
     "output_type": "execute_result"
    }
   ],
   "source": [
    "draw_tree(m, xs, size=7, leaves_parallel=True, precision=2)"
   ]
  },
  {
   "cell_type": "code",
   "execution_count": 32,
   "id": "40ea1e6c-9597-4a1a-8b9f-b14f58e9c5d9",
   "metadata": {},
   "outputs": [
    {
     "name": "stdout",
     "output_type": "stream",
     "text": [
      "Requirement already satisfied: dtreeviz in /home/agastya/mambaforge/lib/python3.10/site-packages (2.2.2)\n",
      "Requirement already satisfied: graphviz in /home/agastya/mambaforge/lib/python3.10/site-packages (0.20.1)\n",
      "Requirement already satisfied: pandas in /home/agastya/mambaforge/lib/python3.10/site-packages (from dtreeviz) (2.1.1)\n",
      "Requirement already satisfied: numpy in /home/agastya/mambaforge/lib/python3.10/site-packages (from dtreeviz) (1.26.4)\n",
      "Requirement already satisfied: scikit-learn in /home/agastya/mambaforge/lib/python3.10/site-packages (from dtreeviz) (1.3.1)\n",
      "Requirement already satisfied: matplotlib in /home/agastya/mambaforge/lib/python3.10/site-packages (from dtreeviz) (3.8.0)\n",
      "Requirement already satisfied: colour in /home/agastya/mambaforge/lib/python3.10/site-packages (from dtreeviz) (0.1.5)\n",
      "Requirement already satisfied: pytest in /home/agastya/mambaforge/lib/python3.10/site-packages (from dtreeviz) (8.2.2)\n",
      "Requirement already satisfied: contourpy>=1.0.1 in /home/agastya/mambaforge/lib/python3.10/site-packages (from matplotlib->dtreeviz) (1.2.1)\n",
      "Requirement already satisfied: cycler>=0.10 in /home/agastya/mambaforge/lib/python3.10/site-packages (from matplotlib->dtreeviz) (0.11.0)\n",
      "Requirement already satisfied: fonttools>=4.22.0 in /home/agastya/mambaforge/lib/python3.10/site-packages (from matplotlib->dtreeviz) (4.42.1)\n",
      "Requirement already satisfied: kiwisolver>=1.0.1 in /home/agastya/mambaforge/lib/python3.10/site-packages (from matplotlib->dtreeviz) (1.4.5)\n",
      "Requirement already satisfied: packaging>=20.0 in /home/agastya/mambaforge/lib/python3.10/site-packages (from matplotlib->dtreeviz) (24.0)\n",
      "Requirement already satisfied: pillow>=6.2.0 in /home/agastya/mambaforge/lib/python3.10/site-packages (from matplotlib->dtreeviz) (9.4.0)\n",
      "Requirement already satisfied: pyparsing>=2.3.1 in /home/agastya/mambaforge/lib/python3.10/site-packages (from matplotlib->dtreeviz) (3.1.1)\n",
      "Requirement already satisfied: python-dateutil>=2.7 in /home/agastya/mambaforge/lib/python3.10/site-packages (from matplotlib->dtreeviz) (2.9.0)\n",
      "Requirement already satisfied: pytz>=2020.1 in /home/agastya/mambaforge/lib/python3.10/site-packages (from pandas->dtreeviz) (2024.1)\n",
      "Requirement already satisfied: tzdata>=2022.1 in /home/agastya/mambaforge/lib/python3.10/site-packages (from pandas->dtreeviz) (2023.3)\n",
      "Requirement already satisfied: iniconfig in /home/agastya/mambaforge/lib/python3.10/site-packages (from pytest->dtreeviz) (2.0.0)\n",
      "Requirement already satisfied: pluggy<2.0,>=1.5 in /home/agastya/mambaforge/lib/python3.10/site-packages (from pytest->dtreeviz) (1.5.0)\n",
      "Requirement already satisfied: exceptiongroup>=1.0.0rc8 in /home/agastya/mambaforge/lib/python3.10/site-packages (from pytest->dtreeviz) (1.2.0)\n",
      "Requirement already satisfied: tomli>=1 in /home/agastya/mambaforge/lib/python3.10/site-packages (from pytest->dtreeviz) (2.0.1)\n",
      "Requirement already satisfied: scipy>=1.5.0 in /home/agastya/mambaforge/lib/python3.10/site-packages (from scikit-learn->dtreeviz) (1.11.2)\n",
      "Requirement already satisfied: joblib>=1.1.1 in /home/agastya/mambaforge/lib/python3.10/site-packages (from scikit-learn->dtreeviz) (1.3.2)\n",
      "Requirement already satisfied: threadpoolctl>=2.0.0 in /home/agastya/mambaforge/lib/python3.10/site-packages (from scikit-learn->dtreeviz) (3.2.0)\n",
      "Requirement already satisfied: six>=1.5 in /home/agastya/mambaforge/lib/python3.10/site-packages (from python-dateutil>=2.7->matplotlib->dtreeviz) (1.16.0)\n"
     ]
    }
   ],
   "source": [
    "!pip install dtreeviz graphviz"
   ]
  },
  {
   "cell_type": "code",
   "execution_count": 59,
   "id": "2a6b12f0-4662-4ac1-a6e5-90a5060837a8",
   "metadata": {},
   "outputs": [
    {
     "name": "stderr",
     "output_type": "stream",
     "text": [
      "UsageError: Line magic function `%skip` not found.\n"
     ]
    }
   ],
   "source": [
    "%%skip\n",
    "import dtreeviz\n",
    "samp_idx = np.random.permutation(len(y))[:500]\n",
    "\n",
    "viz_model = dtreeviz.model(m, xs.iloc[samp_idx], y.iloc[samp_idx], xs.columns, dep_var)\n",
    "print(viz_model.feature())\n",
    "\n",
    "samp_idx = np.random.permutation(len(y))[:500]\n",
    "viz_model.view(fontname='DejaVu Sans', scale=1.6, label_fontsize=10,\n",
    "        orientation='LR')\n"
   ]
  },
  {
   "cell_type": "code",
   "execution_count": 30,
   "id": "4f6c8a57-ed94-45d5-a623-7787685e54bb",
   "metadata": {},
   "outputs": [],
   "source": [
    "# Readjusting the year made\n",
    "xs.loc[xs['YearMade']<1900, 'YearMade'] = 1950\n",
    "valid_xs.loc[valid_xs['YearMade']<1900, 'YearMade'] = 1950"
   ]
  },
  {
   "cell_type": "code",
   "execution_count": 62,
   "id": "df673590-45ee-4754-bb30-92a6a943bfb5",
   "metadata": {},
   "outputs": [],
   "source": [
    "m = DecisionTreeRegressor(max_leaf_nodes=4).fit(xs, y)"
   ]
  },
  {
   "cell_type": "code",
   "execution_count": 61,
   "id": "e2030335-c9d0-4695-9fcf-c850fcb6777b",
   "metadata": {},
   "outputs": [
    {
     "name": "stderr",
     "output_type": "stream",
     "text": [
      "UsageError: Cell magic `%%skip` not found.\n"
     ]
    }
   ],
   "source": [
    "%%skip\n",
    "dtreeviz(m, xs.iloc[samp_idx], y.iloc[samp_idx], xs.columns, dep_var,\n",
    "        fontname='DejaVu Sans', scale=1.6, label_fontsize=10,\n",
    "        orientation='LR')\n",
    "     "
   ]
  },
  {
   "cell_type": "markdown",
   "id": "8bc85f71-c380-48cc-936f-d8b8e8c5f95f",
   "metadata": {},
   "source": [
    "## Building larger Tree\n",
    "- With no stopping criteria"
   ]
  },
  {
   "cell_type": "code",
   "execution_count": 65,
   "id": "cf5a15e4-7cca-481c-bca3-e0ed64de59c2",
   "metadata": {},
   "outputs": [
    {
     "data": {
      "text/html": [
       "<style>#sk-container-id-3 {color: black;}#sk-container-id-3 pre{padding: 0;}#sk-container-id-3 div.sk-toggleable {background-color: white;}#sk-container-id-3 label.sk-toggleable__label {cursor: pointer;display: block;width: 100%;margin-bottom: 0;padding: 0.3em;box-sizing: border-box;text-align: center;}#sk-container-id-3 label.sk-toggleable__label-arrow:before {content: \"▸\";float: left;margin-right: 0.25em;color: #696969;}#sk-container-id-3 label.sk-toggleable__label-arrow:hover:before {color: black;}#sk-container-id-3 div.sk-estimator:hover label.sk-toggleable__label-arrow:before {color: black;}#sk-container-id-3 div.sk-toggleable__content {max-height: 0;max-width: 0;overflow: hidden;text-align: left;background-color: #f0f8ff;}#sk-container-id-3 div.sk-toggleable__content pre {margin: 0.2em;color: black;border-radius: 0.25em;background-color: #f0f8ff;}#sk-container-id-3 input.sk-toggleable__control:checked~div.sk-toggleable__content {max-height: 200px;max-width: 100%;overflow: auto;}#sk-container-id-3 input.sk-toggleable__control:checked~label.sk-toggleable__label-arrow:before {content: \"▾\";}#sk-container-id-3 div.sk-estimator input.sk-toggleable__control:checked~label.sk-toggleable__label {background-color: #d4ebff;}#sk-container-id-3 div.sk-label input.sk-toggleable__control:checked~label.sk-toggleable__label {background-color: #d4ebff;}#sk-container-id-3 input.sk-hidden--visually {border: 0;clip: rect(1px 1px 1px 1px);clip: rect(1px, 1px, 1px, 1px);height: 1px;margin: -1px;overflow: hidden;padding: 0;position: absolute;width: 1px;}#sk-container-id-3 div.sk-estimator {font-family: monospace;background-color: #f0f8ff;border: 1px dotted black;border-radius: 0.25em;box-sizing: border-box;margin-bottom: 0.5em;}#sk-container-id-3 div.sk-estimator:hover {background-color: #d4ebff;}#sk-container-id-3 div.sk-parallel-item::after {content: \"\";width: 100%;border-bottom: 1px solid gray;flex-grow: 1;}#sk-container-id-3 div.sk-label:hover label.sk-toggleable__label {background-color: #d4ebff;}#sk-container-id-3 div.sk-serial::before {content: \"\";position: absolute;border-left: 1px solid gray;box-sizing: border-box;top: 0;bottom: 0;left: 50%;z-index: 0;}#sk-container-id-3 div.sk-serial {display: flex;flex-direction: column;align-items: center;background-color: white;padding-right: 0.2em;padding-left: 0.2em;position: relative;}#sk-container-id-3 div.sk-item {position: relative;z-index: 1;}#sk-container-id-3 div.sk-parallel {display: flex;align-items: stretch;justify-content: center;background-color: white;position: relative;}#sk-container-id-3 div.sk-item::before, #sk-container-id-3 div.sk-parallel-item::before {content: \"\";position: absolute;border-left: 1px solid gray;box-sizing: border-box;top: 0;bottom: 0;left: 50%;z-index: -1;}#sk-container-id-3 div.sk-parallel-item {display: flex;flex-direction: column;z-index: 1;position: relative;background-color: white;}#sk-container-id-3 div.sk-parallel-item:first-child::after {align-self: flex-end;width: 50%;}#sk-container-id-3 div.sk-parallel-item:last-child::after {align-self: flex-start;width: 50%;}#sk-container-id-3 div.sk-parallel-item:only-child::after {width: 0;}#sk-container-id-3 div.sk-dashed-wrapped {border: 1px dashed gray;margin: 0 0.4em 0.5em 0.4em;box-sizing: border-box;padding-bottom: 0.4em;background-color: white;}#sk-container-id-3 div.sk-label label {font-family: monospace;font-weight: bold;display: inline-block;line-height: 1.2em;}#sk-container-id-3 div.sk-label-container {text-align: center;}#sk-container-id-3 div.sk-container {/* jupyter's `normalize.less` sets `[hidden] { display: none; }` but bootstrap.min.css set `[hidden] { display: none !important; }` so we also need the `!important` here to be able to override the default hidden behavior on the sphinx rendered scikit-learn.org. See: https://github.com/scikit-learn/scikit-learn/issues/21755 */display: inline-block !important;position: relative;}#sk-container-id-3 div.sk-text-repr-fallback {display: none;}</style><div id=\"sk-container-id-3\" class=\"sk-top-container\"><div class=\"sk-text-repr-fallback\"><pre>DecisionTreeRegressor()</pre><b>In a Jupyter environment, please rerun this cell to show the HTML representation or trust the notebook. <br />On GitHub, the HTML representation is unable to render, please try loading this page with nbviewer.org.</b></div><div class=\"sk-container\" hidden><div class=\"sk-item\"><div class=\"sk-estimator sk-toggleable\"><input class=\"sk-toggleable__control sk-hidden--visually\" id=\"sk-estimator-id-3\" type=\"checkbox\" checked><label for=\"sk-estimator-id-3\" class=\"sk-toggleable__label sk-toggleable__label-arrow\">DecisionTreeRegressor</label><div class=\"sk-toggleable__content\"><pre>DecisionTreeRegressor()</pre></div></div></div></div></div>"
      ],
      "text/plain": [
       "DecisionTreeRegressor()"
      ]
     },
     "execution_count": 65,
     "metadata": {},
     "output_type": "execute_result"
    }
   ],
   "source": [
    "m = DecisionTreeRegressor()\n",
    "m.fit(xs, y)"
   ]
  },
  {
   "cell_type": "code",
   "execution_count": 66,
   "id": "21322ee7-f1db-4a7b-b663-1e56f772d36a",
   "metadata": {},
   "outputs": [],
   "source": [
    "def r_mse(pred,y): return round(math.sqrt(((pred-y)**2).mean()), 6)\n",
    "def m_rmse(m, xs, y): return r_mse(m.predict(xs), y)"
   ]
  },
  {
   "cell_type": "code",
   "execution_count": 67,
   "id": "4a844980-56a9-4351-8b2a-ccd712d7b1a5",
   "metadata": {},
   "outputs": [
    {
     "data": {
      "text/plain": [
       "0.0"
      ]
     },
     "execution_count": 67,
     "metadata": {},
     "output_type": "execute_result"
    }
   ],
   "source": [
    "m_rmse(m, xs, y)"
   ]
  },
  {
   "cell_type": "code",
   "execution_count": 69,
   "id": "c30e71e4-de91-4e19-9503-3b61f5968963",
   "metadata": {},
   "outputs": [
    {
     "data": {
      "text/plain": [
       "0.335659"
      ]
     },
     "execution_count": 69,
     "metadata": {},
     "output_type": "execute_result"
    }
   ],
   "source": [
    "# Checking Accuracy on validation set\n",
    "m_rmse(m, valid_xs, valid_y)"
   ]
  },
  {
   "cell_type": "code",
   "execution_count": 70,
   "id": "8e113870-cab8-42ae-a5cc-ff8620573149",
   "metadata": {},
   "outputs": [
    {
     "data": {
      "text/plain": [
       "(324564, 404710)"
      ]
     },
     "execution_count": 70,
     "metadata": {},
     "output_type": "execute_result"
    }
   ],
   "source": [
    "m.get_n_leaves(), len(xs)"
   ]
  },
  {
   "cell_type": "markdown",
   "id": "4dbd632e-7290-493b-afdc-46ca4faf1270",
   "metadata": {},
   "source": [
    "We've got nearly as many leaf nodes as data points! Let's add Stop condition of min_sample_leaf = 25"
   ]
  },
  {
   "cell_type": "code",
   "execution_count": 71,
   "id": "0af4c967-4277-4f0c-8f25-a7b93c6be8c6",
   "metadata": {},
   "outputs": [
    {
     "data": {
      "text/plain": [
       "(0.248562, 0.323355)"
      ]
     },
     "execution_count": 71,
     "metadata": {},
     "output_type": "execute_result"
    }
   ],
   "source": [
    "m = DecisionTreeRegressor(min_samples_leaf=25)\n",
    "m.fit(to.train.xs, to.train.y)\n",
    "m_rmse(m, xs, y), m_rmse(m, valid_xs, valid_y)"
   ]
  },
  {
   "cell_type": "code",
   "execution_count": 73,
   "id": "47df9ced-5f19-4998-9326-39875b8821f0",
   "metadata": {},
   "outputs": [
    {
     "data": {
      "text/plain": [
       "12397"
      ]
     },
     "execution_count": 73,
     "metadata": {},
     "output_type": "execute_result"
    }
   ],
   "source": [
    "m.get_n_leaves()"
   ]
  },
  {
   "cell_type": "code",
   "execution_count": null,
   "id": "5c529264-73b3-4f9c-b483-328d88cb7177",
   "metadata": {},
   "outputs": [],
   "source": []
  }
 ],
 "metadata": {
  "kernelspec": {
   "display_name": "Python 3 (ipykernel)",
   "language": "python",
   "name": "python3"
  },
  "language_info": {
   "codemirror_mode": {
    "name": "ipython",
    "version": 3
   },
   "file_extension": ".py",
   "mimetype": "text/x-python",
   "name": "python",
   "nbconvert_exporter": "python",
   "pygments_lexer": "ipython3",
   "version": "3.10.14"
  }
 },
 "nbformat": 4,
 "nbformat_minor": 5
}
